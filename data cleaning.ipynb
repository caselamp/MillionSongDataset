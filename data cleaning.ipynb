{
 "cells": [
  {
   "cell_type": "code",
   "execution_count": 5,
   "metadata": {},
   "outputs": [],
   "source": [
    "import pandas as pd\n",
    "import re\n",
    "import numpy as np\n",
    "\n",
    "import chart_studio.plotly as py\n",
    "import plotly.graph_objs as go\n",
    "from plotly.subplots import make_subplots\n",
    "import plotly.express as px\n",
    "import chart_studio\n",
    "import warnings\n",
    "warnings.filterwarnings(\"ignore\")"
   ]
  },
  {
   "cell_type": "code",
   "execution_count": 6,
   "metadata": {},
   "outputs": [],
   "source": [
    "%matplotlib inline\n",
    "import matplotlib.pyplot as plt\n",
    "import seaborn as sns; sns.set()\n",
    "from sklearn.metrics import pairwise_distances"
   ]
  },
  {
   "cell_type": "code",
   "execution_count": 7,
   "metadata": {},
   "outputs": [],
   "source": [
    "df = pd.read_csv(\"subset-compiled.csv\")"
   ]
  },
  {
   "cell_type": "code",
   "execution_count": 8,
   "metadata": {},
   "outputs": [
    {
     "data": {
      "text/html": [
       "<div>\n",
       "<style scoped>\n",
       "    .dataframe tbody tr th:only-of-type {\n",
       "        vertical-align: middle;\n",
       "    }\n",
       "\n",
       "    .dataframe tbody tr th {\n",
       "        vertical-align: top;\n",
       "    }\n",
       "\n",
       "    .dataframe thead th {\n",
       "        text-align: right;\n",
       "    }\n",
       "</style>\n",
       "<table border=\"1\" class=\"dataframe\">\n",
       "  <thead>\n",
       "    <tr style=\"text-align: right;\">\n",
       "      <th></th>\n",
       "      <th>analysis_sample_rate</th>\n",
       "      <th>artist_7digitalid</th>\n",
       "      <th>artist_familiarity</th>\n",
       "      <th>artist_hotttnesss</th>\n",
       "      <th>artist_id</th>\n",
       "      <th>artist_latitude</th>\n",
       "      <th>artist_location</th>\n",
       "      <th>artist_longitude</th>\n",
       "      <th>artist_mbid</th>\n",
       "      <th>artist_mbtags</th>\n",
       "      <th>...</th>\n",
       "      <th>start_of_fade_out</th>\n",
       "      <th>tatums_confidence</th>\n",
       "      <th>tatums_start</th>\n",
       "      <th>tempo</th>\n",
       "      <th>time_signature</th>\n",
       "      <th>time_signature_confidence</th>\n",
       "      <th>title</th>\n",
       "      <th>track_7digitalid</th>\n",
       "      <th>track_id</th>\n",
       "      <th>year</th>\n",
       "    </tr>\n",
       "  </thead>\n",
       "  <tbody>\n",
       "    <tr>\n",
       "      <td>0</td>\n",
       "      <td>22050</td>\n",
       "      <td>165270</td>\n",
       "      <td>0.581794</td>\n",
       "      <td>0.401998</td>\n",
       "      <td>b'ARD7TVE1187B99BFB1'</td>\n",
       "      <td>NaN</td>\n",
       "      <td>b'California - LA'</td>\n",
       "      <td>NaN</td>\n",
       "      <td>b'e77e51a5-4761-45b3-9847-2051f811e366'</td>\n",
       "      <td>(0,)</td>\n",
       "      <td>...</td>\n",
       "      <td>218.932</td>\n",
       "      <td>(688,)</td>\n",
       "      <td>(688,)</td>\n",
       "      <td>92.198</td>\n",
       "      <td>4</td>\n",
       "      <td>0.778</td>\n",
       "      <td>b\"I Didn't Mean To\"</td>\n",
       "      <td>3401791</td>\n",
       "      <td>b'TRAAAAW128F429D538'</td>\n",
       "      <td>0</td>\n",
       "    </tr>\n",
       "    <tr>\n",
       "      <td>1</td>\n",
       "      <td>22050</td>\n",
       "      <td>1998</td>\n",
       "      <td>0.630630</td>\n",
       "      <td>0.417500</td>\n",
       "      <td>b'ARMJAGH1187FB546F3'</td>\n",
       "      <td>35.14968</td>\n",
       "      <td>b'Memphis, TN'</td>\n",
       "      <td>-90.04892</td>\n",
       "      <td>b'1c78ab62-db33-4433-8d0b-7c8dcf1849c2'</td>\n",
       "      <td>(1,)</td>\n",
       "      <td>...</td>\n",
       "      <td>137.915</td>\n",
       "      <td>(591,)</td>\n",
       "      <td>(591,)</td>\n",
       "      <td>121.274</td>\n",
       "      <td>4</td>\n",
       "      <td>0.384</td>\n",
       "      <td>b'Soul Deep'</td>\n",
       "      <td>3400270</td>\n",
       "      <td>b'TRAAABD128F429CF47'</td>\n",
       "      <td>1969</td>\n",
       "    </tr>\n",
       "    <tr>\n",
       "      <td>2</td>\n",
       "      <td>22050</td>\n",
       "      <td>290021</td>\n",
       "      <td>0.487357</td>\n",
       "      <td>0.343428</td>\n",
       "      <td>b'ARKRRTF1187B9984DA'</td>\n",
       "      <td>NaN</td>\n",
       "      <td>b''</td>\n",
       "      <td>NaN</td>\n",
       "      <td>b'7a273984-edd9-4451-9c4d-39b38f05ebcd'</td>\n",
       "      <td>(0,)</td>\n",
       "      <td>...</td>\n",
       "      <td>172.304</td>\n",
       "      <td>(582,)</td>\n",
       "      <td>(582,)</td>\n",
       "      <td>100.070</td>\n",
       "      <td>1</td>\n",
       "      <td>0.000</td>\n",
       "      <td>b'Amor De Cabaret'</td>\n",
       "      <td>5703798</td>\n",
       "      <td>b'TRAAADZ128F9348C2E'</td>\n",
       "      <td>0</td>\n",
       "    </tr>\n",
       "    <tr>\n",
       "      <td>3</td>\n",
       "      <td>22050</td>\n",
       "      <td>19072</td>\n",
       "      <td>0.630382</td>\n",
       "      <td>0.454231</td>\n",
       "      <td>b'AR7G5I41187FB4CE6C'</td>\n",
       "      <td>NaN</td>\n",
       "      <td>b'London, England'</td>\n",
       "      <td>NaN</td>\n",
       "      <td>b'e188a520-9cb7-4f73-a3d7-2f70c6538e92'</td>\n",
       "      <td>(3,)</td>\n",
       "      <td>...</td>\n",
       "      <td>217.124</td>\n",
       "      <td>(924,)</td>\n",
       "      <td>(924,)</td>\n",
       "      <td>119.293</td>\n",
       "      <td>4</td>\n",
       "      <td>0.000</td>\n",
       "      <td>b'Something Girls'</td>\n",
       "      <td>3226795</td>\n",
       "      <td>b'TRAAAEF128F4273421'</td>\n",
       "      <td>1982</td>\n",
       "    </tr>\n",
       "    <tr>\n",
       "      <td>4</td>\n",
       "      <td>22050</td>\n",
       "      <td>30973</td>\n",
       "      <td>0.651046</td>\n",
       "      <td>0.401724</td>\n",
       "      <td>b'ARXR32B1187FB57099'</td>\n",
       "      <td>NaN</td>\n",
       "      <td>b''</td>\n",
       "      <td>NaN</td>\n",
       "      <td>b'c6903a2e-063c-4f91-a284-17b8f421be7b'</td>\n",
       "      <td>(0,)</td>\n",
       "      <td>...</td>\n",
       "      <td>198.699</td>\n",
       "      <td>(887,)</td>\n",
       "      <td>(887,)</td>\n",
       "      <td>129.738</td>\n",
       "      <td>4</td>\n",
       "      <td>0.562</td>\n",
       "      <td>b'Face the Ashes'</td>\n",
       "      <td>6795666</td>\n",
       "      <td>b'TRAAAFD128F92F423A'</td>\n",
       "      <td>2007</td>\n",
       "    </tr>\n",
       "  </tbody>\n",
       "</table>\n",
       "<p>5 rows × 54 columns</p>\n",
       "</div>"
      ],
      "text/plain": [
       "   analysis_sample_rate  artist_7digitalid  artist_familiarity  \\\n",
       "0                 22050             165270            0.581794   \n",
       "1                 22050               1998            0.630630   \n",
       "2                 22050             290021            0.487357   \n",
       "3                 22050              19072            0.630382   \n",
       "4                 22050              30973            0.651046   \n",
       "\n",
       "   artist_hotttnesss              artist_id  artist_latitude  \\\n",
       "0           0.401998  b'ARD7TVE1187B99BFB1'              NaN   \n",
       "1           0.417500  b'ARMJAGH1187FB546F3'         35.14968   \n",
       "2           0.343428  b'ARKRRTF1187B9984DA'              NaN   \n",
       "3           0.454231  b'AR7G5I41187FB4CE6C'              NaN   \n",
       "4           0.401724  b'ARXR32B1187FB57099'              NaN   \n",
       "\n",
       "      artist_location  artist_longitude  \\\n",
       "0  b'California - LA'               NaN   \n",
       "1      b'Memphis, TN'         -90.04892   \n",
       "2                 b''               NaN   \n",
       "3  b'London, England'               NaN   \n",
       "4                 b''               NaN   \n",
       "\n",
       "                               artist_mbid artist_mbtags  ...  \\\n",
       "0  b'e77e51a5-4761-45b3-9847-2051f811e366'          (0,)  ...   \n",
       "1  b'1c78ab62-db33-4433-8d0b-7c8dcf1849c2'          (1,)  ...   \n",
       "2  b'7a273984-edd9-4451-9c4d-39b38f05ebcd'          (0,)  ...   \n",
       "3  b'e188a520-9cb7-4f73-a3d7-2f70c6538e92'          (3,)  ...   \n",
       "4  b'c6903a2e-063c-4f91-a284-17b8f421be7b'          (0,)  ...   \n",
       "\n",
       "  start_of_fade_out tatums_confidence  tatums_start    tempo time_signature  \\\n",
       "0           218.932            (688,)        (688,)   92.198              4   \n",
       "1           137.915            (591,)        (591,)  121.274              4   \n",
       "2           172.304            (582,)        (582,)  100.070              1   \n",
       "3           217.124            (924,)        (924,)  119.293              4   \n",
       "4           198.699            (887,)        (887,)  129.738              4   \n",
       "\n",
       "  time_signature_confidence                title track_7digitalid  \\\n",
       "0                     0.778  b\"I Didn't Mean To\"          3401791   \n",
       "1                     0.384         b'Soul Deep'          3400270   \n",
       "2                     0.000   b'Amor De Cabaret'          5703798   \n",
       "3                     0.000   b'Something Girls'          3226795   \n",
       "4                     0.562    b'Face the Ashes'          6795666   \n",
       "\n",
       "                track_id  year  \n",
       "0  b'TRAAAAW128F429D538'     0  \n",
       "1  b'TRAAABD128F429CF47'  1969  \n",
       "2  b'TRAAADZ128F9348C2E'     0  \n",
       "3  b'TRAAAEF128F4273421'  1982  \n",
       "4  b'TRAAAFD128F92F423A'  2007  \n",
       "\n",
       "[5 rows x 54 columns]"
      ]
     },
     "execution_count": 8,
     "metadata": {},
     "output_type": "execute_result"
    }
   ],
   "source": [
    "df.head()"
   ]
  },
  {
   "cell_type": "code",
   "execution_count": 9,
   "metadata": {},
   "outputs": [],
   "source": [
    "for i in ['artist_name', 'release', 'title']:\n",
    "    for j in range(len(df[i])):\n",
    "        if df[i][j][0:2] == \"b'\":\n",
    "            temp = df.loc[j, i]\n",
    "            df.loc[j, i] = re.findall(r\"'(.*?)'\", temp)[0]\n",
    "        elif df[i][j][0:2] == 'b\"':\n",
    "            temp = df.loc[j, i]\n",
    "            df.loc[j, i] = re.findall(r\"[\\\"](.*?)[\\\"]\", temp)[0]"
   ]
  },
  {
   "cell_type": "code",
   "execution_count": 10,
   "metadata": {},
   "outputs": [],
   "source": [
    "cols = set(df.columns) - set(['artist_name', 'release', 'title'])\n",
    "for i in cols:\n",
    "    temp = str(df[i][0])\n",
    "    if temp[0] == \"b\":\n",
    "        df[i] = df[i].str.extract(r\"['\\\"](.*?)['\\\"]\")\n",
    "    if temp[0] == '(':\n",
    "        df[i] = df[i].str.extract(r'\\((.*?)\\,')"
   ]
  },
  {
   "cell_type": "code",
   "execution_count": 11,
   "metadata": {},
   "outputs": [],
   "source": [
    "df.loc[df.artist_playmeid == -1,'artist_playmeid'] = np.nan\n",
    "df.loc[df.year == 0,'year'] = np.nan"
   ]
  },
  {
   "cell_type": "code",
   "execution_count": 12,
   "metadata": {},
   "outputs": [],
   "source": [
    "#for i in df.artist_location:\n",
    "#    print(i.replace('-', ',').split(','))"
   ]
  },
  {
   "cell_type": "code",
   "execution_count": 4,
   "metadata": {},
   "outputs": [],
   "source": [
    "chart_studio.tools.set_credentials_file(username='yyyyyokoko', api_key='NoVGkxcKvi17mgozh7kJ', )\n",
    "chart_studio.tools.set_config_file(world_readable=True, sharing='public')\n"
   ]
  },
  {
   "cell_type": "code",
   "execution_count": 55,
   "metadata": {},
   "outputs": [],
   "source": [
    "map_df = df.loc[:, ['artist_latitude', 'artist_longitude', 'artist_familiarity', 'artist_name', 'artist_location']].dropna()"
   ]
  },
  {
   "cell_type": "code",
   "execution_count": 56,
   "metadata": {},
   "outputs": [
    {
     "data": {
      "application/vnd.plotly.v1+json": {
       "config": {
        "plotlyServerURL": "https://plot.ly"
       },
       "data": [
        {
         "customdata": [
          [
           "The Box Tops",
           "Memphis, TN"
          ],
          [
           "JennyAnyKind",
           "North Carolina"
          ],
          [
           "Blue Rodeo",
           "Toronto, Ontario, Canada"
          ],
          [
           "Richard Souther",
           "United States"
          ],
          [
           "Jimmy Wakely",
           "Mineola, AR"
          ],
          [
           "Alice Stuart",
           "Washington"
          ],
          [
           "Elena",
           "Dubai UAE"
          ],
          [
           "The Dillinger Escape Plan",
           "Morris Plains, NJ"
          ],
          [
           "SUE THOMPSON",
           "Nevada, MO"
          ],
          [
           "Tim Wilson",
           "Georgia"
          ],
          [
           "Willie Bobo",
           "New York, NY [Spanish Harlem]"
          ],
          [
           "Faye Adams",
           "Newark, NJ"
          ],
          [
           "Terry Callier",
           "Chicago"
          ],
          [
           "John Wesley",
           "Brandon"
          ],
          [
           "The Shangri-Las",
           "Queens, NY"
          ],
          [
           "Billie Jo Spears",
           "Beaumont, TX"
          ],
          [
           "Butthole Surfers",
           "San Antonio, TX"
          ],
          [
           "Scarlet's Remains",
           "California - LA"
          ],
          [
           "The Suicide Machines",
           "Detroit, MI"
          ],
          [
           "The Rolling Stones",
           "London, England"
          ],
          [
           "Loudon Wainwright III",
           "Chapel Hill, NC"
          ],
          [
           "R.L. Burnside",
           "Oxford, MS"
          ],
          [
           "Stevie Ray Vaughan",
           "Dallas, TX"
          ],
          [
           "Ec8or",
           "Berlin, Germany"
          ],
          [
           "Eliane Elias",
           "Sao Paulo, Brazil"
          ],
          [
           "The Germs",
           "Los Angeles, CA"
          ],
          [
           "Eurythmics",
           "London, England"
          ],
          [
           "Francis Dunnery",
           "Egremont, Cumbria, England"
          ],
          [
           "Suzanne Ciani",
           "California - SF"
          ],
          [
           "The Berzerker",
           "Melbourne, Australia"
          ],
          [
           "Kings Of Leon",
           "Nashville, Tennessee"
          ],
          [
           "Bruce Rowland",
           "AUSTRALIA"
          ],
          [
           "Heavy D / McGruff",
           "Jamaica, West Indies"
          ],
          [
           "Nine Inch Nails",
           "Cleveland, OH"
          ],
          [
           "Lesley Gore",
           "New York, NY"
          ],
          [
           "Emperor",
           "Norway"
          ],
          [
           "Julien Clerc",
           "FR"
          ],
          [
           "Glen Campbell",
           "Delight, AR"
          ],
          [
           "T.G. Sheppard",
           "Humboldt, TN"
          ],
          [
           "Slim Whitman",
           "Tampa, FL"
          ],
          [
           "Hank Penny & The Lincoln Penny Orchestra",
           "Birmingham, AL"
          ],
          [
           "Inspiral Carpets",
           "Manchester, England"
          ],
          [
           "Eddie Cantor",
           "New York, NY"
          ],
          [
           "Kai Winding",
           "Aarhus, Denmark"
          ],
          [
           "Sonny Simmons",
           "Sicily Island, LA"
          ],
          [
           "Ellen McIlwaine",
           "Nashville, TN"
          ],
          [
           "Vince Guaraldi / Bola Sete",
           "San Francisco, CA"
          ],
          [
           "Horace Andy",
           "Kingston, Jamaica"
          ],
          [
           "Tyrone Davis",
           "Greenville, MS"
          ],
          [
           "Hot Tuna",
           "San Francisco, CA"
          ],
          [
           "Richard Burton",
           "Pennsylvania"
          ],
          [
           "Rory Block",
           "New York, NY"
          ],
          [
           "Howard Armstrong",
           "Dayton, TN"
          ],
          [
           "Donny Hathaway",
           "Chicago, IL"
          ],
          [
           "Morel",
           "Washington DC"
          ],
          [
           "Tony Joe White",
           "Goodwill, LA"
          ],
          [
           "Bob Margolin",
           "Boston, MA"
          ],
          [
           "The Verve Pipe",
           "Lansing, MI"
          ],
          [
           "Bob Neuwirth",
           "New York"
          ],
          [
           "Marvin Sapp",
           "Grand Rapids, MI"
          ],
          [
           "James Hunter",
           "Austin"
          ],
          [
           "Maxi Priest",
           "Great Britain / UK"
          ],
          [
           "Robben Ford",
           "Ukiah, CA"
          ],
          [
           "Gil Semedo",
           "Netherlands"
          ],
          [
           "Dolce; Oscar G.",
           "Oklahoma"
          ],
          [
           "Britt Nicole",
           " NC"
          ],
          [
           "Enthroned",
           "Belgica -- Namur, Namur/Ghent, East Flanders"
          ],
          [
           "Suzanne Ciani",
           "California - SF"
          ],
          [
           "Rance Allen Group",
           "Detroit, MI"
          ],
          [
           "Pearl Jam",
           "Seattle, WA"
          ],
          [
           "Kiril Valeri",
           "Jerez De La Frontera (C\\xc3\\xa1diz)"
          ],
          [
           "BT",
           "Earth"
          ],
          [
           "The Jordanaires",
           "Springfield, MO"
          ],
          [
           "L.A. Guns",
           "katy"
          ],
          [
           "Shelley Fabares",
           "Santa Monica, CA"
          ],
          [
           "Norrie Paramor",
           "England"
          ],
          [
           "Diesel Boy",
           "Santa Rosa, California"
          ],
          [
           "Angelo Badalamenti",
           "New Jersey"
          ],
          [
           "Jim Chappell",
           "United States"
          ],
          [
           "Ladybug",
           "NY - New York City"
          ],
          [
           "Nine Inch Nails",
           "Cleveland, OH"
          ],
          [
           "Leland Martin",
           "Blandford, MA"
          ],
          [
           "Heaven 17",
           "London, England"
          ],
          [
           "Mance Lipscomb",
           "Navasota, TX"
          ],
          [
           "Scott Wesley Brown",
           "Atlanta Georgia USA"
          ],
          [
           "Soular",
           "Oregon"
          ],
          [
           "Public Image Ltd",
           "London, England"
          ],
          [
           "Gary Moore",
           "Belfast, Northern Ireland"
          ],
          [
           "Daniela Dess\\xc3\\xac",
           "Genova"
          ],
          [
           "Hem",
           "NY - New York City"
          ],
          [
           "Jason Miles",
           "NY - New York City"
          ],
          [
           "Byther Smith",
           "Monticello, MS"
          ],
          [
           "Bizarre Inc",
           "Stafford, England"
          ],
          [
           "Bongzilla",
           "Madison, Wisconsin"
          ],
          [
           "Laurindo Almeida / Carlos Barbosa-Lima / Charlie Byrd",
           "Sao Paulo, Brazil"
          ],
          [
           "Brian Keane",
           "Texas"
          ],
          [
           "Gloriana",
           "Nashville, TN."
          ],
          [
           "Grant Geissman",
           "PEARLINGTON, Mississippi"
          ],
          [
           "Orbital",
           "Sevenoaks, United Kingdom"
          ],
          [
           "N.W.A.",
           "Compton, California, USA."
          ],
          [
           "Jazz Gillum",
           "Indianola, MS"
          ],
          [
           "Agnes",
           "Sweden"
          ],
          [
           "James Horner",
           "Los Angeles, CA"
          ],
          [
           "Blind Blake & The Royal Victoria Hotel Calypsos",
           "Jacksonville, FL"
          ],
          [
           "Percy Faith",
           "Toronto, Ontario, Canada"
          ],
          [
           "Prozak",
           "London"
          ],
          [
           "Jerry Butler",
           "Sunflower, MS"
          ],
          [
           "Horace Andy",
           "Kingston, Jamaica"
          ],
          [
           "Jimmy Wakely",
           "Mineola, AR"
          ],
          [
           "Rah Digga (Featuring Outsidaz)",
           "New Jersey"
          ],
          [
           "Angelo Badalamenti",
           "New Jersey"
          ],
          [
           "Frank Chacksfield",
           "Battle, Sussex, England"
          ],
          [
           "Buzzhorn",
           "Milwaukee, WI"
          ],
          [
           "Sandi Thom",
           "Scotland"
          ],
          [
           "Carl Belew",
           "Salina, OK"
          ],
          [
           "Billy Higgins_ Bob Berg_ Cedar Walton_ Tony Dumas",
           "Los Angeles, CA"
          ],
          [
           "Catherine Howe",
           "Yorkshire, England"
          ],
          [
           "Strata",
           "Campbell, CA"
          ],
          [
           "James Darren",
           "Philadelphia, PA"
          ],
          [
           "The Shirelles",
           "Passaic, NJ"
          ],
          [
           "The American Boychoir",
           "New Jersey"
          ],
          [
           "Jan Howard",
           "West Plains, MO"
          ],
          [
           "Abraham Laboriel",
           "Mexico City, Mexico"
          ],
          [
           "Danny Wilson",
           "Dundee, Scotland"
          ],
          [
           "Lionel Rogg",
           "Geneva, Switzerland"
          ],
          [
           "SWAMI featuring Asuivre",
           "Birmingham/ London, UK"
          ],
          [
           "Lisa Lynne",
           "California - LA"
          ],
          [
           "Shawn Colvin",
           "Vermillion, SD"
          ],
          [
           "Backstreet Boys",
           "Orlando, FL"
          ],
          [
           "Tiny Tim",
           "New York, NY"
          ],
          [
           "David Martin",
           "California - SF"
          ],
          [
           "John Davis",
           "Pennsylvania"
          ],
          [
           "Trafik",
           "Utah"
          ],
          [
           "Nick Ingman;Gavyn Wright",
           "London, England"
          ],
          [
           "Steel Rain",
           "California - SF"
          ],
          [
           "Gloriana",
           "Nashville, TN."
          ],
          [
           "Bombay Rockers",
           "Denmark"
          ],
          [
           "Jinx",
           "Zagreb Croatia"
          ],
          [
           "Danilo Perez",
           "Panama"
          ],
          [
           "King Curtis",
           "Fort Worth, TX"
          ],
          [
           "Sophie B. Hawkins",
           "New York, NY [Manhattan]"
          ],
          [
           "Lupe Fiasco",
           "Chicago, IL"
          ],
          [
           "Bitter End",
           "Noci (BA)"
          ],
          [
           "Ethel Merman",
           "New York, NY [Astoria, Queens]"
          ],
          [
           "Leon Russell & New Grass Revival",
           "Lawton, OK"
          ],
          [
           "Lisa Lynne",
           "California - LA"
          ],
          [
           "A Static Lullaby",
           "Chino Hills, CA"
          ],
          [
           "John Wesley_ John Wesley",
           "Brandon"
          ],
          [
           "Nights Like These",
           "Memphis, TN"
          ],
          [
           "John Davis & Emma Doyle",
           "Pennsylvania"
          ],
          [
           "Stew",
           "New York"
          ],
          [
           "Eddy Arnold",
           "Madisonville, TN"
          ],
          [
           "Richard Galliano",
           "Le Cannet, France"
          ],
          [
           "Debbie Davies",
           "Los Angeles, CA"
          ],
          [
           "Jay Tee & Baby Bash",
           "California - SF"
          ],
          [
           "UFO",
           "Arizona"
          ],
          [
           "Pat Travers",
           "Toronto, Canada"
          ],
          [
           "Philippe Sarde",
           "Neuilly-sur-Seine, France"
          ],
          [
           "Orquesta Arag\\xc3\\xb3n",
           "Cuba"
          ],
          [
           "Jason Miles",
           "NY - New York City"
          ],
          [
           "VHS Or Beta",
           "Louisville, KY"
          ],
          [
           "Zuzu Bollin",
           "Frisco, TX"
          ],
          [
           "Marcus Miller",
           "Brooklyn, NY"
          ],
          [
           "Public Image Ltd",
           "London, England"
          ],
          [
           "Richard Galliano",
           "Le Cannet, France"
          ],
          [
           "Helen Love",
           "Cardiff, Wales"
          ],
          [
           "Pursuit Of Happiness",
           "Toronto, Ontario, Canada"
          ],
          [
           "Bobby Hutcherson",
           "Los Angeles, CA"
          ],
          [
           "The Pharcyde",
           "Los Angeles, CA"
          ],
          [
           "Jackie Edwards",
           "Jamaica"
          ],
          [
           "Richard Galliano",
           "Le Cannet, France"
          ],
          [
           "Leila Chicot",
           "FRANCE"
          ],
          [
           "The Pharcyde / Big Boy / Schmooche Cat / Randy Mack",
           "Los Angeles, CA"
          ],
          [
           "A Static Lullaby",
           "Chino Hills, CA"
          ],
          [
           "Scar Symmetry",
           "Sweden"
          ],
          [
           "Eighteen Visions",
           "Orange County, CA"
          ],
          [
           "Elmore James",
           "Richland, MS"
          ],
          [
           "Rising Lion",
           "Florida"
          ],
          [
           "Boots Randolph",
           "Paducah, KY"
          ],
          [
           "Bobbie Gentry",
           "Chickasaw County, MS"
          ],
          [
           "Creedence Clearwater Revived",
           "Lanciano Italy"
          ],
          [
           "B.A.D.",
           "London, England"
          ],
          [
           "Circular",
           "Bergen, Norway"
          ],
          [
           "The Bucketheads",
           "New York, NY"
          ],
          [
           "Kinky",
           "Monterrey, Nuevo Le\\xc3\\xb3n, M\\xc3\\xa9xico"
          ],
          [
           "Eddie Boyd",
           "Stovall, MS"
          ],
          [
           "Hatebreed",
           "New Haven, CT"
          ],
          [
           "J.J. Cale",
           "Oklahoma City, OK"
          ],
          [
           "Precious Bryant",
           "North Carolina"
          ],
          [
           "Kings Of Leon",
           "Nashville, Tennessee"
          ],
          [
           "Selena",
           "Texas"
          ],
          [
           "Claire Hamill",
           "UK - England - South East"
          ],
          [
           "Black Flag",
           "Los Angeles, CA"
          ],
          [
           "Mary Black",
           "Ireland"
          ],
          [
           "Bobby Bland",
           "Rosemark, TN"
          ],
          [
           "The Rascals",
           "New York, NY"
          ],
          [
           "Blind Blake",
           "Jacksonville, FL"
          ],
          [
           "Emilia",
           "Bridgeport, CT"
          ],
          [
           "C\\xc3\\xb3mplices",
           "ES"
          ],
          [
           "Emilio",
           "SAN ANTONIO, Texas"
          ],
          [
           "Turisas",
           "H\\xef\\xbf\\xbdenlinna, Finland"
          ],
          [
           "Justin",
           "Georgia"
          ],
          [
           "Little Freddie King",
           "Louisiana"
          ],
          [
           "Ms. Dynamite",
           "London"
          ],
          [
           "Selena",
           "Texas"
          ],
          [
           "John Brown",
           "North Carolina"
          ],
          [
           "Chaotica",
           "Arizona"
          ],
          [
           "Elvin Bishop",
           "Glendale, CA"
          ],
          [
           "Gordon Jenkins",
           "Webster Groves, MO"
          ],
          [
           "Neil Innes",
           "Essex, England"
          ],
          [
           "Marcus Miller",
           "Brooklyn, NY"
          ],
          [
           "Claire Hamill",
           "UK - England - South East"
          ],
          [
           "Alan Silvestri",
           "New York, NY"
          ],
          [
           "Byther Smith",
           "Monticello, MS"
          ],
          [
           "Donny Hathaway",
           "Chicago, IL"
          ],
          [
           "Chico",
           "Tennessee"
          ],
          [
           "KALIMBA",
           "Mexico City, Mexico"
          ],
          [
           "Architecture In Helsinki",
           "Melbourne"
          ],
          [
           "Bobby Darin",
           "New York, NY [The Bronx]"
          ],
          [
           "Ill Nino",
           "Nueva Jersey (Estados Unidos)"
          ],
          [
           "M.I.K.E.",
           "Antwerp,Belgium, New York"
          ],
          [
           "Willie Rosario",
           "Cuomo, Puerto Rico"
          ],
          [
           "The Red Telephone",
           "Mass. - Boston"
          ],
          [
           "T-Bone",
           "Thaba Nchu"
          ],
          [
           "The Radio Dept.",
           "Lund, Sweden"
          ],
          [
           "Becky Baeling",
           "Rochester, MI"
          ],
          [
           "Keb' Mo'",
           "Los Angeles, CA"
          ],
          [
           "THE CHIFFONS",
           "New York, NY [The Bronx]"
          ],
          [
           "Commissioned",
           "Michigan"
          ],
          [
           "Dee Clark",
           "Blythesville, AR"
          ],
          [
           "Cauterize",
           "Ohsawa, Ontario"
          ],
          [
           "Joi",
           "Georgia"
          ],
          [
           "Robben Ford",
           "Ukiah, CA"
          ],
          [
           "Bobby Vee",
           "Fargo, ND"
          ],
          [
           "Tora Tora",
           "Memphis, TN"
          ],
          [
           "Hot Chip",
           "London"
          ],
          [
           "Jeff Beck",
           "Wallington, Surrey, England"
          ],
          [
           "Taboo",
           "Cape Town, ZA"
          ],
          [
           "Ashes to Ashes",
           "NORWAY"
          ],
          [
           "Fudge Tunnel",
           "Nottingham"
          ],
          [
           "Edgar Bori",
           "Montreal"
          ],
          [
           "Jimmy Witherspoon",
           "Gurdon, AR"
          ],
          [
           "Eliane Elias",
           "Sao Paulo, Brazil"
          ],
          [
           "Dave Eggar",
           "California - LA"
          ],
          [
           "Donnie Brooks",
           "Dallas, Texas"
          ],
          [
           "2raumwohnung",
           "Berlin, Germany"
          ],
          [
           "Babylon Disco",
           "Karlstad"
          ],
          [
           "Dino",
           "Encino, CA"
          ],
          [
           "GG Allin",
           "Lancaster, NH"
          ],
          [
           "Buzzcocks",
           "London / Ex-Manchester"
          ],
          [
           "Stanley Clarke",
           "Philadelphia, PA"
          ],
          [
           "Jesse Malin and The St. Marks Social",
           "Whitestone, Queens, NY"
          ],
          [
           "Ma Rainey",
           "Columbus, GA"
          ],
          [
           "Christian McBride",
           "Philadelphia, PA"
          ],
          [
           "Jim Kweskin",
           "Stamford, CT"
          ],
          [
           "Muse",
           "UK"
          ],
          [
           "Enthroned",
           "Belgica -- Namur, Namur/Ghent, East Flanders"
          ],
          [
           "Jo-El Sonnier",
           "Rayne, LA"
          ],
          [
           "Vanessa Bell Armstrong",
           "Detroit, MI"
          ],
          [
           "Arthur Tracy",
           "Kamenetz-Podolsk, Moldavia"
          ],
          [
           "Angelo Badalamenti",
           "New Jersey"
          ],
          [
           "C.C. Adcock",
           "Louisiana"
          ],
          [
           "James Horner",
           "Los Angeles, CA"
          ],
          [
           "John Legend [feat. Buju Banton]",
           "Hawaii"
          ],
          [
           "Bury Your Dead",
           "Boston, Massachusetts"
          ],
          [
           "Our Time Down Here",
           "Great Britain / UK"
          ],
          [
           "Pee Wee King",
           "Milwaukee, WI"
          ],
          [
           "Les Blaireaux",
           "Lille (59)"
          ],
          [
           "Bersuit Vergarabat",
           "Buenos Aires"
          ],
          [
           "Baby Grand",
           "California"
          ],
          [
           "Roy Rogers",
           "Redding, CA"
          ],
          [
           "Reni",
           "Manchester, England"
          ],
          [
           "Falco",
           "Vienna, Austria"
          ],
          [
           "New Roanoke Jug Band",
           "Virginia"
          ],
          [
           "Dilated Peoples",
           "Los Angeles, California"
          ],
          [
           "Charles Williams",
           "Texas"
          ],
          [
           "Bob Wills",
           "Kosse, TX"
          ],
          [
           "David Martin",
           "California - SF"
          ],
          [
           "The Animals_ Sonny Boy Williamson",
           "Newcastle"
          ],
          [
           "T-Bone Walker",
           "Linden, TX"
          ],
          [
           "Walter Jackson",
           "Pensacola, FL"
          ],
          [
           "Justin",
           "Georgia"
          ],
          [
           "Bizzy Bone Presents",
           "Columbus, OH"
          ],
          [
           "Jerry Reed",
           "OCALA, Florida"
          ],
          [
           "Rui Da Silva",
           "London"
          ],
          [
           "Sister Rosetta Tharpe",
           "Cotton Plant, AR"
          ],
          [
           "Kris Kristofferson",
           "Brownsville, TX"
          ],
          [
           "Gary Moore",
           "Belfast, Northern Ireland"
          ],
          [
           "Maurane / Lara Fabian",
           "Ixelles, Belgium"
          ],
          [
           "Goatwhore",
           "New Orleans, LA"
          ],
          [
           "We Show Up On Radar",
           "nottingham"
          ],
          [
           "SUMO",
           "New Hampshire"
          ],
          [
           "Basic Channel",
           "Berlin, Germany"
          ],
          [
           "Tammy Wynette",
           "Itawamba County, MS"
          ],
          [
           "Whitesnake",
           "London, England"
          ],
          [
           "Chet Atkins",
           "Luttrell, TN"
          ],
          [
           "Terry Riley",
           "Colfax, CA"
          ],
          [
           "Luiz Bonfa",
           "Rio de Janeiro, Brazil"
          ],
          [
           "Chango Spasiuk",
           "Argentina"
          ],
          [
           "Charley Patton",
           "Edwards, MS"
          ],
          [
           "Yahir",
           "Hermosillo Sonora, Mexico"
          ],
          [
           "Jerry Goldsmith",
           "Los Angeles, CA"
          ],
          [
           "Papa Wemba",
           "Kasai, Zaire"
          ],
          [
           "Richard Galliano",
           "Le Cannet, France"
          ],
          [
           "Ten Years After",
           "Nottingham, England"
          ],
          [
           "Sweet",
           "London, England"
          ],
          [
           "Helen Love",
           "Cardiff, Wales"
          ],
          [
           "Ty Herndon;Stephanie Bentley",
           "Meridian, MS"
          ],
          [
           "Gary Morris",
           "Fort Worth, TX"
          ],
          [
           "Faye Adams",
           "Newark, NJ"
          ],
          [
           "Cali",
           "Vernet les Bains"
          ],
          [
           "Deborah Allen",
           "Memphis, TN"
          ],
          [
           "The Master Musicians of Jajouka featuring Bachir Attar",
           "London, England"
          ],
          [
           "John Holt",
           "Kingston, Jamaica"
          ],
          [
           "Tina Britt",
           "Florida"
          ],
          [
           "MxPx",
           "Bremerton, WA"
          ],
          [
           "C.J. Chenier",
           "Port Arthur, TX"
          ],
          [
           "J.J. Cale",
           "Oklahoma City, OK"
          ],
          [
           "Theodis Ealey",
           "Georgia"
          ],
          [
           "Janet Paschal",
           "North Carolina"
          ],
          [
           "Souls Of Mischief",
           "Oakland, CA"
          ],
          [
           "Steve Wilson",
           "Texas"
          ],
          [
           "Kris Kristofferson",
           "Brownsville, TX"
          ],
          [
           "Matisyahu",
           "Brooklyn, NY"
          ],
          [
           "Donny Hathaway",
           "Chicago, IL"
          ],
          [
           "Javier Mendoza Band",
           "United States"
          ],
          [
           "Sapo",
           "California - LA"
          ],
          [
           "Eddie Money",
           "Brooklyn, NY"
          ],
          [
           "Sade",
           "Ibadan, Nigeria"
          ],
          [
           "Elliot Goldenthal",
           "New York, NY"
          ],
          [
           "Delroy Wilson",
           "Kingston, Jamaica"
          ],
          [
           "Horace Andy",
           "Kingston, Jamaica"
          ],
          [
           "Los Van Van",
           "Cuba"
          ],
          [
           "Outerspace",
           "Philadelphia, PA"
          ],
          [
           "Stevie Ray Vaughan And Double Trouble",
           "Dallas, TX"
          ],
          [
           "The Creation",
           "Middlesex, England"
          ],
          [
           "The Balustrade Ensemble",
           "san francisco"
          ],
          [
           "The Box Tops",
           "Memphis, TN"
          ],
          [
           "Terry Callier",
           "Chicago"
          ],
          [
           "Ultimate Fakebook",
           "Manhattan, Kansas"
          ],
          [
           "Astarte",
           "Athens, Greece"
          ],
          [
           "Prisma",
           "Switzerland"
          ],
          [
           "Tommy James & The Shondells",
           "Dayton, OH"
          ],
          [
           "Marcus Miller",
           "Brooklyn, NY"
          ],
          [
           "Charles Williams",
           "Texas"
          ],
          [
           "Z.Z. Hill",
           "Naples, TX"
          ],
          [
           "John Michael Talbot",
           "Oklahoma City, OK"
          ],
          [
           "Britney Spears",
           "Kentwood, LA; Los Angeles, CA"
          ],
          [
           "Kix",
           "Hagerstown, MD"
          ],
          [
           "Slightly Stoopid",
           "Ocean Beach, San Diego, CA"
          ],
          [
           "Leroy Hutson",
           "Newark, NJ"
          ],
          [
           "Whitesnake",
           "London, England"
          ],
          [
           "Semisonic",
           "Minneapolis, MN"
          ],
          [
           "Laid Back",
           "Denmark"
          ],
          [
           "Willie Clayton",
           "Indianola, MS"
          ],
          [
           "Marlene Dietrich",
           "Sch\\xef\\xbf\\xbderg, Germany"
          ],
          [
           "Willie Clayton",
           "Indianola, MS"
          ],
          [
           "Cancer Bats",
           "Toronto, Ontario, Canada"
          ],
          [
           "Roy Rogers",
           "Redding, CA"
          ],
          [
           "Uman",
           "Belgium"
          ],
          [
           "Sophie Tucker",
           "Russia"
          ],
          [
           "Agency 1.9.9.4",
           "South Carolina"
          ],
          [
           "Blackalicious",
           "Davis, CA"
          ],
          [
           "Jenney",
           "Stockholm"
          ],
          [
           "Shamen",
           "Aberdeen, Scotland"
          ],
          [
           "Ray Boltz & Steve Millikan",
           "MUNCIE, Indiana"
          ],
          [
           "J. B. Lenoir",
           "Monticello, MS"
          ],
          [
           "Rihanna",
           "St Michael, Barbados "
          ],
          [
           "Fuzz",
           "Arizona"
          ],
          [
           "Republica;Jonny Male;Dave Arch",
           "London, England"
          ],
          [
           "Skrape",
           "Orlando, Florida"
          ],
          [
           "Pee Wee King",
           "Milwaukee, WI"
          ],
          [
           "Rancid",
           "Bay Area, CA"
          ],
          [
           "Primordial",
           "Dublin, Ireland"
          ],
          [
           "Bersuit Vergarabat",
           "Buenos Aires"
          ],
          [
           "NewFound Road",
           "Ohio"
          ],
          [
           "Ray Conniff",
           "Attleboro, MA"
          ],
          [
           "The High Strung",
           "Detroit, MI"
          ],
          [
           "Nic Endo",
           "Texas"
          ],
          [
           "Kim Wilson",
           "Detroit, MI"
          ],
          [
           "Suicidal Tendencies",
           "Venice, CA"
          ],
          [
           "Bobby Vee",
           "Fargo, ND"
          ],
          [
           "Jennifer Brown",
           "PLAINVIEW, Texas"
          ],
          [
           "The Kitchen",
           "CANADA - Ontario"
          ],
          [
           "Statues",
           "Sudbury, Ontario - Canada"
          ],
          [
           "Cam'Ron / JR Writer",
           "Harlem, NY"
          ],
          [
           "Cornell Campbell",
           "Jamaica"
          ],
          [
           "Little Feat",
           "Los Angeles, CA"
          ],
          [
           "Mikey Dread",
           "Jamaica"
          ],
          [
           "Death From Above 1979",
           "BA"
          ],
          [
           "Edmundo Ros",
           "Venezuela"
          ],
          [
           "The Antlers",
           "Brooklyn, NY"
          ],
          [
           "Lionel Rogg",
           "Geneva, Switzerland"
          ],
          [
           "Elliot Goldenthal",
           "New York, NY"
          ],
          [
           "John Brown",
           "North Carolina"
          ],
          [
           "Marilyn Horne / Wiener Opernorchester / Henry Lewis",
           "Great Britain / UK"
          ],
          [
           "James Scott Skinner",
           "Aberdeen, Scotland"
          ],
          [
           "Abraham Laboriel",
           "Mexico City, Mexico"
          ],
          [
           "Grupo Batuque",
           "Brazil"
          ],
          [
           "Sugar Minott",
           "Kingston, Jamaica"
          ],
          [
           "Mudhoney",
           "Seattle, WA"
          ],
          [
           "Dino",
           "Encino, CA"
          ],
          [
           "Open Hand",
           "Mass. - Boston"
          ],
          [
           "Pumpkin Buzzard",
           "Missouri"
          ],
          [
           "Sugar Minott",
           "Kingston, Jamaica"
          ],
          [
           "Marvin Sapp",
           "Grand Rapids, MI"
          ],
          [
           "Kartik Seshadri",
           "Kingston, Jamaica"
          ],
          [
           "Charlie Rich",
           "Benton, Arkansas"
          ],
          [
           "Kris Kristofferson",
           "Brownsville, TX"
          ],
          [
           "Bad Religion",
           "Los Angeles, Ca"
          ],
          [
           "Jackie Davis",
           "Jacksonville, FL"
          ],
          [
           "Shawn Colvin",
           "Vermillion, SD"
          ],
          [
           "Irwin Goodman",
           "H\\xc3\\xa4meenlinna"
          ],
          [
           "Pedro Aznar",
           "Buenos Aires, Argentina"
          ],
          [
           "Marty Robbins",
           "Glendale, AZ"
          ],
          [
           "Sugar Minott",
           "Kingston, Jamaica"
          ],
          [
           "Unison",
           "Florida"
          ],
          [
           "Alternative TV",
           "London, England"
          ],
          [
           "Mat Kearney",
           "Nashville, TN"
          ],
          [
           "Ronnie Milsap",
           "Robbinsville, NC"
          ],
          [
           "Irma Thomas",
           "Ponchatoula, LA"
          ],
          [
           "VHS Or Beta",
           "Louisville, KY"
          ],
          [
           "T.G. Sheppard",
           "Humboldt, TN"
          ],
          [
           "Clifton Chenier",
           "Opelousas, LA"
          ],
          [
           "Jimmy Cliff",
           "St. Catherine, Jamaica"
          ],
          [
           "The Forms",
           "Brooklyn, New York"
          ],
          [
           "Lionel Rogg",
           "Geneva, Switzerland"
          ],
          [
           "Connie Francis",
           "Newark, NJ"
          ],
          [
           "The Clancy Brothers",
           "Ireland"
          ],
          [
           "Ice-T & Chuck D",
           "New York, NY"
          ],
          [
           "Sweet",
           "London, England"
          ],
          [
           "Hot Tuna",
           "San Francisco, CA"
          ],
          [
           "Andre Verchuren",
           "Neuilly-sous-Clermont (Oise)"
          ],
          [
           "Scott Wesley Brown",
           "Atlanta Georgia USA"
          ],
          [
           "Tiny Tim",
           "New York, NY"
          ],
          [
           "At All Cost",
           "Austin, Texas"
          ],
          [
           "Shamen",
           "Aberdeen, Scotland"
          ],
          [
           "William Coulter",
           "California"
          ],
          [
           "Charles Williams And His Orchestra",
           "Texas"
          ],
          [
           "Malcolm McLaren",
           "Great Britain / UK"
          ],
          [
           "Avril Lavigne",
           "Belleville, Ontario, Canada"
          ],
          [
           "Bumblefoot",
           "New Jersey"
          ],
          [
           "Hem",
           "NY - New York City"
          ],
          [
           "The Shamen",
           "Aberdeen, Scotland"
          ],
          [
           "Jackie Edwards",
           "Jamaica"
          ],
          [
           "The Moody Blues",
           "Birmingham"
          ],
          [
           "Arturo Sandoval",
           "Artemisa, Cuba"
          ],
          [
           "Tommy Overstreet",
           "Oklahoma City, OK"
          ],
          [
           "Professor Longhair",
           "Bogalusa, LA"
          ],
          [
           "Black Flag",
           "Los Angeles, CA"
          ],
          [
           "Sivuca",
           "Itabaiana, Para\\xef\\xbf\\xbd, Brazil"
          ],
          [
           "Luis Alberto Spinetta",
           "Buenos Aires, Argentina"
          ],
          [
           "Blind Boy Fuller",
           "Wadesboro, NC"
          ],
          [
           "Sunscreem",
           "Essex, England"
          ],
          [
           "Robert Lockwood_ Jr.",
           "Marvell, AR"
          ],
          [
           "Muse",
           "UK"
          ],
          [
           "Jeremy Spencer",
           "West Hartlepool, England"
          ],
          [
           "Bob Margolin",
           "Boston, MA"
          ],
          [
           "Kingston Trio",
           "Palo Alto, CA"
          ],
          [
           "Little Eva",
           "Bellhaven, NC"
          ],
          [
           "Joe Turner",
           "Mississippi"
          ],
          [
           "Frank Chacksfield",
           "Battle, Sussex, England"
          ],
          [
           "David Bowie",
           "London, UK"
          ],
          [
           "Agnes",
           "Sweden"
          ],
          [
           "T.O.K.",
           "YAHD!"
          ],
          [
           "Leo Gandelman",
           "Rio de Janeiro, BR"
          ],
          [
           "Leon Russell",
           "Lawton, OK"
          ],
          [
           "Bill Laswell",
           "New York City (Salem, IL - originally)"
          ],
          [
           "Herbst9_ Z'ev",
           "L.E."
          ],
          [
           "Del Tha Funkee Homosapien",
           "Oakland, CA"
          ],
          [
           "Rihanna",
           "St Michael, Barbados "
          ],
          [
           "Britney Spears feat. Pharrell Williams",
           "Kentwood, LA; Los Angeles, CA"
          ],
          [
           "Britney Spears",
           "Kentwood, LA; Los Angeles, CA"
          ],
          [
           "Helmet",
           "New York"
          ],
          [
           "Martin Denny",
           "New York, NY"
          ],
          [
           "Ray Sandoval",
           "Tucson, Arizona"
          ],
          [
           "Shaman",
           "Brazil"
          ],
          [
           "Choir & Great Symphony Orchestra of the All-Union Radio_ N. Shpiller_ S. Krassovsky_ V. Gagarina & N",
           "Nashville, Franklin, Brentwood"
          ],
          [
           "Delbert McClinton",
           "Lubbock, TX"
          ],
          [
           "Rhian Benson",
           "Ghana"
          ],
          [
           "Bessie Smith",
           "Chattanooga, TN"
          ],
          [
           "MC5",
           "Lincoln Park, MI"
          ],
          [
           "Washboard Sam",
           "Walnut Ridge, AR"
          ],
          [
           "Tammy Wynette",
           "Itawamba County, MS"
          ],
          [
           "OutKast",
           "Atlanta, GA"
          ],
          [
           "Otis Taylor",
           "Chicago, IL"
          ],
          [
           "Righteous Brothers",
           "California"
          ],
          [
           "The Clancy Brothers",
           "Ireland"
          ],
          [
           "Michael Whalen",
           "New York"
          ],
          [
           "John D. Loudermilk",
           "Durham, NC"
          ],
          [
           "Glen Campbell And Bobbie Gentry",
           "Chickasaw County, MS"
          ],
          [
           "Arturo Sandoval",
           "Artemisa, Cuba"
          ],
          [
           "Dub Pistols feat. Lindy Layton & Rodney P",
           "London, England"
          ],
          [
           "Paul Taylor / Terry Dexter",
           "Wyoming"
          ],
          [
           "Bukue One",
           "California"
          ],
          [
           "Hiram Bullock",
           "Osaka, Japan"
          ],
          [
           "Serpentine",
           "Switzerland"
          ],
          [
           "Slim Whitman",
           "Tampa, FL"
          ],
          [
           "Thomas Dolby",
           "Cairo, Egypt"
          ],
          [
           "Justin",
           "Georgia"
          ],
          [
           "Barbara Lusch",
           "Oregon"
          ],
          [
           "Rapha\\xc3\\xabl",
           "France"
          ],
          [
           "Sugar Minott",
           "Kingston, Jamaica"
          ],
          [
           "Martha Wainwright",
           "NY - New York City"
          ],
          [
           "Stevie Ray Vaughan And Double Trouble",
           "Dallas, TX"
          ],
          [
           "Mance Lipscomb",
           "Navasota, TX"
          ],
          [
           "Maurane",
           "Ixelles, Belgium"
          ],
          [
           "Bill Laswell",
           "New York City (Salem, IL - originally)"
          ],
          [
           "Jazz Gillum",
           "Indianola, MS"
          ],
          [
           "Buddy Jewell",
           "Lepanto, AR"
          ],
          [
           "Joe Heaney",
           "Washington"
          ],
          [
           "Helen O'Connell",
           "Lima, OH"
          ],
          [
           "Chaotica",
           "Arizona"
          ],
          [
           "Muse",
           "UK"
          ],
          [
           "Willie Clancy",
           "Miltown Malbay, Ireland"
          ],
          [
           "Chris Clark",
           "Los Angeles, CA"
          ],
          [
           "Sick Puppies",
           "Sydney, Australia"
          ],
          [
           "Los Fabulosos Cadillacs",
           "Buenos Aires."
          ],
          [
           "Loretta Lynn",
           "Nashville, TN, Texas"
          ],
          [
           "Joe Rogan",
           "Newark, NJ"
          ],
          [
           "The Fray",
           "Denver, CO"
          ],
          [
           "Groucho Marx",
           "FORT LAUDERDALE, Flevoland"
          ],
          [
           "Skeeter Davis",
           "Dry Ridge, KY"
          ],
          [
           "Skeeter Davis",
           "Dry Ridge, KY"
          ],
          [
           "The Rolling Stones",
           "London, England"
          ],
          [
           "Dexys Midnight Runners",
           "Birmingham, England"
          ],
          [
           "Jean-Jacques Goldman",
           "Paris, France"
          ],
          [
           "T-la Rock",
           "NEW YORK, New York"
          ],
          [
           "Dr. Elmo",
           "California - SF"
          ],
          [
           "Tommy Castro",
           "San Jose, CA"
          ],
          [
           "Gus Cannon",
           "Red Banks, MS"
          ],
          [
           "Suicide",
           "New York, NY"
          ],
          [
           "Sylvester Weaver",
           "Louisville, KY"
          ],
          [
           "Jedi Mind Tricks",
           "Philadelphia, PA"
          ],
          [
           "Broadcast",
           "Birmingham, England"
          ],
          [
           "Fiona",
           "New York, NY"
          ],
          [
           "Mindless Self Indulgence",
           "New York, NY"
          ],
          [
           "Laurindo Almeida",
           "Sao Paulo, Brazil"
          ],
          [
           "Mandi",
           "Basingstoke"
          ],
          [
           "The Color Red",
           "Riverside, CA"
          ],
          [
           "Jim Bryson",
           "Ottawa, ON, Canada"
          ],
          [
           "Marcie Blane",
           "Brooklyn, NY"
          ],
          [
           "Curtis Mayfield",
           "Chicago, IL"
          ],
          [
           "PMD",
           "Long Island, NY"
          ],
          [
           "Tom Cochrane",
           "Lynn Lake, Manitoba, Canada"
          ],
          [
           "Roy Drusky",
           "Atlanta, GA"
          ],
          [
           "SAF",
           "Gent"
          ],
          [
           "Pursuit Of Happiness",
           "Toronto, Ontario, Canada"
          ],
          [
           "The Stooges",
           "Ann Arbor, MI"
          ],
          [
           "Shanadoo",
           "Tokyo"
          ],
          [
           "Erik Berglund",
           "Texas"
          ],
          [
           "Moonspell",
           "Portugal"
          ],
          [
           "Andr\\xc3\\xa9a",
           "UK - England - Yorkshire"
          ],
          [
           "Heaven 17",
           "London, England"
          ],
          [
           "The Suicide Machines",
           "Detroit, MI"
          ],
          [
           "Kenny Neal",
           "New Orleans, LA"
          ],
          [
           "MC5",
           "Lincoln Park, MI"
          ],
          [
           "Francis Dunnery",
           "Egremont, Cumbria, England"
          ],
          [
           "Julien Clerc",
           "FR"
          ],
          [
           "Off Broadway",
           "Oak Park, IL"
          ],
          [
           "Pumpkin Buzzard",
           "Missouri"
          ],
          [
           "Memphis Minnie",
           "Algiers, LA"
          ],
          [
           "Caspa",
           "London"
          ],
          [
           "Pacha Massive",
           "New York, NY"
          ],
          [
           "Peppermint Creeps",
           "California - LA"
          ],
          [
           "Gloria",
           "BG"
          ],
          [
           "Wilshire",
           "GREENSBORO, North Carolina"
          ],
          [
           "Legacy Five",
           "Tennessee"
          ],
          [
           "Nickelback",
           "Hanna, Alberta, Canada"
          ],
          [
           "Ang\\xc3\\xa9lica Mar\\xc3\\xada",
           "New Orleans, LA"
          ],
          [
           "The Ocean",
           "London, Ontario, Canada"
          ],
          [
           "Josh White",
           "Greensboro, NC"
          ],
          [
           "The Paynes",
           "United States"
          ],
          [
           "Washboard Sam",
           "Walnut Ridge, AR"
          ],
          [
           "Semisonic",
           "Minneapolis, MN"
          ],
          [
           "Vanessa Bell Armstrong",
           "Detroit, MI"
          ],
          [
           "Tito Rodriguez_ Louie Ramirez",
           "San Juan, Puerto Rico"
          ],
          [
           "Blind Blake & The Royal Victoria Hotel Calypsos",
           "Jacksonville, FL"
          ],
          [
           "John Tchicai",
           "Copenhagen, Denmark"
          ],
          [
           "Toots Thielemans",
           "Brussels, Belgium"
          ],
          [
           "Tad",
           "Seattle, WA"
          ],
          [
           "Ultimate Fakebook",
           "Manhattan, Kansas"
          ],
          [
           "Between The Buried And Me",
           "Charlotte, NC"
          ],
          [
           "Yahir",
           "Hermosillo Sonora, Mexico"
          ],
          [
           "Static-X",
           "Alabama"
          ],
          [
           "Skeeter Davis",
           "Dry Ridge, KY"
          ],
          [
           "Gruppo Jazz Marca",
           "Great Britain / UK"
          ],
          [
           "Shakedown",
           "California"
          ],
          [
           "Stewart Francke",
           "Michigan"
          ],
          [
           "James Last",
           "Bremen, Germany"
          ],
          [
           "Bill Perkins",
           "San Francisco, CA"
          ],
          [
           "Bert Kaempfert And His Orchestra",
           "Hamburg, Germany"
          ],
          [
           "Miossec",
           "Brest, France"
          ],
          [
           "Atari Teenage Riot",
           "Berlin, Germany"
          ],
          [
           "Sleepy John Estes",
           "Ripley, TN"
          ],
          [
           "The Mad Capsule Markets",
           "JP"
          ],
          [
           "Roger Williams",
           "Omaha, NE"
          ],
          [
           "Del Tha Funkee Homosapien",
           "Oakland, CA"
          ],
          [
           "Alice Cooper",
           "Detroit, MI"
          ],
          [
           "Kai Winding",
           "Aarhus, Denmark"
          ],
          [
           "Cal Tjader",
           "St. Louis, MO"
          ],
          [
           "Ill Nino",
           "Nueva Jersey (Estados Unidos)"
          ],
          [
           "Dive",
           "NY - Upstate NY"
          ],
          [
           "Barbara Lusch",
           "Oregon"
          ],
          [
           "Brand X",
           "Sikeston, MO"
          ],
          [
           "Charlie Rich",
           "Benton, Arkansas"
          ],
          [
           "Virtuoso",
           "Louisiana"
          ],
          [
           "Karen Peck And New River",
           "Tennessee"
          ],
          [
           "Judy Mowatt",
           "Jamaica"
          ],
          [
           "Marlene Dietrich",
           "Sch\\xef\\xbf\\xbderg, Germany"
          ],
          [
           "David Cook",
           "Tulsa, Oklahoma"
          ],
          [
           "Liars",
           "LA / NYC"
          ],
          [
           "Gabriel Yared",
           "Beirut, Lebanon"
          ],
          [
           "Gustavo A. Santaolalla",
           "Buenos Aires, Argentina"
          ],
          [
           "Billie Jo Spears",
           "Beaumont, TX"
          ],
          [
           "Diesel Boy",
           "Santa Rosa, California"
          ],
          [
           "Milo",
           "Champaign-Urbana, IL"
          ],
          [
           "The Lord Weird Slough Feg",
           "California - SF"
          ],
          [
           "Eddie Jones",
           "Greenwood, MS"
          ],
          [
           "Pacha Massive",
           "New York, NY"
          ],
          [
           "Amoral",
           "Helsinki, Finland"
          ],
          [
           "Nine Inch Nails",
           "Cleveland, OH"
          ],
          [
           "The Fabulous Thunderbirds",
           "Austin, TX"
          ],
          [
           "Tex Williams",
           "Ramsey, Fayette County, IL"
          ],
          [
           "Faithless",
           "London, England"
          ],
          [
           "Marion Harris",
           "Indiana"
          ],
          [
           "Willie Bobo",
           "New York, NY [Spanish Harlem]"
          ],
          [
           "Rick Astley",
           "Newton-le-Willows, Merseyside, England"
          ],
          [
           "Hot Chip",
           "London"
          ],
          [
           "Los Fabulosos Cadillacs",
           "Buenos Aires."
          ],
          [
           "Georges Brassens",
           "S\\xef\\xbf\\xbd, France"
          ],
          [
           "Mudhoney",
           "Seattle, WA"
          ],
          [
           "Mink DeVille",
           "New York, NY"
          ],
          [
           "Mongo Santamaria",
           "Havana, Cuba [Jesus Maria]"
          ],
          [
           "Vincenzo Bellini",
           "Catania, Italy"
          ],
          [
           "Ronnie Milsap",
           "Robbinsville, NC"
          ],
          [
           "Jimmy Wakely",
           "Mineola, AR"
          ],
          [
           "James Scott Skinner",
           "Aberdeen, Scotland"
          ],
          [
           "Between The Buried And Me",
           "Charlotte, NC"
          ],
          [
           "Tiny Bradshaw",
           "Youngstown, OH"
          ],
          [
           "Andr\\xc3\\xa9 Verchuren",
           "Neuilly-sous-Clermont (Oise)"
          ],
          [
           "Otis Spann",
           "Jackson, MS"
          ],
          [
           "Jerry Goldsmith",
           "Los Angeles, CA"
          ],
          [
           "Eurythmics",
           "London, England"
          ],
          [
           "A Perfect Murder",
           "CA"
          ],
          [
           "Talvin Singh",
           "London, England"
          ],
          [
           "Tampa Red",
           "Smithville, GA"
          ],
          [
           "Every Time I Die",
           "Buffalo, New York"
          ],
          [
           "Diamond D",
           "Florida"
          ],
          [
           "The White Stripes",
           "Nashville / Los Angeles"
          ],
          [
           "Ndala Kasheba",
           "Tanzania"
          ],
          [
           "New Roanoke Jug Band",
           "Virginia"
          ],
          [
           "Rancid",
           "Bay Area, CA"
          ],
          [
           "George Michael",
           "London, England"
          ],
          [
           "Babe Ruth",
           "Hatfield, Hertfordshire, England"
          ],
          [
           "Ronnie Milsap",
           "Robbinsville, NC"
          ],
          [
           "Charlie Haden & Chris Anderson",
           "Shenandoah, IA"
          ],
          [
           "Emperor",
           "Norway"
          ],
          [
           "Brand X",
           "Sikeston, MO"
          ],
          [
           "The Stooges",
           "Ann Arbor, MI"
          ],
          [
           "David Evans",
           "Tennessee"
          ],
          [
           "Damita Jo",
           "Austin, TX"
          ],
          [
           "Orbital",
           "Sevenoaks, United Kingdom"
          ],
          [
           "Bongzilla",
           "Madison, Wisconsin"
          ],
          [
           "Orbital",
           "Sevenoaks, United Kingdom"
          ],
          [
           "April Wine",
           "Halifax, Nova Scotia, Canada"
          ],
          [
           "The Bucketheads",
           "New York, NY"
          ],
          [
           "Whitesnake",
           "London, England"
          ],
          [
           "The Chap",
           "London"
          ],
          [
           "Dictators",
           "NY - New York City"
          ],
          [
           "Eddy Raven",
           "Lafayette, LA"
          ],
          [
           "Trafik",
           "Utah"
          ],
          [
           "Astarte",
           "Athens, Greece"
          ],
          [
           "Sergio Franchi",
           "Italy"
          ],
          [
           "Mongo Santamaria",
           "Havana, Cuba [Jesus Maria]"
          ],
          [
           "Cali",
           "Vernet les Bains"
          ],
          [
           "Edwin Hawkins",
           "Oakland, CA"
          ],
          [
           "Lonnie Johnson",
           "New Orleans, LA"
          ],
          [
           "Rhian Sheehan",
           "Wellington"
          ],
          [
           "Cumberland Quartet",
           "Missouri"
          ],
          [
           "Ray Conniff",
           "Attleboro, MA"
          ],
          [
           "Five Blind Boys of Alabama",
           "Talladega, AL"
          ],
          [
           "Luiz Bonfa",
           "Rio de Janeiro, Brazil"
          ],
          [
           "Blind Willie McTell",
           "Thomson, GA"
          ],
          [
           "Arco Iris",
           "Valais/Suisse"
          ],
          [
           "Les Rythmes Digitales/ Tzant Feat. ODC MC",
           "Paris, France"
          ],
          [
           "Jo-El Sonnier",
           "Rayne, LA"
          ],
          [
           "Since The Flood",
           "New Hampshire"
          ],
          [
           "Yank Rachell",
           "Brownsville, TN"
          ],
          [
           "Slim Whitman",
           "Tampa, FL"
          ],
          [
           "Larry Graham & Graham Central Station",
           "California"
          ],
          [
           "Johnny Pacheco/Rolando La Serie",
           "Santiago de los Caballeros, Domin"
          ],
          [
           "The High Strung",
           "Detroit, MI"
          ],
          [
           "Tony Martin",
           "Oakland, CA"
          ],
          [
           "James Carter",
           "Detroit, MI"
          ],
          [
           "Pursuit Of Happiness",
           "Toronto, Ontario, Canada"
          ],
          [
           "UK Subs",
           "UK - England - Yorkshire"
          ],
          [
           "Delroy Wilson",
           "Kingston, Jamaica"
          ],
          [
           "Jack Sheldon",
           "Jacksonville, FL"
          ],
          [
           "Bersuit Vergarabat",
           "Buenos Aires"
          ],
          [
           "Major Lance",
           "Chicago, IL"
          ],
          [
           "Doyle Bramhall",
           "Dallas, TX"
          ],
          [
           "Bedwetters",
           "California - LA"
          ],
          [
           "Whitesnake",
           "London, England"
          ],
          [
           "Mirah",
           "Washington"
          ],
          [
           "Dee Clark",
           "Blythesville, AR"
          ],
          [
           "Tom Cochrane",
           "Lynn Lake, Manitoba, Canada"
          ],
          [
           "The Jackson Southernaires",
           "Mississippi"
          ],
          [
           "Cristy Lane",
           "Peoria, IL"
          ],
          [
           "Humble Pie",
           "Essex, England"
          ],
          [
           "Patton Oswalt",
           "Portsmouth, VA"
          ],
          [
           "Kingston Trio",
           "Vermont"
          ],
          [
           "Orquesta Aragon",
           "Cuba"
          ],
          [
           "Brian Eno And David Byrne",
           "LAS VEGAS, Nevada"
          ],
          [
           "Nestor Torres",
           "Miami, FL"
          ],
          [
           "Philip Glass",
           "Baltimore, MD"
          ],
          [
           "Pumpkin Buzzard",
           "Missouri"
          ],
          [
           "Gabriel Yared",
           "Beirut, Lebanon"
          ],
          [
           "Janice Robinson",
           "Garfield, NJ"
          ],
          [
           "The Aftermath",
           "Bogot\\xc3\\xa1 D. C., Colombia"
          ],
          [
           "ZO2",
           "NY - New York City"
          ],
          [
           "Every Time I Die",
           "Buffalo, New York"
          ],
          [
           "Lisa Lynne",
           "California - LA"
          ],
          [
           "Bryan Ferry",
           "Washington, England"
          ],
          [
           "BLEED THE SKY",
           "Orange County, CA"
          ],
          [
           "Hurricane",
           "Kansas"
          ],
          [
           "Adolph Hofner",
           "Moulton, TX"
          ],
          [
           "Charlie McCoy",
           "Jackson, MS"
          ],
          [
           "Suicide",
           "New York, NY"
          ],
          [
           "Cockney Rejects",
           "England"
          ],
          [
           "SOL",
           "Los Angeles California USA"
          ],
          [
           "Lee Michaels",
           "Los Angeles, CA"
          ],
          [
           "The American Boychoir",
           "New Jersey"
          ],
          [
           "Felix Slatkin/Concert Arts Symphonic Band",
           "St. Louis, MO"
          ],
          [
           "Jim Chappell",
           "United States"
          ],
          [
           "Pearl Jam",
           "Seattle, WA"
          ],
          [
           "Arsonists Get All The Girls",
           "Santa Cruz, CA"
          ],
          [
           "Jerry Butler",
           "Sunflower, MS"
          ],
          [
           "Irma Thomas",
           "Ponchatoula, LA"
          ],
          [
           "Hot Wire",
           "Newbury Park, CA"
          ],
          [
           "Evergreen Terrace",
           "Jacksonville, FL"
          ],
          [
           "Danilo Perez / Claus Ogerman",
           "Panama"
          ],
          [
           "Crabby Appleton",
           "USA"
          ],
          [
           "Little Milton",
           "Inverness, MS"
          ],
          [
           "Wilshire",
           "GREENSBORO, North Carolina"
          ],
          [
           "Lionel Rogg",
           "Geneva, Switzerland"
          ],
          [
           "Bob Margolin",
           "Boston, MA"
          ],
          [
           "Kitty Kallen",
           "Philadelphia, PA"
          ],
          [
           "Jeff Talmadge",
           "Georgia"
          ],
          [
           "Dwight Twilley",
           "Tulsa, OK"
          ],
          [
           "Darko",
           "GLEN BURNIE"
          ],
          [
           "Plasmatics",
           "New York, NY"
          ],
          [
           "Inspiral Carpets",
           "Manchester, England"
          ],
          [
           "Stern",
           "Pennsylvania"
          ],
          [
           "Bryan White",
           "Lawton, OK"
          ],
          [
           "Dirty Harry",
           "Washington"
          ],
          [
           "M.I.K.E.",
           "Antwerp,Belgium, New York"
          ],
          [
           "Wonderland",
           "Mass. - Western"
          ],
          [
           "Blackalicious",
           "Davis, CA"
          ],
          [
           "The Shirelles",
           "Passaic, NJ"
          ],
          [
           "Patrick Lamb",
           "Portland"
          ],
          [
           "Amoral",
           "Helsinki, Finland"
          ],
          [
           "L.A. Guns",
           "katy"
          ],
          [
           "Stan",
           "UK - England - North East"
          ],
          [
           "Butthole Surfers",
           "San Antonio, TX"
          ],
          [
           "Slipknot",
           "Des Moines, Iowa"
          ],
          [
           "Atom",
           "Washington"
          ],
          [
           "Jimmy Wyble",
           "Port Arthur, TX"
          ],
          [
           "Die Symphony",
           "Missouri"
          ],
          [
           "Paul Geremia",
           "Providence, RI"
          ],
          [
           "Walter Trout",
           "Ocean City, NJ"
          ],
          [
           "Sean Kingston",
           "Kingston, Jamaica"
          ],
          [
           "Blind Lemon Jefferson",
           "Couchman, TX"
          ],
          [
           "Gabriel Yared",
           "Beirut, Lebanon"
          ],
          [
           "The Jane Shermans",
           "United States"
          ],
          [
           "Blind Boy Fuller",
           "Wadesboro, NC"
          ],
          [
           "Dave \"Baby\" Cortez",
           "Detroit, MI"
          ],
          [
           "Tommy James And The Shondells",
           "Dayton, OH"
          ],
          [
           "Terry Callier",
           "Chicago"
          ],
          [
           "The Chieftains",
           "Ireland"
          ],
          [
           "Elmer Bernstein",
           "New York, NY"
          ],
          [
           "Peter Spence",
           "UK - England - West Midlands"
          ],
          [
           "Eddie Cantor",
           "New York, NY"
          ],
          [
           "Lionel Rogg",
           "Geneva, Switzerland"
          ],
          [
           "Precious Bryant",
           "North Carolina"
          ],
          [
           "Jeff Wahl",
           "Colorado"
          ],
          [
           "UFO",
           "Arizona"
          ],
          [
           "Jamie Richards",
           "Shawnee OK"
          ],
          [
           "Backstreet Boys",
           "Orlando, FL"
          ],
          [
           "Lizzy Borden",
           "Los Angeles, CA"
          ],
          [
           "Jack Off Jill",
           "Ft. Lauderdale, FLORIDA"
          ],
          [
           "Los Fabulosos Cadillacs",
           "Buenos Aires."
          ],
          [
           "Kool Moe Dee",
           "Harlem, New York, NY"
          ],
          [
           "D.A.D.",
           "Copenhagen (Denmark)"
          ],
          [
           "Brand X",
           "Sikeston, MO"
          ],
          [
           "Lizzy Borden",
           "Los Angeles, CA"
          ],
          [
           "The Merry Macs",
           "Minneapolis, MN"
          ],
          [
           "Righteous Brothers",
           "California"
          ],
          [
           "Pinch feat. Rudey Lee",
           "Illinois"
          ],
          [
           "The Tragically Hip",
           "Kingston, Ontario, Canada"
          ],
          [
           "Scott Krippayne",
           "Washington"
          ],
          [
           "Photek",
           "Ipswich, England"
          ],
          [
           "Orquesta Sublime",
           "Cuba"
          ],
          [
           "Bobby Pulido",
           "Edinburg, TX"
          ],
          [
           "Gustavo Santaolalla",
           "Buenos Aires, Argentina"
          ],
          [
           "Isaacs",
           "Tennessee"
          ],
          [
           "Joe Rogan",
           "Newark, NJ"
          ],
          [
           "Don Francisco",
           "Colorado"
          ],
          [
           "Doug Sahm Tex Mex Trip",
           "San Antonio, TX"
          ],
          [
           "Orquesta Sublime",
           "Cuba"
          ],
          [
           "Atari Teenage Riot",
           "Berlin, Germany"
          ],
          [
           "Otis Spann",
           "Jackson, MS"
          ],
          [
           "Daniela Dess\\xc3\\xac",
           "Genova"
          ],
          [
           "Frank Ifield",
           "Coventry, England"
          ],
          [
           "Gonzalo Rubalcaba",
           "Havana, Cuba"
          ],
          [
           "Cam'Ron / Juelz Santana",
           "Harlem, NY"
          ],
          [
           "Dhamika",
           "Sweden"
          ],
          [
           "K.T. Oslin",
           "Crossett, AR"
          ],
          [
           "Taste",
           "Ireland"
          ],
          [
           "Cece Winans",
           "Charlotte, NC"
          ],
          [
           "Joanna Connor",
           "Brooklyn, NY"
          ],
          [
           "Hot Tuna",
           "San Francisco, CA"
          ],
          [
           "Year Long Disaster",
           "Los Angeles, CA"
          ],
          [
           "Jimmy Witherspoon",
           "Gurdon, AR"
          ],
          [
           "Bob Wills",
           "Kosse, TX"
          ],
          [
           "Jimmy McGriff",
           "Philadelphia, PA"
          ],
          [
           "Smidi Beats",
           "Nevada"
          ],
          [
           "Adrenaline",
           "Chicago, IL"
          ],
          [
           "Sergio Franchi",
           "Italy"
          ],
          [
           "Cool cavemen",
           "Lille, France"
          ],
          [
           "Sneaky Sound System",
           "Sydney, Australia"
          ],
          [
           "Blue Rodeo",
           "Toronto, Ontario, Canada"
          ],
          [
           "Willie Clayton",
           "Indianola, MS"
          ],
          [
           "Justin",
           "Georgia"
          ],
          [
           "Charlie McCoy",
           "Jackson, MS"
          ],
          [
           "Danny Wright",
           "Texas"
          ],
          [
           "Leon Russel",
           "Lawton, OK"
          ],
          [
           "Ross",
           "Indonesia"
          ],
          [
           "Kerson",
           "Texas"
          ],
          [
           "The Beatles",
           "Liverpool, England"
          ],
          [
           "Cheo Feliciano",
           "Ponce, Puerto Rico"
          ],
          [
           "Kathleen Madigan",
           "California - LA"
          ],
          [
           "Radney Foster",
           "Del Rio, TX"
          ],
          [
           "Ed Calle",
           "Florida"
          ],
          [
           "Ed Ames",
           "Malden, MA"
          ],
          [
           "Nickelback",
           "Hanna, Alberta, Canada"
          ],
          [
           "Ron Goodwin",
           "Plymouth, Devon, England"
          ],
          [
           "Willie Clancy",
           "Miltown Malbay, Ireland"
          ],
          [
           "Keb' Mo'",
           "Los Angeles, CA"
          ],
          [
           "Statues",
           "Sudbury, Ontario - Canada"
          ],
          [
           "The Jackson Southernaires",
           "Mississippi"
          ],
          [
           "Linkin Park",
           "Los Angeles, CA"
          ],
          [
           "Ronnie Milsap",
           "Robbinsville, NC"
          ],
          [
           "David Bowie",
           "London, UK"
          ],
          [
           "The Roots",
           "Philadelphia, Pennsylvania, U.S."
          ],
          [
           "Between The Buried And Me",
           "Charlotte, NC"
          ],
          [
           "Deborah Coleman",
           "Portsmouth, VA"
          ],
          [
           "Emilio",
           "SAN ANTONIO, Texas"
          ],
          [
           "The Germs",
           "Los Angeles, CA"
          ],
          [
           "Mindy McCready",
           "Fort Meyers, FL"
          ],
          [
           "Elmore James",
           "Richland, MS"
          ],
          [
           "Pat Travers",
           "Toronto, Canada"
          ],
          [
           "Bobby Russell",
           "Nashville, TN"
          ],
          [
           "BT",
           "Earth"
          ],
          [
           "Gisele MacKenzie",
           "Winnipeg, Manitoba, Canada"
          ],
          [
           "Eric Burdon",
           "Walker-on-Tyne, England"
          ],
          [
           "Bumblefoot",
           "New Jersey"
          ],
          [
           "Bukka White",
           "Houston, MS"
          ],
          [
           "Willie Bobo",
           "New York, NY [Spanish Harlem]"
          ],
          [
           "The Family Stand",
           "Brooklyn"
          ],
          [
           "Buddy Johnson",
           "Darlington, SC"
          ],
          [
           "Blind Willie Johnson",
           "Marlin, TX"
          ],
          [
           "Onesidezero",
           "Los Angeles, CA"
          ],
          [
           "Wet Wet Wet",
           "Glasgow, Scotland"
          ],
          [
           "Lou Reid & Carolina",
           "North Carolina"
          ],
          [
           "Rhian Sheehan",
           "Wellington"
          ],
          [
           "The Fabulous Thunderbirds",
           "Austin, TX"
          ],
          [
           "Chris Vickery",
           "CANADA - Ontario"
          ],
          [
           "Mikey Dread",
           "Jamaica"
          ],
          [
           "Lou Ann Barton",
           "Austin, TX"
          ],
          [
           "Rhian Sheehan",
           "Wellington"
          ],
          [
           "The Ghost Of Lemora",
           "London"
          ],
          [
           "Robin Frederick",
           "Los Angeles"
          ],
          [
           "Y&T",
           "San Francisco Bay Area"
          ],
          [
           "Earl Hooker",
           "Clarksdale, MS"
          ],
          [
           "Billy Butler",
           "Philadelphia, PA"
          ],
          [
           "Kings Of Leon",
           "Nashville, Tennessee"
          ],
          [
           "Shaman",
           "Brazil"
          ],
          [
           "Marvin Sapp",
           "Grand Rapids, MI"
          ],
          [
           "Epidemic",
           "York"
          ],
          [
           "Jimmy Wakely",
           "Mineola, AR"
          ],
          [
           "Malina",
           "Viareggio, Italy"
          ],
          [
           "Steve Smith",
           "Brockton, MA"
          ],
          [
           "Sugar Minott",
           "Kingston, Jamaica"
          ],
          [
           "Suzi Quatro",
           "Detroit, MI"
          ],
          [
           "Humanzi",
           "Dublin, Ireland"
          ],
          [
           "Kings Of Leon",
           "Nashville, Tennessee"
          ],
          [
           "Kurupt_ Rosco_ Jayo Felony & 40 Glocc",
           "Philadelphia, PA"
          ],
          [
           "The Jeremy Spencer Band",
           "West Hartlepool, England"
          ],
          [
           "The Stooges",
           "Ann Arbor, MI"
          ],
          [
           "Eddie Cantor",
           "New York, NY"
          ],
          [
           "Royal S",
           "Winterthur, Switzerland"
          ],
          [
           "Yami Bolo",
           "Detroit USA"
          ],
          [
           "Killswitch Engage",
           "Boston, MA"
          ],
          [
           "Saigon Kick",
           "Coral Springs, Florida"
          ],
          [
           "Incubus",
           "California"
          ],
          [
           "Irma Thomas",
           "Ponchatoula, LA"
          ],
          [
           "King Curtis with Jack Dupree",
           "Fort Worth, TX"
          ],
          [
           "Omni",
           "Los Angeles, CA"
          ],
          [
           "Orchestra e Coro del Palacio de Bellas Artes Di Citt\\xc3\\xa1 del Messico_ Oliviero De Fabritiis_ Maria Call",
           "New York, NY"
          ],
          [
           "Giuseppi Logan",
           "NY - New York City"
          ],
          [
           "Radio Moscow",
           "Ames, IA"
          ],
          [
           "John D. Loudermilk",
           "Durham, NC"
          ],
          [
           "Pumpkin Buzzard",
           "Missouri"
          ],
          [
           "Margaret Becker",
           "Brooklyn, NY"
          ],
          [
           "Ron Goodwin",
           "Plymouth, Devon, England"
          ],
          [
           "Doug MacLeod",
           "New York, NY"
          ],
          [
           "Jimmy Hughes",
           "Florence, AL"
          ],
          [
           "Stevie Ray Vaughan And Double Trouble",
           "Dallas, TX"
          ],
          [
           "L7",
           "Los Angeles, CA"
          ],
          [
           "Ma Rainey",
           "Columbus, GA"
          ],
          [
           "Bill Perry",
           "Chester, NY"
          ],
          [
           "Hatebreed (int License)",
           "New Haven, CT"
          ],
          [
           "Connie Smith",
           "Elkhart, IN"
          ],
          [
           "Uphill Battle",
           "Ventura County, CA"
          ],
          [
           "Barbara Fairchild",
           "Knobel, AK"
          ],
          [
           "Orquesta Arag\\xc3\\xb3n",
           "Cuba"
          ],
          [
           "Nick Cave & The Bad Seeds",
           "Wangaratta, Victoria, Australia"
          ],
          [
           "Dave And Ansel Collins",
           "Jamaica"
          ],
          [
           "Nine Inch Nails",
           "Cleveland, OH"
          ],
          [
           "Bob Sinclar",
           "Kentwood, LA; Los Angeles, CA"
          ],
          [
           "John Brown",
           "North Carolina"
          ],
          [
           "Buddy Miles",
           "Omaha, NE"
          ],
          [
           "Dee Clark",
           "Blythesville, AR"
          ],
          [
           "Alas",
           "Florida"
          ],
          [
           "Backstreet Boys",
           "Orlando, FL"
          ],
          [
           "Julien Clerc",
           "FR"
          ],
          [
           "Moon Mullican",
           "Corrigan, Polk County, TX"
          ],
          [
           "Helen Love",
           "Cardiff, Wales"
          ],
          [
           "Suicidal Tendencies",
           "Venice, CA"
          ],
          [
           "Grace Gale",
           "Denver, CO"
          ],
          [
           "Stew",
           "New York"
          ],
          [
           "Geddy Lee",
           "Willowdale, Ontario, Canada"
          ],
          [
           "Mothers Pride",
           "Lucerne"
          ],
          [
           "Robben Ford",
           "Ukiah, CA"
          ],
          [
           "Sleepy John Estes",
           "Ripley, TN"
          ],
          [
           "Bobby Darin",
           "New York, NY [The Bronx]"
          ],
          [
           "SNAP!",
           "Germany"
          ],
          [
           "Elliot Goldenthal",
           "New York, NY"
          ],
          [
           "Hermeto Pascoal",
           "Lagoa da Canoa, Alagoas"
          ],
          [
           "Jedi Mind Tricks",
           "Philadelphia, PA"
          ],
          [
           "Uman",
           "Belgium"
          ],
          [
           "Lauren Wood",
           "California - LA"
          ],
          [
           "Ray Pillow",
           "Lynchburg, VA"
          ],
          [
           "Vangelis",
           "Volos, Greece"
          ],
          [
           "Babylon Disco",
           "Karlstad"
          ],
          [
           "Rubyhorse",
           "Cork City, Ireland"
          ],
          [
           "Tyrone Davis",
           "Greenville, MS"
          ],
          [
           "THE CHIFFONS",
           "New York, NY [The Bronx]"
          ],
          [
           "Marcie Blane",
           "Brooklyn, NY"
          ],
          [
           "Hot Live Guys",
           "CANADA - other"
          ],
          [
           "Kanda Bongo Man",
           "Inongo, Zaire"
          ],
          [
           "Marvin Sapp",
           "Grand Rapids, MI"
          ],
          [
           "Keb'Mo'",
           "Los Angeles, CA"
          ],
          [
           "Buzzcocks",
           "London / Ex-Manchester"
          ],
          [
           "Cece Winans",
           "Charlotte, NC"
          ],
          [
           "Sofia Karlsson",
           "Sweden"
          ],
          [
           "Backstreet Boys",
           "Orlando, FL"
          ],
          [
           "Jerry Goldsmith",
           "Los Angeles, CA"
          ],
          [
           "The Frantic",
           "London"
          ],
          [
           "Sofia Karlsson",
           "Sweden"
          ],
          [
           "The Perrys",
           "Maryland"
          ],
          [
           "Dolce; Orange Factory",
           "Oklahoma"
          ],
          [
           "Rihanna",
           "St Michael, Barbados "
          ],
          [
           "Angelo Badalamenti",
           "New Jersey"
          ],
          [
           "Venice",
           "New Hampshire USA"
          ],
          [
           "Debbie Davies",
           "Los Angeles, CA"
          ],
          [
           "Matisyahu",
           "Brooklyn, NY"
          ],
          [
           "Bow Wow Wow",
           "London, England"
          ],
          [
           "Sergio Franchi",
           "Italy"
          ],
          [
           "Janet Paschal",
           "North Carolina"
          ],
          [
           "Lonnie Brooks",
           "Dubuisson, LA"
          ],
          [
           "Roy Rogers",
           "Redding, CA"
          ],
          [
           "Coffinberry",
           "Ohio"
          ],
          [
           "Young-Holt Unlimited",
           "Chicago, IL"
          ],
          [
           "Vodka Collins",
           "Tokyo, Japan"
          ],
          [
           "Joe Rogan",
           "Newark, NJ"
          ],
          [
           "Tom Cochrane",
           "Lynn Lake, Manitoba, Canada"
          ],
          [
           "Erik Berglund",
           "Texas"
          ],
          [
           "Toots Thielemans",
           "Brussels, Belgium"
          ],
          [
           "Jim Reeves",
           "Galloway, Panola County, TX"
          ],
          [
           "Ray Conniff",
           "Attleboro, MA"
          ],
          [
           "Sir Douglas Quintet",
           "San Antonio, TX"
          ],
          [
           "Major Lance",
           "Chicago, IL"
          ],
          [
           "Static-X",
           "Alabama"
          ],
          [
           "Smart Alex",
           "London"
          ],
          [
           "OutKast",
           "Atlanta, GA"
          ],
          [
           "Bukka White",
           "Houston, MS"
          ],
          [
           "AFS",
           "Great Britain / UK"
          ],
          [
           "Jim Reeves",
           "Galloway, Panola County, TX"
          ],
          [
           "Wet Wet Wet",
           "Glasgow, Scotland"
          ],
          [
           "Elliot Goldenthal",
           "New York, NY"
          ],
          [
           "Dave Valentin",
           "Chelmsford, England"
          ],
          [
           "Jimmy Burns",
           "Dublin, MS"
          ],
          [
           "Dino",
           "Encino, CA"
          ],
          [
           "Scar Symmetry",
           "Sweden"
          ],
          [
           "Willie Bobo",
           "New York, NY [Spanish Harlem]"
          ],
          [
           "Lifehouse",
           "NORTH FORT MYERS, Florida"
          ],
          [
           "Tyrone Wells",
           "California - LA"
          ],
          [
           "John Sebastian",
           "Leeds"
          ],
          [
           "Andre Verchuren",
           "Neuilly-sous-Clermont (Oise)"
          ],
          [
           "Scar Symmetry",
           "Sweden"
          ],
          [
           "Concretes",
           "Stockholm, Sweden"
          ],
          [
           "Cotton Candy",
           "California - SF"
          ],
          [
           "The Incurables",
           "Missouri"
          ],
          [
           "Bert Kaempfert",
           "Hamburg, Germany"
          ],
          [
           "H-Town",
           "Houston"
          ],
          [
           "JERRY WALLACE",
           "Kansas City, MO"
          ],
          [
           "Georges Brassens",
           "S\\xef\\xbf\\xbd, France"
          ],
          [
           "Danny Wilson",
           "Dundee, Scotland"
          ],
          [
           "Marcie Blane",
           "Brooklyn, NY"
          ],
          [
           "Charlie Walker",
           "Collins County, TX"
          ],
          [
           "Francis Dunnery",
           "Egremont, Cumbria, England"
          ],
          [
           "Rocker-T",
           "Wisconsin"
          ],
          [
           "Ana Popovic",
           "Belgrade, Yugoslavia"
          ],
          [
           "Emilio",
           "SAN ANTONIO, Texas"
          ],
          [
           "Tiny Tim",
           "New York, NY"
          ],
          [
           "The Cure",
           "Crawley, England"
          ],
          [
           "I Nuovi Angeli",
           "Oregon"
          ],
          [
           "Jean-Jacques Goldman",
           "Paris, France"
          ],
          [
           "Joshua Rifkin",
           "New York, NY"
          ],
          [
           "Barbara Lusch",
           "Oregon"
          ],
          [
           "Patti Smith",
           "Chicago, IL"
          ],
          [
           "Saga",
           "Toronto, Ontario, Canada"
          ],
          [
           "C.C. Adcock",
           "Louisiana"
          ],
          [
           "The Fabulous Thunderbirds",
           "Austin, TX"
          ],
          [
           "Lennie Tristano",
           "US"
          ],
          [
           "R.L. Burnside",
           "Oxford, MS"
          ],
          [
           "Tim Wilson",
           "Georgia"
          ],
          [
           "The Cars",
           "Boston, MA"
          ],
          [
           "De La Soul / MF Doom",
           "Amityville, NY"
          ],
          [
           "At All Cost",
           "Austin, Texas"
          ],
          [
           "Mannheim Steamroller",
           "Omaha, NE"
          ],
          [
           "John Tchicai",
           "Copenhagen, Denmark"
          ],
          [
           "Suicidal Tendencies",
           "Venice, CA"
          ],
          [
           "Bert Kaempfert",
           "Hamburg, Germany"
          ],
          [
           "ColdWorld",
           "Germany (Erfurt, Thuringia)"
          ],
          [
           "The Chap",
           "London"
          ],
          [
           "Leroy Hutson",
           "Newark, NJ"
          ],
          [
           "Pee Wee Crayton",
           "Rockdale, TX"
          ],
          [
           "Basic Channel",
           "Berlin, Germany"
          ],
          [
           "Symphony in Peril",
           "AMSTERDAM, New York"
          ],
          [
           "Mike Brooks",
           "Westmoreland, Jamaica"
          ],
          [
           "This Moment",
           "Cleveland, OH"
          ],
          [
           "The Fabulous Thunderbirds",
           "Austin, TX"
          ],
          [
           "The Perrys",
           "Maryland"
          ],
          [
           "The Chi-Lites",
           "Chicago, IL"
          ],
          [
           "Jerry Lewis",
           "Newark, NJ"
          ],
          [
           "Jo-El Sonnier",
           "Rayne, LA"
          ],
          [
           "Yahir",
           "Hermosillo Sonora, Mexico"
          ],
          [
           "Lexi",
           "Nebraska"
          ],
          [
           "Cali",
           "Vernet les Bains"
          ],
          [
           "Tommy Sands",
           "UK - Northern Ireland"
          ],
          [
           "Diamanda Galas",
           "San Diego, CA"
          ],
          [
           "Be Bop Deluxe",
           "England"
          ],
          [
           "Nu Flavor",
           "Long Beach, CA"
          ],
          [
           "Mystery",
           "North Carolina"
          ],
          [
           "Alvin Youngblood\\xc2\\xa0Hart",
           "Oakland, CA"
          ],
          [
           "Gene Chandler",
           "Chicago, IL"
          ],
          [
           "Legacy Five",
           "Tennessee"
          ],
          [
           "Walter Jackson; Arranged & conducted by Riley Hampton",
           "Pensacola, FL"
          ],
          [
           "Cindy Morgan",
           "Nashville, TN"
          ],
          [
           "Moon Mullican",
           "Corrigan, Polk County, TX"
          ],
          [
           "Jefferson Starship",
           "San Francisco, CA"
          ],
          [
           "Gary Moore",
           "Belfast, Northern Ireland"
          ],
          [
           "Attack Attack",
           "USA "
          ],
          [
           "The Booth Brothers",
           "North Carolina"
          ],
          [
           "Vivian Khor",
           "California - LA"
          ],
          [
           "The Mustangs",
           "Connecticut"
          ],
          [
           "Eberhard Weber",
           "Stuttgart, Germany"
          ],
          [
           "The Continentals",
           "Washington DC"
          ],
          [
           "The Chieftains;Colin James",
           "Ireland"
          ],
          [
           "Joe Turner_ Joe Houston_ L. C. Williams",
           "Mississippi"
          ],
          [
           "J.B. Lenoir",
           "Monticello, MS"
          ],
          [
           "Charlie Rich",
           "Benton, Arkansas"
          ],
          [
           "The Ataris",
           "Anderson, IN"
          ],
          [
           "Taboo",
           "Cape Town, ZA"
          ],
          [
           "Billy Higgins_ Bob Berg_ Cedar Walton_ Tony Dumas",
           "Los Angeles, CA"
          ],
          [
           "The Rolling Stones",
           "London, England"
          ],
          [
           "The Cate Brothers",
           "Fayetteville, AR"
          ],
          [
           "Fran Perea",
           "Malaga,Spanija"
          ],
          [
           "Maria Muldaur",
           "New York, NY"
          ],
          [
           "Johannes Linstead",
           "Toronto"
          ],
          [
           "Otis Spann",
           "Jackson, MS"
          ],
          [
           "Kool Moe Dee",
           "Harlem, New York, NY"
          ],
          [
           "The Tragically Hip",
           "Kingston, Ontario, Canada"
          ],
          [
           "Carman featuring Commissioned & The Christ Church Choir",
           "Trenton, NJ"
          ],
          [
           "Reni",
           "Manchester, England"
          ],
          [
           "Raphael",
           "France"
          ],
          [
           "Fiona",
           "New York, NY"
          ],
          [
           "Cargo Cult",
           "Reading"
          ],
          [
           "Lord Sterling",
           "New Jersey"
          ],
          [
           "Arturo Sandoval",
           "Artemisa, Cuba"
          ],
          [
           "Eldar",
           "Laietan, UM"
          ],
          [
           "The Fabulous Thunderbirds",
           "Austin, TX"
          ],
          [
           "Eddy Raven",
           "Lafayette, LA"
          ],
          [
           "Robben Ford",
           "Ukiah, CA"
          ],
          [
           "Zapp",
           "Dayton, OH"
          ],
          [
           "Ximena Sarinana",
           "MX"
          ],
          [
           "Fontella Bass",
           "St. Louis, MO"
          ],
          [
           "Old Man's Child",
           "Norway"
          ],
          [
           "Aeoliah",
           "Canada"
          ],
          [
           "Through the Eyes of the Dead",
           "Florence, SC"
          ],
          [
           "Jazz Gillum",
           "Indianola, MS"
          ],
          [
           "Neema",
           "CANADA - Qu\\xc3\\xa9bec"
          ],
          [
           "Fergie",
           "Hacienda Heights, CA"
          ],
          [
           "The Doors",
           "Los Angeles, California, United States"
          ],
          [
           "Poncho Sanchez",
           "Laredo, TX"
          ],
          [
           "Livingston Taylor",
           "Boston, MA"
          ],
          [
           "Papa Wemba",
           "Kasai, Zaire"
          ],
          [
           "THE CHIFFONS",
           "New York, NY [The Bronx]"
          ],
          [
           "Spitfire",
           "Athens"
          ],
          [
           "Equilibrium",
           "Colorado"
          ],
          [
           "Martha Wainwright",
           "NY - New York City"
          ],
          [
           "The Rolling Stones",
           "London, England"
          ],
          [
           "Ms. Dynamite",
           "London"
          ],
          [
           "Atom",
           "Washington"
          ],
          [
           "Johnny Horton",
           "Los Angeles, CA"
          ],
          [
           "L.A. Guns",
           "katy"
          ],
          [
           "Britt Nicole",
           " NC"
          ],
          [
           "Claire Hamill",
           "UK - England - South East"
          ],
          [
           "The Plasmatics",
           "New York, NY"
          ],
          [
           "Connie Smith",
           "Elkhart, IN"
          ],
          [
           "Dobby Dobson",
           "Florida"
          ],
          [
           "Martriden",
           "Havre, MT"
          ],
          [
           "D:Fuse",
           "Austin, TX"
          ],
          [
           "Max Steiner",
           "Vienna, Austria"
          ],
          [
           "Humble Pie",
           "Essex, England"
          ],
          [
           "Incubus",
           "California"
          ],
          [
           "Bryan Ferry",
           "Washington, England"
          ],
          [
           "Angels",
           "Australia"
          ],
          [
           "Barbara Fairchild",
           "Knobel, AK"
          ],
          [
           "The Balustrade Ensemble",
           "san francisco"
          ],
          [
           "The Highwaymen",
           "Dayton, OH"
          ],
          [
           "Joselito",
           "Jaen"
          ],
          [
           "Bill Laswell",
           "New York City (Salem, IL - originally)"
          ],
          [
           "Hatebreed (int License)",
           "New Haven, CT"
          ],
          [
           "Snowgoons",
           "Karlsruhe, Germany"
          ],
          [
           "Jah Legacy",
           "FRANCE"
          ],
          [
           "Dimitri Tiomkin",
           "Kremenchuk, Ukraine"
          ],
          [
           "Olivia Ruiz",
           "Carcassonne, France"
          ],
          [
           "Richard Burton",
           "Pennsylvania"
          ],
          [
           "The Roots",
           "Philadelphia, Pennsylvania, U.S."
          ],
          [
           "The Pharcyde",
           "Los Angeles, CA"
          ],
          [
           "The Doors",
           "Los Angeles, California, United States"
          ],
          [
           "Butthole Surfers",
           "San Antonio, TX"
          ],
          [
           "Helen Love",
           "Cardiff, Wales"
          ],
          [
           "2raumwohnung",
           "Berlin, Germany"
          ],
          [
           "Papoose",
           "Bedford-Stuyvesant, NY"
          ],
          [
           "Plump DJs",
           "London, England"
          ],
          [
           "THE CHIFFONS",
           "New York, NY [The Bronx]"
          ],
          [
           "Jimmy Durante",
           "New York, NY"
          ],
          [
           "Jackie Wilson",
           "Detroit, MI"
          ],
          [
           "Rapha\\xc3\\xabl",
           "France"
          ],
          [
           "The Meatmen",
           "Lansing, MI"
          ],
          [
           "Jimmy Nelson",
           "Philadelphia, PA"
          ],
          [
           "Jacques Dutronc",
           "Paris, France"
          ],
          [
           "Hotwire",
           "Newbury Park, CA"
          ],
          [
           "Prozak",
           "London"
          ],
          [
           "BT",
           "Earth"
          ],
          [
           "John Berry",
           "Aiken, SC"
          ],
          [
           "Abijah",
           "Jamaica"
          ],
          [
           "Agnostic Front",
           "New York, NY"
          ],
          [
           "Sick Of It All",
           "Virginia"
          ],
          [
           "Tr\\xc3\\xa8s",
           "Texas"
          ],
          [
           "Oscar Pettiford",
           "Okmulgee, OK"
          ],
          [
           "Marc Lavoine",
           "Longjumeau, France"
          ],
          [
           "Frederick Knight",
           "Birmingham, AL"
          ],
          [
           "Russ Morgan",
           "Scranton, PA"
          ],
          [
           "Grand Funk",
           "Flint, MI"
          ],
          [
           "Mothers Pride",
           "Lucerne"
          ],
          [
           "Workhorse",
           "Mississippi"
          ],
          [
           "The Irish Rovers",
           "Alberta, Canada"
          ],
          [
           "Hank Penny & Sue Thompson",
           "Birmingham, AL"
          ],
          [
           "JennyAnyKind",
           "North Carolina"
          ],
          [
           "Al Duvall",
           "NY - New York City"
          ],
          [
           "Britt Nicole",
           " NC"
          ],
          [
           "Poncho Sanchez",
           "Laredo, TX"
          ],
          [
           "Modern Lovers",
           "Boston, MA"
          ],
          [
           "Paul Taylor",
           "Wyoming"
          ],
          [
           "Atreyu",
           "Orange County, CA"
          ],
          [
           "Luiz Bonfa",
           "Rio de Janeiro, Brazil"
          ],
          [
           "Shelly Manne",
           "New York, NY"
          ],
          [
           "Washboard Sam",
           "Walnut Ridge, AR"
          ],
          [
           "Amil",
           "New York, NY"
          ],
          [
           "Skeeter Davis",
           "Dry Ridge, KY"
          ],
          [
           "Goatwhore",
           "New Orleans, LA"
          ],
          [
           "Inspiral Carpets",
           "Manchester, England"
          ],
          [
           "Eric Burdon",
           "Walker-on-Tyne, England"
          ],
          [
           "Kruger",
           "Lausanne, CH"
          ],
          [
           "Circle Jerks",
           "California - LA"
          ],
          [
           "Kofi",
           "California - LA"
          ],
          [
           "Tex Williams",
           "Ramsey, Fayette County, IL"
          ],
          [
           "Death SS",
           "Pesaro, Italy"
          ],
          [
           "Bessie Smith",
           "Chattanooga, TN"
          ],
          [
           "Lou Reed",
           "Brooklyn, New York"
          ],
          [
           "Jerry Lewis",
           "Newark, NJ"
          ],
          [
           "Cam'Ron",
           "Harlem, NY"
          ],
          [
           "Arco Iris",
           "Valais/Suisse"
          ],
          [
           "Mikey Dread",
           "Jamaica"
          ],
          [
           "Big Star",
           "Memphis, TN"
          ],
          [
           "Grandpa Jones",
           "Niagra, KY"
          ],
          [
           "Cross Country",
           "Auburn, CA"
          ],
          [
           "The Marx Brothers",
           "New York City, New York"
          ],
          [
           "Hatebreed",
           "New Haven, CT"
          ],
          [
           "Converge",
           "Boston, Brooklyn USA"
          ],
          [
           "Philip Glass",
           "Baltimore, MD"
          ],
          [
           "Drexel",
           "Dayton, Ohio"
          ],
          [
           "Falco",
           "Vienna, Austria"
          ],
          [
           "Nancy Walker",
           "California"
          ],
          [
           "Shamen",
           "Aberdeen, Scotland"
          ],
          [
           "Ino",
           "Quebec"
          ],
          [
           "Jerry Butler",
           "Sunflower, MS"
          ],
          [
           "Edmundo Ros",
           "Venezuela"
          ],
          [
           "Al DiMeola",
           "Jersey City, NJ"
          ],
          [
           "Leroy Van Dyke",
           "Spring Fork, MO"
          ],
          [
           "Peggy Lee",
           "Jamestown, ND"
          ],
          [
           "Lightnin' Slim",
           "St. Louis, MO"
          ],
          [
           "Pursuit Of Happiness",
           "Toronto, Ontario, Canada"
          ],
          [
           "David Arkenstone",
           "Tennessee"
          ],
          [
           "Agnostic Front",
           "New York, NY"
          ],
          [
           "Pursuit Of Happiness",
           "Toronto, Ontario, Canada"
          ],
          [
           "Ben Sidran",
           "Chicago, IL"
          ],
          [
           "3 Way Funk",
           "California - SF"
          ],
          [
           "Freddie Roulette",
           "Illinois"
          ],
          [
           "JennyAnyKind",
           "North Carolina"
          ],
          [
           "Skeeter Davis",
           "Dry Ridge, KY"
          ],
          [
           "John Berry",
           "Aiken, SC"
          ],
          [
           "Andrae Crouch",
           "Pacoima, CA"
          ],
          [
           "BT",
           "Earth"
          ],
          [
           "Skeeter Davis",
           "Dry Ridge, KY"
          ],
          [
           "Sugar Minott",
           "Kingston, Jamaica"
          ],
          [
           "Pumpkin Buzzard",
           "Missouri"
          ],
          [
           "Gonzalo Rubalcaba",
           "Havana, Cuba"
          ],
          [
           "Evergreen Terrace",
           "Jacksonville, FL"
          ],
          [
           "Alice Stuart",
           "Washington"
          ],
          [
           "2raumwohnung",
           "Berlin, Germany"
          ],
          [
           "Screaming Lord Sutch",
           "Harrow, Middlesex, England"
          ],
          [
           "Sylvia Tosun",
           "Wolcott, CT"
          ],
          [
           "Kings Of Leon",
           "Nashville, Tennessee"
          ],
          [
           "Pinch",
           "Illinois"
          ],
          [
           "Dave Weckl",
           "St. Louis, MO"
          ],
          [
           "Atreyu",
           "Orange County, CA"
          ],
          [
           "Grant Geissman",
           "PEARLINGTON, Mississippi"
          ],
          [
           "Ed Ames",
           "Malden, MA"
          ],
          [
           "Uphill Battle",
           "Ventura County, CA"
          ],
          [
           "Loretta Lynn",
           "Nashville, TN, Texas"
          ],
          [
           "Rance Allen Group",
           "Detroit, MI"
          ],
          [
           "Clarence \"Gatemouth\" Brown",
           "Vinton, LA"
          ],
          [
           "James Carter",
           "Detroit, MI"
          ],
          [
           "Atari Teenage Riot",
           "Berlin, Germany"
          ],
          [
           "Scott Weiland",
           "Santa Cruz, CA"
          ],
          [
           "Kris Kristofferson",
           "Brownsville, TX"
          ],
          [
           "Primordial",
           "Dublin, Ireland"
          ],
          [
           "Robin Fox",
           "Florida"
          ],
          [
           "Jimmy Cliff",
           "St. Catherine, Jamaica"
          ],
          [
           "Bill Laswell",
           "New York City (Salem, IL - originally)"
          ],
          [
           "Snowgoons",
           "Karlsruhe, Germany"
          ],
          [
           "Vex'd",
           "London"
          ],
          [
           "Mannheim Steamroller",
           "Omaha, NE"
          ],
          [
           "Hatebreed",
           "New Haven, CT"
          ],
          [
           "The Chap",
           "London"
          ],
          [
           "Janet Paschal",
           "North Carolina"
          ],
          [
           "Venice",
           "New Hampshire USA"
          ],
          [
           "Frank Chacksfield",
           "Battle, Sussex, England"
          ],
          [
           "Photek",
           "Ipswich, England"
          ],
          [
           "Cotton Candy",
           "California - SF"
          ],
          [
           "The Doors",
           "Los Angeles, California, United States"
          ],
          [
           "Agnostic Front",
           "New York, NY"
          ],
          [
           "Dyango",
           "Massachusetts"
          ],
          [
           "Ty Herndon",
           "Meridian, MS"
          ],
          [
           "Jimmy Witherspoon",
           "Gurdon, AR"
          ],
          [
           "A-FS",
           "Great Britain / UK"
          ],
          [
           "Kieran",
           "Idaho"
          ],
          [
           "Gabriel Yared",
           "Beirut, Lebanon"
          ],
          [
           "Curtis Mayfield",
           "Chicago, IL"
          ],
          [
           "REX ALLEN JR.",
           "United States"
          ],
          [
           "Jimmy McGriff",
           "Philadelphia, PA"
          ],
          [
           "Sugar Ray",
           "Orange County, CA"
          ],
          [
           "Year Long Disaster",
           "Los Angeles, CA"
          ],
          [
           "Blind Willie Johnson",
           "Marlin, TX"
          ],
          [
           "Sinch",
           "Pennsylvania"
          ],
          [
           "MIMS",
           "New York, NY [Washington Heights]"
          ],
          [
           "Rick Astley",
           "Newton-le-Willows, Merseyside, England"
          ],
          [
           "Cindy Morgan",
           "Nashville, TN"
          ],
          [
           "The Clancy Brothers;Tommy Makem",
           "Ireland"
          ],
          [
           "Big Star",
           "Memphis, TN"
          ],
          [
           "Double Image",
           "Maryland"
          ],
          [
           "The Highwaymen",
           "Dayton, OH"
          ],
          [
           "Lynn August",
           "Lafayette, LA"
          ],
          [
           "Karlheinz Stockhausen",
           "M\\xef\\xbf\\xbdth, Germany"
          ],
          [
           "Sugar Minott",
           "Kingston, Jamaica"
          ],
          [
           "Billie Jo Spears",
           "Beaumont, TX"
          ],
          [
           "Philip Glass",
           "Baltimore, MD"
          ],
          [
           "The Perrys",
           "Maryland"
          ],
          [
           "Public Image Ltd",
           "London, England"
          ],
          [
           "Jennifer Clarke",
           "Cork, Ireland"
          ],
          [
           "Richie McDonald",
           "Tennessee"
          ],
          [
           "Mink DeVille",
           "New York, NY"
          ],
          [
           "Ms. Dynamite",
           "London"
          ],
          [
           "Sugar Minott",
           "Kingston, Jamaica"
          ],
          [
           "Ms. Dynamite / Bounty Killer",
           "London"
          ],
          [
           "Jazz Gillum",
           "Indianola, MS"
          ],
          [
           "Pierre Boulez",
           "Montbrison, France"
          ],
          [
           "Assassin",
           "California"
          ],
          [
           "Britt Nicole",
           " NC"
          ],
          [
           "Richard Souther",
           "United States"
          ],
          [
           "Doug Sahm",
           "San Antonio, TX"
          ],
          [
           "Bob Cheevers",
           "Tennessee"
          ],
          [
           "Goatwhore",
           "New Orleans, LA"
          ],
          [
           "Wesley Tuttle",
           "Lamar, CO"
          ],
          [
           "J.J. Cale & Eric Clapton",
           "Oklahoma City, OK"
          ],
          [
           "The Rascals",
           "New York, NY"
          ],
          [
           "Workhorse",
           "Mississippi"
          ],
          [
           "Jackie Edwards",
           "Jamaica"
          ],
          [
           "Sophie Tucker",
           "Russia"
          ],
          [
           "Ricardo Lemvo",
           "HOUSTON, Texas"
          ],
          [
           "Kuba",
           "Latvia"
          ],
          [
           "Bersuit Vergarabat",
           "Buenos Aires"
          ],
          [
           "Vangelis",
           "Volos, Greece"
          ],
          [
           "Charles Williams",
           "Texas"
          ],
          [
           "Junior Parker",
           "Clarksdale, MS"
          ],
          [
           "Uman",
           "Belgium"
          ],
          [
           "Irma Thomas",
           "Ponchatoula, LA"
          ],
          [
           "Neil Innes",
           "Essex, England"
          ],
          [
           "Pete Miser",
           "NY - New York City"
          ],
          [
           "Marc Lavoine",
           "Longjumeau, France"
          ],
          [
           "Jim Kweskin",
           "Stamford, CT"
          ],
          [
           "Amilcar",
           "Florida"
          ],
          [
           "Thomas Dolby",
           "Cairo, Egypt"
          ],
          [
           "Blind Lemon Jefferson",
           "Couchman, TX"
          ],
          [
           "The Distillers",
           "L.A \\tCalifornia, Estados Unidos "
          ],
          [
           "Smidi Beats",
           "Nevada"
          ],
          [
           "Jacques Higelin",
           "Brou-sur-Chantereine, France"
          ],
          [
           "Kool Moe Dee",
           "Harlem, New York, NY"
          ],
          [
           "Alternative TV",
           "London, England"
          ],
          [
           "Indica",
           "Finland"
          ],
          [
           "Danny Wright",
           "Texas"
          ],
          [
           "Little Eva",
           "Bellhaven, NC"
          ],
          [
           "Why?",
           "Cincinnati, OH"
          ],
          [
           "Amil",
           "New York, NY"
          ],
          [
           "Hank Penny",
           "Birmingham, AL"
          ],
          [
           "Freakhouse",
           "South Hadley Massachusetts USA"
          ],
          [
           "The Smashing Pumpkins",
           "Chicago, IL"
          ],
          [
           "The Highwaymen",
           "Dayton, OH"
          ],
          [
           "Big Mountain",
           "California"
          ],
          [
           "Professor Longhair",
           "Bogalusa, LA"
          ],
          [
           "Stevie Ray Vaughan And Double Trouble",
           "Dallas, TX"
          ],
          [
           "Foghat",
           "London, England"
          ],
          [
           "Slim Whitman",
           "Tampa, FL"
          ],
          [
           "Tim Hughes",
           "CANADA - Ontario"
          ],
          [
           "DJ Icey",
           "Florida"
          ],
          [
           "King Curtis",
           "Fort Worth, TX"
          ],
          [
           "Scott Krippayne",
           "Washington"
          ],
          [
           "Erik Berglund",
           "Texas"
          ],
          [
           "Arturo Sandoval",
           "Artemisa, Cuba"
          ],
          [
           "Herb Alpert And The Tijuana Brass",
           "BEVERLY HILLS, California"
          ],
          [
           "Chango Spasiuk",
           "Argentina"
          ],
          [
           "Black Messiah",
           "Nordrhein-Westfalen"
          ],
          [
           "Eric Burdon",
           "Walker-on-Tyne, England"
          ],
          [
           "Gene Chandler",
           "Chicago, IL"
          ],
          [
           "Little Milton",
           "Inverness, MS"
          ],
          [
           "Bobby Vee",
           "Fargo, ND"
          ],
          [
           "GG Allin",
           "Lancaster, NH"
          ],
          [
           "The Cutting Edge",
           "California - LA"
          ],
          [
           "Patti Smith",
           "Chicago, IL"
          ],
          [
           "Mudhoney",
           "Seattle, WA"
          ],
          [
           "Faithless",
           "London, England"
          ],
          [
           "Smiley",
           "Tyler Texas USA"
          ],
          [
           "Grizzly Bear",
           "Brooklyn, NY"
          ],
          [
           "Andr\\xc3\\xa9 Verchuren",
           "Neuilly-sous-Clermont (Oise)"
          ],
          [
           "Emperor",
           "Norway"
          ],
          [
           "The Weegs",
           "California - SF"
          ],
          [
           "Plasmatics",
           "New York, NY"
          ],
          [
           "Maria Callas/Giuseppe di Stefano/Orchestra del Teatro alla Scala_ Milano/Gianandrea Gavazzeni",
           "New York, NY"
          ],
          [
           "Tanika Turner",
           "California"
          ],
          [
           "Grupo Batuque",
           "Brazil"
          ],
          [
           "Tony Joe White",
           "Goodwill, LA"
          ],
          [
           "The Weegs",
           "California - SF"
          ],
          [
           "Bizzy Bone",
           "Columbus, OH"
          ],
          [
           "Debra Laws",
           "Houston, TX"
          ],
          [
           "Red Stick Ramblers",
           "Lafayette/Baton Rouge, LA"
          ],
          [
           "Cece Winans",
           "Charlotte, NC"
          ],
          [
           "Doyle Bramhall",
           "Dallas, TX"
          ],
          [
           "The Jackson Southernaires",
           "Mississippi"
          ],
          [
           "Legacy Five",
           "Tennessee"
          ],
          [
           "Josh White",
           "Greensboro, NC"
          ],
          [
           "Eddie Money",
           "Brooklyn, NY"
          ],
          [
           "Little Milton",
           "Inverness, MS"
          ],
          [
           "Taking Back Sunday",
           "Long Island, New York"
          ],
          [
           "The Clash",
           "London, England"
          ],
          [
           "Joshua Rifkin",
           "New York, NY"
          ],
          [
           "Mary Black",
           "Ireland"
          ],
          [
           "Keb' Mo'",
           "Los Angeles, CA"
          ],
          [
           "Ministry of Sound",
           "Paris, France"
          ],
          [
           "Bow Wow Wow",
           "London, England"
          ],
          [
           "Kamelo Punto Semos",
           "Barcelona"
          ],
          [
           "Rooney",
           "Los Angeles, CA"
          ],
          [
           "Atreyu",
           "Orange County, CA"
          ],
          [
           "Scott Wesley Brown",
           "Atlanta Georgia USA"
          ],
          [
           "Ashes to Ashes",
           "NORWAY"
          ],
          [
           "The Rolling Stones",
           "London, England"
          ],
          [
           "Amoral",
           "Helsinki, Finland"
          ],
          [
           "Tony Martin",
           "Oakland, CA"
          ],
          [
           "Kool Moe Dee",
           "Harlem, New York, NY"
          ],
          [
           "Fudge Tunnel",
           "Nottingham"
          ],
          [
           "Roger Williams",
           "Omaha, NE"
          ],
          [
           "Nancy Walker",
           "California"
          ],
          [
           "Aeoliah",
           "Canada"
          ],
          [
           "Tony Martin",
           "Oakland, CA"
          ],
          [
           "Dionne Warwick",
           "East Orange, NJ"
          ],
          [
           "The Jackson Southernaires",
           "Mississippi"
          ],
          [
           "Swallow The Sun",
           "Jyv\\xc3\\xa4skyl\\xc3\\xa4, Finland"
          ],
          [
           "Plump DJs",
           "London, England"
          ],
          [
           "Jean-Jacques Goldman",
           "Paris, France"
          ],
          [
           "Dennis Brown",
           "Kingston, Jamaica"
          ],
          [
           "Lee Michaels",
           "Los Angeles, CA"
          ],
          [
           "Frank Stokes",
           "Whitehaven, TN"
          ],
          [
           "Bobby Broom",
           "New York City"
          ],
          [
           "Max Steiner",
           "Vienna, Austria"
          ],
          [
           "Carman featuring Commissioned & The Christ Church Choir",
           "Trenton, NJ"
          ],
          [
           "Moonspell",
           "Portugal"
          ],
          [
           "Statues",
           "Sudbury, Ontario - Canada"
          ],
          [
           "Strata",
           "Campbell, CA"
          ],
          [
           "Poncho Sanchez",
           "Laredo, TX"
          ],
          [
           "Albert King",
           "Indianola, MS"
          ],
          [
           "Frankie Negron",
           "New York, NY"
          ],
          [
           "Tiny Tim",
           "New York, NY"
          ],
          [
           "Los Van Van",
           "Cuba"
          ],
          [
           "Washboard Sam",
           "Walnut Ridge, AR"
          ],
          [
           "Viktor Krauss",
           "Champagne, IL"
          ],
          [
           "Willy DeVille",
           "New York, New York"
          ],
          [
           "Plump DJs",
           "London, England"
          ],
          [
           "Sugar Minott",
           "Kingston, Jamaica"
          ],
          [
           "Bukka White",
           "Houston, MS"
          ],
          [
           "The Jackson Southernaires",
           "Mississippi"
          ],
          [
           "Nerf Herder",
           "Santa Barbara, CA"
          ],
          [
           "Bryan Ferry",
           "Washington, England"
          ],
          [
           "Moon Mullican",
           "Corrigan, Polk County, TX"
          ],
          [
           "Santana",
           "San Francisco, California"
          ],
          [
           "Hot Chip",
           "London"
          ],
          [
           "Graham Central Station",
           "California"
          ],
          [
           "Jacques Dutronc",
           "Paris, France"
          ],
          [
           "Pennywise",
           "Hermosa Beach, CA"
          ],
          [
           "Gustavo Santaolalla",
           "Buenos Aires, Argentina"
          ],
          [
           "JK",
           "Texas"
          ],
          [
           "Royal S",
           "Winterthur, Switzerland"
          ],
          [
           "Kurupt",
           "Philadelphia, PA"
          ],
          [
           "Danny Williams",
           "Port Elizabeth, South Africa"
          ],
          [
           "Jimmy McGriff",
           "Philadelphia, PA"
          ],
          [
           "Bryan Ferry",
           "Washington, England"
          ],
          [
           "Mikey Dread",
           "Jamaica"
          ],
          [
           "Bukue One",
           "California"
          ],
          [
           "Nerf Herder",
           "Santa Barbara, CA"
          ],
          [
           "Tony Joe White",
           "Goodwill, LA"
          ],
          [
           "Snowgoons",
           "Karlsruhe, Germany"
          ],
          [
           "Cali",
           "Vernet les Bains"
          ],
          [
           "The Marx Brothers",
           "New York City, New York"
          ],
          [
           "The Dylans",
           "Sheffield, Yorkshire, England"
          ],
          [
           "Jim Reeves",
           "Galloway, Panola County, TX"
          ],
          [
           "The MC5",
           "Lincoln Park, MI"
          ],
          [
           "Floyd Cramer",
           "Samti, LA"
          ],
          [
           "Tommy Sands",
           "UK - Northern Ireland"
          ],
          [
           "Bad Religion",
           "Los Angeles, Ca"
          ],
          [
           "Roy Rogers",
           "Redding, CA"
          ],
          [
           "Kix",
           "Hagerstown, MD"
          ],
          [
           "Nightfall",
           "Bogota, COL"
          ],
          [
           "Fountains Of Wayne",
           "New York, NY"
          ],
          [
           "Terry Callier",
           "Chicago"
          ],
          [
           "Event Horizon",
           "Chihuahua, Mexico"
          ],
          [
           "BT feat. JES",
           "Earth"
          ],
          [
           "Arika Kane",
           "Connecticut"
          ],
          [
           "The Cliks",
           "Toronto, Canada"
          ],
          [
           "Agnostic Front",
           "New York, NY"
          ],
          [
           "Lizzy Borden",
           "Los Angeles, CA"
          ],
          [
           "Cliff Bruner",
           "Houston, TX"
          ],
          [
           "Delbert McClinton",
           "Lubbock, TX"
          ],
          [
           "Bongzilla",
           "Madison, Wisconsin"
          ],
          [
           "Sanna Nielsen",
           "Sweden"
          ],
          [
           "Dave Eggar",
           "California - LA"
          ],
          [
           "Dax Riggs",
           "Houma, LA"
          ],
          [
           "Warner mack",
           "Nashville, TN"
          ],
          [
           "Leroy Hutson",
           "Newark, NJ"
          ],
          [
           "Bob Neuwirth",
           "New York"
          ],
          [
           "Lockwood",
           "Cypress Texas"
          ],
          [
           "Albert King",
           "Indianola, MS"
          ],
          [
           "Rihanna",
           "St Michael, Barbados "
          ],
          [
           "Fenton Robinson",
           "Minter City, MS"
          ],
          [
           "Jason Miles",
           "NY - New York City"
          ],
          [
           "Luiz Bonfa",
           "Rio de Janeiro, Brazil"
          ],
          [
           "Emilio",
           "SAN ANTONIO, Texas"
          ],
          [
           "Orquesta Sublime",
           "Cuba"
          ],
          [
           "April Wine",
           "Halifax, Nova Scotia, Canada"
          ],
          [
           "Black Debbath",
           "Oslo, Norway"
          ],
          [
           "Helen Love",
           "Cardiff, Wales"
          ],
          [
           "Suzi Quatro",
           "Detroit, MI"
          ],
          [
           "Happy Mondays",
           "Manchester, England"
          ],
          [
           "Joe Turner",
           "Mississippi"
          ],
          [
           "Eddie Cantor",
           "New York, NY"
          ],
          [
           "K.T. Oslin",
           "Crossett, AR"
          ],
          [
           "Justin",
           "Georgia"
          ],
          [
           "The American Boychoir",
           "New Jersey"
          ],
          [
           "Falco",
           "Vienna, Austria"
          ],
          [
           "Buddy Miles",
           "Omaha, NE"
          ],
          [
           "Rocket From The Tombs",
           "Cleveland, OH"
          ],
          [
           "Long John Hunter",
           "Louisiana"
          ],
          [
           "Dee Clark",
           "Blythesville, AR"
          ],
          [
           "The Clash",
           "London, England"
          ],
          [
           "No Address",
           "Tallahassee, FL"
          ],
          [
           "Bottom Of The Hudson",
           "Charlottesville, VA"
          ],
          [
           "Delroy Wilson",
           "Kingston, Jamaica"
          ],
          [
           "Britney Spears",
           "Kentwood, LA; Los Angeles, CA"
          ],
          [
           "Rhian Sheehan",
           "Wellington"
          ],
          [
           "JennyAnyKind",
           "North Carolina"
          ],
          [
           "Michal",
           "NY - New York City"
          ],
          [
           "The Roots",
           "Philadelphia, Pennsylvania, U.S."
          ],
          [
           "Georges Brassens",
           "S\\xef\\xbf\\xbd, France"
          ],
          [
           "Tinariwen",
           "Mali, Africa"
          ],
          [
           "Eddie Cantor",
           "New York, NY"
          ],
          [
           "Klimperei",
           "FR"
          ],
          [
           "Blind Willie Johnson",
           "Marlin, TX"
          ],
          [
           "Jim Chappell",
           "United States"
          ],
          [
           "OutKast featuring George Clinton",
           "Atlanta, GA"
          ],
          [
           "Black Flag",
           "Los Angeles, CA"
          ],
          [
           "T-Bone",
           "Thaba Nchu"
          ],
          [
           "Terry Muska",
           "Texas"
          ],
          [
           "Grant Geissman",
           "PEARLINGTON, Mississippi"
          ],
          [
           "John Davis",
           "Pennsylvania"
          ],
          [
           "Rocker-T",
           "Wisconsin"
          ],
          [
           "Keb' Mo'",
           "Los Angeles, CA"
          ],
          [
           "Rihanna",
           "St Michael, Barbados "
          ],
          [
           "Luiz Bonfa",
           "Rio de Janeiro, Brazil"
          ],
          [
           "Arthur Fiedler;Earl Wild;Pasquale Cardillo",
           "Boston, MA"
          ],
          [
           "Helmet",
           "New York"
          ],
          [
           "Tex Williams",
           "Ramsey, Fayette County, IL"
          ],
          [
           "Miossec",
           "Brest, France"
          ],
          [
           "The Cure",
           "Crawley, England"
          ],
          [
           "Blue Rodeo",
           "Toronto, Ontario, Canada"
          ],
          [
           "Bobby Hutcherson",
           "Los Angeles, CA"
          ],
          [
           "Goatwhore",
           "New Orleans, LA"
          ],
          [
           "Connie Francis",
           "Newark, NJ"
          ],
          [
           "Adrienne Pierce",
           "Canada"
          ],
          [
           "Mongo Santamaria",
           "Havana, Cuba [Jesus Maria]"
          ],
          [
           "OutKast",
           "Atlanta, GA"
          ],
          [
           "Guitar Slim",
           "Greenwood, MS"
          ],
          [
           "MIMS",
           "New York, NY [Washington Heights]"
          ],
          [
           "Selena",
           "Texas"
          ],
          [
           "The Cat's Miaow",
           "Australia"
          ],
          [
           "Dottie Rambo_ The Whites",
           "NASHVILLE, US"
          ],
          [
           "Maria Muldaur",
           "New York, NY"
          ],
          [
           "Stickboy",
           "North Carolina"
          ],
          [
           "Grandpa Jones",
           "Niagra, KY"
          ],
          [
           "Little Freddie King",
           "Louisiana"
          ],
          [
           "Sam Baker",
           "Austin, TX"
          ],
          [
           "Bruce Springsteen",
           "Freehold, NJ"
          ],
          [
           "The Berzerker",
           "Melbourne, Australia"
          ],
          [
           "Danny Wilson",
           "Dundee, Scotland"
          ],
          [
           "Snowgoons",
           "Karlsruhe, Germany"
          ],
          [
           "Daddy Yankee / Bounty Killer",
           "Puerto Rico"
          ],
          [
           "Blind Willie McTell",
           "Thomson, GA"
          ],
          [
           "Rocky Hill",
           "DE"
          ],
          [
           "Roy Drusky",
           "Atlanta, GA"
          ],
          [
           "C.C. Adcock",
           "Louisiana"
          ],
          [
           "MxPx",
           "Bremerton, WA"
          ],
          [
           "Julien Clerc",
           "FR"
          ],
          [
           "David & Steve Gordon",
           "California"
          ],
          [
           "M.I.K.E.",
           "Antwerp,Belgium, New York"
          ],
          [
           "Commissioned",
           "Michigan"
          ],
          [
           "Sex Machine ft. Sh\\xc3\\xa8na",
           "Michigan"
          ],
          [
           "Farlow-Kirch Band",
           "California - SF"
          ],
          [
           "Jim Chappell",
           "United States"
          ],
          [
           "Jim Reeves",
           "Galloway, Panola County, TX"
          ],
          [
           "Sex Machine",
           "Michigan"
          ],
          [
           "Jackie Wilson",
           "Detroit, MI"
          ],
          [
           "Pinch",
           "Illinois"
          ],
          [
           "Cadet",
           "Eugene, OR"
          ],
          [
           "Young-Holt Unlimited",
           "Chicago, IL"
          ],
          [
           "The Tokens",
           "Brooklyn, NY"
          ],
          [
           "Kanda Bongo Man",
           "Inongo, Zaire"
          ],
          [
           "Devanic",
           "Vienna"
          ],
          [
           "Converge",
           "Boston, Brooklyn USA"
          ],
          [
           "Astarte",
           "Athens, Greece"
          ],
          [
           "Wet Wet Wet",
           "Glasgow, Scotland"
          ],
          [
           "Vince Guaraldi Trio",
           "San Francisco, CA"
          ],
          [
           "Shifty",
           "Los Angeles, California"
          ],
          [
           "Glen Campbell",
           "Delight, AR"
          ],
          [
           "Martin Denny",
           "New York, NY"
          ],
          [
           "Selena",
           "Texas"
          ],
          [
           "Rance Allen Group",
           "Detroit, MI"
          ],
          [
           "Alex Ubago",
           "Vitoria, Spain"
          ],
          [
           "Alicia Keys",
           "Harlem, New York"
          ],
          [
           "OutKast",
           "Atlanta, GA"
          ],
          [
           "LL Cool J / Freeway",
           "Bayshore, Long Island, NY"
          ],
          [
           "Irwin Goodman",
           "H\\xc3\\xa4meenlinna"
          ],
          [
           "Ideal",
           "Florida"
          ],
          [
           "Tijuana Hercules",
           "Illinois"
          ],
          [
           "King Curtis",
           "Fort Worth, TX"
          ],
          [
           "Albert Ayler",
           "Cleveland, OH"
          ],
          [
           "The Jackson Southernaires",
           "Mississippi"
          ],
          [
           "Cassie",
           "New London, CT"
          ],
          [
           "Bobby Darin",
           "New York, NY [The Bronx]"
          ],
          [
           "David Palmer",
           "England"
          ],
          [
           "Catherine Howe & Vo Fletcher",
           "Yorkshire, England"
          ],
          [
           "Tex Williams",
           "Ramsey, Fayette County, IL"
          ],
          [
           "The Birds",
           "Yiewsley, London, England"
          ],
          [
           "Lionel Rogg",
           "Geneva, Switzerland"
          ],
          [
           "Hank Penny",
           "Birmingham, AL"
          ],
          [
           "M83",
           "Antibes, France"
          ],
          [
           "Polkaholix",
           "GERMANY"
          ],
          [
           "Marvin Hamlisch",
           "New York, NY"
          ],
          [
           "Bad Religion",
           "Los Angeles, Ca"
          ],
          [
           "Pursuit Of Happiness",
           "Toronto, Ontario, Canada"
          ],
          [
           "Jacques Dutronc",
           "Paris, France"
          ],
          [
           "Becoming The Archetype",
           "Atlanta, GA"
          ],
          [
           "Jeckyll & Hyde",
           "Netherlands"
          ],
          [
           "Dionne Warwick",
           "East Orange, NJ"
          ],
          [
           "The Smashing Pumpkins",
           "Chicago, IL"
          ],
          [
           "Miossec",
           "Brest, France"
          ],
          [
           "Kathy Troccoli",
           "NASHVILLE, Tennessee"
          ],
          [
           "Alicia Keys",
           "Harlem, New York"
          ],
          [
           "Pumpkin Buzzard",
           "Missouri"
          ],
          [
           "Jim Kweskin",
           "Stamford, CT"
          ],
          [
           "Rooney",
           "Los Angeles, CA"
          ],
          [
           "Mariah Carey",
           "New York, New York"
          ],
          [
           "Kane",
           "California - LA"
          ],
          [
           "Sugar Minott",
           "Kingston, Jamaica"
          ],
          [
           "Bob Margolin",
           "Boston, MA"
          ],
          [
           "Lionel Rogg",
           "Geneva, Switzerland"
          ],
          [
           "Dyango",
           "Massachusetts"
          ],
          [
           "Yahir",
           "Hermosillo Sonora, Mexico"
          ],
          [
           "Mikey Dread",
           "Jamaica"
          ],
          [
           "Papa Wemba",
           "Kasai, Zaire"
          ],
          [
           "The Jeremy Spencer Band",
           "West Hartlepool, England"
          ],
          [
           "BoDeans",
           "Waukesha WI"
          ],
          [
           "The Jackson Southernaires",
           "Mississippi"
          ],
          [
           "Clarence Fountain",
           "Tyler, AL"
          ],
          [
           "Thirst",
           "UK - England - South West"
          ],
          [
           "Faithless",
           "London, England"
          ],
          [
           "Eurythmics",
           "London, England"
          ],
          [
           "Jay & The Americans",
           "New York, NY"
          ],
          [
           "Rui Da Silva",
           "London"
          ],
          [
           "The Stooges",
           "Ann Arbor, MI"
          ],
          [
           "Johnny Horton",
           "Los Angeles, CA"
          ],
          [
           "Atreyu",
           "Orange County, CA"
          ],
          [
           "Bomb Squad",
           "Connecticut"
          ],
          [
           "Ms. Dynamite",
           "London"
          ],
          [
           "Cartel",
           "CHICAGO, US"
          ],
          [
           "Otis Spann",
           "Jackson, MS"
          ],
          [
           "Dexys Midnight Runners",
           "Birmingham, England"
          ],
          [
           "Vangelis",
           "Volos, Greece"
          ],
          [
           "Barbara Lynn",
           "Beaumont, TX"
          ],
          [
           "Pat Metheny / Charlie Haden",
           "Shenandoah, IA"
          ],
          [
           "Jay & The Americans",
           "New York, NY"
          ],
          [
           "Beat Pharmacy",
           "NY - New York City"
          ],
          [
           "Rhinoceros",
           "UK - England - West Midlands"
          ],
          [
           "Bury Your Dead",
           "Boston, Massachusetts"
          ],
          [
           "Dilated Peoples",
           "Los Angeles, California"
          ],
          [
           "Tiny Tim",
           "New York, NY"
          ],
          [
           "Mind Furniture",
           "California - SF"
          ],
          [
           "Alan Silvestri",
           "New York, NY"
          ],
          [
           "Helmet",
           "New York"
          ],
          [
           "Dynamite Deluxe",
           "Germany"
          ],
          [
           "Sivuca & Cl\\xc3\\xa3 Brasil",
           "Itabaiana, Para\\xef\\xbf\\xbd, Brazil"
          ],
          [
           "Rod Piazza & The Mighty Flyers",
           "California - LA"
          ],
          [
           "Primordial",
           "Dublin, Ireland"
          ],
          [
           "Willie Clancy",
           "Miltown Malbay, Ireland"
          ],
          [
           "Pee Wee King",
           "Milwaukee, WI"
          ],
          [
           "Nestor Torres",
           "Miami, FL"
          ],
          [
           "Irwin Goodman",
           "H\\xc3\\xa4meenlinna"
          ],
          [
           "Cancer Bats",
           "Toronto, Ontario, Canada"
          ],
          [
           "Roy Rogers",
           "Redding, CA"
          ],
          [
           "Johnny Nash",
           "Houston, TX"
          ],
          [
           "Marc Lavoine",
           "Longjumeau, France"
          ],
          [
           "Big Mama Thornton with Kansas Bill and his Orchestra",
           "Montgomery, AL"
          ],
          [
           "Roy Drusky",
           "Atlanta, GA"
          ],
          [
           "Jeanne Pruett",
           "Pell City, AL"
          ],
          [
           "The Irish Rovers",
           "Alberta, Canada"
          ],
          [
           "Angelo Badalamenti",
           "New Jersey"
          ],
          [
           "J.J. Cale",
           "Oklahoma City, OK"
          ],
          [
           "Vanessa Bell Armstrong",
           "Detroit, MI"
          ],
          [
           "Tommy Sands",
           "UK - Northern Ireland"
          ],
          [
           "Missy Higgins",
           "Melbourne, Australia"
          ],
          [
           "Charlie Patton",
           "Edwards, MS"
          ],
          [
           "Marlene Dietrich",
           "Sch\\xef\\xbf\\xbderg, Germany"
          ],
          [
           "Los Fabulosos Cadillacs",
           "Buenos Aires."
          ],
          [
           "Yank Rachell",
           "Brownsville, TN"
          ],
          [
           "Kruger",
           "Lausanne, CH"
          ],
          [
           "Slipknot",
           "Des Moines, Iowa"
          ],
          [
           "Grachan Moncur III",
           "New York"
          ],
          [
           "Rick Astley",
           "Newton-le-Willows, Merseyside, England"
          ],
          [
           "The Marx Brothers",
           "New York City, New York"
          ],
          [
           "Sylvester Weaver",
           "Louisville, KY"
          ],
          [
           "Orbital",
           "Sevenoaks, United Kingdom"
          ],
          [
           "Lester Bowie",
           "Frederick, MD"
          ],
          [
           "La 5A Estacion",
           "Bergen Norway"
          ],
          [
           "The Ataris",
           "Anderson, IN"
          ],
          [
           "Ronnie Milsap",
           "Robbinsville, NC"
          ],
          [
           "Legion Of Green Men",
           "Burlington, Ontario, Canada"
          ],
          [
           "Faces",
           "London, England"
          ],
          [
           "David Raksin",
           "Philadelphia, PA"
          ],
          [
           "Nick Ingman",
           "London, England"
          ],
          [
           "John Brown",
           "North Carolina"
          ],
          [
           "Tommy Overstreet",
           "Oklahoma City, OK"
          ],
          [
           "Jean-michel Rotin",
           "FRANCE"
          ],
          [
           "Happy Mondays",
           "Manchester, England"
          ],
          [
           "Prince With 94 East",
           "Minneapolis, MN"
          ],
          [
           "Bobby Darin",
           "New York, NY [The Bronx]"
          ],
          [
           "John Michael Talbot",
           "Oklahoma City, OK"
          ],
          [
           "Malina",
           "Viareggio, Italy"
          ],
          [
           "A Skylit Drive",
           "California"
          ],
          [
           "Daughters",
           "Providence, RI"
          ],
          [
           "The Waybacks",
           "California - SF"
          ],
          [
           "Andr\\xc3\\xa9 Verchuren",
           "Neuilly-sous-Clermont (Oise)"
          ],
          [
           "Illya Kuryaki And The Valderramas",
           "Brewster New York USA"
          ],
          [
           "Robben Ford",
           "Ukiah, CA"
          ],
          [
           "Ultimate Fakebook",
           "Manhattan, Kansas"
          ],
          [
           "Call To Preserve",
           "Rockledge, Florida"
          ],
          [
           "Broadcast",
           "Birmingham, England"
          ],
          [
           "Frank Stokes",
           "Whitehaven, TN"
          ],
          [
           "Orquesta Sublime",
           "Cuba"
          ],
          [
           "Hot Club Of Cowtown",
           "Hughesdale Victoria Australia"
          ],
          [
           "The Roots / Jaguar",
           "Philadelphia, Pennsylvania, U.S."
          ],
          [
           "Fabri Fibra",
           "Senigallia, Italy"
          ],
          [
           "The Incurables",
           "Missouri"
          ],
          [
           "Frank Caliendo",
           "California"
          ],
          [
           "Guitar Shorty",
           "Harlingen TX"
          ],
          [
           "Love Jones",
           "Louisville, KY"
          ],
          [
           "Jeff Beck",
           "Wallington, Surrey, England"
          ],
          [
           "Skeeter Davis",
           "Dry Ridge, KY"
          ],
          [
           "Crystals",
           "Nigeria"
          ],
          [
           "Jaydee",
           "Washington"
          ],
          [
           "Jimmy Johnson",
           "Illinois"
          ],
          [
           "Sick Puppies",
           "Sydney, Australia"
          ],
          [
           "The Jason Bonham Band",
           "NY - New York City"
          ],
          [
           "Poncho Sanchez / Dianne Reeves",
           "Laredo, TX"
          ],
          [
           "David Arkenstone",
           "Tennessee"
          ],
          [
           "Pelt",
           "Kingston"
          ],
          [
           "Annie Lennox",
           "Aberdeen"
          ],
          [
           "We Show Up On Radar",
           "nottingham"
          ],
          [
           "Catherine Howe",
           "Yorkshire, England"
          ],
          [
           "Little Freddie King",
           "Louisiana"
          ],
          [
           "David Arkenstone",
           "Tennessee"
          ],
          [
           "Fuzz",
           "Arizona"
          ],
          [
           "Rui Da Silva",
           "London"
          ],
          [
           "Connie Francis",
           "Newark, NJ"
          ],
          [
           "Curtis Mayfield",
           "Chicago, IL"
          ],
          [
           "The Mighty Clouds Of Joy",
           "Los Angeles, CA"
          ],
          [
           "Black Debbath",
           "Oslo, Norway"
          ],
          [
           "Stevie Ray Vaughan And Double Trouble",
           "Dallas, TX"
          ],
          [
           "Muse",
           "UK"
          ],
          [
           "Slim Whitman",
           "Tampa, FL"
          ],
          [
           "Groucho Marx",
           "FORT LAUDERDALE, Flevoland"
          ],
          [
           "The Clash",
           "London, England"
          ],
          [
           "Wendy Moten",
           "Memphis, TN"
          ],
          [
           "Melatonin",
           "NORWAY"
          ],
          [
           "Judas Iscariot",
           "DeKalb, Illinois, USA"
          ],
          [
           "Eddy Arnold",
           "Madisonville, TN"
          ],
          [
           "Andr\\xc3\\xa9 Verchuren",
           "Neuilly-sous-Clermont (Oise)"
          ],
          [
           "The Roots",
           "Philadelphia, Pennsylvania, U.S."
          ],
          [
           "The Merry Macs",
           "Minneapolis, MN"
          ],
          [
           "Tito Rodriguez",
           "San Juan, Puerto Rico"
          ],
          [
           "SNAP!",
           "Germany"
          ],
          [
           "California Oranges",
           "Sacremento, CA"
          ],
          [
           "The Berzerker",
           "Melbourne, Australia"
          ],
          [
           "GG Allin",
           "Lancaster, NH"
          ],
          [
           "Alexander O'Neal",
           "Minneapolis, MN"
          ],
          [
           "Photek",
           "Ipswich, England"
          ],
          [
           "Ashes to Ashes",
           "NORWAY"
          ],
          [
           "Band Of Horses",
           "Brooklyn, NY"
          ],
          [
           "Don & Juan",
           "Ohio"
          ],
          [
           "Edmundo Ros",
           "Venezuela"
          ],
          [
           "Selena",
           "Texas"
          ],
          [
           "Dave Eggar",
           "California - LA"
          ],
          [
           "Soulwax",
           "Ghent, Belgium"
          ],
          [
           "Mae West",
           "Brooklyn, NY"
          ],
          [
           "Mayday",
           "Texas"
          ],
          [
           "SNAP!",
           "Germany"
          ],
          [
           "Irwin Goodman",
           "H\\xc3\\xa4meenlinna"
          ],
          [
           "Lizzy Borden",
           "Los Angeles, CA"
          ],
          [
           "Eliane Elias",
           "Sao Paulo, Brazil"
          ],
          [
           "Mikey General",
           "Jamaica"
          ],
          [
           "Snowgoons",
           "Karlsruhe, Germany"
          ],
          [
           "Sergio Franchi",
           "Italy"
          ],
          [
           "Carolyn Arends",
           "CANADA - Ontario"
          ],
          [
           "The Strokes",
           "NY"
          ],
          [
           "Steve Smith",
           "Brockton, MA"
          ],
          [
           "Sugar Minott",
           "Kingston, Jamaica"
          ],
          [
           "Jacques Dutronc",
           "Paris, France"
          ],
          [
           "The Sonics",
           "Tacoma, WA"
          ],
          [
           "Nick Ingman",
           "London, England"
          ],
          [
           "Britney Spears",
           "Kentwood, LA; Los Angeles, CA"
          ],
          [
           "Tony Joe White",
           "Goodwill, LA"
          ],
          [
           "Gary Moore",
           "Belfast, Northern Ireland"
          ],
          [
           "D:Fuse vs The Scumfrog",
           "Austin, TX"
          ],
          [
           "Pat Travers",
           "Toronto, Canada"
          ],
          [
           "Kuba",
           "Latvia"
          ],
          [
           "Shawn Colvin",
           "Vermillion, SD"
          ],
          [
           "John Sebastian",
           "Leeds"
          ],
          [
           "Cockney Rejects",
           "England"
          ],
          [
           "New Roanoke Jug Band",
           "Virginia"
          ],
          [
           "Nickelback featuring Kid Rock",
           "Hanna, Alberta, Canada"
          ],
          [
           "Billie Jo Spears",
           "Beaumont, TX"
          ],
          [
           "UFO",
           "Arizona"
          ],
          [
           "Los Fabulosos",
           "Buenos Aires."
          ],
          [
           "Geoff Muldaur",
           "Rio de Janeiro"
          ],
          [
           "Take It Back!",
           "Fayetteville, AR"
          ],
          [
           "Sneaky Sound System",
           "Sydney, Australia"
          ],
          [
           "Little Eva",
           "Bellhaven, NC"
          ],
          [
           "Joi",
           "Georgia"
          ],
          [
           "Claire Hamill",
           "UK - England - South East"
          ],
          [
           "The Tokens",
           "Brooklyn, NY"
          ],
          [
           "Bob Neuwirth",
           "New York"
          ],
          [
           "The Marx Brothers",
           "New York City, New York"
          ],
          [
           "The Box Tops",
           "Memphis, TN"
          ],
          [
           "Percy Faith",
           "Toronto, Ontario, Canada"
          ],
          [
           "Daddy Yankee",
           "Puerto Rico"
          ],
          [
           "John Cephas & Phil Wiggins",
           "Bowling Green, VA"
          ],
          [
           "Mississippi Fred McDowell",
           "Rossville, Tennessee (Lived in Como, Mississippi)"
          ],
          [
           "Loudon Wainwright III",
           "Chapel Hill, NC"
          ],
          [
           "Cancer Bats",
           "Toronto, Ontario, Canada"
          ],
          [
           "Electric Light Orchestra",
           "Birmingham, England"
          ],
          [
           "To My Surprise",
           "Des Moines, Iowa"
          ],
          [
           "Cockney Rejects",
           "England"
          ],
          [
           "Sophie Tucker",
           "Russia"
          ],
          [
           "Terry Muska",
           "Texas"
          ],
          [
           "Why?",
           "Cincinnati, OH"
          ],
          [
           "HardNox",
           "California - SF"
          ],
          [
           "The Stooges",
           "Ann Arbor, MI"
          ],
          [
           "Sister Rosetta Tharpe",
           "Cotton Plant, AR"
          ],
          [
           "Billy Price_ Fred Chapellier",
           "Pennsylvania"
          ],
          [
           "DMZ",
           "Boston, MA"
          ],
          [
           "Philip Glass",
           "Baltimore, MD"
          ],
          [
           "Agnostic Front",
           "New York, NY"
          ],
          [
           "The Rance Allen Group",
           "Detroit, MI"
          ],
          [
           "Everly Brothers",
           "Tennessee"
          ],
          [
           "Luis Alberto Spinetta",
           "Buenos Aires, Argentina"
          ],
          [
           "Open Hand",
           "Mass. - Boston"
          ],
          [
           "Lesley Gore",
           "New York, NY"
          ],
          [
           "Gene Pitney",
           "Hartford, CT"
          ],
          [
           "Inspiral Carpets",
           "Manchester, England"
          ],
          [
           "Charlie McCoy",
           "Jackson, MS"
          ],
          [
           "Enuff Z Nuff",
           "Chicago, IL"
          ],
          [
           "Harry Lauder",
           "Portobello, Scotland"
          ],
          [
           "MxPx",
           "Bremerton, WA"
          ],
          [
           "Tyrone Davis",
           "Greenville, MS"
          ],
          [
           "Zumpano",
           "Vancouver, BC, Canada"
          ],
          [
           "Davol",
           "Colorado"
          ],
          [
           "Shelby Flint",
           "North Hollywood, CA"
          ],
          [
           "Orquesta Sublime",
           "Cuba"
          ],
          [
           "Pelle Carlberg",
           "Sweden"
          ],
          [
           "Fergie",
           "Hacienda Heights, CA"
          ],
          [
           "Daniel Paul",
           "Hawaii"
          ],
          [
           "Albert Collins",
           "Leona, Texas"
          ],
          [
           "Daddy Yankee",
           "Puerto Rico"
          ],
          [
           "Hot Tuna",
           "San Francisco, CA"
          ],
          [
           "Abijah",
           "Jamaica"
          ],
          [
           "Pee Wee Crayton",
           "Rockdale, TX"
          ],
          [
           "Jessie Lee Miller",
           "Texas"
          ],
          [
           "David & Steve Gordon",
           "California"
          ],
          [
           "Cool cavemen",
           "Lille, France"
          ],
          [
           "Philippe Sarde",
           "Neuilly-sur-Seine, France"
          ],
          [
           "UFO",
           "Arizona"
          ],
          [
           "Sister Rosetta Tharpe & Marie",
           "Cotton Plant, AR"
          ],
          [
           "Stevie Ray Vaughan And Double Trouble",
           "Dallas, TX"
          ],
          [
           "David Arkenstone",
           "Tennessee"
          ],
          [
           "David Johansen",
           "Staten Island, NY"
          ],
          [
           "Kitty Kallen",
           "Philadelphia, PA"
          ],
          [
           "Bobby Pulido",
           "Edinburg, TX"
          ],
          [
           "Bruce Rowland",
           "AUSTRALIA"
          ],
          [
           "Pumpkin Buzzard",
           "Missouri"
          ],
          [
           "The Marx Brothers",
           "New York City, New York"
          ],
          [
           "Daniela Dess\\xc3\\xac",
           "Genova"
          ],
          [
           "The Jam",
           "Woking, Surrey, England"
          ],
          [
           "Leon Russell",
           "Lawton, OK"
          ],
          [
           "Ill Nino",
           "Nueva Jersey (Estados Unidos)"
          ],
          [
           "Willie Clayton",
           "Indianola, MS"
          ],
          [
           "Nestor Torres",
           "Miami, FL"
          ],
          [
           "Debbie Davies",
           "Los Angeles, CA"
          ],
          [
           "Alvin Youngblood Hart",
           "Oakland, CA"
          ],
          [
           "The Starting Line",
           "Philadelphia, PA"
          ],
          [
           "Gonzalo Rubalcaba",
           "Havana, Cuba"
          ],
          [
           "Carl Belew",
           "Salina, OK"
          ],
          [
           "David Taylor",
           "Virginia"
          ],
          [
           "Roger Williams",
           "Omaha, NE"
          ],
          [
           "Grizzly Bear",
           "Brooklyn, NY"
          ],
          [
           "This Moment In Black History",
           "Cleveland, OH"
          ],
          [
           "Joselito",
           "Jaen"
          ],
          [
           "UK Subs",
           "UK - England - Yorkshire"
          ],
          [
           "Chaka Demus & Pliers",
           "Kingston"
          ],
          [
           "Pearl Jam",
           "Seattle, WA"
          ],
          [
           "Little Feat",
           "Los Angeles, CA"
          ],
          [
           "Brand X",
           "Sikeston, MO"
          ],
          [
           "Mistress",
           "Mass. - Boston"
          ],
          [
           "Atreyu",
           "Orange County, CA"
          ],
          [
           "Rapha\\xc3\\xabl",
           "France"
          ],
          [
           "M\\xc3\\xa5negarm",
           "Norrt\\xc3\\xa4lje"
          ],
          [
           "Ernest Ranglin / Floyd Lloyd",
           "Robin"
          ],
          [
           "Britney Spears",
           "Kentwood, LA; Los Angeles, CA"
          ],
          [
           "Tim Wilson",
           "Georgia"
          ],
          [
           "BoDeans",
           "Waukesha WI"
          ],
          [
           "Otis Spann",
           "Jackson, MS"
          ],
          [
           "Danny Wilson",
           "Dundee, Scotland"
          ],
          [
           "DJ Vix",
           "London"
          ],
          [
           "Al Dexter",
           "Jacksonville, TX"
          ],
          [
           "Bongzilla",
           "Madison, Wisconsin"
          ],
          [
           "John Tchicai",
           "Copenhagen, Denmark"
          ],
          [
           "John Holt",
           "Kingston, Jamaica"
          ],
          [
           "The Chap",
           "London"
          ],
          [
           "Spoonie Gee",
           "New York, NY"
          ],
          [
           "Linkin Park",
           "Los Angeles, CA"
          ],
          [
           "Harry Lauder",
           "Portobello, Scotland"
          ],
          [
           "Joi",
           "Georgia"
          ],
          [
           "Lonnie Johnson",
           "New Orleans, LA"
          ],
          [
           "Kenny Neal",
           "New Orleans, LA"
          ],
          [
           "Alvin Youngblood Hart",
           "Oakland, CA"
          ],
          [
           "Kristine W.",
           "Pasco, WA"
          ],
          [
           "Al Di Meola",
           "Jersey City, NJ"
          ],
          [
           "SNAP!",
           "Germany"
          ],
          [
           "Chris Clark",
           "Los Angeles, CA"
          ],
          [
           "Mance Lipscomb",
           "Navasota, TX"
          ],
          [
           "ARRESTED DEVELOPMENT",
           "Atlanta, GA"
          ],
          [
           "\\xc3\\x89tienne Daho",
           "Rennes"
          ],
          [
           "Bitty McLean",
           "Hawaii"
          ],
          [
           "Tom Cochrane",
           "Lynn Lake, Manitoba, Canada"
          ],
          [
           "The Moody Blues",
           "Birmingham"
          ],
          [
           "Trafik",
           "Utah"
          ],
          [
           "Fiona",
           "New York, NY"
          ],
          [
           "Eddie Palmieri",
           "New York, NY"
          ],
          [
           "HA-ASH",
           "Lousiana"
          ],
          [
           "Felix Slatkin/Concert Arts Symphonic Band",
           "St. Louis, MO"
          ],
          [
           "Maurane",
           "Ixelles, Belgium"
          ],
          [
           "Nikki Fletcher / Tim Hughes / Various Artists",
           "CANADA - Ontario"
          ],
          [
           "M83",
           "Antibes, France"
          ],
          [
           "Kooii",
           "AUSTRALIA - Queensland"
          ],
          [
           "Alicia Keys",
           "Harlem, New York"
          ],
          [
           "Shanadoo",
           "Tokyo"
          ],
          [
           "Irma Thomas",
           "Ponchatoula, LA"
          ],
          [
           "Aftermath",
           "Bogot\\xc3\\xa1 D. C., Colombia"
          ],
          [
           "Willy DeVille",
           "New York, New York"
          ],
          [
           "Polkaholix",
           "GERMANY"
          ],
          [
           "Scott Wesley Brown",
           "Atlanta Georgia USA"
          ],
          [
           "Paramore",
           "Franklin, TN"
          ],
          [
           "Nestor Torres",
           "Miami, FL"
          ],
          [
           "Loudon Wainwright III",
           "Chapel Hill, NC"
          ],
          [
           "Carl Davis",
           "Bellevue Washington USA"
          ],
          [
           "Willie Clayton",
           "Indianola, MS"
          ],
          [
           "Death From Above 1979",
           "BA"
          ],
          [
           "Tunsi",
           "California - SF"
          ],
          [
           "Roger Williams",
           "Omaha, NE"
          ],
          [
           "Ian Moore",
           "Seattle WA"
          ],
          [
           "089 Clique feat. Prophet",
           "GERMANY"
          ],
          [
           "Helmet",
           "New York"
          ],
          [
           "Chris Eaton",
           "California"
          ],
          [
           "James Darren",
           "Philadelphia, PA"
          ],
          [
           "Pee Wee Crayton",
           "Rockdale, TX"
          ],
          [
           "Sportsguitar",
           "Switzerland"
          ],
          [
           "The Strokes",
           "NY"
          ],
          [
           "Alicia Keys",
           "Harlem, New York"
          ],
          [
           "3OH!3",
           "Boulder, CO"
          ],
          [
           "Coco Montoya",
           "Santa Monica, CA"
          ],
          [
           "UFO",
           "Arizona"
          ],
          [
           "MIMS",
           "New York, NY [Washington Heights]"
          ],
          [
           "Kristine W.",
           "Pasco, WA"
          ],
          [
           "Kim Wilson",
           "Detroit, MI"
          ],
          [
           "Jamie Richards",
           "Shawnee OK"
          ],
          [
           "Eldar",
           "Laietan, UM"
          ],
          [
           "The Ataris",
           "Anderson, IN"
          ],
          [
           "Yami Bolo",
           "Detroit USA"
          ],
          [
           "Roger Williams",
           "Omaha, NE"
          ],
          [
           "Broadcast",
           "Birmingham, England"
          ],
          [
           "The American Boychoir",
           "New Jersey"
          ],
          [
           "David Bowie",
           "London, UK"
          ],
          [
           "Orbital",
           "Sevenoaks, United Kingdom"
          ],
          [
           "Sam Baker",
           "Austin, TX"
          ],
          [
           "Ginny Owens",
           "United States"
          ],
          [
           "Play",
           "Sweden"
          ],
          [
           "T-Bone",
           "Thaba Nchu"
          ],
          [
           "Semisonic",
           "Minneapolis, MN"
          ],
          [
           "Nine Inch Nails",
           "Cleveland, OH"
          ],
          [
           "Angelo Badalamenti / Patrick Wolf",
           "New Jersey"
          ],
          [
           "Guitar Slim",
           "Greenwood, MS"
          ],
          [
           "Otis Spann",
           "Jackson, MS"
          ],
          [
           "Kate Maki",
           "Virginia USA"
          ],
          [
           "Enuff Z 'Nuff",
           "Chicago, IL"
          ],
          [
           "Johannes Linstead",
           "Toronto"
          ],
          [
           "Converge",
           "Boston, Brooklyn USA"
          ],
          [
           "Inspiral Carpets",
           "Manchester, England"
          ],
          [
           "Tito Rodriguez",
           "San Juan, Puerto Rico"
          ],
          [
           "Thomas Dolby",
           "Cairo, Egypt"
          ],
          [
           "The Who",
           "Angleterre"
          ],
          [
           "Jars Of Clay",
           "Nashville, TN"
          ],
          [
           "Taking Back Sunday",
           "Long Island, New York"
          ],
          [
           "MC5",
           "Lincoln Park, MI"
          ],
          [
           "SAF",
           "Gent"
          ],
          [
           "089 Clique feat. Minnesota Snipe & Skinny Cueball",
           "GERMANY"
          ],
          [
           "Belphegor",
           "SANTA ANA, California"
          ],
          [
           "Ray Davies",
           "Muswell Hill, London, England"
          ],
          [
           "John Holt",
           "Kingston, Jamaica"
          ],
          [
           "Outerspace",
           "Philadelphia, PA"
          ],
          [
           "Brian Littrell",
           "Lexington, KY"
          ],
          [
           "Daryl Coley",
           "San Francisco, CA"
          ],
          [
           "Delroy Wilson",
           "Kingston, Jamaica"
          ],
          [
           "Fuzz",
           "Arizona"
          ],
          [
           "David Arkenstone",
           "Tennessee"
          ],
          [
           "Edgar Bori",
           "Montreal"
          ],
          [
           "Benga",
           "London, United Kingdom"
          ],
          [
           "Andr\\xc3\\xa9 Verchuren",
           "Neuilly-sous-Clermont (Oise)"
          ],
          [
           "Selena",
           "Texas"
          ],
          [
           "Irwin Goodman",
           "H\\xc3\\xa4meenlinna"
          ],
          [
           "Helen Love",
           "Cardiff, Wales"
          ],
          [
           "Jay & The Americans",
           "New York, NY"
          ],
          [
           "Indica",
           "Finland"
          ],
          [
           "Sunscreem",
           "Essex, England"
          ],
          [
           "Deborah Allen",
           "Memphis, TN"
          ],
          [
           "Casey Bill Weldon",
           "Arkansas"
          ],
          [
           "The Marx Brothers",
           "New York City, New York"
          ],
          [
           "Grandpa Jones",
           "Niagra, KY"
          ],
          [
           "Miguel Migs",
           "San Francisco, CA"
          ],
          [
           "Protein",
           "San Francisco, CA"
          ],
          [
           "Kevin Max",
           "LOS ANGELES, CALIFORNIA"
          ],
          [
           "Midge Ure",
           "Glasgow, Scotland"
          ],
          [
           "Negura Bunget",
           "Timi\\xc5\\x9foara"
          ],
          [
           "Emperor",
           "Norway"
          ],
          [
           "The Smashing Pumpkins",
           "Chicago, IL"
          ],
          [
           "Rihanna",
           "St Michael, Barbados "
          ],
          [
           "Oceansize",
           "Manchester, England"
          ],
          [
           "Jackie Davis",
           "Jacksonville, FL"
          ],
          [
           "Johnny Pacheco",
           "Santiago de los Caballeros, Domin"
          ],
          [
           "Sick Of It All",
           "Virginia"
          ],
          [
           "Blackalicious",
           "Davis, CA"
          ],
          [
           "John Davis & Emma Doyle",
           "Pennsylvania"
          ],
          [
           "Jeff Johnson",
           "Dallas, TX"
          ],
          [
           "Bukka White",
           "Houston, MS"
          ],
          [
           "Gang Of Four",
           "Leeds, England"
          ],
          [
           "Circle Jerks",
           "California - LA"
          ],
          [
           "Barbara Fairchild",
           "Knobel, AK"
          ],
          [
           "Tyrone Davis",
           "Greenville, MS"
          ],
          [
           "Jo-El Sonnier",
           "Rayne, LA"
          ],
          [
           "Jimmy Page_ John Paul Jones_ Albert Lee_ Nicky Hopkins_ Big Jim Sullivan_ Clem Cattini_ Chris Hughes",
           "Heston, Middlesex, England"
          ],
          [
           "Michael Whalen",
           "New York"
          ],
          [
           "Elton Britt",
           "Zack, AR"
          ],
          [
           "Bobby \"Blue\" Bland",
           "Rosemark, TN"
          ],
          [
           "Between The Buried And Me",
           "Charlotte, NC"
          ],
          [
           "Faithless",
           "London, England"
          ],
          [
           "Hellsongs",
           "Gothenburg, Sweden"
          ],
          [
           "Santana",
           "San Francisco, California"
          ],
          [
           "THE CHIFFONS",
           "New York, NY [The Bronx]"
          ],
          [
           "Little Junior Parker",
           "Clarksdale, MS"
          ],
          [
           "Incubus",
           "California"
          ],
          [
           "Brian Keane",
           "Texas"
          ],
          [
           "Robin Fox",
           "Florida"
          ],
          [
           "Statues",
           "Sudbury, Ontario - Canada"
          ],
          [
           "Rusted Shut",
           "Houston TX"
          ],
          [
           "Happy Mondays",
           "Manchester, England"
          ],
          [
           "Marilyn Horne",
           "Great Britain / UK"
          ],
          [
           "Daddy Yankee",
           "Puerto Rico"
          ],
          [
           "Janet Paschal",
           "North Carolina"
          ],
          [
           "Blue Rodeo",
           "Toronto, Ontario, Canada"
          ],
          [
           "John Brown",
           "North Carolina"
          ],
          [
           "Mary Black",
           "Ireland"
          ],
          [
           "Mikey Dread",
           "Jamaica"
          ],
          [
           "Faithless",
           "London, England"
          ],
          [
           "Selena",
           "Texas"
          ],
          [
           "Marquez the Greatest",
           "California - LA"
          ],
          [
           "Roy Buchanan",
           "Ozark, AR"
          ],
          [
           "Mayday",
           "Texas"
          ],
          [
           "Charles Williams",
           "Texas"
          ],
          [
           "Art Ensemble Of Chicago",
           "CHICAGO, Illinois"
          ],
          [
           "Swim",
           "Savignano S/R"
          ],
          [
           "Negura Bunget",
           "Timi\\xc5\\x9foara"
          ],
          [
           "Buddy Miles",
           "Omaha, NE"
          ],
          [
           "Bobbie Gentry",
           "Chickasaw County, MS"
          ],
          [
           "Brenda Lee",
           "Lithonia, GA"
          ],
          [
           "Eddy Arnold",
           "Madisonville, TN"
          ],
          [
           "Gisselle",
           "Puerto Rico"
          ],
          [
           "Paul Carrack",
           "Sheffield, Yorkshire, England"
          ],
          [
           "The Irish Rovers",
           "Alberta, Canada"
          ],
          [
           "William Coulter",
           "California"
          ],
          [
           "At The Gates",
           "Gothenburg"
          ],
          [
           "Johnny Horton",
           "Los Angeles, CA"
          ],
          [
           "Kane",
           "California - LA"
          ],
          [
           "Bomb Squad",
           "Connecticut"
          ],
          [
           "Eastmountainsouth",
           "Los Angeles, CA"
          ],
          [
           "Love Jones",
           "Louisville, KY"
          ],
          [
           "Kings Of Leon",
           "Nashville, Tennessee"
          ],
          [
           "From Dying Skies",
           "Lille, France"
          ],
          [
           "Eddy Raven",
           "Lafayette, LA"
          ],
          [
           "JK",
           "Texas"
          ],
          [
           "Dub Pistols feat. TK",
           "London, England"
          ],
          [
           "Albert Ayler",
           "Cleveland, OH"
          ],
          [
           "Perfection",
           "Uppsala"
          ],
          [
           "Tony Joe White",
           "Goodwill, LA"
          ],
          [
           "Terror Squad / Remy / Prospect / Armageddon",
           "The Bronx, New York, NY"
          ],
          [
           "D.A.D.",
           "Copenhagen (Denmark)"
          ],
          [
           "G.G. Allin",
           "NY - New York City"
          ],
          [
           "Darden Smith",
           "Brenham, TX"
          ],
          [
           "Mary Black",
           "Ireland"
          ],
          [
           "Daryl Coley",
           "San Francisco, CA"
          ],
          [
           "John Doan",
           "Oregon"
          ],
          [
           "Lorna",
           "Nottingham, England"
          ],
          [
           "The Keys",
           "UK"
          ],
          [
           "Toots Thielemans",
           "Brussels, Belgium"
          ],
          [
           "Stevie Ray Vaughan And Double Trouble",
           "Dallas, TX"
          ],
          [
           "Jamie Richards",
           "Shawnee OK"
          ],
          [
           "Joanna Connor",
           "Brooklyn, NY"
          ],
          [
           "Dilated Peoples Featuring Capleton",
           "Los Angeles, California"
          ],
          [
           "Saga",
           "Toronto, Ontario, Canada"
          ],
          [
           "Walter Jackson",
           "Pensacola, FL"
          ],
          [
           "Anthony Blea Y Su Charanga",
           "California - SF"
          ],
          [
           "Maria Callas/Giuseppe di Stefano/Ettore Bastianini/Silvana Zanolli/Luisa Mandelli/Giuseppe Zampieri/Arturo La Porta/Antonio Zerbini/Silvio Maionica/Coro e Orchestra del Teatro alla Scala_ Milano/Carlo Maria Giulini",
           "New York, NY"
          ],
          [
           "Herb Alpert And The Tijuana Brass",
           "BEVERLY HILLS, California"
          ],
          [
           "Francis Dunnery",
           "Egremont, Cumbria, England"
          ],
          [
           "Bonita & Jerry Cormier",
           "jakarta"
          ],
          [
           "Mikey Dread",
           "Jamaica"
          ],
          [
           "James Blackwood with The Light Crust Doughboys",
           "Tennessee"
          ],
          [
           "Alphonse Mouzon",
           "Charleston, SC"
          ],
          [
           "Ben Sidran",
           "Chicago, IL"
          ],
          [
           "Aeoliah",
           "Canada"
          ],
          [
           "King Curtis",
           "Fort Worth, TX"
          ],
          [
           "The Equals",
           "North London, England"
          ],
          [
           "Big Dee Irwin",
           "New York, NY"
          ],
          [
           "VHS Or Beta",
           "Louisville, KY"
          ],
          [
           "Charley Patton",
           "Edwards, MS"
          ],
          [
           "Babe Ruth",
           "Hatfield, Hertfordshire, England"
          ],
          [
           "Pennywise",
           "Hermosa Beach, CA"
          ],
          [
           "Edmundo Ros",
           "Venezuela"
          ],
          [
           "The Sterns",
           "Brighton, MA"
          ],
          [
           "Edgar De L'est",
           "Bordeaux"
          ],
          [
           "Vangelis",
           "Volos, Greece"
          ],
          [
           "Daddy Yankee",
           "Puerto Rico"
          ],
          [
           "Righteous Brothers",
           "California"
          ],
          [
           "Kane",
           "California - LA"
          ],
          [
           "Why?",
           "Cincinnati, OH"
          ],
          [
           "Bonita & Jerry Cormier",
           "jakarta"
          ],
          [
           "Sara Melson",
           "California - LA"
          ],
          [
           "Happy Mondays",
           "Manchester, England"
          ],
          [
           "Yahir",
           "Hermosillo Sonora, Mexico"
          ],
          [
           "Vince Guaraldi",
           "San Francisco, CA"
          ],
          [
           "John Brown",
           "North Carolina"
          ],
          [
           "Mush",
           "Switzerland"
          ],
          [
           "Leroy Hutson",
           "Newark, NJ"
          ],
          [
           "Between The Buried And Me",
           "Charlotte, NC"
          ],
          [
           "Loop Guru",
           "London, England"
          ],
          [
           "Jimmy Witherspoon",
           "Gurdon, AR"
          ],
          [
           "Karen Peck & New River",
           "Tennessee"
          ],
          [
           "Adolph Hofner",
           "Moulton, TX"
          ],
          [
           "Carolyn Arends",
           "CANADA - Ontario"
          ],
          [
           "The Dillinger Escape Plan",
           "Morris Plains, NJ"
          ],
          [
           "Lionel Rogg",
           "Geneva, Switzerland"
          ],
          [
           "Paul Taylor",
           "Wyoming"
          ],
          [
           "Jack Off Jill",
           "Ft. Lauderdale, FLORIDA"
          ],
          [
           "Bombay Rockers",
           "Denmark"
          ],
          [
           "Nestor Torres",
           "Miami, FL"
          ],
          [
           "Marlene Dietrich",
           "Sch\\xef\\xbf\\xbderg, Germany"
          ],
          [
           "Mongo Santamaria",
           "Havana, Cuba [Jesus Maria]"
          ],
          [
           "Leroy Hutson",
           "Newark, NJ"
          ],
          [
           "Ann Nesby",
           "Joliet, IL &amp; Atlanta, GA"
          ],
          [
           "The Shamen",
           "Aberdeen, Scotland"
          ],
          [
           "Danny Wright",
           "Texas"
          ],
          [
           "Passion",
           "Florida"
          ],
          [
           "Midwest Product",
           "Ann Arbor, MI"
          ],
          [
           "Atreyu",
           "Orange County, CA"
          ],
          [
           "Taking Back Sunday",
           "Long Island, New York"
          ],
          [
           "Sonny Landreth",
           "Caton, MS"
          ],
          [
           "Workhorse",
           "Mississippi"
          ],
          [
           "Helen Love",
           "Cardiff, Wales"
          ],
          [
           "Humble Pie",
           "Essex, England"
          ],
          [
           "Sleepy John Estes",
           "Ripley, TN"
          ],
          [
           "Helen Love",
           "Cardiff, Wales"
          ],
          [
           "Basic Channel",
           "Berlin, Germany"
          ],
          [
           "Sue Foley",
           "Ottawa, Ontario, Canada"
          ],
          [
           "Barry Mann",
           "Brooklyn, NY"
          ],
          [
           "Ben Sidran",
           "Chicago, IL"
          ],
          [
           "Jimmy Page",
           "Heston, Middlesex, England"
          ],
          [
           "Jim Kweskin with Samoa Wilson",
           "Stamford, CT"
          ],
          [
           "Light Of The World",
           "London, England"
          ],
          [
           "Architecture In Helsinki",
           "Melbourne"
          ],
          [
           "Britney Spears",
           "Kentwood, LA; Los Angeles, CA"
          ],
          [
           "Barbara Fairchild",
           "Knobel, AK"
          ],
          [
           "Big Star",
           "Memphis, TN"
          ],
          [
           "Moon Mullican",
           "Corrigan, Polk County, TX"
          ],
          [
           "Chroma Key",
           "Canada"
          ],
          [
           "The Red Jumpsuit Apparatus",
           "Middleburg, Florida"
          ],
          [
           "Lonnie Brooks",
           "Dubuisson, LA"
          ],
          [
           "Stanley Clarke",
           "Philadelphia, PA"
          ],
          [
           "Rancid",
           "Bay Area, CA"
          ],
          [
           "Jim Kweskin",
           "Stamford, CT"
          ],
          [
           "Justin",
           "Georgia"
          ],
          [
           "Carl Davis",
           "Bellevue Washington USA"
          ],
          [
           "Diesel Boy",
           "Santa Rosa, California"
          ],
          [
           "Sophie B. Hawkins",
           "New York, NY [Manhattan]"
          ],
          [
           "Circle Jerks",
           "California - LA"
          ],
          [
           "Deville_ Willy",
           "New York, New York"
          ],
          [
           "Jake Hess",
           "Tennessee"
          ],
          [
           "Cal Tjader",
           "St. Louis, MO"
          ],
          [
           "Elvin Bishop",
           "Glendale, CA"
          ],
          [
           "Bruce Springsteen",
           "Freehold, NJ"
          ],
          [
           "B.A.D.",
           "London, England"
          ],
          [
           "Marty Robbins",
           "Glendale, AZ"
          ],
          [
           "Hank Penny",
           "Birmingham, AL"
          ],
          [
           "Johnny Nash",
           "Houston, TX"
          ],
          [
           "Jason Miles",
           "NY - New York City"
          ],
          [
           "Samba Mapangala and Orchestra Virunga",
           "Kenya"
          ],
          [
           "Catherine King/Matthew Schwinghammer/The American Boychoir",
           "New Jersey"
          ],
          [
           "Falling Into Place",
           "Volos, Greece"
          ],
          [
           "Wet Wet Wet",
           "Glasgow, Scotland"
          ],
          [
           "Moonspell",
           "Portugal"
          ],
          [
           "Black Flag",
           "Los Angeles, CA"
          ],
          [
           "Walter Hawkins",
           "Oakland, CA"
          ],
          [
           "Wamdue Project",
           "Atlanta, GA"
          ],
          [
           "Eddy Raven",
           "Lafayette, LA"
          ],
          [
           "Anthony Cruz",
           "Mandeville, Jamaica"
          ],
          [
           "Rod Bernard",
           "Opelousas, LA"
          ],
          [
           "Jefferson Starship",
           "San Francisco, CA"
          ],
          [
           "Lonnie Johnson",
           "New Orleans, LA"
          ],
          [
           "Pat Travers",
           "Toronto, Canada"
          ],
          [
           "Linkin Park",
           "Los Angeles, CA"
          ],
          [
           "Bryan Ferry",
           "Washington, England"
          ],
          [
           "Scott Ainslie",
           "Vermont"
          ],
          [
           "The Shangri-Las",
           "Queens, NY"
          ],
          [
           "Heaven 17",
           "London, England"
          ],
          [
           "Robert Lockwood_ Jr.",
           "Marvell, AR"
          ],
          [
           "Sivuca",
           "Itabaiana, Para\\xef\\xbf\\xbd, Brazil"
          ],
          [
           "Charlie Walker",
           "Collins County, TX"
          ],
          [
           "Peloton",
           "California - SF"
          ],
          [
           "Faron Young",
           "Shreveport, LA"
          ],
          [
           "The Jordanaires & Orion",
           "Springfield, MO"
          ],
          [
           "Pennywise",
           "Hermosa Beach, CA"
          ],
          [
           "Bomb Squad",
           "Connecticut"
          ],
          [
           "Muse",
           "UK"
          ],
          [
           "Frank Chacksfield",
           "Battle, Sussex, England"
          ],
          [
           "Cam'Ron",
           "Harlem, NY"
          ],
          [
           "Blind Lemon Jefferson",
           "Couchman, TX"
          ],
          [
           "Nana Mouskouri",
           "Athens, Greece"
          ],
          [
           "The Merry Macs",
           "Minneapolis, MN"
          ],
          [
           "Bobby Pulido",
           "Edinburg, TX"
          ],
          [
           "Telecast",
           "California - LA"
          ],
          [
           "Loretta Lynn",
           "Nashville, TN, Texas"
          ],
          [
           "The Chi Lites",
           "Chicago, IL"
          ],
          [
           "Bob Wills",
           "Kosse, TX"
          ],
          [
           "Bob Hope",
           "Eltham, England"
          ],
          [
           "Don & Juan",
           "Ohio"
          ],
          [
           "Eric Burdon",
           "Walker-on-Tyne, England"
          ],
          [
           "The Perrys",
           "Maryland"
          ],
          [
           "Anthony Watson",
           "Mobile, AL"
          ],
          [
           "Selena",
           "Texas"
          ],
          [
           "Eurythmics",
           "London, England"
          ],
          [
           "Yellowcard",
           "Jacksonville, FL"
          ],
          [
           "Kira",
           "Wuppertal, Germany"
          ],
          [
           "Fabi\\xc3\\xa1n",
           "Texas"
          ],
          [
           "Cadacross",
           "Finland"
          ],
          [
           "Henri Pousseur",
           "Malm\\xef\\xbf\\xbd, Belgium"
          ],
          [
           "Marygold",
           "Verona - Italy"
          ],
          [
           "Bobby Darin",
           "New York, NY [The Bronx]"
          ],
          [
           "Oh No",
           "Oxnard, CA"
          ],
          [
           "Sivuca",
           "Itabaiana, Para\\xef\\xbf\\xbd, Brazil"
          ],
          [
           "James Horner",
           "Los Angeles, CA"
          ],
          [
           "The Chi-Lites",
           "Chicago, IL"
          ],
          [
           "The Shangri-Las",
           "Queens, NY"
          ],
          [
           "Mariah Carey",
           "New York, New York"
          ],
          [
           "Walter Trout",
           "Ocean City, NJ"
          ],
          [
           "Abbott & Chambers",
           "Cairo/Egypt"
          ],
          [
           "Electrostatic",
           "Los Angeles, CA"
          ],
          [
           "Helmet",
           "New York"
          ],
          [
           "Dax Riggs",
           "Houma, LA"
          ],
          [
           "Heaven 17",
           "London, England"
          ],
          [
           "Charles Aznavour",
           "Virginia"
          ],
          [
           "Alice Stuart",
           "Washington"
          ],
          [
           "Lupe Fiasco feat. GemStones and Graham Burris",
           "Chicago, IL"
          ],
          [
           "Joi",
           "Georgia"
          ],
          [
           "Memphis Minnie",
           "Algiers, LA"
          ],
          [
           "Gail Davies",
           "Broken Bow, OK"
          ],
          [
           "Karen Peck And New River",
           "Tennessee"
          ],
          [
           "Claire Hamill",
           "UK - England - South East"
          ],
          [
           "Mind Furniture",
           "California - SF"
          ],
          [
           "Orquesta Sublime",
           "Cuba"
          ],
          [
           "John Brown",
           "North Carolina"
          ],
          [
           "Percy Mayfield",
           "Minden, LA"
          ],
          [
           "Jack Sheldon",
           "Jacksonville, FL"
          ],
          [
           "VHS Or Beta",
           "Louisville, KY"
          ],
          [
           "Alice Cooper",
           "Detroit, MI"
          ],
          [
           "Al Di Meola",
           "Jersey City, NJ"
          ],
          [
           "Mongo Santamaria",
           "Havana, Cuba [Jesus Maria]"
          ],
          [
           "The Distillers",
           "L.A \\tCalifornia, Estados Unidos "
          ],
          [
           "Ms. Dynamite / Kymani Marley",
           "London"
          ],
          [
           "ARRESTED DEVELOPMENT",
           "Atlanta, GA"
          ],
          [
           "Scott Wesley Brown",
           "Atlanta Georgia USA"
          ],
          [
           "Fernando Ortega",
           "California"
          ],
          [
           "Jimmy Witherspoon",
           "Gurdon, AR"
          ],
          [
           "The Cure",
           "Crawley, England"
          ],
          [
           "Cliff Edwards/Disney Studio Chorus",
           "Montreal, Quebec, Canada"
          ],
          [
           "Tammy Wynette",
           "Itawamba County, MS"
          ],
          [
           "Sonny James",
           "Hackleburg, AL"
          ],
          [
           "Charlie Haden",
           "Shenandoah, IA"
          ],
          [
           "Marilyn Horne",
           "Great Britain / UK"
          ],
          [
           "John Berry",
           "Aiken, SC"
          ],
          [
           "Noah Lewis",
           "Henning, TN"
          ],
          [
           "Vangelis",
           "Volos, Greece"
          ],
          [
           "LL Cool J",
           "Bayshore, Long Island, NY"
          ],
          [
           "BT",
           "Earth"
          ],
          [
           "Kris Kristofferson",
           "Brownsville, TX"
          ],
          [
           "L7",
           "Los Angeles, CA"
          ],
          [
           "Moonspell",
           "Portugal"
          ],
          [
           "Claire Hamill",
           "UK - England - South East"
          ],
          [
           "Marcus Miller",
           "Brooklyn, NY"
          ],
          [
           "Henri Pousseur",
           "Malm\\xef\\xbf\\xbd, Belgium"
          ],
          [
           "Gian Marco",
           "Peru"
          ],
          [
           "The Who",
           "Angleterre"
          ],
          [
           "Jim Reeves",
           "Galloway, Panola County, TX"
          ],
          [
           "Sade",
           "Ibadan, Nigeria"
          ],
          [
           "Chris Clark",
           "Los Angeles, CA"
          ],
          [
           "Gene Chandler",
           "Chicago, IL"
          ],
          [
           "Rapha\\xc3\\xabl",
           "France"
          ],
          [
           "Jenney",
           "Stockholm"
          ],
          [
           "Terje Lie",
           "California - LA"
          ],
          [
           "Patton Oswalt",
           "Portsmouth, VA"
          ],
          [
           "Cecilia Bartoli / International Chamber Soloists / Orchestra La Scintilla / Adam Fischer",
           "Rome, Italy"
          ],
          [
           "Anthony Cruz",
           "Mandeville, Jamaica"
          ],
          [
           "Anthony Watson",
           "Mobile, AL"
          ],
          [
           "Benny Spellman",
           "Pensacola, FL"
          ],
          [
           "Tommy Makem;The Clancy Brothers",
           "United States"
          ],
          [
           "Marygold",
           "Verona - Italy"
          ],
          [
           "Ray Davies",
           "Muswell Hill, London, England"
          ],
          [
           "Poncho Sanchez",
           "Laredo, TX"
          ],
          [
           "Butthole Surfers",
           "San Antonio, TX"
          ],
          [
           "Shout Out Out Out Out",
           "780"
          ],
          [
           "Alan Silvestri",
           "New York, NY"
          ],
          [
           "Edgar Bori",
           "Montreal"
          ],
          [
           "Marc Broussard",
           "BIRMINGHAM, Alabama"
          ],
          [
           "Montrose",
           "California"
          ],
          [
           "Slipknot",
           "Des Moines, Iowa"
          ],
          [
           "Mudhoney",
           "Seattle, WA"
          ],
          [
           "Barbara Lusch",
           "Oregon"
          ],
          [
           "Eno",
           "Great Britain / UK"
          ],
          [
           "Darden Smith",
           "Brenham, TX"
          ],
          [
           "Messy Marv & D.Z.",
           "California - SF"
          ],
          [
           "The Tall Grass",
           "London ON"
          ],
          [
           "David Arkenstone",
           "Tennessee"
          ],
          [
           "Renee Rosnes",
           "Regina, Saskatchewan, Canada"
          ],
          [
           "Jesse Malin",
           "Whitestone, Queens, NY"
          ],
          [
           "Tigerstyle",
           "Glasgow"
          ],
          [
           "Sophie Tucker",
           "Russia"
          ],
          [
           "J.B.Lenoir",
           "Monticello, MS"
          ],
          [
           "Broadcast",
           "Birmingham, England"
          ],
          [
           "SWAMI featuring Ishmael Morabe",
           "Birmingham/ London, UK"
          ],
          [
           "The Jackson Southernaires",
           "Mississippi"
          ],
          [
           "Slipknot",
           "Des Moines, Iowa"
          ],
          [
           "Missy Higgins",
           "Melbourne, Australia"
          ],
          [
           "Mongo Santamaria Orchestra",
           "Havana, Cuba [Jesus Maria]"
          ],
          [
           "Larissa",
           "Texas"
          ],
          [
           "Big Maybelle",
           "Jackson, TN"
          ],
          [
           "Daniel Kobialka",
           "United States"
          ],
          [
           "Fastball",
           "Austin, TX"
          ],
          [
           "Ray Sandoval",
           "Tucson, Arizona"
          ],
          [
           "Nick Ingman",
           "London, England"
          ],
          [
           "Herb Alpert And The Tijuana Brass",
           "BEVERLY HILLS, California"
          ],
          [
           "Washboard Sam",
           "Walnut Ridge, AR"
          ],
          [
           "Rob Mullins",
           "California - LA"
          ],
          [
           "Andr\\xc3\\xa9 Verchuren",
           "Neuilly-sous-Clermont (Oise)"
          ],
          [
           "Peggy Lee",
           "Jamestown, ND"
          ],
          [
           "Kruger",
           "Lausanne, CH"
          ],
          [
           "John Fogerty",
           "Berkeley, CA"
          ],
          [
           "J.B. Lenoir",
           "Monticello, MS"
          ],
          [
           "The Tragically Hip",
           "Kingston, Ontario, Canada"
          ],
          [
           "Elena",
           "Dubai UAE"
          ],
          [
           "Ray Conniff;Billy Butterfield",
           "Attleboro, MA"
          ],
          [
           "Billy Butler",
           "Philadelphia, PA"
          ],
          [
           "T-Bone",
           "Thaba Nchu"
          ],
          [
           "Agnostic Front",
           "New York, NY"
          ],
          [
           "Tinariwen",
           "Mali, Africa"
          ],
          [
           "Alice Cooper",
           "Detroit, MI"
          ],
          [
           "Jim Kweskin_ The Jug Band",
           "Boston, MA"
          ],
          [
           "Percy Faith",
           "Toronto, Ontario, Canada"
          ],
          [
           "Jimmy Wakely",
           "Mineola, AR"
          ],
          [
           "California Oranges",
           "Sacremento, CA"
          ],
          [
           "Leon Russell",
           "Lawton, OK"
          ],
          [
           "Otis Taylor",
           "Chicago, IL"
          ],
          [
           "Fiona",
           "New York, NY"
          ],
          [
           "Charlie Rich",
           "Benton, Arkansas"
          ],
          [
           "Sonny Simmons",
           "Sicily Island, LA"
          ],
          [
           "Jim Chappell",
           "United States"
          ],
          [
           "B.o.B",
           "Washington DC"
          ],
          [
           "Cali",
           "Vernet les Bains"
          ],
          [
           "Pearl Jam",
           "Seattle, WA"
          ],
          [
           "Del The Funky Homosapien",
           "Oakland, CA"
          ],
          [
           "Little Milton",
           "Inverness, MS"
          ],
          [
           "Shai Hulud",
           "Poughkeepsie, New York / Pompano Beach, Florida"
          ],
          [
           "Daughters",
           "Providence, RI"
          ],
          [
           "Bryan Ferry",
           "Washington, England"
          ],
          [
           "Lifehouse",
           "NORTH FORT MYERS, Florida"
          ],
          [
           "Robert Lockwood_ Jr.",
           "Marvell, AR"
          ],
          [
           "Home Town Hero",
           "Los Angeles, California"
          ],
          [
           "Misty Roses",
           "London / New York"
          ],
          [
           "The Ataris",
           "Anderson, IN"
          ],
          [
           "Y&T",
           "San Francisco Bay Area"
          ],
          [
           "Ronnie Drew",
           "Dublin, Ireland"
          ],
          [
           "Kokane",
           "Pomona, CA"
          ],
          [
           "MC5",
           "Lincoln Park, MI"
          ],
          [
           "Skyforger",
           "Latvia"
          ],
          [
           "The Stooges",
           "Ann Arbor, MI"
          ],
          [
           "The Exciters",
           "Lyon, FR"
          ],
          [
           "Johnny Pacheco",
           "Santiago de los Caballeros, Domin"
          ],
          [
           "Buffalo Nickel Band",
           "Mississippi"
          ],
          [
           "Natasha Bedingfield",
           "London"
          ],
          [
           "Cartel",
           "CHICAGO, US"
          ],
          [
           "Jefferson Starship",
           "San Francisco, CA"
          ],
          [
           "Bobby Marchan",
           "Youngstown, OH"
          ],
          [
           "Mindy McCready",
           "Fort Meyers, FL"
          ],
          [
           "Cece Winans",
           "Charlotte, NC"
          ],
          [
           "Alternative TV",
           "London, England"
          ],
          [
           "Pat Metheny",
           "Lee"
          ],
          [
           "Jim Chappell",
           "United States"
          ],
          [
           "Kix",
           "Hagerstown, MD"
          ],
          [
           "Bobbie Gentry",
           "Chickasaw County, MS"
          ],
          [
           "Ed Bruce",
           "Keiser, AR"
          ],
          [
           "Danny Williams",
           "Port Elizabeth, South Africa"
          ],
          [
           "Cutting Edge",
           "California - LA"
          ],
          [
           "Cross Country",
           "Auburn, CA"
          ],
          [
           "Eddy Raven",
           "Lafayette, LA"
          ],
          [
           "Tunsi",
           "California - SF"
          ],
          [
           "M83",
           "Antibes, France"
          ],
          [
           "The Fabulous Thunderbirds",
           "Austin, TX"
          ],
          [
           "Suicidal Tendencies",
           "Venice, CA"
          ],
          [
           "Selena",
           "Texas"
          ],
          [
           "Cam'Ron / Juelz Santana / Jimmy Jones",
           "Harlem, NY"
          ],
          [
           "Mindy McCready",
           "Fort Meyers, FL"
          ],
          [
           "Pinch",
           "Illinois"
          ],
          [
           "Max Steiner",
           "Vienna, Austria"
          ],
          [
           "Lupe Fiasco feat. Matthew Santos",
           "Chicago, IL"
          ],
          [
           "Dexys Midnight Runners",
           "Birmingham, England"
          ],
          [
           "Frank Ifield",
           "Coventry, England"
          ],
          [
           "Jimmy Wakely",
           "Mineola, AR"
          ],
          [
           "Joe Rogan",
           "Newark, NJ"
          ],
          [
           "Billie Ray Martin Feat. Ann Peebles",
           "Hamburg, Germany"
          ],
          [
           "Johnny Nash",
           "Houston, TX"
          ],
          [
           "Unkle Bob",
           "Glasgow "
          ],
          [
           "Dark new Day",
           "FL,GA,KY"
          ],
          [
           "Ill Ni\\xc3\\xb1o",
           "Nueva Jersey (Estados Unidos)"
          ],
          [
           "Terror Squad featuring Big Pun",
           "The Bronx, New York, NY"
          ],
          [
           "Jay & The Americans",
           "New York, NY"
          ],
          [
           "Peter Gallagher",
           "Cork, Ireland"
          ],
          [
           "The Exciters",
           "Lyon, FR"
          ],
          [
           "Becoming The Archetype",
           "Atlanta, GA"
          ],
          [
           "Bad Religion",
           "Los Angeles, Ca"
          ],
          [
           "Broadcast",
           "Birmingham, England"
          ],
          [
           "Fabri Fibra",
           "Senigallia, Italy"
          ],
          [
           "Sandi Thom",
           "Scotland"
          ],
          [
           "Bobbie Gentry",
           "Chickasaw County, MS"
          ],
          [
           "Aeoliah",
           "Canada"
          ],
          [
           "Inner Circle",
           "Jamaica"
          ],
          [
           "Perfection",
           "Uppsala"
          ],
          [
           "Carl Davis",
           "Bellevue Washington USA"
          ],
          [
           "Dennis Brown",
           "Kingston, Jamaica"
          ],
          [
           "Ray Conniff",
           "Attleboro, MA"
          ],
          [
           "Maxi Priest",
           "Lewisham, London, England"
          ],
          [
           "Buddy Johnson",
           "Darlington, SC"
          ],
          [
           "Vangelis",
           "Volos, Greece"
          ],
          [
           "Kings Of Leon",
           "Nashville, Tennessee"
          ],
          [
           "Ghetto Mafia",
           "Atlanta, GA"
          ],
          [
           "The Chi-Lites",
           "Chicago, IL"
          ],
          [
           "Don Francisco",
           "Colorado"
          ],
          [
           "Happy Mondays",
           "Manchester, England"
          ],
          [
           "Clifton Chenier",
           "Opelousas, LA"
          ],
          [
           "Arika Kane",
           "Connecticut"
          ],
          [
           "Brenda Lee",
           "Lithonia, GA"
          ],
          [
           "Scott Krippayne",
           "Washington"
          ],
          [
           "Papa Wemba",
           "Kasai, Zaire"
          ],
          [
           "Migraine",
           "Stickney"
          ],
          [
           "Dr. Elmo",
           "California - SF"
          ],
          [
           "The Sonics",
           "Tacoma, WA"
          ],
          [
           "Chorus Line",
           "New York, NY"
          ],
          [
           "The Irish Rovers",
           "Alberta, Canada"
          ],
          [
           "Bobby Vee",
           "Fargo, ND"
          ],
          [
           "The Rolling Stones",
           "London, England"
          ],
          [
           "Hem",
           "NY - New York City"
          ],
          [
           "New Roanoke Jug Band",
           "Virginia"
          ],
          [
           "Gisselle",
           "Puerto Rico"
          ],
          [
           "Gerald Veasley",
           "Philadelphia, PA"
          ],
          [
           "Uphill Battle",
           "Ventura County, CA"
          ],
          [
           "Thomas Dolby",
           "Cairo, Egypt"
          ],
          [
           "Arthur Tracy",
           "Kamenetz-Podolsk, Moldavia"
          ],
          [
           "Delirious",
           "Connecticut"
          ],
          [
           "UK Subs",
           "UK - England - Yorkshire"
          ],
          [
           "Jaime Jamgochian",
           "Tennessee"
          ],
          [
           "Delroy Wilson",
           "Kingston, Jamaica"
          ],
          [
           "The Lord Weird Slough Feg",
           "California - SF"
          ],
          [
           "Pennywise",
           "Hermosa Beach, CA"
          ],
          [
           "The Jam",
           "Woking, Surrey, England"
          ],
          [
           "Why?",
           "Cincinnati, OH"
          ],
          [
           "John Berry",
           "Aiken, SC"
          ],
          [
           "D'Molls",
           "California - LA"
          ],
          [
           "Aisha Duo",
           "NY - New York City"
          ],
          [
           "Bob Wills",
           "Kosse, TX"
          ],
          [
           "Danielle Bollinger",
           "Flint Michigan"
          ],
          [
           "H-Town",
           "Houston"
          ],
          [
           "Orquesta Aragon",
           "Cuba"
          ],
          [
           "Missy Higgins",
           "Melbourne, Australia"
          ],
          [
           "Asha Puthli",
           "India"
          ],
          [
           "Dwight Twilley",
           "Tulsa, OK"
          ],
          [
           "Faces",
           "London, England"
          ],
          [
           "Jimmie Davis",
           "Quitman, LA"
          ],
          [
           "Mayday",
           "Texas"
          ],
          [
           "Sonny Terry",
           "Greensboro, NC"
          ],
          [
           "Al Rapone",
           "Lake Charles, Louisiana"
          ],
          [
           "The Marx Brothers",
           "New York City, New York"
          ],
          [
           "Lizzy Borden",
           "Los Angeles, CA"
          ],
          [
           "Bob Cheevers",
           "Tennessee"
          ],
          [
           "Gerald Veasley",
           "Philadelphia, PA"
          ],
          [
           "Bonita & Jerry Cormier",
           "jakarta"
          ],
          [
           "Ebba Forsberg",
           "SWEDEN"
          ],
          [
           "Peggy Lee",
           "Jamestown, ND"
          ],
          [
           "Zachary Richard",
           "Louisiana"
          ],
          [
           "Blind Willie McTell",
           "Thomson, GA"
          ],
          [
           "Dominic",
           "Santo Domingo, Rep. Dom."
          ],
          [
           "Tunsi",
           "California - SF"
          ],
          [
           "Chango Spasiuk",
           "Argentina"
          ],
          [
           "Eric Burdon",
           "Walker-on-Tyne, England"
          ],
          [
           "Dub Wiser",
           "Vancouver, BC, Canada"
          ],
          [
           "Pat Metheny",
           "Lee"
          ],
          [
           "Devanic",
           "Vienna"
          ],
          [
           "Raphael",
           "France"
          ],
          [
           "Jimmy Burns",
           "Dublin, MS"
          ],
          [
           "Blind Boy Fuller",
           "Wadesboro, NC"
          ],
          [
           "Carpenters",
           "New Haven, CT"
          ],
          [
           "Bobby Vee",
           "Fargo, ND"
          ],
          [
           "Jonn Serrie",
           "Atlanta  Ga"
          ],
          [
           "Goatwhore",
           "New Orleans, LA"
          ],
          [
           "Sick Of It All",
           "Virginia"
          ],
          [
           "Cali",
           "Vernet les Bains"
          ],
          [
           "The Tarriers",
           "Illinois"
          ],
          [
           "Ma Rainey & Her Tub Jug Washboard Band",
           "Columbus, GA"
          ],
          [
           "Pacha Massive",
           "New York, NY"
          ],
          [
           "North Mississippi Allstars",
           "Hernando, MS"
          ],
          [
           "Blue Rodeo",
           "Toronto, Ontario, Canada"
          ],
          [
           "Steve Porter",
           "UK - England - South West"
          ],
          [
           "Stanley Clarke;Herbie Hancock",
           "Philadelphia, PA"
          ],
          [
           "Jackie Edwards",
           "Jamaica"
          ],
          [
           "The Sugarhill Gang",
           "New York, NY"
          ],
          [
           "Wayne Kramer",
           "New York, NY"
          ],
          [
           "The White Stripes",
           "Nashville / Los Angeles"
          ],
          [
           "The Irish Rovers",
           "Alberta, Canada"
          ],
          [
           "Rick Astley",
           "Newton-le-Willows, Merseyside, England"
          ],
          [
           "Bob Margolin",
           "Boston, MA"
          ],
          [
           "Henri Pousseur",
           "Malm\\xef\\xbf\\xbd, Belgium"
          ],
          [
           "Chet Atkins",
           "Luttrell, TN"
          ],
          [
           "Grant And Wilson",
           "Florida"
          ],
          [
           "Pacha Massive",
           "New York, NY"
          ],
          [
           "Don Francisco",
           "Colorado"
          ],
          [
           "Stanley Clarke",
           "Philadelphia, PA"
          ],
          [
           "Tigerstyle",
           "Glasgow"
          ],
          [
           "Cass Fox",
           "London, England"
          ],
          [
           "The Villas",
           "Pennsylvania"
          ],
          [
           "Will Ackerman",
           "Germany"
          ],
          [
           "The Berzerker",
           "Melbourne, Australia"
          ],
          [
           "Ambient Music Therapy",
           "NY - New York City"
          ],
          [
           "Syl Johnson",
           "Centerville, TN"
          ],
          [
           "The Raconteurs",
           "Detroit, MI"
          ],
          [
           "Jimmy Page / Robert Plant",
           "Heston, Middlesex, England"
          ],
          [
           "Marilyn Scott",
           "Alta Dena, CA"
          ],
          [
           "Negura Bunget",
           "Timi\\xc5\\x9foara"
          ],
          [
           "Jacques Dutronc",
           "Paris, France"
          ],
          [
           "Messy Marv featuring Clover Geez",
           "California - SF"
          ],
          [
           "Walter Trout",
           "Ocean City, NJ"
          ],
          [
           "Bad Religion",
           "Los Angeles, Ca"
          ],
          [
           "Babylon Disco",
           "Karlstad"
          ],
          [
           "Dax Riggs",
           "Houma, LA"
          ],
          [
           "ARRESTED DEVELOPMENT",
           "Atlanta, GA"
          ],
          [
           "Clifton Chenier",
           "Opelousas, LA"
          ],
          [
           "Shaman",
           "Brazil"
          ],
          [
           "Little Milton",
           "Inverness, MS"
          ],
          [
           "Brownie McGhee",
           "Knoxville, TN"
          ],
          [
           "The Sonics",
           "Tacoma, WA"
          ],
          [
           "Fontella Bass",
           "St. Louis, MO"
          ],
          [
           "The Kitchen",
           "CANADA - Ontario"
          ],
          [
           "Ram Squad",
           "Philadelphia, PA"
          ],
          [
           "Bambino_ Ivan Tirado",
           "Michigan"
          ],
          [
           "Leroy Hutson",
           "Newark, NJ"
          ],
          [
           "Tiny Tim/Cast/Ghost Of Christmas Present/Scrooge",
           "New York, NY"
          ],
          [
           "Thirst",
           "UK - England - South West"
          ],
          [
           "The Cat's Miaow",
           "Australia"
          ],
          [
           "The Mad Capsule Markets",
           "JP"
          ],
          [
           "Mance Lipscomb",
           "Navasota, TX"
          ],
          [
           "Legion Of Green Men",
           "Burlington, Ontario, Canada"
          ],
          [
           "Al De Lory",
           "Tennessee"
          ],
          [
           "Joe Turner",
           "Kansas City, MO"
          ],
          [
           "Derek Bell",
           "Belfast, Northern Ireland"
          ],
          [
           "Tom Cochrane",
           "Lynn Lake, Manitoba, Canada"
          ],
          [
           "Henry Lee Summer",
           "Brazil, IN"
          ],
          [
           "Jackie Wilson",
           "Detroit, MI"
          ],
          [
           "Janie Fricke",
           "South Whitney, IN"
          ],
          [
           "Owsley",
           "Tennessee"
          ],
          [
           "Sister Rosetta Tharpe",
           "Cotton Plant, AR"
          ],
          [
           "Rhinoceros",
           "UK - England - West Midlands"
          ],
          [
           "Be Bop Deluxe",
           "England"
          ],
          [
           "Fiona",
           "New York, NY"
          ],
          [
           "Shelly Manne",
           "New York, NY"
          ],
          [
           "Tommy James And The Shondells",
           "Dayton, OH"
          ],
          [
           "Cyril Pahinui",
           "Waimanalo, HI"
          ],
          [
           "Jeff Beck",
           "Wallington, Surrey, England"
          ],
          [
           "Metsat\\xc3\\xb6ll",
           "Estonia"
          ],
          [
           "Jesse Malin",
           "Whitestone, Queens, NY"
          ],
          [
           "T.G.Sheppard",
           "Humboldt, TN"
          ],
          [
           "The Cure",
           "Crawley, England"
          ],
          [
           "Recluse",
           "NY - New York City"
          ],
          [
           "Suzi Quatro",
           "Detroit, MI"
          ],
          [
           "Gloria",
           "BG"
          ],
          [
           "DJ Icey",
           "Florida"
          ],
          [
           "Mindy McCready",
           "Fort Meyers, FL"
          ],
          [
           "Kellie Coffey",
           "Moore, OK"
          ],
          [
           "Primordial",
           "Dublin, Ireland"
          ],
          [
           "Sophie Tucker",
           "Russia"
          ],
          [
           "Public Image Ltd",
           "London, England"
          ],
          [
           "Jesse Malin",
           "Whitestone, Queens, NY"
          ],
          [
           "Deborah Coleman",
           "Portsmouth, VA"
          ],
          [
           "Albert King",
           "Indianola, MS"
          ],
          [
           "Ray Conniff;Billy Butterfield",
           "Attleboro, MA"
          ],
          [
           "Daniel Kobialka",
           "United States"
          ],
          [
           "Luis Alberto Spinetta",
           "Buenos Aires, Argentina"
          ],
          [
           "Brian Keane",
           "Texas"
          ],
          [
           "Andrae Crouch",
           "Pacoima, CA"
          ],
          [
           "Renee Rosnes",
           "Regina, Saskatchewan, Canada"
          ],
          [
           "Kyle Riabko",
           "CANADA - Ontario"
          ],
          [
           "KALIMBA",
           "Mexico City, Mexico"
          ],
          [
           "Eliane Elias",
           "Sao Paulo, Brazil"
          ],
          [
           "Johnny Copeland",
           "Haynesville, LA"
          ],
          [
           "Sonny Terry / Brownie McGhee",
           "Greensboro, NC"
          ],
          [
           "The Chap",
           "London"
          ],
          [
           "Dale Hawkins",
           "LITTLE ROCK, Arkansas"
          ],
          [
           "T-Bone Walker",
           "Linden, TX"
          ],
          [
           "The Products",
           "California - SF"
          ],
          [
           "Dr. Elmo",
           "California - SF"
          ],
          [
           "Z.Z. Hill",
           "Naples, TX"
          ],
          [
           "The Radio Dept",
           "Lund, Sweden"
          ],
          [
           "Y&T",
           "San Francisco Bay Area"
          ],
          [
           "Faithless",
           "London, England"
          ],
          [
           "Evergreen Terrace",
           "Jacksonville, FL"
          ],
          [
           "David & Steve Gordon",
           "California"
          ],
          [
           "Los Munequitos de Matanzas",
           "New York"
          ],
          [
           "The Jordanaires",
           "Springfield, MO"
          ],
          [
           "The Oak Ridge Boys",
           "Hendersonville, TN"
          ],
          [
           "Scar Symmetry",
           "Sweden"
          ],
          [
           "The Verve Pipe",
           "Lansing, MI"
          ],
          [
           "T-Bone",
           "Thaba Nchu"
          ],
          [
           "Skeeter Davis",
           "Dry Ridge, KY"
          ],
          [
           "Indica",
           "Finland"
          ],
          [
           "\\xc3\\x89tienne Daho",
           "Rennes"
          ],
          [
           "Marcie Blane",
           "Brooklyn, NY"
          ],
          [
           "Ron Goodwin",
           "Plymouth, Devon, England"
          ],
          [
           "Syl Johnson",
           "Centerville, TN"
          ],
          [
           "Las Ni\\xc3\\xb1as",
           "Mississauga"
          ],
          [
           "Chico",
           "Tennessee"
          ],
          [
           "Converge",
           "Boston, Brooklyn USA"
          ],
          [
           "Dr. Elmo",
           "California - SF"
          ],
          [
           "Soundgarden",
           "Seattle"
          ],
          [
           "Leo Gandelman",
           "Rio de Janeiro, BR"
          ],
          [
           "Delroy Wilson",
           "Kingston, Jamaica"
          ],
          [
           "YGGDRASIL",
           "Lund, Sweden"
          ],
          [
           "N.W.A.",
           "Compton, California, USA."
          ],
          [
           "6CycleMind",
           "Metro Manila"
          ],
          [
           "Catherine Howe",
           "Yorkshire, England"
          ],
          [
           "Doyle Bramhall",
           "Dallas, TX"
          ],
          [
           "Rihanna",
           "St Michael, Barbados "
          ],
          [
           "The Firesign Theatre",
           "Texas"
          ],
          [
           "Fudge Tunnel",
           "Nottingham"
          ],
          [
           "Los Mu\\xc3\\xb1equitos De Matanzas",
           "New York"
          ],
          [
           "Tex Williams",
           "Ramsey, Fayette County, IL"
          ],
          [
           "The Marx Brothers",
           "New York City, New York"
          ],
          [
           "The Cannanes",
           "Australia"
          ],
          [
           "Pantanito",
           "Barcelona "
          ],
          [
           "The Fray",
           "Denver, CO"
          ],
          [
           "Janet Paschal/Charlotte Ritchie/David Phelps",
           "North Carolina"
          ],
          [
           "Pedro Aznar",
           "Buenos Aires, Argentina"
          ],
          [
           "Gloriana",
           "Nashville, TN."
          ],
          [
           "Stevie Ray Vaughan And Double Trouble",
           "Dallas, TX"
          ],
          [
           "Blind Boy Fuller",
           "Wadesboro, NC"
          ],
          [
           "Santana",
           "San Francisco, California"
          ],
          [
           "Arthur Tracy",
           "Kamenetz-Podolsk, Moldavia"
          ],
          [
           "Roger Sanchez",
           "New York, NY"
          ],
          [
           "Clarence \"Gatemouth\" Brown",
           "Vinton, LA"
          ],
          [
           "Cross Country",
           "Auburn, CA"
          ],
          [
           "Mr Brown",
           "Mississippi Gulf Coast"
          ],
          [
           "Charley Patton",
           "Edwards, MS"
          ],
          [
           "The Fray",
           "Denver, CO"
          ],
          [
           "Bersuit Vergarabat",
           "Buenos Aires"
          ],
          [
           "Dub Pistols feat. TK & JMS",
           "London, England"
          ],
          [
           "Jerry Lewis",
           "Newark, NJ"
          ],
          [
           "Loop Guru",
           "London, England"
          ],
          [
           "Tex Williams",
           "Ramsey, Fayette County, IL"
          ],
          [
           "Jo-El Sonnier",
           "Rayne, LA"
          ],
          [
           "Roy Drusky",
           "Atlanta, GA"
          ],
          [
           "Annie Lennox",
           "Aberdeen"
          ],
          [
           "Pumpkin Buzzard",
           "Missouri"
          ],
          [
           "Brenda Lee",
           "Lithonia, GA"
          ],
          [
           "Terry Callier",
           "Chicago"
          ],
          [
           "Jacques Higelin",
           "Brou-sur-Chantereine, France"
          ],
          [
           "Michelle Wright",
           "Morpeth, Ontario, Canada"
          ],
          [
           "Hotwire",
           "Newbury Park, CA"
          ],
          [
           "Percy Faith",
           "Toronto, Ontario, Canada"
          ],
          [
           "Plasmatics",
           "New York, NY"
          ],
          [
           "KALIMBA",
           "Mexico City, Mexico"
          ],
          [
           "Doug MacLeod",
           "New York, NY"
          ],
          [
           "Shawn Colvin",
           "Vermillion, SD"
          ],
          [
           "Scarlet's Remains",
           "California - LA"
          ],
          [
           "The Lord Weird Slough Feg",
           "California - SF"
          ],
          [
           "T.O.K.",
           "YAHD!"
          ],
          [
           "U.K. Subs",
           "UK - England - Yorkshire"
          ],
          [
           "Sophie B. Hawkins",
           "New York, NY [Manhattan]"
          ],
          [
           "Maria Muldaur",
           "New York, NY"
          ],
          [
           "Way Out West",
           "Bristol, England"
          ],
          [
           "Mikey Dread",
           "Jamaica"
          ],
          [
           "Jo-El Sonnier",
           "Rayne, LA"
          ],
          [
           "Alice Cooper",
           "Detroit, MI"
          ],
          [
           "Rancid",
           "Bay Area, CA"
          ],
          [
           "Old Man's Child",
           "Norway"
          ],
          [
           "Guitar Slim",
           "Greenwood, MS"
          ],
          [
           "Connie Smith",
           "Elkhart, IN"
          ],
          [
           "Nancy Walker",
           "California"
          ],
          [
           "Little Milton",
           "Inverness, MS"
          ],
          [
           "Rance Allen Group",
           "Detroit, MI"
          ],
          [
           "Bill Cosby",
           "Philadelphia, PA"
          ],
          [
           "MIMS Featuring J. Holiday",
           "New York, NY [Washington Heights]"
          ],
          [
           "James Darren",
           "Philadelphia, PA"
          ],
          [
           "Darden Smith",
           "Brenham, TX"
          ],
          [
           "Los Fabulosos Cadillacs",
           "Buenos Aires."
          ],
          [
           "Jimmy Wakely",
           "Mineola, AR"
          ],
          [
           "Muse",
           "UK"
          ],
          [
           "Georgia Satellites",
           "Atlanta, GA"
          ],
          [
           "Orbital",
           "Sevenoaks, United Kingdom"
          ],
          [
           "Glen Campbell",
           "Delight, AR"
          ],
          [
           "L.A. Guns",
           "katy"
          ],
          [
           "Ned Miller",
           "Raines, UT"
          ],
          [
           "The Shangri-Las",
           "Queens, NY"
          ],
          [
           "Assassin",
           "California"
          ],
          [
           "Herbst9_ Z'ev",
           "L.E."
          ],
          [
           "MxPx",
           "Bremerton, WA"
          ],
          [
           "John Tchicai",
           "Copenhagen, Denmark"
          ],
          [
           "Dale Hawkins",
           "LITTLE ROCK, Arkansas"
          ],
          [
           "Gabriel Yared",
           "Beirut, Lebanon"
          ],
          [
           "Bruce Rowland",
           "AUSTRALIA"
          ],
          [
           "Rui Da Silva",
           "London"
          ],
          [
           "Mae West",
           "Brooklyn, NY"
          ],
          [
           "Call To Preserve",
           "Rockledge, Florida"
          ],
          [
           "Inspector 9",
           "Florida"
          ],
          [
           "The Jackson Southernaires",
           "Mississippi"
          ],
          [
           "deadboy & the Elephantmen",
           "Houma, LA"
          ],
          [
           "Anthony Cruz",
           "Mandeville, Jamaica"
          ],
          [
           "Marcus Miller",
           "Brooklyn, NY"
          ],
          [
           "Ebba Forsberg",
           "SWEDEN"
          ],
          [
           "Del The Funky Homosapien",
           "Oakland, CA"
          ],
          [
           "James Darren",
           "Philadelphia, PA"
          ],
          [
           "Tha Alkaholiks",
           "Los Angeles, CA"
          ],
          [
           "Moist",
           "Vancouver, British Columbia, Cana"
          ],
          [
           "Tony Joe White",
           "Goodwill, LA"
          ],
          [
           "Otis Taylor",
           "Chicago, IL"
          ],
          [
           "Fountains Of Wayne",
           "New York, NY"
          ],
          [
           "Dons",
           "Boston"
          ],
          [
           "Since The Flood",
           "New Hampshire"
          ],
          [
           "Nestor Torres",
           "Miami, FL"
          ],
          [
           "Dilated Peoples Featuring Devin The Dude",
           "Los Angeles, California"
          ],
          [
           "Johnny Copeland",
           "Haynesville, LA"
          ],
          [
           "Eric Burdon",
           "Walker-on-Tyne, England"
          ],
          [
           "Guitar Slim",
           "Greenwood, MS"
          ],
          [
           "6CycleMind",
           "Metro Manila"
          ],
          [
           "Kruger",
           "Lausanne, CH"
          ],
          [
           "Russell Malone",
           "Albany, GA"
          ],
          [
           "Kingston Trio",
           "Vermont"
          ],
          [
           "Grandmaster Flash",
           "Barbados, West Indies"
          ],
          [
           "The Jordanaires",
           "Springfield, MO"
          ],
          [
           "H-Town",
           "Houston"
          ],
          [
           "Joell Ortiz",
           "Brooklyn, NY"
          ],
          [
           "Stern",
           "Pennsylvania"
          ],
          [
           "Blind Blake",
           "Jacksonville, FL"
          ],
          [
           "The Who",
           "Angleterre"
          ],
          [
           "The Fray",
           "Denver, CO"
          ],
          [
           "Trafik",
           "Utah"
          ],
          [
           "The Jam",
           "Woking, Surrey, England"
          ],
          [
           "Lorna",
           "Nottingham, England"
          ],
          [
           "Constance Demby",
           "California - SF"
          ],
          [
           "David Robertson",
           "Canberra, Australia"
          ],
          [
           "Call To Preserve",
           "Rockledge, Florida"
          ],
          [
           "Laurindo Almeida / Charlie Byrd",
           "Sao Paulo, Brazil"
          ],
          [
           "David & Steve Gordon",
           "California"
          ],
          [
           "Willy DeVille",
           "New York, New York"
          ],
          [
           "Washboard Sam",
           "Walnut Ridge, AR"
          ],
          [
           "N.W.A.",
           "Compton, California, USA."
          ],
          [
           "Tarheel Slim",
           "Wilson, NC"
          ],
          [
           "Memphis Minnie",
           "Algiers, LA"
          ],
          [
           "Little Jr. Parker",
           "Clarksdale, MS"
          ],
          [
           "Dan Moretti",
           "Mass. - Boston"
          ],
          [
           "Speech",
           "Milwaukee, WI"
          ],
          [
           "Billy Higgins",
           "Los Angeles, CA"
          ],
          [
           "Junior M. A. F. I. A.",
           "NEW YORK, New York"
          ],
          [
           "A Static Lullaby",
           "Chino Hills, CA"
          ],
          [
           "Shangri Las",
           "Queens, NY"
          ],
          [
           "Suicide",
           "New York, NY"
          ],
          [
           "Jah Wobble & Bill Laswell",
           "New York City (Salem, IL - originally)"
          ],
          [
           "Nick Cave & The Bad Seeds",
           "Wangaratta, Victoria, Australia"
          ],
          [
           "Leon Russell",
           "Lawton, OK"
          ],
          [
           "Blind Willie McTell",
           "Thomson, GA"
          ],
          [
           "Big Star",
           "Memphis, TN"
          ],
          [
           "Jimmie Davis",
           "Quitman, LA"
          ],
          [
           "Leana",
           "California - LA"
          ],
          [
           "Soulwax",
           "Ghent, Belgium"
          ],
          [
           "Vonray",
           "Pittsburgh, Pennsylvania"
          ],
          [
           "Dionne Warwick",
           "East Orange, NJ"
          ],
          [
           "John Fogerty",
           "Berkeley, CA"
          ],
          [
           "Sofia Karlsson",
           "Sweden"
          ],
          [
           "Eric Burdon",
           "Walker-on-Tyne, England"
          ],
          [
           "Humanzi",
           "Dublin, Ireland"
          ],
          [
           "Bob Wills",
           "Kosse, TX"
          ],
          [
           "Chaotica",
           "Arizona"
          ],
          [
           "Pelle Carlberg",
           "Sweden"
          ],
          [
           "Eddy Raven",
           "Lafayette, LA"
          ],
          [
           "Gabriela Anders",
           "NY - New York City"
          ],
          [
           "Hunters",
           "Cardiff"
          ],
          [
           "Sivuca & Camerata Bras\\xc3\\xadlica",
           "Itabaiana, Para\\xef\\xbf\\xbd, Brazil"
          ],
          [
           "Jimmy McCracklin",
           "St. Louis, MO"
          ],
          [
           "Jesse Malin",
           "Whitestone, Queens, NY"
          ],
          [
           "Art Ensemble Of Chicago",
           "New York, NY"
          ],
          [
           "Jimmy McCracklin",
           "St. Louis, MO"
          ],
          [
           "Jeff Wahl",
           "Colorado"
          ],
          [
           "Circular",
           "Bergen, Norway"
          ],
          [
           "Lady GaGa",
           "New York City"
          ],
          [
           "Nerf Herder",
           "Santa Barbara, CA"
          ],
          [
           "YGGDRASIL",
           "Lund, Sweden"
          ],
          [
           "Prozak",
           "London"
          ],
          [
           "Los Fabulosos Cadillacs",
           "Buenos Aires."
          ],
          [
           "Anthony Watson",
           "Mobile, AL"
          ],
          [
           "Sugar Minott",
           "Kingston, Jamaica"
          ],
          [
           "Valient Thorr",
           "Venus"
          ],
          [
           "Lizzy Borden",
           "Los Angeles, CA"
          ],
          [
           "Johnny Copeland",
           "Haynesville, LA"
          ],
          [
           "Brenda Lee",
           "Lithonia, GA"
          ],
          [
           "Patience Dabany",
           "Libreville, Gabon; Los Angeles, CA, US"
          ],
          [
           "Marty Robbins",
           "Glendale, AZ"
          ],
          [
           "Vince Guaraldi",
           "San Francisco, CA"
          ],
          [
           "Humanzi",
           "Dublin, Ireland"
          ],
          [
           "Cindy Morgan",
           "Nashville, TN"
          ],
          [
           "Chet Atkins",
           "Luttrell, TN"
          ],
          [
           "Cam'Ron",
           "Harlem, NY"
          ],
          [
           "U.K. Subs",
           "UK - England - Yorkshire"
          ],
          [
           "Fernando Ortega",
           "California"
          ],
          [
           "Leaders Of The New School",
           "Uniondale, NY"
          ],
          [
           "Roy Roberts",
           "Livingston, TN"
          ],
          [
           "Luis Alberto Spinetta",
           "Buenos Aires, Argentina"
          ],
          [
           "BoDeans",
           "Waukesha WI"
          ],
          [
           "Dark Distant Spaces",
           "NY - New York City"
          ],
          [
           "We Five",
           "Mt. San Antonio College, CA"
          ],
          [
           "Lennie Tristano",
           "US"
          ],
          [
           "Black Debbath",
           "Oslo, Norway"
          ],
          [
           "Leaders Of The New School",
           "Uniondale, NY"
          ],
          [
           "Los Cumbieros Del Sur",
           "Mexico"
          ],
          [
           "Papa Wemba",
           "Kasai, Zaire"
          ],
          [
           "Emit",
           "Oklahoma"
          ],
          [
           "Bow Wow Wow",
           "London, England"
          ],
          [
           "Alexander O'Neal",
           "Minneapolis, MN"
          ],
          [
           "Annie Lennox",
           "Aberdeen"
          ],
          [
           "Goose",
           "Ohio"
          ],
          [
           "Leo Dan",
           "Atamisqui, Argentina"
          ],
          [
           "Rockabye Baby!",
           "Los Angeles"
          ],
          [
           "Mudhoney",
           "Seattle, WA"
          ],
          [
           "Swallow The Sun",
           "Jyv\\xc3\\xa4skyl\\xc3\\xa4, Finland"
          ],
          [
           "Hem",
           "NY - New York City"
          ],
          [
           "Mance Lipscomb",
           "Navasota, TX"
          ],
          [
           "Motograter",
           "Santa Barbara, California"
          ],
          [
           "The Funeral Pyre",
           "California - LA"
          ],
          [
           "Fountains Of Wayne",
           "New York, NY"
          ],
          [
           "John Davis",
           "Pennsylvania"
          ],
          [
           "Willie Clancy",
           "Miltown Malbay, Ireland"
          ],
          [
           "Mae West",
           "Brooklyn, NY"
          ],
          [
           "The Summer Obsession",
           "Jacksonville, FL"
          ],
          [
           "Dabbler",
           "Vancouver"
          ],
          [
           "Messy Marv",
           "California - SF"
          ],
          [
           "Dons",
           "Boston"
          ],
          [
           "Beth Nielsen Chapman",
           "Harlington, TX"
          ],
          [
           "Bukka White",
           "Houston, MS"
          ],
          [
           "Lennie Tristano",
           "US"
          ],
          [
           "Static-X",
           "Alabama"
          ],
          [
           "Britney Spears",
           "Kentwood, LA; Los Angeles, CA"
          ],
          [
           "Billie Jo Spears",
           "Beaumont, TX"
          ],
          [
           "Gary Moore",
           "Belfast, Northern Ireland"
          ],
          [
           "The Radio Department",
           "Lund, Sweden"
          ],
          [
           "Ec8or",
           "Berlin, Germany"
          ],
          [
           "Go Fish",
           "Twin Cities, MN"
          ],
          [
           "YGGDRASIL",
           "Lund, Sweden"
          ],
          [
           "Renee Rosnes",
           "Regina, Saskatchewan, Canada"
          ],
          [
           "Dee Clark",
           "Blythesville, AR"
          ],
          [
           "Scott Krippayne",
           "Washington"
          ],
          [
           "Julien Clerc",
           "FR"
          ],
          [
           "Negura Bunget",
           "Timi\\xc5\\x9foara"
          ],
          [
           "Lot Lorien",
           "Varna"
          ],
          [
           "Paul Carrack",
           "Sheffield, Yorkshire, England"
          ],
          [
           "The Distillers",
           "L.A \\tCalifornia, Estados Unidos "
          ],
          [
           "Big Star",
           "Memphis, TN"
          ],
          [
           "Tiny Tim",
           "New York, NY"
          ],
          [
           "Khold",
           "Oslo, Norway"
          ],
          [
           "The Antlers",
           "Brooklyn, NY"
          ],
          [
           "George Hamilton IV",
           "Winston-Salem, NC"
          ],
          [
           "Heaven 17",
           "London, England"
          ],
          [
           "Eddie Boyd",
           "Stovall, MS"
          ],
          [
           "Russ Morgan",
           "Scranton, PA"
          ],
          [
           "The Cat's Miaow",
           "Australia"
          ],
          [
           "Sade",
           "Ibadan, Nigeria"
          ],
          [
           "Danny Barnes",
           "Texas"
          ],
          [
           "Kix",
           "Hagerstown, MD"
          ],
          [
           "Stevie Ray Vaughan And Double Trouble",
           "Dallas, TX"
          ],
          [
           "Nickelback",
           "Hanna, Alberta, Canada"
          ],
          [
           "Double Image",
           "Maryland"
          ],
          [
           "Terry Riley",
           "Colfax, CA"
          ],
          [
           "The Stems",
           "Australia"
          ],
          [
           "Julio Iglesias Jr",
           "Madrid, Spain"
          ],
          [
           "Slipknot",
           "Des Moines, Iowa"
          ],
          [
           "Kane",
           "California - LA"
          ],
          [
           "Groupa",
           "Sweden"
          ],
          [
           "Sleepy John Estes",
           "Ripley, TN"
          ],
          [
           "Nickelback",
           "Hanna, Alberta, Canada"
          ],
          [
           "Paul Taylor",
           "Wyoming"
          ],
          [
           "Kathy Troccoli",
           "NASHVILLE, Tennessee"
          ],
          [
           "Josh White",
           "Greensboro, NC"
          ],
          [
           "Gene Autry",
           "Tioga Springs, TX"
          ],
          [
           "Britney Spears",
           "Kentwood, LA; Los Angeles, CA"
          ],
          [
           "Kathy Troccoli",
           "NASHVILLE, Tennessee"
          ],
          [
           "Nightfall",
           "Bogota, COL"
          ],
          [
           "Bill Cosby",
           "Philadelphia, PA"
          ],
          [
           "Tony Joe White",
           "Goodwill, LA"
          ],
          [
           "Screaming Lord Sutch",
           "Harrow, Middlesex, England"
          ],
          [
           "Keb' Mo'",
           "Los Angeles, CA"
          ],
          [
           "Telecast",
           "California - LA"
          ],
          [
           "Dionne Warwick",
           "East Orange, NJ"
          ],
          [
           "Belphegor",
           "SANTA ANA, California"
          ],
          [
           "Julio Iglesias Jr.",
           "Madrid, Spain"
          ],
          [
           "Orquesta Aragon",
           "Cuba"
          ],
          [
           "Cornel Campbell",
           "Jamaica"
          ],
          [
           "Arthur Tracy",
           "Kamenetz-Podolsk, Moldavia"
          ],
          [
           "Alex Ubago",
           "Vitoria, Spain"
          ],
          [
           "The Ocean",
           "London, Ontario, Canada"
          ],
          [
           "Miguel Migs",
           "San Francisco, CA"
          ],
          [
           "ARRESTED DEVELOPMENT",
           "Atlanta, GA"
          ],
          [
           "The Ataris",
           "Anderson, IN"
          ],
          [
           "The Jordanaires",
           "Springfield, MO"
          ],
          [
           "John Sebastian",
           "Leeds"
          ],
          [
           "Frost",
           "Birmingham, England"
          ],
          [
           "Sunscreem",
           "Essex, England"
          ],
          [
           "Agnostic Front",
           "New York, NY"
          ],
          [
           "Kitty Kallen",
           "Philadelphia, PA"
          ],
          [
           "The Shirelles",
           "Passaic, NJ"
          ],
          [
           "Dee Clark",
           "Blythesville, AR"
          ],
          [
           "Bert Kaempfert",
           "Hamburg, Germany"
          ],
          [
           "Molesta Ewenement",
           "Warszawa"
          ],
          [
           "Tommy James And The Shondells",
           "Dayton, OH"
          ],
          [
           "Fran Perea",
           "Malaga,Spanija"
          ],
          [
           "Reach 454",
           "New York, NY"
          ],
          [
           "Jude Cole",
           "East Moline, IL"
          ],
          [
           "La 5A Estacion",
           "Bergen Norway"
          ],
          [
           "Primordial",
           "Dublin, Ireland"
          ],
          [
           "Blind Willie Johnson",
           "Edwards, MS"
          ],
          [
           "Richard Souther",
           "United States"
          ],
          [
           "The Chieftains",
           "Ireland"
          ],
          [
           "Darden Smith",
           "Brenham, TX"
          ],
          [
           "Kinky",
           "Monterrey, Nuevo Le\\xc3\\xb3n, M\\xc3\\xa9xico"
          ],
          [
           "Dub Pistols feat. TK & Ashley Slater",
           "London, England"
          ],
          [
           "Paris_ Texas",
           "Madison, WI"
          ],
          [
           "Gene Pitney",
           "Hartford, CT"
          ],
          [
           "Bob Willis",
           "Kosse, TX"
          ],
          [
           "Dynamite Deluxe",
           "Germany"
          ],
          [
           "Soulwax",
           "Ghent, Belgium"
          ],
          [
           "The Doors",
           "Los Angeles, California, United States"
          ],
          [
           "Tony Joe White",
           "Goodwill, LA"
          ],
          [
           "Jimmy McCracklin",
           "St. Louis, MO"
          ],
          [
           "Marilyn Horne",
           "Great Britain / UK"
          ],
          [
           "Every Time I Die",
           "Buffalo, New York"
          ],
          [
           "Vodka Collins",
           "Tokyo, Japan"
          ],
          [
           "Jackie Wilson",
           "Detroit, MI"
          ],
          [
           "Edmundo Ros",
           "Venezuela"
          ],
          [
           "Klimperei",
           "FR"
          ],
          [
           "Workhorse",
           "Mississippi"
          ],
          [
           "The Pharcyde",
           "Los Angeles, CA"
          ],
          [
           "Faron Young",
           "Shreveport, LA"
          ],
          [
           "Mary Black & General Humbert",
           "Ireland"
          ],
          [
           "Moros Eros",
           "Marietta, GA"
          ],
          [
           "Speech",
           "Milwaukee, WI"
          ],
          [
           "Maria Callas/Eugenio Fernandi/Elisabeth Schwarzkopf/Giuseppe Nessi/Nicola Zaccaria/Mario Borriello/Renato Ercolani/Piero de Palma/Giulio Mauri/Elisabetta Fusco/Pinuccia Perotti/Coro del Teatro alla Scala_ Milano/Orchestra del Teatro alla Scala_ Milano/Tul",
           "New York, NY"
          ],
          [
           "The Tarriers",
           "Illinois"
          ],
          [
           "The Flesh",
           "Brooklyn, NY"
          ],
          [
           "Michael Whalen",
           "New York"
          ],
          [
           "Thomas Dolby",
           "Cairo, Egypt"
          ],
          [
           "Bonita",
           "jakarta"
          ],
          [
           "Orbital",
           "Sevenoaks, United Kingdom"
          ],
          [
           "Bryan White",
           "Lawton, OK"
          ],
          [
           "Betika_ Daouda",
           "UK - England - South East"
          ],
          [
           "John Holt",
           "Kingston, Jamaica"
          ],
          [
           "Billy Pilgrim",
           "Georgia"
          ],
          [
           "Robben Ford",
           "Ukiah, CA"
          ],
          [
           "Curtis Mayfield",
           "Chicago, IL"
          ],
          [
           "Dax Riggs",
           "Houma, LA"
          ],
          [
           "The Ronettes",
           "New York, NY [The Bronx]"
          ],
          [
           "Jos\\xc3\\xa9lito",
           "Jaen"
          ],
          [
           "Rick Astley",
           "Newton-le-Willows, Merseyside, England"
          ],
          [
           "Angelo Badalamenti / Keira Knightley",
           "New Jersey"
          ],
          [
           "Markus",
           "Kentucky"
          ],
          [
           "Skeeter Davis",
           "Dry Ridge, KY"
          ],
          [
           "Blue Rodeo",
           "Toronto, Ontario, Canada"
          ],
          [
           "Maria Callas/Gianni Raimondi/Gabriella Carturan/Plinio Clabassi/Nicola Rossi-Lemeni/Coro del Teatro alla Scala_ Milano/Noberto Mola/Orchestra del Teatro alla Scala_ Milano/Gianandrea Gavazzeni",
           "New York, NY"
          ],
          [
           "Jackie Edwards",
           "Jamaica"
          ],
          [
           "Jacques Dutronc",
           "Paris, France"
          ],
          [
           "Mighty Joe Young",
           "Shreveport, LA"
          ],
          [
           "Lari White",
           "Dunedin, FL"
          ],
          [
           "Brenda Lee",
           "Lithonia, GA"
          ],
          [
           "Roy Rogers",
           "Redding, CA"
          ],
          [
           "George Schuller",
           "NY - New York City"
          ],
          [
           "Miossec",
           "Brest, France"
          ],
          [
           "Cornell Campbell",
           "Jamaica"
          ],
          [
           "Kool Moe Dee",
           "Harlem, New York, NY"
          ],
          [
           "Bobaflex",
           "Huntington, WV"
          ],
          [
           "Benga",
           "London, United Kingdom"
          ],
          [
           "Anita Kerr",
           "Memphis, TN"
          ],
          [
           "Ten Years After",
           "Nottingham, England"
          ],
          [
           "Vangelis",
           "Volos, Greece"
          ],
          [
           "Danielle Bollinger",
           "Flint Michigan"
          ],
          [
           "Jim Bryson",
           "Ottawa, ON, Canada"
          ],
          [
           "Johnny Horton",
           "Los Angeles, CA"
          ],
          [
           "ZO2",
           "NY - New York City"
          ],
          [
           "April Wine",
           "Halifax, Nova Scotia, Canada"
          ],
          [
           "Mannheim Steamroller",
           "Omaha, NE"
          ],
          [
           "Alex Ubago",
           "Vitoria, Spain"
          ],
          [
           "Eric Burdon",
           "Walker-on-Tyne, England"
          ],
          [
           "M\\xc3\\xa5negarm",
           "Norrt\\xc3\\xa4lje"
          ],
          [
           "Mariah Carey",
           "New York, New York"
          ],
          [
           "James Horner",
           "Los Angeles, CA"
          ],
          [
           "Lacy J. Dalton",
           "Bloomsburg, PA"
          ],
          [
           "Cassius Clay",
           "New Jersey"
          ],
          [
           "Jim Reeves",
           "Galloway, Panola County, TX"
          ],
          [
           "Nestor Torres",
           "Miami, FL"
          ],
          [
           "Black Flag",
           "Los Angeles, CA"
          ],
          [
           "Disco D feat. Lola Damone & Helluva",
           "St. Louis, MO"
          ],
          [
           "Professor Longhair",
           "Bogalusa, LA"
          ],
          [
           "North Mississippi Allstars",
           "Hernando, MS"
          ],
          [
           "High Strung_ The",
           "Detroit, MI"
          ],
          [
           "The Meatmen",
           "Lansing, MI"
          ],
          [
           "Gary Morris",
           "Fort Worth, TX"
          ],
          [
           "Marygold",
           "Verona - Italy"
          ],
          [
           "Axe",
           "Tyneside, England"
          ],
          [
           "Dave Valentin",
           "Chelmsford, England"
          ],
          [
           "Truckfighters",
           "\\xc3\\x96rebro"
          ],
          [
           "Connie Smith",
           "Elkhart, IN"
          ],
          [
           "Eugene McDaniels",
           "Kansas City, MO"
          ],
          [
           "Peggy Lee",
           "Jamestown, ND"
          ],
          [
           "Onesidezero",
           "Los Angeles, CA"
          ],
          [
           "Jazz Gillum",
           "Indianola, MS"
          ],
          [
           "Lighthouse Family",
           "Newcastle, England"
          ],
          [
           "High Strung_ The",
           "Detroit, MI"
          ],
          [
           "Roger Miller",
           "Fort Worth, TX"
          ],
          [
           "T-Bone Walker",
           "Linden, TX"
          ],
          [
           "Black Debbath",
           "Oslo, Norway"
          ],
          [
           "Hatebreed",
           "New Haven, CT"
          ],
          [
           "Bobby Hutcherson",
           "Los Angeles, CA"
          ],
          [
           "Gene Autry",
           "Tioga Springs, TX"
          ],
          [
           "Nestor Torres",
           "Miami, FL"
          ],
          [
           "Poncho Sanchez",
           "Laredo, TX"
          ],
          [
           "The Jordanaires",
           "Springfield, MO"
          ],
          [
           "Ana Popovic",
           "Belgrade, Yugoslavia"
          ],
          [
           "The Rolling Stones",
           "London, England"
          ],
          [
           "Professor Longhair",
           "Bogalusa, LA"
          ],
          [
           "Paul Stanley",
           "Queens, NY"
          ],
          [
           "Tiny Bradshaw",
           "Youngstown, OH"
          ],
          [
           "Michael Whalen",
           "New York"
          ],
          [
           "Rory Block",
           "New York, NY"
          ],
          [
           "Taking Back Sunday",
           "Long Island, New York"
          ],
          [
           "Eddy Raven",
           "Lafayette, LA"
          ],
          [
           "Mariah Carey Featuring Da Brat & JD",
           "New York, New York"
          ],
          [
           "Irma Thomas",
           "Ponchatoula, LA"
          ],
          [
           "Black Debbath",
           "Oslo, Norway"
          ],
          [
           "Steve Harvey",
           "Georgia"
          ],
          [
           "Bruno Sanfilippo",
           "Buenos Aires"
          ],
          [
           "2raumwohnung",
           "Berlin, Germany"
          ],
          [
           "Cindy Morgan",
           "Nashville, TN"
          ],
          [
           "Rainforest Trio",
           "Florida"
          ],
          [
           "John D. Loudermilk",
           "Durham, NC"
          ],
          [
           "Foghat",
           "London, England"
          ],
          [
           "The Meatmen",
           "Lansing, MI"
          ],
          [
           "Gal Costa",
           "Santo Amaro da Purifica\\xef\\xbf\\xbd, Bra"
          ],
          [
           "Britny Fox",
           "Philadelphia, PA"
          ],
          [
           "Olivia Ruiz",
           "Carcassonne, France"
          ],
          [
           "HardNox",
           "California - SF"
          ],
          [
           "Jerry Reed",
           "OCALA, Florida"
          ],
          [
           "Gene Autry",
           "Tioga Springs, TX"
          ],
          [
           "Ann Nesby",
           "Joliet, IL &amp; Atlanta, GA"
          ],
          [
           "The Continentals",
           "Washington DC"
          ],
          [
           "Sade",
           "Ibadan, Nigeria"
          ],
          [
           "Marilyn Horne",
           "Great Britain / UK"
          ],
          [
           "Toots Thielemans",
           "Brussels, Belgium"
          ],
          [
           "Pumpkin Buzzard",
           "Missouri"
          ],
          [
           "Mikey Dread",
           "Jamaica"
          ],
          [
           "Irwin Goodman",
           "H\\xc3\\xa4meenlinna"
          ],
          [
           "Claire Hamill",
           "UK - England - South East"
          ],
          [
           "32 Leaves",
           "Arizona"
          ],
          [
           "Rockabye Baby!",
           "Los Angeles"
          ],
          [
           "Barbara Carr",
           "St. Louis, MO"
          ],
          [
           "Kathleen Madigan",
           "California - LA"
          ],
          [
           "Louie Ramirez",
           "New York, NY"
          ],
          [
           "Tammy Wynette",
           "Itawamba County, MS"
          ],
          [
           "Nick Ingman",
           "London, England"
          ],
          [
           "BT",
           "Earth"
          ],
          [
           "Mikey Dread",
           "Jamaica"
          ],
          [
           "Marilyn Horne",
           "Great Britain / UK"
          ],
          [
           "Mongo Santamaria",
           "Havana, Cuba [Jesus Maria]"
          ],
          [
           "DJ Primo",
           "Texas"
          ],
          [
           "The Advantage",
           "Nevada City, CA"
          ],
          [
           "Kathy Troccoli",
           "NASHVILLE, Tennessee"
          ],
          [
           "Jimmy Cliff",
           "St. Catherine, Jamaica"
          ],
          [
           "Bruce Rowland",
           "AUSTRALIA"
          ],
          [
           "Bryan Ferry",
           "Washington, England"
          ],
          [
           "Jimmie Vaughan",
           "Dallas, TX"
          ],
          [
           "Billie Jo Spears",
           "Beaumont, TX"
          ],
          [
           "Johnny Horton",
           "Los Angeles, CA"
          ],
          [
           "Delbert McClinton",
           "Lubbock, TX"
          ],
          [
           "Rubyhorse",
           "Cork City, Ireland"
          ],
          [
           "Shamen",
           "Aberdeen, Scotland"
          ],
          [
           "Alexander O'Neal",
           "Minneapolis, MN"
          ],
          [
           "Jimmy Page",
           "Heston, Middlesex, England"
          ],
          [
           "Al DiMeola",
           "Jersey City, NJ"
          ],
          [
           "Percy Faith",
           "Toronto, Ontario, Canada"
          ],
          [
           "Creedence Clearwater Revived",
           "Lanciano Italy"
          ],
          [
           "Sam Baker",
           "Austin, TX"
          ],
          [
           "Morton Gould",
           "Richmond Hill, NY"
          ],
          [
           "Dann Huff",
           "Nashville"
          ],
          [
           "Jacques Dutronc",
           "Paris, France"
          ],
          [
           "Jackie Wilson",
           "Detroit, MI"
          ],
          [
           "Jim Reeves",
           "Galloway, Panola County, TX"
          ],
          [
           "Jason Miles",
           "NY - New York City"
          ],
          [
           "Danny Wright",
           "Texas"
          ],
          [
           "Alexander O'Neal",
           "Minneapolis, MN"
          ],
          [
           "Eleanor McEvoy",
           "Dublin, Ireland"
          ],
          [
           "Jean-Jacques Goldman",
           "Paris, France"
          ],
          [
           "Agency 1.9.9.4",
           "South Carolina"
          ],
          [
           "Maria Muldaur",
           "New York, NY"
          ],
          [
           "Aeoliah",
           "Canada"
          ],
          [
           "Happy Mondays",
           "Manchester, England"
          ],
          [
           "Atom",
           "Washington"
          ],
          [
           "Gisselle",
           "Puerto Rico"
          ],
          [
           "Marvin Hamlisch",
           "New York, NY"
          ],
          [
           "Architecture In Helsinki",
           "Melbourne"
          ],
          [
           "Harry Choates",
           "Rayne, LA"
          ],
          [
           "Papa Wemba",
           "Kasai, Zaire"
          ],
          [
           "Iggy And The Stooges",
           "Ann Arbor, MI"
          ],
          [
           "Alternative TV",
           "London, England"
          ],
          [
           "The Allies",
           "Washington"
          ],
          [
           "The Cate Brothers",
           "Fayetteville, AR"
          ],
          [
           "Renato Borghetti",
           "Brazil"
          ],
          [
           "The Clash",
           "London, England"
          ],
          [
           "MxPx",
           "Bremerton, WA"
          ],
          [
           "Throw The Fight",
           "Minnesota"
          ],
          [
           "Electric Light Orchestra",
           "Birmingham, England"
          ],
          [
           "Kofi",
           "California - LA"
          ],
          [
           "John P. Kee",
           "CHARLOTTE, North Carolina"
          ],
          [
           "Bad Religion",
           "Los Angeles, Ca"
          ],
          [
           "Nolwenn Leroy",
           "St. Renan, France"
          ],
          [
           "The Primitives",
           "Oxford, England"
          ],
          [
           "The Pharcyde",
           "Los Angeles, CA"
          ],
          [
           "John Wesley",
           "Brandon"
          ],
          [
           "Lauren Wood",
           "California - LA"
          ],
          [
           "Andra\\xc3\\xa9 Crouch & Solid Gospel",
           "Pacoima, CA"
          ],
          [
           "Murderdolls",
           "HOLLYWOOD, California"
          ],
          [
           "Owsley",
           "Tennessee"
          ],
          [
           "Dottie West",
           "McMinnville, TN"
          ],
          [
           "Roy Buchanan",
           "Ozark, AR"
          ],
          [
           "Buckeye Politicians",
           "Ohio"
          ],
          [
           "Cam'Ron",
           "Harlem, NY"
          ],
          [
           "The Mustangs",
           "Connecticut"
          ],
          [
           "Russ Morgan",
           "Scranton, PA"
          ],
          [
           "First Blood",
           "San Francisco, CA"
          ],
          [
           "Joe Heaney",
           "Washington"
          ],
          [
           "Los Fabulosos Cadillacs",
           "Buenos Aires."
          ],
          [
           "T.G. Sheppard",
           "Humboldt, TN"
          ],
          [
           "Daddy Yankee / May-Be",
           "Puerto Rico"
          ],
          [
           "Carlton Livingston",
           "St, Mary, Jamaica"
          ],
          [
           "2raumwohnung",
           "Berlin, Germany"
          ],
          [
           "Suzi Quatro",
           "Detroit, MI"
          ],
          [
           "Mac Dre",
           "CALIFORNIA, California"
          ],
          [
           "The Clash",
           "London, England"
          ],
          [
           "Rihanna",
           "St Michael, Barbados "
          ],
          [
           "Jessie Lee Miller",
           "Texas"
          ],
          [
           "Max Steiner",
           "Vienna, Austria"
          ],
          [
           "Sister Rosetta Tharpe",
           "Cotton Plant, AR"
          ],
          [
           "R.L. Burnside",
           "Oxford, MS"
          ],
          [
           "DMZ",
           "Boston, MA"
          ],
          [
           "Billy Walker",
           "Ralls, TX"
          ],
          [
           "Nick Cave & The Bad Seeds",
           "Wangaratta, Victoria, Australia"
          ],
          [
           "LL Cool J / Amil",
           "Bayshore, Long Island, NY"
          ],
          [
           "Every Time I Die",
           "Buffalo, New York"
          ],
          [
           "Arthur Fiedler",
           "Boston, MA"
          ],
          [
           "Poptart Monkeys",
           "Harrisburg, PA"
          ],
          [
           "John Sebastian",
           "Leeds"
          ],
          [
           "James Last",
           "Bremen, Germany"
          ],
          [
           "Annie Minogue Band",
           "NY - New York City"
          ],
          [
           "Lou Reed",
           "Brooklyn, New York"
          ],
          [
           "Joe Heaney",
           "Washington"
          ],
          [
           "J-MACK",
           "Indiana"
          ],
          [
           "Robert Lockwood_ Jr.",
           "Marvell, AR"
          ],
          [
           "Alias",
           "Georgia"
          ],
          [
           "Mudhoney",
           "Seattle, WA"
          ],
          [
           "Donna Fargo",
           "Mount Airy, NC"
          ],
          [
           "Kristine W.",
           "Pasco, WA"
          ],
          [
           "Selena",
           "Texas"
          ],
          [
           "Clannad",
           "Ireland"
          ],
          [
           "Los Fabulosos Cadillacs",
           "Buenos Aires."
          ],
          [
           "Poncho Sanchez",
           "Laredo, TX"
          ],
          [
           "Thomas Dolby",
           "Cairo, Egypt"
          ],
          [
           "Jerry Lewis",
           "Newark, NJ"
          ],
          [
           "Eddy Arnold",
           "Madisonville, TN"
          ],
          [
           "Dexy's Midnight Runners",
           "Birmingham, England"
          ],
          [
           "J.B.Lenoir",
           "Monticello, MS"
          ],
          [
           "Foghat",
           "London, England"
          ],
          [
           "Lupe Fiasco feat. GemStones",
           "Chicago, IL"
          ],
          [
           "Las Ni\\xc3\\xb1as",
           "Mississauga"
          ],
          [
           "Mariah Carey",
           "New York, New York"
          ],
          [
           "Lightforce",
           "AUSTRALIA"
          ],
          [
           "Cristy Lane",
           "Peoria, IL"
          ],
          [
           "Andr\\xc3\\xa9 Verchuren",
           "Neuilly-sous-Clermont (Oise)"
          ],
          [
           "Los Delinq\\xc3\\xbcentes",
           "Jerez De La Frontera (C\\xc3\\xa1diz)"
          ],
          [
           "Laurindo Almeida",
           "Sao Paulo, Brazil"
          ],
          [
           "Russ Morgan",
           "Scranton, PA"
          ],
          [
           "Otis Spann",
           "Jackson, MS"
          ],
          [
           "Missy Higgins",
           "Melbourne, Australia"
          ],
          [
           "Gustavo Santaolalla",
           "Buenos Aires, Argentina"
          ],
          [
           "C.C. Adcock",
           "Louisiana"
          ],
          [
           "Missy Higgins",
           "Melbourne, Australia"
          ],
          [
           "Jericho",
           "Toronto, Ontario, Canada"
          ],
          [
           "Cass Fox",
           "London, England"
          ],
          [
           "Vex'd",
           "London"
          ],
          [
           "California Oranges",
           "Sacremento, CA"
          ],
          [
           "Republica",
           "London, England"
          ],
          [
           "Bruce Robison",
           "Texas"
          ],
          [
           "Richard Galliano",
           "Le Cannet, France"
          ],
          [
           "Jars Of Clay",
           "Nashville, TN"
          ],
          [
           "Big Daddy Kane",
           "Brooklyn"
          ],
          [
           "Martha Wainwright",
           "NY - New York City"
          ],
          [
           "Kathy Troccoli",
           "NASHVILLE, Tennessee"
          ],
          [
           "Fergie",
           "Hacienda Heights, CA"
          ],
          [
           "Joshua Rifkin",
           "New York, NY"
          ],
          [
           "Bottom Of The Hudson",
           "Charlottesville, VA"
          ],
          [
           "Roy Buchanan",
           "Ozark, AR"
          ],
          [
           "The Smashing Pumpkins",
           "Chicago, IL"
          ],
          [
           "MC5",
           "Lincoln Park, MI"
          ],
          [
           "Joe Turner / Pee Wee Crayton / Sonny Stitt",
           "Mississippi"
          ],
          [
           "Rising Lion",
           "Florida"
          ],
          [
           "Dynamite Deluxe",
           "Germany"
          ],
          [
           "The Creation",
           "Middlesex, England"
          ],
          [
           "Nick Ingman;Gavyn Wright",
           "London, England"
          ],
          [
           "Stevie Ray Vaughan And Double Trouble",
           "Dallas, TX"
          ],
          [
           "Gene Autry",
           "Tioga Springs, TX"
          ],
          [
           "Cindy Morgan",
           "Nashville, TN"
          ],
          [
           "Thomas Dolby",
           "Cairo, Egypt"
          ],
          [
           "Hank Penny",
           "Birmingham, AL"
          ],
          [
           "Johnny Pacheco",
           "Santiago de los Caballeros, Domin"
          ],
          [
           "Click / Click_ M_Ferri",
           "Maryland"
          ],
          [
           "Orquesta Sublime",
           "Cuba"
          ],
          [
           "Luciano",
           "Jamaica"
          ],
          [
           "Frank Ifield",
           "Coventry, England"
          ],
          [
           "Las Ni\\xc3\\xb1as",
           "Mississauga"
          ],
          [
           "Vincenzo",
           "Marseille"
          ],
          [
           "Frost",
           "Birmingham, England"
          ],
          [
           "Cali",
           "Vernet les Bains"
          ],
          [
           "Curtis Mayfield",
           "Chicago, IL"
          ],
          [
           "The Doors",
           "Los Angeles, California, United States"
          ],
          [
           "The Germs",
           "El Paso, TX"
          ],
          [
           "Rick Astley",
           "Newton-le-Willows, Merseyside, England"
          ],
          [
           "Mariah Carey",
           "New York, New York"
          ],
          [
           "Saigon Kick",
           "Coral Springs, Florida"
          ],
          [
           "John Sebastian",
           "Leeds"
          ],
          [
           "Dann Huff",
           "Nashville"
          ],
          [
           "Jerry Butler",
           "Sunflower, MS"
          ],
          [
           "Mariah Carey",
           "New York, New York"
          ],
          [
           "Tito Rodriguez",
           "San Juan, Puerto Rico"
          ],
          [
           "Percy Faith & Felicia Sanders",
           "Toronto, Ontario, Canada"
          ],
          [
           "Alias",
           "Georgia"
          ],
          [
           "D.A.D.",
           "Copenhagen (Denmark)"
          ],
          [
           "The Cat's Miaow",
           "Australia"
          ],
          [
           "Savoy Brown",
           "United Kingdom"
          ],
          [
           "Jesse Malin",
           "Whitestone, Queens, NY"
          ],
          [
           "Henri Pousseur",
           "Malm\\xef\\xbf\\xbd, Belgium"
          ],
          [
           "Sensations",
           "Philadelphia, PA"
          ],
          [
           "Gisele MacKenzie",
           "Winnipeg, Manitoba, Canada"
          ],
          [
           "KALIMBA",
           "Mexico City, Mexico"
          ],
          [
           "Eleanor McEvoy",
           "Dublin, Ireland"
          ],
          [
           "Davol",
           "Colorado"
          ],
          [
           "Eleanor McEvoy",
           "Dublin, Ireland"
          ],
          [
           "The Plasmatics",
           "New York, NY"
          ],
          [
           "Roy Rogers",
           "Redding, CA"
          ],
          [
           "Leroy Hutson",
           "Newark, NJ"
          ],
          [
           "Be Bop Deluxe",
           "England"
          ],
          [
           "The Roots",
           "Philadelphia, Pennsylvania, U.S."
          ],
          [
           "Fergie",
           "Hacienda Heights, CA"
          ],
          [
           "Groupa Med Lena Willemark",
           "Sweden"
          ],
          [
           "Bryan White",
           "Lawton, OK"
          ],
          [
           "Lighthouse Family",
           "Newcastle, England"
          ],
          [
           "Clockwise",
           "CANADA - Ontario"
          ],
          [
           "Architecture In Helsinki",
           "Melbourne"
          ],
          [
           "Johnny Horton",
           "Los Angeles, CA"
          ],
          [
           "Lonnie Johnson",
           "New Orleans, LA"
          ],
          [
           "The Chieftains",
           "Ireland"
          ],
          [
           "Len Barry",
           "Philadelphia, PA"
          ],
          [
           "Steel Rain",
           "California - SF"
          ],
          [
           "Orquesta Romantica de La Habana",
           "Amityville, NY"
          ],
          [
           "Nightfall",
           "Bogota, COL"
          ],
          [
           "Killswitch Engage",
           "Boston, MA"
          ],
          [
           "Bob Wills",
           "Kosse, TX"
          ],
          [
           "Terry Callier",
           "Chicago"
          ],
          [
           "Leroy Huston",
           "Chicago, IL"
          ],
          [
           "Karen Peck And New River",
           "Tennessee"
          ],
          [
           "SNAP!",
           "Germany"
          ],
          [
           "Bobby Broom",
           "New York City"
          ],
          [
           "Jake Hess",
           "Tennessee"
          ],
          [
           "Alan Silvestri",
           "New York, NY"
          ],
          [
           "Taboo",
           "Cape Town, ZA"
          ],
          [
           "Blind Blake",
           "Jacksonville, FL"
          ],
          [
           "Roger Miller",
           "Fort Worth, TX"
          ],
          [
           "Al Di Meola",
           "Jersey City, NJ"
          ],
          [
           "Blind Blake",
           "Jacksonville, FL"
          ],
          [
           "Kieran",
           "Idaho"
          ],
          [
           "Princess Lover",
           "Martinique French"
          ],
          [
           "Vex'd",
           "London"
          ],
          [
           "Antigone Rising",
           "New Jersey"
          ],
          [
           "The Cate Brothers",
           "Fayetteville, AR"
          ],
          [
           "Karnig Sarkissian",
           "United States"
          ],
          [
           "Mikey Dread",
           "Jamaica"
          ],
          [
           "Tommy Makem;The Clancy Brothers",
           "United States"
          ],
          [
           "Proficy",
           "Pennsylvania"
          ],
          [
           "T.O.K.",
           "YAHD!"
          ],
          [
           "Marvin Hamlisch;John Lithgow;Jeffrey Huard",
           "New York, NY"
          ],
          [
           "Jimmie Vaughan",
           "Dallas, TX"
          ],
          [
           "Serpentine",
           "Switzerland"
          ],
          [
           "Caramell",
           "Sweden"
          ],
          [
           "Frank Stokes",
           "Whitehaven, TN"
          ],
          [
           "Gary Moore",
           "Belfast, Northern Ireland"
          ],
          [
           "Aisha Duo",
           "NY - New York City"
          ],
          [
           "Slipknot",
           "Des Moines, Iowa"
          ],
          [
           "Nick Cave & The Bad Seeds",
           "Wangaratta, Victoria, Australia"
          ],
          [
           "Cockney Rejects",
           "England"
          ],
          [
           "Justin",
           "Georgia"
          ],
          [
           "Danny Barnes",
           "Texas"
          ],
          [
           "Hot Tuna",
           "San Francisco, CA"
          ],
          [
           "James Hunter",
           "Austin"
          ],
          [
           "Chacho",
           "New Mexico"
          ],
          [
           "Ronnie Drew",
           "Dublin, Ireland"
          ],
          [
           "Emilio",
           "SAN ANTONIO, Texas"
          ],
          [
           "Blind Willie Johnson",
           "Marlin, TX"
          ],
          [
           "Karen Peck And New River",
           "Tennessee"
          ],
          [
           "Edmundo Ros & His Orchestra",
           "Venezuela"
          ],
          [
           "Guaco",
           "Maracaibo, VE"
          ],
          [
           "NOFX",
           "Los Angeles, CA"
          ],
          [
           "BMX Bandits",
           "Scotland"
          ],
          [
           "Natasha Bedingfield",
           "London"
          ],
          [
           "Elvin Bishop",
           "Glendale, CA"
          ],
          [
           "Richard Galliano",
           "Le Cannet, France"
          ],
          [
           "Julissa",
           "Texas"
          ],
          [
           "Tim Wilson",
           "Georgia"
          ],
          [
           "Neema",
           "CANADA - Qu\\xc3\\xa9bec"
          ],
          [
           "Sick Of It All",
           "Virginia"
          ],
          [
           "Gonzalo Rubalcaba",
           "Havana, Cuba"
          ],
          [
           "Leila Chicot",
           "FRANCE"
          ],
          [
           "Roy Drusky",
           "Atlanta, GA"
          ],
          [
           "The Perrys",
           "Maryland"
          ],
          [
           "John Wesley",
           "Brandon"
          ],
          [
           "Klimperei",
           "FR"
          ],
          [
           "Liars",
           "LA / NYC"
          ],
          [
           "Moon Mullican",
           "Corrigan, Polk County, TX"
          ],
          [
           "Dave Eggar",
           "California - LA"
          ],
          [
           "Static-X",
           "Alabama"
          ],
          [
           "Hollowtip",
           "Pennsylvania"
          ],
          [
           "The Token",
           "Brooklyn, NY"
          ],
          [
           "Iggy And The Stooges",
           "Ann Arbor, MI"
          ],
          [
           "Jackie Wilson",
           "Detroit, MI"
          ],
          [
           "Henri Pousseur",
           "Malm\\xef\\xbf\\xbd, Belgium"
          ],
          [
           "Spitfire",
           "Athens"
          ],
          [
           "Warner mack",
           "Nashville, TN"
          ],
          [
           "Tinariwen",
           "Mali, Africa"
          ],
          [
           "Uman",
           "Belgium"
          ],
          [
           "Jean-Jacques Goldman;Edith Lefel;Malavoi",
           "Paris, France"
          ],
          [
           "Lupe Fiasco",
           "Chicago, IL"
          ],
          [
           "Cali",
           "Vernet les Bains"
          ],
          [
           "Scott Krippayne",
           "Washington"
          ],
          [
           "A Perfect Murder",
           "CA"
          ],
          [
           "Clarence Gatemouth Brown",
           "Vinton, LA"
          ],
          [
           "Big Audio Dynamite",
           "London, England"
          ],
          [
           "HardNox",
           "California - SF"
          ],
          [
           "Bessie Smith",
           "Chattanooga, TN"
          ],
          [
           "Jake Hess",
           "Tennessee"
          ],
          [
           "Jimmy Page",
           "Heston, Middlesex, England"
          ],
          [
           "Basic Channel",
           "Berlin, Germany"
          ],
          [
           "Sweet",
           "London, England"
          ],
          [
           "The Ataris",
           "Anderson, IN"
          ],
          [
           "The Rascals",
           "New York, NY"
          ],
          [
           "Leila Chicot",
           "FRANCE"
          ],
          [
           "Ten Years After",
           "Nottingham, England"
          ],
          [
           "Pumpkin Buzzard",
           "Missouri"
          ],
          [
           "Butthole Surfers",
           "San Antonio, TX"
          ],
          [
           "Heavy D",
           "Jamaica, West Indies"
          ],
          [
           "Snowgoons",
           "Karlsruhe, Germany"
          ],
          [
           "Sophie B. Hawkins",
           "New York, NY [Manhattan]"
          ],
          [
           "Jim Kweskin with Samoa Wilson",
           "Stamford, CT"
          ],
          [
           "Jimmy McCracklin",
           "St. Louis, MO"
          ],
          [
           "The Forms",
           "Brooklyn, New York"
          ],
          [
           "Crucial Conflict",
           "Chicago, IL"
          ],
          [
           "Messy Marv",
           "California - SF"
          ],
          [
           "RIDDLIN' KIDS",
           "Austin, TX"
          ],
          [
           "Tampa Red",
           "Smithville, GA"
          ],
          [
           "The Rance Allen Group",
           "Detroit, MI"
          ],
          [
           "Fontella Bass",
           "St. Louis, MO"
          ],
          [
           "Gang Of Four",
           "Leeds, England"
          ],
          [
           "Jonn Serrie",
           "Atlanta  Ga"
          ],
          [
           "David Arkenstone",
           "Tennessee"
          ],
          [
           "Blind Lemon Jefferson",
           "Couchman, TX"
          ],
          [
           "The Meatmen",
           "Lansing, MI"
          ],
          [
           "The Sonics_ Charlie & The Tunas",
           "Tacoma, WA"
          ],
          [
           "The Rolling Stones",
           "London, England"
          ],
          [
           "Casey Bill Weldon",
           "Arkansas"
          ],
          [
           "Leroy Hutson",
           "Newark, NJ"
          ],
          [
           "The Rascals",
           "New York, NY"
          ],
          [
           "Liquid Spill",
           "GERMANY"
          ],
          [
           "The Beatles / Tony Sheridan",
           "Liverpool, England"
          ],
          [
           "Los Fabulosos Cadillacs",
           "Buenos Aires."
          ],
          [
           "Brenda Lee",
           "Lithonia, GA"
          ],
          [
           "Pee Wee King",
           "Milwaukee, WI"
          ],
          [
           "Scweez",
           "California - SF"
          ],
          [
           "John Fogerty",
           "Berkeley, CA"
          ],
          [
           "2XL",
           "Washington DC"
          ],
          [
           "Edmundo Ros",
           "Venezuela"
          ],
          [
           "Agency 1.9.9.4",
           "South Carolina"
          ],
          [
           "Frost",
           "Birmingham, England"
          ],
          [
           "The Bronx Horns",
           "New York"
          ],
          [
           "Gonzalo Rubalcaba",
           "Havana, Cuba"
          ],
          [
           "Precious Bryant",
           "North Carolina"
          ],
          [
           "The Chieftains",
           "Ireland"
          ],
          [
           "D.R.S.",
           "Texas"
          ],
          [
           "Barbara Fairchild",
           "Knobel, AK"
          ],
          [
           "Hatebreed",
           "New Haven, CT"
          ],
          [
           "Pelt",
           "Kingston"
          ],
          [
           "Lupe Fiasco",
           "Chicago, IL"
          ],
          [
           "T.G. Sheppard",
           "Humboldt, TN"
          ],
          [
           "Dr. Elmo",
           "California - SF"
          ],
          [
           "Julien Clerc",
           "FR"
          ],
          [
           "The Jason Bonham Band",
           "NY - New York City"
          ],
          [
           "Paul Taylor",
           "Wyoming"
          ],
          [
           "VHS Or Beta",
           "Louisville, KY"
          ],
          [
           "Joey McIntyre",
           "Needham, MA"
          ],
          [
           "Dennis Brown",
           "Kingston, Jamaica"
          ],
          [
           "Kingston Trio",
           "Palo Alto, CA"
          ],
          [
           "Be Bop Deluxe",
           "England"
          ],
          [
           "The Disposable Heroes Of Hiphoprisy",
           "San Fransisco, CA"
          ],
          [
           "Big Audio Dynamite",
           "London, England"
          ],
          [
           "Alias",
           "Georgia"
          ],
          [
           "Arthur Tracy",
           "Kamenetz-Podolsk, Moldavia"
          ],
          [
           "The Distillers",
           "L.A \\tCalifornia, Estados Unidos "
          ],
          [
           "Philippe Sarde",
           "Neuilly-sur-Seine, France"
          ],
          [
           "Andrae Crouch",
           "Pacoima, CA"
          ],
          [
           "Russ Morgan",
           "Scranton, PA"
          ],
          [
           "Harry Choates",
           "Rayne, LA"
          ],
          [
           "Bill Cosby",
           "Philadelphia, PA"
          ],
          [
           "Pete Miser",
           "NY - New York City"
          ],
          [
           "Barbara Lusch",
           "Oregon"
          ],
          [
           "Lil Wayne",
           "New Orleans"
          ],
          [
           "Jimmy Page",
           "Heston, Middlesex, England"
          ],
          [
           "Dr. Elmo",
           "California - SF"
          ],
          [
           "Joe Rogan",
           "Newark, NJ"
          ],
          [
           "Jimmy Johnson",
           "Illinois"
          ],
          [
           "Bobby Darin",
           "New York, NY [The Bronx]"
          ],
          [
           "Mr Brown",
           "Mississippi Gulf Coast"
          ],
          [
           "Les Rythmes Digitales feat. Nik Kershaw",
           "Paris, France"
          ],
          [
           "UFO",
           "Arizona"
          ],
          [
           "Will Ackerman",
           "Germany"
          ],
          [
           "Virtuoso",
           "Louisiana"
          ],
          [
           "Total Fucking Destruction",
           "Pennsylvania"
          ],
          [
           "The Weegs",
           "California - SF"
          ],
          [
           "Cutting Edge",
           "California - LA"
          ],
          [
           "Kai Winding",
           "Aarhus, Denmark"
          ],
          [
           "Pat Metheny",
           "Lee"
          ],
          [
           "Hot Club Of Cowtown",
           "Hughesdale Victoria Australia"
          ],
          [
           "He Is Legend",
           "Wilmington, NC"
          ],
          [
           "Cece Winans",
           "Charlotte, NC"
          ],
          [
           "Sandi Thom",
           "Scotland"
          ],
          [
           "Bobby Pulido",
           "Edinburg, TX"
          ],
          [
           "Richard Galliano_ Jean-Charles Capon_ Gilles Perrin",
           "Le Cannet, France"
          ],
          [
           "Alice Cooper",
           "Detroit, MI"
          ],
          [
           "H-Town",
           "Houston"
          ],
          [
           "bel canto",
           "Tromso, Norway"
          ],
          [
           "The Distillers",
           "L.A \\tCalifornia, Estados Unidos "
          ],
          [
           "Dan Hicks",
           "Little Rock AK"
          ],
          [
           "Call To Preserve",
           "Rockledge, Florida"
          ],
          [
           "Heaven 17",
           "London, England"
          ],
          [
           "Lit",
           "Orange County, CA"
          ],
          [
           "Cachao",
           "Havana, Cuba"
          ],
          [
           "Pictures of Then",
           "Minnesota"
          ],
          [
           "Music Explosion",
           "Mansfield, OH"
          ],
          [
           "Bruno Sanfilippo",
           "Buenos Aires"
          ],
          [
           "Alicia Keys",
           "Harlem, New York"
          ],
          [
           "Markus",
           "Kentucky"
          ],
          [
           "Light Of The World",
           "London, England"
          ],
          [
           "Joanna Connor",
           "Brooklyn, NY"
          ],
          [
           "Ghetto Mafia",
           "Atlanta, GA"
          ],
          [
           "Bedrock",
           "Detroit"
          ],
          [
           "The Highwaymen",
           "Dayton, OH"
          ],
          [
           "Papa Wemba",
           "Kasai, Zaire"
          ],
          [
           "Bobaflex",
           "Huntington, WV"
          ],
          [
           "John Mayall",
           "Macclesfield, Cheshire, England"
          ],
          [
           "Lizzy Borden",
           "Los Angeles, CA"
          ],
          [
           "Richard Smith",
           "New York"
          ],
          [
           "Ned Miller",
           "Raines, UT"
          ],
          [
           "Klimperei",
           "FR"
          ],
          [
           "Jars Of Clay",
           "Nashville, TN"
          ],
          [
           "Liars",
           "LA / NYC"
          ],
          [
           "Yami Bolo",
           "Detroit USA"
          ],
          [
           "Grandmaster Flash",
           "Barbados, West Indies"
          ],
          [
           "Angelica Maria",
           "New Orleans, LA"
          ],
          [
           "Scott Ainslie",
           "Vermont"
          ],
          [
           "Chris Eaton",
           "California"
          ],
          [
           "Bobby Pulido",
           "Edinburg, TX"
          ],
          [
           "The Jackson Southernaires",
           "Mississippi"
          ],
          [
           "Shelly Manne",
           "New York, NY"
          ],
          [
           "Little Milton",
           "Inverness, MS"
          ],
          [
           "Eighteen Visions",
           "Orange County, CA"
          ],
          [
           "SUMO",
           "New Hampshire"
          ],
          [
           "Vana",
           "Pretoria"
          ],
          [
           "Moist",
           "Vancouver, British Columbia, Cana"
          ],
          [
           "Bad Religion",
           "Los Angeles, Ca"
          ],
          [
           "Astarte",
           "Athens, Greece"
          ],
          [
           "The Cate Brothers",
           "Fayetteville, AR"
          ],
          [
           "Vulture Industries",
           "Bergen"
          ],
          [
           "Sleepy John Estes",
           "Ripley, TN"
          ],
          [
           "Suicidal Tendencies",
           "Venice, CA"
          ],
          [
           "Professor Longhair",
           "Bogalusa, LA"
          ],
          [
           "Bo Carter",
           "Bolton, MS"
          ],
          [
           "Cristy Lane",
           "Peoria, IL"
          ],
          [
           "Vodka Collins",
           "Tokyo, Japan"
          ],
          [
           "Billie Jo Spears",
           "Beaumont, TX"
          ],
          [
           "Jesse Malin",
           "Whitestone, Queens, NY"
          ],
          [
           "Tunsi",
           "California - SF"
          ],
          [
           "Tim Wilson",
           "Georgia"
          ],
          [
           "Bitty McLean",
           "Hawaii"
          ],
          [
           "Open Hand",
           "Mass. - Boston"
          ],
          [
           "Angela Lashley",
           "Tennessee"
          ],
          [
           "The Pharcyde",
           "Los Angeles, CA"
          ],
          [
           "Tyrone Wells",
           "California - LA"
          ],
          [
           "Howie Day",
           "Bangor, Maine"
          ],
          [
           "Frank Ifield",
           "Coventry, England"
          ],
          [
           "Johnny Pacheco",
           "Santiago de los Caballeros, Domin"
          ],
          [
           "Joe Lopez",
           "Texas"
          ],
          [
           "The Jackson Southernaires",
           "Mississippi"
          ],
          [
           "Bonita",
           "jakarta"
          ],
          [
           "Dyango",
           "Massachusetts"
          ],
          [
           "Tim Wilson",
           "Georgia"
          ],
          [
           "David Bowie",
           "London, UK"
          ],
          [
           "El Gran Combo De Puerto Rico",
           "HOUSTON, Texas"
          ],
          [
           "Ann Nesby / Jamecia Bennett",
           "Joliet, IL &amp; Atlanta, GA"
          ],
          [
           "\\xc3\\x89tienne Daho",
           "Rennes"
          ],
          [
           "Cutting Edge",
           "California - LA"
          ],
          [
           "Elvira",
           "New York"
          ],
          [
           "Angels",
           "Australia"
          ],
          [
           "Roger Sanchez",
           "New York, NY"
          ],
          [
           "Guy Forsyth",
           "Austin, Texas"
          ],
          [
           "The Jordanaires & Orion",
           "Springfield, MO"
          ],
          [
           "Limbonic Art",
           "Norway  (Sandefjord)"
          ],
          [
           "Bobby Darin",
           "New York, NY [The Bronx]"
          ],
          [
           "Daryl Coley Featuring the New Generation Singers Reunion Choir",
           "San Francisco, CA"
          ],
          [
           "Erik Berglund",
           "Texas"
          ],
          [
           "Lee Michaels",
           "Los Angeles, CA"
          ],
          [
           "Joey Negro",
           "Isle of Wight, England"
          ],
          [
           "Young-Holt Unlimited",
           "Chicago, IL"
          ],
          [
           "Caspa",
           "London"
          ],
          [
           "Rachel Loy",
           "Austin, TX"
          ],
          [
           "Cockney Rejects",
           "England"
          ],
          [
           "Swami",
           "Birmingham/ London, UK"
          ],
          [
           "David Evans",
           "Tennessee"
          ],
          [
           "Atreyu",
           "Orange County, CA"
          ],
          [
           "Gonzalo Rubalcaba",
           "Havana, Cuba"
          ],
          [
           "James Last",
           "Bremen, Germany"
          ],
          [
           "Constance Demby",
           "California - SF"
          ],
          [
           "David Rose",
           "Arizona"
          ],
          [
           "Luisito Rosario",
           "Pennsylvania"
          ],
          [
           "Photek",
           "Ipswich, England"
          ],
          [
           "Vangelis",
           "Volos, Greece"
          ],
          [
           "John Sebastian",
           "Leeds"
          ],
          [
           "The Box Tops",
           "Memphis, TN"
          ],
          [
           "Grandpa Jones",
           "Niagra, KY"
          ],
          [
           "Bobby Pulido",
           "Edinburg, TX"
          ],
          [
           "Home Town Hero",
           "Los Angeles, California"
          ],
          [
           "Serpentine",
           "Switzerland"
          ],
          [
           "Ma Rainey",
           "Columbus, GA"
          ],
          [
           "Stargarden",
           "key west florida"
          ],
          [
           "Max Steiner",
           "Vienna, Austria"
          ],
          [
           "Walter Jackson",
           "Pensacola, FL"
          ],
          [
           "Luis Alberto Spinetta",
           "Buenos Aires, Argentina"
          ],
          [
           "James Horner",
           "Los Angeles, CA"
          ],
          [
           "Leeroy Stagger",
           "CANADA - Ontario"
          ],
          [
           "Doc Pomus",
           "New York, NY"
          ],
          [
           "Blind Blake",
           "Jacksonville, FL"
          ],
          [
           "Slim Harpo",
           "Lobdell, LA"
          ],
          [
           "Humble Pie",
           "Essex, England"
          ],
          [
           "The Sonics",
           "Tacoma, WA"
          ],
          [
           "Stimulator",
           "Los Angeles"
          ],
          [
           "Jean-Jacques Goldman",
           "Paris, France"
          ],
          [
           "Arsonists Get All The Girls",
           "Santa Cruz, CA"
          ],
          [
           "Bongzilla",
           "Madison, Wisconsin"
          ],
          [
           "Pierre Boulez",
           "Montbrison, France"
          ],
          [
           "Richard Galliano",
           "Le Cannet, France"
          ],
          [
           "Slipknot",
           "Des Moines, Iowa"
          ],
          [
           "Foghat",
           "London, England"
          ],
          [
           "UFO",
           "Arizona"
          ],
          [
           "King Curtis",
           "Fort Worth, TX"
          ],
          [
           "Abner Burnette",
           "LA / NYC"
          ],
          [
           "George Michael",
           "London, England"
          ],
          [
           "Gonzalo Rubalcaba",
           "Havana, Cuba"
          ],
          [
           "Sub Swara",
           "Brooklyn NY"
          ],
          [
           "Bob Willis",
           "Kosse, TX"
          ],
          [
           "Kitty Kallen",
           "Philadelphia, PA"
          ],
          [
           "Avril Lavigne",
           "Belleville, Ontario, Canada"
          ],
          [
           "Grupo Batuque",
           "Brazil"
          ],
          [
           "The White Stripes",
           "Nashville / Los Angeles"
          ],
          [
           "Leroy Hutson",
           "Newark, NJ"
          ],
          [
           "Roy Drusky",
           "Atlanta, GA"
          ],
          [
           "Musical Youth",
           "Birmingham, England"
          ],
          [
           "Sapo",
           "California - LA"
          ],
          [
           "Vince Guaraldi",
           "San Francisco, CA"
          ],
          [
           "Agnostic Front",
           "New York, NY"
          ],
          [
           "Jos\\xc3\\xa9lito",
           "Jaen"
          ],
          [
           "Santana",
           "San Francisco, California"
          ],
          [
           "Bert Kaempfert",
           "Hamburg, Germany"
          ],
          [
           "Blessid Union Of Souls",
           "Cincinnati, OH"
          ],
          [
           "Mary Black",
           "Ireland"
          ],
          [
           "Cam'Ron",
           "Harlem, NY"
          ],
          [
           "Open Hand",
           "Mass. - Boston"
          ],
          [
           "Ashes to Ashes",
           "NORWAY"
          ],
          [
           "Kathy Troccoli with Aaron Jeoffrey",
           "NASHVILLE, Tennessee"
          ],
          [
           "Laura Leon",
           "NY - New York City"
          ],
          [
           "Luiz Bonfa / Oscar Castro Neves / Lalo Schifrin",
           "Rio de Janeiro, Brazil"
          ],
          [
           "Easy Star All-Stars",
           "California"
          ],
          [
           "Eddy Arnold",
           "Madisonville, TN"
          ],
          [
           "Jennifer Brown",
           "PLAINVIEW, Texas"
          ],
          [
           "The Mad Capsule Markets",
           "JP"
          ],
          [
           "Jim Kweskin_ The Jug Band",
           "Boston, MA"
          ],
          [
           "Goose",
           "Ohio"
          ],
          [
           "Static-X",
           "Alabama"
          ],
          [
           "Josh White",
           "Greensboro, NC"
          ],
          [
           "Disco D",
           "St. Louis, MO"
          ],
          [
           "The American Boychoir",
           "New Jersey"
          ],
          [
           "Broadcast",
           "Birmingham, England"
          ],
          [
           "Sinch",
           "Pennsylvania"
          ],
          [
           "Heavy D",
           "Jamaica, West Indies"
          ],
          [
           "Stew",
           "New York"
          ],
          [
           "Don Francisco",
           "Colorado"
          ],
          [
           "Julien Clerc",
           "FR"
          ],
          [
           "Gall_ France",
           "Paris, France"
          ],
          [
           "John Michael Talbot",
           "Oklahoma City, OK"
          ],
          [
           "Jesse Malin",
           "Whitestone, Queens, NY"
          ],
          [
           "Doug MacLeod",
           "New York, NY"
          ],
          [
           "The Dillinger Escape Plan",
           "Morris Plains, NJ"
          ],
          [
           "The Cate Brothers",
           "Fayetteville, AR"
          ],
          [
           "Cali",
           "Vernet les Bains"
          ],
          [
           "Buzzcocks",
           "London / Ex-Manchester"
          ],
          [
           "Blind Lemon Jefferson",
           "Couchman, TX"
          ],
          [
           "Mush",
           "Switzerland"
          ],
          [
           "Wednesday 13",
           "Arizona"
          ],
          [
           "Hawkshaw Hawkins",
           "WILMINGTON, Delaware"
          ],
          [
           "Jean-Jacques Goldman",
           "Paris, France"
          ],
          [
           "Sandi Thom",
           "Scotland"
          ],
          [
           "Tito Rodriguez",
           "San Juan, Puerto Rico"
          ],
          [
           "The Fabulous Thunderbirds",
           "Austin, TX"
          ],
          [
           "Art Ensemble Of Chicago",
           "CHICAGO, Illinois"
          ],
          [
           "Virus",
           "UK - England - South East"
          ],
          [
           "Marlene Dietrich",
           "Sch\\xef\\xbf\\xbderg, Germany"
          ],
          [
           "Danny Williams",
           "Port Elizabeth, South Africa"
          ],
          [
           "Big Maybelle",
           "Jackson, TN"
          ],
          [
           "Danny Wright",
           "Texas"
          ],
          [
           "David Evans",
           "Tennessee"
          ],
          [
           "Dub Pistols feat. Rodney P & Terry Hall",
           "London, England"
          ],
          [
           "Tigertailz",
           "Cardiff, Wales"
          ],
          [
           "Vanessa Bell Armstrong",
           "Detroit, MI"
          ],
          [
           "Chatelaine",
           "United Kingdom"
          ],
          [
           "The Marx Brothers",
           "New York City, New York"
          ],
          [
           "Mongo Santamaria",
           "Havana, Cuba [Jesus Maria]"
          ],
          [
           "Muse",
           "UK"
          ],
          [
           "The Perrys",
           "Maryland"
          ],
          [
           "Cindy Morgan",
           "Nashville, TN"
          ],
          [
           "Richard Smith",
           "New York"
          ],
          [
           "Arthur Tracy",
           "Kamenetz-Podolsk, Moldavia"
          ],
          [
           "The Ronettes",
           "New York, NY"
          ],
          [
           "Big Joe Turner",
           "Kansas City, MO"
          ],
          [
           "Roger McGuinn",
           "Chicago, IL"
          ],
          [
           "Rocky Hill",
           "DE"
          ],
          [
           "Public Image Ltd",
           "London, England"
          ],
          [
           "Ashes to Ashes",
           "NORWAY"
          ],
          [
           "Gloria",
           "BG"
          ],
          [
           "Jean-Jacques Goldman",
           "Paris, France"
          ],
          [
           "Leana",
           "California - LA"
          ],
          [
           "The Jackson Southernaires",
           "Mississippi"
          ],
          [
           "Dilated Peoples Featuring Black Thought",
           "Los Angeles, California"
          ],
          [
           "The Jam",
           "Woking, Surrey, England"
          ],
          [
           "Drop Dead_ Gorgeous",
           "Denver, Colorado"
          ],
          [
           "Jazz Gillum",
           "Indianola, MS"
          ],
          [
           "Justo Almario",
           "California - LA"
          ],
          [
           "PMD",
           "Long Island, NY"
          ],
          [
           "Strata",
           "Campbell, CA"
          ],
          [
           "Jeremy Spencer",
           "West Hartlepool, England"
          ],
          [
           "Sonny Terry / Brownie McGhee",
           "Greensboro, NC"
          ],
          [
           "Tampa Red",
           "Smithville, GA"
          ],
          [
           "Felix Slatkin/Concert Arts Symphonic Band",
           "St. Louis, MO"
          ],
          [
           "John Wesley",
           "Brandon"
          ],
          [
           "Mannheim Steamroller",
           "Omaha, NE"
          ],
          [
           "Sivuca",
           "Itabaiana, Para\\xef\\xbf\\xbd, Brazil"
          ],
          [
           "Floyd Cramer",
           "Samti, LA"
          ],
          [
           "Jonathan Edwards / Will Ferrell",
           "Aitkin, MN"
          ],
          [
           "John D. Loudermilk",
           "Durham, NC"
          ],
          [
           "Cornell Campbell",
           "Jamaica"
          ],
          [
           "Otis Spann",
           "Jackson, MS"
          ],
          [
           "The Sterns",
           "Brighton, MA"
          ],
          [
           "Owsley",
           "Tennessee"
          ],
          [
           "Alias",
           "Georgia"
          ],
          [
           "Sade",
           "Ibadan, Nigeria"
          ],
          [
           "Kevin Max",
           "LOS ANGELES, CALIFORNIA"
          ],
          [
           "Little Willie John",
           "Cullendale, AR"
          ],
          [
           "Tora Tora",
           "Memphis, TN"
          ],
          [
           "Cal Tjader",
           "St. Louis, MO"
          ],
          [
           "Mindy McCready",
           "Fort Meyers, FL"
          ],
          [
           "Don Francisco",
           "Colorado"
          ],
          [
           "Chantal Chamandy",
           "Alexandria, Egypt"
          ],
          [
           "Mouth Of The Architect",
           "Dayton, OH"
          ],
          [
           "Diamanda Galas",
           "San Diego, CA"
          ],
          [
           "David Arkenstone",
           "Tennessee"
          ],
          [
           "Grandpa Jones",
           "Niagra, KY"
          ],
          [
           "Blind Willie Johnson",
           "Marlin, TX"
          ],
          [
           "Moonspell",
           "Portugal"
          ],
          [
           "Danny Williams",
           "Port Elizabeth, South Africa"
          ]
         ],
         "hoverlabel": {
          "namelength": 0
         },
         "hovertemplate": "artist_name=%{customdata[0]}<br>artist_location=%{customdata[1]}<br>artist_latitude=%{lat}<br>artist_longitude=%{lon}<br>artist_familiarity=%{marker.color}",
         "lat": [
          35.14968,
          35.21962,
          43.648559999999996,
          37.16793,
          34.31109,
          38.8991,
          49.80388,
          40.826240000000006,
          37.83721,
          32.67828,
          40.79195,
          40.731970000000004,
          41.88415,
          27.940170000000002,
          40.7038,
          30.08615,
          29.424490000000002,
          34.053490000000004,
          42.33168,
          51.50632,
          35.914629999999995,
          34.36401,
          32.77815,
          52.51606999999999,
          -23.56287,
          34.053490000000004,
          51.50632,
          54.48303000000001,
          37.77916,
          -37.81753,
          36.16778,
          -24.9162,
          18.11526,
          41.504709999999996,
          40.71455,
          64.55653000000001,
          46.71067,
          34.031420000000004,
          35.82213,
          27.94653,
          33.52029,
          53.4796,
          40.71455,
          56.153,
          31.846659999999996,
          36.16778,
          37.77916,
          18.015710000000002,
          33.39847,
          37.77916,
          40.99471,
          40.71455,
          35.4948,
          41.88415,
          38.8991,
          32.77942,
          42.31256,
          42.73383,
          40.71455,
          42.99671,
          30.2676,
          54.313919999999996,
          39.150929999999995,
          52.1082,
          35.30914,
          35.66693,
          50.45663,
          37.77916,
          42.33168,
          47.603559999999995,
          36.690940000000005,
          34.23294,
          37.20897,
          29.78772,
          34.011559999999996,
          52.883559999999996,
          38.43773,
          40.143229999999996,
          37.16793,
          40.71455,
          41.504709999999996,
          42.179629999999996,
          51.50632,
          30.38815,
          33.74831,
          44.115590000000005,
          51.50632,
          54.5958,
          44.41033,
          40.71455,
          40.71455,
          31.553790000000003,
          52.8029,
          43.07295,
          -23.56287,
          31.1689,
          36.16778,
          30.24216,
          51.27562,
          34.053490000000004,
          33.45081,
          62.19845,
          34.053490000000004,
          30.33138,
          43.648559999999996,
          51.50632,
          33.542429999999996,
          18.015710000000002,
          34.31109,
          40.143229999999996,
          40.143229999999996,
          50.91552,
          43.04181,
          56.65286,
          36.2929,
          34.053490000000004,
          53.93063000000001,
          37.28848,
          39.95227,
          40.86034,
          40.143229999999996,
          36.731120000000004,
          19.4319,
          56.461369999999995,
          46.20835,
          52.478590000000004,
          34.053490000000004,
          42.78668,
          28.53823,
          40.71455,
          37.77916,
          40.99471,
          39.49974,
          51.50632,
          37.77916,
          36.16778,
          56.27609,
          45.80726,
          8.4177,
          32.74863,
          40.790859999999995,
          41.88415,
          -13.442,
          40.77735,
          34.60515,
          34.053490000000004,
          33.99604,
          27.940170000000002,
          35.14968,
          40.99471,
          40.71455,
          35.52069,
          43.57607,
          34.053490000000004,
          37.77916,
          34.16788,
          43.648559999999996,
          48.884370000000004,
          21.511020000000002,
          40.71455,
          38.25486,
          33.150490000000005,
          40.65507,
          51.50632,
          43.57607,
          51.48126,
          43.648559999999996,
          34.053490000000004,
          34.053490000000004,
          18.11526,
          43.57607,
          46.71067,
          34.053490000000004,
          33.99604,
          62.19845,
          33.6671,
          32.207029999999996,
          27.9758,
          37.08571,
          33.90698,
          42.2306,
          51.50632,
          60.3907,
          40.71455,
          25.7167,
          34.30138,
          41.307109999999994,
          35.472,
          35.21962,
          36.16778,
          31.1689,
          52.883559999999996,
          34.053490000000004,
          53.41961,
          35.36302,
          40.71455,
          30.33138,
          41.18466,
          -19.596339999999998,
          29.424490000000002,
          64.95014,
          32.67828,
          30.9742,
          51.50632,
          31.1689,
          35.21962,
          34.16788,
          34.14632,
          38.59264,
          51.77045,
          40.65507,
          52.883559999999996,
          40.71455,
          31.553790000000003,
          41.88415,
          35.830729999999996,
          19.4319,
          -37.81753,
          40.85715,
          40.143229999999996,
          43.1763,
          18.22328,
          42.31256,
          -29.21545,
          55.706219999999995,
          42.68318,
          34.053490000000004,
          40.85715,
          43.7427,
          34.7519,
          43.72233,
          32.67828,
          39.150929999999995,
          46.87591,
          35.14968,
          51.50632,
          51.27172,
          -33.919059999999995,
          64.55653000000001,
          52.94922,
          45.51228,
          33.92192,
          -23.56287,
          34.053490000000004,
          32.77815,
          52.51606999999999,
          59.379909999999995,
          34.15917,
          44.48721,
          51.50632,
          39.95227,
          40.792629999999996,
          32.462920000000004,
          39.95227,
          41.05182,
          54.314069999999994,
          50.45663,
          30.235129999999998,
          42.33168,
          46.97933,
          40.143229999999996,
          30.9742,
          34.053490000000004,
          19.59009,
          42.31256,
          54.313919999999996,
          43.04181,
          50.63718,
          -34.60852,
          37.271879999999996,
          40.587509999999995,
          53.4796,
          48.20254,
          38.00335,
          34.053490000000004,
          31.1689,
          31.307570000000002,
          37.77916,
          54.977909999999994,
          33.01158,
          30.420840000000002,
          32.67828,
          39.96196,
          29.187520000000003,
          51.50632,
          35.00459,
          25.89958,
          54.5958,
          50.82056,
          29.95369,
          52.94922,
          44.00118,
          52.51606999999999,
          34.276109999999996,
          51.50632,
          36.202009999999994,
          39.09551,
          -22.97673,
          -37.0907,
          32.33112,
          29.079040000000003,
          34.053490000000004,
          -4.03479,
          43.57607,
          52.94922,
          51.50632,
          51.48126,
          32.36503,
          32.74863,
          40.731970000000004,
          42.548429999999996,
          35.14968,
          51.50632,
          18.015710000000002,
          27.9758,
          47.565,
          29.89932,
          35.472,
          32.67828,
          35.21962,
          37.80506,
          31.1689,
          25.89958,
          40.65507,
          41.88415,
          37.16793,
          34.053490000000004,
          40.65507,
          7.378839999999999,
          40.71455,
          18.015710000000002,
          18.015710000000002,
          21.511020000000002,
          39.95227,
          32.77815,
          51.55615,
          37.77916,
          35.14968,
          41.88415,
          39.17881,
          37.97615,
          46.8132,
          39.75911,
          40.65507,
          31.1689,
          33.202709999999996,
          35.472,
          34.053490000000004,
          39.6425,
          32.74838,
          40.731970000000004,
          51.50632,
          44.97903,
          56.27609,
          33.45081,
          50.82607,
          33.45081,
          43.648559999999996,
          40.587509999999995,
          50.50101,
          59.46148,
          33.626459999999994,
          38.546659999999996,
          59.33217,
          57.153819999999996,
          40.19316,
          31.553790000000003,
          13.111989999999999,
          34.16788,
          51.50632,
          28.53823,
          43.04181,
          37.87869,
          53.343759999999996,
          -34.60852,
          40.190329999999996,
          41.94508,
          42.33168,
          31.1689,
          42.33168,
          34.053490000000004,
          46.87591,
          34.19767,
          49.38426,
          46.49,
          40.8079,
          18.11526,
          34.053490000000004,
          18.11526,
          -13.442,
          6.47279,
          40.71455,
          46.20835,
          40.71455,
          35.21962,
          54.313919999999996,
          57.153819999999996,
          19.4319,
          -14.242920000000002,
          18.015710000000002,
          47.603559999999995,
          34.15917,
          42.31256,
          38.2589,
          18.015710000000002,
          42.99671,
          18.015710000000002,
          34.56398,
          25.89958,
          34.053490000000004,
          30.33138,
          42.78668,
          60.99655,
          -34.60852,
          33.538579999999996,
          18.015710000000002,
          27.9758,
          51.50632,
          36.16778,
          35.32689,
          30.43883,
          38.25486,
          35.82213,
          30.533009999999997,
          18.04552,
          40.65507,
          46.20835,
          40.731970000000004,
          53.41961,
          40.71455,
          51.50632,
          37.77916,
          49.34463,
          33.74831,
          40.71455,
          30.2676,
          57.153819999999996,
          37.271879999999996,
          31.1689,
          52.0953,
          44.16104,
          40.143229999999996,
          40.71455,
          57.153819999999996,
          18.11526,
          52.478590000000004,
          22.817510000000002,
          35.472,
          30.79062,
          34.053490000000004,
          -10.68641,
          -34.60852,
          34.96578,
          51.77045,
          34.560390000000005,
          54.314069999999994,
          54.6904,
          42.31256,
          37.44466,
          35.21962,
          32.58507,
          50.91552,
          51.50632,
          62.19845,
          39.49974,
          -22.97673,
          34.60515,
          38.62666,
          56.42465,
          37.80506,
          13.111989999999999,
          34.053490000000004,
          34.053490000000004,
          40.71455,
          40.71455,
          32.22155,
          -14.242920000000002,
          36.03256,
          33.59233,
          7.955010000000001,
          35.046440000000004,
          42.25147,
          36.068000000000005,
          34.276109999999996,
          33.74831,
          41.88415,
          37.271879999999996,
          53.41961,
          40.71455,
          35.99527,
          33.90698,
          22.817510000000002,
          51.50632,
          43.00029,
          37.271879999999996,
          34.67747,
          46.8132,
          27.94653,
          30.083740000000002,
          32.67828,
          44.115590000000005,
          46.71067,
          18.015710000000002,
          40.71455,
          32.77815,
          30.38815,
          50.82056,
          38.62666,
          33.45081,
          35.613009999999996,
          38.8991,
          40.74269,
          34.16788,
          54.314069999999994,
          52.855509999999995,
          34.053490000000004,
          34.053490000000004,
          -34.60852,
          36.16778,
          40.731970000000004,
          39.74001,
          26.12367,
          38.68193,
          38.68193,
          51.50632,
          52.478590000000004,
          48.85692,
          40.71455,
          37.77916,
          37.33847,
          34.82973,
          40.71455,
          38.25486,
          39.95227,
          52.478590000000004,
          40.71455,
          40.71455,
          -23.56287,
          51.26143,
          33.981629999999996,
          45.4215,
          40.65507,
          41.88415,
          40.852509999999995,
          56.85146999999999,
          33.74831,
          51.05563,
          43.648559999999996,
          42.328070000000004,
          35.67048,
          31.1689,
          39.55792,
          53.93063000000001,
          51.50632,
          42.33168,
          29.95369,
          42.25147,
          54.48303000000001,
          46.71067,
          41.88,
          38.2589,
          29.952440000000003,
          51.50632,
          40.71455,
          34.053490000000004,
          42.7316,
          36.06899,
          35.830729999999996,
          49.26044,
          29.95369,
          42.98689,
          36.06899,
          37.16793,
          36.068000000000005,
          44.97903,
          42.33168,
          18.46617,
          30.33138,
          55.67631,
          50.84838,
          47.603559999999995,
          39.17881,
          35.2225,
          29.079040000000003,
          32.61436,
          38.68193,
          54.313919999999996,
          37.271879999999996,
          43.7427,
          53.07516,
          37.77916,
          53.553340000000006,
          48.390229999999995,
          52.51606999999999,
          35.74595,
          37.4876,
          41.260690000000004,
          37.80506,
          42.33168,
          56.153,
          38.62774,
          40.143229999999996,
          40.71455,
          44.115590000000005,
          36.87652,
          34.56398,
          30.9742,
          35.830729999999996,
          18.11526,
          50.82607,
          36.15398,
          34.053490000000004,
          33.89275,
          -34.60852,
          30.08615,
          38.43773,
          40.11727,
          37.77916,
          33.517109999999995,
          40.71455,
          60.17116,
          41.504709999999996,
          30.2676,
          39.14465,
          51.50632,
          39.76618,
          40.79195,
          53.45644,
          51.50632,
          -34.60852,
          46.71067,
          47.603559999999995,
          40.71455,
          23.0833,
          37.51146,
          35.32689,
          34.31109,
          57.153819999999996,
          35.2225,
          41.0981,
          49.34463,
          32.29869,
          34.053490000000004,
          51.50632,
          37.271879999999996,
          51.50632,
          31.901429999999998,
          42.88544,
          27.9758,
          42.33168,
          -6.3682099999999995,
          38.00335,
          37.87869,
          51.50632,
          51.76102,
          35.32689,
          40.76596,
          64.55653000000001,
          36.87652,
          42.328070000000004,
          35.830729999999996,
          30.2676,
          51.27562,
          43.07295,
          51.27562,
          44.646159999999995,
          40.71455,
          51.50632,
          51.50632,
          40.71455,
          30.22032,
          39.49974,
          37.97615,
          42.503820000000005,
          23.0833,
          42.548429999999996,
          37.80506,
          29.95369,
          -41.28054,
          38.2589,
          41.94508,
          33.434509999999996,
          -22.97673,
          33.46797,
          46.25605,
          48.85692,
          30.235129999999998,
          44.00118,
          35.5953,
          27.94653,
          37.271879999999996,
          19.45565,
          42.33168,
          37.80506,
          42.33168,
          43.648559999999996,
          53.93063000000001,
          18.015710000000002,
          30.33138,
          -34.60852,
          41.88415,
          32.77815,
          34.053490000000004,
          51.50632,
          38.8991,
          34.7519,
          56.85146999999999,
          32.58507,
          40.69214,
          51.77045,
          36.832640000000005,
          43.87165,
          21.511020000000002,
          36.17191,
          25.72898,
          39.29055,
          38.2589,
          33.89275,
          40.881040000000006,
          4.65637,
          40.71455,
          42.88544,
          34.053490000000004,
          54.898140000000005,
          33.6671,
          38.498090000000005,
          29.57535,
          32.29869,
          40.71455,
          52.883559999999996,
          34.053490000000004,
          34.053490000000004,
          40.143229999999996,
          38.62774,
          37.16793,
          47.603559999999995,
          36.97402,
          33.542429999999996,
          30.43883,
          34.18806,
          30.33138,
          8.4177,
          37.16793,
          33.35303,
          36.06899,
          46.20835,
          42.31256,
          39.95227,
          48.428309999999996,
          36.15398,
          39.16178,
          40.71455,
          53.4796,
          40.99471,
          34.60515,
          38.8991,
          43.1763,
          42.18419,
          38.546659999999996,
          40.86034,
          45.511790000000005,
          60.17116,
          29.78772,
          52.883559999999996,
          29.424490000000002,
          41.58979,
          38.8991,
          29.89932,
          38.2589,
          41.82387,
          39.2794,
          18.015710000000002,
          31.1689,
          33.89275,
          37.16793,
          34.96578,
          42.33168,
          39.75911,
          41.88415,
          53.41961,
          40.71455,
          52.50524,
          40.71455,
          46.20835,
          35.21962,
          38.99792,
          34.16788,
          35.33204,
          28.53823,
          34.053490000000004,
          26.12367,
          -34.60852,
          40.8079,
          55.67631,
          36.87652,
          34.053490000000004,
          44.97903,
          37.271879999999996,
          39.739259999999994,
          44.23153,
          38.8991,
          52.05777,
          21.511020000000002,
          26.30116,
          -34.60852,
          35.830729999999996,
          40.731970000000004,
          38.99792,
          29.424490000000002,
          21.511020000000002,
          52.51606999999999,
          32.29869,
          44.41033,
          52.40698,
          23.1168,
          40.8079,
          62.19845,
          33.13178,
          53.41961,
          35.2225,
          39.739259999999994,
          37.77916,
          34.053490000000004,
          33.92192,
          31.307570000000002,
          39.95227,
          38.50205,
          37.16793,
          42.503820000000005,
          50.63718,
          -33.86963,
          43.648559999999996,
          33.45081,
          32.67828,
          32.29869,
          31.1689,
          34.60515,
          0.10974,
          31.1689,
          53.409769999999995,
          18.01361,
          34.053490000000004,
          29.36624,
          27.9758,
          42.4266,
          49.26044,
          50.3758,
          52.855509999999995,
          34.053490000000004,
          46.49,
          32.58507,
          34.053490000000004,
          35.32689,
          51.50632,
          39.95227,
          35.2225,
          36.832640000000005,
          29.424490000000002,
          34.053490000000004,
          27.9758,
          32.207029999999996,
          43.648559999999996,
          36.16778,
          34.23294,
          49.89942,
          54.979380000000006,
          40.143229999999996,
          33.89627,
          40.79195,
          40.65507,
          34.302459999999996,
          31.30627,
          34.053490000000004,
          55.8578,
          35.21962,
          -41.28054,
          30.2676,
          49.38426,
          18.11526,
          30.2676,
          -41.28054,
          51.50632,
          34.053490000000004,
          37.87869,
          34.19451,
          39.95227,
          36.16778,
          -14.242920000000002,
          42.99671,
          53.95333,
          34.31109,
          43.8814,
          42.08317,
          18.015710000000002,
          42.33168,
          53.343759999999996,
          36.16778,
          39.95227,
          54.6904,
          42.328070000000004,
          40.71455,
          47.49852,
          42.33168,
          42.31256,
          26.27249,
          37.271879999999996,
          30.43883,
          32.74863,
          34.053490000000004,
          40.71455,
          40.71455,
          42.02534,
          35.99527,
          38.2589,
          40.65507,
          50.3758,
          40.71455,
          34.80046,
          32.77815,
          34.053490000000004,
          32.462920000000004,
          41.36149,
          41.307109999999994,
          41.68676,
          34.473259999999996,
          63.03654,
          21.511020000000002,
          -36.35484,
          18.11526,
          41.504709999999996,
          34.053490000000004,
          35.21962,
          41.260690000000004,
          34.7519,
          27.9758,
          28.53823,
          46.71067,
          30.996879999999997,
          51.48126,
          34.053490000000004,
          39.74001,
          40.71455,
          43.7698,
          47.04954,
          39.150929999999995,
          35.74595,
          40.85715,
          51.16418,
          40.71455,
          -9.824910000000001,
          39.95227,
          50.50101,
          34.053490000000004,
          37.41402,
          39.37413,
          59.379909999999995,
          51.898340000000005,
          33.39847,
          40.85715,
          40.65507,
          56.95468,
          -1.9322,
          42.99671,
          34.053490000000004,
          51.50632,
          35.2225,
          62.19845,
          28.53823,
          34.053490000000004,
          51.50632,
          62.19845,
          38.8235,
          35.30914,
          13.111989999999999,
          40.143229999999996,
          44.00118,
          34.053490000000004,
          40.65507,
          51.50632,
          42.503820000000005,
          35.21962,
          30.767529999999997,
          40.587509999999995,
          40.190329999999996,
          41.88415,
          35.67048,
          40.731970000000004,
          56.85146999999999,
          31.1689,
          50.84838,
          32.20049,
          41.94508,
          29.424490000000002,
          41.88415,
          32.61436,
          51.50632,
          33.74831,
          33.89627,
          54.313919999999996,
          32.20049,
          55.8578,
          40.71455,
          51.735690000000005,
          34.0737,
          34.15917,
          62.19845,
          40.79195,
          34.053490000000004,
          34.053490000000004,
          53.79449,
          49.34463,
          62.19845,
          59.33217,
          37.77916,
          38.2589,
          53.553340000000006,
          29.76045,
          39.10295,
          46.71067,
          56.461369999999995,
          40.65507,
          31.03896,
          54.48303000000001,
          44.7272,
          44.81187,
          29.424490000000002,
          40.71455,
          51.11655,
          44.115590000000005,
          48.85692,
          40.71455,
          44.115590000000005,
          41.88415,
          43.648559999999996,
          30.9742,
          30.2676,
          37.16793,
          34.36401,
          32.67828,
          42.31256,
          40.67856,
          30.2676,
          41.260690000000004,
          55.67631,
          34.053490000000004,
          53.553340000000006,
          50.97768,
          51.50632,
          40.731970000000004,
          30.6554,
          52.51606999999999,
          42.938959999999994,
          18.209039999999998,
          41.504709999999996,
          30.2676,
          38.8235,
          41.88415,
          40.731970000000004,
          30.235129999999998,
          29.079040000000003,
          41.50075,
          42.548429999999996,
          41.88415,
          32.71568,
          52.883559999999996,
          33.76672,
          35.21962,
          37.80506,
          41.88415,
          35.830729999999996,
          30.420840000000002,
          36.16778,
          30.996879999999997,
          37.77916,
          54.5958,
          37.16793,
          35.21962,
          34.053490000000004,
          41.517759999999996,
          48.76767,
          38.8991,
          53.41961,
          32.58507,
          31.553790000000003,
          34.56398,
          40.10216,
          -33.919059999999995,
          34.053490000000004,
          51.50632,
          36.0632,
          36.71832,
          40.71455,
          43.648559999999996,
          32.29869,
          40.8079,
          44.23153,
          40.21787,
          53.4796,
          46.71067,
          40.71455,
          51.45238,
          40.143229999999996,
          22.817510000000002,
          5.87522,
          30.2676,
          30.22032,
          39.150929999999995,
          39.75911,
          23.62574,
          38.62774,
          64.55653000000001,
          56.95468,
          34.19363,
          33.45081,
          53.89128,
          33.993629999999996,
          34.053490000000004,
          27.530920000000002,
          42.31256,
          -4.03479,
          40.85715,
          37.97615,
          38.99792,
          40.71455,
          51.50632,
          51.50632,
          38.8991,
          34.053490000000004,
          29.78772,
          35.66693,
          52.883559999999996,
          40.71455,
          41.68676,
          27.9758,
          48.552859999999995,
          30.2676,
          48.20254,
          51.77045,
          37.271879999999996,
          54.898140000000005,
          -24.9162,
          63.03654,
          37.77916,
          39.75911,
          37.76509,
          38.62666,
          41.307109999999994,
          49.01037,
          46.71067,
          49.08215,
          43.21183,
          40.99471,
          39.95227,
          34.053490000000004,
          34.053490000000004,
          29.424490000000002,
          51.48126,
          52.51606999999999,
          40.68869,
          51.50632,
          40.85715,
          40.71455,
          42.33168,
          46.71067,
          42.73383,
          39.95227,
          48.85692,
          34.18806,
          51.50632,
          34.23294,
          33.56173,
          18.11526,
          40.71455,
          40.71455,
          31.1689,
          35.62327,
          48.69173,
          33.52029,
          41.41013,
          43.0026,
          47.04954,
          32.58507,
          54.498569999999994,
          33.52029,
          35.21962,
          40.71455,
          35.66693,
          27.530920000000002,
          42.31256,
          43.00029,
          33.6671,
          -22.97673,
          40.71455,
          36.068000000000005,
          40.71455,
          38.68193,
          29.95369,
          53.4796,
          54.979380000000006,
          46.51959,
          34.053490000000004,
          34.053490000000004,
          39.14465,
          43.91253,
          35.046440000000004,
          40.65507,
          40.731970000000004,
          40.8079,
          46.25605,
          18.11526,
          35.14968,
          37.82245,
          38.8962,
          40.71455,
          41.307109999999994,
          40.65507,
          39.29055,
          39.75911,
          48.20254,
          37.271879999999996,
          57.153819999999996,
          53.89128,
          33.542429999999996,
          6.47279,
          40.7174,
          38.57842,
          46.91008,
          38.62774,
          43.648559999999996,
          35.830729999999996,
          40.71455,
          43.648559999999996,
          41.88415,
          37.77916,
          39.739259999999994,
          35.21962,
          38.68193,
          33.56173,
          34.26624,
          34.23294,
          38.68193,
          18.015710000000002,
          38.2589,
          23.1168,
          30.33138,
          38.8991,
          52.51606999999999,
          51.596779999999995,
          40.71455,
          36.16778,
          39.739259999999994,
          38.62774,
          33.6671,
          30.24216,
          42.4266,
          34.473259999999996,
          36.16778,
          42.33168,
          30.19145,
          42.33168,
          52.51606999999999,
          36.97402,
          25.89958,
          53.343759999999996,
          27.9758,
          18.04552,
          38.62666,
          49.01037,
          51.50632,
          41.260690000000004,
          41.307109999999994,
          51.50632,
          35.21962,
          44.00118,
          50.91552,
          52.05777,
          37.77916,
          34.053490000000004,
          40.71455,
          42.18419,
          32.36503,
          33.92192,
          54.313919999999996,
          45.494409999999995,
          33.89275,
          41.88415,
          37.16793,
          39.95227,
          33.6671,
          34.053490000000004,
          31.30627,
          40.99471,
          40.8448,
          53.45644,
          36.16778,
          53.41961,
          35.14968,
          38.8235,
          39.75911,
          30.22032,
          52.3667,
          18.015710000000002,
          30.08615,
          39.29055,
          38.8235,
          51.50632,
          51.898340000000005,
          35.830729999999996,
          40.71455,
          51.50632,
          18.015710000000002,
          51.50632,
          33.45081,
          45.60718,
          37.271879999999996,
          35.66693,
          37.16793,
          29.424490000000002,
          35.830729999999996,
          29.95369,
          38.08767,
          35.472,
          40.71455,
          32.58507,
          18.11526,
          59.46148,
          29.76045,
          56.87546,
          -34.60852,
          39.37413,
          31.1689,
          34.19451,
          50.50101,
          30.43883,
          51.77045,
          40.71455,
          48.69173,
          41.05182,
          27.9758,
          30.083740000000002,
          31.1689,
          37.16793,
          38.50205,
          48.883140000000004,
          40.8079,
          51.50632,
          64.95014,
          31.1689,
          35.21962,
          39.10644,
          40.71455,
          33.52029,
          42.21464,
          41.88415,
          39.75911,
          37.271879999999996,
          30.79062,
          32.77815,
          40.71455,
          27.94653,
          49.38426,
          27.9758,
          32.74863,
          38.8991,
          31.1689,
          22.817510000000002,
          34.07292,
          -37.0907,
          51.427209999999995,
          54.979380000000006,
          41.88415,
          33.35303,
          46.87591,
          44.48721,
          34.053490000000004,
          41.88415,
          47.603559999999995,
          51.50632,
          32.34747,
          40.65507,
          49.34463,
          64.55653000000001,
          37.77916,
          40.71455,
          40.71455,
          37.271879999999996,
          -14.242920000000002,
          32.77942,
          37.77916,
          39.96196,
          29.76045,
          30.22032,
          35.2225,
          32.77815,
          32.58507,
          35.830729999999996,
          36.06899,
          40.65507,
          33.35303,
          40.852509999999995,
          51.52328,
          40.71455,
          53.41961,
          34.053490000000004,
          48.85692,
          51.50632,
          41.38572,
          34.053490000000004,
          33.6671,
          33.74831,
          64.55653000000001,
          51.50632,
          60.17116,
          37.80506,
          40.8079,
          52.94922,
          41.260690000000004,
          37.271879999999996,
          56.95468,
          37.80506,
          40.76099,
          32.58507,
          62.24049,
          51.50632,
          48.85692,
          18.015710000000002,
          34.053490000000004,
          35.03731,
          40.71455,
          48.20254,
          40.21787,
          39.55792,
          46.49,
          37.28848,
          27.530920000000002,
          33.45081,
          40.71455,
          40.71455,
          21.511020000000002,
          36.068000000000005,
          39.739259999999994,
          40.71455,
          51.50632,
          18.015710000000002,
          33.89627,
          32.58507,
          34.41925,
          54.898140000000005,
          30.996879999999997,
          37.77916,
          51.50632,
          37.271879999999996,
          48.85692,
          33.86404,
          -34.60852,
          31.1689,
          47.49852,
          39.95227,
          -33.96243,
          39.95227,
          54.898140000000005,
          18.11526,
          37.271879999999996,
          34.41925,
          32.77942,
          49.01037,
          42.548429999999996,
          40.71455,
          53.383109999999995,
          32.20049,
          42.25147,
          37.59791,
          41.88415,
          34.053490000000004,
          40.587509999999995,
          39.6425,
          4.65637,
          40.71455,
          41.88415,
          28.639509999999998,
          34.23294,
          41.517759999999996,
          43.648559999999996,
          40.71455,
          34.053490000000004,
          29.76045,
          33.59233,
          43.07295,
          62.19845,
          34.053490000000004,
          29.59733,
          36.16778,
          40.731970000000004,
          40.71455,
          29.97525,
          33.45081,
          13.111989999999999,
          33.7621,
          40.71455,
          -22.97673,
          29.424490000000002,
          21.511020000000002,
          44.646159999999995,
          59.91228,
          51.48126,
          42.33168,
          53.4796,
          32.58507,
          40.71455,
          33.13178,
          32.67828,
          40.143229999999996,
          48.20254,
          41.260690000000004,
          41.504709999999996,
          30.9742,
          34.7519,
          51.52328,
          30.439770000000003,
          38.03213,
          18.015710000000002,
          34.053490000000004,
          -41.28054,
          35.21962,
          40.71455,
          39.95227,
          46.71067,
          17.57975,
          40.71455,
          46.71067,
          31.30627,
          37.16793,
          33.74831,
          34.053490000000004,
          -29.21545,
          31.1689,
          30.24216,
          40.99471,
          44.7272,
          34.053490000000004,
          13.111989999999999,
          -22.97673,
          42.31256,
          40.71455,
          39.14465,
          48.390229999999995,
          51.11655,
          43.648559999999996,
          34.053490000000004,
          29.95369,
          40.731970000000004,
          56.95468,
          23.0833,
          33.74831,
          33.517109999999995,
          40.8448,
          31.1689,
          -24.9162,
          36.16778,
          40.71455,
          35.21962,
          37.82245,
          30.9742,
          30.2676,
          40.23447,
          -37.81753,
          56.461369999999995,
          49.01037,
          18.22328,
          33.46797,
          51.16418,
          33.74831,
          30.9742,
          47.565,
          46.71067,
          37.271879999999996,
          43.1763,
          43.7427,
          43.7427,
          37.77916,
          37.16793,
          32.20049,
          43.7427,
          42.33168,
          39.739259999999994,
          44.04992,
          41.88415,
          40.65507,
          -1.9322,
          48.20254,
          40.65507,
          37.97615,
          55.8578,
          37.77916,
          34.053490000000004,
          34.031420000000004,
          40.71455,
          31.1689,
          42.33168,
          42.84751,
          40.8079,
          33.74831,
          40.72023,
          60.99655,
          27.9758,
          39.739259999999994,
          32.74863,
          41.504709999999996,
          32.58507,
          41.35644,
          40.85715,
          52.883559999999996,
          53.93063000000001,
          39.14465,
          51.51262,
          46.20835,
          33.52029,
          43.58015,
          51.16418,
          40.71455,
          34.053490000000004,
          43.648559999999996,
          48.85692,
          33.74831,
          52.1082,
          40.76099,
          41.88415,
          48.390229999999995,
          36.16778,
          40.8079,
          38.2589,
          41.05182,
          34.053490000000004,
          40.71455,
          34.053490000000004,
          18.015710000000002,
          42.31256,
          46.20835,
          42.18419,
          29.079040000000003,
          18.11526,
          -4.03479,
          54.6904,
          43.01437,
          32.58507,
          32.31928,
          52.883559999999996,
          51.50632,
          51.50632,
          40.71455,
          51.50632,
          42.328070000000004,
          34.053490000000004,
          33.6671,
          41.517759999999996,
          51.50632,
          41.88415,
          32.29869,
          52.478590000000004,
          39.37413,
          30.08615,
          40.76596,
          40.71455,
          40.71455,
          52.50524,
          42.31256,
          34.053490000000004,
          40.71455,
          37.77916,
          40.71455,
          40.71455,
          51.16418,
          -10.68641,
          34.053490000000004,
          53.343759999999996,
          52.855509999999995,
          43.04181,
          25.72898,
          60.99655,
          43.648559999999996,
          40.587509999999995,
          29.76045,
          48.69173,
          32.38012,
          33.74831,
          33.586079999999995,
          54.498569999999994,
          40.143229999999996,
          35.472,
          42.33168,
          41.88415,
          -37.81753,
          32.33112,
          50.82607,
          -34.60852,
          35.5953,
          46.51959,
          41.58979,
          40.71455,
          53.45644,
          40.71455,
          38.25486,
          51.27562,
          39.41574,
          60.3907,
          40.10216,
          35.32689,
          43.32618,
          51.50632,
          39.95227,
          51.50632,
          35.21962,
          35.472,
          46.71067,
          53.4796,
          44.97903,
          40.85715,
          35.472,
          43.8814,
          37.271879999999996,
          41.82387,
          37.77916,
          49.34463,
          41.39447,
          39.150929999999995,
          39.17881,
          28.33268,
          52.478590000000004,
          35.03731,
          21.511020000000002,
          -37.90019,
          39.95227,
          43.71371,
          38.2589,
          37.271879999999996,
          35.53849,
          38.25486,
          51.27172,
          38.68193,
          9.08457,
          38.8991,
          39.739259999999994,
          34.053490000000004,
          40.71455,
          27.530920000000002,
          35.830729999999996,
          18.015710000000002,
          57.153819999999996,
          52.94922,
          53.93063000000001,
          30.9742,
          35.830729999999996,
          34.16788,
          51.50632,
          40.731970000000004,
          41.88415,
          34.053490000000004,
          59.91228,
          32.77815,
          54.314069999999994,
          27.94653,
          26.12367,
          51.52328,
          35.14968,
          64.55653000000001,
          41.9293,
          35.52069,
          49.34463,
          39.95227,
          44.97903,
          18.46617,
          51.16418,
          37.271879999999996,
          -37.81753,
          44.48721,
          44.97903,
          52.05777,
          64.55653000000001,
          40.65507,
          40.190329999999996,
          6.47279,
          31.1689,
          34.053490000000004,
          51.05563,
          40.65507,
          31.1689,
          51.16418,
          60.99655,
          34.053490000000004,
          -23.56287,
          18.11526,
          49.01037,
          42.503820000000005,
          49.38426,
          40.71455,
          42.08317,
          18.015710000000002,
          48.85692,
          47.25513,
          51.50632,
          34.053490000000004,
          32.77942,
          54.5958,
          30.2676,
          43.648559999999996,
          56.87546,
          42.78668,
          53.79449,
          52.883559999999996,
          38.00335,
          49.26044,
          30.08615,
          34.16788,
          -34.60852,
          -22.97673,
          36.0632,
          -33.86963,
          35.21962,
          32.67828,
          52.883559999999996,
          40.65507,
          40.71455,
          40.71455,
          35.14968,
          43.648559999999996,
          18.22328,
          38.05157,
          34.51042,
          35.914629999999995,
          43.648559999999996,
          52.478590000000004,
          41.58979,
          52.883559999999996,
          59.46148,
          31.1689,
          39.10644,
          37.77916,
          42.328070000000004,
          35.00459,
          40.99471,
          42.31256,
          39.29055,
          40.71455,
          42.33168,
          35.830729999999996,
          -34.60852,
          42.31256,
          40.71455,
          41.76332,
          53.4796,
          32.29869,
          41.88415,
          55.953269999999996,
          47.565,
          33.39847,
          49.26044,
          38.99792,
          34.19423,
          21.511020000000002,
          62.19845,
          33.993629999999996,
          19.59009,
          31.15509,
          18.22328,
          37.77916,
          18.11526,
          30.6554,
          31.1689,
          37.271879999999996,
          50.63718,
          48.884370000000004,
          34.16788,
          35.00459,
          32.77815,
          35.830729999999996,
          40.5725,
          39.95227,
          26.30116,
          -24.9162,
          38.2589,
          40.71455,
          44.41033,
          51.31476,
          34.60515,
          40.143229999999996,
          33.45081,
          25.72898,
          34.053490000000004,
          37.80506,
          39.95227,
          23.1168,
          36.2929,
          38.00335,
          41.260690000000004,
          40.65507,
          41.504709999999996,
          37.76509,
          53.93063000000001,
          18.015710000000002,
          47.603559999999995,
          34.053490000000004,
          36.87652,
          42.31256,
          33.6671,
          46.71067,
          59.759519999999995,
          18.11526,
          34.053490000000004,
          32.67828,
          43.01437,
          32.29869,
          56.461369999999995,
          51.50632,
          31.96305,
          43.07295,
          55.67631,
          18.015710000000002,
          51.50632,
          40.71455,
          34.053490000000004,
          55.953269999999996,
          32.67828,
          29.95369,
          29.95369,
          37.80506,
          46.23518,
          40.7174,
          51.16418,
          34.053490000000004,
          30.38815,
          33.74831,
          48.10751,
          19.59009,
          56.85146999999999,
          52.478590000000004,
          39.49974,
          40.71455,
          40.71455,
          30.9742,
          38.62774,
          50.82056,
          49.38426,
          43.58015,
          -19.93272,
          40.8079,
          35.67048,
          30.43883,
          4.65637,
          40.71455,
          51.16418,
          33.74831,
          35.92425,
          25.72898,
          35.914629999999995,
          47.61002,
          33.45081,
          -13.442,
          37.77916,
          41.260690000000004,
          37.271879999999996,
          51.16418,
          40.71455,
          37.271879999999996,
          39.95227,
          30.6554,
          46.8132,
          40.71455,
          40.8079,
          40.01574,
          34.011559999999996,
          34.16788,
          40.8448,
          46.23518,
          42.33168,
          35.33204,
          5.87522,
          40.10216,
          42.33168,
          41.260690000000004,
          52.478590000000004,
          40.143229999999996,
          51.50632,
          51.27562,
          30.2676,
          37.16793,
          62.19845,
          -29.21545,
          44.97903,
          41.504709999999996,
          40.143229999999996,
          33.517109999999995,
          32.29869,
          38.00335,
          41.88415,
          43.648559999999996,
          40.65507,
          53.4796,
          18.46617,
          30.083740000000002,
          52.883559999999996,
          36.16778,
          40.852509999999995,
          42.25147,
          51.05563,
          51.16418,
          33.74907,
          51.59109,
          18.015710000000002,
          39.95227,
          38.048590000000004,
          37.77916,
          18.015710000000002,
          34.16788,
          35.830729999999996,
          45.51228,
          51.50632,
          49.34463,
          31.1689,
          60.99655,
          51.48126,
          40.71455,
          64.95014,
          51.77045,
          35.14968,
          34.7519,
          40.71455,
          37.82245,
          37.77916,
          37.77916,
          34.053490000000004,
          55.8578,
          45.75342,
          64.55653000000001,
          41.88415,
          13.111989999999999,
          53.4796,
          30.33138,
          19.45565,
          40.71455,
          38.546659999999996,
          40.99471,
          32.77815,
          33.89627,
          53.79449,
          34.053490000000004,
          63.03654,
          33.39847,
          30.235129999999998,
          51.4855,
          40.71455,
          35.96043,
          35.36302,
          35.2225,
          51.50632,
          57.701330000000006,
          37.77916,
          40.85715,
          34.19451,
          37.271879999999996,
          31.1689,
          27.9758,
          46.49,
          40.99471,
          53.4796,
          54.313919999999996,
          18.22328,
          35.21962,
          43.648559999999996,
          35.21962,
          53.41961,
          18.11526,
          51.50632,
          31.1689,
          34.053490000000004,
          35.48703,
          31.1689,
          31.1689,
          41.88415,
          44.09319,
          45.75342,
          41.260690000000004,
          33.90698,
          33.71197,
          35.52069,
          18.22328,
          53.383109999999995,
          54.498569999999994,
          37.271879999999996,
          57.701330000000006,
          34.053490000000004,
          34.053490000000004,
          41.517759999999996,
          34.053490000000004,
          38.25486,
          36.16778,
          50.63718,
          30.22032,
          31.1689,
          51.50632,
          41.504709999999996,
          59.85845,
          32.77942,
          40.85715,
          55.67631,
          40.71455,
          30.16602,
          53.41961,
          37.77916,
          44.115590000000005,
          52.94922,
          54.314069999999994,
          50.84838,
          32.77815,
          35.33204,
          39.739259999999994,
          34.053490000000004,
          43.648559999999996,
          30.420840000000002,
          37.77916,
          40.71455,
          34.07292,
          54.48303000000001,
          -6.1714400000000005,
          18.11526,
          35.830729999999996,
          32.78115,
          41.88415,
          56.95468,
          32.74863,
          51.50632,
          40.71455,
          38.25486,
          32.33112,
          51.76102,
          33.86404,
          6.47279,
          42.3519,
          44.83663,
          39.37413,
          18.22328,
          37.271879999999996,
          34.053490000000004,
          39.10644,
          -6.1714400000000005,
          34.053490000000004,
          53.4796,
          29.079040000000003,
          37.77916,
          35.21962,
          46.8132,
          40.731970000000004,
          35.2225,
          51.50632,
          33.92192,
          35.830729999999996,
          29.57535,
          49.38426,
          40.826240000000006,
          46.20835,
          43.00029,
          26.12367,
          56.27609,
          25.72898,
          50.82607,
          23.0833,
          40.731970000000004,
          33.74831,
          57.153819999999996,
          31.1689,
          27.9758,
          42.328070000000004,
          33.6671,
          40.852509999999995,
          54.07485,
          32.58507,
          51.48126,
          51.77045,
          35.74595,
          51.48126,
          52.51606999999999,
          45.4215,
          40.65507,
          41.88415,
          51.4855,
          41.05182,
          51.50632,
          -37.81753,
          34.053490000000004,
          63.03654,
          35.14968,
          30.996879999999997,
          56.95468,
          30.06677,
          30.767529999999997,
          39.95227,
          37.87869,
          41.05182,
          32.67828,
          47.61002,
          38.43773,
          40.790859999999995,
          34.053490000000004,
          40.71455,
          35.830729999999996,
          38.62774,
          34.14632,
          40.23447,
          51.50632,
          33.538579999999996,
          33.52029,
          29.76045,
          40.71455,
          -0.02435,
          40.143229999999996,
          39.37413,
          55.8578,
          39.55792,
          34.053490000000004,
          37.80506,
          33.74831,
          30.22032,
          18.03965,
          30.533009999999997,
          37.77916,
          29.95369,
          43.648559999999996,
          34.053490000000004,
          54.898140000000005,
          43.87165,
          40.7038,
          51.50632,
          34.560390000000005,
          -10.68641,
          31.03896,
          37.77916,
          32.51461,
          37.20897,
          33.86404,
          41.517759999999996,
          54.314069999999994,
          50.91552,
          40.8079,
          31.1689,
          37.97615,
          44.97903,
          26.30116,
          34.053490000000004,
          36.16778,
          41.88415,
          31.307570000000002,
          51.45102,
          40.190329999999996,
          54.979380000000006,
          38.8235,
          30.686390000000003,
          31.1689,
          51.50632,
          30.33138,
          51.27156,
          31.1689,
          64.95014,
          50.933640000000004,
          45.438109999999995,
          40.85715,
          34.200340000000004,
          -10.68641,
          34.053490000000004,
          41.88415,
          40.7038,
          40.71455,
          39.2794,
          30.083740000000002,
          34.053490000000004,
          40.71455,
          29.59733,
          51.50632,
          38.00335,
          38.8991,
          41.88415,
          32.67828,
          29.952440000000003,
          34.02791,
          35.830729999999996,
          52.883559999999996,
          37.77916,
          21.511020000000002,
          35.21962,
          32.61518,
          30.33138,
          38.25486,
          42.33168,
          40.7174,
          23.0833,
          37.16793,
          51.50632,
          33.74831,
          33.74831,
          37.271879999999996,
          33.92192,
          51.11655,
          45.51228,
          34.276109999999996,
          34.27798,
          40.76596,
          54.313919999999996,
          33.56173,
          35.6731,
          39.37413,
          40.72023,
          34.23294,
          25.89958,
          34.053490000000004,
          39.55792,
          52.883559999999996,
          40.65507,
          50.933640000000004,
          -9.181339999999999,
          52.883559999999996,
          32.20049,
          7.378839999999999,
          34.053490000000004,
          41.88415,
          46.71067,
          59.33217,
          34.053490000000004,
          36.832640000000005,
          41.90311,
          18.03965,
          30.686390000000003,
          30.420840000000002,
          44.00118,
          45.438109999999995,
          51.59109,
          27.530920000000002,
          29.424490000000002,
          35.85683,
          40.71455,
          45.51228,
          33.52029,
          37.271879999999996,
          41.58979,
          47.603559999999995,
          44.115590000000005,
          52.0953,
          30.16602,
          37.77916,
          42.98689,
          35.830729999999996,
          50.44801,
          40.792629999999996,
          55.8578,
          59.46148,
          31.553790000000003,
          52.478590000000004,
          52.478590000000004,
          32.58507,
          41.58979,
          -37.81753,
          23.0833,
          31.1689,
          35.6139,
          37.16793,
          30.2676,
          32.22155,
          51.50632,
          34.07292,
          36.068000000000005,
          34.053490000000004,
          49.34463,
          46.91008,
          46.51959,
          37.8695,
          31.553790000000003,
          44.23153,
          49.80388,
          41.94508,
          39.95227,
          -29.21545,
          40.71455,
          17.57975,
          42.33168,
          42.31256,
          43.648559999999996,
          34.31109,
          37.271879999999996,
          34.60515,
          41.88415,
          40.71455,
          34.56398,
          31.846659999999996,
          37.16793,
          38.8991,
          42.548429999999996,
          47.603559999999995,
          37.80506,
          33.35303,
          41.70671,
          41.82387,
          54.898140000000005,
          34.053490000000004,
          34.560390000000005,
          34.053490000000004,
          51.50632,
          40.10216,
          37.87869,
          53.343759999999996,
          34.05464,
          42.25147,
          56.87546,
          42.328070000000004,
          45.7594,
          19.45565,
          32.58507,
          51.50632,
          41.88415,
          37.77916,
          41.0981,
          27.9758,
          35.2225,
          51.50632,
          38.913909999999994,
          37.16793,
          39.6425,
          33.90698,
          35.67484,
          -33.96243,
          34.053490000000004,
          38.8962,
          30.22032,
          37.77916,
          43.58015,
          30.2676,
          34.053490000000004,
          31.1689,
          40.8079,
          27.9758,
          39.739259999999994,
          48.20254,
          41.88415,
          52.478590000000004,
          52.40698,
          34.31109,
          40.731970000000004,
          53.553340000000006,
          29.76045,
          55.8578,
          37.82245,
          40.143229999999996,
          40.85715,
          40.71455,
          51.898340000000005,
          45.7594,
          33.74831,
          34.053490000000004,
          52.478590000000004,
          43.71371,
          56.65286,
          33.90698,
          56.95468,
          18.11526,
          59.85845,
          47.61002,
          18.015710000000002,
          41.94508,
          54.313919999999996,
          34.302459999999996,
          39.37413,
          36.16778,
          33.74831,
          41.88415,
          38.99792,
          53.4796,
          30.533009999999997,
          41.517759999999996,
          33.71197,
          38.8991,
          -4.03479,
          43.58915,
          37.77916,
          47.25513,
          40.71455,
          54.498569999999994,
          46.87591,
          51.50632,
          40.71455,
          38.00335,
          18.22328,
          39.95227,
          34.473259999999996,
          30.083740000000002,
          46.97933,
          41.517759999999996,
          53.93063000000001,
          35.830729999999996,
          18.015710000000002,
          37.77916,
          33.86404,
          51.31476,
          39.10644,
          33.56173,
          34.053490000000004,
          40.71455,
          31.307570000000002,
          43.0026,
          29.76045,
          21.511020000000002,
          -37.81753,
          21.7866,
          36.15398,
          51.50632,
          32.34922,
          31.1689,
          36.06899,
          30.22403,
          40.71455,
          34.053490000000004,
          35.830729999999996,
          39.95227,
          -6.1714400000000005,
          62.19845,
          46.91008,
          30.9742,
          33.46797,
          38.66059,
          37.77916,
          -37.0907,
          54.979380000000006,
          49.26044,
          38.913909999999994,
          48.20254,
          46.71067,
          34.0737,
          34.96578,
          41.307109999999994,
          46.87591,
          33.74831,
          29.95369,
          40.71455,
          42.548429999999996,
          39.739259999999994,
          32.462920000000004,
          40.71455,
          34.82353,
          43.648559999999996,
          52.883559999999996,
          39.95227,
          18.11526,
          40.71455,
          40.71455,
          42.33168,
          54.498569999999994,
          53.45644,
          42.31256,
          50.933640000000004,
          36.202009999999994,
          27.9758,
          40.71455,
          38.99792,
          39.95227,
          55.8578,
          51.50632,
          40.99471,
          51.16418,
          -37.81753,
          40.71455,
          35.78032,
          42.33168,
          51.4855,
          37.271879999999996,
          45.75342,
          48.85692,
          37.77916,
          39.2794,
          34.053490000000004,
          59.379909999999995,
          29.59733,
          33.74831,
          30.533009999999997,
          -14.242920000000002,
          33.35303,
          35.96049,
          47.25513,
          38.62774,
          49.38426,
          39.95227,
          43.7427,
          40.731970000000004,
          40.71455,
          52.883559999999996,
          -24.9162,
          37.4876,
          30.38815,
          43.32618,
          35.830729999999996,
          39.10295,
          54.5958,
          56.85146999999999,
          39.52517,
          42.33168,
          45.499190000000006,
          35.830729999999996,
          35.00459,
          52.50524,
          52.883559999999996,
          40.71455,
          40.71455,
          39.75911,
          21.34765,
          51.27172,
          58.592319999999994,
          40.792629999999996,
          35.82213,
          51.11655,
          40.71455,
          42.33168,
          42.7316,
          27.9758,
          27.9758,
          35.33826,
          53.343759999999996,
          59.46148,
          51.50632,
          40.792629999999996,
          36.832640000000005,
          33.45081,
          41.94508,
          37.16793,
          -34.60852,
          31.1689,
          34.26624,
          50.44801,
          49.38426,
          19.4319,
          -23.56287,
          32.96197,
          36.06899,
          51.50632,
          34.74865,
          33.01158,
          37.77916,
          37.77916,
          33.202709999999996,
          55.706219999999995,
          37.87869,
          51.50632,
          30.33138,
          37.271879999999996,
          40.71455,
          37.20897,
          36.30486,
          62.19845,
          42.73383,
          -29.21545,
          38.68193,
          64.95014,
          48.10751,
          40.65507,
          50.3758,
          35.78032,
          43.58828,
          35.830729999999996,
          40.65507,
          37.77916,
          47.603559999999995,
          -22.97673,
          18.015710000000002,
          55.706219999999995,
          34.053490000000004,
          14.56298,
          53.93063000000001,
          32.77815,
          13.111989999999999,
          31.1689,
          52.94922,
          40.71455,
          39.14465,
          40.71455,
          -24.9162,
          41.38572,
          39.74001,
          35.21962,
          -34.60852,
          36.16778,
          32.77815,
          34.96578,
          37.77916,
          46.97933,
          40.71455,
          30.19145,
          38.8962,
          32.58507,
          32.33112,
          39.74001,
          -34.60852,
          51.50632,
          40.731970000000004,
          51.50632,
          39.14465,
          30.235129999999998,
          33.74831,
          57.153819999999996,
          38.2589,
          33.71197,
          41.88415,
          48.883140000000004,
          42.393359999999994,
          34.18806,
          43.648559999999996,
          40.71455,
          19.4319,
          40.71455,
          42.78668,
          34.053490000000004,
          37.77916,
          39.49974,
          53.93063000000001,
          40.790859999999995,
          40.71455,
          51.45366,
          18.11526,
          30.235129999999998,
          42.33168,
          37.87869,
          64.55653000000001,
          33.517109999999995,
          41.68676,
          37.271879999999996,
          33.35303,
          42.33168,
          39.95227,
          40.8448,
          39.95227,
          30.16602,
          -34.60852,
          34.31109,
          54.314069999999994,
          33.74831,
          51.27562,
          34.031420000000004,
          29.78772,
          39.49974,
          40.7038,
          37.271879999999996,
          56.42465,
          47.565,
          55.67631,
          34.74865,
          33.89275,
          -24.9162,
          51.50632,
          40.65507,
          28.33268,
          27.9758,
          32.58507,
          29.59733,
          18.03965,
          40.65507,
          62.19845,
          37.80506,
          39.95227,
          34.053490000000004,
          49.26044,
          32.77942,
          41.88415,
          40.71455,
          42.31256,
          44.00118,
          25.72898,
          34.053490000000004,
          32.96197,
          54.979380000000006,
          33.517109999999995,
          14.56298,
          46.51959,
          31.580759999999998,
          43.87165,
          16.85576,
          37.20897,
          29.76045,
          40.65507,
          40.99471,
          30.33138,
          52.883559999999996,
          39.74001,
          39.49974,
          51.31476,
          52.94922,
          37.77916,
          -35.306540000000005,
          28.33268,
          -23.56287,
          37.271879999999996,
          40.71455,
          36.068000000000005,
          34.053490000000004,
          35.721709999999995,
          29.952440000000003,
          34.19451,
          42.31256,
          43.04181,
          34.053490000000004,
          40.71455,
          33.99604,
          40.7038,
          40.71455,
          38.62666,
          -36.35484,
          34.60515,
          33.46797,
          35.14968,
          32.34922,
          34.053490000000004,
          51.05563,
          40.438309999999994,
          40.76099,
          37.8695,
          62.19845,
          54.979380000000006,
          53.343759999999996,
          31.307570000000002,
          34.16788,
          62.19845,
          30.22032,
          40.71455,
          51.48126,
          -10.68641,
          38.62774,
          40.792629999999996,
          40.71455,
          38.62774,
          38.99792,
          60.3907,
          40.71455,
          34.41925,
          55.706219999999995,
          51.50632,
          -34.60852,
          30.686390000000003,
          18.015710000000002,
          27.10442,
          34.053490000000004,
          32.96197,
          33.71197,
          34.053490000000004,
          33.538579999999996,
          37.77916,
          53.343759999999996,
          36.16778,
          36.202009999999994,
          40.8079,
          53.93063000000001,
          37.271879999999996,
          40.717929999999996,
          36.38418,
          -34.60852,
          43.01437,
          40.71455,
          34.045970000000004,
          37.16793,
          59.91228,
          40.717929999999996,
          23.62574,
          -4.03479,
          35.30914,
          51.50632,
          44.97903,
          57.153819999999996,
          40.190329999999996,
          -28.49522,
          34.053490000000004,
          47.603559999999995,
          62.24049,
          40.71455,
          30.38815,
          34.41925,
          34.053490000000004,
          40.71455,
          40.99471,
          52.855509999999995,
          40.65507,
          30.33138,
          49.26044,
          37.77916,
          42.31256,
          31.1689,
          33.89627,
          37.16793,
          32.61436,
          34.053490000000004,
          30.08615,
          54.5958,
          55.706219999999995,
          52.51606999999999,
          46.44231,
          55.706219999999995,
          50.44801,
          34.7519,
          38.8991,
          46.71067,
          45.75342,
          43.19899,
          53.383109999999995,
          37.16793,
          35.14968,
          40.71455,
          59.91228,
          40.71455,
          35.830729999999996,
          51.50632,
          34.30138,
          41.41013,
          -24.9162,
          7.378839999999999,
          31.1689,
          39.6425,
          32.77815,
          49.26044,
          38.8235,
          39.09551,
          -24.9162,
          40.4203,
          41.58979,
          34.053490000000004,
          62.19845,
          35.74595,
          49.26044,
          43.00029,
          36.16778,
          36.06899,
          33.46725,
          34.053490000000004,
          36.16778,
          4.65637,
          39.95227,
          32.77942,
          51.596779999999995,
          34.053490000000004,
          34.053490000000004,
          40.76099,
          33.74907,
          40.4203,
          21.511020000000002,
          18.11526,
          46.97933,
          42.84751,
          42.98689,
          37.77916,
          33.74831,
          40.10216,
          37.20897,
          53.79449,
          52.478590000000004,
          51.77045,
          40.71455,
          39.95227,
          40.86034,
          34.7519,
          53.553340000000006,
          52.23535,
          39.75911,
          36.71832,
          40.71455,
          41.51526,
          60.3907,
          53.343759999999996,
          32.33112,
          37.16793,
          53.41961,
          30.16602,
          25.7167,
          51.50632,
          43.07295,
          41.76332,
          31.307570000000002,
          51.16418,
          51.05563,
          34.053490000000004,
          32.77942,
          38.62774,
          54.313919999999996,
          42.88544,
          35.67048,
          42.33168,
          6.47279,
          46.71067,
          32.58507,
          34.053490000000004,
          32.51461,
          53.41961,
          33.95319,
          43.04181,
          40.71455,
          39.739259999999994,
          40.65507,
          40.71455,
          30.083740000000002,
          -6.1714400000000005,
          51.27562,
          34.60515,
          52.883559999999996,
          18.015710000000002,
          32.67828,
          39.150929999999995,
          41.88415,
          29.59733,
          40.71455,
          37.76509,
          53.45644,
          40.143229999999996,
          37.82245,
          38.68193,
          43.648559999999996,
          40.71455,
          18.11526,
          48.85692,
          32.51461,
          35.830729999999996,
          33.71197,
          40.587509999999995,
          40.71455,
          48.390229999999995,
          18.11526,
          40.8079,
          38.41982,
          51.50632,
          35.14968,
          52.94922,
          39.37413,
          43.0026,
          45.4215,
          34.053490000000004,
          40.71455,
          44.646159999999995,
          41.260690000000004,
          42.84751,
          54.979380000000006,
          59.759519999999995,
          40.71455,
          34.053490000000004,
          41.00461,
          40.143229999999996,
          32.20049,
          25.72898,
          34.053490000000004,
          38.62774,
          30.79062,
          34.82353,
          42.33168,
          42.73383,
          32.74863,
          45.438109999999995,
          52.883559999999996,
          51.735690000000005,
          59.27074,
          41.68676,
          39.10295,
          46.91008,
          34.053490000000004,
          33.45081,
          54.977909999999994,
          42.33168,
          32.74863,
          33.01158,
          59.91228,
          41.307109999999994,
          34.053490000000004,
          33.46725,
          25.72898,
          27.530920000000002,
          37.20897,
          44.81187,
          51.50632,
          30.79062,
          40.7038,
          41.0981,
          40.71455,
          40.71455,
          40.852509999999995,
          30.22032,
          40.71455,
          30.43883,
          59.91228,
          32.67828,
          -34.60852,
          52.51606999999999,
          36.16778,
          27.9758,
          35.99527,
          40.71455,
          42.73383,
          -23.6361,
          39.95227,
          43.21183,
          37.77916,
          29.187520000000003,
          33.46725,
          33.74831,
          38.8991,
          7.378839999999999,
          54.313919999999996,
          50.84838,
          38.2589,
          18.11526,
          60.99655,
          52.883559999999996,
          34.16788,
          34.053490000000004,
          38.62774,
          34.053490000000004,
          40.71455,
          34.276109999999996,
          51.50632,
          34.23294,
          18.11526,
          54.313919999999996,
          23.0833,
          31.1689,
          39.26271,
          36.16778,
          18.04552,
          -24.9162,
          54.898140000000005,
          32.77815,
          30.08615,
          34.053490000000004,
          33.59233,
          51.898340000000005,
          57.153819999999996,
          44.97903,
          51.4855,
          40.7174,
          43.648559999999996,
          42.2306,
          30.2676,
          40.696259999999995,
          36.16778,
          48.85692,
          42.33168,
          32.20049,
          40.71455,
          31.1689,
          44.97903,
          53.343759999999996,
          48.85692,
          33.626459999999994,
          40.71455,
          56.95468,
          53.4796,
          38.8991,
          18.22328,
          40.71455,
          -37.81753,
          30.235129999999998,
          -4.03479,
          42.328070000000004,
          51.50632,
          38.8991,
          36.0632,
          -14.242920000000002,
          51.52328,
          47.565,
          46.44231,
          52.478590000000004,
          34.053490000000004,
          35.2225,
          34.053490000000004,
          48.43434,
          51.7562,
          34.053490000000004,
          27.940170000000002,
          34.053490000000004,
          34.26624,
          34.09834,
          35.830729999999996,
          35.68094,
          35.48703,
          40.190329999999996,
          40.8079,
          41.517759999999996,
          41.41013,
          37.77916,
          38.8991,
          -34.60852,
          35.82213,
          18.22328,
          18.11526,
          52.51606999999999,
          42.33168,
          7.335319999999999,
          51.52328,
          13.111989999999999,
          31.1689,
          48.20254,
          35.00459,
          34.36401,
          42.31256,
          33.674659999999996,
          -36.35484,
          40.72023,
          42.88544,
          42.31256,
          40.99471,
          53.79449,
          53.07516,
          40.71455,
          40.65507,
          38.8991,
          39.76618,
          34.560390000000005,
          32.67828,
          47.603559999999995,
          36.49905,
          46.23518,
          31.1689,
          53.41961,
          -34.60852,
          27.530920000000002,
          30.083740000000002,
          40.731970000000004,
          35.52069,
          52.478590000000004,
          31.553790000000003,
          40.71455,
          41.88415,
          43.58828,
          40.71455,
          -24.9162,
          40.69214,
          49.34463,
          36.690940000000005,
          -23.56287,
          41.41013,
          32.29869,
          -37.81753,
          -34.60852,
          30.9742,
          -37.81753,
          43.648559999999996,
          51.50632,
          51.50632,
          37.271879999999996,
          51.50632,
          31.1689,
          43.57607,
          36.16778,
          40.65507,
          40.71455,
          36.16778,
          33.993629999999996,
          40.71455,
          38.03213,
          35.48703,
          41.88415,
          42.25147,
          32.58507,
          27.9758,
          51.16418,
          51.55615,
          51.50632,
          32.77815,
          33.46725,
          36.16778,
          30.083740000000002,
          33.52029,
          19.45565,
          38.8235,
          21.511020000000002,
          18.11526,
          52.40698,
          43.58828,
          43.29368,
          52.478590000000004,
          42.548429999999996,
          41.88415,
          34.053490000000004,
          31.759159999999998,
          53.45644,
          40.71455,
          26.27249,
          53.79449,
          36.16778,
          33.542429999999996,
          40.71455,
          18.46617,
          43.648559999999996,
          32.67828,
          55.67631,
          -24.9162,
          54.314069999999994,
          40.792629999999996,
          50.933640000000004,
          39.95227,
          49.89942,
          19.4319,
          53.343759999999996,
          38.99792,
          53.343759999999996,
          40.71455,
          40.587509999999995,
          40.731970000000004,
          52.883559999999996,
          39.95227,
          33.993629999999996,
          62.19845,
          34.60515,
          54.977909999999994,
          49.38426,
          -37.81753,
          34.053490000000004,
          29.95369,
          53.41961,
          39.95227,
          37.77916,
          40.67856,
          4.65637,
          42.31256,
          31.307570000000002,
          41.88415,
          41.88415,
          35.830729999999996,
          51.16418,
          40.71455,
          35.830729999999996,
          40.71455,
          -33.919059999999995,
          30.33138,
          32.74863,
          40.7174,
          30.33138,
          45.494409999999995,
          14.635539999999999,
          51.50632,
          40.143229999999996,
          36.0632,
          37.16793,
          18.11526,
          44.00118,
          40.99471,
          39.49974,
          40.71455,
          32.77815,
          46.8132,
          62.19845,
          35.03731,
          54.5958,
          40.71455,
          41.58979,
          -36.35484,
          52.883559999999996,
          32.67828,
          31.1689,
          37.77916,
          30.2676,
          34.16612,
          53.343759999999996,
          29.424490000000002,
          31.30627,
          35.830729999999996,
          6.47279,
          10.73445,
          34.053490000000004,
          56.65286,
          51.50632,
          34.14632,
          43.57607,
          31.1689,
          32.67828,
          53.89128,
          40.71455,
          23.1168,
          46.71067,
          33.74831,
          38.8235,
          27.940170000000002,
          46.71067,
          34.053490000000004,
          30.996879999999997,
          34.053490000000004,
          32.61436,
          40.994709,
          40.65507,
          42.328070000000004,
          42.33168,
          50.933640000000004,
          37.97615,
          36.16778,
          17.57975,
          50.50101,
          48.85692,
          41.88415,
          42.548429999999996,
          38.8991,
          37.271879999999996,
          30.19145,
          51.50632,
          37.77916,
          35.046440000000004,
          35.830729999999996,
          51.4855,
          52.51606999999999,
          51.50632,
          40.10216,
          40.71455,
          46.71067,
          52.94922,
          38.2589,
          29.424490000000002,
          18.11526,
          49.01037,
          40.790859999999995,
          41.05182,
          38.62774,
          40.65507,
          41.88415,
          37.77916,
          30.2676,
          31.901429999999998,
          42.33168,
          38.62774,
          53.79449,
          33.74831,
          35.830729999999996,
          31.1689,
          42.73383,
          47.25513,
          51.50632,
          34.7519,
          40.731970000000004,
          40.71455,
          51.16418,
          53.409769999999995,
          -34.60852,
          33.71197,
          43.04181,
          37.77916,
          37.8695,
          38.8991,
          6.47279,
          33.626459999999994,
          52.478590000000004,
          40.71455,
          23.1168,
          35.21962,
          53.41961,
          31.1689,
          63.03654,
          41.307109999999994,
          18.015710000000002,
          41.88415,
          35.82213,
          37.77916,
          46.71067,
          40.71455,
          43.00029,
          38.25486,
          42.28107,
          18.015710000000002,
          37.44466,
          52.883559999999996,
          37.271879999999996,
          51.50632,
          32.67828,
          46.97933,
          37.16793,
          48.884370000000004,
          34.26624,
          41.41013,
          30.235129999999998,
          39.95227,
          40.71455,
          44.115590000000005,
          29.95369,
          51.4855,
          37.77916,
          40.731970000000004,
          39.739259999999994,
          40.85715,
          32.58507,
          48.85692,
          34.16788,
          51.16418,
          30.9742,
          40.99471,
          37.77916,
          34.053490000000004,
          56.153,
          38.913909999999994,
          -37.90019,
          34.234970000000004,
          35.2225,
          56.65286,
          26.30116,
          43.57607,
          42.33168,
          29.76045,
          69.65101999999999,
          37.16793,
          34.74865,
          28.33268,
          51.50632,
          33.6671,
          23.1168,
          46.44231,
          40.75851,
          -34.60852,
          40.8079,
          37.82245,
          51.50632,
          39.739259999999994,
          33.74831,
          -22.96566,
          39.75911,
          -4.03479,
          38.41982,
          53.26265,
          34.053490000000004,
          40.71455,
          39.49974,
          46.71067,
          36.16778,
          34.053490000000004,
          42.33168,
          16.85576,
          29.95369,
          43.87165,
          37.271879999999996,
          26.30116,
          32.58507,
          40.71455,
          33.35303,
          33.6671,
          44.00118,
          -25.7458,
          49.26044,
          34.053490000000004,
          37.97615,
          36.0632,
          60.3907,
          35.74595,
          34.053490000000004,
          30.79062,
          32.34973,
          40.69214,
          35.67048,
          30.08615,
          40.792629999999996,
          37.77916,
          32.67828,
          19.59009,
          42.31256,
          35.830729999999996,
          34.053490000000004,
          34.053490000000004,
          44.80171,
          52.40698,
          19.45565,
          31.1689,
          32.58507,
          -6.1714400000000005,
          42.18419,
          32.67828,
          51.50632,
          29.76045,
          33.74831,
          48.10751,
          34.053490000000004,
          40.71455,
          -24.9162,
          40.71455,
          30.2676,
          37.20897,
          59.13349,
          40.85715,
          37.77916,
          31.1689,
          34.053490000000004,
          50.67109,
          41.88415,
          51.50632,
          30.2676,
          52.883559999999996,
          52.478590000000004,
          35.830729999999996,
          33.6671,
          23.1168,
          53.07516,
          37.77916,
          34.16788,
          40.99471,
          52.05777,
          39.37413,
          53.79449,
          35.14968,
          37.82245,
          26.30116,
          34.053490000000004,
          46.8132,
          32.462920000000004,
          24.554389999999998,
          48.20254,
          30.420840000000002,
          -34.60852,
          34.053490000000004,
          49.38426,
          40.71455,
          30.33138,
          30.4951,
          51.77045,
          47.25513,
          34.053490000000004,
          48.85692,
          36.97402,
          43.07295,
          45.60718,
          43.57607,
          41.58979,
          40.71455,
          34.16788,
          32.74863,
          34.053490000000004,
          51.50632,
          23.1168,
          40.71455,
          31.307570000000002,
          39.95227,
          44.16104,
          -14.242920000000002,
          42.33168,
          40.731970000000004,
          33.74831,
          52.478590000000004,
          34.053490000000004,
          37.77916,
          40.71455,
          37.76509,
          37.77916,
          53.553340000000006,
          39.10644,
          53.41961,
          40.8079,
          42.31256,
          64.55653000000001,
          36.16778,
          40.71455,
          -22.97673,
          37.271879999999996,
          35.52069,
          34.19767,
          37.4876,
          42.31256,
          40.190329999999996,
          32.61436,
          36.06899,
          38.62774,
          40.143229999999996,
          52.478590000000004,
          40.99471,
          18.11526,
          40.71455,
          38.99792,
          46.71067,
          48.85692,
          35.472,
          40.792629999999996,
          40.71455,
          40.826240000000006,
          36.0632,
          42.548429999999996,
          51.50632,
          31.1689,
          46.8132,
          34.16788,
          39.74023,
          48.85692,
          56.65286,
          18.46617,
          30.2676,
          41.88415,
          52.883559999999996,
          50.82607,
          -33.96243,
          35.6139,
          31.1689,
          35.830729999999996,
          51.50632,
          51.48126,
          42.33168,
          54.314069999999994,
          40.71455,
          23.0833,
          54.314069999999994,
          38.8235,
          36.16778,
          40.71455,
          46.97933,
          40.71455,
          39.10295,
          41.88415,
          51.16418,
          51.50632,
          64.55653000000001,
          42.7316,
          48.85692,
          34.053490000000004,
          32.58507,
          34.053490000000004,
          51.31476,
          41.52493,
          33.45081,
          34.053490000000004,
          40.852509999999995,
          37.28848,
          54.6904,
          36.06899,
          31.901429999999998,
          38.62774,
          27.940170000000002,
          41.260690000000004,
          -10.68641,
          37.59791,
          46.53338,
          35.99527,
          18.11526,
          32.29869,
          42.3519,
          35.830729999999996,
          32.67828,
          7.378839999999999,
          34.053490000000004,
          33.53584,
          35.14968,
          38.62774,
          27.9758,
          38.99792,
          31.19224,
          39.75911,
          32.71568,
          35.830729999999996,
          37.82245,
          31.30627,
          39.55792,
          -33.96243
         ],
         "legendgroup": "",
         "lon": [
          -90.04892,
          -80.01955,
          -79.38533000000001,
          -95.84501999999999,
          -94.02978,
          -77.029,
          15.474910000000001,
          -74.47995,
          -94.35868,
          -83.22295,
          -73.94511999999999,
          -74.17418,
          -87.63241,
          -82.32547,
          -73.83168,
          -94.10158,
          -98.49462,
          -118.24531999999999,
          -83.04791999999999,
          -0.12714,
          -79.05660999999999,
          -89.51876999999999,
          -96.7954,
          13.37698,
          -46.65466,
          -118.24531999999999,
          -0.12714,
          -3.53444,
          -122.42005,
          144.96715,
          -86.77835999999999,
          133.39311,
          -77.27348,
          -81.69074,
          -74.00712,
          12.66538,
          1.71819,
          -93.50243,
          -88.91599000000001,
          -82.45926999999999,
          -86.8115,
          -2.2488099999999998,
          -74.00712,
          10.20452,
          -91.65700000000001,
          -86.77835999999999,
          -122.42005,
          -76.79731,
          -91.03786,
          -122.42005,
          -77.60454,
          -74.00712,
          -85.01235,
          -87.63241,
          -77.029,
          -91.56123000000001,
          -71.08868000000001,
          -84.59334,
          -74.00712,
          -85.59012,
          -97.74298,
          -2.23218,
          -123.2079,
          5.32986,
          -98.52102,
          -80.46935,
          4.87137,
          -122.42005,
          -83.04791999999999,
          -122.32943999999999,
          -6.134869999999999,
          -102.4102,
          -93.29156,
          -95.82333,
          -118.49229,
          -1.97406,
          -122.71242,
          -74.72671,
          -95.84501999999999,
          -74.00712,
          -81.69074,
          -72.92483,
          -0.12714,
          -96.0878,
          -84.39111,
          -120.51483999999999,
          -0.12714,
          -5.93494,
          8.938889999999999,
          -74.00712,
          -74.00712,
          -90.10785,
          -2.10633,
          -89.38669,
          -46.65466,
          -100.07715,
          -86.77835999999999,
          -89.60585999999999,
          0.17898,
          -118.24531999999999,
          -90.645,
          17.55142,
          -118.24531999999999,
          -81.6558,
          -79.38533000000001,
          -0.12714,
          -90.53726999999999,
          -76.79731,
          -94.02978,
          -74.72671,
          -74.72671,
          0.48883000000000004,
          -87.90684,
          -3.9966699999999995,
          -95.15261,
          -118.24531999999999,
          -1.2078799999999998,
          -121.94486,
          -75.16237,
          -74.12374,
          -74.72671,
          -91.85307,
          -99.13285,
          -2.9676099999999996,
          6.1427,
          -1.9086,
          -118.24531999999999,
          -96.92803,
          -81.37739,
          -74.00712,
          -122.42005,
          -77.60454,
          -111.54732,
          -0.12714,
          -122.42005,
          -86.77835999999999,
          9.51695,
          15.9676,
          -80.11278,
          -97.32925,
          -73.96644,
          -87.63241,
          -41.9952,
          -73.88136999999999,
          -98.38983,
          -118.24531999999999,
          -117.75801000000001,
          -82.32547,
          -90.04892,
          -77.60454,
          -74.00712,
          -84.36354,
          7.01815,
          -118.24531999999999,
          -122.42005,
          -111.9307,
          -79.38533000000001,
          2.26934,
          -77.80679,
          -74.00712,
          -85.7664,
          -96.83464000000001,
          -73.94888,
          -0.12714,
          7.01815,
          -3.18067,
          -79.38533000000001,
          -118.24531999999999,
          -118.24531999999999,
          -77.27348,
          7.01815,
          1.71819,
          -118.24531999999999,
          -117.75801000000001,
          17.55142,
          -117.76505,
          -90.14988000000001,
          -81.54106,
          -88.59583,
          -88.95535,
          14.39059,
          -0.12714,
          5.33275,
          -74.00712,
          -103.2833,
          -90.64208,
          -72.92496,
          -97.52033,
          -80.01955,
          -86.77835999999999,
          -100.07715,
          -1.97406,
          -118.24531999999999,
          -8.24055,
          -89.77895,
          -74.00712,
          -81.6558,
          -73.19906999999999,
          -40.77105,
          -98.49462,
          26.06739,
          -83.22295,
          -91.52382,
          -0.12714,
          -100.07715,
          -80.01955,
          -111.9307,
          -118.24802,
          -90.35591,
          0.64255,
          -73.94888,
          -1.97406,
          -74.00712,
          -90.10785,
          -87.63241,
          -85.97874,
          -99.13285,
          144.96715,
          -73.85678,
          -74.72671,
          -76.27503,
          -66.42889,
          -71.08868000000001,
          26.83776,
          13.1876,
          -83.13701999999999,
          -118.24531999999999,
          -73.85678,
          -84.62167,
          -92.13055,
          -90.59239000000001,
          -83.22295,
          -123.2079,
          -96.78175999999999,
          -90.04892,
          -0.12714,
          -0.39535,
          18.421960000000002,
          12.66538,
          -1.14392,
          -73.55439,
          -93.14939,
          -46.65466,
          -118.24531999999999,
          -96.7954,
          13.37698,
          13.49942,
          -118.50119,
          -71.56889,
          -0.12714,
          -75.16237,
          -73.80816999999999,
          -84.98763000000001,
          -75.16237,
          -73.54223,
          -2.23001,
          4.87137,
          -92.26831,
          -83.04791999999999,
          28.391309999999997,
          -74.72671,
          -91.52382,
          -118.24531999999999,
          -155.43413999999999,
          -71.08868000000001,
          -2.23218,
          -87.90684,
          3.06281,
          -58.373540000000006,
          -119.27023,
          -122.39293,
          -2.2488099999999998,
          16.3688,
          -79.77127,
          -118.24531999999999,
          -100.07715,
          -96.63166,
          -122.42005,
          -1.61237,
          -94.365,
          -87.21724,
          -83.22295,
          -83.00298000000001,
          -82.14039,
          -0.12714,
          -91.25019,
          -97.49553,
          -5.93494,
          4.37967,
          -90.07771,
          -1.14392,
          -71.6342,
          13.37698,
          -88.35068000000001,
          -0.12714,
          -83.74416,
          -120.95071000000002,
          -43.19508,
          -63.58481,
          -90.60536,
          -110.94695,
          -118.24531999999999,
          21.75627,
          7.01815,
          -1.14392,
          -0.12714,
          -3.18067,
          -88.70307,
          -97.32925,
          -74.17418,
          2.38596,
          -90.04892,
          -0.12714,
          -76.79731,
          -81.54106,
          -122.62568999999999,
          -93.92938000000001,
          -97.52033,
          -83.22295,
          -80.01955,
          -122.27301999999999,
          -100.07715,
          -97.49553,
          -73.94888,
          -87.63241,
          -95.84501999999999,
          -118.24531999999999,
          -73.94888,
          3.8952699999999996,
          -74.00712,
          -76.79731,
          -76.79731,
          -77.80679,
          -75.16237,
          -96.7954,
          -0.25969000000000003,
          -122.42005,
          -90.04892,
          -87.63241,
          -96.56183,
          23.73641,
          8.22395,
          -84.19444,
          -73.94888,
          -100.07715,
          -94.68121,
          -97.52033,
          -118.24531999999999,
          -77.71758,
          -117.24681000000001,
          -74.17418,
          -0.12714,
          -93.26493,
          9.51695,
          -90.645,
          7.28021,
          -90.645,
          -79.38533000000001,
          -122.39293,
          4.47684,
          108.83178000000001,
          -80.9474,
          -121.74476999999999,
          18.06243,
          -2.10679,
          -85.38173,
          -90.10785,
          -59.59895,
          -111.9307,
          -0.12714,
          -81.37739,
          -87.90684,
          -121.94345,
          -6.24953,
          -58.373540000000006,
          -82.66946999999999,
          -71.28109,
          -83.04791999999999,
          -100.07715,
          -83.04791999999999,
          -118.24531999999999,
          -96.78175999999999,
          -101.69814000000001,
          -84.75627,
          -80.99001,
          -73.9454,
          -77.27348,
          -118.24531999999999,
          -77.27348,
          -41.9952,
          -66.58904,
          -74.00712,
          6.1427,
          -74.00712,
          -80.01955,
          -2.23218,
          -2.10679,
          -99.13285,
          -54.38783000000001,
          -76.79731,
          -122.32943999999999,
          -118.50119,
          -71.08868000000001,
          -92.43659,
          -76.79731,
          -85.59012,
          -76.79731,
          -92.58685,
          -97.49553,
          -118.24531999999999,
          -81.6558,
          -96.92803,
          24.49511,
          -58.373540000000006,
          -112.18628000000001,
          -76.79731,
          -81.54106,
          -0.12714,
          -86.77835999999999,
          -83.80489,
          -90.44116,
          -85.7664,
          -88.91599000000001,
          -92.08238,
          -77.02659,
          -73.94888,
          6.1427,
          -74.17418,
          -8.24055,
          -74.00712,
          -0.12714,
          -122.42005,
          2.40955,
          -84.39111,
          -74.00712,
          -97.74298,
          -2.10679,
          -119.27023,
          -100.07715,
          1.31388,
          -77.3819,
          -74.72671,
          -74.00712,
          -2.10679,
          -77.27348,
          -1.9086,
          -82.7603,
          -97.52033,
          -89.8643,
          -118.24531999999999,
          -37.42475,
          -58.373540000000006,
          -80.07691,
          0.64255,
          -90.91386999999999,
          -2.23001,
          -1.2323,
          -71.08868000000001,
          -122.16078999999999,
          -80.01955,
          -89.87374,
          0.48883000000000004,
          -0.12714,
          17.55142,
          -111.54732,
          -43.19508,
          -98.38983,
          -88.94561,
          9.67464,
          -122.27301999999999,
          -59.59895,
          -118.24531999999999,
          -118.24531999999999,
          -74.00712,
          -74.00712,
          -110.96975,
          -54.38783000000001,
          -86.78916,
          -101.85587,
          -1.0318200000000002,
          -85.30946,
          -83.18186,
          -90.9564,
          -88.35068000000001,
          -84.39111,
          -87.63241,
          -119.27023,
          -8.24055,
          -74.00712,
          -78.89601,
          -88.95535,
          -82.7603,
          -0.12714,
          -107.55405,
          -119.27023,
          135.50323,
          8.22395,
          -82.45926999999999,
          31.255359999999996,
          -83.22295,
          -120.51483999999999,
          1.71819,
          -76.79731,
          -74.00712,
          -96.7954,
          -96.0878,
          4.37967,
          -88.94561,
          -90.645,
          -90.33078,
          -77.029,
          -84.10729,
          -111.9307,
          -2.23001,
          -9.401019999999999,
          -118.24531999999999,
          -118.24531999999999,
          -58.373540000000006,
          -86.77835999999999,
          -74.17418,
          -104.99226000000002,
          -80.14356,
          -84.59431,
          -84.59431,
          -0.12714,
          -1.9086,
          2.34121,
          -74.00712,
          -122.42005,
          -121.88578999999999,
          -89.5647,
          -74.00712,
          -85.7664,
          -75.16237,
          -1.9086,
          -74.00712,
          -74.00712,
          -46.65466,
          -1.09712,
          -117.37388,
          -75.69189,
          -73.94888,
          -87.63241,
          -73.13585,
          -101.04893,
          -84.39111,
          3.72856,
          -79.38533000000001,
          -83.7336,
          139.74092,
          -100.07715,
          -7.844810000000001,
          -1.2078799999999998,
          -0.12714,
          -83.04791999999999,
          -90.07771,
          -83.18186,
          -3.53444,
          1.71819,
          -87.77891,
          -92.43659,
          -90.05202,
          -0.12714,
          -74.00712,
          -118.24531999999999,
          25.48312,
          -79.7947,
          -85.97874,
          -123.11403,
          -90.07771,
          -81.24620999999999,
          -79.7947,
          -95.84501999999999,
          -90.9564,
          -93.26493,
          -83.04791999999999,
          -66.10665,
          -81.6558,
          12.56935,
          4.34968,
          -122.32943999999999,
          -96.56183,
          -80.83754,
          -110.94695,
          -86.68073000000001,
          -84.59431,
          -2.23218,
          -119.27023,
          -84.62167,
          8.80466,
          -122.42005,
          9.99245,
          -4.486219999999999,
          13.37698,
          -89.53175999999999,
          139.83829,
          -95.93995,
          -122.27301999999999,
          -83.04791999999999,
          10.20452,
          -90.19951,
          -74.72671,
          -74.00712,
          -120.51483999999999,
          -89.58828000000001,
          -92.58685,
          -91.52382,
          -85.97874,
          -77.27348,
          7.28021,
          -95.99277,
          -118.24531999999999,
          35.48527,
          -58.373540000000006,
          -94.10158,
          -122.71242,
          -88.20449,
          -122.42005,
          -90.18043,
          -74.00712,
          24.932579999999998,
          -81.69074,
          -97.74298,
          -89.10826999999999,
          -0.12714,
          -86.44105,
          -73.94511999999999,
          -2.63265,
          -0.12714,
          -58.373540000000006,
          1.71819,
          -122.32943999999999,
          -74.00712,
          -82.4167,
          15.06744,
          -83.80489,
          -94.02978,
          -2.10679,
          -80.83754,
          -80.65079,
          2.40955,
          -90.18049,
          -118.24531999999999,
          -0.12714,
          -119.27023,
          -0.12714,
          -84.25274,
          -78.87846,
          -81.54106,
          -83.04791999999999,
          34.88519,
          -79.77127,
          -121.94345,
          -0.12714,
          -0.23396,
          -83.80489,
          -95.3756,
          12.66538,
          -89.58828000000001,
          -83.7336,
          -85.97874,
          -97.74298,
          0.17898,
          -89.38669,
          0.17898,
          -63.573919999999994,
          -74.00712,
          -0.12714,
          -0.12714,
          -74.007118,
          -92.01705,
          -111.54732,
          23.73641,
          12.57347,
          -82.4167,
          2.38596,
          -122.27301999999999,
          -90.07771,
          174.76713999999998,
          -92.43659,
          -71.28109,
          -86.10269,
          -43.19508,
          -82.50293,
          7.6244,
          2.34121,
          -92.26831,
          -71.6342,
          -89.26212,
          -82.45926999999999,
          -119.27023,
          -70.70719,
          -83.04791999999999,
          -122.27301999999999,
          -83.04791999999999,
          -79.38533000000001,
          -1.2078799999999998,
          -76.79731,
          -81.6558,
          -58.373540000000006,
          -87.63241,
          -96.7954,
          -118.24531999999999,
          -0.12714,
          -77.029,
          -92.13055,
          -101.04893,
          -89.87374,
          -89.58776,
          0.64255,
          -76.29771,
          -72.45165,
          -77.80679,
          -115.13996999999999,
          -80.23742,
          -76.6096,
          -92.43659,
          35.48527,
          -74.1148,
          -74.11779,
          -74.00712,
          -78.87846,
          -118.24531999999999,
          -1.53179,
          -117.76505,
          -98.32023000000001,
          -97.14305999999999,
          -90.18049,
          -74.00712,
          -1.97406,
          -118.24531999999999,
          -118.24531999999999,
          -74.72671,
          -90.19951,
          -95.84501999999999,
          -122.32943999999999,
          -122.03095,
          -90.53726999999999,
          -90.44116,
          -118.94151000000001,
          -81.6558,
          -80.11278,
          -95.84501999999999,
          -90.59005,
          -79.7947,
          6.1427,
          -71.08868000000001,
          -75.16237,
          -123.36451000000001,
          -95.99277,
          -76.62184,
          -74.00712,
          -2.2488099999999998,
          -77.60454,
          -98.38983,
          -77.029,
          -76.27503,
          -71.71818,
          -121.74476999999999,
          -74.12374,
          -122.67563,
          24.932579999999998,
          -95.82333,
          -1.97406,
          -98.49462,
          -93.61565999999999,
          -77.029,
          -93.92938000000001,
          -92.43659,
          -71.41199,
          -74.57555,
          -76.79731,
          -100.07715,
          35.48527,
          -95.84501999999999,
          -80.07691,
          -83.04791999999999,
          -84.19444,
          -87.63241,
          -8.24055,
          -74.00712,
          -1.8153099999999998,
          -74.00712,
          6.1427,
          -80.01955,
          -105.55096,
          -111.9307,
          -96.92483,
          -81.37739,
          -118.24531999999999,
          -80.14356,
          -58.373540000000006,
          -73.9454,
          12.56935,
          -89.58828000000001,
          -118.24531999999999,
          -93.26493,
          -119.27023,
          -89.50409,
          -76.47933,
          -77.029,
          1.14378,
          -77.80679,
          -98.1607,
          -58.373540000000006,
          -85.97874,
          -74.17418,
          -105.55096,
          -98.49462,
          -77.80679,
          13.37698,
          -90.18049,
          8.938889999999999,
          -1.50776,
          -82.38859000000001,
          -73.9454,
          17.55142,
          -91.96148000000001,
          -8.24055,
          -80.83754,
          -89.50409,
          -122.42005,
          -118.24531999999999,
          -93.14939,
          -96.63166,
          -75.16237,
          -117.02258,
          -95.84501999999999,
          12.57347,
          3.06281,
          151.20695,
          -79.38533000000001,
          -90.645,
          -83.22295,
          -90.18049,
          -100.07715,
          -98.38983,
          113.9174,
          -100.07715,
          -2.97848,
          -66.6149,
          -118.24531999999999,
          -100.89818000000001,
          -81.54106,
          -71.07352,
          -123.11403,
          -4.13689,
          -9.401019999999999,
          -118.24531999999999,
          -80.99001,
          -89.87374,
          -118.24531999999999,
          -83.80489,
          -0.12714,
          -75.16237,
          -80.83754,
          -76.29771,
          -98.49462,
          -118.24531999999999,
          -81.54106,
          -90.14988000000001,
          -79.38533000000001,
          -86.77835999999999,
          -102.4102,
          -97.14074000000001,
          -1.54508,
          -74.72671,
          -89.00018,
          -73.94511999999999,
          -73.94888,
          -79.87162,
          -96.89774,
          -118.24531999999999,
          -4.24251,
          -80.01955,
          174.76713999999998,
          -97.74298,
          -84.75627,
          -77.27348,
          -97.74298,
          174.76713999999998,
          -0.12714,
          -118.24531999999999,
          -121.94345,
          -90.5651,
          -75.16237,
          -86.77835999999999,
          -54.38783000000001,
          -85.59012,
          -1.08342,
          -94.02978,
          10.23522,
          -71.01724,
          -76.79731,
          -83.04791999999999,
          -6.24953,
          -86.77835999999999,
          -75.16237,
          -1.2323,
          -83.7336,
          -74.00712,
          8.73299,
          -83.04791999999999,
          -71.08868000000001,
          -80.25305999999999,
          -119.27023,
          -90.44116,
          -97.32925,
          -118.24531999999999,
          -74.00712,
          -74.00712,
          -93.6202,
          -78.89601,
          -92.43659,
          -73.94888,
          -4.13689,
          -74.00712,
          -87.67525,
          -96.7954,
          -118.24531999999999,
          -84.98763000000001,
          -74.27362,
          -72.92496,
          -85.97567,
          -119.05505,
          -149.10568,
          -77.80679,
          146.32611,
          -77.27348,
          -81.69074,
          -118.24531999999999,
          -80.01955,
          -95.93995,
          -92.13055,
          -81.54106,
          -81.37739,
          1.71819,
          -94.82807,
          -3.18067,
          -118.24531999999999,
          -104.99226000000002,
          -74.00712,
          -79.4138,
          8.30437,
          -123.2079,
          -89.53175999999999,
          -73.85678,
          10.45415,
          -74.00712,
          -36.74328,
          -75.16237,
          4.47684,
          -118.24531999999999,
          -79.14284,
          22.95775,
          13.49942,
          -8.47277,
          -91.03786,
          -73.85678,
          -73.94888,
          -98.30897,
          18.28471,
          -85.59012,
          -118.24531999999999,
          -0.12714,
          -80.83754,
          17.55142,
          -81.37739,
          -118.24531999999999,
          -0.12714,
          17.55142,
          -75.92381,
          -98.52102,
          -59.59895,
          -74.72671,
          -71.6342,
          -118.24531999999999,
          -73.94888,
          -0.12714,
          12.57347,
          -80.01955,
          -92.11789,
          -122.39293,
          -82.66946999999999,
          -87.63241,
          139.74092,
          -74.17418,
          -101.04893,
          -100.07715,
          4.34968,
          -94.35887,
          -71.28109,
          -98.49462,
          -87.63241,
          -86.68073000000001,
          -0.12714,
          -84.39111,
          -89.00018,
          -2.23218,
          -94.35887,
          -4.24251,
          -74.00712,
          0.47791000000000006,
          -90.49217,
          -118.50119,
          17.55142,
          -73.94511999999999,
          -118.24531999999999,
          -118.24531999999999,
          -1.5465799999999998,
          2.40955,
          17.55142,
          18.06243,
          -122.42005,
          -92.43659,
          9.99245,
          -95.36978,
          -94.58306,
          1.71819,
          -2.9676099999999996,
          -73.94888,
          -93.97961,
          -3.53444,
          -90.10126,
          20.46414,
          -98.49462,
          -74.00712,
          -0.18703,
          -120.51483999999999,
          2.34121,
          -74.00712,
          -120.51483999999999,
          -87.63241,
          -79.38533000000001,
          -91.52382,
          -97.74298,
          -95.84501999999999,
          -89.51876999999999,
          -83.22295,
          -71.08868000000001,
          -73.41853,
          -97.74298,
          -95.93995,
          12.56935,
          -118.24531999999999,
          9.99245,
          11.02307,
          -0.12714,
          -74.17418,
          -97.00189,
          13.37698,
          -74.18893,
          -77.97559,
          -81.69074,
          -97.74298,
          -75.92381,
          -87.63241,
          -74.17418,
          -92.26831,
          -110.94695,
          -99.68095,
          2.38596,
          -87.63241,
          -117.16171999999999,
          -1.97406,
          -118.1924,
          -80.01955,
          -122.27301999999999,
          -87.63241,
          -85.97874,
          -87.21724,
          -86.77835999999999,
          -94.82807,
          -122.42005,
          -5.93494,
          -95.84501999999999,
          -80.01955,
          -118.24531999999999,
          -72.75753,
          9.17192,
          -77.029,
          -8.24055,
          -89.87374,
          -90.10785,
          -92.58685,
          -85.67869,
          18.421960000000002,
          -118.24531999999999,
          -0.12714,
          -94.15791,
          -4.42016,
          -74.00712,
          -79.38533000000001,
          -90.18049,
          -73.9454,
          -76.47933,
          -74.7594,
          -2.2488099999999998,
          1.71819,
          -74.00712,
          -0.99603,
          -74.72671,
          -82.7603,
          -162.4365,
          -97.74298,
          -92.01705,
          -123.2079,
          -84.19444,
          -101.95625,
          -90.19951,
          12.66538,
          -98.30897,
          -79.76906,
          -90.645,
          -68.43114,
          -117.97091999999999,
          -118.24531999999999,
          -99.50200000000001,
          -71.08868000000001,
          21.75627,
          -73.85678,
          23.73641,
          -105.55096,
          -74.00712,
          -0.12714,
          -0.12714,
          -77.029,
          -118.24531999999999,
          -95.82333,
          -80.46935,
          -1.97406,
          -74.00712,
          -85.97567,
          -81.54106,
          -109.67097,
          -97.74298,
          16.3688,
          0.64255,
          -119.27023,
          -1.53179,
          133.39311,
          -149.10568,
          -122.42005,
          -84.19444,
          -3.7906800000000005,
          -88.94561,
          -72.92496,
          8.4092,
          1.71819,
          33.43009,
          2.3584,
          -77.60454,
          -75.16237,
          -118.24531999999999,
          -118.24531999999999,
          -98.49462,
          -3.18067,
          13.37698,
          -73.93918000000001,
          -0.12714,
          -73.85678,
          -74.00712,
          -83.04791999999999,
          1.71819,
          -84.59334,
          -75.16237,
          2.34121,
          -118.94151000000001,
          -0.12714,
          -102.4102,
          -81.72239,
          -77.27348,
          -74.00712,
          -74.00712,
          -100.07715,
          -95.97585,
          2.29005,
          -86.8115,
          -75.66079,
          -83.7826,
          8.30437,
          -89.87374,
          -114.99993,
          -86.8115,
          -80.01955,
          -74.00712,
          -80.46935,
          -99.50200000000001,
          -71.08868000000001,
          -107.55405,
          -117.76505,
          -43.19508,
          -74.00712,
          -90.9564,
          -74.00712,
          -84.59431,
          -90.07771,
          -2.2488099999999998,
          -1.54508,
          6.6323300000000005,
          -118.24531999999999,
          -118.24531999999999,
          -89.10826999999999,
          12.90542,
          -85.30946,
          -73.94888,
          -74.17418,
          -73.9454,
          7.6244,
          -77.27348,
          -90.04892,
          -85.69091,
          -121.07887,
          -74.00712,
          -72.92496,
          -73.94888,
          -76.6096,
          -84.19444,
          16.3688,
          -119.27023,
          -2.10679,
          -68.43114,
          -90.53726999999999,
          -66.58904,
          -74.04323000000001,
          -93.2393,
          -98.70853000000001,
          -90.19951,
          -79.38533000000001,
          -85.97874,
          -74.00712,
          -79.38533000000001,
          -87.63241,
          -122.42005,
          -89.50409,
          -80.01955,
          -84.59431,
          -81.72239,
          -118.4164,
          -102.4102,
          -84.59431,
          -76.79731,
          -92.43659,
          -82.38859000000001,
          -81.6558,
          -77.029,
          13.37698,
          -0.33555999999999997,
          -74.00712,
          -86.77835999999999,
          -89.50409,
          -90.19951,
          -117.76505,
          -89.60585999999999,
          -71.07352,
          -119.05505,
          -86.77835999999999,
          -83.04791999999999,
          -93.58068,
          -83.04791999999999,
          13.37698,
          -122.03095,
          -97.49553,
          -6.24953,
          -81.54106,
          -77.02659,
          -88.94561,
          8.4092,
          -0.12714,
          -95.93995,
          -72.92496,
          -0.12714,
          -80.01955,
          -71.6342,
          0.48883000000000004,
          1.14378,
          -122.42005,
          -118.24531999999999,
          -74.00712,
          -71.71818,
          -88.70307,
          -93.14939,
          -2.23218,
          -114.14328,
          35.48527,
          -87.63241,
          -95.84501999999999,
          -75.16237,
          -117.76505,
          -118.24531999999999,
          -96.89774,
          -77.60454,
          -73.93585,
          -2.63265,
          -86.77835999999999,
          -8.24055,
          -90.04892,
          -75.92381,
          -84.19444,
          -92.01705,
          9.3667,
          -76.79731,
          -94.10158,
          -76.6096,
          -75.92381,
          -0.12714,
          -8.47277,
          -85.97874,
          -74.00712,
          -0.12714,
          -76.79731,
          -0.12714,
          -90.645,
          4.062119999999999,
          -119.27023,
          -80.46935,
          -95.84501999999999,
          -98.49462,
          -85.97874,
          -90.07771,
          -102.61916,
          -97.52033,
          -74.00712,
          -89.87374,
          -77.27348,
          108.83178000000001,
          -95.36978,
          24.6075,
          -58.373540000000006,
          22.95775,
          -100.07715,
          -90.5651,
          4.47684,
          -90.44116,
          0.64255,
          -74.00712,
          2.29005,
          -73.54223,
          -81.54106,
          31.255359999999996,
          -100.07715,
          -95.84501999999999,
          -117.02258,
          2.62879,
          -73.9454,
          -0.12714,
          26.06739,
          -100.07715,
          -80.01955,
          -84.50469,
          -74.00712,
          -86.8115,
          -72.59378000000001,
          -87.63241,
          -84.19444,
          -119.27023,
          -89.8643,
          -96.7954,
          -74.00712,
          -82.45926999999999,
          -84.75627,
          -81.54106,
          -97.32925,
          -77.029,
          -100.07715,
          -82.7603,
          -118.39981,
          -63.58481,
          7.66379,
          -1.54508,
          -87.63241,
          -90.59005,
          -96.78175999999999,
          -71.56889,
          -118.24531999999999,
          -87.63241,
          -122.32943999999999,
          -0.12714,
          -95.2943,
          -73.94888,
          2.40955,
          12.66538,
          -122.42005,
          -74.00712,
          -74.00712,
          -119.27023,
          -54.38783000000001,
          -91.56123000000001,
          -122.42005,
          -83.00298000000001,
          -95.36978,
          -92.01705,
          -80.83754,
          -96.7954,
          -89.87374,
          -85.97874,
          -79.7947,
          -73.94888,
          -90.59005,
          -73.13585,
          -0.21345999999999998,
          -74.00712,
          -8.24055,
          -118.24531999999999,
          2.34121,
          -0.12714,
          2.17005,
          -118.24531999999999,
          -117.76505,
          -84.39111,
          12.66538,
          -0.12714,
          24.932579999999998,
          -122.27301999999999,
          -73.9454,
          -1.14392,
          -95.93995,
          -119.27023,
          -98.30897,
          -122.27301999999999,
          -74.20991,
          -89.87374,
          25.75129,
          -0.12714,
          2.34121,
          -76.79731,
          -118.24531999999999,
          -90.06146,
          -74.00712,
          16.3688,
          -74.7594,
          -7.844810000000001,
          -80.99001,
          -121.94486,
          -99.50200000000001,
          -90.645,
          -74.00712,
          -74.00712,
          -77.80679,
          -90.9564,
          -89.50409,
          -74.00712,
          -0.12714,
          -76.79731,
          -89.00018,
          -89.87374,
          -119.69887,
          -1.53179,
          -94.82807,
          -122.42005,
          -0.12714,
          -119.27023,
          2.34121,
          -118.39535,
          -58.373540000000006,
          -100.07715,
          8.73299,
          -75.16237,
          25.623260000000002,
          -75.16237,
          -1.53179,
          -77.27348,
          -119.27023,
          -119.69887,
          -91.56123000000001,
          8.4092,
          2.38596,
          -74.00712,
          -1.46454,
          -94.35887,
          -83.18186,
          69.86799,
          -87.63241,
          -118.24531999999999,
          -122.39293,
          -77.71758,
          -74.11779,
          -74.00712,
          -87.63241,
          -106.07218,
          -102.4102,
          -72.75753,
          -79.38533000000001,
          -74.00712,
          -118.24531999999999,
          -95.36978,
          -101.85587,
          -89.38669,
          17.55142,
          -118.24531999999999,
          -90.71913,
          -86.77835999999999,
          -74.17418,
          -74.00712,
          -95.6802,
          -90.645,
          -59.59895,
          -90.30507,
          -74.00712,
          -43.19508,
          -98.49462,
          -77.80679,
          -63.573919999999994,
          10.74998,
          -3.18067,
          -83.04791999999999,
          -2.2488099999999998,
          -89.87374,
          -74.00712,
          -91.96148000000001,
          -83.22295,
          -74.72671,
          16.3688,
          -95.93995,
          -81.69074,
          -91.52382,
          -92.13055,
          -0.21345999999999998,
          -84.28065,
          -78.47753,
          -76.79731,
          -118.24531999999999,
          174.76713999999998,
          -80.01955,
          -74.00712,
          -75.16237,
          1.71819,
          -3.9988300000000003,
          -74.00712,
          1.71819,
          -96.89774,
          -95.84501999999999,
          -84.39111,
          -118.24531999999999,
          26.83776,
          -100.07715,
          -89.60585999999999,
          -77.60454,
          -90.10126,
          -118.24531999999999,
          -59.59895,
          -43.19508,
          -71.08868000000001,
          -74.00712,
          -89.10826999999999,
          -4.486219999999999,
          -0.18703,
          -79.38533000000001,
          -118.24531999999999,
          -90.07771,
          -74.17418,
          -98.30897,
          -82.4167,
          -84.39111,
          -90.18043,
          -73.93585,
          -100.07715,
          133.39311,
          -86.77835999999999,
          -74.00712,
          -80.01955,
          -85.69091,
          -91.52382,
          -97.74298,
          -74.29504,
          144.96715,
          -2.9676099999999996,
          8.4092,
          -66.42889,
          -82.50293,
          10.45415,
          -84.39111,
          -91.52382,
          -122.62568999999999,
          1.71819,
          -119.27023,
          -76.27503,
          -84.62167,
          -84.62167,
          -122.42005,
          -95.84501999999999,
          -94.35887,
          -84.62167,
          -83.04791999999999,
          -89.50409,
          -123.08854,
          -87.63241,
          -73.94888,
          18.28471,
          16.3688,
          -73.94888,
          23.73641,
          -4.24251,
          -122.42005,
          -118.24531999999999,
          -93.50243,
          -74.00712,
          -100.07715,
          -83.04791999999999,
          -2.6797299999999997,
          -73.9454,
          -84.39111,
          -73.24922,
          24.49511,
          -81.54106,
          -89.50409,
          -97.32925,
          -81.69074,
          -89.87374,
          -72.09647,
          -73.85678,
          -1.97406,
          -1.2078799999999998,
          -89.10826999999999,
          -0.47261000000000003,
          6.1427,
          -86.8115,
          7.121230000000001,
          10.45415,
          -74.00712,
          -118.24531999999999,
          -79.38533000000001,
          2.34121,
          -84.39111,
          5.32986,
          -74.20991,
          -87.63241,
          -4.486219999999999,
          -86.77835999999999,
          -73.9454,
          -92.43659,
          -73.54223,
          -118.24531999999999,
          -74.00712,
          -118.24531999999999,
          -76.79731,
          -71.08868000000001,
          6.1427,
          -71.71818,
          -110.94695,
          -77.27348,
          21.75627,
          -1.2323,
          -88.23546,
          -89.87374,
          -86.89775,
          -1.97406,
          -0.12714,
          -0.12714,
          -74.00712,
          -0.12714,
          -83.7336,
          -118.24531999999999,
          -117.76505,
          -72.75753,
          -0.12714,
          -87.63241,
          -90.18049,
          -1.9086,
          22.95775,
          -94.10158,
          -95.3756,
          -74.00712,
          -74.00712,
          -1.8153099999999998,
          -71.08868000000001,
          -118.24531999999999,
          -74.00712,
          -122.42005,
          -74.00712,
          -74.00712,
          10.45415,
          -37.42475,
          -118.24531999999999,
          -6.24953,
          -9.401019999999999,
          -87.90684,
          -80.23742,
          24.49511,
          -79.38533000000001,
          -122.39293,
          -95.36978,
          2.29005,
          -86.30063,
          -84.39111,
          -86.28641,
          -114.99993,
          -74.72671,
          -97.52033,
          -83.04791999999999,
          -87.63241,
          144.96715,
          -90.60536,
          7.28021,
          -58.373540000000006,
          -89.26212,
          6.6323300000000005,
          -93.61565999999999,
          -74.00712,
          -2.63265,
          -74.00712,
          -85.7664,
          0.17898,
          -77.41203,
          5.33275,
          -85.67869,
          -83.80489,
          -79.79854,
          -0.12714,
          -75.16237,
          -0.12714,
          -80.01955,
          -97.52033,
          1.71819,
          -2.2488099999999998,
          -93.26493,
          -73.85678,
          -97.52033,
          10.23522,
          -119.27023,
          -71.41199,
          -122.42005,
          2.40955,
          -73.61689,
          -123.2079,
          -96.56183,
          -80.73486,
          -1.9086,
          -90.06146,
          -77.80679,
          145.08084,
          -75.16237,
          13.22305,
          -92.43659,
          -119.27023,
          -76.62118000000001,
          -85.7664,
          -0.39535,
          -84.59431,
          8.67425,
          -77.029,
          -89.50409,
          -118.24531999999999,
          -74.00712,
          -99.50200000000001,
          -85.97874,
          -76.79731,
          -2.10679,
          -1.14392,
          -1.2078799999999998,
          -91.52382,
          -85.97874,
          -111.9307,
          -0.12714,
          -74.17418,
          -87.63241,
          -118.24531999999999,
          10.74998,
          -96.7954,
          -2.23001,
          -82.45926999999999,
          -80.14356,
          -0.21345999999999998,
          -90.04892,
          12.66538,
          -88.7493,
          -84.36354,
          2.40955,
          -75.16237,
          -93.26493,
          -66.10665,
          10.45415,
          -119.27023,
          144.96715,
          -71.56889,
          -93.26493,
          1.14378,
          12.66538,
          -73.94888,
          -82.66946999999999,
          -66.58904,
          -100.07715,
          -118.24531999999999,
          3.72856,
          -73.94888,
          -100.07715,
          10.45415,
          24.49511,
          -118.24531999999999,
          -46.65466,
          -77.27348,
          8.4092,
          12.57347,
          -84.75627,
          -74.00712,
          -71.01724,
          -76.79731,
          2.34121,
          -122.44165,
          -0.12714,
          -118.24531999999999,
          -91.56123000000001,
          -5.93494,
          -97.74298,
          -79.38533000000001,
          24.6075,
          -96.92803,
          -1.5465799999999998,
          -1.97406,
          -79.77127,
          -123.11403,
          -94.10158,
          -111.9307,
          -58.373540000000006,
          -43.19508,
          -94.15791,
          151.20695,
          -80.01955,
          -83.22295,
          -1.97406,
          -73.94888,
          -74.00712,
          -74.00712,
          -90.04892,
          -79.38533000000001,
          -66.42889,
          -77.34761999999999,
          -89.94049,
          -79.05660999999999,
          -79.38533000000001,
          -1.9086,
          -93.61565999999999,
          -1.97406,
          108.83178000000001,
          -100.07715,
          -84.50469,
          -122.42005,
          -83.7336,
          -91.25019,
          -77.60454,
          -71.08868000000001,
          -76.6096,
          -74.00712,
          -83.04791999999999,
          -85.97874,
          -58.373540000000006,
          -71.08868000000001,
          -74.00712,
          -72.67407,
          -2.2488099999999998,
          -90.18049,
          -87.63241,
          -3.11499,
          -122.62568999999999,
          -91.03786,
          -123.11403,
          -105.55096,
          -118.39157,
          -77.80679,
          17.55142,
          -117.97091999999999,
          -155.43413999999999,
          -95.96653,
          -66.42889,
          -122.42005,
          -77.27348,
          -97.00189,
          -100.07715,
          -119.27023,
          3.06281,
          2.26934,
          -111.9307,
          -91.25019,
          -96.7954,
          -85.97874,
          -74.154,
          -75.16237,
          -98.1607,
          133.39311,
          -92.43659,
          -74.00712,
          8.938889999999999,
          -0.56623,
          -98.38983,
          -74.72671,
          -90.645,
          -80.23742,
          -118.24531999999999,
          -122.27301999999999,
          -75.16237,
          -82.38859000000001,
          -95.15261,
          -79.77127,
          -95.93995,
          -73.94888,
          -81.69074,
          -3.7906800000000005,
          -1.2078799999999998,
          -76.79731,
          -122.32943999999999,
          -118.24531999999999,
          -89.58828000000001,
          -71.08868000000001,
          -117.76505,
          1.71819,
          18.70249,
          -77.27348,
          -118.24531999999999,
          -83.22295,
          -88.23546,
          -90.18049,
          -2.9676099999999996,
          -0.12714,
          -95.27023,
          -89.38669,
          12.56935,
          -76.79731,
          -0.12714,
          -74.00712,
          -118.24531999999999,
          -3.11499,
          -83.22295,
          -90.07771,
          -90.07771,
          -122.27301999999999,
          -119.09456000000002,
          -74.04323000000001,
          10.45415,
          -118.24531999999999,
          -96.0878,
          -84.39111,
          -1.6844700000000001,
          -155.43413999999999,
          -101.04893,
          -1.9086,
          -111.54732,
          -74.00712,
          -74.00712,
          -91.52382,
          -90.19951,
          4.37967,
          -84.75627,
          7.121230000000001,
          145.77406000000002,
          -73.9454,
          139.74092,
          -90.44116,
          -74.11779,
          -74.00712,
          10.45415,
          -84.39111,
          -86.87093,
          -80.23742,
          -79.05660999999999,
          -122.18755,
          -90.645,
          -41.9952,
          -122.42005,
          -95.93995,
          -119.27023,
          10.45415,
          -74.00712,
          -119.27023,
          -75.16237,
          -97.00189,
          8.22395,
          -74.00712,
          -73.9454,
          -105.27923999999999,
          -118.49229,
          -111.9307,
          -73.93585,
          -119.09456000000002,
          -83.04791999999999,
          -96.92483,
          -162.4365,
          -85.67869,
          -83.04791999999999,
          -95.93995,
          -1.9086,
          -74.72671,
          -0.12714,
          0.17898,
          -97.74298,
          -95.84501999999999,
          17.55142,
          26.83776,
          -93.26493,
          -81.69074,
          -74.72671,
          -90.18043,
          -90.18049,
          -79.77127,
          -87.63241,
          -79.38533000000001,
          -73.94888,
          -2.2488099999999998,
          -66.10665,
          31.255359999999996,
          -1.97406,
          -86.77835999999999,
          -73.13585,
          -83.18186,
          3.72856,
          10.45415,
          -117.87393999999999,
          -0.14858,
          -76.79731,
          -75.16237,
          -84.50032,
          -122.42005,
          -76.79731,
          -111.9307,
          -85.97874,
          -73.55439,
          -0.12714,
          2.40955,
          -100.07715,
          24.49511,
          -3.18067,
          -74.00712,
          26.06739,
          0.64255,
          -90.04892,
          -92.13055,
          -74.00712,
          -85.69091,
          -122.42005,
          -122.42005,
          -118.24531999999999,
          -4.24251,
          21.22327,
          12.66538,
          -87.63241,
          -59.59895,
          -2.2488099999999998,
          -81.6558,
          -70.70719,
          -74.00712,
          -121.74476999999999,
          -77.60454,
          -96.7954,
          -89.00018,
          -1.5465799999999998,
          -118.24531999999999,
          -149.10568,
          -91.03786,
          -92.26831,
          -0.37196,
          -74.00712,
          -92.66601999999999,
          -89.77895,
          -80.83754,
          -0.12714,
          11.96689,
          -122.42005,
          -73.85678,
          -90.5651,
          -119.27023,
          -100.07715,
          -81.54106,
          -80.99001,
          -77.60454,
          -2.2488099999999998,
          -2.23218,
          -66.42889,
          -80.01955,
          -79.38533000000001,
          -80.01955,
          -8.24055,
          -77.27348,
          -0.12714,
          -100.07715,
          -118.24531999999999,
          -93.8277,
          -100.07715,
          -100.07715,
          -87.63241,
          12.39424,
          21.22327,
          -95.93995,
          -88.95535,
          -84.10599,
          -84.36354,
          -66.42889,
          -1.46454,
          -114.99993,
          -119.27023,
          11.96689,
          -118.24531999999999,
          -118.24531999999999,
          -72.75753,
          -118.24531999999999,
          -85.7664,
          -86.77835999999999,
          3.06281,
          -92.01705,
          -100.07715,
          -0.12714,
          -81.69074,
          17.64405,
          -91.56123000000001,
          -73.85678,
          12.56935,
          -74.00712,
          -96.39998,
          -8.24055,
          -122.42005,
          -120.51483999999999,
          -1.14392,
          -2.23001,
          4.34968,
          -96.7954,
          -96.92483,
          -89.50409,
          -118.24531999999999,
          -79.38533000000001,
          -87.21724,
          -122.42005,
          -74.00712,
          -118.39981,
          -3.53444,
          106.82781999999999,
          -77.27348,
          -85.97874,
          -79.9316,
          -87.63241,
          -98.30897,
          -97.32925,
          -0.12714,
          -74.00712,
          -85.7664,
          -90.60536,
          -0.23396,
          -118.39535,
          -66.58904,
          -71.14565999999999,
          -0.58104,
          22.95775,
          -66.42889,
          -119.27023,
          -118.24531999999999,
          -84.50469,
          106.82781999999999,
          -118.24531999999999,
          -2.2488099999999998,
          -110.94695,
          -122.42005,
          -80.01955,
          8.22395,
          -74.17418,
          -80.83754,
          -0.12714,
          -93.14939,
          -85.97874,
          -97.14305999999999,
          -84.75627,
          -74.47995,
          6.1427,
          -107.55405,
          -80.14356,
          9.51695,
          -80.23742,
          7.28021,
          -82.4167,
          -74.17418,
          -84.39111,
          -2.10679,
          -100.07715,
          -81.54106,
          -83.7336,
          -117.76505,
          -73.13585,
          -2.71939,
          -89.87374,
          -3.18067,
          0.64255,
          -89.53175999999999,
          -3.18067,
          13.37698,
          -75.69189,
          -73.94888,
          -87.63241,
          -0.37196,
          -73.54223,
          -0.12714,
          144.96715,
          -118.24531999999999,
          -149.10568,
          -90.04892,
          -94.82807,
          -98.30897,
          -81.86674000000001,
          -92.11789,
          -75.16237,
          -121.94345,
          -73.54223,
          -83.22295,
          -122.18755,
          -122.71242,
          -73.96644,
          -118.24531999999999,
          -74.00712,
          -85.97874,
          -90.19951,
          -118.24802,
          -74.29504,
          -0.12714,
          -112.18628000000001,
          -86.8115,
          -95.36978,
          -74.00712,
          37.90395,
          -74.72671,
          22.95775,
          -4.24251,
          -7.844810000000001,
          -118.24531999999999,
          -122.27301999999999,
          -84.39111,
          -92.01705,
          -77.51329,
          -92.08238,
          -122.42005,
          -90.07771,
          -79.38533000000001,
          -118.24531999999999,
          -1.53179,
          -72.45165,
          -73.83168,
          -0.12714,
          -90.91386999999999,
          -37.42475,
          -93.97961,
          -122.42005,
          -93.74727,
          -93.29156,
          -118.39535,
          -72.75753,
          -2.23001,
          0.48883000000000004,
          -73.9454,
          -100.07715,
          23.73641,
          -93.26493,
          -98.1607,
          -118.24531999999999,
          -86.77835999999999,
          -87.63241,
          -96.63166,
          0.051019999999999996,
          -82.66946999999999,
          -1.54508,
          -75.92381,
          -88.05324,
          -100.07715,
          -0.12714,
          -81.6558,
          7.19655,
          -100.07715,
          26.06739,
          4.22417,
          10.9915,
          -73.85678,
          -119.18043999999999,
          -37.42475,
          -118.24531999999999,
          -87.63241,
          -73.83168,
          -74.00712,
          -74.57555,
          31.255359999999996,
          -118.24531999999999,
          -74.00712,
          -90.71913,
          -0.12714,
          -79.77127,
          -77.029,
          -87.63241,
          -83.22295,
          -90.05202,
          -94.73954,
          -85.97874,
          -1.97406,
          -122.42005,
          -77.80679,
          -80.01955,
          -93.286,
          -81.6558,
          -85.7664,
          -83.04791999999999,
          -74.04323000000001,
          -82.4167,
          -95.84501999999999,
          -0.12714,
          -84.39111,
          -84.39111,
          -119.27023,
          -93.14939,
          -0.18703,
          -73.55439,
          -88.35068000000001,
          -87.82828,
          -95.3756,
          -2.23218,
          -81.72239,
          -89.57334,
          22.95775,
          -73.24922,
          -102.4102,
          -97.49553,
          -118.24531999999999,
          -7.844810000000001,
          -1.97406,
          -73.94888,
          4.22417,
          -75.00236,
          -1.97406,
          -94.35887,
          3.8952699999999996,
          -118.24531999999999,
          -87.63241,
          1.71819,
          18.06243,
          -118.24531999999999,
          -76.29771,
          12.49576,
          -77.51329,
          -88.05324,
          -87.21724,
          -71.6342,
          10.9915,
          -0.14858,
          -99.50200000000001,
          -98.49462,
          129.2459,
          -74.00712,
          -73.55439,
          -86.8115,
          -119.27023,
          -93.61565999999999,
          -122.32943999999999,
          -120.51483999999999,
          1.31388,
          -96.39998,
          -122.42005,
          -81.24620999999999,
          -85.97874,
          -104.59518,
          -73.80816999999999,
          -4.24251,
          108.83178000000001,
          -90.10785,
          -1.9086,
          -1.9086,
          -89.87374,
          -93.61565999999999,
          144.96715,
          -82.4167,
          -100.07715,
          -88.8194,
          -95.84501999999999,
          -97.74298,
          -110.96975,
          -0.12714,
          -118.39981,
          -90.9564,
          -118.24531999999999,
          2.40955,
          -98.70853000000001,
          6.6323300000000005,
          -122.2705,
          -90.10785,
          -76.47933,
          15.474910000000001,
          -71.28109,
          -75.16237,
          26.83776,
          -74.00712,
          -3.9988300000000003,
          -83.04791999999999,
          -71.08868000000001,
          -79.38533000000001,
          -94.02978,
          -119.27023,
          -98.38983,
          -87.63241,
          -74.00712,
          -92.58685,
          -91.65700000000001,
          -95.84501999999999,
          -77.029,
          2.38596,
          -122.32943999999999,
          -122.27301999999999,
          -90.59005,
          -73.92936999999999,
          -71.41199,
          -1.53179,
          -118.24531999999999,
          -90.91386999999999,
          -118.24531999999999,
          -0.12714,
          -85.67869,
          -121.94345,
          -6.24953,
          -117.75001999999999,
          -83.18186,
          24.6075,
          -83.7336,
          4.82897,
          -70.70719,
          -89.87374,
          -0.12714,
          -87.63241,
          -122.42005,
          -80.65079,
          -81.54106,
          -80.83754,
          -0.12714,
          -94.37517,
          -95.84501999999999,
          -77.71758,
          -88.95535,
          -90.09876,
          25.623260000000002,
          -118.24531999999999,
          -121.07887,
          -92.01705,
          -122.42005,
          7.121230000000001,
          -97.74298,
          -118.24531999999999,
          -100.07715,
          -73.9454,
          -81.54106,
          -89.50409,
          16.3688,
          -87.63241,
          -1.9086,
          -1.50776,
          -94.02978,
          -74.17418,
          9.99245,
          -95.36978,
          -4.24251,
          -85.69091,
          -74.72671,
          -73.85678,
          -74.00712,
          -8.47277,
          4.82897,
          -84.39111,
          -118.24531999999999,
          -1.9086,
          13.22305,
          -3.9966699999999995,
          -88.95535,
          -98.30897,
          -77.27348,
          17.64405,
          -122.18755,
          -76.79731,
          -71.28109,
          -2.23218,
          -79.87162,
          22.95775,
          -86.77835999999999,
          -84.39111,
          -87.63241,
          -105.55096,
          -2.2488099999999998,
          -92.08238,
          -72.75753,
          -84.10599,
          -77.029,
          21.75627,
          -98.44126999999999,
          -122.42005,
          -122.44165,
          -74.00712,
          -114.99993,
          -96.78175999999999,
          -0.12714,
          -74.00712,
          -79.77127,
          -66.42889,
          -75.16237,
          -119.05505,
          31.255359999999996,
          28.391309999999997,
          -72.75753,
          -1.2078799999999998,
          -85.97874,
          -76.79731,
          -122.42005,
          -118.39535,
          -0.56623,
          -84.50469,
          -81.72239,
          -118.24531999999999,
          -74.00712,
          -96.63166,
          -83.7826,
          -95.36978,
          -77.80679,
          144.96715,
          82.79476,
          -95.99277,
          -0.12714,
          -92.72139,
          -100.07715,
          -79.7947,
          -93.22010999999999,
          -74.00712,
          -118.24531999999999,
          -85.97874,
          -75.16237,
          106.82781999999999,
          17.55142,
          -98.70853000000001,
          -91.52382,
          -82.50293,
          -77.24786999999999,
          -122.42005,
          -63.58481,
          -1.54508,
          -123.11403,
          -94.37517,
          16.3688,
          1.71819,
          -90.49217,
          -80.07691,
          -72.92496,
          -96.78175999999999,
          -84.39111,
          -90.07771,
          -74.00712,
          2.38596,
          -89.50409,
          -84.98763000000001,
          -74.00712,
          -89.99726,
          -79.38533000000001,
          -1.97406,
          -75.16237,
          -77.27348,
          -74.00712,
          -74.00712,
          -83.04791999999999,
          -114.99993,
          -2.63265,
          -71.08868000000001,
          4.22417,
          -83.74416,
          -81.54106,
          -74.00712,
          -105.55096,
          -75.16237,
          -4.24251,
          -0.12714,
          -77.60454,
          10.45415,
          144.96715,
          -74.007118,
          -87.46670999999999,
          -83.04791999999999,
          -0.37196,
          -119.27023,
          21.22327,
          2.34121,
          -122.42005,
          -74.57555,
          -118.24531999999999,
          13.49942,
          -90.71913,
          -84.39111,
          -92.08238,
          -54.38783000000001,
          -90.59005,
          -83.92090999999999,
          -122.44165,
          -90.19951,
          -84.75627,
          -75.16237,
          -84.62167,
          -74.17418,
          -74.00712,
          -1.97406,
          133.39311,
          139.83829,
          -96.0878,
          -79.79854,
          -85.97874,
          -94.58306,
          -5.93494,
          -101.04893,
          -87.1187,
          -83.04791999999999,
          -78.24499,
          -85.97874,
          -91.25019,
          -1.8153099999999998,
          -1.97406,
          -74.00712,
          -74.00712,
          -84.19444,
          -157.7197,
          -0.39535,
          25.80695,
          -73.80816999999999,
          -88.91599000000001,
          -0.18703,
          -74.00712,
          -83.04791999999999,
          25.48312,
          -81.54106,
          -81.54106,
          -97.48561,
          -6.24953,
          108.83178000000001,
          -0.12714,
          -73.80816999999999,
          -76.29771,
          -90.645,
          -71.28109,
          -95.84501999999999,
          -58.373540000000006,
          -100.07715,
          -118.4164,
          -104.59518,
          -84.75627,
          -99.13285,
          -46.65466,
          -93.13913000000001,
          -79.7947,
          -0.12714,
          -92.27449,
          -94.365,
          -122.42005,
          -122.42005,
          -94.68121,
          13.1876,
          -121.94345,
          -0.12714,
          -81.6558,
          -119.27023,
          -74.00712,
          -93.29156,
          -86.62021,
          17.55142,
          -84.59334,
          26.83776,
          -84.59431,
          26.06739,
          -1.6844700000000001,
          -73.94888,
          -4.13689,
          -87.46670999999999,
          -79.64372,
          -85.97874,
          -73.94888,
          -122.42005,
          -122.32943999999999,
          -43.19508,
          -76.79731,
          13.1876,
          -118.24531999999999,
          121.02183000000001,
          -1.2078799999999998,
          -96.7954,
          -59.59895,
          -100.07715,
          -1.14392,
          -74.00712,
          -89.10826999999999,
          -74.00712,
          133.39311,
          2.17005,
          -104.99226000000002,
          -80.01955,
          -58.373540000000006,
          -86.77835999999999,
          -96.7954,
          -80.07691,
          -122.42005,
          28.391309999999997,
          -74.00712,
          -93.58068,
          -121.07887,
          -89.87374,
          -90.60536,
          -104.99226000000002,
          -58.373540000000006,
          -0.12714,
          -74.17418,
          -0.12714,
          -89.10826999999999,
          -92.26831,
          -84.39111,
          -2.10679,
          -92.43659,
          -84.10599,
          -87.63241,
          2.62879,
          -81.84348,
          -118.94151000000001,
          -79.38533000000001,
          -74.00712,
          -99.13285,
          -74.00712,
          -96.92803,
          -118.24531999999999,
          -122.42005,
          -111.54732,
          -1.2078799999999998,
          -73.96644,
          -74.00712,
          -2.59143,
          -77.27348,
          -92.26831,
          -83.04791999999999,
          -121.94345,
          12.66538,
          -90.18043,
          -85.97567,
          -119.27023,
          -90.59005,
          -83.04791999999999,
          -75.16237,
          -73.93585,
          -75.16237,
          -96.39998,
          -58.373540000000006,
          -94.02978,
          -2.23001,
          -84.39111,
          0.17898,
          -93.50243,
          -95.82333,
          -111.54732,
          -73.83168,
          -119.27023,
          9.67464,
          -122.62568999999999,
          12.56935,
          -92.27449,
          35.48527,
          133.39311,
          -0.12714,
          -73.94888,
          -80.73486,
          -81.54106,
          -89.87374,
          -90.71913,
          -77.51329,
          -73.94888,
          17.55142,
          -122.27301999999999,
          -75.16237,
          -118.24531999999999,
          -123.11403,
          -91.56123000000001,
          -87.63241,
          -74.00712,
          -71.08868000000001,
          -71.6342,
          -80.23742,
          -118.24531999999999,
          -93.13913000000001,
          -1.54508,
          -90.18043,
          121.02183000000001,
          6.6323300000000005,
          -84.15601,
          -72.45165,
          -69.46854,
          -93.29156,
          -95.36978,
          -73.94888,
          -77.60454,
          -81.6558,
          -1.97406,
          -104.99226000000002,
          -111.54732,
          -0.56623,
          -1.14392,
          -122.42005,
          149.12656,
          -80.73486,
          -46.65466,
          -119.27023,
          -74.00712,
          -90.9564,
          -118.24531999999999,
          -77.91615,
          -90.05202,
          -90.5651,
          -71.08868000000001,
          -87.90684,
          -118.24531999999999,
          -74.00712,
          -117.75801000000001,
          -73.83168,
          -74.00712,
          -88.94561,
          146.32611,
          -98.38983,
          -82.50293,
          -90.04892,
          -92.72139,
          -118.24531999999999,
          3.72856,
          -79.99745,
          -74.20991,
          -122.2705,
          17.55142,
          -1.54508,
          -6.24953,
          -96.63166,
          -111.9307,
          17.55142,
          -92.01705,
          -74.00712,
          -3.18067,
          -37.42475,
          -90.19951,
          -73.80816999999999,
          -74.00712,
          -90.19951,
          -105.55096,
          5.33275,
          -74.00712,
          -119.69887,
          13.1876,
          -0.12714,
          -58.373540000000006,
          -88.05324,
          -76.79731,
          -81.33230999999999,
          -118.24531999999999,
          -93.13913000000001,
          -84.10599,
          -118.24531999999999,
          -112.18628000000001,
          -122.42005,
          -6.24953,
          -86.77835999999999,
          -83.74416,
          -73.9454,
          -1.2078799999999998,
          -119.27023,
          -73.59354,
          -85.32281,
          -58.373540000000006,
          -88.23546,
          -74.00712,
          -117.84881000000001,
          -95.84501999999999,
          10.74998,
          -73.59354,
          -101.95625,
          21.75627,
          -98.52102,
          -0.12714,
          -93.26493,
          -2.10679,
          -82.66946999999999,
          -63.81885,
          -118.24531999999999,
          -122.32943999999999,
          25.75129,
          -74.00712,
          -96.0878,
          -119.69887,
          -118.24531999999999,
          -74.00712,
          -77.60454,
          -9.401019999999999,
          -73.94888,
          -81.6558,
          -123.11403,
          -122.42005,
          -71.08868000000001,
          -100.07715,
          -89.00018,
          -95.84501999999999,
          -86.68073000000001,
          -118.24531999999999,
          -94.10158,
          -5.93494,
          13.1876,
          13.37698,
          -93.36586,
          13.1876,
          -104.59518,
          -92.13055,
          -77.029,
          1.71819,
          21.22327,
          27.920759999999998,
          -1.46454,
          -95.84501999999999,
          -90.04892,
          -74.00712,
          10.74998,
          -74.00712,
          -85.97874,
          -0.12714,
          -90.64208,
          -75.66079,
          133.39311,
          3.8952699999999996,
          -100.07715,
          -77.71758,
          -96.7954,
          -123.11403,
          -75.92381,
          -120.95071000000002,
          133.39311,
          -3.70577,
          -93.61565999999999,
          -118.24531999999999,
          17.55142,
          -89.53175999999999,
          -123.11403,
          -107.55405,
          -86.77835999999999,
          -79.7947,
          -96.91393000000001,
          -118.24531999999999,
          -86.77835999999999,
          -74.11779,
          -75.16237,
          -91.56123000000001,
          -0.33555999999999997,
          -118.24531999999999,
          -118.24531999999999,
          -74.20991,
          -117.87393999999999,
          -3.70577,
          -77.80679,
          -77.27348,
          28.391309999999997,
          -2.6797299999999997,
          -81.24620999999999,
          -122.42005,
          -84.39111,
          -85.67869,
          -93.29156,
          -1.5465799999999998,
          -1.9086,
          0.64255,
          -74.00712,
          -75.16237,
          -74.12374,
          -92.13055,
          9.99245,
          21.00939,
          -84.19444,
          -4.42016,
          -74.00712,
          -90.43987,
          5.33275,
          -6.24953,
          -90.60536,
          -95.84501999999999,
          -8.24055,
          -96.39998,
          -103.2833,
          -0.12714,
          -89.38669,
          -72.67407,
          -96.63166,
          10.45415,
          3.72856,
          -118.24531999999999,
          -91.56123000000001,
          -90.19951,
          -2.23218,
          -78.87846,
          139.74092,
          -83.04791999999999,
          -66.58904,
          1.71819,
          -89.87374,
          -118.24531999999999,
          -93.74727,
          -8.24055,
          -84.54588000000001,
          -87.90684,
          -74.00712,
          -89.50409,
          -73.94888,
          -74.00712,
          31.255359999999996,
          106.82781999999999,
          0.17898,
          -98.38983,
          -1.97406,
          -76.79731,
          -83.22295,
          -123.2079,
          -87.63241,
          -90.71913,
          -74.00712,
          -3.7906800000000005,
          -2.63265,
          -74.72671,
          -85.69091,
          -84.59431,
          -79.38533000000001,
          -74.00712,
          -77.27348,
          2.34121,
          -93.74727,
          -85.97874,
          -84.10599,
          -122.39293,
          -74.00712,
          -4.486219999999999,
          -77.27348,
          -73.9454,
          -82.44537,
          -0.12714,
          -90.04892,
          -1.14392,
          22.95775,
          -83.7826,
          -75.69189,
          -118.24531999999999,
          -74.00712,
          -63.573919999999994,
          -95.93995,
          -2.6797299999999997,
          -1.54508,
          18.70249,
          -74.00712,
          -118.24531999999999,
          -76.45326999999999,
          -74.72671,
          -94.35887,
          -80.23742,
          -118.24531999999999,
          -90.19951,
          -89.8643,
          -89.99726,
          -83.04791999999999,
          -84.59334,
          -97.32925,
          10.9915,
          -1.97406,
          0.47791000000000006,
          15.21751,
          -85.97567,
          -94.58306,
          -98.70853000000001,
          -118.24531999999999,
          -90.645,
          -1.61237,
          -83.04791999999999,
          -97.32925,
          -94.365,
          10.74998,
          -72.92496,
          -118.24531999999999,
          -96.91393000000001,
          -80.23742,
          -99.50200000000001,
          -93.29156,
          20.46414,
          -0.12714,
          -89.8643,
          -73.83168,
          -80.65079,
          -74.00712,
          -74.00712,
          -73.13585,
          -92.01705,
          -74.00712,
          -90.44116,
          10.74998,
          -83.22295,
          -58.373540000000006,
          13.37698,
          -86.77835999999999,
          -81.54106,
          -78.89601,
          -74.00712,
          -84.59334,
          -46.711729999999996,
          -75.16237,
          2.3584,
          -122.42005,
          -82.14039,
          -96.91393000000001,
          -84.39111,
          -77.029,
          3.8952699999999996,
          -2.23218,
          4.34968,
          -92.43659,
          -77.27348,
          24.49511,
          -1.97406,
          -111.9307,
          -118.24531999999999,
          -90.19951,
          -118.24531999999999,
          -74.00712,
          -88.35068000000001,
          -0.12714,
          -102.4102,
          -77.27348,
          -2.23218,
          -82.4167,
          -100.07715,
          -121.01914,
          -86.77835999999999,
          -77.02659,
          133.39311,
          -1.53179,
          -96.7954,
          -94.10158,
          -118.24531999999999,
          -101.85587,
          -8.47277,
          -2.10679,
          -93.26493,
          -0.37196,
          -74.04323000000001,
          -79.38533000000001,
          14.39059,
          -97.74298,
          -73.83301,
          -86.77835999999999,
          2.34121,
          -83.04791999999999,
          -94.35887,
          -74.00712,
          -100.07715,
          -93.26493,
          -6.24953,
          2.34121,
          -80.9474,
          -74.00712,
          -98.30897,
          -2.2488099999999998,
          -77.029,
          -66.42889,
          -74.00712,
          144.96715,
          -92.26831,
          21.75627,
          -83.7336,
          -0.12714,
          -77.029,
          -94.15791,
          -54.38783000000001,
          -0.21345999999999998,
          -122.62568999999999,
          -93.36586,
          -1.9086,
          -118.24531999999999,
          -80.83754,
          -118.24531999999999,
          -4.62141,
          -1.25949,
          -118.24531999999999,
          -82.32547,
          -118.24531999999999,
          -118.4164,
          -118.32673999999999,
          -85.97874,
          -85.77449,
          -93.8277,
          -82.66946999999999,
          -73.9454,
          -72.75753,
          -75.66079,
          -122.42005,
          -77.029,
          -58.373540000000006,
          -88.91599000000001,
          -66.42889,
          -77.27348,
          13.37698,
          -83.04791999999999,
          -72.94832,
          -0.21345999999999998,
          -59.59895,
          -100.07715,
          16.3688,
          -91.25019,
          -89.51876999999999,
          -71.08868000000001,
          -101.3878,
          146.32611,
          -73.24922,
          -78.87846,
          -71.08868000000001,
          -77.60454,
          -1.5465799999999998,
          8.80466,
          -74.00712,
          -73.94888,
          -77.029,
          -86.44105,
          -90.91386999999999,
          -83.22295,
          -122.32943999999999,
          -80.60688,
          -119.09456000000002,
          -100.07715,
          -8.24055,
          -58.373540000000006,
          -99.50200000000001,
          31.255359999999996,
          -74.17418,
          -84.36354,
          -1.9086,
          -90.10785,
          -74.00712,
          -87.63241,
          -79.64372,
          -74.00712,
          133.39311,
          -89.58776,
          2.40955,
          -6.134869999999999,
          -46.65466,
          -75.66079,
          -90.18049,
          144.96715,
          -58.373540000000006,
          -91.52382,
          144.96715,
          -79.38533000000001,
          -0.12714,
          -0.12714,
          -119.27023,
          -0.12714,
          -100.07715,
          7.01815,
          -86.77835999999999,
          -73.94888,
          -74.00712,
          -86.77835999999999,
          -117.97091999999999,
          -74.00712,
          -78.47753,
          -93.8277,
          -87.63241,
          -83.18186,
          -89.87374,
          -81.54106,
          10.45415,
          -0.25969000000000003,
          -0.12714,
          -96.7954,
          -96.91393000000001,
          -86.77835999999999,
          31.255359999999996,
          -86.8115,
          -70.70719,
          -75.92381,
          -77.80679,
          -77.27348,
          -1.50776,
          -79.64372,
          5.37249,
          -1.9086,
          2.38596,
          -87.63241,
          -118.24531999999999,
          -106.48749,
          -2.63265,
          -74.00712,
          -80.25305999999999,
          -1.5465799999999998,
          -86.77835999999999,
          -90.53726999999999,
          -74.00712,
          -66.10665,
          -79.38533000000001,
          -83.22295,
          12.56935,
          133.39311,
          -2.23001,
          -73.80816999999999,
          4.22417,
          -75.16237,
          -97.14074000000001,
          -99.13285,
          -6.24953,
          -105.55096,
          -6.24953,
          -74.00712,
          -122.39293,
          -74.17418,
          -1.97406,
          -75.16237,
          -117.97091999999999,
          17.55142,
          -98.38983,
          -1.61237,
          -84.75627,
          144.96715,
          -118.24531999999999,
          -90.07771,
          -8.24055,
          -75.16237,
          -122.42005,
          -73.41853,
          -74.11779,
          -71.08868000000001,
          -96.63166,
          -87.63241,
          -87.63241,
          -85.97874,
          10.45415,
          -74.00712,
          -85.97874,
          -74.00712,
          18.421960000000002,
          -81.6558,
          -97.32925,
          -74.04323000000001,
          -81.6558,
          -114.14328,
          -61.02281,
          -0.12714,
          -74.72671,
          -94.15791,
          -95.84501999999999,
          -77.27348,
          -71.6342,
          -77.60454,
          -111.54732,
          -74.00712,
          -96.7954,
          8.22395,
          17.55142,
          -90.06146,
          -5.93494,
          -74.00712,
          -93.61565999999999,
          146.32611,
          -1.97406,
          -83.22295,
          -100.07715,
          -122.42005,
          -97.74298,
          -106.02611999999999,
          -6.24953,
          -98.49462,
          -96.89774,
          -85.97874,
          -66.58904,
          -71.63056,
          -118.24531999999999,
          -3.9966699999999995,
          -0.12714,
          -118.24802,
          7.01815,
          -100.07715,
          -83.22295,
          -68.43114,
          -74.00712,
          -82.38859000000001,
          1.71819,
          -84.39111,
          -75.92381,
          -82.32547,
          1.71819,
          -118.24531999999999,
          -94.82807,
          -118.24531999999999,
          -86.68073000000001,
          -77.604538,
          -73.94888,
          -83.7336,
          -83.04791999999999,
          4.22417,
          23.73641,
          -86.77835999999999,
          -3.9988300000000003,
          4.47684,
          2.34121,
          -87.63241,
          2.38596,
          -77.029,
          -119.27023,
          -93.58068,
          -0.12714,
          -122.42005,
          -85.30946,
          -85.97874,
          -0.37196,
          13.37698,
          -0.12714,
          -85.67869,
          -74.00712,
          1.71819,
          -1.14392,
          -92.43659,
          -98.49462,
          -77.27348,
          8.4092,
          -73.96644,
          -73.54223,
          -90.19951,
          -73.94888,
          -87.63241,
          -122.42005,
          -97.74298,
          -84.25274,
          -83.04791999999999,
          -90.19951,
          -1.5465799999999998,
          -84.39111,
          -85.97874,
          -100.07715,
          -84.59334,
          -122.44165,
          -0.12714,
          -92.13055,
          -74.17418,
          -74.00712,
          10.45415,
          -2.97848,
          -58.373540000000006,
          -84.10599,
          -87.90684,
          -122.42005,
          -122.2705,
          -77.029,
          -66.58904,
          -80.9474,
          -1.9086,
          -74.00712,
          -82.38859000000001,
          -80.01955,
          -8.24055,
          -100.07715,
          -149.10568,
          -72.92496,
          -76.79731,
          -87.63241,
          -88.91599000000001,
          -122.42005,
          1.71819,
          -74.00712,
          -107.55405,
          -85.7664,
          -71.23605,
          -76.79731,
          -122.16078999999999,
          -1.97406,
          -119.27023,
          -0.12714,
          -83.22295,
          28.391309999999997,
          -95.84501999999999,
          2.26934,
          -118.4164,
          -75.66079,
          -92.26831,
          -75.16237,
          -74.00712,
          -120.51483999999999,
          -90.07771,
          -0.37196,
          -122.42005,
          -74.17418,
          -89.50409,
          -73.85678,
          -89.87374,
          2.34121,
          -111.9307,
          10.45415,
          -91.52382,
          -77.60454,
          -122.42005,
          -118.24531999999999,
          10.20452,
          -94.37517,
          145.08084,
          -77.94599000000001,
          -80.83754,
          -3.9966699999999995,
          -98.1607,
          7.01815,
          -83.04791999999999,
          -95.36978,
          18.95574,
          -95.84501999999999,
          -92.27449,
          -80.73486,
          -0.12714,
          -117.76505,
          -82.38859000000001,
          -93.36586,
          -82.5148,
          -58.373540000000006,
          -73.9454,
          -85.69091,
          -0.12714,
          -89.50409,
          -84.39111,
          18.48617,
          -84.19444,
          21.75627,
          -82.44537,
          -2.13468,
          -118.24531999999999,
          -74.00712,
          -111.54732,
          1.71819,
          -86.77835999999999,
          -118.24531999999999,
          -83.04791999999999,
          -69.46854,
          -90.07771,
          -72.45165,
          -119.27023,
          -98.1607,
          -89.87374,
          -74.00712,
          -90.59005,
          -117.76505,
          -71.6342,
          28.187590000000004,
          -123.11403,
          -118.24531999999999,
          23.73641,
          -94.15791,
          5.33275,
          -89.53175999999999,
          -118.24531999999999,
          -89.8643,
          -90.45987,
          -89.58776,
          139.74092,
          -94.10158,
          -73.80816999999999,
          -122.42005,
          -83.22295,
          -155.43413999999999,
          -71.08868000000001,
          -85.97874,
          -118.24531999999999,
          -118.24531999999999,
          -68.77077,
          -1.50776,
          -70.70719,
          -100.07715,
          -89.87374,
          106.82781999999999,
          -71.71818,
          -83.22295,
          -0.12714,
          -95.36978,
          -84.39111,
          -1.6844700000000001,
          -118.24531999999999,
          -74.00712,
          133.39311,
          -74.00712,
          -97.74298,
          -93.29156,
          10.22291,
          -73.85678,
          -122.42005,
          -100.07715,
          -118.24531999999999,
          -1.32524,
          -87.63241,
          -0.12714,
          -97.74298,
          -1.97406,
          -1.9086,
          -85.97874,
          -117.76505,
          -82.38859000000001,
          8.80466,
          -122.42005,
          -111.9307,
          -77.60454,
          1.14378,
          22.95775,
          -1.5465799999999998,
          -90.04892,
          -85.69091,
          -98.1607,
          -118.24531999999999,
          8.22395,
          -84.98763000000001,
          -81.80045,
          16.3688,
          -87.21724,
          -58.373540000000006,
          -118.24531999999999,
          -84.75627,
          -74.00712,
          -81.6558,
          -91.25276,
          0.64255,
          -122.44165,
          -118.24531999999999,
          2.34121,
          -122.03095,
          -89.38669,
          4.062119999999999,
          7.01815,
          -93.61565999999999,
          -74.00712,
          -111.9307,
          -97.32925,
          -118.24531999999999,
          -0.12714,
          -82.38859000000001,
          -74.00712,
          -96.63166,
          -75.16237,
          -77.3819,
          -54.38783000000001,
          -83.04791999999999,
          -74.17418,
          -84.39111,
          -1.9086,
          -118.24531999999999,
          -122.42005,
          -74.00712,
          -3.7906800000000005,
          -122.42005,
          9.99245,
          -84.50469,
          -8.24055,
          -73.9454,
          -71.08868000000001,
          12.66538,
          -86.77835999999999,
          -74.00712,
          -43.19508,
          -119.27023,
          -84.36354,
          -101.69814000000001,
          139.83829,
          -71.08868000000001,
          -82.66946999999999,
          -86.68073000000001,
          -79.7947,
          -90.19951,
          -74.72671,
          -1.9086,
          -77.60454,
          -77.27348,
          -74.00712,
          -105.55096,
          1.71819,
          2.34121,
          -97.52033,
          -73.80816999999999,
          -74.00712,
          -74.47995,
          -94.15791,
          2.38596,
          -0.12714,
          -100.07715,
          8.22395,
          -111.9307,
          -75.55084000000001,
          2.34121,
          -3.9966699999999995,
          -66.10665,
          -97.74298,
          -87.63241,
          -1.97406,
          7.28021,
          25.623260000000002,
          -88.8194,
          -100.07715,
          -85.97874,
          -0.12714,
          -3.18067,
          -83.04791999999999,
          -2.23001,
          -74.00712,
          -82.4167,
          -2.23001,
          -75.92381,
          -86.77835999999999,
          -74.00712,
          28.391309999999997,
          -74.00712,
          -94.58306,
          -87.63241,
          10.45415,
          -0.12714,
          12.66538,
          25.48312,
          2.34121,
          -118.24531999999999,
          -89.87374,
          -118.24531999999999,
          -0.56623,
          -88.08459,
          -90.645,
          -118.24531999999999,
          -73.13585,
          -121.94486,
          -1.2323,
          -79.7947,
          -84.25274,
          -90.19951,
          -82.32547,
          -95.93995,
          -37.42475,
          69.86799,
          -93.70737,
          -78.89601,
          -77.27348,
          -90.18049,
          -71.14565999999999,
          -85.97874,
          -83.22295,
          3.8952699999999996,
          -118.24531999999999,
          -92.82984,
          -90.04892,
          -90.19951,
          -81.54106,
          -105.55096,
          29.889870000000002,
          -84.19444,
          -117.16171999999999,
          -85.97874,
          -85.69091,
          -96.89774,
          -7.844810000000001,
          25.623260000000002
         ],
         "marker": {
          "color": [
           0.6306300375898077,
           0.3600311664643514,
           0.6364236449500698,
           0.4199431484349393,
           0.3941385398458925,
           0.4898162689820407,
           0.6774204652262298,
           0.839962768151037,
           0.43541581815506936,
           0.4597971288376104,
           0.5888271005018058,
           0.3964552539172961,
           0.7068276713044582,
           0.5605579839038146,
           0.6408071019636729,
           0.5237146369702328,
           0.8093237930019529,
           0.5278650761586818,
           0.6686745328613157,
           0.8148296561331122,
           0.6610801676039384,
           0.7011808736075507,
           0.7337989404362274,
           0.5040756699303163,
           0.6697261875661445,
           0.6400483571565447,
           0.7510076200369779,
           0.548585130198109,
           0.6319466659983671,
           0.6683706115518646,
           0.8457688664485438,
           0.44316239759770826,
           0.6178701163443497,
           0.9057768886660886,
           0.6069253585317187,
           0.7429631523413633,
           0.5854795397495219,
           0.6715962698483039,
           0.4493236152076617,
           0.5164437797727629,
           0.4458546313595108,
           0.6051097019148579,
           0.4161410224693502,
           0.4305389074172808,
           0.42837541665132417,
           0.43888747505017295,
           0.5781036297198625,
           0.6264363817515622,
           0.5438663024727286,
           0.5672788711826817,
           0.4323864772977878,
           0.5138295872991763,
           0.4546681904732506,
           0.657406765298449,
           0.498259309879011,
           0.6247237675785525,
           0.5559850526989919,
           0.7033494404116145,
           0.4342720374495127,
           0.7337146964873255,
           0.6254432620438771,
           0.6610013371011454,
           0.6048204319182022,
           0.4415934415039667,
           0.4715772815126282,
           0.6695001252208089,
           0.5934160487797832,
           0.6319466659983671,
           0.4880088818032522,
           0.8144481104168003,
           0.6058740493326593,
           0.7864270833791762,
           0.38230828283667867,
           0.6657283364248289,
           0.07512476163907388,
           0.31241512329832843,
           0.5678142640009771,
           0.6987704777958721,
           0.5202049113174553,
           0.4796956080800962,
           0.9057768886660886,
           0.3851433510894503,
           0.6309286076787999,
           0.450852685134409,
           0.4973075122753628,
           0.5391811881610101,
           0.6849948965806557,
           0.7613622384458618,
           0.3490120021297733,
           0.6322428511255029,
           0.4580551793630036,
           0.465194733342488,
           0.6338178816971488,
           0.5744007886920006,
           0.5604116856288465,
           0.4531710070713659,
           0.7369919703227188,
           0.4229713078848842,
           0.69300920358103,
           0.7477086693197713,
           0.3628001416809383,
           0.7375404029001575,
           0.6795192077928062,
           0.5217122143644578,
           0.5667964748327188,
           0.6212135105125054,
           0.5892596782086101,
           0.6264363817515622,
           0.3941385398458925,
           0.5832316045878672,
           0.6987704777958721,
           0.44625666654061785,
           0.4736267275300054,
           0.6553591154261498,
           0.30552362799121063,
           0.4266838138087468,
           0.4217922530276164,
           0.6128375038274145,
           0.4892801786318906,
           0.66229870965635,
           0.40982763502826935,
           0.44240828957458,
           0.3623585585809031,
           0.5599914150758433,
           0.3208553831968501,
           0.6796542390260255,
           0.6051396999641143,
           0.6855036304318541,
           0.8514176288473655,
           0.5934960438312681,
           0.6375333862984804,
           0.5454352386697442,
           0.5968458517450551,
           0.40743039974998796,
           0.018917567226111383,
           0.7369919703227188,
           0.5317578163092833,
           0.5565669727879069,
           0.3318741464569221,
           0.5756742184810534,
           0.7132749723642293,
           0.9020629269028732,
           0.6028680667446589,
           0.4935930236405666,
           0.6342271647350888,
           0.6051396999641143,
           0.7586787151629479,
           0.5605579839038146,
           0.628886847980118,
           0,
           0.5410779524977934,
           0.5641289501467455,
           0.5714228015866021,
           0.528835697897188,
           0.6629454343829292,
           0.6811302418484678,
           0.5659712672709434,
           0.4556797785436178,
           0.508731241151298,
           0.4580551793630036,
           0.6716106398358989,
           0.4361554247159955,
           0.6954165190418939,
           0.6849948965806557,
           0.27585436971559085,
           0.5818843588912933,
           0.5086762010384817,
           0.5709001037765814,
           0.7560638708428911,
           0.5037387899485233,
           0.27585436971559085,
           0.5166182130206616,
           0.7560638708428911,
           0.7586787151629479,
           0.7183813423833088,
           0.7523659740980329,
           0.6193668554590288,
           0.4945870774232017,
           0.5448354309231243,
           0.5824605669027118,
           0.3676677098868064,
           0.5839898424155631,
           0.501246444346129,
           0.5638459847801999,
           0.7396843345988899,
           0.4531251786298235,
           0.8327574313141051,
           0.675766803468786,
           0.4629960943720008,
           0.8457688664485438,
           0.7483207030670265,
           0.5158476541694029,
           0.73120804716564,
           0.5971133628313751,
           0.5794403499055678,
           0.6867208337716193,
           0.521672995280826,
           0.6066752783754443,
           0.5107838455984353,
           0.5760441727172667,
           0.6641820579892155,
           0.7825556890402131,
           0.4193202487520501,
           0.5896946052467457,
           0.7483207030670265,
           0.6415251361910892,
           0.5109372583955416,
           0.5584758161805727,
           0.4964062585661814,
           0.4893600464920905,
           0.6954165190418939,
           0.5158476541694029,
           0.6293018056764849,
           0.465194733342488,
           0.657406765298449,
           0.504447582619328,
           0.6978878220170739,
           0.8078768678891759,
           0.7044114066677578,
           0.8095522095461632,
           0.6143455321197779,
           0.5559667894334254,
           0.4565995890497143,
           0.675003400858032,
           0.7394548738996426,
           0.5069333357806574,
           0.6321309130150968,
           0.5995365015445879,
           0.5040063402602203,
           0.5336501394878035,
           0.5379082761316791,
           0.6790118688100006,
           0.6048204319182022,
           0.4227878843722295,
           0.5578578500456283,
           0.8526389322187791,
           0.7476840124550793,
           0.5080366162448481,
           0.566157341575077,
           0.5266460549313882,
           0.4390944564741512,
           0.5017263332686983,
           0.6697261875661445,
           0.4503612608774568,
           0.38783105227273607,
           0.6645599786043399,
           0.452983132099596,
           0.6423581760346339,
           0.6323675939714912,
           0.7004466143862085,
           0.6578831163450102,
           0.7550413499986275,
           0.5071108485113439,
           0.5873322673749817,
           0.34173223003613984,
           0.9290302874411605,
           0.5934160487797832,
           0.4668979601451768,
           0.5738431163226819,
           0.27443294790503525,
           0.6987704777958721,
           0.42338584679609104,
           0.6795192077928062,
           0.5958117467766225,
           0.8259623460213872,
           0.5188067600066829,
           0.4080719105619905,
           0.5288658319660646,
           0.6155041026415558,
           0.4295762228670502,
           0.5103679324691051,
           0.5101921765848437,
           0.6744647047022475,
           0.4183818116338261,
           0.8048388888270448,
           0.38980296682759785,
           0.4988349752579382,
           0.6375333862984804,
           0.4073722805700252,
           0.6119429558981506,
           0.4371937769385019,
           0.7825556890402131,
           0.7541808331304262,
           0.58400755313893,
           0.6251867974682902,
           0.5531048329205209,
           0.7323938630696031,
           0.7613622384458618,
           0.5804813479417901,
           0.7732718477461717,
           0.4689768654395085,
           0.5940475040246616,
           0.5536370861963962,
           0.6061186456969245,
           0.8224328293700504,
           0.5863048446287447,
           0.6098143603684099,
           0.5492829074585028,
           0.4682509114975055,
           0.5743000682773265,
           0.5986364339485454,
           0.6507269244411518,
           0.5419683747338633,
           0.5714228015866021,
           0.6833885166889893,
           0.6487226559769548,
           0.5818843588912933,
           0.6546449746458465,
           0.4420249810973847,
           0.3964552539172961,
           0.6168845440365633,
           0.5107980105115456,
           0.6371812839675844,
           0.6294632451871911,
           0.3606136699677937,
           0.763010513430572,
           0.5223862469570264,
           0.675771369616503,
           0.5143733922961689,
           0.3825466666239224,
           0.6491573882327762,
           0.4912903945147976,
           0.7323938630696031,
           0.8305925064701626,
           0.657406765298449,
           0.4752317762778703,
           0.4808729245840474,
           0.6881460514518386,
           0.7714921495221693,
           0.5991337690974036,
           0.5834430235496894,
           0.6264363817515622,
           0.6044144921616125,
           0.6119339564130707,
           0.7337989404362274,
           0.5557874605581772,
           0.4955565651059908,
           0.6306300375898077,
           0.7068276713044582,
           0.4916950712769936,
           0.5370882970195974,
           0.5692758347457628,
           0.620392055892929,
           0.6954165190418939,
           0.38980296682759785,
           0.490303980373673,
           0.5582453092722094,
           0.9473275066349643,
           0.6297490400005165,
           0.8661710764267913,
           0.5303556678749041,
           0.8224328293700504,
           0.7127448996498358,
           0.5979630872689875,
           0.4670541846660594,
           0.6168963856681389,
           0.4670541846660594,
           0.6898005928001073,
           0.5103679324691051,
           0.5335043143417373,
           0.4517844059541925,
           0.3899028135612178,
           0.6971136627128754,
           0.03604361672910314,
           0.6058804710656306,
           0.5094810273499396,
           0.5205537457116164,
           0.9178639058476192,
           0.479290854130295,
           0.6147555886925882,
           0.5058461446114895,
           0.4080719105619905,
           0.8507282658584009,
           0.7510401261129247,
           0.6155041026415558,
           0.5185012731666873,
           0.5557649996003,
           0.5999446698556915,
           0.5670737301896542,
           0.4598101627513326,
           0.736677413340632,
           0.6231304368786019,
           0.493486473128519,
           0.4752593322596274,
           0.5285279585818009,
           0.8582706777960948,
           0.5870237387492154,
           0.6749138576348833,
           0.5856831498303938,
           0.7385944987679516,
           0.448026304493546,
           0.7262997133847378,
           0.3208553831968501,
           0.5991337690974036,
           0.6415251361910892,
           0.4458586708534961,
           0.247485184161284,
           0.3623585585809031,
           0.5008486917390443,
           0.6069757372185262,
           0.6726805928835387,
           0.6423581760346339,
           0.6148875882171886,
           0.3911088846318064,
           0.6069757372185262,
           0.7337146964873255,
           0.4340223504706253,
           0.5828046937905624,
           0.7323938630696031,
           0.8586774418483041,
           0.4613943598497839,
           0.6855028320873736,
           0.5174805719265905,
           0.5977029042110494,
           0.609896793188508,
           0.6069757372185262,
           0.4753178911770231,
           0.5391115605471758,
           0.7747989187259712,
           0.632592419749175,
           0.6238237678518292,
           0.6716106398358989,
           0.4493236152076617,
           0.5042237768811729,
           0.6721999444118556,
           0.5765687655936937,
           0.3208553831968501,
           0.5326112801685245,
           0.5625972420828771,
           0.618692141580311,
           0.6487185770307602,
           0.5672788711826817,
           0.36072920580223455,
           0.4973075122753628,
           0.5934960438312681,
           0.6408601560517279,
           0.6058804710656306,
           0.507862067492449,
           0.38980296682759785,
           0.7481046721253537,
           0.941896454523691,
           0.6455339964734248,
           0.6322428511255029,
           0.6058804710656306,
           0.5037387899485233,
           0.6358987101801273,
           0.5614646464110922,
           0.441586733214394,
           0.6117711132155927,
           0.73120804716564,
           0.4796207472295076,
           0.5776331497038921,
           0.5412311890070843,
           0.5467275539627645,
           0.4979421060663372,
           0.9290302874411605,
           0.5209330793305875,
           0.5559850526989919,
           0.5809106932332672,
           0.5901310518953434,
           0.4736241237475465,
           0.44625666654061785,
           0.8659700063313627,
           0.7375404029001575,
           0.692655872870637,
           0.3983663543325965,
           0.6342269633902287,
           0.6780088367788917,
           0.480355425324063,
           0.7326603120176098,
           0.9176988844273418,
           0.1536055481454315,
           0.9473275066349643,
           0.7765989678295455,
           0.5737198552868119,
           0.2946779221221197,
           0.6177875891018481,
           0.4844855578502837,
           0.6999247645104929,
           0.4918359590583831,
           0.6375210504152117,
           0.6548608223430427,
           0.5057847627270969,
           0.6061186456969245,
           0.7964195529258091,
           0.5907929571811064,
           0.6850804894726431,
           0.5625972420828771,
           0.4566050599657094,
           0.41424422917234577,
           0.5824605669027118,
           0.5614646464110922,
           0.6876196662345889,
           0.6646909389368294,
           0.38849474840551385,
           0.5418887152726299,
           0.5777733372917061,
           0.5164437797727629,
           0.6413540809343606,
           0.7825556890402131,
           0.366302894628521,
           0.5574602197393447,
           0.6069757372185262,
           0.7042447660376749,
           0.7337989404362274,
           0.450852685134409,
           0.5804813479417901,
           0.6780088367788917,
           0.3628001416809383,
           0.597220852724376,
           0.40132798622497184,
           0.35313557581669314,
           0.5109372583955416,
           0.9290302874411605,
           0.3462368107029975,
           0.5972814779044859,
           0.7829842111650066,
           0.7740371421614921,
           0.6587312783033741,
           0.5109930419063133,
           0.852699664161011,
           0.4265127607348456,
           0.6038391696904002,
           0.6038391696904002,
           0.8148296561331122,
           0.6797935559497998,
           0.6174214066397045,
           0.509512016211504,
           0.4757215667306782,
           0.5726162458211238,
           0.3720519996998456,
           0.7102691666979191,
           0.3704664642915752,
           0.6119339564130707,
           0.6918507365964088,
           0.5134675221364372,
           0.8191322906683809,
           0.5602568284528291,
           0.6395689982408679,
           0.4833885472251881,
           0.5192460362738505,
           0.4211818692788764,
           0.7869212313686974,
           0.480806281832134,
           0.5903603253945124,
           0.37834796858643616,
           0.467583201065844,
           0.5086762010384817,
           0.7326033944243092,
           0.5458034330827527,
           0.3770340851283985,
           0.7225705735101466,
           0.5740535883206119,
           0.6309286076787999,
           0.6686745328613157,
           0.5058471105369804,
           0.6548608223430427,
           0.548585130198109,
           0.5854795397495219,
           0.5861544178630229,
           0.3911088846318064,
           0.5885718420568349,
           0.6575786211982945,
           0.5908187730387471,
           0.4304529611441741,
           0.6740231561759062,
           0.4505621331156311,
           0.4882373664134809,
           0.8474517132179911,
           0.4378895030731797,
           0.6364189476344927,
           0.4905864018711718,
           0.4291271190896086,
           0.5057847627270969,
           0.7127448996498358,
           0.5738431163226819,
           0.4128674880374229,
           0.5217122143644578,
           0.4059239066513581,
           0.6411728176207399,
           0.5951665849900721,
           0.4916950712769936,
           0.8405904383361571,
           0.5986364339485454,
           0.7680042347735891,
           0.6038391696904002,
           0.3006927093846144,
           0.6098078056746834,
           0.39854464486824537,
           0.6018919753027975,
           0.5162738908484137,
           0.5410334266884267,
           0.5513111166062027,
           0.6868116168133814,
           0.5190000723734253,
           0.547684660288279,
           0.4998810748804663,
           0.7326611319120517,
           0.8389243105071171,
           0.4305389074172808,
           0.6242003276351012,
           0.8095522095461632,
           0.6151068464217128,
           0.366302894628521,
           0.6013057514861917,
           0.5828046937905624,
           0.5586019196468579,
           0.32570077099924793,
           0.5271851582563825,
           0.6168963856681389,
           0.8620997665788256,
           0.7863591368360506,
           0.6118014714600088,
           0.6439825914925877,
           0.5237146369702328,
           0.5678142640009771,
           0.5026099859885671,
           0.5070160807186288,
           0.4400424448579729,
           0.5908187730387471,
           0.6182847302514278,
           0.9057768886660886,
           0.6231542839712871,
           0.4258833216131893,
           0.8130130889348834,
           0.437387027789835,
           0.5888271005018058,
           0.7549176454508227,
           0.8526389322187791,
           0.7740371421614921,
           0.6334088994955871,
           0.6726805928835387,
           0.5464602881310222,
           0.5400377489797789,
           0.5082207110634701,
           0.632592419749175,
           0.3941385398458925,
           0.247485184161284,
           0.8405904383361571,
           0.4030952595165577,
           0.36072920580223455,
           0.5344643522287597,
           0.6507269244411518,
           0.7510076200369779,
           0.6079199780130808,
           0.6371812839675844,
           0.5077968849276677,
           0.8424233180669045,
           0.605762456471112,
           0.8788113434931999,
           0.28393322496953244,
           0.4183818116338261,
           0.8507282658584009,
           0.8031054729293065,
           0.5451654411381094,
           0.632592419749175,
           0.6182968439727855,
           0.7429631523413633,
           0.6013057514861917,
           0.7326033944243092,
           0.44566129114396935,
           0.44922215222583023,
           0.69300920358103,
           0.5744007886920006,
           0.69300920358103,
           0.6567597878169679,
           0.5638459847801999,
           0.8224328293700504,
           0.612657823642785,
           0.5883794575165332,
           0.46499431936808794,
           0.5968458517450551,
           0.5370882970195974,
           0.4219604373109945,
           0.5400377489797789,
           0.6168845440365633,
           0.4187014670153261,
           0.5589054138529173,
           0.5580077519194866,
           0.2395649764687328,
           0.5557649996003,
           0.5422777098103807,
           0.5492829074585028,
           0.5914236590704917,
           0.401847574658048,
           0.5908165135922658,
           0.4668979601451768,
           0.7394359972769394,
           0.489610124681079,
           0.5164437797727629,
           0.4802826229748322,
           0.5422327171052012,
           0.5999446698556915,
           0.5199396853210472,
           0.4989461483987589,
           0.5086762010384817,
           0.6599449187584954,
           0.5834430235496894,
           0.4072431195052308,
           0.6155041026415558,
           0.552021062189785,
           0.6285601559358945,
           0.666522676566775,
           0.8224328293700504,
           0.6809412789025515,
           0.5336501394878035,
           0.5903603253945124,
           0.3230089909532323,
           0.4206159723883332,
           0.6335459987503766,
           0.5927973462665315,
           0.5127793382989322,
           0.508731241151298,
           0.6157403530616774,
           0.4859212857211152,
           0.7113800959726605,
           0.3911088846318064,
           0.6118014714600088,
           0.4492417192447203,
           0.561003950198288,
           0.5956609047408887,
           0.8424233180669045,
           0.6051396999641143,
           0.6948025197816848,
           0.6468152527424009,
           0.5724311391250257,
           0.3290240396712813,
           0.3701911650241908,
           0.7102691666979191,
           0.6088248054637592,
           0.6467714140597289,
           0.5045657618752406,
           0.40982763502826935,
           0.4716128101828272,
           0.5202049113174553,
           0.8144481104168003,
           0.7254029207784949,
           0.5892596782086101,
           0.6238237678518292,
           0.6303468086968372,
           0.8251920292669888,
           0.3318741464569221,
           0.4161840812052443,
           0.5794227303571235,
           0.4505621331156311,
           0.3208553831968501,
           0.5559850526989919,
           0.4589544162722026,
           0.4197553662875338,
           0.5314156533692651,
           0.6187314246144202,
           0.5578751684218033,
           0.6051097019148579,
           0.5242713554229456,
           0.5987268408408515,
           0.5955243115852413,
           0.6143455321197779,
           0.4697127655422778,
           0.6971136627128754,
           0.66229870965635,
           0.46238438181123204,
           0.6182847302514278,
           0.6657283364248289,
           0.4725939820200751,
           0.8093237930019529,
           0.9289369261885644,
           0.5027118587787895,
           0.2628502162786072,
           0.4295076717702711,
           0.3373617127147608,
           0.589995161887244,
           0.9251919583106312,
           0.5948666454751887,
           0.6118014714600088,
           0.5094732765545044,
           0.5412311890070843,
           0.446151504890836,
           0.620392055892929,
           0.7068276713044582,
           0.6626702064875899,
           0.5783026051343632,
           0.4800889046086781,
           0.4161410224693502,
           0.3208553831968501,
           0.4629960943720008,
           0.4351050613097062,
           0.6811302418484678,
           0.5138327810323408,
           0.8514176288473655,
           0.6098197611515211,
           0.6919564731425232,
           0.7740371421614921,
           0.5458666086016136,
           0.5003993096971188,
           0.6013057514861917,
           0.6098197611515211,
           0.35449610815774923,
           0.6850804894726431,
           0.5830496125438399,
           0.758299703809623,
           0.5570261643754362,
           0.6454264992871335,
           0.4962447366055298,
           0.5758447565611612,
           0.6439825914925877,
           0.4169093940337384,
           0.5109930419063133,
           0.5080586129066689,
           0.5196863132705067,
           0.4962447366055298,
           0.6868116168133814,
           0.5344643522287597,
           0.3490120021297733,
           0.4698953091896986,
           0.5343922941001787,
           0.8582706777960948,
           0.4257399781307055,
           0.4782321537543795,
           0.556997727619772,
           0.6377721594176248,
           0.4792180009110565,
           0.5672788711826817,
           0.78041270983109,
           0.5017263332686983,
           0.4988349736322038,
           0.5902437967911479,
           0.4238782844855937,
           0.620980305119837,
           0.4219604373109945,
           0.5034672212029974,
           0.3757368868593704,
           0.6364236449500698,
           0.4670541846660594,
           0.7825556890402131,
           0.3701911650241908,
           0.4908979883911509,
           0.6342269633902287,
           0.5846337906365346,
           0.5129615158228926,
           0.8404096621543771,
           0.5776126610118469,
           0.4798646797866982,
           0.5851791212957991,
           0.40156680946575457,
           0.4716826864392595,
           0.8474517132179911,
           0.44467787058254815,
           0.3462368107029975,
           0.6321309130150968,
           0.5285279585818009,
           0.3230089909532323,
           0.8873860805964897,
           0.632592419749175,
           0.8659700129382968,
           0.8627954137489581,
           0.8405904383361571,
           0.4830746401906156,
           0.5760441727172667,
           0.6400483571565447,
           0.6792921844437226,
           0.6193668554590288,
           0.5659712672709434,
           0.41051125126272064,
           0.7864270833791762,
           0.3822806895959408,
           0.6010690522149722,
           0.6455339964734248,
           0.5724708877839468,
           0.5888271005018058,
           0.5136323025791891,
           0.3820824048277188,
           0.6073269822745797,
           0.5966423960408724,
           0.6422807694263776,
           0.4947711421696343,
           0.5580077519194866,
           0.6231542839712871,
           0.16485330120346647,
           0.5856831498303938,
           0.4697476242898995,
           0.5580077519194866,
           0.4869574294169298,
           0.4317070357171253,
           0.5977948593550263,
           0.545348354241224,
           0.518479124800566,
           0.8457688664485438,
           0.6177875891018481,
           0.7337146964873255,
           0.5356554665104188,
           0.3941385398458925,
           0.4707539315730727,
           0.5791375354749423,
           0.6069757372185262,
           0.6273614470848322,
           0.5639220884860754,
           0.8457688664485438,
           0.6328520165748289,
           0.5209330793305875,
           0.7326033944243092,
           0.4161410224693502,
           0.495009787504105,
           0.4955022071031012,
           0.8878671463063438,
           0.5287500603890649,
           0.8992795990782162,
           0.6238237678518292,
           0.5756742184810534,
           0.5582814874044351,
           0.6128586541080373,
           0.3155796703922896,
           0.6165660806589699,
           0.41424422917234577,
           0.3911088846318064,
           0.8305925064701626,
           0.44467787058254815,
           0.467413843769302,
           0.4522499859812351,
           0.7830371095483493,
           0.6444436096161589,
           0.5071108485113439,
           0.4837627320098979,
           0.8327574313141051,
           0.4967946278510438,
           0.4662622096456242,
           0.4283002673559493,
           0.508731241151298,
           0.6815813054346181,
           0.529379509181369,
           0.9057768886660886,
           0.9473275066349643,
           0.6415251361910892,
           0.5963498543267984,
           0.5336501394878035,
           0.5291866135999482,
           0.8514176288473655,
           0.5854795397495219,
           0.3867161753601155,
           0.5818843588912933,
           0.736677413340632,
           0.6122004289215379,
           0.5410779524977934,
           0.5090212610591779,
           0.5726219435848797,
           0.6048204319182022,
           0.5190000723734253,
           0.7044114702369764,
           0.7188102099645777,
           0.5991337690974036,
           0.5792730416866078,
           0.6119339564130707,
           0.5335043143417373,
           0.4919107714041727,
           0.2675763211334449,
           0.7728719945919372,
           0.452983132099596,
           0.5472309377780379,
           0.5438663024727286,
           0.5995365015445879,
           0.4211818692788764,
           0.4439571069043457,
           0.4858279673478768,
           0.7337146964873255,
           0.6321309130150968,
           0.7004466143862085,
           0.6377721594176248,
           0.5666616579558601,
           0.8514176288473655,
           0.6507269244411518,
           0.5838738827923154,
           0.5666616579558601,
           0.5013371622205839,
           0.4715772815126282,
           0.9178639058476192,
           0.6987704777958721,
           0.5889595718963023,
           0.528835697897188,
           0.8305925064701626,
           0.6591394768219538,
           0.4219604373109945,
           0.3825466666239224,
           0.4421961405235597,
           0.5103679324691051,
           0.4585325936100983,
           0.5022450227955548,
           0.4117890700534452,
           0.5109930419063133,
           0.5903603253945124,
           0.3770340851283985,
           0.6411728176207399,
           0.6242524993308587,
           0.5557649996003,
           0.5196863132705067,
           0.552021062189785,
           0.7680042347735891,
           0.6251867974682902,
           0.7964200437732492,
           0.5724708877839468,
           0.4767486481602734,
           0.6242524993308587,
           0.6422807694263776,
           0.5991337690974036,
           0.4989916727547925,
           0.3489203563494867,
           0.6423581760346339,
           0.7002085179776782,
           0.5888271005018058,
           0.8200724177064315,
           0.6897930711489744,
           0.5187439585798745,
           0.36072920580223455,
           0.7183813423833088,
           0.6932584876312344,
           0.5590884691695681,
           0.4543015602419648,
           0.5410334266884267,
           0.6142758429530866,
           0.4280400406701058,
           0.6334088994955871,
           0.5599914150758433,
           0.4211818692788764,
           0.536546301483389,
           0.548585130198109,
           0.5179684456721637,
           0.6216169217184164,
           0.5760441727172667,
           0.5934960438312681,
           0.8119530400982676,
           0.5358226097777689,
           0.6174214066397045,
           0.4449212499177607,
           0.366302894628521,
           0.7370012768920197,
           0.6313365042114676,
           0.42338584679609104,
           0.6231542839712871,
           0.5144257731669367,
           0.7011808736075507,
           0.4597971288376104,
           0.7890980315056719,
           0.7456251877421854,
           0.6408601560517279,
           0.7052054033286036,
           0.4059239066513581,
           0.736677413340632,
           0.5410334266884267,
           0.5371312593111861,
           0.612657823642785,
           0.5303556678749041,
           0.4393252106492709,
           0.5536370861963962,
           0.6106323381224215,
           0.4582043919097577,
           0.5466465034851766,
           0.6231542839712871,
           0.5013371622205839,
           0.6072601288303907,
           0.4748294068932669,
           0.4668979601451768,
           0.5986364339485454,
           0.4310149634086798,
           0.6168845440365633,
           0.4068019969695495,
           0.5982371324954726,
           0.5371605629718418,
           0.5558842865109518,
           0.5293865344191813,
           0.5236534084935914,
           0.5700167028852964,
           0.4882373664134809,
           0.4371937769385019,
           0.5447494894552873,
           0.3867161753601155,
           0.6281213400288287,
           0.7613622384458618,
           0.8504301034176978,
           0.5159893302977827,
           0.3622103246354881,
           0.4321364774207179,
           0.5455990200290305,
           0.4420305132891076,
           0.6626702064875899,
           0.4736241237475465,
           0.5205537457116164,
           0.5828031912881204,
           0.8278537698666787,
           0.5080366162448481,
           0.4266838138087468,
           0.8148296561331122,
           0.291433259678306,
           0.5253329136601428,
           0.586950621729773,
           0.5796145596913875,
           0.5344643522287597,
           0.5458666086016136,
           0.758299703809623,
           0.6397235861114385,
           0.5101921765848437,
           0.5574602197393447,
           0.5134675221364372,
           0.4505594250305155,
           0.32570077099924793,
           0.5614646464110922,
           0.5189128119166423,
           0.6231542839712871,
           0.46499431936808794,
           0.6048204319182022,
           0.5978791921376633,
           0.6228901803498007,
           0.5589162440267129,
           0.6354834550741343,
           0.5493956187351183,
           0.7409688937851947,
           0.3628001416809383,
           0.5231612936258231,
           0.8736271743351188,
           0.8768298777499862,
           0.5772285027779873,
           0.4313930950644988,
           0.5419683747338633,
           0.5995365015445879,
           0.6310812836244424,
           0.6578701556233562,
           0.7042447660376749,
           0.8148296561331122,
           0.5896946052467457,
           0.5027118587787895,
           0.6104277251451776,
           0.6657283364248289,
           0.6695001252208089,
           0.5158476541694029,
           0.5578751684218033,
           0.4967946278510438,
           0.4533504433363325,
           0.541122639292241,
           0.5374253114214363,
           0.47189487551491605,
           0.6335459987503766,
           0.8992795990782162,
           0.6948025197816848,
           0.6990357550545981,
           0.4283002673559493,
           0.4955565651059908,
           0.6833410359778677,
           0.4828052476468271,
           0.6780088367788917,
           0.8327574313141051,
           0.6495831072184148,
           0.4855204954111083,
           0.4275912605802422,
           0.6212017484050729,
           0.4323864772977878,
           0.8627954137489581,
           0.7560638708428911,
           0.8768298777499862,
           0.8093237930019529,
           0.5818843588912933,
           0.6645599786043399,
           0.7724713126740976,
           0.6301073216146793,
           0.5995365015445879,
           0.5460293650803792,
           0.6933279789975069,
           0.5574602197393447,
           0.5140642764185136,
           0.35204283826895044,
           0.6129531542390639,
           0.6303468086968372,
           0.6212135105125054,
           0.7864270833791762,
           0.5660139535453025,
           0.5044248560333591,
           0.7014417589824127,
           0.6906262561196315,
           0.501801129725174,
           0.4153541259748368,
           0.5735273126132847,
           0.4220193211005218,
           0.407849996596646,
           0.6918008497694178,
           0.5726219435848797,
           0.4790234097367525,
           0.5893145017348558,
           0.4458546313595108,
           0.3600311664643514,
           0.5027831006782288,
           0.6695001252208089,
           0.5772285027779873,
           0.6205413817053209,
           0.6646909389368294,
           0.8218442551240023,
           0.5492829074585028,
           0.4743290196991857,
           0.5057847627270969,
           0.5832986299963719,
           0.6038391696904002,
           0.7732718477461717,
           0.6051097019148579,
           0.6010690522149722,
           0.5328453025595845,
           0.666522676566775,
           0.5693296873667095,
           0.4258833216131893,
           0.4844091226249884,
           0.6375210504152117,
           0.8106969830715695,
           0.4748294068932669,
           0.8582706777960948,
           0.401847574658048,
           0.5856831498303938,
           0.7410404327961191,
           0.4506459971150351,
           0.3751956643218792,
           0.4234013772561962,
           0.8327574313141051,
           0.8105062052254818,
           0.7113800959726605,
           0.464807726203793,
           0.6744647047022475,
           0.4001520968206114,
           0.6058804710656306,
           0.4637917070302043,
           0.5892596782086101,
           0.448026304493546,
           0.6430161439406239,
           0.5005069651416891,
           0.7708136516700133,
           0.4292353435277252,
           0.5086762010384817,
           0.6394369488218412,
           0.7014417589824127,
           0.5086762010384817,
           0.5999351719472565,
           0.6290898140356321,
           0.3643453511681014,
           0.3600311664643514,
           0.6038391696904002,
           0.5660139535453025,
           0.4524005818708859,
           0.7864270833791762,
           0.6038391696904002,
           0.6069757372185262,
           0.3911088846318064,
           0.5343922941001787,
           0.8251920292669888,
           0.4898162689820407,
           0.6645599786043399,
           0.5252273355598288,
           0.5258694370949799,
           0.8457688664485438,
           0.5830496125438399,
           0.6424529506012729,
           0.8218442551240023,
           0.4229713078848842,
           0.4716826864392595,
           0.4662622096456242,
           0.6587312783033741,
           0.4285161504605869,
           0.5756865010660667,
           0.4989461483987589,
           0.6868116168133814,
           0.6740882974878903,
           0.7323937065230082,
           0.7510401261129247,
           0.4719290516914586,
           0.6721999444118556,
           0.6780088367788917,
           0.6495831072184148,
           0.5854340097196036,
           0.6447333061973751,
           0.8327574313141051,
           0.612657823642785,
           0.3825466666239224,
           0.5889595718963023,
           0.44625666654061785,
           0.6454264992871335,
           0.5590884691695681,
           0.8768299271821302,
           0.7014417589824127,
           0.478119091290754,
           0.6546449746458465,
           0.5017255340097071,
           0.4767486481602734,
           0.5775327466836254,
           0.6118014714600088,
           0.7869212313686974,
           0.2593749084637633,
           0.5902437967911479,
           0.7184007690058051,
           0.78041270983109,
           0.6073269822745797,
           0.5379505190876106,
           0.7963203781664332,
           0.7549176454508227,
           0.5447494894552873,
           0.5625972420828771,
           0.7410404327961191,
           0.3292364989297267,
           0.6833410359778677,
           0.3317821992100117,
           0.5710468193879703,
           0.6069757372185262,
           0.5237146369702328,
           0.7113800959726605,
           0.5013371622205839,
           0.6849948965806557,
           0.5120253147594293,
           0.5247476085525501,
           0.5464602881310222,
           0.5896946052467457,
           0.6069757372185262,
           0.5896946052467457,
           0.3628001416809383,
           0.5617448040205617,
           0.6190077196111018,
           0.6695001252208089,
           0.4199431484349393,
           0.5196863132705067,
           0.4207172587460705,
           0.7732718477461717,
           0.3004990465562955,
           0.6757713674141217,
           0.6867208337716193,
           0.4790234097367525,
           0.5037387899485233,
           0.4517844059541925,
           0.4248494750197992,
           0.5816918614031427,
           0.6155041026415558,
           0.7728719945919372,
           0.38980296682759785,
           0.4916510524511258,
           0.5335043143417373,
           0.6238237678518292,
           0.4893600464920905,
           0.5462530728517105,
           0.5735273126132847,
           0.3416959130760625,
           0.5003899591946774,
           0.6413540809343606,
           0.5948666454751887,
           0.6810906917425594,
           0.4238782844855937,
           0.5959966284893823,
           0.5458666086016136,
           0.5391115605471758,
           0.6047793026785834,
           0.4908979883911509,
           0.5901310518953434,
           0.8220349621993864,
           0.5832986299963719,
           0.4458546313595108,
           0.6983882645342994,
           0.8879204501926365,
           0.6833410359778677,
           0.6235016600579499,
           0.6117711132155927,
           0.7337989404362274,
           0.7142014472093124,
           0.5164437797727629,
           0.6423553254367379,
           0.6823206111515216,
           0.5756922986571801,
           0.5570261643754362,
           0.3770340851283985,
           0.5614646464110922,
           0.5524167322191708,
           0.4682509114975055,
           0.5067763304136886,
           0.6010690522149722,
           0.5700167028852964,
           0.5794227303571235,
           0.6231304368786019,
           0.6323675939714912,
           0.4457727477600304,
           0.7370012768920197,
           0.6726805928835387,
           0.8130130889348834,
           0.6742960860783537,
           0.760636111943095,
           0.36072920580223455,
           0.7429631523413633,
           0.4675699664299343,
           0.5578751684218033,
           0.6128586541080373,
           0.200729608076517,
           0.5008486917390443,
           0.6247237675785525,
           0.4675699664299343,
           0.7541808331304262,
           0.4793726629734222,
           0.550752434792912,
           0.6377721594176248,
           0.6285601559358945,
           0.3230089909532323,
           0.4882373664134809,
           0.4905864018711718,
           0.6881460514518386,
           0.5794241084560094,
           0.9115996573812846,
           0.775797362701256,
           0.4449212499177607,
           0.5971133628313751,
           0.6321309130150968,
           0.5908165135922658,
           0.6591394768219538,
           0.4581795599988927,
           0.7754945075880668,
           0.8218442551240023,
           0.4973075122753628,
           0.566157341575077,
           0.8148296561331122,
           0.6182847302514278,
           0.5199396853210472,
           0.5458666086016136,
           0.5266460549313882,
           0.4998810748804663,
           0.4001520968206114,
           0.5493956187351183,
           0.5199396853210472,
           0.6479336219623286,
           0.3230089909532323,
           0.6525086437067091,
           0.6301073216146793,
           0.6174214066397045,
           0.674288836752463,
           0.5045657618752406,
           0.4282526542672777,
           0.5320695697982138,
           0.47189487551491605,
           0.6397235861114385,
           0.7225705735101466,
           0.5285279585818009,
           0.6128375038274145,
           0.5772285027779873,
           0.6634009273844678,
           0.656020324257448,
           0.5934960438312681,
           0.6044144921616125,
           0.5057847627270969,
           0.5586612322397551,
           0.6135980572608721,
           0.6301073216146793,
           0.6069757372185262,
           0.5724708877839468,
           0.3230089909532323,
           0.6401515444659934,
           0.6948025197816848,
           0.3867161753601155,
           0.8037219349782518,
           0.8526389322187791,
           0.4887418658569618,
           0.6129531542390639,
           0.8169981890795497,
           0.6439825914925877,
           0.5262845426581672,
           0.495009787504105,
           0.6328520165748289,
           0.5116634453722071,
           0.5902437967911479,
           0.6948025197816848,
           0.5856831498303938,
           0.38849474840551385,
           0.6401515444659934,
           0.6247237675785525,
           0.6495831072184148,
           0.6168845440365633,
           0.4234013772561962,
           0.4214213026125716,
           0.6242524993308587,
           0.6548608223430427,
           0.6477690631022126,
           0.4068019969695495,
           0.8586774418483041,
           0.5103679324691051,
           0.6297490400005165,
           0.5430611433753401,
           0.7177627022534055,
           0.7068276713044582,
           0.476606779607061,
           0.7864270833791762,
           0.6024664761030897,
           0.6602256811638825,
           0.7014417589824127,
           0.6098197611515211,
           0.3209746661444103,
           0.6999247645104929,
           0.5744007886920006,
           0.5082188855205949,
           0.4503612608774568,
           0.6279174684114319,
           0.3569906982225354,
           0.5303556678749041,
           0.4342720374495127,
           0.4211436512288945,
           0.6634009273844678,
           0.9178639058476192,
           0.4386446981737605,
           0.4580551793630036,
           0.5492829074585028,
           0.5760441727172667,
           0.4962447366055298,
           0.6567597878169679,
           0.4804019702957005,
           0.5818843588912933,
           0.6273614470848322,
           0.6821012817114168,
           0.4736241237475465,
           0.4161410224693502,
           0.5554956027898659,
           0.7825556890402131,
           0.09341320290446946,
           0.6744647047022475,
           0.5963498543267984,
           0.4706154005905156,
           0.3784085580880031,
           0.5336501394878035,
           0.775797362701256,
           0.5074306290551038,
           0.4987584081140403,
           0.5834430235496894,
           0.9473275066349643,
           0.5580077519194866,
           0.3600311664643514,
           0.5965011880976211,
           0.8627954137489581,
           0.6334088994955871,
           0.6478348400058205,
           0.4161410224693502,
           0.3949625000942707,
           0.6073269822745797,
           0.5202049113174553,
           0.7964200437732492,
           0.73120804716564,
           0.675003400858032,
           0.1135429332778124,
           0.4229713078848842,
           0.5454352386697442,
           0.5179684456721637,
           0.6321309130150968,
           0.9178639058476192,
           0.5492829074585028,
           0.42729829264388397,
           0.7765989678295455,
           0.4258833216131893,
           0.5513111166062027,
           0.8119530400982676,
           0.6364236449500698,
           0.5709001037765814,
           0.7732718477461717,
           0.6166981923598915,
           0.5824316192408382,
           0.5400377489797789,
           0.7964200437732492,
           0.4400424448579729,
           0.7963203781664332,
           0.7483207030670265,
           0.4965930646067649,
           0.535712478985484,
           0.5869483184078249,
           0.5817531364935757,
           0.4506459971150351,
           0.4193202487520501,
           0.6883324837888457,
           0.8507899885550886,
           0.6683706115518646,
           0.5599914150758433,
           0.6495831072184148,
           0.9089842956402568,
           0.5914285519642304,
           0.3198683241789517,
           0.37834796858643616,
           0.42338584679609104,
           0.763010513430572,
           0.5854795397495219,
           0.3872425947084871,
           0.6143455321197779,
           0.5040063402602203,
           0.4651246335882435,
           0.1041869865719754,
           0.5202049113174553,
           0.6242524993308587,
           0.4651246335882435,
           0.6933279789975069,
           0.5830496125438399,
           0.4941316521876462,
           0.5022450227955548,
           0.604282094145912,
           0.4858279673478768,
           0.4897124364921915,
           0.8105062052254818,
           0.5370882970195974,
           0.6422807694263776,
           0.5781036297198625,
           0.6022640474274863,
           0.6715962698483039,
           0.5737198552868119,
           0.7483207030670265,
           0.4880088818032522,
           0.5814752192996689,
           0.9339161063701852,
           0.7964198043707423,
           0.7492177930489549,
           0.5174805719265905,
           0.5490129517735902,
           0.4499245409212633,
           0.5756922986571801,
           0.5766453163671337,
           0.3230089909532323,
           0.8211214313364393,
           0.7044114066677578,
           0.39840082036642216,
           0.4217922530276164,
           0.4258833216131893,
           0.5171862417196517,
           0.3208553831968501,
           0.4458546313595108,
           0.8235482530215249,
           0.4697881611224668,
           0.4921993313336216,
           0.8586774418483041,
           0.5086762010384817,
           0.6129531542390639,
           0.6578262934725394,
           0.5908850701591912,
           0.6479330840935879,
           0.8879204501926365,
           0.5513111166062027,
           0.5336595943709138,
           0.9339161063701852,
           0.3911088846318064,
           0.34173223003613984,
           0.7754945075880668,
           0.9349352673982084,
           0.5889385097500909,
           0.6069757372185262,
           0.5559850526989919,
           0.3208553831968501,
           0.478119091290754,
           0.5986364339485454,
           0.5856831498303938,
           0.5419683747338633,
           0.5209330793305875,
           0.6176086939874837,
           0.3230089909532323,
           0.4497592459723694,
           0.5694255788316922,
           0.8130130889348834,
           0.7510076200369779,
           0.5473251469716055,
           0.6251867974682902,
           0.7326033944243092,
           0.6104277251451776,
           0.8218442551240023,
           0.5296806732679338,
           0.5896946052467457,
           0.757801082321389,
           0.5344643522287597,
           0.6797935559497998,
           0.7728719945919372,
           0.5474853014247726,
           0.6182968439727855,
           0.5473251469716055,
           0.5300303136186575,
           0.5733867241175619,
           0.8259623460213872,
           0.8048388888270448,
           0.5934960438312681,
           0.031013498945186273,
           0.6293018056764849,
           0.7765989678295455,
           0.6334023422021283,
           0.4796207472295076,
           0.5099846245869376,
           0.7510401261129247,
           0.3462368107029975,
           0.4080719105619905,
           0.4859212857211152,
           0.5174805719265905,
           0.6898005928001073,
           0.5103679324691051,
           0.5934202959088998,
           0.5735273126132847,
           0.5705069361959879,
           0.37834796858643616,
           0.3988463194994709,
           0.5893145017348558,
           0.6987704777958721,
           0.675771369616503,
           0.5738431163226819,
           0.4068019969695495,
           0.7708726497375289,
           0.5743000682773265,
           0.6168963856681389,
           0.7740371421614921,
           0.489610124681079,
           0.5328453025595845,
           0.9289369261885644,
           0.44567042145891583,
           0.7549176454508227,
           0.4234013772561962,
           0.3707036035190023,
           0.69300920358103,
           0.38675340602213376,
           0.4647794403925874,
           0.8278537698666787,
           0.632592419749175,
           0.477823317117988,
           0.625762202039171,
           0.3318281980383094,
           0.40743039974998796,
           0.6415251361910892,
           0.441586733214394,
           0.5099813426515611,
           0.6821012817114168,
           0.4325296591938823,
           0.7044114066677578,
           0.5582453092722094,
           0.4707539315730727,
           0.8411364060109523,
           0.6768695968686913,
           0.5306308092970305,
           0.36072920580223455,
           0.5876306799560501,
           0.6048204319182022,
           0.4916950712769936,
           0.6347645563707436,
           0.6918507365964088,
           0.4282526542672777,
           0.4962447366055298,
           0.5514273069399679,
           0.8627954137489581,
           0.6752039969673187,
           0.4543015602419648,
           0.5018901258701728,
           0.5244356686431549,
           0.4568528460208728,
           0.7476840758686324,
           0.04284826550368848,
           0.5372882980689405,
           0.5759827021457528,
           0.5053782030752867,
           0.7829842111650066,
           0.439663710601362,
           0.5772285027779873,
           0.639396479556684,
           0.510577267623518,
           0.7759461836753431,
           0.4689768654395085,
           0.4217922530276164,
           0.4193202487520501,
           0.6394369488218412,
           0.479290854130295,
           0.6251867974682902,
           0.6166981923598915,
           0.7869212313686974,
           0.3863629122442042,
           0.4804019702957005,
           0.7337989404362274,
           0.9290302874411605,
           0.5164437797727629,
           0.4265127607348456,
           0.775797362701256,
           0.491071814191768,
           0.473899746110861,
           0.5441619954057879,
           0.5641289501467455,
           0.36072920580223455,
           0.8627954137489581,
           0.35449610815774923,
           0.4128674880374229,
           0.7188102099645777,
           0.4242028280284693,
           0.6683706115518646,
           0.6323675939714912,
           0.6091238748175969,
           0.6454264992871335,
           0.566157341575077,
           0.760636111943095,
           0.5856101413317212,
           0.448026304493546,
           0.7483207030670265,
           0.4503612608774568,
           0.8030873549481594,
           0.4676204762159618,
           0.5694777572890569,
           0.7188102099645777,
           0.5174805719265905,
           0.6098197611515211,
           0.6697261875661445,
           0.5154556541589456,
           0.6495831072184148,
           0.4219604373109945,
           0.4942690545534672,
           0.8070434798589495,
           0.5791375354749423,
           0.6069757372185262,
           0.6129531542390639,
           0.6533406926626858,
           0.40743039974998796,
           0.9473275066349643,
           0.6247237675785525,
           0.7613622384458618,
           0.5374253096699335,
           0.5659712672709434,
           0.5816918614031427,
           0.6855028320873736,
           0.5187439585798745,
           0.6088248054637592,
           0.4183818116338261,
           0.8474517132179911,
           0.5237146369702328,
           0.6811302418484678,
           0.7740371421614921,
           0.4280616593723022,
           0.7512163478343338,
           0.7448443772694037,
           0.5901310518953434,
           0.6790118688100006,
           0.5158476541694029,
           0.604282094145912,
           0.4342720374495127,
           0.4234013772561962,
           0.6306300375898077,
           0.5667964748327188,
           0.9089842956402568,
           0.3880961909577584,
           0.6032689215608122,
           0.6610801676039384,
           0.6898005928001073,
           0.7978900102192453,
           0.4803771527410844,
           0.6088248054637592,
           0.4517844059541925,
           0.1135429332778124,
           0.8220349621993864,
           0.5130813777205246,
           0.7326033944243092,
           0.5531048329205209,
           0,
           0.4699919632120788,
           0.7113800959726605,
           0.7014417589824127,
           0.4880088818032522,
           0.5751917687532937,
           0.5776331497038921,
           0.6148875882171886,
           0.6069253585317187,
           0.5564100130893208,
           0.6051097019148579,
           0.3701911650241908,
           0.6174733248277471,
           0.4815952124852683,
           0.763010513430572,
           0.5438663024727286,
           0.502942306735046,
           0.4190837765958047,
           0.3741029820954381,
           0.4962447366055298,
           0.640720629480798,
           0.8736271743351188,
           0.4058059511016805,
           0.6281025772725769,
           0.9089842956402568,
           0.5672788711826817,
           0.5044248560333591,
           0.13348932953859066,
           0.5285096781804877,
           0.3872425947084871,
           0.5034672212029974,
           0.4556797785436178,
           0.6811302418484678,
           0.5531048329205209,
           0.7830371095483493,
           0.6394369488218412,
           0.450821298261678,
           0.4589544162722026,
           0.5758447565611612,
           0.44316239759770826,
           0.3911088846318064,
           0.4234013772561962,
           0.3490120021297733,
           0.7781427230551999,
           0.6342269633902287,
           0.8095522095461632,
           0.4670541846660594,
           0.4859212857211152,
           0.528835697897188,
           0.5236534084935914,
           0.8563174271993809,
           0.5343922941001787,
           0.30552362799121063,
           0.4183993103634775,
           0.4998810748804663,
           0.760636111943095,
           0.5466465034851766,
           0.4828052476468271,
           0.6599449187584954,
           0.6111718220586841,
           0.8144481104168003,
           0.6749188161079736,
           0.6013057514861917,
           0.4957969321350518,
           0.8218442551240023,
           0.5574602197393447,
           0.6142617638576565,
           0.5797145839298071,
           0.9473275066349643,
           0.4597971288376104,
           0.6176086939874837,
           0.5344643522287597,
           0.5599914150758433,
           0.5019211636507392,
           0.4070193134633718,
           0.5744007886920006,
           0.4059239066513581,
           0.6294632451871911,
           0.612657823642785,
           0.618692141580311,
           0.8873860805964897,
           0.4815952124852683,
           0.6790118688100006,
           0.5589054138529173,
           0.5058471105369804,
           0.5236534084935914,
           0.620379479284656,
           0.6430166662617105,
           0.7188102099645777,
           0.5972814779044859,
           0.450852685134409,
           0.7011187444188275,
           0.5586792493895179,
           0.5958117467766225,
           0.5903603253945124,
           0.6358987101801273,
           0.5968458517450551,
           0.5134675221364372,
           0.5719267307972329,
           0.6320417540294726,
           0.4716128101828272,
           0.5804813479417901,
           0.28140936661502425,
           0.8235482530215249,
           0.4254172965194867,
           0.9339161063701852,
           0.5458034330827527,
           0.6238237678518292,
           0.561003950198288,
           0.6135980572608721,
           0.4697881611224668,
           0.4973075122753628,
           0.9514878179609624,
           0.4859212857211152,
           0.6610801676039384,
           0.4152871818587685,
           0.4670541846660594,
           0.7385944987679516,
           0.4738039250123142,
           0.4998810748804663,
           0.5608298024409907,
           0.4399936927978003,
           0.7765989678295455,
           0.4865626432023736,
           0.4892801786318906,
           0.4393252106492709,
           0.35676303470686155,
           0.8070434798589495,
           0.9339161063701852,
           0.7865294756459085,
           0.5764517043575037,
           0.6811302418484678,
           0.7963203781664332,
           0.620379479284656,
           0.4598101627513326,
           0.5138327810323408,
           0.5189128119166423,
           0.8278537698666787,
           0.4955022071031012,
           0.4998810748804663,
           0.6918507365964088,
           0.40982763502826935,
           0.8659700063313627,
           0.69300920358103,
           0.6883324837888457,
           0.6207095414420035,
           0.7226104115222189,
           0.675003400858032,
           0.7127448996498358,
           0.9057768886660886,
           0.6987704777958721,
           0.4400424448579729,
           0.5344643522287597,
           0.4991251154004301,
           0.6174733248277471,
           0.5796145596913875,
           0.8105062052254818,
           0.6051097019148579,
           0.4128674880374229,
           0.6413540809343606,
           0.8360393532787289,
           0.7490298749983422,
           0.5481087739449281,
           0.6548608223430427,
           0.467583201065844,
           0.4399936927978003,
           0.6835250649823107,
           0.6469227250825073,
           0.6294632451871911,
           0.6119339564130707,
           0.6825080097605217,
           0.450625272163471,
           0.5834430235496894,
           0.479290854130295,
           0.6394369488218412,
           0.4390944564741512,
           0.7038238898664649,
           0.36072920580223455,
           0.7483207030670265,
           0.5174805719265905,
           0.5818843588912933,
           0.5473251469716055,
           0.6047793026785834,
           0.5467275539627645,
           0.5107980105115456,
           0.4642109832508296,
           0.4234013772561962,
           0.4506459971150351,
           0.6583492153531787,
           0.4004543946434404,
           0.5994647627472443,
           0.5568076547647589,
           0.6000915236898566,
           0.7429631523413633,
           0.8879204501926365,
           0.9178639058476192,
           0.6770166962147779,
           0.4613943598497839,
           0.5422327171052012,
           0.6906262561196315,
           0.6971136627128754,
           0.5454352386697442,
           0.7046829515331289,
           0.5724708877839468,
           0.6838450066083304,
           0.666522676566775,
           0.4283002673559493,
           0.5438663024727286,
           0.4668979601451768,
           0.7318390138424373,
           0.4566050599657094,
           0.4031036593819146,
           0.5794398489780221,
           0.8405904383361571,
           0.8130130889348834,
           0.6236376236400831,
           0.8037219349782518,
           0.5995365015445879,
           0.4031036593819146,
           0.8992795990782162,
           0.4531710070713659,
           0.4719290516914586,
           0.5285279585818009,
           0.5103948065682661,
           0.6821012817114168,
           0.4458586708534961,
           0.9089842956402568,
           0.3825466666239224,
           0.6364236449500698,
           0.6415251361910892,
           0.5971133628313751,
           0.5856831498303938,
           0.8130130889348834,
           0.7483207030670265,
           0.35908199343880004,
           0.6052783033175688,
           0.5694777572890569,
           0.38980296682759785,
           0.5707044692696098,
           0.5074220246144049,
           0.6000915236898566,
           0.5963498543267984,
           0.5824605669027118,
           0.6693715019351177,
           0.06719852768364347,
           0.4964367959139354,
           0.5916020057286843,
           0.5893145017348558,
           0.507862067492449,
           0.6822685345511467,
           0.6104277251451776,
           0.5889385097500909,
           0.5296806732679338,
           0.5832908241349808,
           0.4568528460208728,
           0.8457688664485438,
           0.5964151206634225,
           0.46499431936808794,
           0.5262845426581672,
           0.6876196662345889,
           0.5766453163671337,
           0.4871408009458939,
           0.6247237675785525,
           0.6213619102466308,
           0.5003993096971188,
           0.4929157764573099,
           0.4858555956731805,
           0.5971133628313751,
           0.450625272163471,
           0.5358226097777689,
           0.531728128302305,
           0.5304210281378959,
           0.6411728176207399,
           0.7830371095483493,
           0.5138327810323408,
           0.4792180009110565,
           0.8048388888270448,
           0.6313365042114676,
           0.4371937769385019,
           0.3632371224762683,
           0.6128586541080373,
           0.5524167322191708,
           0.548585130198109,
           0.4779630135082117,
           0.5856831498303938,
           0.3676807451512633,
           0.5039123733252647,
           0.5999351719472565,
           0.5493956187351183,
           0.5756922986571801,
           0.656364988285838,
           0.3763772647569161,
           0.6716106398358989,
           0.5743000682773265,
           0.5451654411381094,
           0.8169981890795497,
           0.448026304493546,
           0.4878719324655712,
           0.44211120027219936,
           0.7728719945919372,
           0.9089842956402568,
           0.6850804894726431,
           0.5889385097500909,
           0.8220349621993864,
           0.4779630135082117,
           0.5765230991158408,
           0.6821012817114168,
           0.5986364339485454,
           0.5781036297198625,
           0.6415251361910892,
           0.4983370819045986,
           0.5303556678749041,
           0.8405904383361571,
           0.5693599059622848,
           0.5017263332686983,
           0.32570077099924793,
           0.3290240396712813,
           0.4942690545534672,
           0.839962768151037,
           0.3208553831968501,
           0.6646909389368294,
           0.6919564731425232,
           0.5317578163092833,
           0.4859212857211152,
           0.6168965906885817,
           0.5400377489797789,
           0.5303556678749041,
           0.44791395761023606,
           0.6058804710656306,
           0.4908979883911509,
           0.7011767171287973,
           0.5281074677262658,
           0.8218442551240023,
           0.9115996573812846,
           0.5756472206789768,
           0.4790234097367525,
           0.5818843588912933,
           0.6335459987503766,
           0.5190000723734253,
           0.5818843588912933,
           0.5536370861963962,
           0.5782235235977704,
           0.5283356156961408,
           0.5999351719472565,
           0.7318222186514295,
           0.34173223003613984,
           0.4757309775508306,
           0.8078768678891759,
           0.9473275066349643,
           0.4283002673559493,
           0.7410404327961191,
           0.3867161753601155,
           0.5788249361968457,
           0.9110441973054524,
           0.4421961405235597,
           0.6578831163450102,
           0.8507282658584009,
           0.34173223003613984,
           0.7825556890402131,
           0.4152871818587685,
           0.5678142640009771,
           0.7132749723642293,
           0.666522676566775,
           0.6135980572608721,
           0.3745534356821609,
           0.6242003276351012,
           0.5584758161805727,
           0.8507899885550886,
           0.5839898424155631,
           0.609896793188508,
           0.4458546313595108,
           0.5934202959088998,
           0.4580551793630036,
           0.3384487448544034,
           0.40982763502826935,
           0.7728719945919372,
           0.6422807694263776,
           0.7225705735101466,
           0.73120804716564,
           0.475827934504847,
           0.6174300275872829,
           0.46499431936808794,
           0.5344436024147244,
           0.3391495064777548,
           0.6281213400288287,
           0.5589054138529173,
           0.5659712672709434,
           0.8873860805964897,
           0.6948025197816848,
           0.33122624064054484,
           0.6408071019636729,
           0.6309286076787999,
           0.4979421060663372,
           0.4796207472295076,
           0.536546301483389,
           0.4265399840633068,
           0.5904731942517181,
           0.38230828283667867,
           0.8169981890795497,
           0.5296806732679338,
           0.9290302874411605,
           0.44625666654061785,
           0.8582706777960948,
           0.5948666454751887,
           0.5882378619955281,
           0.35449610815774923,
           0.5758447565611612,
           0.5692453957724605,
           0.6587312783033741,
           0.6072601288303907,
           0.4988349752579382,
           0.4375990718636457,
           0.5856101413317212,
           0.6010690522149722,
           0.5013371622205839,
           0.3684363401168633,
           0.7483207030670265,
           0.7510076200369779,
           0.8729337830728209,
           0.5806002040207546,
           0.5129615158228926,
           0.5211435203292369,
           0.3809058802724405,
           0.5044101146285818,
           0.7044114702369764,
           0.6706428435139353,
           0.4796207472295076,
           0.6795192077928062,
           0.6072601288303907,
           0.4009789636501435,
           0.9349352673982084,
           0.589995161887244,
           0.6211704695060651,
           0.4408046141478822,
           0.7765989678295455,
           0.6279174684114319,
           0.6309286076787999,
           0.41190497788763103,
           0.4898162689820407,
           0.9020629269028732,
           0.6790118688100006,
           0.5885718420568349,
           0.3321943831413619,
           0.32570077099924793,
           0.5158476541694029,
           0.031013498945186273,
           0.4962447366055298,
           0.6415251361910892,
           0.5050743033677243,
           0.4072431195052308,
           0.6716106398358989,
           0.8389243105071171,
           0.6430166662617105,
           0.5400377489797789,
           0.6810906917425594,
           0.5896946052467457,
           0.7011187444188275,
           0.4973075122753628,
           0.5821292945146708,
           0.5017263332686983,
           0.8119530400982676,
           0.4483187194335348,
           0.6061186456969245,
           0.5035236667540658,
           0.6182968439727855,
           0.4458586708534961,
           0.5660139535453025,
           0.3803411536117872,
           0.7728732738402645,
           0.7492177930489549,
           0.7864270833791762,
           0.7323938630696031,
           0.6444436096161589,
           0.7225705735101466,
           0.5158476541694029,
           0.6954165190418939,
           0.3809058802724405,
           0.5860214716577687,
           0.8360393532787289,
           0.6242524993308587,
           0.7714921495221693,
           0.5972814779044859,
           0.5700167028852964,
           0.5574602197393447,
           0.03604361672910314,
           0.3916936423306652,
           0.5927973462665315,
           0.61280404427931,
           0.5344436024147244,
           0.3684363401168633,
           0.4386434987422444,
           0.5042187563540887,
           0.5044101146285818,
           0.6469227250825073,
           0.5772285027779873,
           0.8093237930019529,
           0.5791354331078299,
           0.6293018056764849,
           0.4390944564741512,
           0.7108231455280679,
           0.5501213259675541,
           0.9289369261885644,
           0.6726805928835387,
           0.366302894628521,
           0.7481046721253537,
           0.4858555956731805,
           0.6162638817010739,
           0.4264518445988792,
           0.6394369488218412,
           0.4382130939787301,
           0.7550413499986275,
           0.6012954416121729,
           0.4517844059541925,
           0.5205537457116164,
           0.6918507365964088,
           0.6796542390260255,
           0.3230089909532323,
           0.9289369261885644,
           0.7708726497375289,
           0.5400377489797789,
           0.4459262745877275,
           0.510288292720926,
           0.44106015184555775,
           0.6478020298537229,
           0.2946779221221197,
           0.40743039974998796,
           0.5524167322191708,
           0.5057847627270969,
           0.4179360568274809,
           0.36072920580223455,
           0.7708136516700133,
           0.5328453025595845,
           0.7336378248267537,
           0.5205537457116164,
           0.758299703809623,
           0.6774204652262298,
           0.5557649996003,
           0.518479124800566,
           0.675003400858032,
           0.7014417589824127,
           0.6478348400058205,
           0.8389243105071171,
           0.3485825975067127,
           0.5667964748327188,
           0.3941385398458925,
           0.4242028280284693,
           0.6342269633902287,
           0.5907929571811064,
           0.5134675221364372,
           0.5828046937905624,
           0.42837541665132417,
           0.5202049113174553,
           0.7682236249154689,
           0.6168845440365633,
           0.8144481104168003,
           0.7326611319120517,
           0.5794241084560094,
           0.7897070489895957,
           0.6768695968686913,
           0.6948025197816848,
           0.8200724177064315,
           0.4979421060663372,
           0.5013683431967768,
           0.456059154614271,
           0.8278537698666787,
           0.5977948593550263,
           0.5227140752907256,
           0.4972215761433738,
           0.6548608223430427,
           0.5964677445995821,
           0.7326033944243092,
           0.5466486936336079,
           0.5422327171052012,
           0.4337212895597037,
           0.9009676339614728,
           0.757801082321389,
           0.6281213400288287,
           0.449798792381708,
           0.6792921844437226,
           0.6377721594176248,
           0.5391115605471758,
           0.7259748663356329,
           0.5202049113174553,
           0.2334404558154214,
           0.5824605669027118,
           0.4962541480030983,
           0.5116634453722071,
           0.4457727477600304,
           0.3751956643218792,
           0.46499431936808794,
           0.4738039250123142,
           0.8235482530215249,
           0.6231542839712871,
           0.736677413340632,
           0.7483207030670265,
           0.8582706777960948,
           0.6792921844437226,
           0.5830496125438399,
           0.47189487551491605,
           0.9020629269028732,
           0.6797935559497998,
           0.4698953091896986,
           0.3941385398458925,
           0.5109930419063133,
           0.5930160630991372,
           0.5934202959088998,
           0.6130292907732521,
           0.7726707256056151,
           0.8095522095461632,
           0.6213619102466308,
           0.5473251469716055,
           0.516323199450715,
           0.5466486936336079,
           0.6578262934725394,
           0.8586774418483041,
           0.6918507365964088,
           0.6752039969673187,
           0.6553591154261498,
           0.5824605669027118,
           0.5493956187351183,
           0.6675090867510377,
           0.4871408009458939,
           0.4152871818587685,
           0.674288836752463,
           0.5557649996003,
           0.6610013371011454,
           0.3820824048277188,
           0.7728719945919372,
           0.8457688664485438,
           0.4087967366784389,
           0.6072601288303907,
           0.5080586129066689,
           0.6821012817114168,
           0.5042237768811729,
           0.6024664761030897,
           0.6693715019351177,
           0.5570261643754362,
           0.5419683747338633,
           0.5141057427638225,
           0.4757215667306782,
           0.3665351124777029,
           0.4921993313336216,
           0.5893145017348558,
           0.6231304368786019,
           0.8148296561331122,
           0.6322428511255029,
           0.4183818116338261,
           0.4964367959139354,
           0.44393068162786814,
           0.4662622096456242,
           0.6413540809343606,
           0.27443294790503525,
           0.6748541472191385,
           0.6599449187584954,
           0.6115558337900473,
           0.5834430235496894,
           0.5070160807186288,
           0.8169981890795497,
           0.7781427230551999,
           0.8220349621993864,
           0.5660139535453025,
           0.3726755831274244,
           0.6380733763602572,
           0.4988349752579382,
           0.5052693955224341,
           0.6142758429530866,
           0.508731241151298,
           0.7708726497375289,
           0.486056616648333,
           0.5314156533692651,
           0.625762202039171,
           0.4079049611147865,
           0.5694777572890569,
           0.5172745924496447,
           0.2911915994831514,
           0.4234013772561962,
           0.6098197611515211,
           0.4207172587460705,
           0.44393068162786814,
           0.4779630135082117,
           0.5090376005544694,
           0.7708143665311318,
           0.4814450922686157,
           0.5914236590704917,
           0.6145956027600212,
           0.4738039250123142,
           0.4682509114975055,
           0.6010690522149722,
           0.5236444060511708,
           0.7259748663356329,
           0.4897124364921915,
           0.5574602197393447,
           0.3489203563494867,
           0.5412311890070843,
           0.6419635234855021,
           0.6231304368786019,
           0.5310108259424263,
           0.7732718477461717,
           0.6906262561196315,
           0.6168845440365633,
           0.3266997281304141,
           0.5071108485113439,
           0.5908187730387471,
           0.7462138568088962,
           0.6364236449500698,
           0.5878185933389101,
           0.6578831163450102,
           0.5037387899485233,
           0.618692141580311,
           0.7014417589824127,
           0.8788113434931999,
           0.5893145017348558,
           0.7549176454508227,
           0.5559850526989919,
           0.3809058802724405,
           0.5866078184059821,
           0.6072224015544772,
           0.5908187730387471,
           0.5080586129066689,
           0.6578831163450102,
           0.6012954416121729,
           0.496378120336174,
           0.2585031945744236,
           0.5643338386201754,
           0.6683706115518646,
           0.3353113415308729,
           0.5885807718495031,
           0.8390215312246203,
           0.7318222186514295,
           0.5007893422910681,
           0.6000915236898566,
           0.6129531542390639,
           0.6162638817010739,
           0.589995161887244,
           0.8586774418483041,
           0.452983132099596,
           0.6279174684114319,
           0.7011187444188275,
           0.5042237768811729,
           0.6177875891018481,
           0.5794241084560094,
           0.4962277300143729,
           0.6533406926626858,
           0.5589162440267129,
           0.4752593322596274,
           0.3807248481475525,
           0.5079967178577153,
           0.5303556678749041,
           0.5934960438312681,
           0.5694255788316922,
           0.4965930646067649,
           0.547684660288279,
           0.450852685134409,
           0.477823317117988,
           0.4078249888851877,
           0.594464632807191,
           0.3708488714955479,
           0.5903603253945124,
           0.4882785086022949,
           0.6933279789975069,
           0.4530852500988185,
           0.5083599025668306,
           0.5531048329205209,
           0.5733867241175619,
           0.5371605629718418,
           0.5134675221364372,
           0.4743290196991857,
           0.620392055892929,
           0.4230183445180617,
           0.7476840758686324,
           0.530412426848088,
           0.7550413499986275,
           0.4493236152076617,
           0.8119530400982676,
           0.4983991381411617,
           0.6273614470848322,
           0.6740231561759062,
           0.6823206111515216,
           0.6792921844437226,
           0.5688048647202345,
           0.7510401261129247,
           0.4517844059541925,
           0.6849948965806557,
           0.7550413499986275,
           0.4830746401906156,
           0.6634009273844678,
           0.5557649996003,
           0.44106015184555775,
           0.5776331497038921,
           0.4531710070713659,
           0.4524005818708859,
           0.4382130939787301,
           0.6183183690045203,
           0.6978878220170739,
           0.6697261875661445,
           0.4961288946289526,
           0.5172745924496447,
           0.612657823642785,
           0.5460127843008569,
           0.6119429558981506,
           0.4406619729005957,
           0.4757215667306782,
           0.490303980373673,
           0.7394548738996426,
           0.5977948593550263,
           0.8130130889348834,
           0.8251920292669888,
           0.3872425947084871,
           0.3799830825772991,
           0.38230828283667867,
           0.6914421524846747,
           0.7183813423833088,
           0.7033494404116145,
           0.675003400858032,
           0.6038391696904002,
           0.6047793026785834,
           0.5586792493895179,
           0.4211818692788764,
           0.44467787058254815,
           0.5885807718495031,
           0.4980571227641643,
           0.504447582619328,
           0.8105062052254818,
           0.4757215667306782,
           0.8063593429927965,
           0.3983663543325965,
           0.5834430235496894,
           0.5220082325065756,
           0.7477086693197713,
           0.4641019819994702,
           0.4217922530276164,
           0.6285601559358945,
           0.9178639058476192,
           0.4803052762758456,
           0.5266460549313882,
           0.3799830825772991,
           0.4258833216131893,
           0.4234013772561962,
           0.4715367968066421,
           0.4250705644168449,
           0.852699664161011,
           0.3825466666239224,
           0.5977029042110494,
           0.7369919703227188,
           0.7830371095483493,
           0.5412311890070843,
           0.8037219349782518,
           0.27443294790503525,
           0.7186723497523851,
           0.5756865010660667,
           0.3751956643218792,
           0.5649794743257729,
           0.5743000682773265,
           0.852699664161011,
           0.6155041026415558,
           0.6876196662345889,
           0.4748294068932669,
           0.5693599059622848,
           0.4258833216131893,
           0.4668979601451768,
           0.37834796858643616,
           0.8065804113273366,
           0.3911088846318064,
           0.6693715019351177,
           0.7068276713044582,
           0.5959966284893823,
           0.5131368174012146,
           0.6303468086968372,
           0.5667964748327188,
           0.5578751684218033,
           0.6978878220170739,
           0.467413843769302,
           0.6855028320873736,
           0.5278650761586818,
           0.5070160807186288,
           0.692655872870637,
           0.6599449187584954,
           0.7132749723642293,
           0.586950621729773,
           0.6488501826283618,
           0.5856831498303938,
           0.4668979601451768,
           0.8389243105071171,
           0.8507282658584009,
           0.6354834550741343,
           0.4400424448579729,
           0.4967946278510438,
           0.4000979923826655,
           0.5794241084560094,
           0.4285161504605869,
           0.25672922849760993,
           0.7963203781664332,
           0.4892801786318906,
           0.4858555956731805,
           0.7740371421614921,
           0.3941385398458925,
           0.9290302874411605,
           0.5691817324638477,
           0.69300920358103,
           0.6715962698483039,
           0.6657283364248289,
           0.4110451346174999,
           0.6408071019636729,
           0.6190077196111018,
           0.480355425324063,
           0.763010513430572,
           0.4059239066513581,
           0.5460127843008569,
           0.6118014714600088,
           0.44316239759770826,
           0.6251867974682902,
           0.4676276869350442,
           0.6347645563707436,
           0.2984436694139005,
           0.3230089909532323,
           0.7180752658667929,
           0.5344436024147244,
           0.6954165190418939,
           0.5090376005544694,
           0.7326611319120517,
           0.4892801786318906,
           0.6672295756298092,
           0.598332500361939,
           0.6247237675785525,
           0.5907929571811064,
           0.7177627022534055,
           0.5451276081549874,
           0.7394359972769394,
           0.4859212857211152,
           0.8048388888270448,
           0.4961288946289526,
           0.6010690522149722,
           0.4400424448579729,
           0.4641019819994702,
           0.5328453025595845,
           0.4492575525269076,
           0.5127793382989322,
           0.6279707530899492,
           0.38230828283667867,
           0.6142758429530866,
           0.5640295958199582,
           0.5242713554229456,
           0.521672995280826,
           0.8360393532787289,
           0.852699664161011,
           0.5968458517450551,
           0.7781427230551999,
           0.531728128302305,
           0.5007819858211396,
           0.4219175607353159,
           0.6347645563707436,
           0.5604116856288465,
           0.3872425947084871,
           0.6135980572608721,
           0.5057847627270969,
           0.7477086693197713,
           0.4041924705529832,
           0.5885718420568349,
           0.4916510524511258,
           0.4117458066489511,
           0.596275993745723,
           0.4266838138087468,
           0.5837154772985029,
           0.7586787151629479,
           0.6408071019636729,
           0.7102691666979191,
           0.6781255023273798,
           0.6815813054346181,
           0.6342269633902287,
           0.5914285519642304,
           0.7410404327961191,
           0.4079049611147865,
           0.510098894399033,
           0.8030873549481594,
           0.5266936694143562,
           0.6479330840935879,
           0.7336378248267537,
           0.5666616579558601,
           0.6010690522149722,
           0.5639220884860754,
           0.4988349752579382,
           0.5109372583955416,
           0.640720629480798,
           0.46499431936808794,
           0.5381422113312301,
           0.5003517104367703,
           0.4796207472295076,
           0.42429413010909006,
           0.7550413499986275,
           0.5460293650803792,
           0.42429413010909006,
           0.4351050613097062,
           0.501246444346129,
           0.9392271645908896,
           0.6401515444659934,
           0.5220082325065756,
           0.6212135105125054,
           0.7740371421614921,
           0.3684363401168633,
           0.6069757372185262,
           0.7650490976329131,
           0.6098197611515211,
           0.4961288946289526,
           0.6693715019351177,
           0.050656773113824986,
           0.609896793188508,
           0.5781036297198625,
           0.5639220884860754,
           0.5447494894552873,
           0.5866078184059821,
           0.8582706777960948,
           0.6599449187584954,
           0.5821292945146708,
           0.4774033169719528,
           0.3844239498735387,
           0.5776331497038921,
           0.6176086939874837,
           0.37929222992511785,
           0.444541583760065,
           0.5144257731669367,
           0.4804019702957005,
           0.4774033169719528,
           0.41464582437751,
           0.5419683747338633,
           0.4429583683494117,
           0.6591394768219538,
           0.6091238748175969,
           0.8065804113273366,
           0.6955933512745225,
           0.5005765741833071,
           0.6941192467616055,
           0.6726805928835387,
           0.6525086437067091,
           0.6322428511255029,
           0.450852685134409,
           0.6323196407600796,
           0.5674769057616466,
           0.7177627022534055,
           0.5454352386697442,
           0.3462368107029975,
           0.4676276869350442,
           0.6344962846421434,
           0.4524929218164785,
           0.6162638817010739,
           0.5451276081549874,
           0.4959571280148555,
           0.5724708877839468,
           0.5144257731669367,
           0.7680042347735891,
           0.9473275066349643,
           0.5237146369702328,
           0.7613622384458618,
           0.7394548738996426,
           0.5040756699303163,
           0.4923218705874481,
           0.5220082325065756,
           0.4382130939787301,
           0.5336501394878035,
           0.5570261643754362,
           0.5854795397495219,
           0.6000915236898566,
           0.4302145965439068,
           0.5916020057286843,
           0.6810906917425594,
           0.7410404327961191,
           0.5934960438312681,
           0.5474938878431067,
           0.7262997133847378,
           0.4813975284570603,
           0.6309286076787999,
           0.4531251786298235,
           0.407849996596646,
           0.4965930646067649,
           0.7714921495221693,
           0.4749834582278592,
           0.6297490400005165,
           0.7830371095483493,
           0.8474517132179911,
           0.3292364989297267,
           0.6098143603684099,
           0.514169944562831,
           0.4675314419005862,
           0.9289369261885644,
           0.5889385097500909,
           0.4210561646498641,
           0.5190000723734253,
           0.8474517132179911,
           0.6646909389368294,
           0.5336595943709138,
           0.4905864018711718,
           0.5836464346551571,
           0.9473275066349643,
           0.5336595943709138,
           0.5430611433753401,
           0.585735487898916,
           0.6247237675785525,
           0.5252273355598288,
           0.6321309130150968,
           0.5692453957724605,
           0.6479336219623286,
           0.6835250649823107,
           0.4675314419005862,
           0.508731241151298,
           0.5870237387492154,
           0.27443294790503525,
           0.5814752192996689,
           0.6364189476344927,
           0.6583492153531787,
           0.7011187444188275,
           0.8278537698666787,
           0.38230828283667867,
           0.5187439585798745,
           0.6220796469013531,
           0.5467275539627645,
           0.7014417589824127,
           0.4589544162722026,
           0.66229870965635,
           0.5336501394878035,
           0.5410334266884267,
           0.5837053355322338,
           0.620392055892929,
           0.5253329136601428,
           0.41716442232685497,
           0.5299612162162091,
           0.4647794403925874,
           0.7510401261129247,
           0.5743000682773265,
           0.4199431484349393,
           0.6626702064875899,
           0.4858555956731805,
           0.7396843345988899,
           0.6876196662345889,
           0.5139322636770347,
           0.5564100130893208,
           0.4988349752579382,
           0.6334023422021283,
           0.8030873549481594,
           0.8768298777499862,
           0.6247237675785525,
           0.42429413010909006,
           0.4458586708534961,
           0.8424233180669045,
           0.4117890700534452,
           0.6933279789975069,
           0.448026304493546,
           0.3949625000942707,
           0.4790234097367525,
           0.7560638708428911,
           0.5904731942517181,
           0.5971133608853452,
           0.6055382189430346,
           0.596275993745723,
           0.6128586541080373,
           0.3266997281304141,
           0.4766571906524515,
           0.4566050599657094,
           0.6413540809343606,
           0.4779630135082117,
           0.69300920358103,
           0.5987268408408515,
           0.4614396500569515,
           0.6294632451871911,
           0.4301720457570367,
           0.6048204319182022,
           0.7869212313686974,
           0.6279174684114319,
           0.5672785922286958,
           0.4828052476468271,
           0.7549176454508227,
           0.6987704777958721,
           0.5375333077362084,
           0.6038391696904002,
           0.6364236449500698,
           0.6128586541080373,
           0.5037387899485233,
           0.6129531542390639,
           0.437616284161604,
           0.4774670372392138,
           0.6693715019351177,
           0.5103679324691051,
           0.2927380529636244,
           0.5513111166062027,
           0.5870237387492154,
           0.5458666086016136,
           0.5887819593694067,
           0.7038238898664649,
           0.3341676517250151,
           0.6833885166889893,
           0.7728732738402645,
           0.5052693955224341,
           0.5192460362738505,
           0.6104277251451776,
           0.5956609047408887,
           0.6567597878169679,
           0.7052054033286036,
           0.5814752192996689,
           0.6010690522149722,
           0.6142617638576565,
           0.9349352673982084,
           0.6795192077928062,
           0.4813347481510341,
           0.4858832058048417,
           0.6242524993308587,
           0.4859212857211152,
           0.73120804716564,
           0.5182916460696715,
           0.6117711132155927,
           0.7462138568088962,
           0.5999446698556915,
           0.5140642764185136,
           0.4420249810973847,
           0.5044101146285818,
           0.6155752551777887,
           0.4989916727547925,
           0.5960115042023844,
           0.4967946278510438,
           0.4847320154522624,
           0.7708143665311318,
           0.5966423960408724,
           0.3628001416809383,
           0.6632296875667867,
           0.5999446698556915,
           0.6512975404193961,
           0.6119429558981506,
           0.4804019702957005,
           0.8327574313141051,
           0.5709001037765814,
           0.5836464346551571,
           0.4859212857211152,
           0.5772285027779873,
           0.38230828283667867,
           0.6216169217184164,
           0.8148296561331122,
           0.6117711132155927,
           0.5883821219938137,
           0.4030952595165577,
           0.4566050599657094,
           0.5138295872991763,
           0.9115996573812846,
           0.46499431936808794,
           0.9349352673982084,
           0.6238237678518292,
           0.4804019702957005,
           0.7244705001248639,
           0.5409710945993634,
           0.6645599786043399,
           0.5447494894552873,
           0.022556500517658076,
           0.41424422917234577,
           0.7142014472093124,
           0.5140642764185136,
           0.6926158611299608,
           0.5836540990926788,
           0.6212017484050729,
           0.5130813777205246,
           0.58400755313893,
           0.5836464346551571,
           0.44791395761023606,
           0.4420305132891076,
           0.7714921495221693,
           0.4458586708534961,
           0.6411728176207399,
           0.3911088846318064,
           0.5856831498303938,
           0.5174805719265905,
           0.5038905014901797,
           0.6468808706241459,
           0.6941192467616055,
           0.3856812791382309,
           0.4798646797866982,
           0.3305207625085287,
           0.6061186456969245,
           0.40743039974998796,
           0.7864270833791762,
           0.5856831498303938,
           0.4458586708534961,
           0.5400377489797789,
           0.5099946875871698,
           0.6135724869465727,
           0.5336595943709138,
           0.6721999444118556,
           0.44316239759770826,
           0.6948025197816848,
           0.6316626720677063,
           0.5237146369702328,
           0.6104277251451776,
           0.6999247645104929,
           0.5472309377780379,
           0.6058804710656306,
           0.6091238748175969,
           0.7318222186514295,
           0.6430166662617105,
           0.5667964748327188,
           0.3676677098868064,
           0.6883324837888457,
           0.39535838469227497,
           0.5909590020527186,
           0.6129531542390639,
           0.6933279789975069,
           0.6242524993308587,
           0.4580551793630036,
           0.4908979883911509,
           0.6091238748175969,
           0.552742313522791,
           0.6174214066397045,
           0.07551862406412492,
           0.586950621729773,
           0.5493956187351183,
           0.6821012817114168,
           0.5027118587787895,
           0.4964367959139354,
           0.4921993313336216,
           0.8078768678891759,
           0.39438398580988143,
           0.5419683747338633,
           0.7326033944243092,
           0.5391115605471758,
           0.5111844063880663,
           0.291433259678306,
           0.4629752876327947,
           0.775797362701256,
           0.763010513430572,
           0.6489257090087353,
           0.7978900102192453,
           0.5693296873667095,
           0.6087016157203143,
           0.8586774418483041,
           0.6952838245495223,
           0.5945365095722287,
           0.7560638708428911,
           0.5605579839038146,
           0.4919107714041727,
           0.4524005818708859,
           0.6559953454545084,
           0.5083599025668306,
           0.5079521886392171,
           0.6052783033175688,
           0.42558468024998697,
           0.8582706777960948,
           0.4321364774207179,
           0.407849996596646,
           0.6623740258876866,
           0.40132798622497184,
           0.7740371421614921,
           0.4493236152076617,
           0.9089842956402568,
           0.4862443470336822,
           0.6645599786043399,
           0.6273614470848322,
           0.7504920750583212,
           0.775797362701256,
           0.9178639058476192,
           0.5285096781804877,
           0.47189487551491605,
           0.5531048329205209,
           0.7011808736075507,
           0.4699919632120788,
           0.4481115638037412,
           0.6815813054346181,
           0.7492177930489549,
           0.8424233180669045,
           0.42729829264388397,
           0.5632405474233795,
           0.5187439585798745,
           0.6018919753027975,
           0.474084038183911,
           0.8106969830715695,
           0.40132798622497184,
           0.4266199503825344,
           0.4979421060663372,
           0.6453679560153077,
           0.6726805928835387,
           0.49604325182696796,
           0.620379479284656,
           0.7483207030670265,
           0.6846275539188404,
           0.7740371421614921,
           0.5772285027779873,
           0.6413540809343606,
           0.4748294068932669,
           0.5641289501467455,
           0.6797935559497998,
           0.5205537457116164,
           0.7142014472093124,
           0.9020629269028732,
           0.4980571227641643,
           0.9349352673982084,
           0.5384040736922502,
           0.4206159723883332,
           0.36072920580223455,
           0.6058740493326593,
           0.5604116856288465,
           0.407849996596646,
           0.5344643522287597,
           0.7708726497375289,
           0.6439825914925877,
           0.42338584679609104,
           0.7708726497375289,
           0.4819831133587578,
           0.496378120336174,
           0.4079249303609997,
           0.4242028280284693,
           0.6147555886925882,
           0.5785174144965888,
           0.5714228015866021,
           0.7490298749983422,
           0.6450226658966598,
           0.7042447660376749,
           0.5336592211922608,
           0.8736271743351188,
           0.4449212499177607,
           0.4987584081140403,
           0.6052783033175688,
           0.8879204501926365,
           0.6548608223430427,
           0.4736241237475465,
           0.4945870774232017,
           0.6334023422021283,
           0.5557874605581772,
           0.40743039974998796,
           0.7830371095483493,
           0.5836464346551571,
           0.5447494894552873,
           0.6413540809343606,
           0.4458546313595108,
           0.5422327171052012,
           0.6454432714705122,
           0.4962447366055298,
           0.5154556541589456,
           0.4698953091896986,
           0.4980571227641643,
           0.4571207966015578,
           0.6220796469013531,
           0.6168845440365633,
           0.7869212313686974,
           0.8768298777499862,
           0.4607019827573922,
           0.7549176454508227,
           0.9349352673982084,
           0.5287500603890649,
           0.5187439585798745,
           0.5909590020527186,
           0.5892596782086101,
           0.9349352673982084,
           0.4128674880374229,
           0.5667964748327188,
           0.6453679560153077,
           0.5003993096971188,
           0.4965930646067649,
           0.6059472299047571,
           0.7550413499986275,
           0.3809058802724405,
           0.43910038913978855,
           0.3822806895959408,
           0.6978878220170739,
           0.552742313522791,
           0.4190837765958047,
           0.552742313522791,
           0.5578751684218033,
           0.5103679324691051,
           0.5303556678749041,
           0.5371605629718418,
           0.8627954137489581,
           0.8736271743351188,
           0.4210561646498641,
           0.5987268408408515,
           0.6632296875667867,
           0.4647150834016591,
           0.8078768678891759,
           0.6104277251451776,
           0.5589043919939879,
           0.6626702064875899,
           0.5141116915064601,
           0.018917567226111383,
           0.7456251877421854,
           0.5430611433753401,
           0.8878671286303795,
           0.4988349752579382,
           0.7068276713044582,
           0.7869212313686974,
           0.32570077099924793,
           0.7188102099645777,
           0.5320695697982138,
           0.3745534356821609,
           0.6293018056764849,
           0.5080366162448481,
           0.521672995280826,
           0.6512975404193961,
           0.6430166662617105,
           0.521672995280826,
           0.5775327466836254,
           0.5691315861983045,
           0.5854340097196036,
           0.5831076361289791,
           0.291433259678306,
           0.4731459418465026,
           0.5856831498303938,
           0.5042187563540887,
           0.3472355254292599,
           0.692655872870637,
           0.4921993313336216,
           0.6316626720677063,
           0.5777733372917061,
           0.5177132109829392,
           0.4282526542672777,
           0.7613622384458618,
           0.6380733763602572,
           0.9289369261885644,
           0.6815813054346181,
           0.6088248054637592,
           0.7825556890402131,
           0.4749834582278592,
           0.5672788711826817,
           0.6254432620438771,
           0.460961292984742,
           0.5227140752907256,
           0.5760441727172667,
           0.6073269822745797,
           0.32570077099924793,
           0.448026304493546,
           0.565624721495558,
           0.6666527987413176,
           0.5810289831955022,
           0.9009676339614728,
           0.5584758161805727,
           0.5714228015866021,
           0.6061573347245109,
           0.4597971288376104,
           0.5231612936258231,
           0.6906262561196315,
           0.5343922941001787,
           0.5166182130206616,
           0.37834796858643616,
           0.5013371622205839,
           0.5605579839038146,
           0.3949625000942707,
           0.7863591368360506,
           0.3867161753601155,
           0.4503612608774568,
           0.7680042347735891,
           0.4058610383235158,
           0.604282094145912,
           0.7326033944243092,
           0.6933279789975069,
           0.3809058802724405,
           0.6310812836244424,
           0.3569906982225354,
           0.6478348400058205,
           0.5335043143417373,
           0.6174214066397045,
           0.9020629269028732,
           0.6168845440365633,
           0.5570261643754362,
           0.6079199780130808,
           0.5756865010660667,
           0.5839898424155631,
           0.5130813777205246,
           0.6375210504152117,
           0.3745534356821609,
           0.7318222186514295,
           0.5536370861963962,
           0.6487226559769548,
           0.8278537698666787,
           0.6867208337716193,
           0.5166182130206616,
           0.6833885166889893,
           0.3911088846318064,
           0.8093237930019529,
           0.6178701163443497,
           0.6495831072184148,
           0.7132749723642293,
           0.34173223003613984,
           0.42429413010909006,
           0.5765687655936937,
           0.6142822624698228,
           0.6162638817010739,
           0.5890728198040683,
           0.5077968849276677,
           0.4880088818032522,
           0.5589162440267129,
           0.6838450066083304,
           0.5310108259424263,
           0.6394369488218412,
           0.5948666454751887,
           0.5140642764185136,
           0.6533406926626858,
           0.8148296561331122,
           0.4642109832508296,
           0.5303556678749041,
           0.6867208337716193,
           0.4508580633827698,
           0.8404096621543771,
           0.7740371421614921,
           0.6693715019351177,
           0.4080719105619905,
           0.6290898140356321,
           0.7336378248267537,
           0.6001815991684463,
           0.448026304493546,
           0.07551862406412492,
           0.6220796469013531,
           0.28765341099352953,
           0.5343922941001787,
           0.4629960943720008,
           0.6626702064875899,
           0.5102430890437599,
           0.4283002673559493,
           0.8327574313141051,
           0.510577267623518,
           0.8118259818075086,
           0.4493236152076617,
           0.4757215667306782,
           0.5854795397495219,
           0.439663710601362,
           0.6646909389368294,
           0.6716106398358989,
           0.5825985412904522,
           0.674288836752463,
           0.5809106932332672,
           0.5371605629718418,
           0.541611590603318,
           0.5839898424155631,
           0.6453679560153077,
           0.27443294790503525,
           0.6810906917425594,
           0.4556797785436178,
           0.4524005818708859,
           0.407849996596646,
           0.3943115386380697,
           0.585735487898916,
           0.5462530728517105,
           0.366302894628521,
           0.989938569657492,
           0.7318222186514295,
           0.4757215667306782,
           0.5109930419063133,
           0.5053782030752867,
           0.7044114702369764,
           0.5649794743257729,
           0.5908165135922658,
           0.6811302418484678,
           0.5643338386201754,
           0.5586019196468579,
           0.5106918719612981,
           0.4675699664299343,
           0.4457727477600304,
           0.4305389074172808,
           0.7259748663356329,
           0.5514273069399679,
           0.7448737192619159,
           0.6377721594176248,
           0.6553591154261498,
           0.5758447565611612,
           0.5714228015866021,
           0.8389243105071171,
           0.6142758429530866,
           0.5723384267593626,
           0.6810906917425594,
           0.5941381543935025,
           0.6347645563707436,
           0.6309286076787999,
           0.7601522926114544,
           0.5786954083738762,
           0.5354732424642394,
           0.4345400925913373,
           0.5409710945993634,
           0.9339161063701852,
           0.5375333077362084,
           0.4757309775508306,
           0.4792180009110565,
           0.4087967366784389,
           0.6540393506314532,
           0.6833410359778677,
           0.5419683747338633,
           0.5887819593694067,
           0.6802637529978721,
           0.6098197611515211,
           0.3467445104799772,
           0.4110451346174999,
           0.3949625000942707,
           0.7490298749983422,
           0.7863591368360506,
           0.4955022071031012,
           0.6279707530899492,
           0.4378895030731797,
           0.33122624064054484,
           0.4865626432023736,
           0.5758447565611612,
           0.3230089909532323,
           0.4743290196991857,
           0.5794241084560094,
           0.7523659740980329,
           0.5940475040246616,
           0.15960546998398473,
           0.598332500361939,
           0.8586774418483041,
           0.5370882970195974,
           0.291433259678306,
           0.5173065736688823,
           0.5190000723734253,
           0.736677413340632,
           0.6117711132155927,
           0.469671583464309,
           0.4206159723883332,
           0.4117890700534452,
           0.5237146369702328,
           0.7550413499986275,
           0.4738039250123142,
           0.4597971288376104,
           0.5958117467766225,
           0.6148875882171886,
           0.1041869865719754,
           0.7560638708428911,
           0.6897930711489744,
           0.8306423173947309,
           0.4698953091896986,
           0.5422327171052012,
           0.3793711995593641,
           0.3230089909532323,
           0.4779630135082117,
           0.478119091290754,
           0.4597971288376104,
           0.8659700063313627,
           0.5975318646122364,
           0.44791395761023606,
           0.5586792493895179,
           0.4457727477600304,
           0.5072582038410642,
           0.6990357550545981,
           0.7186723497523851,
           0.5682104144154498,
           0.38230828283667867,
           0.6086413306781426,
           0.7044114702369764,
           0.450625272163471,
           0.3770340851283985,
           0.5045657618752406,
           0.6002749102983043,
           0.5022450227955548,
           0.6575786211982945,
           0.5695471572388667,
           0.6088248054637592,
           0.6796542390260255,
           0.44566129114396935,
           0.8002839123724673,
           0.5343922941001787,
           0.6018919753027975,
           0.5007819858211396,
           0.518436402575395,
           0.3293667099902436,
           0.6454264992871335,
           0.7728732738402645,
           0.5187439585798745,
           0.6306300375898077,
           0.4506459971150351,
           0.5758447565611612,
           0.5013683431967768,
           0.5777733372917061,
           0.5071108485113439,
           0.4423347635546177,
           0.47189487551491605,
           0.4371937769385019,
           0.5776331497038921,
           0.6795192077928062,
           0.5509689161798321,
           0.36987695823196864,
           0.521672995280826,
           0.5515651754684117,
           0.6335459987503766,
           0.6533406926626858,
           0.5259050721449718,
           0.6174214066397045,
           0.7254029207784949,
           0.5744007886920006,
           0.5617448040205617,
           0.5714228015866021,
           0.9289369261885644,
           0.7142014472093124,
           0.6811302418484678,
           0.5756742184810534,
           0.22419313842204025,
           0.8031054699098253,
           0.5343922941001787,
           0.5327424427385774,
           0.4988349752579382,
           0.4589544162722026,
           0.941896454523691,
           0.5008486917390443,
           0.8788113434931999,
           0.5303556678749041,
           0.37834796858643616,
           0.6045860441995654,
           0.4808729245840474,
           0.5781036297198625,
           0.7014417589824127,
           0.4828052476468271,
           0.8037219349782518,
           0.5410334266884267,
           0.28219106774534153,
           0.5971133628313751,
           0.8582706777960948,
           0.6148875882171886,
           0.566157341575077,
           0.5336595926316837,
           0.4979321911311493,
           0.5492829074585028,
           0.644478694650085,
           0.5641289501467455,
           0.493486473128519,
           0.547684660288279,
           0.3485825975067127,
           0.6955933512745225,
           0.7680042347735891,
           0.4905864018711718,
           0.5182916460696715,
           0.40982763502826935,
           0.6918507365964088,
           0.5379505190876106,
           0.6178701163443497,
           0.5410779524977934,
           0.5080586129066689,
           0.5854795397495219,
           0.6319790854692059,
           0.5582453092722094,
           0.7550413499986275,
           0.467413843769302,
           0.839962768151037,
           0.291433259678306,
           0.6168845440365633,
           0.7004466143862085,
           0.5948666454751887,
           0.4983370819045986,
           0.715418676514618,
           0.44538134642831456,
           0.6174214066397045,
           0.6553591154261498,
           0.4128674880374229,
           0.6231542839712871,
           0.5707044692696098,
           0.5831440703154909,
           0.6168963856681389,
           0.5116634453722071,
           0.510288292720926,
           0.4908979883911509,
           0.44566129114396935,
           0.6876196662345889,
           0.591940610279424,
           0.5738431163226819,
           0.4813360480067023,
           0.4234013772561962,
           0.5400377489797789,
           0.9290302874411605,
           0.5013371622205839,
           0.5447494894552873,
           0.3467445104799772,
           0.27443294790503525,
           0.6615064867481026,
           0.594464632807191,
           0.2411337534105868,
           0.3198683241789517,
           0.6849948965806557,
           0.566157341575077,
           0.6740231561759062,
           0.6174214066397045,
           0.510098894399033,
           0.3230089909532323,
           0.8048388888270448,
           0.7781427230551999,
           0.7696873177723957,
           0.3628001416809383,
           0.5163803399025109,
           0.480806281832134,
           0.6128375038274145,
           0.5209330793305875,
           0.5172745924496447,
           0.5077968849276677,
           0.4716128101828272,
           0.5605579839038146,
           0.6447333061973751,
           0.4796207472295076,
           0.6477690631022126,
           0.5666404208397303,
           0.41424422917234577,
           0.5870237387492154,
           0.5344643522287597,
           0.4878719324655712,
           0.5083599025668306,
           0.6453679560153077,
           0.7714921495221693,
           0.5994647627472443,
           0.5422998843903899,
           0.5578578500456283,
           0.6242003276351012,
           0.6792921844437226,
           0.5080586129066689,
           0.6508959708087062,
           0.5820347959534041,
           0.5982371324954726,
           0.639396479556684,
           0.4506459971150351,
           0.6073269822745797,
           0.7225705735101466,
           0.5116634453722071
          ],
          "coloraxis": "coloraxis"
         },
         "mode": "markers",
         "name": "",
         "showlegend": false,
         "subplot": "mapbox",
         "type": "scattermapbox"
        }
       ],
       "layout": {
        "coloraxis": {
         "colorbar": {
          "title": {
           "text": "artist_familiarity"
          }
         },
         "colorscale": [
          [
           0,
           "#000000"
          ],
          [
           0.0625,
           "#001f4d"
          ],
          [
           0.125,
           "#003786"
          ],
          [
           0.1875,
           "#0e58a8"
          ],
          [
           0.25,
           "#217eb8"
          ],
          [
           0.3125,
           "#30a4ca"
          ],
          [
           0.375,
           "#54c8df"
          ],
          [
           0.4375,
           "#9be4ef"
          ],
          [
           0.5,
           "#e1e9d1"
          ],
          [
           0.5625,
           "#f3d573"
          ],
          [
           0.625,
           "#e7b000"
          ],
          [
           0.6875,
           "#da8200"
          ],
          [
           0.75,
           "#c65400"
          ],
          [
           0.8125,
           "#ac2301"
          ],
          [
           0.875,
           "#820000"
          ],
          [
           0.9375,
           "#4c0000"
          ],
          [
           1,
           "#000000"
          ]
         ]
        },
        "legend": {
         "tracegroupgap": 0
        },
        "mapbox": {
         "center": {
          "lat": 38,
          "lon": -94
         },
         "domain": {
          "x": [
           0,
           1
          ],
          "y": [
           0,
           1
          ]
         },
         "style": "carto-positron",
         "zoom": 1
        },
        "margin": {
         "t": 60
        },
        "template": {
         "data": {
          "bar": [
           {
            "error_x": {
             "color": "#2a3f5f"
            },
            "error_y": {
             "color": "#2a3f5f"
            },
            "marker": {
             "line": {
              "color": "#E5ECF6",
              "width": 0.5
             }
            },
            "type": "bar"
           }
          ],
          "barpolar": [
           {
            "marker": {
             "line": {
              "color": "#E5ECF6",
              "width": 0.5
             }
            },
            "type": "barpolar"
           }
          ],
          "carpet": [
           {
            "aaxis": {
             "endlinecolor": "#2a3f5f",
             "gridcolor": "white",
             "linecolor": "white",
             "minorgridcolor": "white",
             "startlinecolor": "#2a3f5f"
            },
            "baxis": {
             "endlinecolor": "#2a3f5f",
             "gridcolor": "white",
             "linecolor": "white",
             "minorgridcolor": "white",
             "startlinecolor": "#2a3f5f"
            },
            "type": "carpet"
           }
          ],
          "choropleth": [
           {
            "colorbar": {
             "outlinewidth": 0,
             "ticks": ""
            },
            "type": "choropleth"
           }
          ],
          "contour": [
           {
            "colorbar": {
             "outlinewidth": 0,
             "ticks": ""
            },
            "colorscale": [
             [
              0,
              "#0d0887"
             ],
             [
              0.1111111111111111,
              "#46039f"
             ],
             [
              0.2222222222222222,
              "#7201a8"
             ],
             [
              0.3333333333333333,
              "#9c179e"
             ],
             [
              0.4444444444444444,
              "#bd3786"
             ],
             [
              0.5555555555555556,
              "#d8576b"
             ],
             [
              0.6666666666666666,
              "#ed7953"
             ],
             [
              0.7777777777777778,
              "#fb9f3a"
             ],
             [
              0.8888888888888888,
              "#fdca26"
             ],
             [
              1,
              "#f0f921"
             ]
            ],
            "type": "contour"
           }
          ],
          "contourcarpet": [
           {
            "colorbar": {
             "outlinewidth": 0,
             "ticks": ""
            },
            "type": "contourcarpet"
           }
          ],
          "heatmap": [
           {
            "colorbar": {
             "outlinewidth": 0,
             "ticks": ""
            },
            "colorscale": [
             [
              0,
              "#0d0887"
             ],
             [
              0.1111111111111111,
              "#46039f"
             ],
             [
              0.2222222222222222,
              "#7201a8"
             ],
             [
              0.3333333333333333,
              "#9c179e"
             ],
             [
              0.4444444444444444,
              "#bd3786"
             ],
             [
              0.5555555555555556,
              "#d8576b"
             ],
             [
              0.6666666666666666,
              "#ed7953"
             ],
             [
              0.7777777777777778,
              "#fb9f3a"
             ],
             [
              0.8888888888888888,
              "#fdca26"
             ],
             [
              1,
              "#f0f921"
             ]
            ],
            "type": "heatmap"
           }
          ],
          "heatmapgl": [
           {
            "colorbar": {
             "outlinewidth": 0,
             "ticks": ""
            },
            "colorscale": [
             [
              0,
              "#0d0887"
             ],
             [
              0.1111111111111111,
              "#46039f"
             ],
             [
              0.2222222222222222,
              "#7201a8"
             ],
             [
              0.3333333333333333,
              "#9c179e"
             ],
             [
              0.4444444444444444,
              "#bd3786"
             ],
             [
              0.5555555555555556,
              "#d8576b"
             ],
             [
              0.6666666666666666,
              "#ed7953"
             ],
             [
              0.7777777777777778,
              "#fb9f3a"
             ],
             [
              0.8888888888888888,
              "#fdca26"
             ],
             [
              1,
              "#f0f921"
             ]
            ],
            "type": "heatmapgl"
           }
          ],
          "histogram": [
           {
            "marker": {
             "colorbar": {
              "outlinewidth": 0,
              "ticks": ""
             }
            },
            "type": "histogram"
           }
          ],
          "histogram2d": [
           {
            "colorbar": {
             "outlinewidth": 0,
             "ticks": ""
            },
            "colorscale": [
             [
              0,
              "#0d0887"
             ],
             [
              0.1111111111111111,
              "#46039f"
             ],
             [
              0.2222222222222222,
              "#7201a8"
             ],
             [
              0.3333333333333333,
              "#9c179e"
             ],
             [
              0.4444444444444444,
              "#bd3786"
             ],
             [
              0.5555555555555556,
              "#d8576b"
             ],
             [
              0.6666666666666666,
              "#ed7953"
             ],
             [
              0.7777777777777778,
              "#fb9f3a"
             ],
             [
              0.8888888888888888,
              "#fdca26"
             ],
             [
              1,
              "#f0f921"
             ]
            ],
            "type": "histogram2d"
           }
          ],
          "histogram2dcontour": [
           {
            "colorbar": {
             "outlinewidth": 0,
             "ticks": ""
            },
            "colorscale": [
             [
              0,
              "#0d0887"
             ],
             [
              0.1111111111111111,
              "#46039f"
             ],
             [
              0.2222222222222222,
              "#7201a8"
             ],
             [
              0.3333333333333333,
              "#9c179e"
             ],
             [
              0.4444444444444444,
              "#bd3786"
             ],
             [
              0.5555555555555556,
              "#d8576b"
             ],
             [
              0.6666666666666666,
              "#ed7953"
             ],
             [
              0.7777777777777778,
              "#fb9f3a"
             ],
             [
              0.8888888888888888,
              "#fdca26"
             ],
             [
              1,
              "#f0f921"
             ]
            ],
            "type": "histogram2dcontour"
           }
          ],
          "mesh3d": [
           {
            "colorbar": {
             "outlinewidth": 0,
             "ticks": ""
            },
            "type": "mesh3d"
           }
          ],
          "parcoords": [
           {
            "line": {
             "colorbar": {
              "outlinewidth": 0,
              "ticks": ""
             }
            },
            "type": "parcoords"
           }
          ],
          "pie": [
           {
            "automargin": true,
            "type": "pie"
           }
          ],
          "scatter": [
           {
            "marker": {
             "colorbar": {
              "outlinewidth": 0,
              "ticks": ""
             }
            },
            "type": "scatter"
           }
          ],
          "scatter3d": [
           {
            "line": {
             "colorbar": {
              "outlinewidth": 0,
              "ticks": ""
             }
            },
            "marker": {
             "colorbar": {
              "outlinewidth": 0,
              "ticks": ""
             }
            },
            "type": "scatter3d"
           }
          ],
          "scattercarpet": [
           {
            "marker": {
             "colorbar": {
              "outlinewidth": 0,
              "ticks": ""
             }
            },
            "type": "scattercarpet"
           }
          ],
          "scattergeo": [
           {
            "marker": {
             "colorbar": {
              "outlinewidth": 0,
              "ticks": ""
             }
            },
            "type": "scattergeo"
           }
          ],
          "scattergl": [
           {
            "marker": {
             "colorbar": {
              "outlinewidth": 0,
              "ticks": ""
             }
            },
            "type": "scattergl"
           }
          ],
          "scattermapbox": [
           {
            "marker": {
             "colorbar": {
              "outlinewidth": 0,
              "ticks": ""
             }
            },
            "type": "scattermapbox"
           }
          ],
          "scatterpolar": [
           {
            "marker": {
             "colorbar": {
              "outlinewidth": 0,
              "ticks": ""
             }
            },
            "type": "scatterpolar"
           }
          ],
          "scatterpolargl": [
           {
            "marker": {
             "colorbar": {
              "outlinewidth": 0,
              "ticks": ""
             }
            },
            "type": "scatterpolargl"
           }
          ],
          "scatterternary": [
           {
            "marker": {
             "colorbar": {
              "outlinewidth": 0,
              "ticks": ""
             }
            },
            "type": "scatterternary"
           }
          ],
          "surface": [
           {
            "colorbar": {
             "outlinewidth": 0,
             "ticks": ""
            },
            "colorscale": [
             [
              0,
              "#0d0887"
             ],
             [
              0.1111111111111111,
              "#46039f"
             ],
             [
              0.2222222222222222,
              "#7201a8"
             ],
             [
              0.3333333333333333,
              "#9c179e"
             ],
             [
              0.4444444444444444,
              "#bd3786"
             ],
             [
              0.5555555555555556,
              "#d8576b"
             ],
             [
              0.6666666666666666,
              "#ed7953"
             ],
             [
              0.7777777777777778,
              "#fb9f3a"
             ],
             [
              0.8888888888888888,
              "#fdca26"
             ],
             [
              1,
              "#f0f921"
             ]
            ],
            "type": "surface"
           }
          ],
          "table": [
           {
            "cells": {
             "fill": {
              "color": "#EBF0F8"
             },
             "line": {
              "color": "white"
             }
            },
            "header": {
             "fill": {
              "color": "#C8D4E3"
             },
             "line": {
              "color": "white"
             }
            },
            "type": "table"
           }
          ]
         },
         "layout": {
          "annotationdefaults": {
           "arrowcolor": "#2a3f5f",
           "arrowhead": 0,
           "arrowwidth": 1
          },
          "coloraxis": {
           "colorbar": {
            "outlinewidth": 0,
            "ticks": ""
           }
          },
          "colorscale": {
           "diverging": [
            [
             0,
             "#8e0152"
            ],
            [
             0.1,
             "#c51b7d"
            ],
            [
             0.2,
             "#de77ae"
            ],
            [
             0.3,
             "#f1b6da"
            ],
            [
             0.4,
             "#fde0ef"
            ],
            [
             0.5,
             "#f7f7f7"
            ],
            [
             0.6,
             "#e6f5d0"
            ],
            [
             0.7,
             "#b8e186"
            ],
            [
             0.8,
             "#7fbc41"
            ],
            [
             0.9,
             "#4d9221"
            ],
            [
             1,
             "#276419"
            ]
           ],
           "sequential": [
            [
             0,
             "#0d0887"
            ],
            [
             0.1111111111111111,
             "#46039f"
            ],
            [
             0.2222222222222222,
             "#7201a8"
            ],
            [
             0.3333333333333333,
             "#9c179e"
            ],
            [
             0.4444444444444444,
             "#bd3786"
            ],
            [
             0.5555555555555556,
             "#d8576b"
            ],
            [
             0.6666666666666666,
             "#ed7953"
            ],
            [
             0.7777777777777778,
             "#fb9f3a"
            ],
            [
             0.8888888888888888,
             "#fdca26"
            ],
            [
             1,
             "#f0f921"
            ]
           ],
           "sequentialminus": [
            [
             0,
             "#0d0887"
            ],
            [
             0.1111111111111111,
             "#46039f"
            ],
            [
             0.2222222222222222,
             "#7201a8"
            ],
            [
             0.3333333333333333,
             "#9c179e"
            ],
            [
             0.4444444444444444,
             "#bd3786"
            ],
            [
             0.5555555555555556,
             "#d8576b"
            ],
            [
             0.6666666666666666,
             "#ed7953"
            ],
            [
             0.7777777777777778,
             "#fb9f3a"
            ],
            [
             0.8888888888888888,
             "#fdca26"
            ],
            [
             1,
             "#f0f921"
            ]
           ]
          },
          "colorway": [
           "#636efa",
           "#EF553B",
           "#00cc96",
           "#ab63fa",
           "#FFA15A",
           "#19d3f3",
           "#FF6692",
           "#B6E880",
           "#FF97FF",
           "#FECB52"
          ],
          "font": {
           "color": "#2a3f5f"
          },
          "geo": {
           "bgcolor": "white",
           "lakecolor": "white",
           "landcolor": "#E5ECF6",
           "showlakes": true,
           "showland": true,
           "subunitcolor": "white"
          },
          "hoverlabel": {
           "align": "left"
          },
          "hovermode": "closest",
          "mapbox": {
           "style": "light"
          },
          "paper_bgcolor": "white",
          "plot_bgcolor": "#E5ECF6",
          "polar": {
           "angularaxis": {
            "gridcolor": "white",
            "linecolor": "white",
            "ticks": ""
           },
           "bgcolor": "#E5ECF6",
           "radialaxis": {
            "gridcolor": "white",
            "linecolor": "white",
            "ticks": ""
           }
          },
          "scene": {
           "xaxis": {
            "backgroundcolor": "#E5ECF6",
            "gridcolor": "white",
            "gridwidth": 2,
            "linecolor": "white",
            "showbackground": true,
            "ticks": "",
            "zerolinecolor": "white"
           },
           "yaxis": {
            "backgroundcolor": "#E5ECF6",
            "gridcolor": "white",
            "gridwidth": 2,
            "linecolor": "white",
            "showbackground": true,
            "ticks": "",
            "zerolinecolor": "white"
           },
           "zaxis": {
            "backgroundcolor": "#E5ECF6",
            "gridcolor": "white",
            "gridwidth": 2,
            "linecolor": "white",
            "showbackground": true,
            "ticks": "",
            "zerolinecolor": "white"
           }
          },
          "shapedefaults": {
           "line": {
            "color": "#2a3f5f"
           }
          },
          "ternary": {
           "aaxis": {
            "gridcolor": "white",
            "linecolor": "white",
            "ticks": ""
           },
           "baxis": {
            "gridcolor": "white",
            "linecolor": "white",
            "ticks": ""
           },
           "bgcolor": "#E5ECF6",
           "caxis": {
            "gridcolor": "white",
            "linecolor": "white",
            "ticks": ""
           }
          },
          "title": {
           "x": 0.05
          },
          "xaxis": {
           "automargin": true,
           "gridcolor": "white",
           "linecolor": "white",
           "ticks": "",
           "title": {
            "standoff": 15
           },
           "zerolinecolor": "white",
           "zerolinewidth": 2
          },
          "yaxis": {
           "automargin": true,
           "gridcolor": "white",
           "linecolor": "white",
           "ticks": "",
           "title": {
            "standoff": 15
           },
           "zerolinecolor": "white",
           "zerolinewidth": 2
          }
         }
        }
       }
      },
      "text/html": [
       "<div>\n",
       "        \n",
       "        \n",
       "            <div id=\"6a2010ba-0bac-45ce-b04c-7794325456c0\" class=\"plotly-graph-div\" style=\"height:525px; width:100%;\"></div>\n",
       "            <script type=\"text/javascript\">\n",
       "                require([\"plotly\"], function(Plotly) {\n",
       "                    window.PLOTLYENV=window.PLOTLYENV || {};\n",
       "                    \n",
       "                if (document.getElementById(\"6a2010ba-0bac-45ce-b04c-7794325456c0\")) {\n",
       "                    Plotly.newPlot(\n",
       "                        '6a2010ba-0bac-45ce-b04c-7794325456c0',\n",
       "                        [{\"customdata\": [[\"The Box Tops\", \"Memphis, TN\"], [\"JennyAnyKind\", \"North Carolina\"], [\"Blue Rodeo\", \"Toronto, Ontario, Canada\"], [\"Richard Souther\", \"United States\"], [\"Jimmy Wakely\", \"Mineola, AR\"], [\"Alice Stuart\", \"Washington\"], [\"Elena\", \"Dubai UAE\"], [\"The Dillinger Escape Plan\", \"Morris Plains, NJ\"], [\"SUE THOMPSON\", \"Nevada, MO\"], [\"Tim Wilson\", \"Georgia\"], [\"Willie Bobo\", \"New York, NY [Spanish Harlem]\"], [\"Faye Adams\", \"Newark, NJ\"], [\"Terry Callier\", \"Chicago\"], [\"John Wesley\", \"Brandon\"], [\"The Shangri-Las\", \"Queens, NY\"], [\"Billie Jo Spears\", \"Beaumont, TX\"], [\"Butthole Surfers\", \"San Antonio, TX\"], [\"Scarlet's Remains\", \"California - LA\"], [\"The Suicide Machines\", \"Detroit, MI\"], [\"The Rolling Stones\", \"London, England\"], [\"Loudon Wainwright III\", \"Chapel Hill, NC\"], [\"R.L. Burnside\", \"Oxford, MS\"], [\"Stevie Ray Vaughan\", \"Dallas, TX\"], [\"Ec8or\", \"Berlin, Germany\"], [\"Eliane Elias\", \"Sao Paulo, Brazil\"], [\"The Germs\", \"Los Angeles, CA\"], [\"Eurythmics\", \"London, England\"], [\"Francis Dunnery\", \"Egremont, Cumbria, England\"], [\"Suzanne Ciani\", \"California - SF\"], [\"The Berzerker\", \"Melbourne, Australia\"], [\"Kings Of Leon\", \"Nashville, Tennessee\"], [\"Bruce Rowland\", \"AUSTRALIA\"], [\"Heavy D / McGruff\", \"Jamaica, West Indies\"], [\"Nine Inch Nails\", \"Cleveland, OH\"], [\"Lesley Gore\", \"New York, NY\"], [\"Emperor\", \"Norway\"], [\"Julien Clerc\", \"FR\"], [\"Glen Campbell\", \"Delight, AR\"], [\"T.G. Sheppard\", \"Humboldt, TN\"], [\"Slim Whitman\", \"Tampa, FL\"], [\"Hank Penny & The Lincoln Penny Orchestra\", \"Birmingham, AL\"], [\"Inspiral Carpets\", \"Manchester, England\"], [\"Eddie Cantor\", \"New York, NY\"], [\"Kai Winding\", \"Aarhus, Denmark\"], [\"Sonny Simmons\", \"Sicily Island, LA\"], [\"Ellen McIlwaine\", \"Nashville, TN\"], [\"Vince Guaraldi / Bola Sete\", \"San Francisco, CA\"], [\"Horace Andy\", \"Kingston, Jamaica\"], [\"Tyrone Davis\", \"Greenville, MS\"], [\"Hot Tuna\", \"San Francisco, CA\"], [\"Richard Burton\", \"Pennsylvania\"], [\"Rory Block\", \"New York, NY\"], [\"Howard Armstrong\", \"Dayton, TN\"], [\"Donny Hathaway\", \"Chicago, IL\"], [\"Morel\", \"Washington DC\"], [\"Tony Joe White\", \"Goodwill, LA\"], [\"Bob Margolin\", \"Boston, MA\"], [\"The Verve Pipe\", \"Lansing, MI\"], [\"Bob Neuwirth\", \"New York\"], [\"Marvin Sapp\", \"Grand Rapids, MI\"], [\"James Hunter\", \"Austin\"], [\"Maxi Priest\", \"Great Britain / UK\"], [\"Robben Ford\", \"Ukiah, CA\"], [\"Gil Semedo\", \"Netherlands\"], [\"Dolce; Oscar G.\", \"Oklahoma\"], [\"Britt Nicole\", \" NC\"], [\"Enthroned\", \"Belgica -- Namur, Namur/Ghent, East Flanders\"], [\"Suzanne Ciani\", \"California - SF\"], [\"Rance Allen Group\", \"Detroit, MI\"], [\"Pearl Jam\", \"Seattle, WA\"], [\"Kiril Valeri\", \"Jerez De La Frontera (C\\\\xc3\\\\xa1diz)\"], [\"BT\", \"Earth\"], [\"The Jordanaires\", \"Springfield, MO\"], [\"L.A. Guns\", \"katy\"], [\"Shelley Fabares\", \"Santa Monica, CA\"], [\"Norrie Paramor\", \"England\"], [\"Diesel Boy\", \"Santa Rosa, California\"], [\"Angelo Badalamenti\", \"New Jersey\"], [\"Jim Chappell\", \"United States\"], [\"Ladybug\", \"NY - New York City\"], [\"Nine Inch Nails\", \"Cleveland, OH\"], [\"Leland Martin\", \"Blandford, MA\"], [\"Heaven 17\", \"London, England\"], [\"Mance Lipscomb\", \"Navasota, TX\"], [\"Scott Wesley Brown\", \"Atlanta Georgia USA\"], [\"Soular\", \"Oregon\"], [\"Public Image Ltd\", \"London, England\"], [\"Gary Moore\", \"Belfast, Northern Ireland\"], [\"Daniela Dess\\\\xc3\\\\xac\", \"Genova\"], [\"Hem\", \"NY - New York City\"], [\"Jason Miles\", \"NY - New York City\"], [\"Byther Smith\", \"Monticello, MS\"], [\"Bizarre Inc\", \"Stafford, England\"], [\"Bongzilla\", \"Madison, Wisconsin\"], [\"Laurindo Almeida / Carlos Barbosa-Lima / Charlie Byrd\", \"Sao Paulo, Brazil\"], [\"Brian Keane\", \"Texas\"], [\"Gloriana\", \"Nashville, TN.\"], [\"Grant Geissman\", \"PEARLINGTON, Mississippi\"], [\"Orbital\", \"Sevenoaks, United Kingdom\"], [\"N.W.A.\", \"Compton, California, USA.\"], [\"Jazz Gillum\", \"Indianola, MS\"], [\"Agnes\", \"Sweden\"], [\"James Horner\", \"Los Angeles, CA\"], [\"Blind Blake & The Royal Victoria Hotel Calypsos\", \"Jacksonville, FL\"], [\"Percy Faith\", \"Toronto, Ontario, Canada\"], [\"Prozak\", \"London\"], [\"Jerry Butler\", \"Sunflower, MS\"], [\"Horace Andy\", \"Kingston, Jamaica\"], [\"Jimmy Wakely\", \"Mineola, AR\"], [\"Rah Digga (Featuring Outsidaz)\", \"New Jersey\"], [\"Angelo Badalamenti\", \"New Jersey\"], [\"Frank Chacksfield\", \"Battle, Sussex, England\"], [\"Buzzhorn\", \"Milwaukee, WI\"], [\"Sandi Thom\", \"Scotland\"], [\"Carl Belew\", \"Salina, OK\"], [\"Billy Higgins_ Bob Berg_ Cedar Walton_ Tony Dumas\", \"Los Angeles, CA\"], [\"Catherine Howe\", \"Yorkshire, England\"], [\"Strata\", \"Campbell, CA\"], [\"James Darren\", \"Philadelphia, PA\"], [\"The Shirelles\", \"Passaic, NJ\"], [\"The American Boychoir\", \"New Jersey\"], [\"Jan Howard\", \"West Plains, MO\"], [\"Abraham Laboriel\", \"Mexico City, Mexico\"], [\"Danny Wilson\", \"Dundee, Scotland\"], [\"Lionel Rogg\", \"Geneva, Switzerland\"], [\"SWAMI featuring Asuivre\", \"Birmingham/ London, UK\"], [\"Lisa Lynne\", \"California - LA\"], [\"Shawn Colvin\", \"Vermillion, SD\"], [\"Backstreet Boys\", \"Orlando, FL\"], [\"Tiny Tim\", \"New York, NY\"], [\"David Martin\", \"California - SF\"], [\"John Davis\", \"Pennsylvania\"], [\"Trafik\", \"Utah\"], [\"Nick Ingman;Gavyn Wright\", \"London, England\"], [\"Steel Rain\", \"California - SF\"], [\"Gloriana\", \"Nashville, TN.\"], [\"Bombay Rockers\", \"Denmark\"], [\"Jinx\", \"Zagreb Croatia\"], [\"Danilo Perez\", \"Panama\"], [\"King Curtis\", \"Fort Worth, TX\"], [\"Sophie B. Hawkins\", \"New York, NY [Manhattan]\"], [\"Lupe Fiasco\", \"Chicago, IL\"], [\"Bitter End\", \"Noci (BA)\"], [\"Ethel Merman\", \"New York, NY [Astoria, Queens]\"], [\"Leon Russell & New Grass Revival\", \"Lawton, OK\"], [\"Lisa Lynne\", \"California - LA\"], [\"A Static Lullaby\", \"Chino Hills, CA\"], [\"John Wesley_ John Wesley\", \"Brandon\"], [\"Nights Like These\", \"Memphis, TN\"], [\"John Davis & Emma Doyle\", \"Pennsylvania\"], [\"Stew\", \"New York\"], [\"Eddy Arnold\", \"Madisonville, TN\"], [\"Richard Galliano\", \"Le Cannet, France\"], [\"Debbie Davies\", \"Los Angeles, CA\"], [\"Jay Tee & Baby Bash\", \"California - SF\"], [\"UFO\", \"Arizona\"], [\"Pat Travers\", \"Toronto, Canada\"], [\"Philippe Sarde\", \"Neuilly-sur-Seine, France\"], [\"Orquesta Arag\\\\xc3\\\\xb3n\", \"Cuba\"], [\"Jason Miles\", \"NY - New York City\"], [\"VHS Or Beta\", \"Louisville, KY\"], [\"Zuzu Bollin\", \"Frisco, TX\"], [\"Marcus Miller\", \"Brooklyn, NY\"], [\"Public Image Ltd\", \"London, England\"], [\"Richard Galliano\", \"Le Cannet, France\"], [\"Helen Love\", \"Cardiff, Wales\"], [\"Pursuit Of Happiness\", \"Toronto, Ontario, Canada\"], [\"Bobby Hutcherson\", \"Los Angeles, CA\"], [\"The Pharcyde\", \"Los Angeles, CA\"], [\"Jackie Edwards\", \"Jamaica\"], [\"Richard Galliano\", \"Le Cannet, France\"], [\"Leila Chicot\", \"FRANCE\"], [\"The Pharcyde / Big Boy / Schmooche Cat / Randy Mack\", \"Los Angeles, CA\"], [\"A Static Lullaby\", \"Chino Hills, CA\"], [\"Scar Symmetry\", \"Sweden\"], [\"Eighteen Visions\", \"Orange County, CA\"], [\"Elmore James\", \"Richland, MS\"], [\"Rising Lion\", \"Florida\"], [\"Boots Randolph\", \"Paducah, KY\"], [\"Bobbie Gentry\", \"Chickasaw County, MS\"], [\"Creedence Clearwater Revived\", \"Lanciano Italy\"], [\"B.A.D.\", \"London, England\"], [\"Circular\", \"Bergen, Norway\"], [\"The Bucketheads\", \"New York, NY\"], [\"Kinky\", \"Monterrey, Nuevo Le\\\\xc3\\\\xb3n, M\\\\xc3\\\\xa9xico\"], [\"Eddie Boyd\", \"Stovall, MS\"], [\"Hatebreed\", \"New Haven, CT\"], [\"J.J. Cale\", \"Oklahoma City, OK\"], [\"Precious Bryant\", \"North Carolina\"], [\"Kings Of Leon\", \"Nashville, Tennessee\"], [\"Selena\", \"Texas\"], [\"Claire Hamill\", \"UK - England - South East\"], [\"Black Flag\", \"Los Angeles, CA\"], [\"Mary Black\", \"Ireland\"], [\"Bobby Bland\", \"Rosemark, TN\"], [\"The Rascals\", \"New York, NY\"], [\"Blind Blake\", \"Jacksonville, FL\"], [\"Emilia\", \"Bridgeport, CT\"], [\"C\\\\xc3\\\\xb3mplices\", \"ES\"], [\"Emilio\", \"SAN ANTONIO, Texas\"], [\"Turisas\", \"H\\\\xef\\\\xbf\\\\xbdenlinna, Finland\"], [\"Justin\", \"Georgia\"], [\"Little Freddie King\", \"Louisiana\"], [\"Ms. Dynamite\", \"London\"], [\"Selena\", \"Texas\"], [\"John Brown\", \"North Carolina\"], [\"Chaotica\", \"Arizona\"], [\"Elvin Bishop\", \"Glendale, CA\"], [\"Gordon Jenkins\", \"Webster Groves, MO\"], [\"Neil Innes\", \"Essex, England\"], [\"Marcus Miller\", \"Brooklyn, NY\"], [\"Claire Hamill\", \"UK - England - South East\"], [\"Alan Silvestri\", \"New York, NY\"], [\"Byther Smith\", \"Monticello, MS\"], [\"Donny Hathaway\", \"Chicago, IL\"], [\"Chico\", \"Tennessee\"], [\"KALIMBA\", \"Mexico City, Mexico\"], [\"Architecture In Helsinki\", \"Melbourne\"], [\"Bobby Darin\", \"New York, NY [The Bronx]\"], [\"Ill Nino\", \"Nueva Jersey (Estados Unidos)\"], [\"M.I.K.E.\", \"Antwerp,Belgium, New York\"], [\"Willie Rosario\", \"Cuomo, Puerto Rico\"], [\"The Red Telephone\", \"Mass. - Boston\"], [\"T-Bone\", \"Thaba Nchu\"], [\"The Radio Dept.\", \"Lund, Sweden\"], [\"Becky Baeling\", \"Rochester, MI\"], [\"Keb' Mo'\", \"Los Angeles, CA\"], [\"THE CHIFFONS\", \"New York, NY [The Bronx]\"], [\"Commissioned\", \"Michigan\"], [\"Dee Clark\", \"Blythesville, AR\"], [\"Cauterize\", \"Ohsawa, Ontario\"], [\"Joi\", \"Georgia\"], [\"Robben Ford\", \"Ukiah, CA\"], [\"Bobby Vee\", \"Fargo, ND\"], [\"Tora Tora\", \"Memphis, TN\"], [\"Hot Chip\", \"London\"], [\"Jeff Beck\", \"Wallington, Surrey, England\"], [\"Taboo\", \"Cape Town, ZA\"], [\"Ashes to Ashes\", \"NORWAY\"], [\"Fudge Tunnel\", \"Nottingham\"], [\"Edgar Bori\", \"Montreal\"], [\"Jimmy Witherspoon\", \"Gurdon, AR\"], [\"Eliane Elias\", \"Sao Paulo, Brazil\"], [\"Dave Eggar\", \"California - LA\"], [\"Donnie Brooks\", \"Dallas, Texas\"], [\"2raumwohnung\", \"Berlin, Germany\"], [\"Babylon Disco\", \"Karlstad\"], [\"Dino\", \"Encino, CA\"], [\"GG Allin\", \"Lancaster, NH\"], [\"Buzzcocks\", \"London / Ex-Manchester\"], [\"Stanley Clarke\", \"Philadelphia, PA\"], [\"Jesse Malin and The St. Marks Social\", \"Whitestone, Queens, NY\"], [\"Ma Rainey\", \"Columbus, GA\"], [\"Christian McBride\", \"Philadelphia, PA\"], [\"Jim Kweskin\", \"Stamford, CT\"], [\"Muse\", \"UK\"], [\"Enthroned\", \"Belgica -- Namur, Namur/Ghent, East Flanders\"], [\"Jo-El Sonnier\", \"Rayne, LA\"], [\"Vanessa Bell Armstrong\", \"Detroit, MI\"], [\"Arthur Tracy\", \"Kamenetz-Podolsk, Moldavia\"], [\"Angelo Badalamenti\", \"New Jersey\"], [\"C.C. Adcock\", \"Louisiana\"], [\"James Horner\", \"Los Angeles, CA\"], [\"John Legend [feat. Buju Banton]\", \"Hawaii\"], [\"Bury Your Dead\", \"Boston, Massachusetts\"], [\"Our Time Down Here\", \"Great Britain / UK\"], [\"Pee Wee King\", \"Milwaukee, WI\"], [\"Les Blaireaux\", \"Lille (59)\"], [\"Bersuit Vergarabat\", \"Buenos Aires\"], [\"Baby Grand\", \"California\"], [\"Roy Rogers\", \"Redding, CA\"], [\"Reni\", \"Manchester, England\"], [\"Falco\", \"Vienna, Austria\"], [\"New Roanoke Jug Band\", \"Virginia\"], [\"Dilated Peoples\", \"Los Angeles, California\"], [\"Charles Williams\", \"Texas\"], [\"Bob Wills\", \"Kosse, TX\"], [\"David Martin\", \"California - SF\"], [\"The Animals_ Sonny Boy Williamson\", \"Newcastle\"], [\"T-Bone Walker\", \"Linden, TX\"], [\"Walter Jackson\", \"Pensacola, FL\"], [\"Justin\", \"Georgia\"], [\"Bizzy Bone Presents\", \"Columbus, OH\"], [\"Jerry Reed\", \"OCALA, Florida\"], [\"Rui Da Silva\", \"London\"], [\"Sister Rosetta Tharpe\", \"Cotton Plant, AR\"], [\"Kris Kristofferson\", \"Brownsville, TX\"], [\"Gary Moore\", \"Belfast, Northern Ireland\"], [\"Maurane / Lara Fabian\", \"Ixelles, Belgium\"], [\"Goatwhore\", \"New Orleans, LA\"], [\"We Show Up On Radar\", \"nottingham\"], [\"SUMO\", \"New Hampshire\"], [\"Basic Channel\", \"Berlin, Germany\"], [\"Tammy Wynette\", \"Itawamba County, MS\"], [\"Whitesnake\", \"London, England\"], [\"Chet Atkins\", \"Luttrell, TN\"], [\"Terry Riley\", \"Colfax, CA\"], [\"Luiz Bonfa\", \"Rio de Janeiro, Brazil\"], [\"Chango Spasiuk\", \"Argentina\"], [\"Charley Patton\", \"Edwards, MS\"], [\"Yahir\", \"Hermosillo Sonora, Mexico\"], [\"Jerry Goldsmith\", \"Los Angeles, CA\"], [\"Papa Wemba\", \"Kasai, Zaire\"], [\"Richard Galliano\", \"Le Cannet, France\"], [\"Ten Years After\", \"Nottingham, England\"], [\"Sweet\", \"London, England\"], [\"Helen Love\", \"Cardiff, Wales\"], [\"Ty Herndon;Stephanie Bentley\", \"Meridian, MS\"], [\"Gary Morris\", \"Fort Worth, TX\"], [\"Faye Adams\", \"Newark, NJ\"], [\"Cali\", \"Vernet les Bains\"], [\"Deborah Allen\", \"Memphis, TN\"], [\"The Master Musicians of Jajouka featuring Bachir Attar\", \"London, England\"], [\"John Holt\", \"Kingston, Jamaica\"], [\"Tina Britt\", \"Florida\"], [\"MxPx\", \"Bremerton, WA\"], [\"C.J. Chenier\", \"Port Arthur, TX\"], [\"J.J. Cale\", \"Oklahoma City, OK\"], [\"Theodis Ealey\", \"Georgia\"], [\"Janet Paschal\", \"North Carolina\"], [\"Souls Of Mischief\", \"Oakland, CA\"], [\"Steve Wilson\", \"Texas\"], [\"Kris Kristofferson\", \"Brownsville, TX\"], [\"Matisyahu\", \"Brooklyn, NY\"], [\"Donny Hathaway\", \"Chicago, IL\"], [\"Javier Mendoza Band\", \"United States\"], [\"Sapo\", \"California - LA\"], [\"Eddie Money\", \"Brooklyn, NY\"], [\"Sade\", \"Ibadan, Nigeria\"], [\"Elliot Goldenthal\", \"New York, NY\"], [\"Delroy Wilson\", \"Kingston, Jamaica\"], [\"Horace Andy\", \"Kingston, Jamaica\"], [\"Los Van Van\", \"Cuba\"], [\"Outerspace\", \"Philadelphia, PA\"], [\"Stevie Ray Vaughan And Double Trouble\", \"Dallas, TX\"], [\"The Creation\", \"Middlesex, England\"], [\"The Balustrade Ensemble\", \"san francisco\"], [\"The Box Tops\", \"Memphis, TN\"], [\"Terry Callier\", \"Chicago\"], [\"Ultimate Fakebook\", \"Manhattan, Kansas\"], [\"Astarte\", \"Athens, Greece\"], [\"Prisma\", \"Switzerland\"], [\"Tommy James & The Shondells\", \"Dayton, OH\"], [\"Marcus Miller\", \"Brooklyn, NY\"], [\"Charles Williams\", \"Texas\"], [\"Z.Z. Hill\", \"Naples, TX\"], [\"John Michael Talbot\", \"Oklahoma City, OK\"], [\"Britney Spears\", \"Kentwood, LA; Los Angeles, CA\"], [\"Kix\", \"Hagerstown, MD\"], [\"Slightly Stoopid\", \"Ocean Beach, San Diego, CA\"], [\"Leroy Hutson\", \"Newark, NJ\"], [\"Whitesnake\", \"London, England\"], [\"Semisonic\", \"Minneapolis, MN\"], [\"Laid Back\", \"Denmark\"], [\"Willie Clayton\", \"Indianola, MS\"], [\"Marlene Dietrich\", \"Sch\\\\xef\\\\xbf\\\\xbderg, Germany\"], [\"Willie Clayton\", \"Indianola, MS\"], [\"Cancer Bats\", \"Toronto, Ontario, Canada\"], [\"Roy Rogers\", \"Redding, CA\"], [\"Uman\", \"Belgium\"], [\"Sophie Tucker\", \"Russia\"], [\"Agency 1.9.9.4\", \"South Carolina\"], [\"Blackalicious\", \"Davis, CA\"], [\"Jenney\", \"Stockholm\"], [\"Shamen\", \"Aberdeen, Scotland\"], [\"Ray Boltz & Steve Millikan\", \"MUNCIE, Indiana\"], [\"J. B. Lenoir\", \"Monticello, MS\"], [\"Rihanna\", \"St Michael, Barbados \"], [\"Fuzz\", \"Arizona\"], [\"Republica;Jonny Male;Dave Arch\", \"London, England\"], [\"Skrape\", \"Orlando, Florida\"], [\"Pee Wee King\", \"Milwaukee, WI\"], [\"Rancid\", \"Bay Area, CA\"], [\"Primordial\", \"Dublin, Ireland\"], [\"Bersuit Vergarabat\", \"Buenos Aires\"], [\"NewFound Road\", \"Ohio\"], [\"Ray Conniff\", \"Attleboro, MA\"], [\"The High Strung\", \"Detroit, MI\"], [\"Nic Endo\", \"Texas\"], [\"Kim Wilson\", \"Detroit, MI\"], [\"Suicidal Tendencies\", \"Venice, CA\"], [\"Bobby Vee\", \"Fargo, ND\"], [\"Jennifer Brown\", \"PLAINVIEW, Texas\"], [\"The Kitchen\", \"CANADA - Ontario\"], [\"Statues\", \"Sudbury, Ontario - Canada\"], [\"Cam'Ron / JR Writer\", \"Harlem, NY\"], [\"Cornell Campbell\", \"Jamaica\"], [\"Little Feat\", \"Los Angeles, CA\"], [\"Mikey Dread\", \"Jamaica\"], [\"Death From Above 1979\", \"BA\"], [\"Edmundo Ros\", \"Venezuela\"], [\"The Antlers\", \"Brooklyn, NY\"], [\"Lionel Rogg\", \"Geneva, Switzerland\"], [\"Elliot Goldenthal\", \"New York, NY\"], [\"John Brown\", \"North Carolina\"], [\"Marilyn Horne / Wiener Opernorchester / Henry Lewis\", \"Great Britain / UK\"], [\"James Scott Skinner\", \"Aberdeen, Scotland\"], [\"Abraham Laboriel\", \"Mexico City, Mexico\"], [\"Grupo Batuque\", \"Brazil\"], [\"Sugar Minott\", \"Kingston, Jamaica\"], [\"Mudhoney\", \"Seattle, WA\"], [\"Dino\", \"Encino, CA\"], [\"Open Hand\", \"Mass. - Boston\"], [\"Pumpkin Buzzard\", \"Missouri\"], [\"Sugar Minott\", \"Kingston, Jamaica\"], [\"Marvin Sapp\", \"Grand Rapids, MI\"], [\"Kartik Seshadri\", \"Kingston, Jamaica\"], [\"Charlie Rich\", \"Benton, Arkansas\"], [\"Kris Kristofferson\", \"Brownsville, TX\"], [\"Bad Religion\", \"Los Angeles, Ca\"], [\"Jackie Davis\", \"Jacksonville, FL\"], [\"Shawn Colvin\", \"Vermillion, SD\"], [\"Irwin Goodman\", \"H\\\\xc3\\\\xa4meenlinna\"], [\"Pedro Aznar\", \"Buenos Aires, Argentina\"], [\"Marty Robbins\", \"Glendale, AZ\"], [\"Sugar Minott\", \"Kingston, Jamaica\"], [\"Unison\", \"Florida\"], [\"Alternative TV\", \"London, England\"], [\"Mat Kearney\", \"Nashville, TN\"], [\"Ronnie Milsap\", \"Robbinsville, NC\"], [\"Irma Thomas\", \"Ponchatoula, LA\"], [\"VHS Or Beta\", \"Louisville, KY\"], [\"T.G. Sheppard\", \"Humboldt, TN\"], [\"Clifton Chenier\", \"Opelousas, LA\"], [\"Jimmy Cliff\", \"St. Catherine, Jamaica\"], [\"The Forms\", \"Brooklyn, New York\"], [\"Lionel Rogg\", \"Geneva, Switzerland\"], [\"Connie Francis\", \"Newark, NJ\"], [\"The Clancy Brothers\", \"Ireland\"], [\"Ice-T & Chuck D\", \"New York, NY\"], [\"Sweet\", \"London, England\"], [\"Hot Tuna\", \"San Francisco, CA\"], [\"Andre Verchuren\", \"Neuilly-sous-Clermont (Oise)\"], [\"Scott Wesley Brown\", \"Atlanta Georgia USA\"], [\"Tiny Tim\", \"New York, NY\"], [\"At All Cost\", \"Austin, Texas\"], [\"Shamen\", \"Aberdeen, Scotland\"], [\"William Coulter\", \"California\"], [\"Charles Williams And His Orchestra\", \"Texas\"], [\"Malcolm McLaren\", \"Great Britain / UK\"], [\"Avril Lavigne\", \"Belleville, Ontario, Canada\"], [\"Bumblefoot\", \"New Jersey\"], [\"Hem\", \"NY - New York City\"], [\"The Shamen\", \"Aberdeen, Scotland\"], [\"Jackie Edwards\", \"Jamaica\"], [\"The Moody Blues\", \"Birmingham\"], [\"Arturo Sandoval\", \"Artemisa, Cuba\"], [\"Tommy Overstreet\", \"Oklahoma City, OK\"], [\"Professor Longhair\", \"Bogalusa, LA\"], [\"Black Flag\", \"Los Angeles, CA\"], [\"Sivuca\", \"Itabaiana, Para\\\\xef\\\\xbf\\\\xbd, Brazil\"], [\"Luis Alberto Spinetta\", \"Buenos Aires, Argentina\"], [\"Blind Boy Fuller\", \"Wadesboro, NC\"], [\"Sunscreem\", \"Essex, England\"], [\"Robert Lockwood_ Jr.\", \"Marvell, AR\"], [\"Muse\", \"UK\"], [\"Jeremy Spencer\", \"West Hartlepool, England\"], [\"Bob Margolin\", \"Boston, MA\"], [\"Kingston Trio\", \"Palo Alto, CA\"], [\"Little Eva\", \"Bellhaven, NC\"], [\"Joe Turner\", \"Mississippi\"], [\"Frank Chacksfield\", \"Battle, Sussex, England\"], [\"David Bowie\", \"London, UK\"], [\"Agnes\", \"Sweden\"], [\"T.O.K.\", \"YAHD!\"], [\"Leo Gandelman\", \"Rio de Janeiro, BR\"], [\"Leon Russell\", \"Lawton, OK\"], [\"Bill Laswell\", \"New York City (Salem, IL - originally)\"], [\"Herbst9_ Z'ev\", \"L.E.\"], [\"Del Tha Funkee Homosapien\", \"Oakland, CA\"], [\"Rihanna\", \"St Michael, Barbados \"], [\"Britney Spears feat. Pharrell Williams\", \"Kentwood, LA; Los Angeles, CA\"], [\"Britney Spears\", \"Kentwood, LA; Los Angeles, CA\"], [\"Helmet\", \"New York\"], [\"Martin Denny\", \"New York, NY\"], [\"Ray Sandoval\", \"Tucson, Arizona\"], [\"Shaman\", \"Brazil\"], [\"Choir & Great Symphony Orchestra of the All-Union Radio_ N. Shpiller_ S. Krassovsky_ V. Gagarina & N\", \"Nashville, Franklin, Brentwood\"], [\"Delbert McClinton\", \"Lubbock, TX\"], [\"Rhian Benson\", \"Ghana\"], [\"Bessie Smith\", \"Chattanooga, TN\"], [\"MC5\", \"Lincoln Park, MI\"], [\"Washboard Sam\", \"Walnut Ridge, AR\"], [\"Tammy Wynette\", \"Itawamba County, MS\"], [\"OutKast\", \"Atlanta, GA\"], [\"Otis Taylor\", \"Chicago, IL\"], [\"Righteous Brothers\", \"California\"], [\"The Clancy Brothers\", \"Ireland\"], [\"Michael Whalen\", \"New York\"], [\"John D. Loudermilk\", \"Durham, NC\"], [\"Glen Campbell And Bobbie Gentry\", \"Chickasaw County, MS\"], [\"Arturo Sandoval\", \"Artemisa, Cuba\"], [\"Dub Pistols feat. Lindy Layton & Rodney P\", \"London, England\"], [\"Paul Taylor / Terry Dexter\", \"Wyoming\"], [\"Bukue One\", \"California\"], [\"Hiram Bullock\", \"Osaka, Japan\"], [\"Serpentine\", \"Switzerland\"], [\"Slim Whitman\", \"Tampa, FL\"], [\"Thomas Dolby\", \"Cairo, Egypt\"], [\"Justin\", \"Georgia\"], [\"Barbara Lusch\", \"Oregon\"], [\"Rapha\\\\xc3\\\\xabl\", \"France\"], [\"Sugar Minott\", \"Kingston, Jamaica\"], [\"Martha Wainwright\", \"NY - New York City\"], [\"Stevie Ray Vaughan And Double Trouble\", \"Dallas, TX\"], [\"Mance Lipscomb\", \"Navasota, TX\"], [\"Maurane\", \"Ixelles, Belgium\"], [\"Bill Laswell\", \"New York City (Salem, IL - originally)\"], [\"Jazz Gillum\", \"Indianola, MS\"], [\"Buddy Jewell\", \"Lepanto, AR\"], [\"Joe Heaney\", \"Washington\"], [\"Helen O'Connell\", \"Lima, OH\"], [\"Chaotica\", \"Arizona\"], [\"Muse\", \"UK\"], [\"Willie Clancy\", \"Miltown Malbay, Ireland\"], [\"Chris Clark\", \"Los Angeles, CA\"], [\"Sick Puppies\", \"Sydney, Australia\"], [\"Los Fabulosos Cadillacs\", \"Buenos Aires.\"], [\"Loretta Lynn\", \"Nashville, TN, Texas\"], [\"Joe Rogan\", \"Newark, NJ\"], [\"The Fray\", \"Denver, CO\"], [\"Groucho Marx\", \"FORT LAUDERDALE, Flevoland\"], [\"Skeeter Davis\", \"Dry Ridge, KY\"], [\"Skeeter Davis\", \"Dry Ridge, KY\"], [\"The Rolling Stones\", \"London, England\"], [\"Dexys Midnight Runners\", \"Birmingham, England\"], [\"Jean-Jacques Goldman\", \"Paris, France\"], [\"T-la Rock\", \"NEW YORK, New York\"], [\"Dr. Elmo\", \"California - SF\"], [\"Tommy Castro\", \"San Jose, CA\"], [\"Gus Cannon\", \"Red Banks, MS\"], [\"Suicide\", \"New York, NY\"], [\"Sylvester Weaver\", \"Louisville, KY\"], [\"Jedi Mind Tricks\", \"Philadelphia, PA\"], [\"Broadcast\", \"Birmingham, England\"], [\"Fiona\", \"New York, NY\"], [\"Mindless Self Indulgence\", \"New York, NY\"], [\"Laurindo Almeida\", \"Sao Paulo, Brazil\"], [\"Mandi\", \"Basingstoke\"], [\"The Color Red\", \"Riverside, CA\"], [\"Jim Bryson\", \"Ottawa, ON, Canada\"], [\"Marcie Blane\", \"Brooklyn, NY\"], [\"Curtis Mayfield\", \"Chicago, IL\"], [\"PMD\", \"Long Island, NY\"], [\"Tom Cochrane\", \"Lynn Lake, Manitoba, Canada\"], [\"Roy Drusky\", \"Atlanta, GA\"], [\"SAF\", \"Gent\"], [\"Pursuit Of Happiness\", \"Toronto, Ontario, Canada\"], [\"The Stooges\", \"Ann Arbor, MI\"], [\"Shanadoo\", \"Tokyo\"], [\"Erik Berglund\", \"Texas\"], [\"Moonspell\", \"Portugal\"], [\"Andr\\\\xc3\\\\xa9a\", \"UK - England - Yorkshire\"], [\"Heaven 17\", \"London, England\"], [\"The Suicide Machines\", \"Detroit, MI\"], [\"Kenny Neal\", \"New Orleans, LA\"], [\"MC5\", \"Lincoln Park, MI\"], [\"Francis Dunnery\", \"Egremont, Cumbria, England\"], [\"Julien Clerc\", \"FR\"], [\"Off Broadway\", \"Oak Park, IL\"], [\"Pumpkin Buzzard\", \"Missouri\"], [\"Memphis Minnie\", \"Algiers, LA\"], [\"Caspa\", \"London\"], [\"Pacha Massive\", \"New York, NY\"], [\"Peppermint Creeps\", \"California - LA\"], [\"Gloria\", \"BG\"], [\"Wilshire\", \"GREENSBORO, North Carolina\"], [\"Legacy Five\", \"Tennessee\"], [\"Nickelback\", \"Hanna, Alberta, Canada\"], [\"Ang\\\\xc3\\\\xa9lica Mar\\\\xc3\\\\xada\", \"New Orleans, LA\"], [\"The Ocean\", \"London, Ontario, Canada\"], [\"Josh White\", \"Greensboro, NC\"], [\"The Paynes\", \"United States\"], [\"Washboard Sam\", \"Walnut Ridge, AR\"], [\"Semisonic\", \"Minneapolis, MN\"], [\"Vanessa Bell Armstrong\", \"Detroit, MI\"], [\"Tito Rodriguez_ Louie Ramirez\", \"San Juan, Puerto Rico\"], [\"Blind Blake & The Royal Victoria Hotel Calypsos\", \"Jacksonville, FL\"], [\"John Tchicai\", \"Copenhagen, Denmark\"], [\"Toots Thielemans\", \"Brussels, Belgium\"], [\"Tad\", \"Seattle, WA\"], [\"Ultimate Fakebook\", \"Manhattan, Kansas\"], [\"Between The Buried And Me\", \"Charlotte, NC\"], [\"Yahir\", \"Hermosillo Sonora, Mexico\"], [\"Static-X\", \"Alabama\"], [\"Skeeter Davis\", \"Dry Ridge, KY\"], [\"Gruppo Jazz Marca\", \"Great Britain / UK\"], [\"Shakedown\", \"California\"], [\"Stewart Francke\", \"Michigan\"], [\"James Last\", \"Bremen, Germany\"], [\"Bill Perkins\", \"San Francisco, CA\"], [\"Bert Kaempfert And His Orchestra\", \"Hamburg, Germany\"], [\"Miossec\", \"Brest, France\"], [\"Atari Teenage Riot\", \"Berlin, Germany\"], [\"Sleepy John Estes\", \"Ripley, TN\"], [\"The Mad Capsule Markets\", \"JP\"], [\"Roger Williams\", \"Omaha, NE\"], [\"Del Tha Funkee Homosapien\", \"Oakland, CA\"], [\"Alice Cooper\", \"Detroit, MI\"], [\"Kai Winding\", \"Aarhus, Denmark\"], [\"Cal Tjader\", \"St. Louis, MO\"], [\"Ill Nino\", \"Nueva Jersey (Estados Unidos)\"], [\"Dive\", \"NY - Upstate NY\"], [\"Barbara Lusch\", \"Oregon\"], [\"Brand X\", \"Sikeston, MO\"], [\"Charlie Rich\", \"Benton, Arkansas\"], [\"Virtuoso\", \"Louisiana\"], [\"Karen Peck And New River\", \"Tennessee\"], [\"Judy Mowatt\", \"Jamaica\"], [\"Marlene Dietrich\", \"Sch\\\\xef\\\\xbf\\\\xbderg, Germany\"], [\"David Cook\", \"Tulsa, Oklahoma\"], [\"Liars\", \"LA / NYC\"], [\"Gabriel Yared\", \"Beirut, Lebanon\"], [\"Gustavo A. Santaolalla\", \"Buenos Aires, Argentina\"], [\"Billie Jo Spears\", \"Beaumont, TX\"], [\"Diesel Boy\", \"Santa Rosa, California\"], [\"Milo\", \"Champaign-Urbana, IL\"], [\"The Lord Weird Slough Feg\", \"California - SF\"], [\"Eddie Jones\", \"Greenwood, MS\"], [\"Pacha Massive\", \"New York, NY\"], [\"Amoral\", \"Helsinki, Finland\"], [\"Nine Inch Nails\", \"Cleveland, OH\"], [\"The Fabulous Thunderbirds\", \"Austin, TX\"], [\"Tex Williams\", \"Ramsey, Fayette County, IL\"], [\"Faithless\", \"London, England\"], [\"Marion Harris\", \"Indiana\"], [\"Willie Bobo\", \"New York, NY [Spanish Harlem]\"], [\"Rick Astley\", \"Newton-le-Willows, Merseyside, England\"], [\"Hot Chip\", \"London\"], [\"Los Fabulosos Cadillacs\", \"Buenos Aires.\"], [\"Georges Brassens\", \"S\\\\xef\\\\xbf\\\\xbd, France\"], [\"Mudhoney\", \"Seattle, WA\"], [\"Mink DeVille\", \"New York, NY\"], [\"Mongo Santamaria\", \"Havana, Cuba [Jesus Maria]\"], [\"Vincenzo Bellini\", \"Catania, Italy\"], [\"Ronnie Milsap\", \"Robbinsville, NC\"], [\"Jimmy Wakely\", \"Mineola, AR\"], [\"James Scott Skinner\", \"Aberdeen, Scotland\"], [\"Between The Buried And Me\", \"Charlotte, NC\"], [\"Tiny Bradshaw\", \"Youngstown, OH\"], [\"Andr\\\\xc3\\\\xa9 Verchuren\", \"Neuilly-sous-Clermont (Oise)\"], [\"Otis Spann\", \"Jackson, MS\"], [\"Jerry Goldsmith\", \"Los Angeles, CA\"], [\"Eurythmics\", \"London, England\"], [\"A Perfect Murder\", \"CA\"], [\"Talvin Singh\", \"London, England\"], [\"Tampa Red\", \"Smithville, GA\"], [\"Every Time I Die\", \"Buffalo, New York\"], [\"Diamond D\", \"Florida\"], [\"The White Stripes\", \"Nashville / Los Angeles\"], [\"Ndala Kasheba\", \"Tanzania\"], [\"New Roanoke Jug Band\", \"Virginia\"], [\"Rancid\", \"Bay Area, CA\"], [\"George Michael\", \"London, England\"], [\"Babe Ruth\", \"Hatfield, Hertfordshire, England\"], [\"Ronnie Milsap\", \"Robbinsville, NC\"], [\"Charlie Haden & Chris Anderson\", \"Shenandoah, IA\"], [\"Emperor\", \"Norway\"], [\"Brand X\", \"Sikeston, MO\"], [\"The Stooges\", \"Ann Arbor, MI\"], [\"David Evans\", \"Tennessee\"], [\"Damita Jo\", \"Austin, TX\"], [\"Orbital\", \"Sevenoaks, United Kingdom\"], [\"Bongzilla\", \"Madison, Wisconsin\"], [\"Orbital\", \"Sevenoaks, United Kingdom\"], [\"April Wine\", \"Halifax, Nova Scotia, Canada\"], [\"The Bucketheads\", \"New York, NY\"], [\"Whitesnake\", \"London, England\"], [\"The Chap\", \"London\"], [\"Dictators\", \"NY - New York City\"], [\"Eddy Raven\", \"Lafayette, LA\"], [\"Trafik\", \"Utah\"], [\"Astarte\", \"Athens, Greece\"], [\"Sergio Franchi\", \"Italy\"], [\"Mongo Santamaria\", \"Havana, Cuba [Jesus Maria]\"], [\"Cali\", \"Vernet les Bains\"], [\"Edwin Hawkins\", \"Oakland, CA\"], [\"Lonnie Johnson\", \"New Orleans, LA\"], [\"Rhian Sheehan\", \"Wellington\"], [\"Cumberland Quartet\", \"Missouri\"], [\"Ray Conniff\", \"Attleboro, MA\"], [\"Five Blind Boys of Alabama\", \"Talladega, AL\"], [\"Luiz Bonfa\", \"Rio de Janeiro, Brazil\"], [\"Blind Willie McTell\", \"Thomson, GA\"], [\"Arco Iris\", \"Valais/Suisse\"], [\"Les Rythmes Digitales/ Tzant Feat. ODC MC\", \"Paris, France\"], [\"Jo-El Sonnier\", \"Rayne, LA\"], [\"Since The Flood\", \"New Hampshire\"], [\"Yank Rachell\", \"Brownsville, TN\"], [\"Slim Whitman\", \"Tampa, FL\"], [\"Larry Graham & Graham Central Station\", \"California\"], [\"Johnny Pacheco/Rolando La Serie\", \"Santiago de los Caballeros, Domin\"], [\"The High Strung\", \"Detroit, MI\"], [\"Tony Martin\", \"Oakland, CA\"], [\"James Carter\", \"Detroit, MI\"], [\"Pursuit Of Happiness\", \"Toronto, Ontario, Canada\"], [\"UK Subs\", \"UK - England - Yorkshire\"], [\"Delroy Wilson\", \"Kingston, Jamaica\"], [\"Jack Sheldon\", \"Jacksonville, FL\"], [\"Bersuit Vergarabat\", \"Buenos Aires\"], [\"Major Lance\", \"Chicago, IL\"], [\"Doyle Bramhall\", \"Dallas, TX\"], [\"Bedwetters\", \"California - LA\"], [\"Whitesnake\", \"London, England\"], [\"Mirah\", \"Washington\"], [\"Dee Clark\", \"Blythesville, AR\"], [\"Tom Cochrane\", \"Lynn Lake, Manitoba, Canada\"], [\"The Jackson Southernaires\", \"Mississippi\"], [\"Cristy Lane\", \"Peoria, IL\"], [\"Humble Pie\", \"Essex, England\"], [\"Patton Oswalt\", \"Portsmouth, VA\"], [\"Kingston Trio\", \"Vermont\"], [\"Orquesta Aragon\", \"Cuba\"], [\"Brian Eno And David Byrne\", \"LAS VEGAS, Nevada\"], [\"Nestor Torres\", \"Miami, FL\"], [\"Philip Glass\", \"Baltimore, MD\"], [\"Pumpkin Buzzard\", \"Missouri\"], [\"Gabriel Yared\", \"Beirut, Lebanon\"], [\"Janice Robinson\", \"Garfield, NJ\"], [\"The Aftermath\", \"Bogot\\\\xc3\\\\xa1 D. C., Colombia\"], [\"ZO2\", \"NY - New York City\"], [\"Every Time I Die\", \"Buffalo, New York\"], [\"Lisa Lynne\", \"California - LA\"], [\"Bryan Ferry\", \"Washington, England\"], [\"BLEED THE SKY\", \"Orange County, CA\"], [\"Hurricane\", \"Kansas\"], [\"Adolph Hofner\", \"Moulton, TX\"], [\"Charlie McCoy\", \"Jackson, MS\"], [\"Suicide\", \"New York, NY\"], [\"Cockney Rejects\", \"England\"], [\"SOL\", \"Los Angeles California USA\"], [\"Lee Michaels\", \"Los Angeles, CA\"], [\"The American Boychoir\", \"New Jersey\"], [\"Felix Slatkin/Concert Arts Symphonic Band\", \"St. Louis, MO\"], [\"Jim Chappell\", \"United States\"], [\"Pearl Jam\", \"Seattle, WA\"], [\"Arsonists Get All The Girls\", \"Santa Cruz, CA\"], [\"Jerry Butler\", \"Sunflower, MS\"], [\"Irma Thomas\", \"Ponchatoula, LA\"], [\"Hot Wire\", \"Newbury Park, CA\"], [\"Evergreen Terrace\", \"Jacksonville, FL\"], [\"Danilo Perez / Claus Ogerman\", \"Panama\"], [\"Crabby Appleton\", \"USA\"], [\"Little Milton\", \"Inverness, MS\"], [\"Wilshire\", \"GREENSBORO, North Carolina\"], [\"Lionel Rogg\", \"Geneva, Switzerland\"], [\"Bob Margolin\", \"Boston, MA\"], [\"Kitty Kallen\", \"Philadelphia, PA\"], [\"Jeff Talmadge\", \"Georgia\"], [\"Dwight Twilley\", \"Tulsa, OK\"], [\"Darko\", \"GLEN BURNIE\"], [\"Plasmatics\", \"New York, NY\"], [\"Inspiral Carpets\", \"Manchester, England\"], [\"Stern\", \"Pennsylvania\"], [\"Bryan White\", \"Lawton, OK\"], [\"Dirty Harry\", \"Washington\"], [\"M.I.K.E.\", \"Antwerp,Belgium, New York\"], [\"Wonderland\", \"Mass. - Western\"], [\"Blackalicious\", \"Davis, CA\"], [\"The Shirelles\", \"Passaic, NJ\"], [\"Patrick Lamb\", \"Portland\"], [\"Amoral\", \"Helsinki, Finland\"], [\"L.A. Guns\", \"katy\"], [\"Stan\", \"UK - England - North East\"], [\"Butthole Surfers\", \"San Antonio, TX\"], [\"Slipknot\", \"Des Moines, Iowa\"], [\"Atom\", \"Washington\"], [\"Jimmy Wyble\", \"Port Arthur, TX\"], [\"Die Symphony\", \"Missouri\"], [\"Paul Geremia\", \"Providence, RI\"], [\"Walter Trout\", \"Ocean City, NJ\"], [\"Sean Kingston\", \"Kingston, Jamaica\"], [\"Blind Lemon Jefferson\", \"Couchman, TX\"], [\"Gabriel Yared\", \"Beirut, Lebanon\"], [\"The Jane Shermans\", \"United States\"], [\"Blind Boy Fuller\", \"Wadesboro, NC\"], [\"Dave \\\"Baby\\\" Cortez\", \"Detroit, MI\"], [\"Tommy James And The Shondells\", \"Dayton, OH\"], [\"Terry Callier\", \"Chicago\"], [\"The Chieftains\", \"Ireland\"], [\"Elmer Bernstein\", \"New York, NY\"], [\"Peter Spence\", \"UK - England - West Midlands\"], [\"Eddie Cantor\", \"New York, NY\"], [\"Lionel Rogg\", \"Geneva, Switzerland\"], [\"Precious Bryant\", \"North Carolina\"], [\"Jeff Wahl\", \"Colorado\"], [\"UFO\", \"Arizona\"], [\"Jamie Richards\", \"Shawnee OK\"], [\"Backstreet Boys\", \"Orlando, FL\"], [\"Lizzy Borden\", \"Los Angeles, CA\"], [\"Jack Off Jill\", \"Ft. Lauderdale, FLORIDA\"], [\"Los Fabulosos Cadillacs\", \"Buenos Aires.\"], [\"Kool Moe Dee\", \"Harlem, New York, NY\"], [\"D.A.D.\", \"Copenhagen (Denmark)\"], [\"Brand X\", \"Sikeston, MO\"], [\"Lizzy Borden\", \"Los Angeles, CA\"], [\"The Merry Macs\", \"Minneapolis, MN\"], [\"Righteous Brothers\", \"California\"], [\"Pinch feat. Rudey Lee\", \"Illinois\"], [\"The Tragically Hip\", \"Kingston, Ontario, Canada\"], [\"Scott Krippayne\", \"Washington\"], [\"Photek\", \"Ipswich, England\"], [\"Orquesta Sublime\", \"Cuba\"], [\"Bobby Pulido\", \"Edinburg, TX\"], [\"Gustavo Santaolalla\", \"Buenos Aires, Argentina\"], [\"Isaacs\", \"Tennessee\"], [\"Joe Rogan\", \"Newark, NJ\"], [\"Don Francisco\", \"Colorado\"], [\"Doug Sahm Tex Mex Trip\", \"San Antonio, TX\"], [\"Orquesta Sublime\", \"Cuba\"], [\"Atari Teenage Riot\", \"Berlin, Germany\"], [\"Otis Spann\", \"Jackson, MS\"], [\"Daniela Dess\\\\xc3\\\\xac\", \"Genova\"], [\"Frank Ifield\", \"Coventry, England\"], [\"Gonzalo Rubalcaba\", \"Havana, Cuba\"], [\"Cam'Ron / Juelz Santana\", \"Harlem, NY\"], [\"Dhamika\", \"Sweden\"], [\"K.T. Oslin\", \"Crossett, AR\"], [\"Taste\", \"Ireland\"], [\"Cece Winans\", \"Charlotte, NC\"], [\"Joanna Connor\", \"Brooklyn, NY\"], [\"Hot Tuna\", \"San Francisco, CA\"], [\"Year Long Disaster\", \"Los Angeles, CA\"], [\"Jimmy Witherspoon\", \"Gurdon, AR\"], [\"Bob Wills\", \"Kosse, TX\"], [\"Jimmy McGriff\", \"Philadelphia, PA\"], [\"Smidi Beats\", \"Nevada\"], [\"Adrenaline\", \"Chicago, IL\"], [\"Sergio Franchi\", \"Italy\"], [\"Cool cavemen\", \"Lille, France\"], [\"Sneaky Sound System\", \"Sydney, Australia\"], [\"Blue Rodeo\", \"Toronto, Ontario, Canada\"], [\"Willie Clayton\", \"Indianola, MS\"], [\"Justin\", \"Georgia\"], [\"Charlie McCoy\", \"Jackson, MS\"], [\"Danny Wright\", \"Texas\"], [\"Leon Russel\", \"Lawton, OK\"], [\"Ross\", \"Indonesia\"], [\"Kerson\", \"Texas\"], [\"The Beatles\", \"Liverpool, England\"], [\"Cheo Feliciano\", \"Ponce, Puerto Rico\"], [\"Kathleen Madigan\", \"California - LA\"], [\"Radney Foster\", \"Del Rio, TX\"], [\"Ed Calle\", \"Florida\"], [\"Ed Ames\", \"Malden, MA\"], [\"Nickelback\", \"Hanna, Alberta, Canada\"], [\"Ron Goodwin\", \"Plymouth, Devon, England\"], [\"Willie Clancy\", \"Miltown Malbay, Ireland\"], [\"Keb' Mo'\", \"Los Angeles, CA\"], [\"Statues\", \"Sudbury, Ontario - Canada\"], [\"The Jackson Southernaires\", \"Mississippi\"], [\"Linkin Park\", \"Los Angeles, CA\"], [\"Ronnie Milsap\", \"Robbinsville, NC\"], [\"David Bowie\", \"London, UK\"], [\"The Roots\", \"Philadelphia, Pennsylvania, U.S.\"], [\"Between The Buried And Me\", \"Charlotte, NC\"], [\"Deborah Coleman\", \"Portsmouth, VA\"], [\"Emilio\", \"SAN ANTONIO, Texas\"], [\"The Germs\", \"Los Angeles, CA\"], [\"Mindy McCready\", \"Fort Meyers, FL\"], [\"Elmore James\", \"Richland, MS\"], [\"Pat Travers\", \"Toronto, Canada\"], [\"Bobby Russell\", \"Nashville, TN\"], [\"BT\", \"Earth\"], [\"Gisele MacKenzie\", \"Winnipeg, Manitoba, Canada\"], [\"Eric Burdon\", \"Walker-on-Tyne, England\"], [\"Bumblefoot\", \"New Jersey\"], [\"Bukka White\", \"Houston, MS\"], [\"Willie Bobo\", \"New York, NY [Spanish Harlem]\"], [\"The Family Stand\", \"Brooklyn\"], [\"Buddy Johnson\", \"Darlington, SC\"], [\"Blind Willie Johnson\", \"Marlin, TX\"], [\"Onesidezero\", \"Los Angeles, CA\"], [\"Wet Wet Wet\", \"Glasgow, Scotland\"], [\"Lou Reid & Carolina\", \"North Carolina\"], [\"Rhian Sheehan\", \"Wellington\"], [\"The Fabulous Thunderbirds\", \"Austin, TX\"], [\"Chris Vickery\", \"CANADA - Ontario\"], [\"Mikey Dread\", \"Jamaica\"], [\"Lou Ann Barton\", \"Austin, TX\"], [\"Rhian Sheehan\", \"Wellington\"], [\"The Ghost Of Lemora\", \"London\"], [\"Robin Frederick\", \"Los Angeles\"], [\"Y&T\", \"San Francisco Bay Area\"], [\"Earl Hooker\", \"Clarksdale, MS\"], [\"Billy Butler\", \"Philadelphia, PA\"], [\"Kings Of Leon\", \"Nashville, Tennessee\"], [\"Shaman\", \"Brazil\"], [\"Marvin Sapp\", \"Grand Rapids, MI\"], [\"Epidemic\", \"York\"], [\"Jimmy Wakely\", \"Mineola, AR\"], [\"Malina\", \"Viareggio, Italy\"], [\"Steve Smith\", \"Brockton, MA\"], [\"Sugar Minott\", \"Kingston, Jamaica\"], [\"Suzi Quatro\", \"Detroit, MI\"], [\"Humanzi\", \"Dublin, Ireland\"], [\"Kings Of Leon\", \"Nashville, Tennessee\"], [\"Kurupt_ Rosco_ Jayo Felony & 40 Glocc\", \"Philadelphia, PA\"], [\"The Jeremy Spencer Band\", \"West Hartlepool, England\"], [\"The Stooges\", \"Ann Arbor, MI\"], [\"Eddie Cantor\", \"New York, NY\"], [\"Royal S\", \"Winterthur, Switzerland\"], [\"Yami Bolo\", \"Detroit USA\"], [\"Killswitch Engage\", \"Boston, MA\"], [\"Saigon Kick\", \"Coral Springs, Florida\"], [\"Incubus\", \"California\"], [\"Irma Thomas\", \"Ponchatoula, LA\"], [\"King Curtis with Jack Dupree\", \"Fort Worth, TX\"], [\"Omni\", \"Los Angeles, CA\"], [\"Orchestra e Coro del Palacio de Bellas Artes Di Citt\\\\xc3\\\\xa1 del Messico_ Oliviero De Fabritiis_ Maria Call\", \"New York, NY\"], [\"Giuseppi Logan\", \"NY - New York City\"], [\"Radio Moscow\", \"Ames, IA\"], [\"John D. Loudermilk\", \"Durham, NC\"], [\"Pumpkin Buzzard\", \"Missouri\"], [\"Margaret Becker\", \"Brooklyn, NY\"], [\"Ron Goodwin\", \"Plymouth, Devon, England\"], [\"Doug MacLeod\", \"New York, NY\"], [\"Jimmy Hughes\", \"Florence, AL\"], [\"Stevie Ray Vaughan And Double Trouble\", \"Dallas, TX\"], [\"L7\", \"Los Angeles, CA\"], [\"Ma Rainey\", \"Columbus, GA\"], [\"Bill Perry\", \"Chester, NY\"], [\"Hatebreed (int License)\", \"New Haven, CT\"], [\"Connie Smith\", \"Elkhart, IN\"], [\"Uphill Battle\", \"Ventura County, CA\"], [\"Barbara Fairchild\", \"Knobel, AK\"], [\"Orquesta Arag\\\\xc3\\\\xb3n\", \"Cuba\"], [\"Nick Cave & The Bad Seeds\", \"Wangaratta, Victoria, Australia\"], [\"Dave And Ansel Collins\", \"Jamaica\"], [\"Nine Inch Nails\", \"Cleveland, OH\"], [\"Bob Sinclar\", \"Kentwood, LA; Los Angeles, CA\"], [\"John Brown\", \"North Carolina\"], [\"Buddy Miles\", \"Omaha, NE\"], [\"Dee Clark\", \"Blythesville, AR\"], [\"Alas\", \"Florida\"], [\"Backstreet Boys\", \"Orlando, FL\"], [\"Julien Clerc\", \"FR\"], [\"Moon Mullican\", \"Corrigan, Polk County, TX\"], [\"Helen Love\", \"Cardiff, Wales\"], [\"Suicidal Tendencies\", \"Venice, CA\"], [\"Grace Gale\", \"Denver, CO\"], [\"Stew\", \"New York\"], [\"Geddy Lee\", \"Willowdale, Ontario, Canada\"], [\"Mothers Pride\", \"Lucerne\"], [\"Robben Ford\", \"Ukiah, CA\"], [\"Sleepy John Estes\", \"Ripley, TN\"], [\"Bobby Darin\", \"New York, NY [The Bronx]\"], [\"SNAP!\", \"Germany\"], [\"Elliot Goldenthal\", \"New York, NY\"], [\"Hermeto Pascoal\", \"Lagoa da Canoa, Alagoas\"], [\"Jedi Mind Tricks\", \"Philadelphia, PA\"], [\"Uman\", \"Belgium\"], [\"Lauren Wood\", \"California - LA\"], [\"Ray Pillow\", \"Lynchburg, VA\"], [\"Vangelis\", \"Volos, Greece\"], [\"Babylon Disco\", \"Karlstad\"], [\"Rubyhorse\", \"Cork City, Ireland\"], [\"Tyrone Davis\", \"Greenville, MS\"], [\"THE CHIFFONS\", \"New York, NY [The Bronx]\"], [\"Marcie Blane\", \"Brooklyn, NY\"], [\"Hot Live Guys\", \"CANADA - other\"], [\"Kanda Bongo Man\", \"Inongo, Zaire\"], [\"Marvin Sapp\", \"Grand Rapids, MI\"], [\"Keb'Mo'\", \"Los Angeles, CA\"], [\"Buzzcocks\", \"London / Ex-Manchester\"], [\"Cece Winans\", \"Charlotte, NC\"], [\"Sofia Karlsson\", \"Sweden\"], [\"Backstreet Boys\", \"Orlando, FL\"], [\"Jerry Goldsmith\", \"Los Angeles, CA\"], [\"The Frantic\", \"London\"], [\"Sofia Karlsson\", \"Sweden\"], [\"The Perrys\", \"Maryland\"], [\"Dolce; Orange Factory\", \"Oklahoma\"], [\"Rihanna\", \"St Michael, Barbados \"], [\"Angelo Badalamenti\", \"New Jersey\"], [\"Venice\", \"New Hampshire USA\"], [\"Debbie Davies\", \"Los Angeles, CA\"], [\"Matisyahu\", \"Brooklyn, NY\"], [\"Bow Wow Wow\", \"London, England\"], [\"Sergio Franchi\", \"Italy\"], [\"Janet Paschal\", \"North Carolina\"], [\"Lonnie Brooks\", \"Dubuisson, LA\"], [\"Roy Rogers\", \"Redding, CA\"], [\"Coffinberry\", \"Ohio\"], [\"Young-Holt Unlimited\", \"Chicago, IL\"], [\"Vodka Collins\", \"Tokyo, Japan\"], [\"Joe Rogan\", \"Newark, NJ\"], [\"Tom Cochrane\", \"Lynn Lake, Manitoba, Canada\"], [\"Erik Berglund\", \"Texas\"], [\"Toots Thielemans\", \"Brussels, Belgium\"], [\"Jim Reeves\", \"Galloway, Panola County, TX\"], [\"Ray Conniff\", \"Attleboro, MA\"], [\"Sir Douglas Quintet\", \"San Antonio, TX\"], [\"Major Lance\", \"Chicago, IL\"], [\"Static-X\", \"Alabama\"], [\"Smart Alex\", \"London\"], [\"OutKast\", \"Atlanta, GA\"], [\"Bukka White\", \"Houston, MS\"], [\"AFS\", \"Great Britain / UK\"], [\"Jim Reeves\", \"Galloway, Panola County, TX\"], [\"Wet Wet Wet\", \"Glasgow, Scotland\"], [\"Elliot Goldenthal\", \"New York, NY\"], [\"Dave Valentin\", \"Chelmsford, England\"], [\"Jimmy Burns\", \"Dublin, MS\"], [\"Dino\", \"Encino, CA\"], [\"Scar Symmetry\", \"Sweden\"], [\"Willie Bobo\", \"New York, NY [Spanish Harlem]\"], [\"Lifehouse\", \"NORTH FORT MYERS, Florida\"], [\"Tyrone Wells\", \"California - LA\"], [\"John Sebastian\", \"Leeds\"], [\"Andre Verchuren\", \"Neuilly-sous-Clermont (Oise)\"], [\"Scar Symmetry\", \"Sweden\"], [\"Concretes\", \"Stockholm, Sweden\"], [\"Cotton Candy\", \"California - SF\"], [\"The Incurables\", \"Missouri\"], [\"Bert Kaempfert\", \"Hamburg, Germany\"], [\"H-Town\", \"Houston\"], [\"JERRY WALLACE\", \"Kansas City, MO\"], [\"Georges Brassens\", \"S\\\\xef\\\\xbf\\\\xbd, France\"], [\"Danny Wilson\", \"Dundee, Scotland\"], [\"Marcie Blane\", \"Brooklyn, NY\"], [\"Charlie Walker\", \"Collins County, TX\"], [\"Francis Dunnery\", \"Egremont, Cumbria, England\"], [\"Rocker-T\", \"Wisconsin\"], [\"Ana Popovic\", \"Belgrade, Yugoslavia\"], [\"Emilio\", \"SAN ANTONIO, Texas\"], [\"Tiny Tim\", \"New York, NY\"], [\"The Cure\", \"Crawley, England\"], [\"I Nuovi Angeli\", \"Oregon\"], [\"Jean-Jacques Goldman\", \"Paris, France\"], [\"Joshua Rifkin\", \"New York, NY\"], [\"Barbara Lusch\", \"Oregon\"], [\"Patti Smith\", \"Chicago, IL\"], [\"Saga\", \"Toronto, Ontario, Canada\"], [\"C.C. Adcock\", \"Louisiana\"], [\"The Fabulous Thunderbirds\", \"Austin, TX\"], [\"Lennie Tristano\", \"US\"], [\"R.L. Burnside\", \"Oxford, MS\"], [\"Tim Wilson\", \"Georgia\"], [\"The Cars\", \"Boston, MA\"], [\"De La Soul / MF Doom\", \"Amityville, NY\"], [\"At All Cost\", \"Austin, Texas\"], [\"Mannheim Steamroller\", \"Omaha, NE\"], [\"John Tchicai\", \"Copenhagen, Denmark\"], [\"Suicidal Tendencies\", \"Venice, CA\"], [\"Bert Kaempfert\", \"Hamburg, Germany\"], [\"ColdWorld\", \"Germany (Erfurt, Thuringia)\"], [\"The Chap\", \"London\"], [\"Leroy Hutson\", \"Newark, NJ\"], [\"Pee Wee Crayton\", \"Rockdale, TX\"], [\"Basic Channel\", \"Berlin, Germany\"], [\"Symphony in Peril\", \"AMSTERDAM, New York\"], [\"Mike Brooks\", \"Westmoreland, Jamaica\"], [\"This Moment\", \"Cleveland, OH\"], [\"The Fabulous Thunderbirds\", \"Austin, TX\"], [\"The Perrys\", \"Maryland\"], [\"The Chi-Lites\", \"Chicago, IL\"], [\"Jerry Lewis\", \"Newark, NJ\"], [\"Jo-El Sonnier\", \"Rayne, LA\"], [\"Yahir\", \"Hermosillo Sonora, Mexico\"], [\"Lexi\", \"Nebraska\"], [\"Cali\", \"Vernet les Bains\"], [\"Tommy Sands\", \"UK - Northern Ireland\"], [\"Diamanda Galas\", \"San Diego, CA\"], [\"Be Bop Deluxe\", \"England\"], [\"Nu Flavor\", \"Long Beach, CA\"], [\"Mystery\", \"North Carolina\"], [\"Alvin Youngblood\\\\xc2\\\\xa0Hart\", \"Oakland, CA\"], [\"Gene Chandler\", \"Chicago, IL\"], [\"Legacy Five\", \"Tennessee\"], [\"Walter Jackson; Arranged & conducted by Riley Hampton\", \"Pensacola, FL\"], [\"Cindy Morgan\", \"Nashville, TN\"], [\"Moon Mullican\", \"Corrigan, Polk County, TX\"], [\"Jefferson Starship\", \"San Francisco, CA\"], [\"Gary Moore\", \"Belfast, Northern Ireland\"], [\"Attack Attack\", \"USA \"], [\"The Booth Brothers\", \"North Carolina\"], [\"Vivian Khor\", \"California - LA\"], [\"The Mustangs\", \"Connecticut\"], [\"Eberhard Weber\", \"Stuttgart, Germany\"], [\"The Continentals\", \"Washington DC\"], [\"The Chieftains;Colin James\", \"Ireland\"], [\"Joe Turner_ Joe Houston_ L. C. Williams\", \"Mississippi\"], [\"J.B. Lenoir\", \"Monticello, MS\"], [\"Charlie Rich\", \"Benton, Arkansas\"], [\"The Ataris\", \"Anderson, IN\"], [\"Taboo\", \"Cape Town, ZA\"], [\"Billy Higgins_ Bob Berg_ Cedar Walton_ Tony Dumas\", \"Los Angeles, CA\"], [\"The Rolling Stones\", \"London, England\"], [\"The Cate Brothers\", \"Fayetteville, AR\"], [\"Fran Perea\", \"Malaga,Spanija\"], [\"Maria Muldaur\", \"New York, NY\"], [\"Johannes Linstead\", \"Toronto\"], [\"Otis Spann\", \"Jackson, MS\"], [\"Kool Moe Dee\", \"Harlem, New York, NY\"], [\"The Tragically Hip\", \"Kingston, Ontario, Canada\"], [\"Carman featuring Commissioned & The Christ Church Choir\", \"Trenton, NJ\"], [\"Reni\", \"Manchester, England\"], [\"Raphael\", \"France\"], [\"Fiona\", \"New York, NY\"], [\"Cargo Cult\", \"Reading\"], [\"Lord Sterling\", \"New Jersey\"], [\"Arturo Sandoval\", \"Artemisa, Cuba\"], [\"Eldar\", \"Laietan, UM\"], [\"The Fabulous Thunderbirds\", \"Austin, TX\"], [\"Eddy Raven\", \"Lafayette, LA\"], [\"Robben Ford\", \"Ukiah, CA\"], [\"Zapp\", \"Dayton, OH\"], [\"Ximena Sarinana\", \"MX\"], [\"Fontella Bass\", \"St. Louis, MO\"], [\"Old Man's Child\", \"Norway\"], [\"Aeoliah\", \"Canada\"], [\"Through the Eyes of the Dead\", \"Florence, SC\"], [\"Jazz Gillum\", \"Indianola, MS\"], [\"Neema\", \"CANADA - Qu\\\\xc3\\\\xa9bec\"], [\"Fergie\", \"Hacienda Heights, CA\"], [\"The Doors\", \"Los Angeles, California, United States\"], [\"Poncho Sanchez\", \"Laredo, TX\"], [\"Livingston Taylor\", \"Boston, MA\"], [\"Papa Wemba\", \"Kasai, Zaire\"], [\"THE CHIFFONS\", \"New York, NY [The Bronx]\"], [\"Spitfire\", \"Athens\"], [\"Equilibrium\", \"Colorado\"], [\"Martha Wainwright\", \"NY - New York City\"], [\"The Rolling Stones\", \"London, England\"], [\"Ms. Dynamite\", \"London\"], [\"Atom\", \"Washington\"], [\"Johnny Horton\", \"Los Angeles, CA\"], [\"L.A. Guns\", \"katy\"], [\"Britt Nicole\", \" NC\"], [\"Claire Hamill\", \"UK - England - South East\"], [\"The Plasmatics\", \"New York, NY\"], [\"Connie Smith\", \"Elkhart, IN\"], [\"Dobby Dobson\", \"Florida\"], [\"Martriden\", \"Havre, MT\"], [\"D:Fuse\", \"Austin, TX\"], [\"Max Steiner\", \"Vienna, Austria\"], [\"Humble Pie\", \"Essex, England\"], [\"Incubus\", \"California\"], [\"Bryan Ferry\", \"Washington, England\"], [\"Angels\", \"Australia\"], [\"Barbara Fairchild\", \"Knobel, AK\"], [\"The Balustrade Ensemble\", \"san francisco\"], [\"The Highwaymen\", \"Dayton, OH\"], [\"Joselito\", \"Jaen\"], [\"Bill Laswell\", \"New York City (Salem, IL - originally)\"], [\"Hatebreed (int License)\", \"New Haven, CT\"], [\"Snowgoons\", \"Karlsruhe, Germany\"], [\"Jah Legacy\", \"FRANCE\"], [\"Dimitri Tiomkin\", \"Kremenchuk, Ukraine\"], [\"Olivia Ruiz\", \"Carcassonne, France\"], [\"Richard Burton\", \"Pennsylvania\"], [\"The Roots\", \"Philadelphia, Pennsylvania, U.S.\"], [\"The Pharcyde\", \"Los Angeles, CA\"], [\"The Doors\", \"Los Angeles, California, United States\"], [\"Butthole Surfers\", \"San Antonio, TX\"], [\"Helen Love\", \"Cardiff, Wales\"], [\"2raumwohnung\", \"Berlin, Germany\"], [\"Papoose\", \"Bedford-Stuyvesant, NY\"], [\"Plump DJs\", \"London, England\"], [\"THE CHIFFONS\", \"New York, NY [The Bronx]\"], [\"Jimmy Durante\", \"New York, NY\"], [\"Jackie Wilson\", \"Detroit, MI\"], [\"Rapha\\\\xc3\\\\xabl\", \"France\"], [\"The Meatmen\", \"Lansing, MI\"], [\"Jimmy Nelson\", \"Philadelphia, PA\"], [\"Jacques Dutronc\", \"Paris, France\"], [\"Hotwire\", \"Newbury Park, CA\"], [\"Prozak\", \"London\"], [\"BT\", \"Earth\"], [\"John Berry\", \"Aiken, SC\"], [\"Abijah\", \"Jamaica\"], [\"Agnostic Front\", \"New York, NY\"], [\"Sick Of It All\", \"Virginia\"], [\"Tr\\\\xc3\\\\xa8s\", \"Texas\"], [\"Oscar Pettiford\", \"Okmulgee, OK\"], [\"Marc Lavoine\", \"Longjumeau, France\"], [\"Frederick Knight\", \"Birmingham, AL\"], [\"Russ Morgan\", \"Scranton, PA\"], [\"Grand Funk\", \"Flint, MI\"], [\"Mothers Pride\", \"Lucerne\"], [\"Workhorse\", \"Mississippi\"], [\"The Irish Rovers\", \"Alberta, Canada\"], [\"Hank Penny & Sue Thompson\", \"Birmingham, AL\"], [\"JennyAnyKind\", \"North Carolina\"], [\"Al Duvall\", \"NY - New York City\"], [\"Britt Nicole\", \" NC\"], [\"Poncho Sanchez\", \"Laredo, TX\"], [\"Modern Lovers\", \"Boston, MA\"], [\"Paul Taylor\", \"Wyoming\"], [\"Atreyu\", \"Orange County, CA\"], [\"Luiz Bonfa\", \"Rio de Janeiro, Brazil\"], [\"Shelly Manne\", \"New York, NY\"], [\"Washboard Sam\", \"Walnut Ridge, AR\"], [\"Amil\", \"New York, NY\"], [\"Skeeter Davis\", \"Dry Ridge, KY\"], [\"Goatwhore\", \"New Orleans, LA\"], [\"Inspiral Carpets\", \"Manchester, England\"], [\"Eric Burdon\", \"Walker-on-Tyne, England\"], [\"Kruger\", \"Lausanne, CH\"], [\"Circle Jerks\", \"California - LA\"], [\"Kofi\", \"California - LA\"], [\"Tex Williams\", \"Ramsey, Fayette County, IL\"], [\"Death SS\", \"Pesaro, Italy\"], [\"Bessie Smith\", \"Chattanooga, TN\"], [\"Lou Reed\", \"Brooklyn, New York\"], [\"Jerry Lewis\", \"Newark, NJ\"], [\"Cam'Ron\", \"Harlem, NY\"], [\"Arco Iris\", \"Valais/Suisse\"], [\"Mikey Dread\", \"Jamaica\"], [\"Big Star\", \"Memphis, TN\"], [\"Grandpa Jones\", \"Niagra, KY\"], [\"Cross Country\", \"Auburn, CA\"], [\"The Marx Brothers\", \"New York City, New York\"], [\"Hatebreed\", \"New Haven, CT\"], [\"Converge\", \"Boston, Brooklyn USA\"], [\"Philip Glass\", \"Baltimore, MD\"], [\"Drexel\", \"Dayton, Ohio\"], [\"Falco\", \"Vienna, Austria\"], [\"Nancy Walker\", \"California\"], [\"Shamen\", \"Aberdeen, Scotland\"], [\"Ino\", \"Quebec\"], [\"Jerry Butler\", \"Sunflower, MS\"], [\"Edmundo Ros\", \"Venezuela\"], [\"Al DiMeola\", \"Jersey City, NJ\"], [\"Leroy Van Dyke\", \"Spring Fork, MO\"], [\"Peggy Lee\", \"Jamestown, ND\"], [\"Lightnin' Slim\", \"St. Louis, MO\"], [\"Pursuit Of Happiness\", \"Toronto, Ontario, Canada\"], [\"David Arkenstone\", \"Tennessee\"], [\"Agnostic Front\", \"New York, NY\"], [\"Pursuit Of Happiness\", \"Toronto, Ontario, Canada\"], [\"Ben Sidran\", \"Chicago, IL\"], [\"3 Way Funk\", \"California - SF\"], [\"Freddie Roulette\", \"Illinois\"], [\"JennyAnyKind\", \"North Carolina\"], [\"Skeeter Davis\", \"Dry Ridge, KY\"], [\"John Berry\", \"Aiken, SC\"], [\"Andrae Crouch\", \"Pacoima, CA\"], [\"BT\", \"Earth\"], [\"Skeeter Davis\", \"Dry Ridge, KY\"], [\"Sugar Minott\", \"Kingston, Jamaica\"], [\"Pumpkin Buzzard\", \"Missouri\"], [\"Gonzalo Rubalcaba\", \"Havana, Cuba\"], [\"Evergreen Terrace\", \"Jacksonville, FL\"], [\"Alice Stuart\", \"Washington\"], [\"2raumwohnung\", \"Berlin, Germany\"], [\"Screaming Lord Sutch\", \"Harrow, Middlesex, England\"], [\"Sylvia Tosun\", \"Wolcott, CT\"], [\"Kings Of Leon\", \"Nashville, Tennessee\"], [\"Pinch\", \"Illinois\"], [\"Dave Weckl\", \"St. Louis, MO\"], [\"Atreyu\", \"Orange County, CA\"], [\"Grant Geissman\", \"PEARLINGTON, Mississippi\"], [\"Ed Ames\", \"Malden, MA\"], [\"Uphill Battle\", \"Ventura County, CA\"], [\"Loretta Lynn\", \"Nashville, TN, Texas\"], [\"Rance Allen Group\", \"Detroit, MI\"], [\"Clarence \\\"Gatemouth\\\" Brown\", \"Vinton, LA\"], [\"James Carter\", \"Detroit, MI\"], [\"Atari Teenage Riot\", \"Berlin, Germany\"], [\"Scott Weiland\", \"Santa Cruz, CA\"], [\"Kris Kristofferson\", \"Brownsville, TX\"], [\"Primordial\", \"Dublin, Ireland\"], [\"Robin Fox\", \"Florida\"], [\"Jimmy Cliff\", \"St. Catherine, Jamaica\"], [\"Bill Laswell\", \"New York City (Salem, IL - originally)\"], [\"Snowgoons\", \"Karlsruhe, Germany\"], [\"Vex'd\", \"London\"], [\"Mannheim Steamroller\", \"Omaha, NE\"], [\"Hatebreed\", \"New Haven, CT\"], [\"The Chap\", \"London\"], [\"Janet Paschal\", \"North Carolina\"], [\"Venice\", \"New Hampshire USA\"], [\"Frank Chacksfield\", \"Battle, Sussex, England\"], [\"Photek\", \"Ipswich, England\"], [\"Cotton Candy\", \"California - SF\"], [\"The Doors\", \"Los Angeles, California, United States\"], [\"Agnostic Front\", \"New York, NY\"], [\"Dyango\", \"Massachusetts\"], [\"Ty Herndon\", \"Meridian, MS\"], [\"Jimmy Witherspoon\", \"Gurdon, AR\"], [\"A-FS\", \"Great Britain / UK\"], [\"Kieran\", \"Idaho\"], [\"Gabriel Yared\", \"Beirut, Lebanon\"], [\"Curtis Mayfield\", \"Chicago, IL\"], [\"REX ALLEN JR.\", \"United States\"], [\"Jimmy McGriff\", \"Philadelphia, PA\"], [\"Sugar Ray\", \"Orange County, CA\"], [\"Year Long Disaster\", \"Los Angeles, CA\"], [\"Blind Willie Johnson\", \"Marlin, TX\"], [\"Sinch\", \"Pennsylvania\"], [\"MIMS\", \"New York, NY [Washington Heights]\"], [\"Rick Astley\", \"Newton-le-Willows, Merseyside, England\"], [\"Cindy Morgan\", \"Nashville, TN\"], [\"The Clancy Brothers;Tommy Makem\", \"Ireland\"], [\"Big Star\", \"Memphis, TN\"], [\"Double Image\", \"Maryland\"], [\"The Highwaymen\", \"Dayton, OH\"], [\"Lynn August\", \"Lafayette, LA\"], [\"Karlheinz Stockhausen\", \"M\\\\xef\\\\xbf\\\\xbdth, Germany\"], [\"Sugar Minott\", \"Kingston, Jamaica\"], [\"Billie Jo Spears\", \"Beaumont, TX\"], [\"Philip Glass\", \"Baltimore, MD\"], [\"The Perrys\", \"Maryland\"], [\"Public Image Ltd\", \"London, England\"], [\"Jennifer Clarke\", \"Cork, Ireland\"], [\"Richie McDonald\", \"Tennessee\"], [\"Mink DeVille\", \"New York, NY\"], [\"Ms. Dynamite\", \"London\"], [\"Sugar Minott\", \"Kingston, Jamaica\"], [\"Ms. Dynamite / Bounty Killer\", \"London\"], [\"Jazz Gillum\", \"Indianola, MS\"], [\"Pierre Boulez\", \"Montbrison, France\"], [\"Assassin\", \"California\"], [\"Britt Nicole\", \" NC\"], [\"Richard Souther\", \"United States\"], [\"Doug Sahm\", \"San Antonio, TX\"], [\"Bob Cheevers\", \"Tennessee\"], [\"Goatwhore\", \"New Orleans, LA\"], [\"Wesley Tuttle\", \"Lamar, CO\"], [\"J.J. Cale & Eric Clapton\", \"Oklahoma City, OK\"], [\"The Rascals\", \"New York, NY\"], [\"Workhorse\", \"Mississippi\"], [\"Jackie Edwards\", \"Jamaica\"], [\"Sophie Tucker\", \"Russia\"], [\"Ricardo Lemvo\", \"HOUSTON, Texas\"], [\"Kuba\", \"Latvia\"], [\"Bersuit Vergarabat\", \"Buenos Aires\"], [\"Vangelis\", \"Volos, Greece\"], [\"Charles Williams\", \"Texas\"], [\"Junior Parker\", \"Clarksdale, MS\"], [\"Uman\", \"Belgium\"], [\"Irma Thomas\", \"Ponchatoula, LA\"], [\"Neil Innes\", \"Essex, England\"], [\"Pete Miser\", \"NY - New York City\"], [\"Marc Lavoine\", \"Longjumeau, France\"], [\"Jim Kweskin\", \"Stamford, CT\"], [\"Amilcar\", \"Florida\"], [\"Thomas Dolby\", \"Cairo, Egypt\"], [\"Blind Lemon Jefferson\", \"Couchman, TX\"], [\"The Distillers\", \"L.A \\\\tCalifornia, Estados Unidos \"], [\"Smidi Beats\", \"Nevada\"], [\"Jacques Higelin\", \"Brou-sur-Chantereine, France\"], [\"Kool Moe Dee\", \"Harlem, New York, NY\"], [\"Alternative TV\", \"London, England\"], [\"Indica\", \"Finland\"], [\"Danny Wright\", \"Texas\"], [\"Little Eva\", \"Bellhaven, NC\"], [\"Why?\", \"Cincinnati, OH\"], [\"Amil\", \"New York, NY\"], [\"Hank Penny\", \"Birmingham, AL\"], [\"Freakhouse\", \"South Hadley Massachusetts USA\"], [\"The Smashing Pumpkins\", \"Chicago, IL\"], [\"The Highwaymen\", \"Dayton, OH\"], [\"Big Mountain\", \"California\"], [\"Professor Longhair\", \"Bogalusa, LA\"], [\"Stevie Ray Vaughan And Double Trouble\", \"Dallas, TX\"], [\"Foghat\", \"London, England\"], [\"Slim Whitman\", \"Tampa, FL\"], [\"Tim Hughes\", \"CANADA - Ontario\"], [\"DJ Icey\", \"Florida\"], [\"King Curtis\", \"Fort Worth, TX\"], [\"Scott Krippayne\", \"Washington\"], [\"Erik Berglund\", \"Texas\"], [\"Arturo Sandoval\", \"Artemisa, Cuba\"], [\"Herb Alpert And The Tijuana Brass\", \"BEVERLY HILLS, California\"], [\"Chango Spasiuk\", \"Argentina\"], [\"Black Messiah\", \"Nordrhein-Westfalen\"], [\"Eric Burdon\", \"Walker-on-Tyne, England\"], [\"Gene Chandler\", \"Chicago, IL\"], [\"Little Milton\", \"Inverness, MS\"], [\"Bobby Vee\", \"Fargo, ND\"], [\"GG Allin\", \"Lancaster, NH\"], [\"The Cutting Edge\", \"California - LA\"], [\"Patti Smith\", \"Chicago, IL\"], [\"Mudhoney\", \"Seattle, WA\"], [\"Faithless\", \"London, England\"], [\"Smiley\", \"Tyler Texas USA\"], [\"Grizzly Bear\", \"Brooklyn, NY\"], [\"Andr\\\\xc3\\\\xa9 Verchuren\", \"Neuilly-sous-Clermont (Oise)\"], [\"Emperor\", \"Norway\"], [\"The Weegs\", \"California - SF\"], [\"Plasmatics\", \"New York, NY\"], [\"Maria Callas/Giuseppe di Stefano/Orchestra del Teatro alla Scala_ Milano/Gianandrea Gavazzeni\", \"New York, NY\"], [\"Tanika Turner\", \"California\"], [\"Grupo Batuque\", \"Brazil\"], [\"Tony Joe White\", \"Goodwill, LA\"], [\"The Weegs\", \"California - SF\"], [\"Bizzy Bone\", \"Columbus, OH\"], [\"Debra Laws\", \"Houston, TX\"], [\"Red Stick Ramblers\", \"Lafayette/Baton Rouge, LA\"], [\"Cece Winans\", \"Charlotte, NC\"], [\"Doyle Bramhall\", \"Dallas, TX\"], [\"The Jackson Southernaires\", \"Mississippi\"], [\"Legacy Five\", \"Tennessee\"], [\"Josh White\", \"Greensboro, NC\"], [\"Eddie Money\", \"Brooklyn, NY\"], [\"Little Milton\", \"Inverness, MS\"], [\"Taking Back Sunday\", \"Long Island, New York\"], [\"The Clash\", \"London, England\"], [\"Joshua Rifkin\", \"New York, NY\"], [\"Mary Black\", \"Ireland\"], [\"Keb' Mo'\", \"Los Angeles, CA\"], [\"Ministry of Sound\", \"Paris, France\"], [\"Bow Wow Wow\", \"London, England\"], [\"Kamelo Punto Semos\", \"Barcelona\"], [\"Rooney\", \"Los Angeles, CA\"], [\"Atreyu\", \"Orange County, CA\"], [\"Scott Wesley Brown\", \"Atlanta Georgia USA\"], [\"Ashes to Ashes\", \"NORWAY\"], [\"The Rolling Stones\", \"London, England\"], [\"Amoral\", \"Helsinki, Finland\"], [\"Tony Martin\", \"Oakland, CA\"], [\"Kool Moe Dee\", \"Harlem, New York, NY\"], [\"Fudge Tunnel\", \"Nottingham\"], [\"Roger Williams\", \"Omaha, NE\"], [\"Nancy Walker\", \"California\"], [\"Aeoliah\", \"Canada\"], [\"Tony Martin\", \"Oakland, CA\"], [\"Dionne Warwick\", \"East Orange, NJ\"], [\"The Jackson Southernaires\", \"Mississippi\"], [\"Swallow The Sun\", \"Jyv\\\\xc3\\\\xa4skyl\\\\xc3\\\\xa4, Finland\"], [\"Plump DJs\", \"London, England\"], [\"Jean-Jacques Goldman\", \"Paris, France\"], [\"Dennis Brown\", \"Kingston, Jamaica\"], [\"Lee Michaels\", \"Los Angeles, CA\"], [\"Frank Stokes\", \"Whitehaven, TN\"], [\"Bobby Broom\", \"New York City\"], [\"Max Steiner\", \"Vienna, Austria\"], [\"Carman featuring Commissioned & The Christ Church Choir\", \"Trenton, NJ\"], [\"Moonspell\", \"Portugal\"], [\"Statues\", \"Sudbury, Ontario - Canada\"], [\"Strata\", \"Campbell, CA\"], [\"Poncho Sanchez\", \"Laredo, TX\"], [\"Albert King\", \"Indianola, MS\"], [\"Frankie Negron\", \"New York, NY\"], [\"Tiny Tim\", \"New York, NY\"], [\"Los Van Van\", \"Cuba\"], [\"Washboard Sam\", \"Walnut Ridge, AR\"], [\"Viktor Krauss\", \"Champagne, IL\"], [\"Willy DeVille\", \"New York, New York\"], [\"Plump DJs\", \"London, England\"], [\"Sugar Minott\", \"Kingston, Jamaica\"], [\"Bukka White\", \"Houston, MS\"], [\"The Jackson Southernaires\", \"Mississippi\"], [\"Nerf Herder\", \"Santa Barbara, CA\"], [\"Bryan Ferry\", \"Washington, England\"], [\"Moon Mullican\", \"Corrigan, Polk County, TX\"], [\"Santana\", \"San Francisco, California\"], [\"Hot Chip\", \"London\"], [\"Graham Central Station\", \"California\"], [\"Jacques Dutronc\", \"Paris, France\"], [\"Pennywise\", \"Hermosa Beach, CA\"], [\"Gustavo Santaolalla\", \"Buenos Aires, Argentina\"], [\"JK\", \"Texas\"], [\"Royal S\", \"Winterthur, Switzerland\"], [\"Kurupt\", \"Philadelphia, PA\"], [\"Danny Williams\", \"Port Elizabeth, South Africa\"], [\"Jimmy McGriff\", \"Philadelphia, PA\"], [\"Bryan Ferry\", \"Washington, England\"], [\"Mikey Dread\", \"Jamaica\"], [\"Bukue One\", \"California\"], [\"Nerf Herder\", \"Santa Barbara, CA\"], [\"Tony Joe White\", \"Goodwill, LA\"], [\"Snowgoons\", \"Karlsruhe, Germany\"], [\"Cali\", \"Vernet les Bains\"], [\"The Marx Brothers\", \"New York City, New York\"], [\"The Dylans\", \"Sheffield, Yorkshire, England\"], [\"Jim Reeves\", \"Galloway, Panola County, TX\"], [\"The MC5\", \"Lincoln Park, MI\"], [\"Floyd Cramer\", \"Samti, LA\"], [\"Tommy Sands\", \"UK - Northern Ireland\"], [\"Bad Religion\", \"Los Angeles, Ca\"], [\"Roy Rogers\", \"Redding, CA\"], [\"Kix\", \"Hagerstown, MD\"], [\"Nightfall\", \"Bogota, COL\"], [\"Fountains Of Wayne\", \"New York, NY\"], [\"Terry Callier\", \"Chicago\"], [\"Event Horizon\", \"Chihuahua, Mexico\"], [\"BT feat. JES\", \"Earth\"], [\"Arika Kane\", \"Connecticut\"], [\"The Cliks\", \"Toronto, Canada\"], [\"Agnostic Front\", \"New York, NY\"], [\"Lizzy Borden\", \"Los Angeles, CA\"], [\"Cliff Bruner\", \"Houston, TX\"], [\"Delbert McClinton\", \"Lubbock, TX\"], [\"Bongzilla\", \"Madison, Wisconsin\"], [\"Sanna Nielsen\", \"Sweden\"], [\"Dave Eggar\", \"California - LA\"], [\"Dax Riggs\", \"Houma, LA\"], [\"Warner mack\", \"Nashville, TN\"], [\"Leroy Hutson\", \"Newark, NJ\"], [\"Bob Neuwirth\", \"New York\"], [\"Lockwood\", \"Cypress Texas\"], [\"Albert King\", \"Indianola, MS\"], [\"Rihanna\", \"St Michael, Barbados \"], [\"Fenton Robinson\", \"Minter City, MS\"], [\"Jason Miles\", \"NY - New York City\"], [\"Luiz Bonfa\", \"Rio de Janeiro, Brazil\"], [\"Emilio\", \"SAN ANTONIO, Texas\"], [\"Orquesta Sublime\", \"Cuba\"], [\"April Wine\", \"Halifax, Nova Scotia, Canada\"], [\"Black Debbath\", \"Oslo, Norway\"], [\"Helen Love\", \"Cardiff, Wales\"], [\"Suzi Quatro\", \"Detroit, MI\"], [\"Happy Mondays\", \"Manchester, England\"], [\"Joe Turner\", \"Mississippi\"], [\"Eddie Cantor\", \"New York, NY\"], [\"K.T. Oslin\", \"Crossett, AR\"], [\"Justin\", \"Georgia\"], [\"The American Boychoir\", \"New Jersey\"], [\"Falco\", \"Vienna, Austria\"], [\"Buddy Miles\", \"Omaha, NE\"], [\"Rocket From The Tombs\", \"Cleveland, OH\"], [\"Long John Hunter\", \"Louisiana\"], [\"Dee Clark\", \"Blythesville, AR\"], [\"The Clash\", \"London, England\"], [\"No Address\", \"Tallahassee, FL\"], [\"Bottom Of The Hudson\", \"Charlottesville, VA\"], [\"Delroy Wilson\", \"Kingston, Jamaica\"], [\"Britney Spears\", \"Kentwood, LA; Los Angeles, CA\"], [\"Rhian Sheehan\", \"Wellington\"], [\"JennyAnyKind\", \"North Carolina\"], [\"Michal\", \"NY - New York City\"], [\"The Roots\", \"Philadelphia, Pennsylvania, U.S.\"], [\"Georges Brassens\", \"S\\\\xef\\\\xbf\\\\xbd, France\"], [\"Tinariwen\", \"Mali, Africa\"], [\"Eddie Cantor\", \"New York, NY\"], [\"Klimperei\", \"FR\"], [\"Blind Willie Johnson\", \"Marlin, TX\"], [\"Jim Chappell\", \"United States\"], [\"OutKast featuring George Clinton\", \"Atlanta, GA\"], [\"Black Flag\", \"Los Angeles, CA\"], [\"T-Bone\", \"Thaba Nchu\"], [\"Terry Muska\", \"Texas\"], [\"Grant Geissman\", \"PEARLINGTON, Mississippi\"], [\"John Davis\", \"Pennsylvania\"], [\"Rocker-T\", \"Wisconsin\"], [\"Keb' Mo'\", \"Los Angeles, CA\"], [\"Rihanna\", \"St Michael, Barbados \"], [\"Luiz Bonfa\", \"Rio de Janeiro, Brazil\"], [\"Arthur Fiedler;Earl Wild;Pasquale Cardillo\", \"Boston, MA\"], [\"Helmet\", \"New York\"], [\"Tex Williams\", \"Ramsey, Fayette County, IL\"], [\"Miossec\", \"Brest, France\"], [\"The Cure\", \"Crawley, England\"], [\"Blue Rodeo\", \"Toronto, Ontario, Canada\"], [\"Bobby Hutcherson\", \"Los Angeles, CA\"], [\"Goatwhore\", \"New Orleans, LA\"], [\"Connie Francis\", \"Newark, NJ\"], [\"Adrienne Pierce\", \"Canada\"], [\"Mongo Santamaria\", \"Havana, Cuba [Jesus Maria]\"], [\"OutKast\", \"Atlanta, GA\"], [\"Guitar Slim\", \"Greenwood, MS\"], [\"MIMS\", \"New York, NY [Washington Heights]\"], [\"Selena\", \"Texas\"], [\"The Cat's Miaow\", \"Australia\"], [\"Dottie Rambo_ The Whites\", \"NASHVILLE, US\"], [\"Maria Muldaur\", \"New York, NY\"], [\"Stickboy\", \"North Carolina\"], [\"Grandpa Jones\", \"Niagra, KY\"], [\"Little Freddie King\", \"Louisiana\"], [\"Sam Baker\", \"Austin, TX\"], [\"Bruce Springsteen\", \"Freehold, NJ\"], [\"The Berzerker\", \"Melbourne, Australia\"], [\"Danny Wilson\", \"Dundee, Scotland\"], [\"Snowgoons\", \"Karlsruhe, Germany\"], [\"Daddy Yankee / Bounty Killer\", \"Puerto Rico\"], [\"Blind Willie McTell\", \"Thomson, GA\"], [\"Rocky Hill\", \"DE\"], [\"Roy Drusky\", \"Atlanta, GA\"], [\"C.C. Adcock\", \"Louisiana\"], [\"MxPx\", \"Bremerton, WA\"], [\"Julien Clerc\", \"FR\"], [\"David & Steve Gordon\", \"California\"], [\"M.I.K.E.\", \"Antwerp,Belgium, New York\"], [\"Commissioned\", \"Michigan\"], [\"Sex Machine ft. Sh\\\\xc3\\\\xa8na\", \"Michigan\"], [\"Farlow-Kirch Band\", \"California - SF\"], [\"Jim Chappell\", \"United States\"], [\"Jim Reeves\", \"Galloway, Panola County, TX\"], [\"Sex Machine\", \"Michigan\"], [\"Jackie Wilson\", \"Detroit, MI\"], [\"Pinch\", \"Illinois\"], [\"Cadet\", \"Eugene, OR\"], [\"Young-Holt Unlimited\", \"Chicago, IL\"], [\"The Tokens\", \"Brooklyn, NY\"], [\"Kanda Bongo Man\", \"Inongo, Zaire\"], [\"Devanic\", \"Vienna\"], [\"Converge\", \"Boston, Brooklyn USA\"], [\"Astarte\", \"Athens, Greece\"], [\"Wet Wet Wet\", \"Glasgow, Scotland\"], [\"Vince Guaraldi Trio\", \"San Francisco, CA\"], [\"Shifty\", \"Los Angeles, California\"], [\"Glen Campbell\", \"Delight, AR\"], [\"Martin Denny\", \"New York, NY\"], [\"Selena\", \"Texas\"], [\"Rance Allen Group\", \"Detroit, MI\"], [\"Alex Ubago\", \"Vitoria, Spain\"], [\"Alicia Keys\", \"Harlem, New York\"], [\"OutKast\", \"Atlanta, GA\"], [\"LL Cool J / Freeway\", \"Bayshore, Long Island, NY\"], [\"Irwin Goodman\", \"H\\\\xc3\\\\xa4meenlinna\"], [\"Ideal\", \"Florida\"], [\"Tijuana Hercules\", \"Illinois\"], [\"King Curtis\", \"Fort Worth, TX\"], [\"Albert Ayler\", \"Cleveland, OH\"], [\"The Jackson Southernaires\", \"Mississippi\"], [\"Cassie\", \"New London, CT\"], [\"Bobby Darin\", \"New York, NY [The Bronx]\"], [\"David Palmer\", \"England\"], [\"Catherine Howe & Vo Fletcher\", \"Yorkshire, England\"], [\"Tex Williams\", \"Ramsey, Fayette County, IL\"], [\"The Birds\", \"Yiewsley, London, England\"], [\"Lionel Rogg\", \"Geneva, Switzerland\"], [\"Hank Penny\", \"Birmingham, AL\"], [\"M83\", \"Antibes, France\"], [\"Polkaholix\", \"GERMANY\"], [\"Marvin Hamlisch\", \"New York, NY\"], [\"Bad Religion\", \"Los Angeles, Ca\"], [\"Pursuit Of Happiness\", \"Toronto, Ontario, Canada\"], [\"Jacques Dutronc\", \"Paris, France\"], [\"Becoming The Archetype\", \"Atlanta, GA\"], [\"Jeckyll & Hyde\", \"Netherlands\"], [\"Dionne Warwick\", \"East Orange, NJ\"], [\"The Smashing Pumpkins\", \"Chicago, IL\"], [\"Miossec\", \"Brest, France\"], [\"Kathy Troccoli\", \"NASHVILLE, Tennessee\"], [\"Alicia Keys\", \"Harlem, New York\"], [\"Pumpkin Buzzard\", \"Missouri\"], [\"Jim Kweskin\", \"Stamford, CT\"], [\"Rooney\", \"Los Angeles, CA\"], [\"Mariah Carey\", \"New York, New York\"], [\"Kane\", \"California - LA\"], [\"Sugar Minott\", \"Kingston, Jamaica\"], [\"Bob Margolin\", \"Boston, MA\"], [\"Lionel Rogg\", \"Geneva, Switzerland\"], [\"Dyango\", \"Massachusetts\"], [\"Yahir\", \"Hermosillo Sonora, Mexico\"], [\"Mikey Dread\", \"Jamaica\"], [\"Papa Wemba\", \"Kasai, Zaire\"], [\"The Jeremy Spencer Band\", \"West Hartlepool, England\"], [\"BoDeans\", \"Waukesha WI\"], [\"The Jackson Southernaires\", \"Mississippi\"], [\"Clarence Fountain\", \"Tyler, AL\"], [\"Thirst\", \"UK - England - South West\"], [\"Faithless\", \"London, England\"], [\"Eurythmics\", \"London, England\"], [\"Jay & The Americans\", \"New York, NY\"], [\"Rui Da Silva\", \"London\"], [\"The Stooges\", \"Ann Arbor, MI\"], [\"Johnny Horton\", \"Los Angeles, CA\"], [\"Atreyu\", \"Orange County, CA\"], [\"Bomb Squad\", \"Connecticut\"], [\"Ms. Dynamite\", \"London\"], [\"Cartel\", \"CHICAGO, US\"], [\"Otis Spann\", \"Jackson, MS\"], [\"Dexys Midnight Runners\", \"Birmingham, England\"], [\"Vangelis\", \"Volos, Greece\"], [\"Barbara Lynn\", \"Beaumont, TX\"], [\"Pat Metheny / Charlie Haden\", \"Shenandoah, IA\"], [\"Jay & The Americans\", \"New York, NY\"], [\"Beat Pharmacy\", \"NY - New York City\"], [\"Rhinoceros\", \"UK - England - West Midlands\"], [\"Bury Your Dead\", \"Boston, Massachusetts\"], [\"Dilated Peoples\", \"Los Angeles, California\"], [\"Tiny Tim\", \"New York, NY\"], [\"Mind Furniture\", \"California - SF\"], [\"Alan Silvestri\", \"New York, NY\"], [\"Helmet\", \"New York\"], [\"Dynamite Deluxe\", \"Germany\"], [\"Sivuca & Cl\\\\xc3\\\\xa3 Brasil\", \"Itabaiana, Para\\\\xef\\\\xbf\\\\xbd, Brazil\"], [\"Rod Piazza & The Mighty Flyers\", \"California - LA\"], [\"Primordial\", \"Dublin, Ireland\"], [\"Willie Clancy\", \"Miltown Malbay, Ireland\"], [\"Pee Wee King\", \"Milwaukee, WI\"], [\"Nestor Torres\", \"Miami, FL\"], [\"Irwin Goodman\", \"H\\\\xc3\\\\xa4meenlinna\"], [\"Cancer Bats\", \"Toronto, Ontario, Canada\"], [\"Roy Rogers\", \"Redding, CA\"], [\"Johnny Nash\", \"Houston, TX\"], [\"Marc Lavoine\", \"Longjumeau, France\"], [\"Big Mama Thornton with Kansas Bill and his Orchestra\", \"Montgomery, AL\"], [\"Roy Drusky\", \"Atlanta, GA\"], [\"Jeanne Pruett\", \"Pell City, AL\"], [\"The Irish Rovers\", \"Alberta, Canada\"], [\"Angelo Badalamenti\", \"New Jersey\"], [\"J.J. Cale\", \"Oklahoma City, OK\"], [\"Vanessa Bell Armstrong\", \"Detroit, MI\"], [\"Tommy Sands\", \"UK - Northern Ireland\"], [\"Missy Higgins\", \"Melbourne, Australia\"], [\"Charlie Patton\", \"Edwards, MS\"], [\"Marlene Dietrich\", \"Sch\\\\xef\\\\xbf\\\\xbderg, Germany\"], [\"Los Fabulosos Cadillacs\", \"Buenos Aires.\"], [\"Yank Rachell\", \"Brownsville, TN\"], [\"Kruger\", \"Lausanne, CH\"], [\"Slipknot\", \"Des Moines, Iowa\"], [\"Grachan Moncur III\", \"New York\"], [\"Rick Astley\", \"Newton-le-Willows, Merseyside, England\"], [\"The Marx Brothers\", \"New York City, New York\"], [\"Sylvester Weaver\", \"Louisville, KY\"], [\"Orbital\", \"Sevenoaks, United Kingdom\"], [\"Lester Bowie\", \"Frederick, MD\"], [\"La 5A Estacion\", \"Bergen Norway\"], [\"The Ataris\", \"Anderson, IN\"], [\"Ronnie Milsap\", \"Robbinsville, NC\"], [\"Legion Of Green Men\", \"Burlington, Ontario, Canada\"], [\"Faces\", \"London, England\"], [\"David Raksin\", \"Philadelphia, PA\"], [\"Nick Ingman\", \"London, England\"], [\"John Brown\", \"North Carolina\"], [\"Tommy Overstreet\", \"Oklahoma City, OK\"], [\"Jean-michel Rotin\", \"FRANCE\"], [\"Happy Mondays\", \"Manchester, England\"], [\"Prince With 94 East\", \"Minneapolis, MN\"], [\"Bobby Darin\", \"New York, NY [The Bronx]\"], [\"John Michael Talbot\", \"Oklahoma City, OK\"], [\"Malina\", \"Viareggio, Italy\"], [\"A Skylit Drive\", \"California\"], [\"Daughters\", \"Providence, RI\"], [\"The Waybacks\", \"California - SF\"], [\"Andr\\\\xc3\\\\xa9 Verchuren\", \"Neuilly-sous-Clermont (Oise)\"], [\"Illya Kuryaki And The Valderramas\", \"Brewster New York USA\"], [\"Robben Ford\", \"Ukiah, CA\"], [\"Ultimate Fakebook\", \"Manhattan, Kansas\"], [\"Call To Preserve\", \"Rockledge, Florida\"], [\"Broadcast\", \"Birmingham, England\"], [\"Frank Stokes\", \"Whitehaven, TN\"], [\"Orquesta Sublime\", \"Cuba\"], [\"Hot Club Of Cowtown\", \"Hughesdale Victoria Australia\"], [\"The Roots / Jaguar\", \"Philadelphia, Pennsylvania, U.S.\"], [\"Fabri Fibra\", \"Senigallia, Italy\"], [\"The Incurables\", \"Missouri\"], [\"Frank Caliendo\", \"California\"], [\"Guitar Shorty\", \"Harlingen TX\"], [\"Love Jones\", \"Louisville, KY\"], [\"Jeff Beck\", \"Wallington, Surrey, England\"], [\"Skeeter Davis\", \"Dry Ridge, KY\"], [\"Crystals\", \"Nigeria\"], [\"Jaydee\", \"Washington\"], [\"Jimmy Johnson\", \"Illinois\"], [\"Sick Puppies\", \"Sydney, Australia\"], [\"The Jason Bonham Band\", \"NY - New York City\"], [\"Poncho Sanchez / Dianne Reeves\", \"Laredo, TX\"], [\"David Arkenstone\", \"Tennessee\"], [\"Pelt\", \"Kingston\"], [\"Annie Lennox\", \"Aberdeen\"], [\"We Show Up On Radar\", \"nottingham\"], [\"Catherine Howe\", \"Yorkshire, England\"], [\"Little Freddie King\", \"Louisiana\"], [\"David Arkenstone\", \"Tennessee\"], [\"Fuzz\", \"Arizona\"], [\"Rui Da Silva\", \"London\"], [\"Connie Francis\", \"Newark, NJ\"], [\"Curtis Mayfield\", \"Chicago, IL\"], [\"The Mighty Clouds Of Joy\", \"Los Angeles, CA\"], [\"Black Debbath\", \"Oslo, Norway\"], [\"Stevie Ray Vaughan And Double Trouble\", \"Dallas, TX\"], [\"Muse\", \"UK\"], [\"Slim Whitman\", \"Tampa, FL\"], [\"Groucho Marx\", \"FORT LAUDERDALE, Flevoland\"], [\"The Clash\", \"London, England\"], [\"Wendy Moten\", \"Memphis, TN\"], [\"Melatonin\", \"NORWAY\"], [\"Judas Iscariot\", \"DeKalb, Illinois, USA\"], [\"Eddy Arnold\", \"Madisonville, TN\"], [\"Andr\\\\xc3\\\\xa9 Verchuren\", \"Neuilly-sous-Clermont (Oise)\"], [\"The Roots\", \"Philadelphia, Pennsylvania, U.S.\"], [\"The Merry Macs\", \"Minneapolis, MN\"], [\"Tito Rodriguez\", \"San Juan, Puerto Rico\"], [\"SNAP!\", \"Germany\"], [\"California Oranges\", \"Sacremento, CA\"], [\"The Berzerker\", \"Melbourne, Australia\"], [\"GG Allin\", \"Lancaster, NH\"], [\"Alexander O'Neal\", \"Minneapolis, MN\"], [\"Photek\", \"Ipswich, England\"], [\"Ashes to Ashes\", \"NORWAY\"], [\"Band Of Horses\", \"Brooklyn, NY\"], [\"Don & Juan\", \"Ohio\"], [\"Edmundo Ros\", \"Venezuela\"], [\"Selena\", \"Texas\"], [\"Dave Eggar\", \"California - LA\"], [\"Soulwax\", \"Ghent, Belgium\"], [\"Mae West\", \"Brooklyn, NY\"], [\"Mayday\", \"Texas\"], [\"SNAP!\", \"Germany\"], [\"Irwin Goodman\", \"H\\\\xc3\\\\xa4meenlinna\"], [\"Lizzy Borden\", \"Los Angeles, CA\"], [\"Eliane Elias\", \"Sao Paulo, Brazil\"], [\"Mikey General\", \"Jamaica\"], [\"Snowgoons\", \"Karlsruhe, Germany\"], [\"Sergio Franchi\", \"Italy\"], [\"Carolyn Arends\", \"CANADA - Ontario\"], [\"The Strokes\", \"NY\"], [\"Steve Smith\", \"Brockton, MA\"], [\"Sugar Minott\", \"Kingston, Jamaica\"], [\"Jacques Dutronc\", \"Paris, France\"], [\"The Sonics\", \"Tacoma, WA\"], [\"Nick Ingman\", \"London, England\"], [\"Britney Spears\", \"Kentwood, LA; Los Angeles, CA\"], [\"Tony Joe White\", \"Goodwill, LA\"], [\"Gary Moore\", \"Belfast, Northern Ireland\"], [\"D:Fuse vs The Scumfrog\", \"Austin, TX\"], [\"Pat Travers\", \"Toronto, Canada\"], [\"Kuba\", \"Latvia\"], [\"Shawn Colvin\", \"Vermillion, SD\"], [\"John Sebastian\", \"Leeds\"], [\"Cockney Rejects\", \"England\"], [\"New Roanoke Jug Band\", \"Virginia\"], [\"Nickelback featuring Kid Rock\", \"Hanna, Alberta, Canada\"], [\"Billie Jo Spears\", \"Beaumont, TX\"], [\"UFO\", \"Arizona\"], [\"Los Fabulosos\", \"Buenos Aires.\"], [\"Geoff Muldaur\", \"Rio de Janeiro\"], [\"Take It Back!\", \"Fayetteville, AR\"], [\"Sneaky Sound System\", \"Sydney, Australia\"], [\"Little Eva\", \"Bellhaven, NC\"], [\"Joi\", \"Georgia\"], [\"Claire Hamill\", \"UK - England - South East\"], [\"The Tokens\", \"Brooklyn, NY\"], [\"Bob Neuwirth\", \"New York\"], [\"The Marx Brothers\", \"New York City, New York\"], [\"The Box Tops\", \"Memphis, TN\"], [\"Percy Faith\", \"Toronto, Ontario, Canada\"], [\"Daddy Yankee\", \"Puerto Rico\"], [\"John Cephas & Phil Wiggins\", \"Bowling Green, VA\"], [\"Mississippi Fred McDowell\", \"Rossville, Tennessee (Lived in Como, Mississippi)\"], [\"Loudon Wainwright III\", \"Chapel Hill, NC\"], [\"Cancer Bats\", \"Toronto, Ontario, Canada\"], [\"Electric Light Orchestra\", \"Birmingham, England\"], [\"To My Surprise\", \"Des Moines, Iowa\"], [\"Cockney Rejects\", \"England\"], [\"Sophie Tucker\", \"Russia\"], [\"Terry Muska\", \"Texas\"], [\"Why?\", \"Cincinnati, OH\"], [\"HardNox\", \"California - SF\"], [\"The Stooges\", \"Ann Arbor, MI\"], [\"Sister Rosetta Tharpe\", \"Cotton Plant, AR\"], [\"Billy Price_ Fred Chapellier\", \"Pennsylvania\"], [\"DMZ\", \"Boston, MA\"], [\"Philip Glass\", \"Baltimore, MD\"], [\"Agnostic Front\", \"New York, NY\"], [\"The Rance Allen Group\", \"Detroit, MI\"], [\"Everly Brothers\", \"Tennessee\"], [\"Luis Alberto Spinetta\", \"Buenos Aires, Argentina\"], [\"Open Hand\", \"Mass. - Boston\"], [\"Lesley Gore\", \"New York, NY\"], [\"Gene Pitney\", \"Hartford, CT\"], [\"Inspiral Carpets\", \"Manchester, England\"], [\"Charlie McCoy\", \"Jackson, MS\"], [\"Enuff Z Nuff\", \"Chicago, IL\"], [\"Harry Lauder\", \"Portobello, Scotland\"], [\"MxPx\", \"Bremerton, WA\"], [\"Tyrone Davis\", \"Greenville, MS\"], [\"Zumpano\", \"Vancouver, BC, Canada\"], [\"Davol\", \"Colorado\"], [\"Shelby Flint\", \"North Hollywood, CA\"], [\"Orquesta Sublime\", \"Cuba\"], [\"Pelle Carlberg\", \"Sweden\"], [\"Fergie\", \"Hacienda Heights, CA\"], [\"Daniel Paul\", \"Hawaii\"], [\"Albert Collins\", \"Leona, Texas\"], [\"Daddy Yankee\", \"Puerto Rico\"], [\"Hot Tuna\", \"San Francisco, CA\"], [\"Abijah\", \"Jamaica\"], [\"Pee Wee Crayton\", \"Rockdale, TX\"], [\"Jessie Lee Miller\", \"Texas\"], [\"David & Steve Gordon\", \"California\"], [\"Cool cavemen\", \"Lille, France\"], [\"Philippe Sarde\", \"Neuilly-sur-Seine, France\"], [\"UFO\", \"Arizona\"], [\"Sister Rosetta Tharpe & Marie\", \"Cotton Plant, AR\"], [\"Stevie Ray Vaughan And Double Trouble\", \"Dallas, TX\"], [\"David Arkenstone\", \"Tennessee\"], [\"David Johansen\", \"Staten Island, NY\"], [\"Kitty Kallen\", \"Philadelphia, PA\"], [\"Bobby Pulido\", \"Edinburg, TX\"], [\"Bruce Rowland\", \"AUSTRALIA\"], [\"Pumpkin Buzzard\", \"Missouri\"], [\"The Marx Brothers\", \"New York City, New York\"], [\"Daniela Dess\\\\xc3\\\\xac\", \"Genova\"], [\"The Jam\", \"Woking, Surrey, England\"], [\"Leon Russell\", \"Lawton, OK\"], [\"Ill Nino\", \"Nueva Jersey (Estados Unidos)\"], [\"Willie Clayton\", \"Indianola, MS\"], [\"Nestor Torres\", \"Miami, FL\"], [\"Debbie Davies\", \"Los Angeles, CA\"], [\"Alvin Youngblood Hart\", \"Oakland, CA\"], [\"The Starting Line\", \"Philadelphia, PA\"], [\"Gonzalo Rubalcaba\", \"Havana, Cuba\"], [\"Carl Belew\", \"Salina, OK\"], [\"David Taylor\", \"Virginia\"], [\"Roger Williams\", \"Omaha, NE\"], [\"Grizzly Bear\", \"Brooklyn, NY\"], [\"This Moment In Black History\", \"Cleveland, OH\"], [\"Joselito\", \"Jaen\"], [\"UK Subs\", \"UK - England - Yorkshire\"], [\"Chaka Demus & Pliers\", \"Kingston\"], [\"Pearl Jam\", \"Seattle, WA\"], [\"Little Feat\", \"Los Angeles, CA\"], [\"Brand X\", \"Sikeston, MO\"], [\"Mistress\", \"Mass. - Boston\"], [\"Atreyu\", \"Orange County, CA\"], [\"Rapha\\\\xc3\\\\xabl\", \"France\"], [\"M\\\\xc3\\\\xa5negarm\", \"Norrt\\\\xc3\\\\xa4lje\"], [\"Ernest Ranglin / Floyd Lloyd\", \"Robin\"], [\"Britney Spears\", \"Kentwood, LA; Los Angeles, CA\"], [\"Tim Wilson\", \"Georgia\"], [\"BoDeans\", \"Waukesha WI\"], [\"Otis Spann\", \"Jackson, MS\"], [\"Danny Wilson\", \"Dundee, Scotland\"], [\"DJ Vix\", \"London\"], [\"Al Dexter\", \"Jacksonville, TX\"], [\"Bongzilla\", \"Madison, Wisconsin\"], [\"John Tchicai\", \"Copenhagen, Denmark\"], [\"John Holt\", \"Kingston, Jamaica\"], [\"The Chap\", \"London\"], [\"Spoonie Gee\", \"New York, NY\"], [\"Linkin Park\", \"Los Angeles, CA\"], [\"Harry Lauder\", \"Portobello, Scotland\"], [\"Joi\", \"Georgia\"], [\"Lonnie Johnson\", \"New Orleans, LA\"], [\"Kenny Neal\", \"New Orleans, LA\"], [\"Alvin Youngblood Hart\", \"Oakland, CA\"], [\"Kristine W.\", \"Pasco, WA\"], [\"Al Di Meola\", \"Jersey City, NJ\"], [\"SNAP!\", \"Germany\"], [\"Chris Clark\", \"Los Angeles, CA\"], [\"Mance Lipscomb\", \"Navasota, TX\"], [\"ARRESTED DEVELOPMENT\", \"Atlanta, GA\"], [\"\\\\xc3\\\\x89tienne Daho\", \"Rennes\"], [\"Bitty McLean\", \"Hawaii\"], [\"Tom Cochrane\", \"Lynn Lake, Manitoba, Canada\"], [\"The Moody Blues\", \"Birmingham\"], [\"Trafik\", \"Utah\"], [\"Fiona\", \"New York, NY\"], [\"Eddie Palmieri\", \"New York, NY\"], [\"HA-ASH\", \"Lousiana\"], [\"Felix Slatkin/Concert Arts Symphonic Band\", \"St. Louis, MO\"], [\"Maurane\", \"Ixelles, Belgium\"], [\"Nikki Fletcher / Tim Hughes / Various Artists\", \"CANADA - Ontario\"], [\"M83\", \"Antibes, France\"], [\"Kooii\", \"AUSTRALIA - Queensland\"], [\"Alicia Keys\", \"Harlem, New York\"], [\"Shanadoo\", \"Tokyo\"], [\"Irma Thomas\", \"Ponchatoula, LA\"], [\"Aftermath\", \"Bogot\\\\xc3\\\\xa1 D. C., Colombia\"], [\"Willy DeVille\", \"New York, New York\"], [\"Polkaholix\", \"GERMANY\"], [\"Scott Wesley Brown\", \"Atlanta Georgia USA\"], [\"Paramore\", \"Franklin, TN\"], [\"Nestor Torres\", \"Miami, FL\"], [\"Loudon Wainwright III\", \"Chapel Hill, NC\"], [\"Carl Davis\", \"Bellevue Washington USA\"], [\"Willie Clayton\", \"Indianola, MS\"], [\"Death From Above 1979\", \"BA\"], [\"Tunsi\", \"California - SF\"], [\"Roger Williams\", \"Omaha, NE\"], [\"Ian Moore\", \"Seattle WA\"], [\"089 Clique feat. Prophet\", \"GERMANY\"], [\"Helmet\", \"New York\"], [\"Chris Eaton\", \"California\"], [\"James Darren\", \"Philadelphia, PA\"], [\"Pee Wee Crayton\", \"Rockdale, TX\"], [\"Sportsguitar\", \"Switzerland\"], [\"The Strokes\", \"NY\"], [\"Alicia Keys\", \"Harlem, New York\"], [\"3OH!3\", \"Boulder, CO\"], [\"Coco Montoya\", \"Santa Monica, CA\"], [\"UFO\", \"Arizona\"], [\"MIMS\", \"New York, NY [Washington Heights]\"], [\"Kristine W.\", \"Pasco, WA\"], [\"Kim Wilson\", \"Detroit, MI\"], [\"Jamie Richards\", \"Shawnee OK\"], [\"Eldar\", \"Laietan, UM\"], [\"The Ataris\", \"Anderson, IN\"], [\"Yami Bolo\", \"Detroit USA\"], [\"Roger Williams\", \"Omaha, NE\"], [\"Broadcast\", \"Birmingham, England\"], [\"The American Boychoir\", \"New Jersey\"], [\"David Bowie\", \"London, UK\"], [\"Orbital\", \"Sevenoaks, United Kingdom\"], [\"Sam Baker\", \"Austin, TX\"], [\"Ginny Owens\", \"United States\"], [\"Play\", \"Sweden\"], [\"T-Bone\", \"Thaba Nchu\"], [\"Semisonic\", \"Minneapolis, MN\"], [\"Nine Inch Nails\", \"Cleveland, OH\"], [\"Angelo Badalamenti / Patrick Wolf\", \"New Jersey\"], [\"Guitar Slim\", \"Greenwood, MS\"], [\"Otis Spann\", \"Jackson, MS\"], [\"Kate Maki\", \"Virginia USA\"], [\"Enuff Z 'Nuff\", \"Chicago, IL\"], [\"Johannes Linstead\", \"Toronto\"], [\"Converge\", \"Boston, Brooklyn USA\"], [\"Inspiral Carpets\", \"Manchester, England\"], [\"Tito Rodriguez\", \"San Juan, Puerto Rico\"], [\"Thomas Dolby\", \"Cairo, Egypt\"], [\"The Who\", \"Angleterre\"], [\"Jars Of Clay\", \"Nashville, TN\"], [\"Taking Back Sunday\", \"Long Island, New York\"], [\"MC5\", \"Lincoln Park, MI\"], [\"SAF\", \"Gent\"], [\"089 Clique feat. Minnesota Snipe & Skinny Cueball\", \"GERMANY\"], [\"Belphegor\", \"SANTA ANA, California\"], [\"Ray Davies\", \"Muswell Hill, London, England\"], [\"John Holt\", \"Kingston, Jamaica\"], [\"Outerspace\", \"Philadelphia, PA\"], [\"Brian Littrell\", \"Lexington, KY\"], [\"Daryl Coley\", \"San Francisco, CA\"], [\"Delroy Wilson\", \"Kingston, Jamaica\"], [\"Fuzz\", \"Arizona\"], [\"David Arkenstone\", \"Tennessee\"], [\"Edgar Bori\", \"Montreal\"], [\"Benga\", \"London, United Kingdom\"], [\"Andr\\\\xc3\\\\xa9 Verchuren\", \"Neuilly-sous-Clermont (Oise)\"], [\"Selena\", \"Texas\"], [\"Irwin Goodman\", \"H\\\\xc3\\\\xa4meenlinna\"], [\"Helen Love\", \"Cardiff, Wales\"], [\"Jay & The Americans\", \"New York, NY\"], [\"Indica\", \"Finland\"], [\"Sunscreem\", \"Essex, England\"], [\"Deborah Allen\", \"Memphis, TN\"], [\"Casey Bill Weldon\", \"Arkansas\"], [\"The Marx Brothers\", \"New York City, New York\"], [\"Grandpa Jones\", \"Niagra, KY\"], [\"Miguel Migs\", \"San Francisco, CA\"], [\"Protein\", \"San Francisco, CA\"], [\"Kevin Max\", \"LOS ANGELES, CALIFORNIA\"], [\"Midge Ure\", \"Glasgow, Scotland\"], [\"Negura Bunget\", \"Timi\\\\xc5\\\\x9foara\"], [\"Emperor\", \"Norway\"], [\"The Smashing Pumpkins\", \"Chicago, IL\"], [\"Rihanna\", \"St Michael, Barbados \"], [\"Oceansize\", \"Manchester, England\"], [\"Jackie Davis\", \"Jacksonville, FL\"], [\"Johnny Pacheco\", \"Santiago de los Caballeros, Domin\"], [\"Sick Of It All\", \"Virginia\"], [\"Blackalicious\", \"Davis, CA\"], [\"John Davis & Emma Doyle\", \"Pennsylvania\"], [\"Jeff Johnson\", \"Dallas, TX\"], [\"Bukka White\", \"Houston, MS\"], [\"Gang Of Four\", \"Leeds, England\"], [\"Circle Jerks\", \"California - LA\"], [\"Barbara Fairchild\", \"Knobel, AK\"], [\"Tyrone Davis\", \"Greenville, MS\"], [\"Jo-El Sonnier\", \"Rayne, LA\"], [\"Jimmy Page_ John Paul Jones_ Albert Lee_ Nicky Hopkins_ Big Jim Sullivan_ Clem Cattini_ Chris Hughes\", \"Heston, Middlesex, England\"], [\"Michael Whalen\", \"New York\"], [\"Elton Britt\", \"Zack, AR\"], [\"Bobby \\\"Blue\\\" Bland\", \"Rosemark, TN\"], [\"Between The Buried And Me\", \"Charlotte, NC\"], [\"Faithless\", \"London, England\"], [\"Hellsongs\", \"Gothenburg, Sweden\"], [\"Santana\", \"San Francisco, California\"], [\"THE CHIFFONS\", \"New York, NY [The Bronx]\"], [\"Little Junior Parker\", \"Clarksdale, MS\"], [\"Incubus\", \"California\"], [\"Brian Keane\", \"Texas\"], [\"Robin Fox\", \"Florida\"], [\"Statues\", \"Sudbury, Ontario - Canada\"], [\"Rusted Shut\", \"Houston TX\"], [\"Happy Mondays\", \"Manchester, England\"], [\"Marilyn Horne\", \"Great Britain / UK\"], [\"Daddy Yankee\", \"Puerto Rico\"], [\"Janet Paschal\", \"North Carolina\"], [\"Blue Rodeo\", \"Toronto, Ontario, Canada\"], [\"John Brown\", \"North Carolina\"], [\"Mary Black\", \"Ireland\"], [\"Mikey Dread\", \"Jamaica\"], [\"Faithless\", \"London, England\"], [\"Selena\", \"Texas\"], [\"Marquez the Greatest\", \"California - LA\"], [\"Roy Buchanan\", \"Ozark, AR\"], [\"Mayday\", \"Texas\"], [\"Charles Williams\", \"Texas\"], [\"Art Ensemble Of Chicago\", \"CHICAGO, Illinois\"], [\"Swim\", \"Savignano S/R\"], [\"Negura Bunget\", \"Timi\\\\xc5\\\\x9foara\"], [\"Buddy Miles\", \"Omaha, NE\"], [\"Bobbie Gentry\", \"Chickasaw County, MS\"], [\"Brenda Lee\", \"Lithonia, GA\"], [\"Eddy Arnold\", \"Madisonville, TN\"], [\"Gisselle\", \"Puerto Rico\"], [\"Paul Carrack\", \"Sheffield, Yorkshire, England\"], [\"The Irish Rovers\", \"Alberta, Canada\"], [\"William Coulter\", \"California\"], [\"At The Gates\", \"Gothenburg\"], [\"Johnny Horton\", \"Los Angeles, CA\"], [\"Kane\", \"California - LA\"], [\"Bomb Squad\", \"Connecticut\"], [\"Eastmountainsouth\", \"Los Angeles, CA\"], [\"Love Jones\", \"Louisville, KY\"], [\"Kings Of Leon\", \"Nashville, Tennessee\"], [\"From Dying Skies\", \"Lille, France\"], [\"Eddy Raven\", \"Lafayette, LA\"], [\"JK\", \"Texas\"], [\"Dub Pistols feat. TK\", \"London, England\"], [\"Albert Ayler\", \"Cleveland, OH\"], [\"Perfection\", \"Uppsala\"], [\"Tony Joe White\", \"Goodwill, LA\"], [\"Terror Squad / Remy / Prospect / Armageddon\", \"The Bronx, New York, NY\"], [\"D.A.D.\", \"Copenhagen (Denmark)\"], [\"G.G. Allin\", \"NY - New York City\"], [\"Darden Smith\", \"Brenham, TX\"], [\"Mary Black\", \"Ireland\"], [\"Daryl Coley\", \"San Francisco, CA\"], [\"John Doan\", \"Oregon\"], [\"Lorna\", \"Nottingham, England\"], [\"The Keys\", \"UK\"], [\"Toots Thielemans\", \"Brussels, Belgium\"], [\"Stevie Ray Vaughan And Double Trouble\", \"Dallas, TX\"], [\"Jamie Richards\", \"Shawnee OK\"], [\"Joanna Connor\", \"Brooklyn, NY\"], [\"Dilated Peoples Featuring Capleton\", \"Los Angeles, California\"], [\"Saga\", \"Toronto, Ontario, Canada\"], [\"Walter Jackson\", \"Pensacola, FL\"], [\"Anthony Blea Y Su Charanga\", \"California - SF\"], [\"Maria Callas/Giuseppe di Stefano/Ettore Bastianini/Silvana Zanolli/Luisa Mandelli/Giuseppe Zampieri/Arturo La Porta/Antonio Zerbini/Silvio Maionica/Coro e Orchestra del Teatro alla Scala_ Milano/Carlo Maria Giulini\", \"New York, NY\"], [\"Herb Alpert And The Tijuana Brass\", \"BEVERLY HILLS, California\"], [\"Francis Dunnery\", \"Egremont, Cumbria, England\"], [\"Bonita & Jerry Cormier\", \"jakarta\"], [\"Mikey Dread\", \"Jamaica\"], [\"James Blackwood with The Light Crust Doughboys\", \"Tennessee\"], [\"Alphonse Mouzon\", \"Charleston, SC\"], [\"Ben Sidran\", \"Chicago, IL\"], [\"Aeoliah\", \"Canada\"], [\"King Curtis\", \"Fort Worth, TX\"], [\"The Equals\", \"North London, England\"], [\"Big Dee Irwin\", \"New York, NY\"], [\"VHS Or Beta\", \"Louisville, KY\"], [\"Charley Patton\", \"Edwards, MS\"], [\"Babe Ruth\", \"Hatfield, Hertfordshire, England\"], [\"Pennywise\", \"Hermosa Beach, CA\"], [\"Edmundo Ros\", \"Venezuela\"], [\"The Sterns\", \"Brighton, MA\"], [\"Edgar De L'est\", \"Bordeaux\"], [\"Vangelis\", \"Volos, Greece\"], [\"Daddy Yankee\", \"Puerto Rico\"], [\"Righteous Brothers\", \"California\"], [\"Kane\", \"California - LA\"], [\"Why?\", \"Cincinnati, OH\"], [\"Bonita & Jerry Cormier\", \"jakarta\"], [\"Sara Melson\", \"California - LA\"], [\"Happy Mondays\", \"Manchester, England\"], [\"Yahir\", \"Hermosillo Sonora, Mexico\"], [\"Vince Guaraldi\", \"San Francisco, CA\"], [\"John Brown\", \"North Carolina\"], [\"Mush\", \"Switzerland\"], [\"Leroy Hutson\", \"Newark, NJ\"], [\"Between The Buried And Me\", \"Charlotte, NC\"], [\"Loop Guru\", \"London, England\"], [\"Jimmy Witherspoon\", \"Gurdon, AR\"], [\"Karen Peck & New River\", \"Tennessee\"], [\"Adolph Hofner\", \"Moulton, TX\"], [\"Carolyn Arends\", \"CANADA - Ontario\"], [\"The Dillinger Escape Plan\", \"Morris Plains, NJ\"], [\"Lionel Rogg\", \"Geneva, Switzerland\"], [\"Paul Taylor\", \"Wyoming\"], [\"Jack Off Jill\", \"Ft. Lauderdale, FLORIDA\"], [\"Bombay Rockers\", \"Denmark\"], [\"Nestor Torres\", \"Miami, FL\"], [\"Marlene Dietrich\", \"Sch\\\\xef\\\\xbf\\\\xbderg, Germany\"], [\"Mongo Santamaria\", \"Havana, Cuba [Jesus Maria]\"], [\"Leroy Hutson\", \"Newark, NJ\"], [\"Ann Nesby\", \"Joliet, IL &amp; Atlanta, GA\"], [\"The Shamen\", \"Aberdeen, Scotland\"], [\"Danny Wright\", \"Texas\"], [\"Passion\", \"Florida\"], [\"Midwest Product\", \"Ann Arbor, MI\"], [\"Atreyu\", \"Orange County, CA\"], [\"Taking Back Sunday\", \"Long Island, New York\"], [\"Sonny Landreth\", \"Caton, MS\"], [\"Workhorse\", \"Mississippi\"], [\"Helen Love\", \"Cardiff, Wales\"], [\"Humble Pie\", \"Essex, England\"], [\"Sleepy John Estes\", \"Ripley, TN\"], [\"Helen Love\", \"Cardiff, Wales\"], [\"Basic Channel\", \"Berlin, Germany\"], [\"Sue Foley\", \"Ottawa, Ontario, Canada\"], [\"Barry Mann\", \"Brooklyn, NY\"], [\"Ben Sidran\", \"Chicago, IL\"], [\"Jimmy Page\", \"Heston, Middlesex, England\"], [\"Jim Kweskin with Samoa Wilson\", \"Stamford, CT\"], [\"Light Of The World\", \"London, England\"], [\"Architecture In Helsinki\", \"Melbourne\"], [\"Britney Spears\", \"Kentwood, LA; Los Angeles, CA\"], [\"Barbara Fairchild\", \"Knobel, AK\"], [\"Big Star\", \"Memphis, TN\"], [\"Moon Mullican\", \"Corrigan, Polk County, TX\"], [\"Chroma Key\", \"Canada\"], [\"The Red Jumpsuit Apparatus\", \"Middleburg, Florida\"], [\"Lonnie Brooks\", \"Dubuisson, LA\"], [\"Stanley Clarke\", \"Philadelphia, PA\"], [\"Rancid\", \"Bay Area, CA\"], [\"Jim Kweskin\", \"Stamford, CT\"], [\"Justin\", \"Georgia\"], [\"Carl Davis\", \"Bellevue Washington USA\"], [\"Diesel Boy\", \"Santa Rosa, California\"], [\"Sophie B. Hawkins\", \"New York, NY [Manhattan]\"], [\"Circle Jerks\", \"California - LA\"], [\"Deville_ Willy\", \"New York, New York\"], [\"Jake Hess\", \"Tennessee\"], [\"Cal Tjader\", \"St. Louis, MO\"], [\"Elvin Bishop\", \"Glendale, CA\"], [\"Bruce Springsteen\", \"Freehold, NJ\"], [\"B.A.D.\", \"London, England\"], [\"Marty Robbins\", \"Glendale, AZ\"], [\"Hank Penny\", \"Birmingham, AL\"], [\"Johnny Nash\", \"Houston, TX\"], [\"Jason Miles\", \"NY - New York City\"], [\"Samba Mapangala and Orchestra Virunga\", \"Kenya\"], [\"Catherine King/Matthew Schwinghammer/The American Boychoir\", \"New Jersey\"], [\"Falling Into Place\", \"Volos, Greece\"], [\"Wet Wet Wet\", \"Glasgow, Scotland\"], [\"Moonspell\", \"Portugal\"], [\"Black Flag\", \"Los Angeles, CA\"], [\"Walter Hawkins\", \"Oakland, CA\"], [\"Wamdue Project\", \"Atlanta, GA\"], [\"Eddy Raven\", \"Lafayette, LA\"], [\"Anthony Cruz\", \"Mandeville, Jamaica\"], [\"Rod Bernard\", \"Opelousas, LA\"], [\"Jefferson Starship\", \"San Francisco, CA\"], [\"Lonnie Johnson\", \"New Orleans, LA\"], [\"Pat Travers\", \"Toronto, Canada\"], [\"Linkin Park\", \"Los Angeles, CA\"], [\"Bryan Ferry\", \"Washington, England\"], [\"Scott Ainslie\", \"Vermont\"], [\"The Shangri-Las\", \"Queens, NY\"], [\"Heaven 17\", \"London, England\"], [\"Robert Lockwood_ Jr.\", \"Marvell, AR\"], [\"Sivuca\", \"Itabaiana, Para\\\\xef\\\\xbf\\\\xbd, Brazil\"], [\"Charlie Walker\", \"Collins County, TX\"], [\"Peloton\", \"California - SF\"], [\"Faron Young\", \"Shreveport, LA\"], [\"The Jordanaires & Orion\", \"Springfield, MO\"], [\"Pennywise\", \"Hermosa Beach, CA\"], [\"Bomb Squad\", \"Connecticut\"], [\"Muse\", \"UK\"], [\"Frank Chacksfield\", \"Battle, Sussex, England\"], [\"Cam'Ron\", \"Harlem, NY\"], [\"Blind Lemon Jefferson\", \"Couchman, TX\"], [\"Nana Mouskouri\", \"Athens, Greece\"], [\"The Merry Macs\", \"Minneapolis, MN\"], [\"Bobby Pulido\", \"Edinburg, TX\"], [\"Telecast\", \"California - LA\"], [\"Loretta Lynn\", \"Nashville, TN, Texas\"], [\"The Chi Lites\", \"Chicago, IL\"], [\"Bob Wills\", \"Kosse, TX\"], [\"Bob Hope\", \"Eltham, England\"], [\"Don & Juan\", \"Ohio\"], [\"Eric Burdon\", \"Walker-on-Tyne, England\"], [\"The Perrys\", \"Maryland\"], [\"Anthony Watson\", \"Mobile, AL\"], [\"Selena\", \"Texas\"], [\"Eurythmics\", \"London, England\"], [\"Yellowcard\", \"Jacksonville, FL\"], [\"Kira\", \"Wuppertal, Germany\"], [\"Fabi\\\\xc3\\\\xa1n\", \"Texas\"], [\"Cadacross\", \"Finland\"], [\"Henri Pousseur\", \"Malm\\\\xef\\\\xbf\\\\xbd, Belgium\"], [\"Marygold\", \"Verona - Italy\"], [\"Bobby Darin\", \"New York, NY [The Bronx]\"], [\"Oh No\", \"Oxnard, CA\"], [\"Sivuca\", \"Itabaiana, Para\\\\xef\\\\xbf\\\\xbd, Brazil\"], [\"James Horner\", \"Los Angeles, CA\"], [\"The Chi-Lites\", \"Chicago, IL\"], [\"The Shangri-Las\", \"Queens, NY\"], [\"Mariah Carey\", \"New York, New York\"], [\"Walter Trout\", \"Ocean City, NJ\"], [\"Abbott & Chambers\", \"Cairo/Egypt\"], [\"Electrostatic\", \"Los Angeles, CA\"], [\"Helmet\", \"New York\"], [\"Dax Riggs\", \"Houma, LA\"], [\"Heaven 17\", \"London, England\"], [\"Charles Aznavour\", \"Virginia\"], [\"Alice Stuart\", \"Washington\"], [\"Lupe Fiasco feat. GemStones and Graham Burris\", \"Chicago, IL\"], [\"Joi\", \"Georgia\"], [\"Memphis Minnie\", \"Algiers, LA\"], [\"Gail Davies\", \"Broken Bow, OK\"], [\"Karen Peck And New River\", \"Tennessee\"], [\"Claire Hamill\", \"UK - England - South East\"], [\"Mind Furniture\", \"California - SF\"], [\"Orquesta Sublime\", \"Cuba\"], [\"John Brown\", \"North Carolina\"], [\"Percy Mayfield\", \"Minden, LA\"], [\"Jack Sheldon\", \"Jacksonville, FL\"], [\"VHS Or Beta\", \"Louisville, KY\"], [\"Alice Cooper\", \"Detroit, MI\"], [\"Al Di Meola\", \"Jersey City, NJ\"], [\"Mongo Santamaria\", \"Havana, Cuba [Jesus Maria]\"], [\"The Distillers\", \"L.A \\\\tCalifornia, Estados Unidos \"], [\"Ms. Dynamite / Kymani Marley\", \"London\"], [\"ARRESTED DEVELOPMENT\", \"Atlanta, GA\"], [\"Scott Wesley Brown\", \"Atlanta Georgia USA\"], [\"Fernando Ortega\", \"California\"], [\"Jimmy Witherspoon\", \"Gurdon, AR\"], [\"The Cure\", \"Crawley, England\"], [\"Cliff Edwards/Disney Studio Chorus\", \"Montreal, Quebec, Canada\"], [\"Tammy Wynette\", \"Itawamba County, MS\"], [\"Sonny James\", \"Hackleburg, AL\"], [\"Charlie Haden\", \"Shenandoah, IA\"], [\"Marilyn Horne\", \"Great Britain / UK\"], [\"John Berry\", \"Aiken, SC\"], [\"Noah Lewis\", \"Henning, TN\"], [\"Vangelis\", \"Volos, Greece\"], [\"LL Cool J\", \"Bayshore, Long Island, NY\"], [\"BT\", \"Earth\"], [\"Kris Kristofferson\", \"Brownsville, TX\"], [\"L7\", \"Los Angeles, CA\"], [\"Moonspell\", \"Portugal\"], [\"Claire Hamill\", \"UK - England - South East\"], [\"Marcus Miller\", \"Brooklyn, NY\"], [\"Henri Pousseur\", \"Malm\\\\xef\\\\xbf\\\\xbd, Belgium\"], [\"Gian Marco\", \"Peru\"], [\"The Who\", \"Angleterre\"], [\"Jim Reeves\", \"Galloway, Panola County, TX\"], [\"Sade\", \"Ibadan, Nigeria\"], [\"Chris Clark\", \"Los Angeles, CA\"], [\"Gene Chandler\", \"Chicago, IL\"], [\"Rapha\\\\xc3\\\\xabl\", \"France\"], [\"Jenney\", \"Stockholm\"], [\"Terje Lie\", \"California - LA\"], [\"Patton Oswalt\", \"Portsmouth, VA\"], [\"Cecilia Bartoli / International Chamber Soloists / Orchestra La Scintilla / Adam Fischer\", \"Rome, Italy\"], [\"Anthony Cruz\", \"Mandeville, Jamaica\"], [\"Anthony Watson\", \"Mobile, AL\"], [\"Benny Spellman\", \"Pensacola, FL\"], [\"Tommy Makem;The Clancy Brothers\", \"United States\"], [\"Marygold\", \"Verona - Italy\"], [\"Ray Davies\", \"Muswell Hill, London, England\"], [\"Poncho Sanchez\", \"Laredo, TX\"], [\"Butthole Surfers\", \"San Antonio, TX\"], [\"Shout Out Out Out Out\", \"780\"], [\"Alan Silvestri\", \"New York, NY\"], [\"Edgar Bori\", \"Montreal\"], [\"Marc Broussard\", \"BIRMINGHAM, Alabama\"], [\"Montrose\", \"California\"], [\"Slipknot\", \"Des Moines, Iowa\"], [\"Mudhoney\", \"Seattle, WA\"], [\"Barbara Lusch\", \"Oregon\"], [\"Eno\", \"Great Britain / UK\"], [\"Darden Smith\", \"Brenham, TX\"], [\"Messy Marv & D.Z.\", \"California - SF\"], [\"The Tall Grass\", \"London ON\"], [\"David Arkenstone\", \"Tennessee\"], [\"Renee Rosnes\", \"Regina, Saskatchewan, Canada\"], [\"Jesse Malin\", \"Whitestone, Queens, NY\"], [\"Tigerstyle\", \"Glasgow\"], [\"Sophie Tucker\", \"Russia\"], [\"J.B.Lenoir\", \"Monticello, MS\"], [\"Broadcast\", \"Birmingham, England\"], [\"SWAMI featuring Ishmael Morabe\", \"Birmingham/ London, UK\"], [\"The Jackson Southernaires\", \"Mississippi\"], [\"Slipknot\", \"Des Moines, Iowa\"], [\"Missy Higgins\", \"Melbourne, Australia\"], [\"Mongo Santamaria Orchestra\", \"Havana, Cuba [Jesus Maria]\"], [\"Larissa\", \"Texas\"], [\"Big Maybelle\", \"Jackson, TN\"], [\"Daniel Kobialka\", \"United States\"], [\"Fastball\", \"Austin, TX\"], [\"Ray Sandoval\", \"Tucson, Arizona\"], [\"Nick Ingman\", \"London, England\"], [\"Herb Alpert And The Tijuana Brass\", \"BEVERLY HILLS, California\"], [\"Washboard Sam\", \"Walnut Ridge, AR\"], [\"Rob Mullins\", \"California - LA\"], [\"Andr\\\\xc3\\\\xa9 Verchuren\", \"Neuilly-sous-Clermont (Oise)\"], [\"Peggy Lee\", \"Jamestown, ND\"], [\"Kruger\", \"Lausanne, CH\"], [\"John Fogerty\", \"Berkeley, CA\"], [\"J.B. Lenoir\", \"Monticello, MS\"], [\"The Tragically Hip\", \"Kingston, Ontario, Canada\"], [\"Elena\", \"Dubai UAE\"], [\"Ray Conniff;Billy Butterfield\", \"Attleboro, MA\"], [\"Billy Butler\", \"Philadelphia, PA\"], [\"T-Bone\", \"Thaba Nchu\"], [\"Agnostic Front\", \"New York, NY\"], [\"Tinariwen\", \"Mali, Africa\"], [\"Alice Cooper\", \"Detroit, MI\"], [\"Jim Kweskin_ The Jug Band\", \"Boston, MA\"], [\"Percy Faith\", \"Toronto, Ontario, Canada\"], [\"Jimmy Wakely\", \"Mineola, AR\"], [\"California Oranges\", \"Sacremento, CA\"], [\"Leon Russell\", \"Lawton, OK\"], [\"Otis Taylor\", \"Chicago, IL\"], [\"Fiona\", \"New York, NY\"], [\"Charlie Rich\", \"Benton, Arkansas\"], [\"Sonny Simmons\", \"Sicily Island, LA\"], [\"Jim Chappell\", \"United States\"], [\"B.o.B\", \"Washington DC\"], [\"Cali\", \"Vernet les Bains\"], [\"Pearl Jam\", \"Seattle, WA\"], [\"Del The Funky Homosapien\", \"Oakland, CA\"], [\"Little Milton\", \"Inverness, MS\"], [\"Shai Hulud\", \"Poughkeepsie, New York / Pompano Beach, Florida\"], [\"Daughters\", \"Providence, RI\"], [\"Bryan Ferry\", \"Washington, England\"], [\"Lifehouse\", \"NORTH FORT MYERS, Florida\"], [\"Robert Lockwood_ Jr.\", \"Marvell, AR\"], [\"Home Town Hero\", \"Los Angeles, California\"], [\"Misty Roses\", \"London / New York\"], [\"The Ataris\", \"Anderson, IN\"], [\"Y&T\", \"San Francisco Bay Area\"], [\"Ronnie Drew\", \"Dublin, Ireland\"], [\"Kokane\", \"Pomona, CA\"], [\"MC5\", \"Lincoln Park, MI\"], [\"Skyforger\", \"Latvia\"], [\"The Stooges\", \"Ann Arbor, MI\"], [\"The Exciters\", \"Lyon, FR\"], [\"Johnny Pacheco\", \"Santiago de los Caballeros, Domin\"], [\"Buffalo Nickel Band\", \"Mississippi\"], [\"Natasha Bedingfield\", \"London\"], [\"Cartel\", \"CHICAGO, US\"], [\"Jefferson Starship\", \"San Francisco, CA\"], [\"Bobby Marchan\", \"Youngstown, OH\"], [\"Mindy McCready\", \"Fort Meyers, FL\"], [\"Cece Winans\", \"Charlotte, NC\"], [\"Alternative TV\", \"London, England\"], [\"Pat Metheny\", \"Lee\"], [\"Jim Chappell\", \"United States\"], [\"Kix\", \"Hagerstown, MD\"], [\"Bobbie Gentry\", \"Chickasaw County, MS\"], [\"Ed Bruce\", \"Keiser, AR\"], [\"Danny Williams\", \"Port Elizabeth, South Africa\"], [\"Cutting Edge\", \"California - LA\"], [\"Cross Country\", \"Auburn, CA\"], [\"Eddy Raven\", \"Lafayette, LA\"], [\"Tunsi\", \"California - SF\"], [\"M83\", \"Antibes, France\"], [\"The Fabulous Thunderbirds\", \"Austin, TX\"], [\"Suicidal Tendencies\", \"Venice, CA\"], [\"Selena\", \"Texas\"], [\"Cam'Ron / Juelz Santana / Jimmy Jones\", \"Harlem, NY\"], [\"Mindy McCready\", \"Fort Meyers, FL\"], [\"Pinch\", \"Illinois\"], [\"Max Steiner\", \"Vienna, Austria\"], [\"Lupe Fiasco feat. Matthew Santos\", \"Chicago, IL\"], [\"Dexys Midnight Runners\", \"Birmingham, England\"], [\"Frank Ifield\", \"Coventry, England\"], [\"Jimmy Wakely\", \"Mineola, AR\"], [\"Joe Rogan\", \"Newark, NJ\"], [\"Billie Ray Martin Feat. Ann Peebles\", \"Hamburg, Germany\"], [\"Johnny Nash\", \"Houston, TX\"], [\"Unkle Bob\", \"Glasgow \"], [\"Dark new Day\", \"FL,GA,KY\"], [\"Ill Ni\\\\xc3\\\\xb1o\", \"Nueva Jersey (Estados Unidos)\"], [\"Terror Squad featuring Big Pun\", \"The Bronx, New York, NY\"], [\"Jay & The Americans\", \"New York, NY\"], [\"Peter Gallagher\", \"Cork, Ireland\"], [\"The Exciters\", \"Lyon, FR\"], [\"Becoming The Archetype\", \"Atlanta, GA\"], [\"Bad Religion\", \"Los Angeles, Ca\"], [\"Broadcast\", \"Birmingham, England\"], [\"Fabri Fibra\", \"Senigallia, Italy\"], [\"Sandi Thom\", \"Scotland\"], [\"Bobbie Gentry\", \"Chickasaw County, MS\"], [\"Aeoliah\", \"Canada\"], [\"Inner Circle\", \"Jamaica\"], [\"Perfection\", \"Uppsala\"], [\"Carl Davis\", \"Bellevue Washington USA\"], [\"Dennis Brown\", \"Kingston, Jamaica\"], [\"Ray Conniff\", \"Attleboro, MA\"], [\"Maxi Priest\", \"Lewisham, London, England\"], [\"Buddy Johnson\", \"Darlington, SC\"], [\"Vangelis\", \"Volos, Greece\"], [\"Kings Of Leon\", \"Nashville, Tennessee\"], [\"Ghetto Mafia\", \"Atlanta, GA\"], [\"The Chi-Lites\", \"Chicago, IL\"], [\"Don Francisco\", \"Colorado\"], [\"Happy Mondays\", \"Manchester, England\"], [\"Clifton Chenier\", \"Opelousas, LA\"], [\"Arika Kane\", \"Connecticut\"], [\"Brenda Lee\", \"Lithonia, GA\"], [\"Scott Krippayne\", \"Washington\"], [\"Papa Wemba\", \"Kasai, Zaire\"], [\"Migraine\", \"Stickney\"], [\"Dr. Elmo\", \"California - SF\"], [\"The Sonics\", \"Tacoma, WA\"], [\"Chorus Line\", \"New York, NY\"], [\"The Irish Rovers\", \"Alberta, Canada\"], [\"Bobby Vee\", \"Fargo, ND\"], [\"The Rolling Stones\", \"London, England\"], [\"Hem\", \"NY - New York City\"], [\"New Roanoke Jug Band\", \"Virginia\"], [\"Gisselle\", \"Puerto Rico\"], [\"Gerald Veasley\", \"Philadelphia, PA\"], [\"Uphill Battle\", \"Ventura County, CA\"], [\"Thomas Dolby\", \"Cairo, Egypt\"], [\"Arthur Tracy\", \"Kamenetz-Podolsk, Moldavia\"], [\"Delirious\", \"Connecticut\"], [\"UK Subs\", \"UK - England - Yorkshire\"], [\"Jaime Jamgochian\", \"Tennessee\"], [\"Delroy Wilson\", \"Kingston, Jamaica\"], [\"The Lord Weird Slough Feg\", \"California - SF\"], [\"Pennywise\", \"Hermosa Beach, CA\"], [\"The Jam\", \"Woking, Surrey, England\"], [\"Why?\", \"Cincinnati, OH\"], [\"John Berry\", \"Aiken, SC\"], [\"D'Molls\", \"California - LA\"], [\"Aisha Duo\", \"NY - New York City\"], [\"Bob Wills\", \"Kosse, TX\"], [\"Danielle Bollinger\", \"Flint Michigan\"], [\"H-Town\", \"Houston\"], [\"Orquesta Aragon\", \"Cuba\"], [\"Missy Higgins\", \"Melbourne, Australia\"], [\"Asha Puthli\", \"India\"], [\"Dwight Twilley\", \"Tulsa, OK\"], [\"Faces\", \"London, England\"], [\"Jimmie Davis\", \"Quitman, LA\"], [\"Mayday\", \"Texas\"], [\"Sonny Terry\", \"Greensboro, NC\"], [\"Al Rapone\", \"Lake Charles, Louisiana\"], [\"The Marx Brothers\", \"New York City, New York\"], [\"Lizzy Borden\", \"Los Angeles, CA\"], [\"Bob Cheevers\", \"Tennessee\"], [\"Gerald Veasley\", \"Philadelphia, PA\"], [\"Bonita & Jerry Cormier\", \"jakarta\"], [\"Ebba Forsberg\", \"SWEDEN\"], [\"Peggy Lee\", \"Jamestown, ND\"], [\"Zachary Richard\", \"Louisiana\"], [\"Blind Willie McTell\", \"Thomson, GA\"], [\"Dominic\", \"Santo Domingo, Rep. Dom.\"], [\"Tunsi\", \"California - SF\"], [\"Chango Spasiuk\", \"Argentina\"], [\"Eric Burdon\", \"Walker-on-Tyne, England\"], [\"Dub Wiser\", \"Vancouver, BC, Canada\"], [\"Pat Metheny\", \"Lee\"], [\"Devanic\", \"Vienna\"], [\"Raphael\", \"France\"], [\"Jimmy Burns\", \"Dublin, MS\"], [\"Blind Boy Fuller\", \"Wadesboro, NC\"], [\"Carpenters\", \"New Haven, CT\"], [\"Bobby Vee\", \"Fargo, ND\"], [\"Jonn Serrie\", \"Atlanta  Ga\"], [\"Goatwhore\", \"New Orleans, LA\"], [\"Sick Of It All\", \"Virginia\"], [\"Cali\", \"Vernet les Bains\"], [\"The Tarriers\", \"Illinois\"], [\"Ma Rainey & Her Tub Jug Washboard Band\", \"Columbus, GA\"], [\"Pacha Massive\", \"New York, NY\"], [\"North Mississippi Allstars\", \"Hernando, MS\"], [\"Blue Rodeo\", \"Toronto, Ontario, Canada\"], [\"Steve Porter\", \"UK - England - South West\"], [\"Stanley Clarke;Herbie Hancock\", \"Philadelphia, PA\"], [\"Jackie Edwards\", \"Jamaica\"], [\"The Sugarhill Gang\", \"New York, NY\"], [\"Wayne Kramer\", \"New York, NY\"], [\"The White Stripes\", \"Nashville / Los Angeles\"], [\"The Irish Rovers\", \"Alberta, Canada\"], [\"Rick Astley\", \"Newton-le-Willows, Merseyside, England\"], [\"Bob Margolin\", \"Boston, MA\"], [\"Henri Pousseur\", \"Malm\\\\xef\\\\xbf\\\\xbd, Belgium\"], [\"Chet Atkins\", \"Luttrell, TN\"], [\"Grant And Wilson\", \"Florida\"], [\"Pacha Massive\", \"New York, NY\"], [\"Don Francisco\", \"Colorado\"], [\"Stanley Clarke\", \"Philadelphia, PA\"], [\"Tigerstyle\", \"Glasgow\"], [\"Cass Fox\", \"London, England\"], [\"The Villas\", \"Pennsylvania\"], [\"Will Ackerman\", \"Germany\"], [\"The Berzerker\", \"Melbourne, Australia\"], [\"Ambient Music Therapy\", \"NY - New York City\"], [\"Syl Johnson\", \"Centerville, TN\"], [\"The Raconteurs\", \"Detroit, MI\"], [\"Jimmy Page / Robert Plant\", \"Heston, Middlesex, England\"], [\"Marilyn Scott\", \"Alta Dena, CA\"], [\"Negura Bunget\", \"Timi\\\\xc5\\\\x9foara\"], [\"Jacques Dutronc\", \"Paris, France\"], [\"Messy Marv featuring Clover Geez\", \"California - SF\"], [\"Walter Trout\", \"Ocean City, NJ\"], [\"Bad Religion\", \"Los Angeles, Ca\"], [\"Babylon Disco\", \"Karlstad\"], [\"Dax Riggs\", \"Houma, LA\"], [\"ARRESTED DEVELOPMENT\", \"Atlanta, GA\"], [\"Clifton Chenier\", \"Opelousas, LA\"], [\"Shaman\", \"Brazil\"], [\"Little Milton\", \"Inverness, MS\"], [\"Brownie McGhee\", \"Knoxville, TN\"], [\"The Sonics\", \"Tacoma, WA\"], [\"Fontella Bass\", \"St. Louis, MO\"], [\"The Kitchen\", \"CANADA - Ontario\"], [\"Ram Squad\", \"Philadelphia, PA\"], [\"Bambino_ Ivan Tirado\", \"Michigan\"], [\"Leroy Hutson\", \"Newark, NJ\"], [\"Tiny Tim/Cast/Ghost Of Christmas Present/Scrooge\", \"New York, NY\"], [\"Thirst\", \"UK - England - South West\"], [\"The Cat's Miaow\", \"Australia\"], [\"The Mad Capsule Markets\", \"JP\"], [\"Mance Lipscomb\", \"Navasota, TX\"], [\"Legion Of Green Men\", \"Burlington, Ontario, Canada\"], [\"Al De Lory\", \"Tennessee\"], [\"Joe Turner\", \"Kansas City, MO\"], [\"Derek Bell\", \"Belfast, Northern Ireland\"], [\"Tom Cochrane\", \"Lynn Lake, Manitoba, Canada\"], [\"Henry Lee Summer\", \"Brazil, IN\"], [\"Jackie Wilson\", \"Detroit, MI\"], [\"Janie Fricke\", \"South Whitney, IN\"], [\"Owsley\", \"Tennessee\"], [\"Sister Rosetta Tharpe\", \"Cotton Plant, AR\"], [\"Rhinoceros\", \"UK - England - West Midlands\"], [\"Be Bop Deluxe\", \"England\"], [\"Fiona\", \"New York, NY\"], [\"Shelly Manne\", \"New York, NY\"], [\"Tommy James And The Shondells\", \"Dayton, OH\"], [\"Cyril Pahinui\", \"Waimanalo, HI\"], [\"Jeff Beck\", \"Wallington, Surrey, England\"], [\"Metsat\\\\xc3\\\\xb6ll\", \"Estonia\"], [\"Jesse Malin\", \"Whitestone, Queens, NY\"], [\"T.G.Sheppard\", \"Humboldt, TN\"], [\"The Cure\", \"Crawley, England\"], [\"Recluse\", \"NY - New York City\"], [\"Suzi Quatro\", \"Detroit, MI\"], [\"Gloria\", \"BG\"], [\"DJ Icey\", \"Florida\"], [\"Mindy McCready\", \"Fort Meyers, FL\"], [\"Kellie Coffey\", \"Moore, OK\"], [\"Primordial\", \"Dublin, Ireland\"], [\"Sophie Tucker\", \"Russia\"], [\"Public Image Ltd\", \"London, England\"], [\"Jesse Malin\", \"Whitestone, Queens, NY\"], [\"Deborah Coleman\", \"Portsmouth, VA\"], [\"Albert King\", \"Indianola, MS\"], [\"Ray Conniff;Billy Butterfield\", \"Attleboro, MA\"], [\"Daniel Kobialka\", \"United States\"], [\"Luis Alberto Spinetta\", \"Buenos Aires, Argentina\"], [\"Brian Keane\", \"Texas\"], [\"Andrae Crouch\", \"Pacoima, CA\"], [\"Renee Rosnes\", \"Regina, Saskatchewan, Canada\"], [\"Kyle Riabko\", \"CANADA - Ontario\"], [\"KALIMBA\", \"Mexico City, Mexico\"], [\"Eliane Elias\", \"Sao Paulo, Brazil\"], [\"Johnny Copeland\", \"Haynesville, LA\"], [\"Sonny Terry / Brownie McGhee\", \"Greensboro, NC\"], [\"The Chap\", \"London\"], [\"Dale Hawkins\", \"LITTLE ROCK, Arkansas\"], [\"T-Bone Walker\", \"Linden, TX\"], [\"The Products\", \"California - SF\"], [\"Dr. Elmo\", \"California - SF\"], [\"Z.Z. Hill\", \"Naples, TX\"], [\"The Radio Dept\", \"Lund, Sweden\"], [\"Y&T\", \"San Francisco Bay Area\"], [\"Faithless\", \"London, England\"], [\"Evergreen Terrace\", \"Jacksonville, FL\"], [\"David & Steve Gordon\", \"California\"], [\"Los Munequitos de Matanzas\", \"New York\"], [\"The Jordanaires\", \"Springfield, MO\"], [\"The Oak Ridge Boys\", \"Hendersonville, TN\"], [\"Scar Symmetry\", \"Sweden\"], [\"The Verve Pipe\", \"Lansing, MI\"], [\"T-Bone\", \"Thaba Nchu\"], [\"Skeeter Davis\", \"Dry Ridge, KY\"], [\"Indica\", \"Finland\"], [\"\\\\xc3\\\\x89tienne Daho\", \"Rennes\"], [\"Marcie Blane\", \"Brooklyn, NY\"], [\"Ron Goodwin\", \"Plymouth, Devon, England\"], [\"Syl Johnson\", \"Centerville, TN\"], [\"Las Ni\\\\xc3\\\\xb1as\", \"Mississauga\"], [\"Chico\", \"Tennessee\"], [\"Converge\", \"Boston, Brooklyn USA\"], [\"Dr. Elmo\", \"California - SF\"], [\"Soundgarden\", \"Seattle\"], [\"Leo Gandelman\", \"Rio de Janeiro, BR\"], [\"Delroy Wilson\", \"Kingston, Jamaica\"], [\"YGGDRASIL\", \"Lund, Sweden\"], [\"N.W.A.\", \"Compton, California, USA.\"], [\"6CycleMind\", \"Metro Manila\"], [\"Catherine Howe\", \"Yorkshire, England\"], [\"Doyle Bramhall\", \"Dallas, TX\"], [\"Rihanna\", \"St Michael, Barbados \"], [\"The Firesign Theatre\", \"Texas\"], [\"Fudge Tunnel\", \"Nottingham\"], [\"Los Mu\\\\xc3\\\\xb1equitos De Matanzas\", \"New York\"], [\"Tex Williams\", \"Ramsey, Fayette County, IL\"], [\"The Marx Brothers\", \"New York City, New York\"], [\"The Cannanes\", \"Australia\"], [\"Pantanito\", \"Barcelona \"], [\"The Fray\", \"Denver, CO\"], [\"Janet Paschal/Charlotte Ritchie/David Phelps\", \"North Carolina\"], [\"Pedro Aznar\", \"Buenos Aires, Argentina\"], [\"Gloriana\", \"Nashville, TN.\"], [\"Stevie Ray Vaughan And Double Trouble\", \"Dallas, TX\"], [\"Blind Boy Fuller\", \"Wadesboro, NC\"], [\"Santana\", \"San Francisco, California\"], [\"Arthur Tracy\", \"Kamenetz-Podolsk, Moldavia\"], [\"Roger Sanchez\", \"New York, NY\"], [\"Clarence \\\"Gatemouth\\\" Brown\", \"Vinton, LA\"], [\"Cross Country\", \"Auburn, CA\"], [\"Mr Brown\", \"Mississippi Gulf Coast\"], [\"Charley Patton\", \"Edwards, MS\"], [\"The Fray\", \"Denver, CO\"], [\"Bersuit Vergarabat\", \"Buenos Aires\"], [\"Dub Pistols feat. TK & JMS\", \"London, England\"], [\"Jerry Lewis\", \"Newark, NJ\"], [\"Loop Guru\", \"London, England\"], [\"Tex Williams\", \"Ramsey, Fayette County, IL\"], [\"Jo-El Sonnier\", \"Rayne, LA\"], [\"Roy Drusky\", \"Atlanta, GA\"], [\"Annie Lennox\", \"Aberdeen\"], [\"Pumpkin Buzzard\", \"Missouri\"], [\"Brenda Lee\", \"Lithonia, GA\"], [\"Terry Callier\", \"Chicago\"], [\"Jacques Higelin\", \"Brou-sur-Chantereine, France\"], [\"Michelle Wright\", \"Morpeth, Ontario, Canada\"], [\"Hotwire\", \"Newbury Park, CA\"], [\"Percy Faith\", \"Toronto, Ontario, Canada\"], [\"Plasmatics\", \"New York, NY\"], [\"KALIMBA\", \"Mexico City, Mexico\"], [\"Doug MacLeod\", \"New York, NY\"], [\"Shawn Colvin\", \"Vermillion, SD\"], [\"Scarlet's Remains\", \"California - LA\"], [\"The Lord Weird Slough Feg\", \"California - SF\"], [\"T.O.K.\", \"YAHD!\"], [\"U.K. Subs\", \"UK - England - Yorkshire\"], [\"Sophie B. Hawkins\", \"New York, NY [Manhattan]\"], [\"Maria Muldaur\", \"New York, NY\"], [\"Way Out West\", \"Bristol, England\"], [\"Mikey Dread\", \"Jamaica\"], [\"Jo-El Sonnier\", \"Rayne, LA\"], [\"Alice Cooper\", \"Detroit, MI\"], [\"Rancid\", \"Bay Area, CA\"], [\"Old Man's Child\", \"Norway\"], [\"Guitar Slim\", \"Greenwood, MS\"], [\"Connie Smith\", \"Elkhart, IN\"], [\"Nancy Walker\", \"California\"], [\"Little Milton\", \"Inverness, MS\"], [\"Rance Allen Group\", \"Detroit, MI\"], [\"Bill Cosby\", \"Philadelphia, PA\"], [\"MIMS Featuring J. Holiday\", \"New York, NY [Washington Heights]\"], [\"James Darren\", \"Philadelphia, PA\"], [\"Darden Smith\", \"Brenham, TX\"], [\"Los Fabulosos Cadillacs\", \"Buenos Aires.\"], [\"Jimmy Wakely\", \"Mineola, AR\"], [\"Muse\", \"UK\"], [\"Georgia Satellites\", \"Atlanta, GA\"], [\"Orbital\", \"Sevenoaks, United Kingdom\"], [\"Glen Campbell\", \"Delight, AR\"], [\"L.A. Guns\", \"katy\"], [\"Ned Miller\", \"Raines, UT\"], [\"The Shangri-Las\", \"Queens, NY\"], [\"Assassin\", \"California\"], [\"Herbst9_ Z'ev\", \"L.E.\"], [\"MxPx\", \"Bremerton, WA\"], [\"John Tchicai\", \"Copenhagen, Denmark\"], [\"Dale Hawkins\", \"LITTLE ROCK, Arkansas\"], [\"Gabriel Yared\", \"Beirut, Lebanon\"], [\"Bruce Rowland\", \"AUSTRALIA\"], [\"Rui Da Silva\", \"London\"], [\"Mae West\", \"Brooklyn, NY\"], [\"Call To Preserve\", \"Rockledge, Florida\"], [\"Inspector 9\", \"Florida\"], [\"The Jackson Southernaires\", \"Mississippi\"], [\"deadboy & the Elephantmen\", \"Houma, LA\"], [\"Anthony Cruz\", \"Mandeville, Jamaica\"], [\"Marcus Miller\", \"Brooklyn, NY\"], [\"Ebba Forsberg\", \"SWEDEN\"], [\"Del The Funky Homosapien\", \"Oakland, CA\"], [\"James Darren\", \"Philadelphia, PA\"], [\"Tha Alkaholiks\", \"Los Angeles, CA\"], [\"Moist\", \"Vancouver, British Columbia, Cana\"], [\"Tony Joe White\", \"Goodwill, LA\"], [\"Otis Taylor\", \"Chicago, IL\"], [\"Fountains Of Wayne\", \"New York, NY\"], [\"Dons\", \"Boston\"], [\"Since The Flood\", \"New Hampshire\"], [\"Nestor Torres\", \"Miami, FL\"], [\"Dilated Peoples Featuring Devin The Dude\", \"Los Angeles, California\"], [\"Johnny Copeland\", \"Haynesville, LA\"], [\"Eric Burdon\", \"Walker-on-Tyne, England\"], [\"Guitar Slim\", \"Greenwood, MS\"], [\"6CycleMind\", \"Metro Manila\"], [\"Kruger\", \"Lausanne, CH\"], [\"Russell Malone\", \"Albany, GA\"], [\"Kingston Trio\", \"Vermont\"], [\"Grandmaster Flash\", \"Barbados, West Indies\"], [\"The Jordanaires\", \"Springfield, MO\"], [\"H-Town\", \"Houston\"], [\"Joell Ortiz\", \"Brooklyn, NY\"], [\"Stern\", \"Pennsylvania\"], [\"Blind Blake\", \"Jacksonville, FL\"], [\"The Who\", \"Angleterre\"], [\"The Fray\", \"Denver, CO\"], [\"Trafik\", \"Utah\"], [\"The Jam\", \"Woking, Surrey, England\"], [\"Lorna\", \"Nottingham, England\"], [\"Constance Demby\", \"California - SF\"], [\"David Robertson\", \"Canberra, Australia\"], [\"Call To Preserve\", \"Rockledge, Florida\"], [\"Laurindo Almeida / Charlie Byrd\", \"Sao Paulo, Brazil\"], [\"David & Steve Gordon\", \"California\"], [\"Willy DeVille\", \"New York, New York\"], [\"Washboard Sam\", \"Walnut Ridge, AR\"], [\"N.W.A.\", \"Compton, California, USA.\"], [\"Tarheel Slim\", \"Wilson, NC\"], [\"Memphis Minnie\", \"Algiers, LA\"], [\"Little Jr. Parker\", \"Clarksdale, MS\"], [\"Dan Moretti\", \"Mass. - Boston\"], [\"Speech\", \"Milwaukee, WI\"], [\"Billy Higgins\", \"Los Angeles, CA\"], [\"Junior M. A. F. I. A.\", \"NEW YORK, New York\"], [\"A Static Lullaby\", \"Chino Hills, CA\"], [\"Shangri Las\", \"Queens, NY\"], [\"Suicide\", \"New York, NY\"], [\"Jah Wobble & Bill Laswell\", \"New York City (Salem, IL - originally)\"], [\"Nick Cave & The Bad Seeds\", \"Wangaratta, Victoria, Australia\"], [\"Leon Russell\", \"Lawton, OK\"], [\"Blind Willie McTell\", \"Thomson, GA\"], [\"Big Star\", \"Memphis, TN\"], [\"Jimmie Davis\", \"Quitman, LA\"], [\"Leana\", \"California - LA\"], [\"Soulwax\", \"Ghent, Belgium\"], [\"Vonray\", \"Pittsburgh, Pennsylvania\"], [\"Dionne Warwick\", \"East Orange, NJ\"], [\"John Fogerty\", \"Berkeley, CA\"], [\"Sofia Karlsson\", \"Sweden\"], [\"Eric Burdon\", \"Walker-on-Tyne, England\"], [\"Humanzi\", \"Dublin, Ireland\"], [\"Bob Wills\", \"Kosse, TX\"], [\"Chaotica\", \"Arizona\"], [\"Pelle Carlberg\", \"Sweden\"], [\"Eddy Raven\", \"Lafayette, LA\"], [\"Gabriela Anders\", \"NY - New York City\"], [\"Hunters\", \"Cardiff\"], [\"Sivuca & Camerata Bras\\\\xc3\\\\xadlica\", \"Itabaiana, Para\\\\xef\\\\xbf\\\\xbd, Brazil\"], [\"Jimmy McCracklin\", \"St. Louis, MO\"], [\"Jesse Malin\", \"Whitestone, Queens, NY\"], [\"Art Ensemble Of Chicago\", \"New York, NY\"], [\"Jimmy McCracklin\", \"St. Louis, MO\"], [\"Jeff Wahl\", \"Colorado\"], [\"Circular\", \"Bergen, Norway\"], [\"Lady GaGa\", \"New York City\"], [\"Nerf Herder\", \"Santa Barbara, CA\"], [\"YGGDRASIL\", \"Lund, Sweden\"], [\"Prozak\", \"London\"], [\"Los Fabulosos Cadillacs\", \"Buenos Aires.\"], [\"Anthony Watson\", \"Mobile, AL\"], [\"Sugar Minott\", \"Kingston, Jamaica\"], [\"Valient Thorr\", \"Venus\"], [\"Lizzy Borden\", \"Los Angeles, CA\"], [\"Johnny Copeland\", \"Haynesville, LA\"], [\"Brenda Lee\", \"Lithonia, GA\"], [\"Patience Dabany\", \"Libreville, Gabon; Los Angeles, CA, US\"], [\"Marty Robbins\", \"Glendale, AZ\"], [\"Vince Guaraldi\", \"San Francisco, CA\"], [\"Humanzi\", \"Dublin, Ireland\"], [\"Cindy Morgan\", \"Nashville, TN\"], [\"Chet Atkins\", \"Luttrell, TN\"], [\"Cam'Ron\", \"Harlem, NY\"], [\"U.K. Subs\", \"UK - England - Yorkshire\"], [\"Fernando Ortega\", \"California\"], [\"Leaders Of The New School\", \"Uniondale, NY\"], [\"Roy Roberts\", \"Livingston, TN\"], [\"Luis Alberto Spinetta\", \"Buenos Aires, Argentina\"], [\"BoDeans\", \"Waukesha WI\"], [\"Dark Distant Spaces\", \"NY - New York City\"], [\"We Five\", \"Mt. San Antonio College, CA\"], [\"Lennie Tristano\", \"US\"], [\"Black Debbath\", \"Oslo, Norway\"], [\"Leaders Of The New School\", \"Uniondale, NY\"], [\"Los Cumbieros Del Sur\", \"Mexico\"], [\"Papa Wemba\", \"Kasai, Zaire\"], [\"Emit\", \"Oklahoma\"], [\"Bow Wow Wow\", \"London, England\"], [\"Alexander O'Neal\", \"Minneapolis, MN\"], [\"Annie Lennox\", \"Aberdeen\"], [\"Goose\", \"Ohio\"], [\"Leo Dan\", \"Atamisqui, Argentina\"], [\"Rockabye Baby!\", \"Los Angeles\"], [\"Mudhoney\", \"Seattle, WA\"], [\"Swallow The Sun\", \"Jyv\\\\xc3\\\\xa4skyl\\\\xc3\\\\xa4, Finland\"], [\"Hem\", \"NY - New York City\"], [\"Mance Lipscomb\", \"Navasota, TX\"], [\"Motograter\", \"Santa Barbara, California\"], [\"The Funeral Pyre\", \"California - LA\"], [\"Fountains Of Wayne\", \"New York, NY\"], [\"John Davis\", \"Pennsylvania\"], [\"Willie Clancy\", \"Miltown Malbay, Ireland\"], [\"Mae West\", \"Brooklyn, NY\"], [\"The Summer Obsession\", \"Jacksonville, FL\"], [\"Dabbler\", \"Vancouver\"], [\"Messy Marv\", \"California - SF\"], [\"Dons\", \"Boston\"], [\"Beth Nielsen Chapman\", \"Harlington, TX\"], [\"Bukka White\", \"Houston, MS\"], [\"Lennie Tristano\", \"US\"], [\"Static-X\", \"Alabama\"], [\"Britney Spears\", \"Kentwood, LA; Los Angeles, CA\"], [\"Billie Jo Spears\", \"Beaumont, TX\"], [\"Gary Moore\", \"Belfast, Northern Ireland\"], [\"The Radio Department\", \"Lund, Sweden\"], [\"Ec8or\", \"Berlin, Germany\"], [\"Go Fish\", \"Twin Cities, MN\"], [\"YGGDRASIL\", \"Lund, Sweden\"], [\"Renee Rosnes\", \"Regina, Saskatchewan, Canada\"], [\"Dee Clark\", \"Blythesville, AR\"], [\"Scott Krippayne\", \"Washington\"], [\"Julien Clerc\", \"FR\"], [\"Negura Bunget\", \"Timi\\\\xc5\\\\x9foara\"], [\"Lot Lorien\", \"Varna\"], [\"Paul Carrack\", \"Sheffield, Yorkshire, England\"], [\"The Distillers\", \"L.A \\\\tCalifornia, Estados Unidos \"], [\"Big Star\", \"Memphis, TN\"], [\"Tiny Tim\", \"New York, NY\"], [\"Khold\", \"Oslo, Norway\"], [\"The Antlers\", \"Brooklyn, NY\"], [\"George Hamilton IV\", \"Winston-Salem, NC\"], [\"Heaven 17\", \"London, England\"], [\"Eddie Boyd\", \"Stovall, MS\"], [\"Russ Morgan\", \"Scranton, PA\"], [\"The Cat's Miaow\", \"Australia\"], [\"Sade\", \"Ibadan, Nigeria\"], [\"Danny Barnes\", \"Texas\"], [\"Kix\", \"Hagerstown, MD\"], [\"Stevie Ray Vaughan And Double Trouble\", \"Dallas, TX\"], [\"Nickelback\", \"Hanna, Alberta, Canada\"], [\"Double Image\", \"Maryland\"], [\"Terry Riley\", \"Colfax, CA\"], [\"The Stems\", \"Australia\"], [\"Julio Iglesias Jr\", \"Madrid, Spain\"], [\"Slipknot\", \"Des Moines, Iowa\"], [\"Kane\", \"California - LA\"], [\"Groupa\", \"Sweden\"], [\"Sleepy John Estes\", \"Ripley, TN\"], [\"Nickelback\", \"Hanna, Alberta, Canada\"], [\"Paul Taylor\", \"Wyoming\"], [\"Kathy Troccoli\", \"NASHVILLE, Tennessee\"], [\"Josh White\", \"Greensboro, NC\"], [\"Gene Autry\", \"Tioga Springs, TX\"], [\"Britney Spears\", \"Kentwood, LA; Los Angeles, CA\"], [\"Kathy Troccoli\", \"NASHVILLE, Tennessee\"], [\"Nightfall\", \"Bogota, COL\"], [\"Bill Cosby\", \"Philadelphia, PA\"], [\"Tony Joe White\", \"Goodwill, LA\"], [\"Screaming Lord Sutch\", \"Harrow, Middlesex, England\"], [\"Keb' Mo'\", \"Los Angeles, CA\"], [\"Telecast\", \"California - LA\"], [\"Dionne Warwick\", \"East Orange, NJ\"], [\"Belphegor\", \"SANTA ANA, California\"], [\"Julio Iglesias Jr.\", \"Madrid, Spain\"], [\"Orquesta Aragon\", \"Cuba\"], [\"Cornel Campbell\", \"Jamaica\"], [\"Arthur Tracy\", \"Kamenetz-Podolsk, Moldavia\"], [\"Alex Ubago\", \"Vitoria, Spain\"], [\"The Ocean\", \"London, Ontario, Canada\"], [\"Miguel Migs\", \"San Francisco, CA\"], [\"ARRESTED DEVELOPMENT\", \"Atlanta, GA\"], [\"The Ataris\", \"Anderson, IN\"], [\"The Jordanaires\", \"Springfield, MO\"], [\"John Sebastian\", \"Leeds\"], [\"Frost\", \"Birmingham, England\"], [\"Sunscreem\", \"Essex, England\"], [\"Agnostic Front\", \"New York, NY\"], [\"Kitty Kallen\", \"Philadelphia, PA\"], [\"The Shirelles\", \"Passaic, NJ\"], [\"Dee Clark\", \"Blythesville, AR\"], [\"Bert Kaempfert\", \"Hamburg, Germany\"], [\"Molesta Ewenement\", \"Warszawa\"], [\"Tommy James And The Shondells\", \"Dayton, OH\"], [\"Fran Perea\", \"Malaga,Spanija\"], [\"Reach 454\", \"New York, NY\"], [\"Jude Cole\", \"East Moline, IL\"], [\"La 5A Estacion\", \"Bergen Norway\"], [\"Primordial\", \"Dublin, Ireland\"], [\"Blind Willie Johnson\", \"Edwards, MS\"], [\"Richard Souther\", \"United States\"], [\"The Chieftains\", \"Ireland\"], [\"Darden Smith\", \"Brenham, TX\"], [\"Kinky\", \"Monterrey, Nuevo Le\\\\xc3\\\\xb3n, M\\\\xc3\\\\xa9xico\"], [\"Dub Pistols feat. TK & Ashley Slater\", \"London, England\"], [\"Paris_ Texas\", \"Madison, WI\"], [\"Gene Pitney\", \"Hartford, CT\"], [\"Bob Willis\", \"Kosse, TX\"], [\"Dynamite Deluxe\", \"Germany\"], [\"Soulwax\", \"Ghent, Belgium\"], [\"The Doors\", \"Los Angeles, California, United States\"], [\"Tony Joe White\", \"Goodwill, LA\"], [\"Jimmy McCracklin\", \"St. Louis, MO\"], [\"Marilyn Horne\", \"Great Britain / UK\"], [\"Every Time I Die\", \"Buffalo, New York\"], [\"Vodka Collins\", \"Tokyo, Japan\"], [\"Jackie Wilson\", \"Detroit, MI\"], [\"Edmundo Ros\", \"Venezuela\"], [\"Klimperei\", \"FR\"], [\"Workhorse\", \"Mississippi\"], [\"The Pharcyde\", \"Los Angeles, CA\"], [\"Faron Young\", \"Shreveport, LA\"], [\"Mary Black & General Humbert\", \"Ireland\"], [\"Moros Eros\", \"Marietta, GA\"], [\"Speech\", \"Milwaukee, WI\"], [\"Maria Callas/Eugenio Fernandi/Elisabeth Schwarzkopf/Giuseppe Nessi/Nicola Zaccaria/Mario Borriello/Renato Ercolani/Piero de Palma/Giulio Mauri/Elisabetta Fusco/Pinuccia Perotti/Coro del Teatro alla Scala_ Milano/Orchestra del Teatro alla Scala_ Milano/Tul\", \"New York, NY\"], [\"The Tarriers\", \"Illinois\"], [\"The Flesh\", \"Brooklyn, NY\"], [\"Michael Whalen\", \"New York\"], [\"Thomas Dolby\", \"Cairo, Egypt\"], [\"Bonita\", \"jakarta\"], [\"Orbital\", \"Sevenoaks, United Kingdom\"], [\"Bryan White\", \"Lawton, OK\"], [\"Betika_ Daouda\", \"UK - England - South East\"], [\"John Holt\", \"Kingston, Jamaica\"], [\"Billy Pilgrim\", \"Georgia\"], [\"Robben Ford\", \"Ukiah, CA\"], [\"Curtis Mayfield\", \"Chicago, IL\"], [\"Dax Riggs\", \"Houma, LA\"], [\"The Ronettes\", \"New York, NY [The Bronx]\"], [\"Jos\\\\xc3\\\\xa9lito\", \"Jaen\"], [\"Rick Astley\", \"Newton-le-Willows, Merseyside, England\"], [\"Angelo Badalamenti / Keira Knightley\", \"New Jersey\"], [\"Markus\", \"Kentucky\"], [\"Skeeter Davis\", \"Dry Ridge, KY\"], [\"Blue Rodeo\", \"Toronto, Ontario, Canada\"], [\"Maria Callas/Gianni Raimondi/Gabriella Carturan/Plinio Clabassi/Nicola Rossi-Lemeni/Coro del Teatro alla Scala_ Milano/Noberto Mola/Orchestra del Teatro alla Scala_ Milano/Gianandrea Gavazzeni\", \"New York, NY\"], [\"Jackie Edwards\", \"Jamaica\"], [\"Jacques Dutronc\", \"Paris, France\"], [\"Mighty Joe Young\", \"Shreveport, LA\"], [\"Lari White\", \"Dunedin, FL\"], [\"Brenda Lee\", \"Lithonia, GA\"], [\"Roy Rogers\", \"Redding, CA\"], [\"George Schuller\", \"NY - New York City\"], [\"Miossec\", \"Brest, France\"], [\"Cornell Campbell\", \"Jamaica\"], [\"Kool Moe Dee\", \"Harlem, New York, NY\"], [\"Bobaflex\", \"Huntington, WV\"], [\"Benga\", \"London, United Kingdom\"], [\"Anita Kerr\", \"Memphis, TN\"], [\"Ten Years After\", \"Nottingham, England\"], [\"Vangelis\", \"Volos, Greece\"], [\"Danielle Bollinger\", \"Flint Michigan\"], [\"Jim Bryson\", \"Ottawa, ON, Canada\"], [\"Johnny Horton\", \"Los Angeles, CA\"], [\"ZO2\", \"NY - New York City\"], [\"April Wine\", \"Halifax, Nova Scotia, Canada\"], [\"Mannheim Steamroller\", \"Omaha, NE\"], [\"Alex Ubago\", \"Vitoria, Spain\"], [\"Eric Burdon\", \"Walker-on-Tyne, England\"], [\"M\\\\xc3\\\\xa5negarm\", \"Norrt\\\\xc3\\\\xa4lje\"], [\"Mariah Carey\", \"New York, New York\"], [\"James Horner\", \"Los Angeles, CA\"], [\"Lacy J. Dalton\", \"Bloomsburg, PA\"], [\"Cassius Clay\", \"New Jersey\"], [\"Jim Reeves\", \"Galloway, Panola County, TX\"], [\"Nestor Torres\", \"Miami, FL\"], [\"Black Flag\", \"Los Angeles, CA\"], [\"Disco D feat. Lola Damone & Helluva\", \"St. Louis, MO\"], [\"Professor Longhair\", \"Bogalusa, LA\"], [\"North Mississippi Allstars\", \"Hernando, MS\"], [\"High Strung_ The\", \"Detroit, MI\"], [\"The Meatmen\", \"Lansing, MI\"], [\"Gary Morris\", \"Fort Worth, TX\"], [\"Marygold\", \"Verona - Italy\"], [\"Axe\", \"Tyneside, England\"], [\"Dave Valentin\", \"Chelmsford, England\"], [\"Truckfighters\", \"\\\\xc3\\\\x96rebro\"], [\"Connie Smith\", \"Elkhart, IN\"], [\"Eugene McDaniels\", \"Kansas City, MO\"], [\"Peggy Lee\", \"Jamestown, ND\"], [\"Onesidezero\", \"Los Angeles, CA\"], [\"Jazz Gillum\", \"Indianola, MS\"], [\"Lighthouse Family\", \"Newcastle, England\"], [\"High Strung_ The\", \"Detroit, MI\"], [\"Roger Miller\", \"Fort Worth, TX\"], [\"T-Bone Walker\", \"Linden, TX\"], [\"Black Debbath\", \"Oslo, Norway\"], [\"Hatebreed\", \"New Haven, CT\"], [\"Bobby Hutcherson\", \"Los Angeles, CA\"], [\"Gene Autry\", \"Tioga Springs, TX\"], [\"Nestor Torres\", \"Miami, FL\"], [\"Poncho Sanchez\", \"Laredo, TX\"], [\"The Jordanaires\", \"Springfield, MO\"], [\"Ana Popovic\", \"Belgrade, Yugoslavia\"], [\"The Rolling Stones\", \"London, England\"], [\"Professor Longhair\", \"Bogalusa, LA\"], [\"Paul Stanley\", \"Queens, NY\"], [\"Tiny Bradshaw\", \"Youngstown, OH\"], [\"Michael Whalen\", \"New York\"], [\"Rory Block\", \"New York, NY\"], [\"Taking Back Sunday\", \"Long Island, New York\"], [\"Eddy Raven\", \"Lafayette, LA\"], [\"Mariah Carey Featuring Da Brat & JD\", \"New York, New York\"], [\"Irma Thomas\", \"Ponchatoula, LA\"], [\"Black Debbath\", \"Oslo, Norway\"], [\"Steve Harvey\", \"Georgia\"], [\"Bruno Sanfilippo\", \"Buenos Aires\"], [\"2raumwohnung\", \"Berlin, Germany\"], [\"Cindy Morgan\", \"Nashville, TN\"], [\"Rainforest Trio\", \"Florida\"], [\"John D. Loudermilk\", \"Durham, NC\"], [\"Foghat\", \"London, England\"], [\"The Meatmen\", \"Lansing, MI\"], [\"Gal Costa\", \"Santo Amaro da Purifica\\\\xef\\\\xbf\\\\xbd, Bra\"], [\"Britny Fox\", \"Philadelphia, PA\"], [\"Olivia Ruiz\", \"Carcassonne, France\"], [\"HardNox\", \"California - SF\"], [\"Jerry Reed\", \"OCALA, Florida\"], [\"Gene Autry\", \"Tioga Springs, TX\"], [\"Ann Nesby\", \"Joliet, IL &amp; Atlanta, GA\"], [\"The Continentals\", \"Washington DC\"], [\"Sade\", \"Ibadan, Nigeria\"], [\"Marilyn Horne\", \"Great Britain / UK\"], [\"Toots Thielemans\", \"Brussels, Belgium\"], [\"Pumpkin Buzzard\", \"Missouri\"], [\"Mikey Dread\", \"Jamaica\"], [\"Irwin Goodman\", \"H\\\\xc3\\\\xa4meenlinna\"], [\"Claire Hamill\", \"UK - England - South East\"], [\"32 Leaves\", \"Arizona\"], [\"Rockabye Baby!\", \"Los Angeles\"], [\"Barbara Carr\", \"St. Louis, MO\"], [\"Kathleen Madigan\", \"California - LA\"], [\"Louie Ramirez\", \"New York, NY\"], [\"Tammy Wynette\", \"Itawamba County, MS\"], [\"Nick Ingman\", \"London, England\"], [\"BT\", \"Earth\"], [\"Mikey Dread\", \"Jamaica\"], [\"Marilyn Horne\", \"Great Britain / UK\"], [\"Mongo Santamaria\", \"Havana, Cuba [Jesus Maria]\"], [\"DJ Primo\", \"Texas\"], [\"The Advantage\", \"Nevada City, CA\"], [\"Kathy Troccoli\", \"NASHVILLE, Tennessee\"], [\"Jimmy Cliff\", \"St. Catherine, Jamaica\"], [\"Bruce Rowland\", \"AUSTRALIA\"], [\"Bryan Ferry\", \"Washington, England\"], [\"Jimmie Vaughan\", \"Dallas, TX\"], [\"Billie Jo Spears\", \"Beaumont, TX\"], [\"Johnny Horton\", \"Los Angeles, CA\"], [\"Delbert McClinton\", \"Lubbock, TX\"], [\"Rubyhorse\", \"Cork City, Ireland\"], [\"Shamen\", \"Aberdeen, Scotland\"], [\"Alexander O'Neal\", \"Minneapolis, MN\"], [\"Jimmy Page\", \"Heston, Middlesex, England\"], [\"Al DiMeola\", \"Jersey City, NJ\"], [\"Percy Faith\", \"Toronto, Ontario, Canada\"], [\"Creedence Clearwater Revived\", \"Lanciano Italy\"], [\"Sam Baker\", \"Austin, TX\"], [\"Morton Gould\", \"Richmond Hill, NY\"], [\"Dann Huff\", \"Nashville\"], [\"Jacques Dutronc\", \"Paris, France\"], [\"Jackie Wilson\", \"Detroit, MI\"], [\"Jim Reeves\", \"Galloway, Panola County, TX\"], [\"Jason Miles\", \"NY - New York City\"], [\"Danny Wright\", \"Texas\"], [\"Alexander O'Neal\", \"Minneapolis, MN\"], [\"Eleanor McEvoy\", \"Dublin, Ireland\"], [\"Jean-Jacques Goldman\", \"Paris, France\"], [\"Agency 1.9.9.4\", \"South Carolina\"], [\"Maria Muldaur\", \"New York, NY\"], [\"Aeoliah\", \"Canada\"], [\"Happy Mondays\", \"Manchester, England\"], [\"Atom\", \"Washington\"], [\"Gisselle\", \"Puerto Rico\"], [\"Marvin Hamlisch\", \"New York, NY\"], [\"Architecture In Helsinki\", \"Melbourne\"], [\"Harry Choates\", \"Rayne, LA\"], [\"Papa Wemba\", \"Kasai, Zaire\"], [\"Iggy And The Stooges\", \"Ann Arbor, MI\"], [\"Alternative TV\", \"London, England\"], [\"The Allies\", \"Washington\"], [\"The Cate Brothers\", \"Fayetteville, AR\"], [\"Renato Borghetti\", \"Brazil\"], [\"The Clash\", \"London, England\"], [\"MxPx\", \"Bremerton, WA\"], [\"Throw The Fight\", \"Minnesota\"], [\"Electric Light Orchestra\", \"Birmingham, England\"], [\"Kofi\", \"California - LA\"], [\"John P. Kee\", \"CHARLOTTE, North Carolina\"], [\"Bad Religion\", \"Los Angeles, Ca\"], [\"Nolwenn Leroy\", \"St. Renan, France\"], [\"The Primitives\", \"Oxford, England\"], [\"The Pharcyde\", \"Los Angeles, CA\"], [\"John Wesley\", \"Brandon\"], [\"Lauren Wood\", \"California - LA\"], [\"Andra\\\\xc3\\\\xa9 Crouch & Solid Gospel\", \"Pacoima, CA\"], [\"Murderdolls\", \"HOLLYWOOD, California\"], [\"Owsley\", \"Tennessee\"], [\"Dottie West\", \"McMinnville, TN\"], [\"Roy Buchanan\", \"Ozark, AR\"], [\"Buckeye Politicians\", \"Ohio\"], [\"Cam'Ron\", \"Harlem, NY\"], [\"The Mustangs\", \"Connecticut\"], [\"Russ Morgan\", \"Scranton, PA\"], [\"First Blood\", \"San Francisco, CA\"], [\"Joe Heaney\", \"Washington\"], [\"Los Fabulosos Cadillacs\", \"Buenos Aires.\"], [\"T.G. Sheppard\", \"Humboldt, TN\"], [\"Daddy Yankee / May-Be\", \"Puerto Rico\"], [\"Carlton Livingston\", \"St, Mary, Jamaica\"], [\"2raumwohnung\", \"Berlin, Germany\"], [\"Suzi Quatro\", \"Detroit, MI\"], [\"Mac Dre\", \"CALIFORNIA, California\"], [\"The Clash\", \"London, England\"], [\"Rihanna\", \"St Michael, Barbados \"], [\"Jessie Lee Miller\", \"Texas\"], [\"Max Steiner\", \"Vienna, Austria\"], [\"Sister Rosetta Tharpe\", \"Cotton Plant, AR\"], [\"R.L. Burnside\", \"Oxford, MS\"], [\"DMZ\", \"Boston, MA\"], [\"Billy Walker\", \"Ralls, TX\"], [\"Nick Cave & The Bad Seeds\", \"Wangaratta, Victoria, Australia\"], [\"LL Cool J / Amil\", \"Bayshore, Long Island, NY\"], [\"Every Time I Die\", \"Buffalo, New York\"], [\"Arthur Fiedler\", \"Boston, MA\"], [\"Poptart Monkeys\", \"Harrisburg, PA\"], [\"John Sebastian\", \"Leeds\"], [\"James Last\", \"Bremen, Germany\"], [\"Annie Minogue Band\", \"NY - New York City\"], [\"Lou Reed\", \"Brooklyn, New York\"], [\"Joe Heaney\", \"Washington\"], [\"J-MACK\", \"Indiana\"], [\"Robert Lockwood_ Jr.\", \"Marvell, AR\"], [\"Alias\", \"Georgia\"], [\"Mudhoney\", \"Seattle, WA\"], [\"Donna Fargo\", \"Mount Airy, NC\"], [\"Kristine W.\", \"Pasco, WA\"], [\"Selena\", \"Texas\"], [\"Clannad\", \"Ireland\"], [\"Los Fabulosos Cadillacs\", \"Buenos Aires.\"], [\"Poncho Sanchez\", \"Laredo, TX\"], [\"Thomas Dolby\", \"Cairo, Egypt\"], [\"Jerry Lewis\", \"Newark, NJ\"], [\"Eddy Arnold\", \"Madisonville, TN\"], [\"Dexy's Midnight Runners\", \"Birmingham, England\"], [\"J.B.Lenoir\", \"Monticello, MS\"], [\"Foghat\", \"London, England\"], [\"Lupe Fiasco feat. GemStones\", \"Chicago, IL\"], [\"Las Ni\\\\xc3\\\\xb1as\", \"Mississauga\"], [\"Mariah Carey\", \"New York, New York\"], [\"Lightforce\", \"AUSTRALIA\"], [\"Cristy Lane\", \"Peoria, IL\"], [\"Andr\\\\xc3\\\\xa9 Verchuren\", \"Neuilly-sous-Clermont (Oise)\"], [\"Los Delinq\\\\xc3\\\\xbcentes\", \"Jerez De La Frontera (C\\\\xc3\\\\xa1diz)\"], [\"Laurindo Almeida\", \"Sao Paulo, Brazil\"], [\"Russ Morgan\", \"Scranton, PA\"], [\"Otis Spann\", \"Jackson, MS\"], [\"Missy Higgins\", \"Melbourne, Australia\"], [\"Gustavo Santaolalla\", \"Buenos Aires, Argentina\"], [\"C.C. Adcock\", \"Louisiana\"], [\"Missy Higgins\", \"Melbourne, Australia\"], [\"Jericho\", \"Toronto, Ontario, Canada\"], [\"Cass Fox\", \"London, England\"], [\"Vex'd\", \"London\"], [\"California Oranges\", \"Sacremento, CA\"], [\"Republica\", \"London, England\"], [\"Bruce Robison\", \"Texas\"], [\"Richard Galliano\", \"Le Cannet, France\"], [\"Jars Of Clay\", \"Nashville, TN\"], [\"Big Daddy Kane\", \"Brooklyn\"], [\"Martha Wainwright\", \"NY - New York City\"], [\"Kathy Troccoli\", \"NASHVILLE, Tennessee\"], [\"Fergie\", \"Hacienda Heights, CA\"], [\"Joshua Rifkin\", \"New York, NY\"], [\"Bottom Of The Hudson\", \"Charlottesville, VA\"], [\"Roy Buchanan\", \"Ozark, AR\"], [\"The Smashing Pumpkins\", \"Chicago, IL\"], [\"MC5\", \"Lincoln Park, MI\"], [\"Joe Turner / Pee Wee Crayton / Sonny Stitt\", \"Mississippi\"], [\"Rising Lion\", \"Florida\"], [\"Dynamite Deluxe\", \"Germany\"], [\"The Creation\", \"Middlesex, England\"], [\"Nick Ingman;Gavyn Wright\", \"London, England\"], [\"Stevie Ray Vaughan And Double Trouble\", \"Dallas, TX\"], [\"Gene Autry\", \"Tioga Springs, TX\"], [\"Cindy Morgan\", \"Nashville, TN\"], [\"Thomas Dolby\", \"Cairo, Egypt\"], [\"Hank Penny\", \"Birmingham, AL\"], [\"Johnny Pacheco\", \"Santiago de los Caballeros, Domin\"], [\"Click / Click_ M_Ferri\", \"Maryland\"], [\"Orquesta Sublime\", \"Cuba\"], [\"Luciano\", \"Jamaica\"], [\"Frank Ifield\", \"Coventry, England\"], [\"Las Ni\\\\xc3\\\\xb1as\", \"Mississauga\"], [\"Vincenzo\", \"Marseille\"], [\"Frost\", \"Birmingham, England\"], [\"Cali\", \"Vernet les Bains\"], [\"Curtis Mayfield\", \"Chicago, IL\"], [\"The Doors\", \"Los Angeles, California, United States\"], [\"The Germs\", \"El Paso, TX\"], [\"Rick Astley\", \"Newton-le-Willows, Merseyside, England\"], [\"Mariah Carey\", \"New York, New York\"], [\"Saigon Kick\", \"Coral Springs, Florida\"], [\"John Sebastian\", \"Leeds\"], [\"Dann Huff\", \"Nashville\"], [\"Jerry Butler\", \"Sunflower, MS\"], [\"Mariah Carey\", \"New York, New York\"], [\"Tito Rodriguez\", \"San Juan, Puerto Rico\"], [\"Percy Faith & Felicia Sanders\", \"Toronto, Ontario, Canada\"], [\"Alias\", \"Georgia\"], [\"D.A.D.\", \"Copenhagen (Denmark)\"], [\"The Cat's Miaow\", \"Australia\"], [\"Savoy Brown\", \"United Kingdom\"], [\"Jesse Malin\", \"Whitestone, Queens, NY\"], [\"Henri Pousseur\", \"Malm\\\\xef\\\\xbf\\\\xbd, Belgium\"], [\"Sensations\", \"Philadelphia, PA\"], [\"Gisele MacKenzie\", \"Winnipeg, Manitoba, Canada\"], [\"KALIMBA\", \"Mexico City, Mexico\"], [\"Eleanor McEvoy\", \"Dublin, Ireland\"], [\"Davol\", \"Colorado\"], [\"Eleanor McEvoy\", \"Dublin, Ireland\"], [\"The Plasmatics\", \"New York, NY\"], [\"Roy Rogers\", \"Redding, CA\"], [\"Leroy Hutson\", \"Newark, NJ\"], [\"Be Bop Deluxe\", \"England\"], [\"The Roots\", \"Philadelphia, Pennsylvania, U.S.\"], [\"Fergie\", \"Hacienda Heights, CA\"], [\"Groupa Med Lena Willemark\", \"Sweden\"], [\"Bryan White\", \"Lawton, OK\"], [\"Lighthouse Family\", \"Newcastle, England\"], [\"Clockwise\", \"CANADA - Ontario\"], [\"Architecture In Helsinki\", \"Melbourne\"], [\"Johnny Horton\", \"Los Angeles, CA\"], [\"Lonnie Johnson\", \"New Orleans, LA\"], [\"The Chieftains\", \"Ireland\"], [\"Len Barry\", \"Philadelphia, PA\"], [\"Steel Rain\", \"California - SF\"], [\"Orquesta Romantica de La Habana\", \"Amityville, NY\"], [\"Nightfall\", \"Bogota, COL\"], [\"Killswitch Engage\", \"Boston, MA\"], [\"Bob Wills\", \"Kosse, TX\"], [\"Terry Callier\", \"Chicago\"], [\"Leroy Huston\", \"Chicago, IL\"], [\"Karen Peck And New River\", \"Tennessee\"], [\"SNAP!\", \"Germany\"], [\"Bobby Broom\", \"New York City\"], [\"Jake Hess\", \"Tennessee\"], [\"Alan Silvestri\", \"New York, NY\"], [\"Taboo\", \"Cape Town, ZA\"], [\"Blind Blake\", \"Jacksonville, FL\"], [\"Roger Miller\", \"Fort Worth, TX\"], [\"Al Di Meola\", \"Jersey City, NJ\"], [\"Blind Blake\", \"Jacksonville, FL\"], [\"Kieran\", \"Idaho\"], [\"Princess Lover\", \"Martinique French\"], [\"Vex'd\", \"London\"], [\"Antigone Rising\", \"New Jersey\"], [\"The Cate Brothers\", \"Fayetteville, AR\"], [\"Karnig Sarkissian\", \"United States\"], [\"Mikey Dread\", \"Jamaica\"], [\"Tommy Makem;The Clancy Brothers\", \"United States\"], [\"Proficy\", \"Pennsylvania\"], [\"T.O.K.\", \"YAHD!\"], [\"Marvin Hamlisch;John Lithgow;Jeffrey Huard\", \"New York, NY\"], [\"Jimmie Vaughan\", \"Dallas, TX\"], [\"Serpentine\", \"Switzerland\"], [\"Caramell\", \"Sweden\"], [\"Frank Stokes\", \"Whitehaven, TN\"], [\"Gary Moore\", \"Belfast, Northern Ireland\"], [\"Aisha Duo\", \"NY - New York City\"], [\"Slipknot\", \"Des Moines, Iowa\"], [\"Nick Cave & The Bad Seeds\", \"Wangaratta, Victoria, Australia\"], [\"Cockney Rejects\", \"England\"], [\"Justin\", \"Georgia\"], [\"Danny Barnes\", \"Texas\"], [\"Hot Tuna\", \"San Francisco, CA\"], [\"James Hunter\", \"Austin\"], [\"Chacho\", \"New Mexico\"], [\"Ronnie Drew\", \"Dublin, Ireland\"], [\"Emilio\", \"SAN ANTONIO, Texas\"], [\"Blind Willie Johnson\", \"Marlin, TX\"], [\"Karen Peck And New River\", \"Tennessee\"], [\"Edmundo Ros & His Orchestra\", \"Venezuela\"], [\"Guaco\", \"Maracaibo, VE\"], [\"NOFX\", \"Los Angeles, CA\"], [\"BMX Bandits\", \"Scotland\"], [\"Natasha Bedingfield\", \"London\"], [\"Elvin Bishop\", \"Glendale, CA\"], [\"Richard Galliano\", \"Le Cannet, France\"], [\"Julissa\", \"Texas\"], [\"Tim Wilson\", \"Georgia\"], [\"Neema\", \"CANADA - Qu\\\\xc3\\\\xa9bec\"], [\"Sick Of It All\", \"Virginia\"], [\"Gonzalo Rubalcaba\", \"Havana, Cuba\"], [\"Leila Chicot\", \"FRANCE\"], [\"Roy Drusky\", \"Atlanta, GA\"], [\"The Perrys\", \"Maryland\"], [\"John Wesley\", \"Brandon\"], [\"Klimperei\", \"FR\"], [\"Liars\", \"LA / NYC\"], [\"Moon Mullican\", \"Corrigan, Polk County, TX\"], [\"Dave Eggar\", \"California - LA\"], [\"Static-X\", \"Alabama\"], [\"Hollowtip\", \"Pennsylvania\"], [\"The Token\", \"Brooklyn, NY\"], [\"Iggy And The Stooges\", \"Ann Arbor, MI\"], [\"Jackie Wilson\", \"Detroit, MI\"], [\"Henri Pousseur\", \"Malm\\\\xef\\\\xbf\\\\xbd, Belgium\"], [\"Spitfire\", \"Athens\"], [\"Warner mack\", \"Nashville, TN\"], [\"Tinariwen\", \"Mali, Africa\"], [\"Uman\", \"Belgium\"], [\"Jean-Jacques Goldman;Edith Lefel;Malavoi\", \"Paris, France\"], [\"Lupe Fiasco\", \"Chicago, IL\"], [\"Cali\", \"Vernet les Bains\"], [\"Scott Krippayne\", \"Washington\"], [\"A Perfect Murder\", \"CA\"], [\"Clarence Gatemouth Brown\", \"Vinton, LA\"], [\"Big Audio Dynamite\", \"London, England\"], [\"HardNox\", \"California - SF\"], [\"Bessie Smith\", \"Chattanooga, TN\"], [\"Jake Hess\", \"Tennessee\"], [\"Jimmy Page\", \"Heston, Middlesex, England\"], [\"Basic Channel\", \"Berlin, Germany\"], [\"Sweet\", \"London, England\"], [\"The Ataris\", \"Anderson, IN\"], [\"The Rascals\", \"New York, NY\"], [\"Leila Chicot\", \"FRANCE\"], [\"Ten Years After\", \"Nottingham, England\"], [\"Pumpkin Buzzard\", \"Missouri\"], [\"Butthole Surfers\", \"San Antonio, TX\"], [\"Heavy D\", \"Jamaica, West Indies\"], [\"Snowgoons\", \"Karlsruhe, Germany\"], [\"Sophie B. Hawkins\", \"New York, NY [Manhattan]\"], [\"Jim Kweskin with Samoa Wilson\", \"Stamford, CT\"], [\"Jimmy McCracklin\", \"St. Louis, MO\"], [\"The Forms\", \"Brooklyn, New York\"], [\"Crucial Conflict\", \"Chicago, IL\"], [\"Messy Marv\", \"California - SF\"], [\"RIDDLIN' KIDS\", \"Austin, TX\"], [\"Tampa Red\", \"Smithville, GA\"], [\"The Rance Allen Group\", \"Detroit, MI\"], [\"Fontella Bass\", \"St. Louis, MO\"], [\"Gang Of Four\", \"Leeds, England\"], [\"Jonn Serrie\", \"Atlanta  Ga\"], [\"David Arkenstone\", \"Tennessee\"], [\"Blind Lemon Jefferson\", \"Couchman, TX\"], [\"The Meatmen\", \"Lansing, MI\"], [\"The Sonics_ Charlie & The Tunas\", \"Tacoma, WA\"], [\"The Rolling Stones\", \"London, England\"], [\"Casey Bill Weldon\", \"Arkansas\"], [\"Leroy Hutson\", \"Newark, NJ\"], [\"The Rascals\", \"New York, NY\"], [\"Liquid Spill\", \"GERMANY\"], [\"The Beatles / Tony Sheridan\", \"Liverpool, England\"], [\"Los Fabulosos Cadillacs\", \"Buenos Aires.\"], [\"Brenda Lee\", \"Lithonia, GA\"], [\"Pee Wee King\", \"Milwaukee, WI\"], [\"Scweez\", \"California - SF\"], [\"John Fogerty\", \"Berkeley, CA\"], [\"2XL\", \"Washington DC\"], [\"Edmundo Ros\", \"Venezuela\"], [\"Agency 1.9.9.4\", \"South Carolina\"], [\"Frost\", \"Birmingham, England\"], [\"The Bronx Horns\", \"New York\"], [\"Gonzalo Rubalcaba\", \"Havana, Cuba\"], [\"Precious Bryant\", \"North Carolina\"], [\"The Chieftains\", \"Ireland\"], [\"D.R.S.\", \"Texas\"], [\"Barbara Fairchild\", \"Knobel, AK\"], [\"Hatebreed\", \"New Haven, CT\"], [\"Pelt\", \"Kingston\"], [\"Lupe Fiasco\", \"Chicago, IL\"], [\"T.G. Sheppard\", \"Humboldt, TN\"], [\"Dr. Elmo\", \"California - SF\"], [\"Julien Clerc\", \"FR\"], [\"The Jason Bonham Band\", \"NY - New York City\"], [\"Paul Taylor\", \"Wyoming\"], [\"VHS Or Beta\", \"Louisville, KY\"], [\"Joey McIntyre\", \"Needham, MA\"], [\"Dennis Brown\", \"Kingston, Jamaica\"], [\"Kingston Trio\", \"Palo Alto, CA\"], [\"Be Bop Deluxe\", \"England\"], [\"The Disposable Heroes Of Hiphoprisy\", \"San Fransisco, CA\"], [\"Big Audio Dynamite\", \"London, England\"], [\"Alias\", \"Georgia\"], [\"Arthur Tracy\", \"Kamenetz-Podolsk, Moldavia\"], [\"The Distillers\", \"L.A \\\\tCalifornia, Estados Unidos \"], [\"Philippe Sarde\", \"Neuilly-sur-Seine, France\"], [\"Andrae Crouch\", \"Pacoima, CA\"], [\"Russ Morgan\", \"Scranton, PA\"], [\"Harry Choates\", \"Rayne, LA\"], [\"Bill Cosby\", \"Philadelphia, PA\"], [\"Pete Miser\", \"NY - New York City\"], [\"Barbara Lusch\", \"Oregon\"], [\"Lil Wayne\", \"New Orleans\"], [\"Jimmy Page\", \"Heston, Middlesex, England\"], [\"Dr. Elmo\", \"California - SF\"], [\"Joe Rogan\", \"Newark, NJ\"], [\"Jimmy Johnson\", \"Illinois\"], [\"Bobby Darin\", \"New York, NY [The Bronx]\"], [\"Mr Brown\", \"Mississippi Gulf Coast\"], [\"Les Rythmes Digitales feat. Nik Kershaw\", \"Paris, France\"], [\"UFO\", \"Arizona\"], [\"Will Ackerman\", \"Germany\"], [\"Virtuoso\", \"Louisiana\"], [\"Total Fucking Destruction\", \"Pennsylvania\"], [\"The Weegs\", \"California - SF\"], [\"Cutting Edge\", \"California - LA\"], [\"Kai Winding\", \"Aarhus, Denmark\"], [\"Pat Metheny\", \"Lee\"], [\"Hot Club Of Cowtown\", \"Hughesdale Victoria Australia\"], [\"He Is Legend\", \"Wilmington, NC\"], [\"Cece Winans\", \"Charlotte, NC\"], [\"Sandi Thom\", \"Scotland\"], [\"Bobby Pulido\", \"Edinburg, TX\"], [\"Richard Galliano_ Jean-Charles Capon_ Gilles Perrin\", \"Le Cannet, France\"], [\"Alice Cooper\", \"Detroit, MI\"], [\"H-Town\", \"Houston\"], [\"bel canto\", \"Tromso, Norway\"], [\"The Distillers\", \"L.A \\\\tCalifornia, Estados Unidos \"], [\"Dan Hicks\", \"Little Rock AK\"], [\"Call To Preserve\", \"Rockledge, Florida\"], [\"Heaven 17\", \"London, England\"], [\"Lit\", \"Orange County, CA\"], [\"Cachao\", \"Havana, Cuba\"], [\"Pictures of Then\", \"Minnesota\"], [\"Music Explosion\", \"Mansfield, OH\"], [\"Bruno Sanfilippo\", \"Buenos Aires\"], [\"Alicia Keys\", \"Harlem, New York\"], [\"Markus\", \"Kentucky\"], [\"Light Of The World\", \"London, England\"], [\"Joanna Connor\", \"Brooklyn, NY\"], [\"Ghetto Mafia\", \"Atlanta, GA\"], [\"Bedrock\", \"Detroit\"], [\"The Highwaymen\", \"Dayton, OH\"], [\"Papa Wemba\", \"Kasai, Zaire\"], [\"Bobaflex\", \"Huntington, WV\"], [\"John Mayall\", \"Macclesfield, Cheshire, England\"], [\"Lizzy Borden\", \"Los Angeles, CA\"], [\"Richard Smith\", \"New York\"], [\"Ned Miller\", \"Raines, UT\"], [\"Klimperei\", \"FR\"], [\"Jars Of Clay\", \"Nashville, TN\"], [\"Liars\", \"LA / NYC\"], [\"Yami Bolo\", \"Detroit USA\"], [\"Grandmaster Flash\", \"Barbados, West Indies\"], [\"Angelica Maria\", \"New Orleans, LA\"], [\"Scott Ainslie\", \"Vermont\"], [\"Chris Eaton\", \"California\"], [\"Bobby Pulido\", \"Edinburg, TX\"], [\"The Jackson Southernaires\", \"Mississippi\"], [\"Shelly Manne\", \"New York, NY\"], [\"Little Milton\", \"Inverness, MS\"], [\"Eighteen Visions\", \"Orange County, CA\"], [\"SUMO\", \"New Hampshire\"], [\"Vana\", \"Pretoria\"], [\"Moist\", \"Vancouver, British Columbia, Cana\"], [\"Bad Religion\", \"Los Angeles, Ca\"], [\"Astarte\", \"Athens, Greece\"], [\"The Cate Brothers\", \"Fayetteville, AR\"], [\"Vulture Industries\", \"Bergen\"], [\"Sleepy John Estes\", \"Ripley, TN\"], [\"Suicidal Tendencies\", \"Venice, CA\"], [\"Professor Longhair\", \"Bogalusa, LA\"], [\"Bo Carter\", \"Bolton, MS\"], [\"Cristy Lane\", \"Peoria, IL\"], [\"Vodka Collins\", \"Tokyo, Japan\"], [\"Billie Jo Spears\", \"Beaumont, TX\"], [\"Jesse Malin\", \"Whitestone, Queens, NY\"], [\"Tunsi\", \"California - SF\"], [\"Tim Wilson\", \"Georgia\"], [\"Bitty McLean\", \"Hawaii\"], [\"Open Hand\", \"Mass. - Boston\"], [\"Angela Lashley\", \"Tennessee\"], [\"The Pharcyde\", \"Los Angeles, CA\"], [\"Tyrone Wells\", \"California - LA\"], [\"Howie Day\", \"Bangor, Maine\"], [\"Frank Ifield\", \"Coventry, England\"], [\"Johnny Pacheco\", \"Santiago de los Caballeros, Domin\"], [\"Joe Lopez\", \"Texas\"], [\"The Jackson Southernaires\", \"Mississippi\"], [\"Bonita\", \"jakarta\"], [\"Dyango\", \"Massachusetts\"], [\"Tim Wilson\", \"Georgia\"], [\"David Bowie\", \"London, UK\"], [\"El Gran Combo De Puerto Rico\", \"HOUSTON, Texas\"], [\"Ann Nesby / Jamecia Bennett\", \"Joliet, IL &amp; Atlanta, GA\"], [\"\\\\xc3\\\\x89tienne Daho\", \"Rennes\"], [\"Cutting Edge\", \"California - LA\"], [\"Elvira\", \"New York\"], [\"Angels\", \"Australia\"], [\"Roger Sanchez\", \"New York, NY\"], [\"Guy Forsyth\", \"Austin, Texas\"], [\"The Jordanaires & Orion\", \"Springfield, MO\"], [\"Limbonic Art\", \"Norway  (Sandefjord)\"], [\"Bobby Darin\", \"New York, NY [The Bronx]\"], [\"Daryl Coley Featuring the New Generation Singers Reunion Choir\", \"San Francisco, CA\"], [\"Erik Berglund\", \"Texas\"], [\"Lee Michaels\", \"Los Angeles, CA\"], [\"Joey Negro\", \"Isle of Wight, England\"], [\"Young-Holt Unlimited\", \"Chicago, IL\"], [\"Caspa\", \"London\"], [\"Rachel Loy\", \"Austin, TX\"], [\"Cockney Rejects\", \"England\"], [\"Swami\", \"Birmingham/ London, UK\"], [\"David Evans\", \"Tennessee\"], [\"Atreyu\", \"Orange County, CA\"], [\"Gonzalo Rubalcaba\", \"Havana, Cuba\"], [\"James Last\", \"Bremen, Germany\"], [\"Constance Demby\", \"California - SF\"], [\"David Rose\", \"Arizona\"], [\"Luisito Rosario\", \"Pennsylvania\"], [\"Photek\", \"Ipswich, England\"], [\"Vangelis\", \"Volos, Greece\"], [\"John Sebastian\", \"Leeds\"], [\"The Box Tops\", \"Memphis, TN\"], [\"Grandpa Jones\", \"Niagra, KY\"], [\"Bobby Pulido\", \"Edinburg, TX\"], [\"Home Town Hero\", \"Los Angeles, California\"], [\"Serpentine\", \"Switzerland\"], [\"Ma Rainey\", \"Columbus, GA\"], [\"Stargarden\", \"key west florida\"], [\"Max Steiner\", \"Vienna, Austria\"], [\"Walter Jackson\", \"Pensacola, FL\"], [\"Luis Alberto Spinetta\", \"Buenos Aires, Argentina\"], [\"James Horner\", \"Los Angeles, CA\"], [\"Leeroy Stagger\", \"CANADA - Ontario\"], [\"Doc Pomus\", \"New York, NY\"], [\"Blind Blake\", \"Jacksonville, FL\"], [\"Slim Harpo\", \"Lobdell, LA\"], [\"Humble Pie\", \"Essex, England\"], [\"The Sonics\", \"Tacoma, WA\"], [\"Stimulator\", \"Los Angeles\"], [\"Jean-Jacques Goldman\", \"Paris, France\"], [\"Arsonists Get All The Girls\", \"Santa Cruz, CA\"], [\"Bongzilla\", \"Madison, Wisconsin\"], [\"Pierre Boulez\", \"Montbrison, France\"], [\"Richard Galliano\", \"Le Cannet, France\"], [\"Slipknot\", \"Des Moines, Iowa\"], [\"Foghat\", \"London, England\"], [\"UFO\", \"Arizona\"], [\"King Curtis\", \"Fort Worth, TX\"], [\"Abner Burnette\", \"LA / NYC\"], [\"George Michael\", \"London, England\"], [\"Gonzalo Rubalcaba\", \"Havana, Cuba\"], [\"Sub Swara\", \"Brooklyn NY\"], [\"Bob Willis\", \"Kosse, TX\"], [\"Kitty Kallen\", \"Philadelphia, PA\"], [\"Avril Lavigne\", \"Belleville, Ontario, Canada\"], [\"Grupo Batuque\", \"Brazil\"], [\"The White Stripes\", \"Nashville / Los Angeles\"], [\"Leroy Hutson\", \"Newark, NJ\"], [\"Roy Drusky\", \"Atlanta, GA\"], [\"Musical Youth\", \"Birmingham, England\"], [\"Sapo\", \"California - LA\"], [\"Vince Guaraldi\", \"San Francisco, CA\"], [\"Agnostic Front\", \"New York, NY\"], [\"Jos\\\\xc3\\\\xa9lito\", \"Jaen\"], [\"Santana\", \"San Francisco, California\"], [\"Bert Kaempfert\", \"Hamburg, Germany\"], [\"Blessid Union Of Souls\", \"Cincinnati, OH\"], [\"Mary Black\", \"Ireland\"], [\"Cam'Ron\", \"Harlem, NY\"], [\"Open Hand\", \"Mass. - Boston\"], [\"Ashes to Ashes\", \"NORWAY\"], [\"Kathy Troccoli with Aaron Jeoffrey\", \"NASHVILLE, Tennessee\"], [\"Laura Leon\", \"NY - New York City\"], [\"Luiz Bonfa / Oscar Castro Neves / Lalo Schifrin\", \"Rio de Janeiro, Brazil\"], [\"Easy Star All-Stars\", \"California\"], [\"Eddy Arnold\", \"Madisonville, TN\"], [\"Jennifer Brown\", \"PLAINVIEW, Texas\"], [\"The Mad Capsule Markets\", \"JP\"], [\"Jim Kweskin_ The Jug Band\", \"Boston, MA\"], [\"Goose\", \"Ohio\"], [\"Static-X\", \"Alabama\"], [\"Josh White\", \"Greensboro, NC\"], [\"Disco D\", \"St. Louis, MO\"], [\"The American Boychoir\", \"New Jersey\"], [\"Broadcast\", \"Birmingham, England\"], [\"Sinch\", \"Pennsylvania\"], [\"Heavy D\", \"Jamaica, West Indies\"], [\"Stew\", \"New York\"], [\"Don Francisco\", \"Colorado\"], [\"Julien Clerc\", \"FR\"], [\"Gall_ France\", \"Paris, France\"], [\"John Michael Talbot\", \"Oklahoma City, OK\"], [\"Jesse Malin\", \"Whitestone, Queens, NY\"], [\"Doug MacLeod\", \"New York, NY\"], [\"The Dillinger Escape Plan\", \"Morris Plains, NJ\"], [\"The Cate Brothers\", \"Fayetteville, AR\"], [\"Cali\", \"Vernet les Bains\"], [\"Buzzcocks\", \"London / Ex-Manchester\"], [\"Blind Lemon Jefferson\", \"Couchman, TX\"], [\"Mush\", \"Switzerland\"], [\"Wednesday 13\", \"Arizona\"], [\"Hawkshaw Hawkins\", \"WILMINGTON, Delaware\"], [\"Jean-Jacques Goldman\", \"Paris, France\"], [\"Sandi Thom\", \"Scotland\"], [\"Tito Rodriguez\", \"San Juan, Puerto Rico\"], [\"The Fabulous Thunderbirds\", \"Austin, TX\"], [\"Art Ensemble Of Chicago\", \"CHICAGO, Illinois\"], [\"Virus\", \"UK - England - South East\"], [\"Marlene Dietrich\", \"Sch\\\\xef\\\\xbf\\\\xbderg, Germany\"], [\"Danny Williams\", \"Port Elizabeth, South Africa\"], [\"Big Maybelle\", \"Jackson, TN\"], [\"Danny Wright\", \"Texas\"], [\"David Evans\", \"Tennessee\"], [\"Dub Pistols feat. Rodney P & Terry Hall\", \"London, England\"], [\"Tigertailz\", \"Cardiff, Wales\"], [\"Vanessa Bell Armstrong\", \"Detroit, MI\"], [\"Chatelaine\", \"United Kingdom\"], [\"The Marx Brothers\", \"New York City, New York\"], [\"Mongo Santamaria\", \"Havana, Cuba [Jesus Maria]\"], [\"Muse\", \"UK\"], [\"The Perrys\", \"Maryland\"], [\"Cindy Morgan\", \"Nashville, TN\"], [\"Richard Smith\", \"New York\"], [\"Arthur Tracy\", \"Kamenetz-Podolsk, Moldavia\"], [\"The Ronettes\", \"New York, NY\"], [\"Big Joe Turner\", \"Kansas City, MO\"], [\"Roger McGuinn\", \"Chicago, IL\"], [\"Rocky Hill\", \"DE\"], [\"Public Image Ltd\", \"London, England\"], [\"Ashes to Ashes\", \"NORWAY\"], [\"Gloria\", \"BG\"], [\"Jean-Jacques Goldman\", \"Paris, France\"], [\"Leana\", \"California - LA\"], [\"The Jackson Southernaires\", \"Mississippi\"], [\"Dilated Peoples Featuring Black Thought\", \"Los Angeles, California\"], [\"The Jam\", \"Woking, Surrey, England\"], [\"Drop Dead_ Gorgeous\", \"Denver, Colorado\"], [\"Jazz Gillum\", \"Indianola, MS\"], [\"Justo Almario\", \"California - LA\"], [\"PMD\", \"Long Island, NY\"], [\"Strata\", \"Campbell, CA\"], [\"Jeremy Spencer\", \"West Hartlepool, England\"], [\"Sonny Terry / Brownie McGhee\", \"Greensboro, NC\"], [\"Tampa Red\", \"Smithville, GA\"], [\"Felix Slatkin/Concert Arts Symphonic Band\", \"St. Louis, MO\"], [\"John Wesley\", \"Brandon\"], [\"Mannheim Steamroller\", \"Omaha, NE\"], [\"Sivuca\", \"Itabaiana, Para\\\\xef\\\\xbf\\\\xbd, Brazil\"], [\"Floyd Cramer\", \"Samti, LA\"], [\"Jonathan Edwards / Will Ferrell\", \"Aitkin, MN\"], [\"John D. Loudermilk\", \"Durham, NC\"], [\"Cornell Campbell\", \"Jamaica\"], [\"Otis Spann\", \"Jackson, MS\"], [\"The Sterns\", \"Brighton, MA\"], [\"Owsley\", \"Tennessee\"], [\"Alias\", \"Georgia\"], [\"Sade\", \"Ibadan, Nigeria\"], [\"Kevin Max\", \"LOS ANGELES, CALIFORNIA\"], [\"Little Willie John\", \"Cullendale, AR\"], [\"Tora Tora\", \"Memphis, TN\"], [\"Cal Tjader\", \"St. Louis, MO\"], [\"Mindy McCready\", \"Fort Meyers, FL\"], [\"Don Francisco\", \"Colorado\"], [\"Chantal Chamandy\", \"Alexandria, Egypt\"], [\"Mouth Of The Architect\", \"Dayton, OH\"], [\"Diamanda Galas\", \"San Diego, CA\"], [\"David Arkenstone\", \"Tennessee\"], [\"Grandpa Jones\", \"Niagra, KY\"], [\"Blind Willie Johnson\", \"Marlin, TX\"], [\"Moonspell\", \"Portugal\"], [\"Danny Williams\", \"Port Elizabeth, South Africa\"]], \"hoverlabel\": {\"namelength\": 0}, \"hovertemplate\": \"artist_name=%{customdata[0]}<br>artist_location=%{customdata[1]}<br>artist_latitude=%{lat}<br>artist_longitude=%{lon}<br>artist_familiarity=%{marker.color}\", \"lat\": [35.14968, 35.21962, 43.648559999999996, 37.16793, 34.31109, 38.8991, 49.80388, 40.826240000000006, 37.83721, 32.67828, 40.79195, 40.731970000000004, 41.88415, 27.940170000000002, 40.7038, 30.08615, 29.424490000000002, 34.053490000000004, 42.33168, 51.50632, 35.914629999999995, 34.36401, 32.77815, 52.51606999999999, -23.56287, 34.053490000000004, 51.50632, 54.48303000000001, 37.77916, -37.81753, 36.16778, -24.9162, 18.11526, 41.504709999999996, 40.71455, 64.55653000000001, 46.71067, 34.031420000000004, 35.82213, 27.94653, 33.52029, 53.4796, 40.71455, 56.153, 31.846659999999996, 36.16778, 37.77916, 18.015710000000002, 33.39847, 37.77916, 40.99471, 40.71455, 35.4948, 41.88415, 38.8991, 32.77942, 42.31256, 42.73383, 40.71455, 42.99671, 30.2676, 54.313919999999996, 39.150929999999995, 52.1082, 35.30914, 35.66693, 50.45663, 37.77916, 42.33168, 47.603559999999995, 36.690940000000005, 34.23294, 37.20897, 29.78772, 34.011559999999996, 52.883559999999996, 38.43773, 40.143229999999996, 37.16793, 40.71455, 41.504709999999996, 42.179629999999996, 51.50632, 30.38815, 33.74831, 44.115590000000005, 51.50632, 54.5958, 44.41033, 40.71455, 40.71455, 31.553790000000003, 52.8029, 43.07295, -23.56287, 31.1689, 36.16778, 30.24216, 51.27562, 34.053490000000004, 33.45081, 62.19845, 34.053490000000004, 30.33138, 43.648559999999996, 51.50632, 33.542429999999996, 18.015710000000002, 34.31109, 40.143229999999996, 40.143229999999996, 50.91552, 43.04181, 56.65286, 36.2929, 34.053490000000004, 53.93063000000001, 37.28848, 39.95227, 40.86034, 40.143229999999996, 36.731120000000004, 19.4319, 56.461369999999995, 46.20835, 52.478590000000004, 34.053490000000004, 42.78668, 28.53823, 40.71455, 37.77916, 40.99471, 39.49974, 51.50632, 37.77916, 36.16778, 56.27609, 45.80726, 8.4177, 32.74863, 40.790859999999995, 41.88415, -13.442, 40.77735, 34.60515, 34.053490000000004, 33.99604, 27.940170000000002, 35.14968, 40.99471, 40.71455, 35.52069, 43.57607, 34.053490000000004, 37.77916, 34.16788, 43.648559999999996, 48.884370000000004, 21.511020000000002, 40.71455, 38.25486, 33.150490000000005, 40.65507, 51.50632, 43.57607, 51.48126, 43.648559999999996, 34.053490000000004, 34.053490000000004, 18.11526, 43.57607, 46.71067, 34.053490000000004, 33.99604, 62.19845, 33.6671, 32.207029999999996, 27.9758, 37.08571, 33.90698, 42.2306, 51.50632, 60.3907, 40.71455, 25.7167, 34.30138, 41.307109999999994, 35.472, 35.21962, 36.16778, 31.1689, 52.883559999999996, 34.053490000000004, 53.41961, 35.36302, 40.71455, 30.33138, 41.18466, -19.596339999999998, 29.424490000000002, 64.95014, 32.67828, 30.9742, 51.50632, 31.1689, 35.21962, 34.16788, 34.14632, 38.59264, 51.77045, 40.65507, 52.883559999999996, 40.71455, 31.553790000000003, 41.88415, 35.830729999999996, 19.4319, -37.81753, 40.85715, 40.143229999999996, 43.1763, 18.22328, 42.31256, -29.21545, 55.706219999999995, 42.68318, 34.053490000000004, 40.85715, 43.7427, 34.7519, 43.72233, 32.67828, 39.150929999999995, 46.87591, 35.14968, 51.50632, 51.27172, -33.919059999999995, 64.55653000000001, 52.94922, 45.51228, 33.92192, -23.56287, 34.053490000000004, 32.77815, 52.51606999999999, 59.379909999999995, 34.15917, 44.48721, 51.50632, 39.95227, 40.792629999999996, 32.462920000000004, 39.95227, 41.05182, 54.314069999999994, 50.45663, 30.235129999999998, 42.33168, 46.97933, 40.143229999999996, 30.9742, 34.053490000000004, 19.59009, 42.31256, 54.313919999999996, 43.04181, 50.63718, -34.60852, 37.271879999999996, 40.587509999999995, 53.4796, 48.20254, 38.00335, 34.053490000000004, 31.1689, 31.307570000000002, 37.77916, 54.977909999999994, 33.01158, 30.420840000000002, 32.67828, 39.96196, 29.187520000000003, 51.50632, 35.00459, 25.89958, 54.5958, 50.82056, 29.95369, 52.94922, 44.00118, 52.51606999999999, 34.276109999999996, 51.50632, 36.202009999999994, 39.09551, -22.97673, -37.0907, 32.33112, 29.079040000000003, 34.053490000000004, -4.03479, 43.57607, 52.94922, 51.50632, 51.48126, 32.36503, 32.74863, 40.731970000000004, 42.548429999999996, 35.14968, 51.50632, 18.015710000000002, 27.9758, 47.565, 29.89932, 35.472, 32.67828, 35.21962, 37.80506, 31.1689, 25.89958, 40.65507, 41.88415, 37.16793, 34.053490000000004, 40.65507, 7.378839999999999, 40.71455, 18.015710000000002, 18.015710000000002, 21.511020000000002, 39.95227, 32.77815, 51.55615, 37.77916, 35.14968, 41.88415, 39.17881, 37.97615, 46.8132, 39.75911, 40.65507, 31.1689, 33.202709999999996, 35.472, 34.053490000000004, 39.6425, 32.74838, 40.731970000000004, 51.50632, 44.97903, 56.27609, 33.45081, 50.82607, 33.45081, 43.648559999999996, 40.587509999999995, 50.50101, 59.46148, 33.626459999999994, 38.546659999999996, 59.33217, 57.153819999999996, 40.19316, 31.553790000000003, 13.111989999999999, 34.16788, 51.50632, 28.53823, 43.04181, 37.87869, 53.343759999999996, -34.60852, 40.190329999999996, 41.94508, 42.33168, 31.1689, 42.33168, 34.053490000000004, 46.87591, 34.19767, 49.38426, 46.49, 40.8079, 18.11526, 34.053490000000004, 18.11526, -13.442, 6.47279, 40.71455, 46.20835, 40.71455, 35.21962, 54.313919999999996, 57.153819999999996, 19.4319, -14.242920000000002, 18.015710000000002, 47.603559999999995, 34.15917, 42.31256, 38.2589, 18.015710000000002, 42.99671, 18.015710000000002, 34.56398, 25.89958, 34.053490000000004, 30.33138, 42.78668, 60.99655, -34.60852, 33.538579999999996, 18.015710000000002, 27.9758, 51.50632, 36.16778, 35.32689, 30.43883, 38.25486, 35.82213, 30.533009999999997, 18.04552, 40.65507, 46.20835, 40.731970000000004, 53.41961, 40.71455, 51.50632, 37.77916, 49.34463, 33.74831, 40.71455, 30.2676, 57.153819999999996, 37.271879999999996, 31.1689, 52.0953, 44.16104, 40.143229999999996, 40.71455, 57.153819999999996, 18.11526, 52.478590000000004, 22.817510000000002, 35.472, 30.79062, 34.053490000000004, -10.68641, -34.60852, 34.96578, 51.77045, 34.560390000000005, 54.314069999999994, 54.6904, 42.31256, 37.44466, 35.21962, 32.58507, 50.91552, 51.50632, 62.19845, 39.49974, -22.97673, 34.60515, 38.62666, 56.42465, 37.80506, 13.111989999999999, 34.053490000000004, 34.053490000000004, 40.71455, 40.71455, 32.22155, -14.242920000000002, 36.03256, 33.59233, 7.955010000000001, 35.046440000000004, 42.25147, 36.068000000000005, 34.276109999999996, 33.74831, 41.88415, 37.271879999999996, 53.41961, 40.71455, 35.99527, 33.90698, 22.817510000000002, 51.50632, 43.00029, 37.271879999999996, 34.67747, 46.8132, 27.94653, 30.083740000000002, 32.67828, 44.115590000000005, 46.71067, 18.015710000000002, 40.71455, 32.77815, 30.38815, 50.82056, 38.62666, 33.45081, 35.613009999999996, 38.8991, 40.74269, 34.16788, 54.314069999999994, 52.855509999999995, 34.053490000000004, 34.053490000000004, -34.60852, 36.16778, 40.731970000000004, 39.74001, 26.12367, 38.68193, 38.68193, 51.50632, 52.478590000000004, 48.85692, 40.71455, 37.77916, 37.33847, 34.82973, 40.71455, 38.25486, 39.95227, 52.478590000000004, 40.71455, 40.71455, -23.56287, 51.26143, 33.981629999999996, 45.4215, 40.65507, 41.88415, 40.852509999999995, 56.85146999999999, 33.74831, 51.05563, 43.648559999999996, 42.328070000000004, 35.67048, 31.1689, 39.55792, 53.93063000000001, 51.50632, 42.33168, 29.95369, 42.25147, 54.48303000000001, 46.71067, 41.88, 38.2589, 29.952440000000003, 51.50632, 40.71455, 34.053490000000004, 42.7316, 36.06899, 35.830729999999996, 49.26044, 29.95369, 42.98689, 36.06899, 37.16793, 36.068000000000005, 44.97903, 42.33168, 18.46617, 30.33138, 55.67631, 50.84838, 47.603559999999995, 39.17881, 35.2225, 29.079040000000003, 32.61436, 38.68193, 54.313919999999996, 37.271879999999996, 43.7427, 53.07516, 37.77916, 53.553340000000006, 48.390229999999995, 52.51606999999999, 35.74595, 37.4876, 41.260690000000004, 37.80506, 42.33168, 56.153, 38.62774, 40.143229999999996, 40.71455, 44.115590000000005, 36.87652, 34.56398, 30.9742, 35.830729999999996, 18.11526, 50.82607, 36.15398, 34.053490000000004, 33.89275, -34.60852, 30.08615, 38.43773, 40.11727, 37.77916, 33.517109999999995, 40.71455, 60.17116, 41.504709999999996, 30.2676, 39.14465, 51.50632, 39.76618, 40.79195, 53.45644, 51.50632, -34.60852, 46.71067, 47.603559999999995, 40.71455, 23.0833, 37.51146, 35.32689, 34.31109, 57.153819999999996, 35.2225, 41.0981, 49.34463, 32.29869, 34.053490000000004, 51.50632, 37.271879999999996, 51.50632, 31.901429999999998, 42.88544, 27.9758, 42.33168, -6.3682099999999995, 38.00335, 37.87869, 51.50632, 51.76102, 35.32689, 40.76596, 64.55653000000001, 36.87652, 42.328070000000004, 35.830729999999996, 30.2676, 51.27562, 43.07295, 51.27562, 44.646159999999995, 40.71455, 51.50632, 51.50632, 40.71455, 30.22032, 39.49974, 37.97615, 42.503820000000005, 23.0833, 42.548429999999996, 37.80506, 29.95369, -41.28054, 38.2589, 41.94508, 33.434509999999996, -22.97673, 33.46797, 46.25605, 48.85692, 30.235129999999998, 44.00118, 35.5953, 27.94653, 37.271879999999996, 19.45565, 42.33168, 37.80506, 42.33168, 43.648559999999996, 53.93063000000001, 18.015710000000002, 30.33138, -34.60852, 41.88415, 32.77815, 34.053490000000004, 51.50632, 38.8991, 34.7519, 56.85146999999999, 32.58507, 40.69214, 51.77045, 36.832640000000005, 43.87165, 21.511020000000002, 36.17191, 25.72898, 39.29055, 38.2589, 33.89275, 40.881040000000006, 4.65637, 40.71455, 42.88544, 34.053490000000004, 54.898140000000005, 33.6671, 38.498090000000005, 29.57535, 32.29869, 40.71455, 52.883559999999996, 34.053490000000004, 34.053490000000004, 40.143229999999996, 38.62774, 37.16793, 47.603559999999995, 36.97402, 33.542429999999996, 30.43883, 34.18806, 30.33138, 8.4177, 37.16793, 33.35303, 36.06899, 46.20835, 42.31256, 39.95227, 48.428309999999996, 36.15398, 39.16178, 40.71455, 53.4796, 40.99471, 34.60515, 38.8991, 43.1763, 42.18419, 38.546659999999996, 40.86034, 45.511790000000005, 60.17116, 29.78772, 52.883559999999996, 29.424490000000002, 41.58979, 38.8991, 29.89932, 38.2589, 41.82387, 39.2794, 18.015710000000002, 31.1689, 33.89275, 37.16793, 34.96578, 42.33168, 39.75911, 41.88415, 53.41961, 40.71455, 52.50524, 40.71455, 46.20835, 35.21962, 38.99792, 34.16788, 35.33204, 28.53823, 34.053490000000004, 26.12367, -34.60852, 40.8079, 55.67631, 36.87652, 34.053490000000004, 44.97903, 37.271879999999996, 39.739259999999994, 44.23153, 38.8991, 52.05777, 21.511020000000002, 26.30116, -34.60852, 35.830729999999996, 40.731970000000004, 38.99792, 29.424490000000002, 21.511020000000002, 52.51606999999999, 32.29869, 44.41033, 52.40698, 23.1168, 40.8079, 62.19845, 33.13178, 53.41961, 35.2225, 39.739259999999994, 37.77916, 34.053490000000004, 33.92192, 31.307570000000002, 39.95227, 38.50205, 37.16793, 42.503820000000005, 50.63718, -33.86963, 43.648559999999996, 33.45081, 32.67828, 32.29869, 31.1689, 34.60515, 0.10974, 31.1689, 53.409769999999995, 18.01361, 34.053490000000004, 29.36624, 27.9758, 42.4266, 49.26044, 50.3758, 52.855509999999995, 34.053490000000004, 46.49, 32.58507, 34.053490000000004, 35.32689, 51.50632, 39.95227, 35.2225, 36.832640000000005, 29.424490000000002, 34.053490000000004, 27.9758, 32.207029999999996, 43.648559999999996, 36.16778, 34.23294, 49.89942, 54.979380000000006, 40.143229999999996, 33.89627, 40.79195, 40.65507, 34.302459999999996, 31.30627, 34.053490000000004, 55.8578, 35.21962, -41.28054, 30.2676, 49.38426, 18.11526, 30.2676, -41.28054, 51.50632, 34.053490000000004, 37.87869, 34.19451, 39.95227, 36.16778, -14.242920000000002, 42.99671, 53.95333, 34.31109, 43.8814, 42.08317, 18.015710000000002, 42.33168, 53.343759999999996, 36.16778, 39.95227, 54.6904, 42.328070000000004, 40.71455, 47.49852, 42.33168, 42.31256, 26.27249, 37.271879999999996, 30.43883, 32.74863, 34.053490000000004, 40.71455, 40.71455, 42.02534, 35.99527, 38.2589, 40.65507, 50.3758, 40.71455, 34.80046, 32.77815, 34.053490000000004, 32.462920000000004, 41.36149, 41.307109999999994, 41.68676, 34.473259999999996, 63.03654, 21.511020000000002, -36.35484, 18.11526, 41.504709999999996, 34.053490000000004, 35.21962, 41.260690000000004, 34.7519, 27.9758, 28.53823, 46.71067, 30.996879999999997, 51.48126, 34.053490000000004, 39.74001, 40.71455, 43.7698, 47.04954, 39.150929999999995, 35.74595, 40.85715, 51.16418, 40.71455, -9.824910000000001, 39.95227, 50.50101, 34.053490000000004, 37.41402, 39.37413, 59.379909999999995, 51.898340000000005, 33.39847, 40.85715, 40.65507, 56.95468, -1.9322, 42.99671, 34.053490000000004, 51.50632, 35.2225, 62.19845, 28.53823, 34.053490000000004, 51.50632, 62.19845, 38.8235, 35.30914, 13.111989999999999, 40.143229999999996, 44.00118, 34.053490000000004, 40.65507, 51.50632, 42.503820000000005, 35.21962, 30.767529999999997, 40.587509999999995, 40.190329999999996, 41.88415, 35.67048, 40.731970000000004, 56.85146999999999, 31.1689, 50.84838, 32.20049, 41.94508, 29.424490000000002, 41.88415, 32.61436, 51.50632, 33.74831, 33.89627, 54.313919999999996, 32.20049, 55.8578, 40.71455, 51.735690000000005, 34.0737, 34.15917, 62.19845, 40.79195, 34.053490000000004, 34.053490000000004, 53.79449, 49.34463, 62.19845, 59.33217, 37.77916, 38.2589, 53.553340000000006, 29.76045, 39.10295, 46.71067, 56.461369999999995, 40.65507, 31.03896, 54.48303000000001, 44.7272, 44.81187, 29.424490000000002, 40.71455, 51.11655, 44.115590000000005, 48.85692, 40.71455, 44.115590000000005, 41.88415, 43.648559999999996, 30.9742, 30.2676, 37.16793, 34.36401, 32.67828, 42.31256, 40.67856, 30.2676, 41.260690000000004, 55.67631, 34.053490000000004, 53.553340000000006, 50.97768, 51.50632, 40.731970000000004, 30.6554, 52.51606999999999, 42.938959999999994, 18.209039999999998, 41.504709999999996, 30.2676, 38.8235, 41.88415, 40.731970000000004, 30.235129999999998, 29.079040000000003, 41.50075, 42.548429999999996, 41.88415, 32.71568, 52.883559999999996, 33.76672, 35.21962, 37.80506, 41.88415, 35.830729999999996, 30.420840000000002, 36.16778, 30.996879999999997, 37.77916, 54.5958, 37.16793, 35.21962, 34.053490000000004, 41.517759999999996, 48.76767, 38.8991, 53.41961, 32.58507, 31.553790000000003, 34.56398, 40.10216, -33.919059999999995, 34.053490000000004, 51.50632, 36.0632, 36.71832, 40.71455, 43.648559999999996, 32.29869, 40.8079, 44.23153, 40.21787, 53.4796, 46.71067, 40.71455, 51.45238, 40.143229999999996, 22.817510000000002, 5.87522, 30.2676, 30.22032, 39.150929999999995, 39.75911, 23.62574, 38.62774, 64.55653000000001, 56.95468, 34.19363, 33.45081, 53.89128, 33.993629999999996, 34.053490000000004, 27.530920000000002, 42.31256, -4.03479, 40.85715, 37.97615, 38.99792, 40.71455, 51.50632, 51.50632, 38.8991, 34.053490000000004, 29.78772, 35.66693, 52.883559999999996, 40.71455, 41.68676, 27.9758, 48.552859999999995, 30.2676, 48.20254, 51.77045, 37.271879999999996, 54.898140000000005, -24.9162, 63.03654, 37.77916, 39.75911, 37.76509, 38.62666, 41.307109999999994, 49.01037, 46.71067, 49.08215, 43.21183, 40.99471, 39.95227, 34.053490000000004, 34.053490000000004, 29.424490000000002, 51.48126, 52.51606999999999, 40.68869, 51.50632, 40.85715, 40.71455, 42.33168, 46.71067, 42.73383, 39.95227, 48.85692, 34.18806, 51.50632, 34.23294, 33.56173, 18.11526, 40.71455, 40.71455, 31.1689, 35.62327, 48.69173, 33.52029, 41.41013, 43.0026, 47.04954, 32.58507, 54.498569999999994, 33.52029, 35.21962, 40.71455, 35.66693, 27.530920000000002, 42.31256, 43.00029, 33.6671, -22.97673, 40.71455, 36.068000000000005, 40.71455, 38.68193, 29.95369, 53.4796, 54.979380000000006, 46.51959, 34.053490000000004, 34.053490000000004, 39.14465, 43.91253, 35.046440000000004, 40.65507, 40.731970000000004, 40.8079, 46.25605, 18.11526, 35.14968, 37.82245, 38.8962, 40.71455, 41.307109999999994, 40.65507, 39.29055, 39.75911, 48.20254, 37.271879999999996, 57.153819999999996, 53.89128, 33.542429999999996, 6.47279, 40.7174, 38.57842, 46.91008, 38.62774, 43.648559999999996, 35.830729999999996, 40.71455, 43.648559999999996, 41.88415, 37.77916, 39.739259999999994, 35.21962, 38.68193, 33.56173, 34.26624, 34.23294, 38.68193, 18.015710000000002, 38.2589, 23.1168, 30.33138, 38.8991, 52.51606999999999, 51.596779999999995, 40.71455, 36.16778, 39.739259999999994, 38.62774, 33.6671, 30.24216, 42.4266, 34.473259999999996, 36.16778, 42.33168, 30.19145, 42.33168, 52.51606999999999, 36.97402, 25.89958, 53.343759999999996, 27.9758, 18.04552, 38.62666, 49.01037, 51.50632, 41.260690000000004, 41.307109999999994, 51.50632, 35.21962, 44.00118, 50.91552, 52.05777, 37.77916, 34.053490000000004, 40.71455, 42.18419, 32.36503, 33.92192, 54.313919999999996, 45.494409999999995, 33.89275, 41.88415, 37.16793, 39.95227, 33.6671, 34.053490000000004, 31.30627, 40.99471, 40.8448, 53.45644, 36.16778, 53.41961, 35.14968, 38.8235, 39.75911, 30.22032, 52.3667, 18.015710000000002, 30.08615, 39.29055, 38.8235, 51.50632, 51.898340000000005, 35.830729999999996, 40.71455, 51.50632, 18.015710000000002, 51.50632, 33.45081, 45.60718, 37.271879999999996, 35.66693, 37.16793, 29.424490000000002, 35.830729999999996, 29.95369, 38.08767, 35.472, 40.71455, 32.58507, 18.11526, 59.46148, 29.76045, 56.87546, -34.60852, 39.37413, 31.1689, 34.19451, 50.50101, 30.43883, 51.77045, 40.71455, 48.69173, 41.05182, 27.9758, 30.083740000000002, 31.1689, 37.16793, 38.50205, 48.883140000000004, 40.8079, 51.50632, 64.95014, 31.1689, 35.21962, 39.10644, 40.71455, 33.52029, 42.21464, 41.88415, 39.75911, 37.271879999999996, 30.79062, 32.77815, 40.71455, 27.94653, 49.38426, 27.9758, 32.74863, 38.8991, 31.1689, 22.817510000000002, 34.07292, -37.0907, 51.427209999999995, 54.979380000000006, 41.88415, 33.35303, 46.87591, 44.48721, 34.053490000000004, 41.88415, 47.603559999999995, 51.50632, 32.34747, 40.65507, 49.34463, 64.55653000000001, 37.77916, 40.71455, 40.71455, 37.271879999999996, -14.242920000000002, 32.77942, 37.77916, 39.96196, 29.76045, 30.22032, 35.2225, 32.77815, 32.58507, 35.830729999999996, 36.06899, 40.65507, 33.35303, 40.852509999999995, 51.52328, 40.71455, 53.41961, 34.053490000000004, 48.85692, 51.50632, 41.38572, 34.053490000000004, 33.6671, 33.74831, 64.55653000000001, 51.50632, 60.17116, 37.80506, 40.8079, 52.94922, 41.260690000000004, 37.271879999999996, 56.95468, 37.80506, 40.76099, 32.58507, 62.24049, 51.50632, 48.85692, 18.015710000000002, 34.053490000000004, 35.03731, 40.71455, 48.20254, 40.21787, 39.55792, 46.49, 37.28848, 27.530920000000002, 33.45081, 40.71455, 40.71455, 21.511020000000002, 36.068000000000005, 39.739259999999994, 40.71455, 51.50632, 18.015710000000002, 33.89627, 32.58507, 34.41925, 54.898140000000005, 30.996879999999997, 37.77916, 51.50632, 37.271879999999996, 48.85692, 33.86404, -34.60852, 31.1689, 47.49852, 39.95227, -33.96243, 39.95227, 54.898140000000005, 18.11526, 37.271879999999996, 34.41925, 32.77942, 49.01037, 42.548429999999996, 40.71455, 53.383109999999995, 32.20049, 42.25147, 37.59791, 41.88415, 34.053490000000004, 40.587509999999995, 39.6425, 4.65637, 40.71455, 41.88415, 28.639509999999998, 34.23294, 41.517759999999996, 43.648559999999996, 40.71455, 34.053490000000004, 29.76045, 33.59233, 43.07295, 62.19845, 34.053490000000004, 29.59733, 36.16778, 40.731970000000004, 40.71455, 29.97525, 33.45081, 13.111989999999999, 33.7621, 40.71455, -22.97673, 29.424490000000002, 21.511020000000002, 44.646159999999995, 59.91228, 51.48126, 42.33168, 53.4796, 32.58507, 40.71455, 33.13178, 32.67828, 40.143229999999996, 48.20254, 41.260690000000004, 41.504709999999996, 30.9742, 34.7519, 51.52328, 30.439770000000003, 38.03213, 18.015710000000002, 34.053490000000004, -41.28054, 35.21962, 40.71455, 39.95227, 46.71067, 17.57975, 40.71455, 46.71067, 31.30627, 37.16793, 33.74831, 34.053490000000004, -29.21545, 31.1689, 30.24216, 40.99471, 44.7272, 34.053490000000004, 13.111989999999999, -22.97673, 42.31256, 40.71455, 39.14465, 48.390229999999995, 51.11655, 43.648559999999996, 34.053490000000004, 29.95369, 40.731970000000004, 56.95468, 23.0833, 33.74831, 33.517109999999995, 40.8448, 31.1689, -24.9162, 36.16778, 40.71455, 35.21962, 37.82245, 30.9742, 30.2676, 40.23447, -37.81753, 56.461369999999995, 49.01037, 18.22328, 33.46797, 51.16418, 33.74831, 30.9742, 47.565, 46.71067, 37.271879999999996, 43.1763, 43.7427, 43.7427, 37.77916, 37.16793, 32.20049, 43.7427, 42.33168, 39.739259999999994, 44.04992, 41.88415, 40.65507, -1.9322, 48.20254, 40.65507, 37.97615, 55.8578, 37.77916, 34.053490000000004, 34.031420000000004, 40.71455, 31.1689, 42.33168, 42.84751, 40.8079, 33.74831, 40.72023, 60.99655, 27.9758, 39.739259999999994, 32.74863, 41.504709999999996, 32.58507, 41.35644, 40.85715, 52.883559999999996, 53.93063000000001, 39.14465, 51.51262, 46.20835, 33.52029, 43.58015, 51.16418, 40.71455, 34.053490000000004, 43.648559999999996, 48.85692, 33.74831, 52.1082, 40.76099, 41.88415, 48.390229999999995, 36.16778, 40.8079, 38.2589, 41.05182, 34.053490000000004, 40.71455, 34.053490000000004, 18.015710000000002, 42.31256, 46.20835, 42.18419, 29.079040000000003, 18.11526, -4.03479, 54.6904, 43.01437, 32.58507, 32.31928, 52.883559999999996, 51.50632, 51.50632, 40.71455, 51.50632, 42.328070000000004, 34.053490000000004, 33.6671, 41.517759999999996, 51.50632, 41.88415, 32.29869, 52.478590000000004, 39.37413, 30.08615, 40.76596, 40.71455, 40.71455, 52.50524, 42.31256, 34.053490000000004, 40.71455, 37.77916, 40.71455, 40.71455, 51.16418, -10.68641, 34.053490000000004, 53.343759999999996, 52.855509999999995, 43.04181, 25.72898, 60.99655, 43.648559999999996, 40.587509999999995, 29.76045, 48.69173, 32.38012, 33.74831, 33.586079999999995, 54.498569999999994, 40.143229999999996, 35.472, 42.33168, 41.88415, -37.81753, 32.33112, 50.82607, -34.60852, 35.5953, 46.51959, 41.58979, 40.71455, 53.45644, 40.71455, 38.25486, 51.27562, 39.41574, 60.3907, 40.10216, 35.32689, 43.32618, 51.50632, 39.95227, 51.50632, 35.21962, 35.472, 46.71067, 53.4796, 44.97903, 40.85715, 35.472, 43.8814, 37.271879999999996, 41.82387, 37.77916, 49.34463, 41.39447, 39.150929999999995, 39.17881, 28.33268, 52.478590000000004, 35.03731, 21.511020000000002, -37.90019, 39.95227, 43.71371, 38.2589, 37.271879999999996, 35.53849, 38.25486, 51.27172, 38.68193, 9.08457, 38.8991, 39.739259999999994, 34.053490000000004, 40.71455, 27.530920000000002, 35.830729999999996, 18.015710000000002, 57.153819999999996, 52.94922, 53.93063000000001, 30.9742, 35.830729999999996, 34.16788, 51.50632, 40.731970000000004, 41.88415, 34.053490000000004, 59.91228, 32.77815, 54.314069999999994, 27.94653, 26.12367, 51.52328, 35.14968, 64.55653000000001, 41.9293, 35.52069, 49.34463, 39.95227, 44.97903, 18.46617, 51.16418, 37.271879999999996, -37.81753, 44.48721, 44.97903, 52.05777, 64.55653000000001, 40.65507, 40.190329999999996, 6.47279, 31.1689, 34.053490000000004, 51.05563, 40.65507, 31.1689, 51.16418, 60.99655, 34.053490000000004, -23.56287, 18.11526, 49.01037, 42.503820000000005, 49.38426, 40.71455, 42.08317, 18.015710000000002, 48.85692, 47.25513, 51.50632, 34.053490000000004, 32.77942, 54.5958, 30.2676, 43.648559999999996, 56.87546, 42.78668, 53.79449, 52.883559999999996, 38.00335, 49.26044, 30.08615, 34.16788, -34.60852, -22.97673, 36.0632, -33.86963, 35.21962, 32.67828, 52.883559999999996, 40.65507, 40.71455, 40.71455, 35.14968, 43.648559999999996, 18.22328, 38.05157, 34.51042, 35.914629999999995, 43.648559999999996, 52.478590000000004, 41.58979, 52.883559999999996, 59.46148, 31.1689, 39.10644, 37.77916, 42.328070000000004, 35.00459, 40.99471, 42.31256, 39.29055, 40.71455, 42.33168, 35.830729999999996, -34.60852, 42.31256, 40.71455, 41.76332, 53.4796, 32.29869, 41.88415, 55.953269999999996, 47.565, 33.39847, 49.26044, 38.99792, 34.19423, 21.511020000000002, 62.19845, 33.993629999999996, 19.59009, 31.15509, 18.22328, 37.77916, 18.11526, 30.6554, 31.1689, 37.271879999999996, 50.63718, 48.884370000000004, 34.16788, 35.00459, 32.77815, 35.830729999999996, 40.5725, 39.95227, 26.30116, -24.9162, 38.2589, 40.71455, 44.41033, 51.31476, 34.60515, 40.143229999999996, 33.45081, 25.72898, 34.053490000000004, 37.80506, 39.95227, 23.1168, 36.2929, 38.00335, 41.260690000000004, 40.65507, 41.504709999999996, 37.76509, 53.93063000000001, 18.015710000000002, 47.603559999999995, 34.053490000000004, 36.87652, 42.31256, 33.6671, 46.71067, 59.759519999999995, 18.11526, 34.053490000000004, 32.67828, 43.01437, 32.29869, 56.461369999999995, 51.50632, 31.96305, 43.07295, 55.67631, 18.015710000000002, 51.50632, 40.71455, 34.053490000000004, 55.953269999999996, 32.67828, 29.95369, 29.95369, 37.80506, 46.23518, 40.7174, 51.16418, 34.053490000000004, 30.38815, 33.74831, 48.10751, 19.59009, 56.85146999999999, 52.478590000000004, 39.49974, 40.71455, 40.71455, 30.9742, 38.62774, 50.82056, 49.38426, 43.58015, -19.93272, 40.8079, 35.67048, 30.43883, 4.65637, 40.71455, 51.16418, 33.74831, 35.92425, 25.72898, 35.914629999999995, 47.61002, 33.45081, -13.442, 37.77916, 41.260690000000004, 37.271879999999996, 51.16418, 40.71455, 37.271879999999996, 39.95227, 30.6554, 46.8132, 40.71455, 40.8079, 40.01574, 34.011559999999996, 34.16788, 40.8448, 46.23518, 42.33168, 35.33204, 5.87522, 40.10216, 42.33168, 41.260690000000004, 52.478590000000004, 40.143229999999996, 51.50632, 51.27562, 30.2676, 37.16793, 62.19845, -29.21545, 44.97903, 41.504709999999996, 40.143229999999996, 33.517109999999995, 32.29869, 38.00335, 41.88415, 43.648559999999996, 40.65507, 53.4796, 18.46617, 30.083740000000002, 52.883559999999996, 36.16778, 40.852509999999995, 42.25147, 51.05563, 51.16418, 33.74907, 51.59109, 18.015710000000002, 39.95227, 38.048590000000004, 37.77916, 18.015710000000002, 34.16788, 35.830729999999996, 45.51228, 51.50632, 49.34463, 31.1689, 60.99655, 51.48126, 40.71455, 64.95014, 51.77045, 35.14968, 34.7519, 40.71455, 37.82245, 37.77916, 37.77916, 34.053490000000004, 55.8578, 45.75342, 64.55653000000001, 41.88415, 13.111989999999999, 53.4796, 30.33138, 19.45565, 40.71455, 38.546659999999996, 40.99471, 32.77815, 33.89627, 53.79449, 34.053490000000004, 63.03654, 33.39847, 30.235129999999998, 51.4855, 40.71455, 35.96043, 35.36302, 35.2225, 51.50632, 57.701330000000006, 37.77916, 40.85715, 34.19451, 37.271879999999996, 31.1689, 27.9758, 46.49, 40.99471, 53.4796, 54.313919999999996, 18.22328, 35.21962, 43.648559999999996, 35.21962, 53.41961, 18.11526, 51.50632, 31.1689, 34.053490000000004, 35.48703, 31.1689, 31.1689, 41.88415, 44.09319, 45.75342, 41.260690000000004, 33.90698, 33.71197, 35.52069, 18.22328, 53.383109999999995, 54.498569999999994, 37.271879999999996, 57.701330000000006, 34.053490000000004, 34.053490000000004, 41.517759999999996, 34.053490000000004, 38.25486, 36.16778, 50.63718, 30.22032, 31.1689, 51.50632, 41.504709999999996, 59.85845, 32.77942, 40.85715, 55.67631, 40.71455, 30.16602, 53.41961, 37.77916, 44.115590000000005, 52.94922, 54.314069999999994, 50.84838, 32.77815, 35.33204, 39.739259999999994, 34.053490000000004, 43.648559999999996, 30.420840000000002, 37.77916, 40.71455, 34.07292, 54.48303000000001, -6.1714400000000005, 18.11526, 35.830729999999996, 32.78115, 41.88415, 56.95468, 32.74863, 51.50632, 40.71455, 38.25486, 32.33112, 51.76102, 33.86404, 6.47279, 42.3519, 44.83663, 39.37413, 18.22328, 37.271879999999996, 34.053490000000004, 39.10644, -6.1714400000000005, 34.053490000000004, 53.4796, 29.079040000000003, 37.77916, 35.21962, 46.8132, 40.731970000000004, 35.2225, 51.50632, 33.92192, 35.830729999999996, 29.57535, 49.38426, 40.826240000000006, 46.20835, 43.00029, 26.12367, 56.27609, 25.72898, 50.82607, 23.0833, 40.731970000000004, 33.74831, 57.153819999999996, 31.1689, 27.9758, 42.328070000000004, 33.6671, 40.852509999999995, 54.07485, 32.58507, 51.48126, 51.77045, 35.74595, 51.48126, 52.51606999999999, 45.4215, 40.65507, 41.88415, 51.4855, 41.05182, 51.50632, -37.81753, 34.053490000000004, 63.03654, 35.14968, 30.996879999999997, 56.95468, 30.06677, 30.767529999999997, 39.95227, 37.87869, 41.05182, 32.67828, 47.61002, 38.43773, 40.790859999999995, 34.053490000000004, 40.71455, 35.830729999999996, 38.62774, 34.14632, 40.23447, 51.50632, 33.538579999999996, 33.52029, 29.76045, 40.71455, -0.02435, 40.143229999999996, 39.37413, 55.8578, 39.55792, 34.053490000000004, 37.80506, 33.74831, 30.22032, 18.03965, 30.533009999999997, 37.77916, 29.95369, 43.648559999999996, 34.053490000000004, 54.898140000000005, 43.87165, 40.7038, 51.50632, 34.560390000000005, -10.68641, 31.03896, 37.77916, 32.51461, 37.20897, 33.86404, 41.517759999999996, 54.314069999999994, 50.91552, 40.8079, 31.1689, 37.97615, 44.97903, 26.30116, 34.053490000000004, 36.16778, 41.88415, 31.307570000000002, 51.45102, 40.190329999999996, 54.979380000000006, 38.8235, 30.686390000000003, 31.1689, 51.50632, 30.33138, 51.27156, 31.1689, 64.95014, 50.933640000000004, 45.438109999999995, 40.85715, 34.200340000000004, -10.68641, 34.053490000000004, 41.88415, 40.7038, 40.71455, 39.2794, 30.083740000000002, 34.053490000000004, 40.71455, 29.59733, 51.50632, 38.00335, 38.8991, 41.88415, 32.67828, 29.952440000000003, 34.02791, 35.830729999999996, 52.883559999999996, 37.77916, 21.511020000000002, 35.21962, 32.61518, 30.33138, 38.25486, 42.33168, 40.7174, 23.0833, 37.16793, 51.50632, 33.74831, 33.74831, 37.271879999999996, 33.92192, 51.11655, 45.51228, 34.276109999999996, 34.27798, 40.76596, 54.313919999999996, 33.56173, 35.6731, 39.37413, 40.72023, 34.23294, 25.89958, 34.053490000000004, 39.55792, 52.883559999999996, 40.65507, 50.933640000000004, -9.181339999999999, 52.883559999999996, 32.20049, 7.378839999999999, 34.053490000000004, 41.88415, 46.71067, 59.33217, 34.053490000000004, 36.832640000000005, 41.90311, 18.03965, 30.686390000000003, 30.420840000000002, 44.00118, 45.438109999999995, 51.59109, 27.530920000000002, 29.424490000000002, 35.85683, 40.71455, 45.51228, 33.52029, 37.271879999999996, 41.58979, 47.603559999999995, 44.115590000000005, 52.0953, 30.16602, 37.77916, 42.98689, 35.830729999999996, 50.44801, 40.792629999999996, 55.8578, 59.46148, 31.553790000000003, 52.478590000000004, 52.478590000000004, 32.58507, 41.58979, -37.81753, 23.0833, 31.1689, 35.6139, 37.16793, 30.2676, 32.22155, 51.50632, 34.07292, 36.068000000000005, 34.053490000000004, 49.34463, 46.91008, 46.51959, 37.8695, 31.553790000000003, 44.23153, 49.80388, 41.94508, 39.95227, -29.21545, 40.71455, 17.57975, 42.33168, 42.31256, 43.648559999999996, 34.31109, 37.271879999999996, 34.60515, 41.88415, 40.71455, 34.56398, 31.846659999999996, 37.16793, 38.8991, 42.548429999999996, 47.603559999999995, 37.80506, 33.35303, 41.70671, 41.82387, 54.898140000000005, 34.053490000000004, 34.560390000000005, 34.053490000000004, 51.50632, 40.10216, 37.87869, 53.343759999999996, 34.05464, 42.25147, 56.87546, 42.328070000000004, 45.7594, 19.45565, 32.58507, 51.50632, 41.88415, 37.77916, 41.0981, 27.9758, 35.2225, 51.50632, 38.913909999999994, 37.16793, 39.6425, 33.90698, 35.67484, -33.96243, 34.053490000000004, 38.8962, 30.22032, 37.77916, 43.58015, 30.2676, 34.053490000000004, 31.1689, 40.8079, 27.9758, 39.739259999999994, 48.20254, 41.88415, 52.478590000000004, 52.40698, 34.31109, 40.731970000000004, 53.553340000000006, 29.76045, 55.8578, 37.82245, 40.143229999999996, 40.85715, 40.71455, 51.898340000000005, 45.7594, 33.74831, 34.053490000000004, 52.478590000000004, 43.71371, 56.65286, 33.90698, 56.95468, 18.11526, 59.85845, 47.61002, 18.015710000000002, 41.94508, 54.313919999999996, 34.302459999999996, 39.37413, 36.16778, 33.74831, 41.88415, 38.99792, 53.4796, 30.533009999999997, 41.517759999999996, 33.71197, 38.8991, -4.03479, 43.58915, 37.77916, 47.25513, 40.71455, 54.498569999999994, 46.87591, 51.50632, 40.71455, 38.00335, 18.22328, 39.95227, 34.473259999999996, 30.083740000000002, 46.97933, 41.517759999999996, 53.93063000000001, 35.830729999999996, 18.015710000000002, 37.77916, 33.86404, 51.31476, 39.10644, 33.56173, 34.053490000000004, 40.71455, 31.307570000000002, 43.0026, 29.76045, 21.511020000000002, -37.81753, 21.7866, 36.15398, 51.50632, 32.34922, 31.1689, 36.06899, 30.22403, 40.71455, 34.053490000000004, 35.830729999999996, 39.95227, -6.1714400000000005, 62.19845, 46.91008, 30.9742, 33.46797, 38.66059, 37.77916, -37.0907, 54.979380000000006, 49.26044, 38.913909999999994, 48.20254, 46.71067, 34.0737, 34.96578, 41.307109999999994, 46.87591, 33.74831, 29.95369, 40.71455, 42.548429999999996, 39.739259999999994, 32.462920000000004, 40.71455, 34.82353, 43.648559999999996, 52.883559999999996, 39.95227, 18.11526, 40.71455, 40.71455, 42.33168, 54.498569999999994, 53.45644, 42.31256, 50.933640000000004, 36.202009999999994, 27.9758, 40.71455, 38.99792, 39.95227, 55.8578, 51.50632, 40.99471, 51.16418, -37.81753, 40.71455, 35.78032, 42.33168, 51.4855, 37.271879999999996, 45.75342, 48.85692, 37.77916, 39.2794, 34.053490000000004, 59.379909999999995, 29.59733, 33.74831, 30.533009999999997, -14.242920000000002, 33.35303, 35.96049, 47.25513, 38.62774, 49.38426, 39.95227, 43.7427, 40.731970000000004, 40.71455, 52.883559999999996, -24.9162, 37.4876, 30.38815, 43.32618, 35.830729999999996, 39.10295, 54.5958, 56.85146999999999, 39.52517, 42.33168, 45.499190000000006, 35.830729999999996, 35.00459, 52.50524, 52.883559999999996, 40.71455, 40.71455, 39.75911, 21.34765, 51.27172, 58.592319999999994, 40.792629999999996, 35.82213, 51.11655, 40.71455, 42.33168, 42.7316, 27.9758, 27.9758, 35.33826, 53.343759999999996, 59.46148, 51.50632, 40.792629999999996, 36.832640000000005, 33.45081, 41.94508, 37.16793, -34.60852, 31.1689, 34.26624, 50.44801, 49.38426, 19.4319, -23.56287, 32.96197, 36.06899, 51.50632, 34.74865, 33.01158, 37.77916, 37.77916, 33.202709999999996, 55.706219999999995, 37.87869, 51.50632, 30.33138, 37.271879999999996, 40.71455, 37.20897, 36.30486, 62.19845, 42.73383, -29.21545, 38.68193, 64.95014, 48.10751, 40.65507, 50.3758, 35.78032, 43.58828, 35.830729999999996, 40.65507, 37.77916, 47.603559999999995, -22.97673, 18.015710000000002, 55.706219999999995, 34.053490000000004, 14.56298, 53.93063000000001, 32.77815, 13.111989999999999, 31.1689, 52.94922, 40.71455, 39.14465, 40.71455, -24.9162, 41.38572, 39.74001, 35.21962, -34.60852, 36.16778, 32.77815, 34.96578, 37.77916, 46.97933, 40.71455, 30.19145, 38.8962, 32.58507, 32.33112, 39.74001, -34.60852, 51.50632, 40.731970000000004, 51.50632, 39.14465, 30.235129999999998, 33.74831, 57.153819999999996, 38.2589, 33.71197, 41.88415, 48.883140000000004, 42.393359999999994, 34.18806, 43.648559999999996, 40.71455, 19.4319, 40.71455, 42.78668, 34.053490000000004, 37.77916, 39.49974, 53.93063000000001, 40.790859999999995, 40.71455, 51.45366, 18.11526, 30.235129999999998, 42.33168, 37.87869, 64.55653000000001, 33.517109999999995, 41.68676, 37.271879999999996, 33.35303, 42.33168, 39.95227, 40.8448, 39.95227, 30.16602, -34.60852, 34.31109, 54.314069999999994, 33.74831, 51.27562, 34.031420000000004, 29.78772, 39.49974, 40.7038, 37.271879999999996, 56.42465, 47.565, 55.67631, 34.74865, 33.89275, -24.9162, 51.50632, 40.65507, 28.33268, 27.9758, 32.58507, 29.59733, 18.03965, 40.65507, 62.19845, 37.80506, 39.95227, 34.053490000000004, 49.26044, 32.77942, 41.88415, 40.71455, 42.31256, 44.00118, 25.72898, 34.053490000000004, 32.96197, 54.979380000000006, 33.517109999999995, 14.56298, 46.51959, 31.580759999999998, 43.87165, 16.85576, 37.20897, 29.76045, 40.65507, 40.99471, 30.33138, 52.883559999999996, 39.74001, 39.49974, 51.31476, 52.94922, 37.77916, -35.306540000000005, 28.33268, -23.56287, 37.271879999999996, 40.71455, 36.068000000000005, 34.053490000000004, 35.721709999999995, 29.952440000000003, 34.19451, 42.31256, 43.04181, 34.053490000000004, 40.71455, 33.99604, 40.7038, 40.71455, 38.62666, -36.35484, 34.60515, 33.46797, 35.14968, 32.34922, 34.053490000000004, 51.05563, 40.438309999999994, 40.76099, 37.8695, 62.19845, 54.979380000000006, 53.343759999999996, 31.307570000000002, 34.16788, 62.19845, 30.22032, 40.71455, 51.48126, -10.68641, 38.62774, 40.792629999999996, 40.71455, 38.62774, 38.99792, 60.3907, 40.71455, 34.41925, 55.706219999999995, 51.50632, -34.60852, 30.686390000000003, 18.015710000000002, 27.10442, 34.053490000000004, 32.96197, 33.71197, 34.053490000000004, 33.538579999999996, 37.77916, 53.343759999999996, 36.16778, 36.202009999999994, 40.8079, 53.93063000000001, 37.271879999999996, 40.717929999999996, 36.38418, -34.60852, 43.01437, 40.71455, 34.045970000000004, 37.16793, 59.91228, 40.717929999999996, 23.62574, -4.03479, 35.30914, 51.50632, 44.97903, 57.153819999999996, 40.190329999999996, -28.49522, 34.053490000000004, 47.603559999999995, 62.24049, 40.71455, 30.38815, 34.41925, 34.053490000000004, 40.71455, 40.99471, 52.855509999999995, 40.65507, 30.33138, 49.26044, 37.77916, 42.31256, 31.1689, 33.89627, 37.16793, 32.61436, 34.053490000000004, 30.08615, 54.5958, 55.706219999999995, 52.51606999999999, 46.44231, 55.706219999999995, 50.44801, 34.7519, 38.8991, 46.71067, 45.75342, 43.19899, 53.383109999999995, 37.16793, 35.14968, 40.71455, 59.91228, 40.71455, 35.830729999999996, 51.50632, 34.30138, 41.41013, -24.9162, 7.378839999999999, 31.1689, 39.6425, 32.77815, 49.26044, 38.8235, 39.09551, -24.9162, 40.4203, 41.58979, 34.053490000000004, 62.19845, 35.74595, 49.26044, 43.00029, 36.16778, 36.06899, 33.46725, 34.053490000000004, 36.16778, 4.65637, 39.95227, 32.77942, 51.596779999999995, 34.053490000000004, 34.053490000000004, 40.76099, 33.74907, 40.4203, 21.511020000000002, 18.11526, 46.97933, 42.84751, 42.98689, 37.77916, 33.74831, 40.10216, 37.20897, 53.79449, 52.478590000000004, 51.77045, 40.71455, 39.95227, 40.86034, 34.7519, 53.553340000000006, 52.23535, 39.75911, 36.71832, 40.71455, 41.51526, 60.3907, 53.343759999999996, 32.33112, 37.16793, 53.41961, 30.16602, 25.7167, 51.50632, 43.07295, 41.76332, 31.307570000000002, 51.16418, 51.05563, 34.053490000000004, 32.77942, 38.62774, 54.313919999999996, 42.88544, 35.67048, 42.33168, 6.47279, 46.71067, 32.58507, 34.053490000000004, 32.51461, 53.41961, 33.95319, 43.04181, 40.71455, 39.739259999999994, 40.65507, 40.71455, 30.083740000000002, -6.1714400000000005, 51.27562, 34.60515, 52.883559999999996, 18.015710000000002, 32.67828, 39.150929999999995, 41.88415, 29.59733, 40.71455, 37.76509, 53.45644, 40.143229999999996, 37.82245, 38.68193, 43.648559999999996, 40.71455, 18.11526, 48.85692, 32.51461, 35.830729999999996, 33.71197, 40.587509999999995, 40.71455, 48.390229999999995, 18.11526, 40.8079, 38.41982, 51.50632, 35.14968, 52.94922, 39.37413, 43.0026, 45.4215, 34.053490000000004, 40.71455, 44.646159999999995, 41.260690000000004, 42.84751, 54.979380000000006, 59.759519999999995, 40.71455, 34.053490000000004, 41.00461, 40.143229999999996, 32.20049, 25.72898, 34.053490000000004, 38.62774, 30.79062, 34.82353, 42.33168, 42.73383, 32.74863, 45.438109999999995, 52.883559999999996, 51.735690000000005, 59.27074, 41.68676, 39.10295, 46.91008, 34.053490000000004, 33.45081, 54.977909999999994, 42.33168, 32.74863, 33.01158, 59.91228, 41.307109999999994, 34.053490000000004, 33.46725, 25.72898, 27.530920000000002, 37.20897, 44.81187, 51.50632, 30.79062, 40.7038, 41.0981, 40.71455, 40.71455, 40.852509999999995, 30.22032, 40.71455, 30.43883, 59.91228, 32.67828, -34.60852, 52.51606999999999, 36.16778, 27.9758, 35.99527, 40.71455, 42.73383, -23.6361, 39.95227, 43.21183, 37.77916, 29.187520000000003, 33.46725, 33.74831, 38.8991, 7.378839999999999, 54.313919999999996, 50.84838, 38.2589, 18.11526, 60.99655, 52.883559999999996, 34.16788, 34.053490000000004, 38.62774, 34.053490000000004, 40.71455, 34.276109999999996, 51.50632, 34.23294, 18.11526, 54.313919999999996, 23.0833, 31.1689, 39.26271, 36.16778, 18.04552, -24.9162, 54.898140000000005, 32.77815, 30.08615, 34.053490000000004, 33.59233, 51.898340000000005, 57.153819999999996, 44.97903, 51.4855, 40.7174, 43.648559999999996, 42.2306, 30.2676, 40.696259999999995, 36.16778, 48.85692, 42.33168, 32.20049, 40.71455, 31.1689, 44.97903, 53.343759999999996, 48.85692, 33.626459999999994, 40.71455, 56.95468, 53.4796, 38.8991, 18.22328, 40.71455, -37.81753, 30.235129999999998, -4.03479, 42.328070000000004, 51.50632, 38.8991, 36.0632, -14.242920000000002, 51.52328, 47.565, 46.44231, 52.478590000000004, 34.053490000000004, 35.2225, 34.053490000000004, 48.43434, 51.7562, 34.053490000000004, 27.940170000000002, 34.053490000000004, 34.26624, 34.09834, 35.830729999999996, 35.68094, 35.48703, 40.190329999999996, 40.8079, 41.517759999999996, 41.41013, 37.77916, 38.8991, -34.60852, 35.82213, 18.22328, 18.11526, 52.51606999999999, 42.33168, 7.335319999999999, 51.52328, 13.111989999999999, 31.1689, 48.20254, 35.00459, 34.36401, 42.31256, 33.674659999999996, -36.35484, 40.72023, 42.88544, 42.31256, 40.99471, 53.79449, 53.07516, 40.71455, 40.65507, 38.8991, 39.76618, 34.560390000000005, 32.67828, 47.603559999999995, 36.49905, 46.23518, 31.1689, 53.41961, -34.60852, 27.530920000000002, 30.083740000000002, 40.731970000000004, 35.52069, 52.478590000000004, 31.553790000000003, 40.71455, 41.88415, 43.58828, 40.71455, -24.9162, 40.69214, 49.34463, 36.690940000000005, -23.56287, 41.41013, 32.29869, -37.81753, -34.60852, 30.9742, -37.81753, 43.648559999999996, 51.50632, 51.50632, 37.271879999999996, 51.50632, 31.1689, 43.57607, 36.16778, 40.65507, 40.71455, 36.16778, 33.993629999999996, 40.71455, 38.03213, 35.48703, 41.88415, 42.25147, 32.58507, 27.9758, 51.16418, 51.55615, 51.50632, 32.77815, 33.46725, 36.16778, 30.083740000000002, 33.52029, 19.45565, 38.8235, 21.511020000000002, 18.11526, 52.40698, 43.58828, 43.29368, 52.478590000000004, 42.548429999999996, 41.88415, 34.053490000000004, 31.759159999999998, 53.45644, 40.71455, 26.27249, 53.79449, 36.16778, 33.542429999999996, 40.71455, 18.46617, 43.648559999999996, 32.67828, 55.67631, -24.9162, 54.314069999999994, 40.792629999999996, 50.933640000000004, 39.95227, 49.89942, 19.4319, 53.343759999999996, 38.99792, 53.343759999999996, 40.71455, 40.587509999999995, 40.731970000000004, 52.883559999999996, 39.95227, 33.993629999999996, 62.19845, 34.60515, 54.977909999999994, 49.38426, -37.81753, 34.053490000000004, 29.95369, 53.41961, 39.95227, 37.77916, 40.67856, 4.65637, 42.31256, 31.307570000000002, 41.88415, 41.88415, 35.830729999999996, 51.16418, 40.71455, 35.830729999999996, 40.71455, -33.919059999999995, 30.33138, 32.74863, 40.7174, 30.33138, 45.494409999999995, 14.635539999999999, 51.50632, 40.143229999999996, 36.0632, 37.16793, 18.11526, 44.00118, 40.99471, 39.49974, 40.71455, 32.77815, 46.8132, 62.19845, 35.03731, 54.5958, 40.71455, 41.58979, -36.35484, 52.883559999999996, 32.67828, 31.1689, 37.77916, 30.2676, 34.16612, 53.343759999999996, 29.424490000000002, 31.30627, 35.830729999999996, 6.47279, 10.73445, 34.053490000000004, 56.65286, 51.50632, 34.14632, 43.57607, 31.1689, 32.67828, 53.89128, 40.71455, 23.1168, 46.71067, 33.74831, 38.8235, 27.940170000000002, 46.71067, 34.053490000000004, 30.996879999999997, 34.053490000000004, 32.61436, 40.994709, 40.65507, 42.328070000000004, 42.33168, 50.933640000000004, 37.97615, 36.16778, 17.57975, 50.50101, 48.85692, 41.88415, 42.548429999999996, 38.8991, 37.271879999999996, 30.19145, 51.50632, 37.77916, 35.046440000000004, 35.830729999999996, 51.4855, 52.51606999999999, 51.50632, 40.10216, 40.71455, 46.71067, 52.94922, 38.2589, 29.424490000000002, 18.11526, 49.01037, 40.790859999999995, 41.05182, 38.62774, 40.65507, 41.88415, 37.77916, 30.2676, 31.901429999999998, 42.33168, 38.62774, 53.79449, 33.74831, 35.830729999999996, 31.1689, 42.73383, 47.25513, 51.50632, 34.7519, 40.731970000000004, 40.71455, 51.16418, 53.409769999999995, -34.60852, 33.71197, 43.04181, 37.77916, 37.8695, 38.8991, 6.47279, 33.626459999999994, 52.478590000000004, 40.71455, 23.1168, 35.21962, 53.41961, 31.1689, 63.03654, 41.307109999999994, 18.015710000000002, 41.88415, 35.82213, 37.77916, 46.71067, 40.71455, 43.00029, 38.25486, 42.28107, 18.015710000000002, 37.44466, 52.883559999999996, 37.271879999999996, 51.50632, 32.67828, 46.97933, 37.16793, 48.884370000000004, 34.26624, 41.41013, 30.235129999999998, 39.95227, 40.71455, 44.115590000000005, 29.95369, 51.4855, 37.77916, 40.731970000000004, 39.739259999999994, 40.85715, 32.58507, 48.85692, 34.16788, 51.16418, 30.9742, 40.99471, 37.77916, 34.053490000000004, 56.153, 38.913909999999994, -37.90019, 34.234970000000004, 35.2225, 56.65286, 26.30116, 43.57607, 42.33168, 29.76045, 69.65101999999999, 37.16793, 34.74865, 28.33268, 51.50632, 33.6671, 23.1168, 46.44231, 40.75851, -34.60852, 40.8079, 37.82245, 51.50632, 39.739259999999994, 33.74831, -22.96566, 39.75911, -4.03479, 38.41982, 53.26265, 34.053490000000004, 40.71455, 39.49974, 46.71067, 36.16778, 34.053490000000004, 42.33168, 16.85576, 29.95369, 43.87165, 37.271879999999996, 26.30116, 32.58507, 40.71455, 33.35303, 33.6671, 44.00118, -25.7458, 49.26044, 34.053490000000004, 37.97615, 36.0632, 60.3907, 35.74595, 34.053490000000004, 30.79062, 32.34973, 40.69214, 35.67048, 30.08615, 40.792629999999996, 37.77916, 32.67828, 19.59009, 42.31256, 35.830729999999996, 34.053490000000004, 34.053490000000004, 44.80171, 52.40698, 19.45565, 31.1689, 32.58507, -6.1714400000000005, 42.18419, 32.67828, 51.50632, 29.76045, 33.74831, 48.10751, 34.053490000000004, 40.71455, -24.9162, 40.71455, 30.2676, 37.20897, 59.13349, 40.85715, 37.77916, 31.1689, 34.053490000000004, 50.67109, 41.88415, 51.50632, 30.2676, 52.883559999999996, 52.478590000000004, 35.830729999999996, 33.6671, 23.1168, 53.07516, 37.77916, 34.16788, 40.99471, 52.05777, 39.37413, 53.79449, 35.14968, 37.82245, 26.30116, 34.053490000000004, 46.8132, 32.462920000000004, 24.554389999999998, 48.20254, 30.420840000000002, -34.60852, 34.053490000000004, 49.38426, 40.71455, 30.33138, 30.4951, 51.77045, 47.25513, 34.053490000000004, 48.85692, 36.97402, 43.07295, 45.60718, 43.57607, 41.58979, 40.71455, 34.16788, 32.74863, 34.053490000000004, 51.50632, 23.1168, 40.71455, 31.307570000000002, 39.95227, 44.16104, -14.242920000000002, 42.33168, 40.731970000000004, 33.74831, 52.478590000000004, 34.053490000000004, 37.77916, 40.71455, 37.76509, 37.77916, 53.553340000000006, 39.10644, 53.41961, 40.8079, 42.31256, 64.55653000000001, 36.16778, 40.71455, -22.97673, 37.271879999999996, 35.52069, 34.19767, 37.4876, 42.31256, 40.190329999999996, 32.61436, 36.06899, 38.62774, 40.143229999999996, 52.478590000000004, 40.99471, 18.11526, 40.71455, 38.99792, 46.71067, 48.85692, 35.472, 40.792629999999996, 40.71455, 40.826240000000006, 36.0632, 42.548429999999996, 51.50632, 31.1689, 46.8132, 34.16788, 39.74023, 48.85692, 56.65286, 18.46617, 30.2676, 41.88415, 52.883559999999996, 50.82607, -33.96243, 35.6139, 31.1689, 35.830729999999996, 51.50632, 51.48126, 42.33168, 54.314069999999994, 40.71455, 23.0833, 54.314069999999994, 38.8235, 36.16778, 40.71455, 46.97933, 40.71455, 39.10295, 41.88415, 51.16418, 51.50632, 64.55653000000001, 42.7316, 48.85692, 34.053490000000004, 32.58507, 34.053490000000004, 51.31476, 41.52493, 33.45081, 34.053490000000004, 40.852509999999995, 37.28848, 54.6904, 36.06899, 31.901429999999998, 38.62774, 27.940170000000002, 41.260690000000004, -10.68641, 37.59791, 46.53338, 35.99527, 18.11526, 32.29869, 42.3519, 35.830729999999996, 32.67828, 7.378839999999999, 34.053490000000004, 33.53584, 35.14968, 38.62774, 27.9758, 38.99792, 31.19224, 39.75911, 32.71568, 35.830729999999996, 37.82245, 31.30627, 39.55792, -33.96243], \"legendgroup\": \"\", \"lon\": [-90.04892, -80.01955, -79.38533000000001, -95.84501999999999, -94.02978, -77.029, 15.474910000000001, -74.47995, -94.35868, -83.22295, -73.94511999999999, -74.17418, -87.63241, -82.32547, -73.83168, -94.10158, -98.49462, -118.24531999999999, -83.04791999999999, -0.12714, -79.05660999999999, -89.51876999999999, -96.7954, 13.37698, -46.65466, -118.24531999999999, -0.12714, -3.53444, -122.42005, 144.96715, -86.77835999999999, 133.39311, -77.27348, -81.69074, -74.00712, 12.66538, 1.71819, -93.50243, -88.91599000000001, -82.45926999999999, -86.8115, -2.2488099999999998, -74.00712, 10.20452, -91.65700000000001, -86.77835999999999, -122.42005, -76.79731, -91.03786, -122.42005, -77.60454, -74.00712, -85.01235, -87.63241, -77.029, -91.56123000000001, -71.08868000000001, -84.59334, -74.00712, -85.59012, -97.74298, -2.23218, -123.2079, 5.32986, -98.52102, -80.46935, 4.87137, -122.42005, -83.04791999999999, -122.32943999999999, -6.134869999999999, -102.4102, -93.29156, -95.82333, -118.49229, -1.97406, -122.71242, -74.72671, -95.84501999999999, -74.00712, -81.69074, -72.92483, -0.12714, -96.0878, -84.39111, -120.51483999999999, -0.12714, -5.93494, 8.938889999999999, -74.00712, -74.00712, -90.10785, -2.10633, -89.38669, -46.65466, -100.07715, -86.77835999999999, -89.60585999999999, 0.17898, -118.24531999999999, -90.645, 17.55142, -118.24531999999999, -81.6558, -79.38533000000001, -0.12714, -90.53726999999999, -76.79731, -94.02978, -74.72671, -74.72671, 0.48883000000000004, -87.90684, -3.9966699999999995, -95.15261, -118.24531999999999, -1.2078799999999998, -121.94486, -75.16237, -74.12374, -74.72671, -91.85307, -99.13285, -2.9676099999999996, 6.1427, -1.9086, -118.24531999999999, -96.92803, -81.37739, -74.00712, -122.42005, -77.60454, -111.54732, -0.12714, -122.42005, -86.77835999999999, 9.51695, 15.9676, -80.11278, -97.32925, -73.96644, -87.63241, -41.9952, -73.88136999999999, -98.38983, -118.24531999999999, -117.75801000000001, -82.32547, -90.04892, -77.60454, -74.00712, -84.36354, 7.01815, -118.24531999999999, -122.42005, -111.9307, -79.38533000000001, 2.26934, -77.80679, -74.00712, -85.7664, -96.83464000000001, -73.94888, -0.12714, 7.01815, -3.18067, -79.38533000000001, -118.24531999999999, -118.24531999999999, -77.27348, 7.01815, 1.71819, -118.24531999999999, -117.75801000000001, 17.55142, -117.76505, -90.14988000000001, -81.54106, -88.59583, -88.95535, 14.39059, -0.12714, 5.33275, -74.00712, -103.2833, -90.64208, -72.92496, -97.52033, -80.01955, -86.77835999999999, -100.07715, -1.97406, -118.24531999999999, -8.24055, -89.77895, -74.00712, -81.6558, -73.19906999999999, -40.77105, -98.49462, 26.06739, -83.22295, -91.52382, -0.12714, -100.07715, -80.01955, -111.9307, -118.24802, -90.35591, 0.64255, -73.94888, -1.97406, -74.00712, -90.10785, -87.63241, -85.97874, -99.13285, 144.96715, -73.85678, -74.72671, -76.27503, -66.42889, -71.08868000000001, 26.83776, 13.1876, -83.13701999999999, -118.24531999999999, -73.85678, -84.62167, -92.13055, -90.59239000000001, -83.22295, -123.2079, -96.78175999999999, -90.04892, -0.12714, -0.39535, 18.421960000000002, 12.66538, -1.14392, -73.55439, -93.14939, -46.65466, -118.24531999999999, -96.7954, 13.37698, 13.49942, -118.50119, -71.56889, -0.12714, -75.16237, -73.80816999999999, -84.98763000000001, -75.16237, -73.54223, -2.23001, 4.87137, -92.26831, -83.04791999999999, 28.391309999999997, -74.72671, -91.52382, -118.24531999999999, -155.43413999999999, -71.08868000000001, -2.23218, -87.90684, 3.06281, -58.373540000000006, -119.27023, -122.39293, -2.2488099999999998, 16.3688, -79.77127, -118.24531999999999, -100.07715, -96.63166, -122.42005, -1.61237, -94.365, -87.21724, -83.22295, -83.00298000000001, -82.14039, -0.12714, -91.25019, -97.49553, -5.93494, 4.37967, -90.07771, -1.14392, -71.6342, 13.37698, -88.35068000000001, -0.12714, -83.74416, -120.95071000000002, -43.19508, -63.58481, -90.60536, -110.94695, -118.24531999999999, 21.75627, 7.01815, -1.14392, -0.12714, -3.18067, -88.70307, -97.32925, -74.17418, 2.38596, -90.04892, -0.12714, -76.79731, -81.54106, -122.62568999999999, -93.92938000000001, -97.52033, -83.22295, -80.01955, -122.27301999999999, -100.07715, -97.49553, -73.94888, -87.63241, -95.84501999999999, -118.24531999999999, -73.94888, 3.8952699999999996, -74.00712, -76.79731, -76.79731, -77.80679, -75.16237, -96.7954, -0.25969000000000003, -122.42005, -90.04892, -87.63241, -96.56183, 23.73641, 8.22395, -84.19444, -73.94888, -100.07715, -94.68121, -97.52033, -118.24531999999999, -77.71758, -117.24681000000001, -74.17418, -0.12714, -93.26493, 9.51695, -90.645, 7.28021, -90.645, -79.38533000000001, -122.39293, 4.47684, 108.83178000000001, -80.9474, -121.74476999999999, 18.06243, -2.10679, -85.38173, -90.10785, -59.59895, -111.9307, -0.12714, -81.37739, -87.90684, -121.94345, -6.24953, -58.373540000000006, -82.66946999999999, -71.28109, -83.04791999999999, -100.07715, -83.04791999999999, -118.24531999999999, -96.78175999999999, -101.69814000000001, -84.75627, -80.99001, -73.9454, -77.27348, -118.24531999999999, -77.27348, -41.9952, -66.58904, -74.00712, 6.1427, -74.00712, -80.01955, -2.23218, -2.10679, -99.13285, -54.38783000000001, -76.79731, -122.32943999999999, -118.50119, -71.08868000000001, -92.43659, -76.79731, -85.59012, -76.79731, -92.58685, -97.49553, -118.24531999999999, -81.6558, -96.92803, 24.49511, -58.373540000000006, -112.18628000000001, -76.79731, -81.54106, -0.12714, -86.77835999999999, -83.80489, -90.44116, -85.7664, -88.91599000000001, -92.08238, -77.02659, -73.94888, 6.1427, -74.17418, -8.24055, -74.00712, -0.12714, -122.42005, 2.40955, -84.39111, -74.00712, -97.74298, -2.10679, -119.27023, -100.07715, 1.31388, -77.3819, -74.72671, -74.00712, -2.10679, -77.27348, -1.9086, -82.7603, -97.52033, -89.8643, -118.24531999999999, -37.42475, -58.373540000000006, -80.07691, 0.64255, -90.91386999999999, -2.23001, -1.2323, -71.08868000000001, -122.16078999999999, -80.01955, -89.87374, 0.48883000000000004, -0.12714, 17.55142, -111.54732, -43.19508, -98.38983, -88.94561, 9.67464, -122.27301999999999, -59.59895, -118.24531999999999, -118.24531999999999, -74.00712, -74.00712, -110.96975, -54.38783000000001, -86.78916, -101.85587, -1.0318200000000002, -85.30946, -83.18186, -90.9564, -88.35068000000001, -84.39111, -87.63241, -119.27023, -8.24055, -74.00712, -78.89601, -88.95535, -82.7603, -0.12714, -107.55405, -119.27023, 135.50323, 8.22395, -82.45926999999999, 31.255359999999996, -83.22295, -120.51483999999999, 1.71819, -76.79731, -74.00712, -96.7954, -96.0878, 4.37967, -88.94561, -90.645, -90.33078, -77.029, -84.10729, -111.9307, -2.23001, -9.401019999999999, -118.24531999999999, -118.24531999999999, -58.373540000000006, -86.77835999999999, -74.17418, -104.99226000000002, -80.14356, -84.59431, -84.59431, -0.12714, -1.9086, 2.34121, -74.00712, -122.42005, -121.88578999999999, -89.5647, -74.00712, -85.7664, -75.16237, -1.9086, -74.00712, -74.00712, -46.65466, -1.09712, -117.37388, -75.69189, -73.94888, -87.63241, -73.13585, -101.04893, -84.39111, 3.72856, -79.38533000000001, -83.7336, 139.74092, -100.07715, -7.844810000000001, -1.2078799999999998, -0.12714, -83.04791999999999, -90.07771, -83.18186, -3.53444, 1.71819, -87.77891, -92.43659, -90.05202, -0.12714, -74.00712, -118.24531999999999, 25.48312, -79.7947, -85.97874, -123.11403, -90.07771, -81.24620999999999, -79.7947, -95.84501999999999, -90.9564, -93.26493, -83.04791999999999, -66.10665, -81.6558, 12.56935, 4.34968, -122.32943999999999, -96.56183, -80.83754, -110.94695, -86.68073000000001, -84.59431, -2.23218, -119.27023, -84.62167, 8.80466, -122.42005, 9.99245, -4.486219999999999, 13.37698, -89.53175999999999, 139.83829, -95.93995, -122.27301999999999, -83.04791999999999, 10.20452, -90.19951, -74.72671, -74.00712, -120.51483999999999, -89.58828000000001, -92.58685, -91.52382, -85.97874, -77.27348, 7.28021, -95.99277, -118.24531999999999, 35.48527, -58.373540000000006, -94.10158, -122.71242, -88.20449, -122.42005, -90.18043, -74.00712, 24.932579999999998, -81.69074, -97.74298, -89.10826999999999, -0.12714, -86.44105, -73.94511999999999, -2.63265, -0.12714, -58.373540000000006, 1.71819, -122.32943999999999, -74.00712, -82.4167, 15.06744, -83.80489, -94.02978, -2.10679, -80.83754, -80.65079, 2.40955, -90.18049, -118.24531999999999, -0.12714, -119.27023, -0.12714, -84.25274, -78.87846, -81.54106, -83.04791999999999, 34.88519, -79.77127, -121.94345, -0.12714, -0.23396, -83.80489, -95.3756, 12.66538, -89.58828000000001, -83.7336, -85.97874, -97.74298, 0.17898, -89.38669, 0.17898, -63.573919999999994, -74.00712, -0.12714, -0.12714, -74.007118, -92.01705, -111.54732, 23.73641, 12.57347, -82.4167, 2.38596, -122.27301999999999, -90.07771, 174.76713999999998, -92.43659, -71.28109, -86.10269, -43.19508, -82.50293, 7.6244, 2.34121, -92.26831, -71.6342, -89.26212, -82.45926999999999, -119.27023, -70.70719, -83.04791999999999, -122.27301999999999, -83.04791999999999, -79.38533000000001, -1.2078799999999998, -76.79731, -81.6558, -58.373540000000006, -87.63241, -96.7954, -118.24531999999999, -0.12714, -77.029, -92.13055, -101.04893, -89.87374, -89.58776, 0.64255, -76.29771, -72.45165, -77.80679, -115.13996999999999, -80.23742, -76.6096, -92.43659, 35.48527, -74.1148, -74.11779, -74.00712, -78.87846, -118.24531999999999, -1.53179, -117.76505, -98.32023000000001, -97.14305999999999, -90.18049, -74.00712, -1.97406, -118.24531999999999, -118.24531999999999, -74.72671, -90.19951, -95.84501999999999, -122.32943999999999, -122.03095, -90.53726999999999, -90.44116, -118.94151000000001, -81.6558, -80.11278, -95.84501999999999, -90.59005, -79.7947, 6.1427, -71.08868000000001, -75.16237, -123.36451000000001, -95.99277, -76.62184, -74.00712, -2.2488099999999998, -77.60454, -98.38983, -77.029, -76.27503, -71.71818, -121.74476999999999, -74.12374, -122.67563, 24.932579999999998, -95.82333, -1.97406, -98.49462, -93.61565999999999, -77.029, -93.92938000000001, -92.43659, -71.41199, -74.57555, -76.79731, -100.07715, 35.48527, -95.84501999999999, -80.07691, -83.04791999999999, -84.19444, -87.63241, -8.24055, -74.00712, -1.8153099999999998, -74.00712, 6.1427, -80.01955, -105.55096, -111.9307, -96.92483, -81.37739, -118.24531999999999, -80.14356, -58.373540000000006, -73.9454, 12.56935, -89.58828000000001, -118.24531999999999, -93.26493, -119.27023, -89.50409, -76.47933, -77.029, 1.14378, -77.80679, -98.1607, -58.373540000000006, -85.97874, -74.17418, -105.55096, -98.49462, -77.80679, 13.37698, -90.18049, 8.938889999999999, -1.50776, -82.38859000000001, -73.9454, 17.55142, -91.96148000000001, -8.24055, -80.83754, -89.50409, -122.42005, -118.24531999999999, -93.14939, -96.63166, -75.16237, -117.02258, -95.84501999999999, 12.57347, 3.06281, 151.20695, -79.38533000000001, -90.645, -83.22295, -90.18049, -100.07715, -98.38983, 113.9174, -100.07715, -2.97848, -66.6149, -118.24531999999999, -100.89818000000001, -81.54106, -71.07352, -123.11403, -4.13689, -9.401019999999999, -118.24531999999999, -80.99001, -89.87374, -118.24531999999999, -83.80489, -0.12714, -75.16237, -80.83754, -76.29771, -98.49462, -118.24531999999999, -81.54106, -90.14988000000001, -79.38533000000001, -86.77835999999999, -102.4102, -97.14074000000001, -1.54508, -74.72671, -89.00018, -73.94511999999999, -73.94888, -79.87162, -96.89774, -118.24531999999999, -4.24251, -80.01955, 174.76713999999998, -97.74298, -84.75627, -77.27348, -97.74298, 174.76713999999998, -0.12714, -118.24531999999999, -121.94345, -90.5651, -75.16237, -86.77835999999999, -54.38783000000001, -85.59012, -1.08342, -94.02978, 10.23522, -71.01724, -76.79731, -83.04791999999999, -6.24953, -86.77835999999999, -75.16237, -1.2323, -83.7336, -74.00712, 8.73299, -83.04791999999999, -71.08868000000001, -80.25305999999999, -119.27023, -90.44116, -97.32925, -118.24531999999999, -74.00712, -74.00712, -93.6202, -78.89601, -92.43659, -73.94888, -4.13689, -74.00712, -87.67525, -96.7954, -118.24531999999999, -84.98763000000001, -74.27362, -72.92496, -85.97567, -119.05505, -149.10568, -77.80679, 146.32611, -77.27348, -81.69074, -118.24531999999999, -80.01955, -95.93995, -92.13055, -81.54106, -81.37739, 1.71819, -94.82807, -3.18067, -118.24531999999999, -104.99226000000002, -74.00712, -79.4138, 8.30437, -123.2079, -89.53175999999999, -73.85678, 10.45415, -74.00712, -36.74328, -75.16237, 4.47684, -118.24531999999999, -79.14284, 22.95775, 13.49942, -8.47277, -91.03786, -73.85678, -73.94888, -98.30897, 18.28471, -85.59012, -118.24531999999999, -0.12714, -80.83754, 17.55142, -81.37739, -118.24531999999999, -0.12714, 17.55142, -75.92381, -98.52102, -59.59895, -74.72671, -71.6342, -118.24531999999999, -73.94888, -0.12714, 12.57347, -80.01955, -92.11789, -122.39293, -82.66946999999999, -87.63241, 139.74092, -74.17418, -101.04893, -100.07715, 4.34968, -94.35887, -71.28109, -98.49462, -87.63241, -86.68073000000001, -0.12714, -84.39111, -89.00018, -2.23218, -94.35887, -4.24251, -74.00712, 0.47791000000000006, -90.49217, -118.50119, 17.55142, -73.94511999999999, -118.24531999999999, -118.24531999999999, -1.5465799999999998, 2.40955, 17.55142, 18.06243, -122.42005, -92.43659, 9.99245, -95.36978, -94.58306, 1.71819, -2.9676099999999996, -73.94888, -93.97961, -3.53444, -90.10126, 20.46414, -98.49462, -74.00712, -0.18703, -120.51483999999999, 2.34121, -74.00712, -120.51483999999999, -87.63241, -79.38533000000001, -91.52382, -97.74298, -95.84501999999999, -89.51876999999999, -83.22295, -71.08868000000001, -73.41853, -97.74298, -95.93995, 12.56935, -118.24531999999999, 9.99245, 11.02307, -0.12714, -74.17418, -97.00189, 13.37698, -74.18893, -77.97559, -81.69074, -97.74298, -75.92381, -87.63241, -74.17418, -92.26831, -110.94695, -99.68095, 2.38596, -87.63241, -117.16171999999999, -1.97406, -118.1924, -80.01955, -122.27301999999999, -87.63241, -85.97874, -87.21724, -86.77835999999999, -94.82807, -122.42005, -5.93494, -95.84501999999999, -80.01955, -118.24531999999999, -72.75753, 9.17192, -77.029, -8.24055, -89.87374, -90.10785, -92.58685, -85.67869, 18.421960000000002, -118.24531999999999, -0.12714, -94.15791, -4.42016, -74.00712, -79.38533000000001, -90.18049, -73.9454, -76.47933, -74.7594, -2.2488099999999998, 1.71819, -74.00712, -0.99603, -74.72671, -82.7603, -162.4365, -97.74298, -92.01705, -123.2079, -84.19444, -101.95625, -90.19951, 12.66538, -98.30897, -79.76906, -90.645, -68.43114, -117.97091999999999, -118.24531999999999, -99.50200000000001, -71.08868000000001, 21.75627, -73.85678, 23.73641, -105.55096, -74.00712, -0.12714, -0.12714, -77.029, -118.24531999999999, -95.82333, -80.46935, -1.97406, -74.00712, -85.97567, -81.54106, -109.67097, -97.74298, 16.3688, 0.64255, -119.27023, -1.53179, 133.39311, -149.10568, -122.42005, -84.19444, -3.7906800000000005, -88.94561, -72.92496, 8.4092, 1.71819, 33.43009, 2.3584, -77.60454, -75.16237, -118.24531999999999, -118.24531999999999, -98.49462, -3.18067, 13.37698, -73.93918000000001, -0.12714, -73.85678, -74.00712, -83.04791999999999, 1.71819, -84.59334, -75.16237, 2.34121, -118.94151000000001, -0.12714, -102.4102, -81.72239, -77.27348, -74.00712, -74.00712, -100.07715, -95.97585, 2.29005, -86.8115, -75.66079, -83.7826, 8.30437, -89.87374, -114.99993, -86.8115, -80.01955, -74.00712, -80.46935, -99.50200000000001, -71.08868000000001, -107.55405, -117.76505, -43.19508, -74.00712, -90.9564, -74.00712, -84.59431, -90.07771, -2.2488099999999998, -1.54508, 6.6323300000000005, -118.24531999999999, -118.24531999999999, -89.10826999999999, 12.90542, -85.30946, -73.94888, -74.17418, -73.9454, 7.6244, -77.27348, -90.04892, -85.69091, -121.07887, -74.00712, -72.92496, -73.94888, -76.6096, -84.19444, 16.3688, -119.27023, -2.10679, -68.43114, -90.53726999999999, -66.58904, -74.04323000000001, -93.2393, -98.70853000000001, -90.19951, -79.38533000000001, -85.97874, -74.00712, -79.38533000000001, -87.63241, -122.42005, -89.50409, -80.01955, -84.59431, -81.72239, -118.4164, -102.4102, -84.59431, -76.79731, -92.43659, -82.38859000000001, -81.6558, -77.029, 13.37698, -0.33555999999999997, -74.00712, -86.77835999999999, -89.50409, -90.19951, -117.76505, -89.60585999999999, -71.07352, -119.05505, -86.77835999999999, -83.04791999999999, -93.58068, -83.04791999999999, 13.37698, -122.03095, -97.49553, -6.24953, -81.54106, -77.02659, -88.94561, 8.4092, -0.12714, -95.93995, -72.92496, -0.12714, -80.01955, -71.6342, 0.48883000000000004, 1.14378, -122.42005, -118.24531999999999, -74.00712, -71.71818, -88.70307, -93.14939, -2.23218, -114.14328, 35.48527, -87.63241, -95.84501999999999, -75.16237, -117.76505, -118.24531999999999, -96.89774, -77.60454, -73.93585, -2.63265, -86.77835999999999, -8.24055, -90.04892, -75.92381, -84.19444, -92.01705, 9.3667, -76.79731, -94.10158, -76.6096, -75.92381, -0.12714, -8.47277, -85.97874, -74.00712, -0.12714, -76.79731, -0.12714, -90.645, 4.062119999999999, -119.27023, -80.46935, -95.84501999999999, -98.49462, -85.97874, -90.07771, -102.61916, -97.52033, -74.00712, -89.87374, -77.27348, 108.83178000000001, -95.36978, 24.6075, -58.373540000000006, 22.95775, -100.07715, -90.5651, 4.47684, -90.44116, 0.64255, -74.00712, 2.29005, -73.54223, -81.54106, 31.255359999999996, -100.07715, -95.84501999999999, -117.02258, 2.62879, -73.9454, -0.12714, 26.06739, -100.07715, -80.01955, -84.50469, -74.00712, -86.8115, -72.59378000000001, -87.63241, -84.19444, -119.27023, -89.8643, -96.7954, -74.00712, -82.45926999999999, -84.75627, -81.54106, -97.32925, -77.029, -100.07715, -82.7603, -118.39981, -63.58481, 7.66379, -1.54508, -87.63241, -90.59005, -96.78175999999999, -71.56889, -118.24531999999999, -87.63241, -122.32943999999999, -0.12714, -95.2943, -73.94888, 2.40955, 12.66538, -122.42005, -74.00712, -74.00712, -119.27023, -54.38783000000001, -91.56123000000001, -122.42005, -83.00298000000001, -95.36978, -92.01705, -80.83754, -96.7954, -89.87374, -85.97874, -79.7947, -73.94888, -90.59005, -73.13585, -0.21345999999999998, -74.00712, -8.24055, -118.24531999999999, 2.34121, -0.12714, 2.17005, -118.24531999999999, -117.76505, -84.39111, 12.66538, -0.12714, 24.932579999999998, -122.27301999999999, -73.9454, -1.14392, -95.93995, -119.27023, -98.30897, -122.27301999999999, -74.20991, -89.87374, 25.75129, -0.12714, 2.34121, -76.79731, -118.24531999999999, -90.06146, -74.00712, 16.3688, -74.7594, -7.844810000000001, -80.99001, -121.94486, -99.50200000000001, -90.645, -74.00712, -74.00712, -77.80679, -90.9564, -89.50409, -74.00712, -0.12714, -76.79731, -89.00018, -89.87374, -119.69887, -1.53179, -94.82807, -122.42005, -0.12714, -119.27023, 2.34121, -118.39535, -58.373540000000006, -100.07715, 8.73299, -75.16237, 25.623260000000002, -75.16237, -1.53179, -77.27348, -119.27023, -119.69887, -91.56123000000001, 8.4092, 2.38596, -74.00712, -1.46454, -94.35887, -83.18186, 69.86799, -87.63241, -118.24531999999999, -122.39293, -77.71758, -74.11779, -74.00712, -87.63241, -106.07218, -102.4102, -72.75753, -79.38533000000001, -74.00712, -118.24531999999999, -95.36978, -101.85587, -89.38669, 17.55142, -118.24531999999999, -90.71913, -86.77835999999999, -74.17418, -74.00712, -95.6802, -90.645, -59.59895, -90.30507, -74.00712, -43.19508, -98.49462, -77.80679, -63.573919999999994, 10.74998, -3.18067, -83.04791999999999, -2.2488099999999998, -89.87374, -74.00712, -91.96148000000001, -83.22295, -74.72671, 16.3688, -95.93995, -81.69074, -91.52382, -92.13055, -0.21345999999999998, -84.28065, -78.47753, -76.79731, -118.24531999999999, 174.76713999999998, -80.01955, -74.00712, -75.16237, 1.71819, -3.9988300000000003, -74.00712, 1.71819, -96.89774, -95.84501999999999, -84.39111, -118.24531999999999, 26.83776, -100.07715, -89.60585999999999, -77.60454, -90.10126, -118.24531999999999, -59.59895, -43.19508, -71.08868000000001, -74.00712, -89.10826999999999, -4.486219999999999, -0.18703, -79.38533000000001, -118.24531999999999, -90.07771, -74.17418, -98.30897, -82.4167, -84.39111, -90.18043, -73.93585, -100.07715, 133.39311, -86.77835999999999, -74.00712, -80.01955, -85.69091, -91.52382, -97.74298, -74.29504, 144.96715, -2.9676099999999996, 8.4092, -66.42889, -82.50293, 10.45415, -84.39111, -91.52382, -122.62568999999999, 1.71819, -119.27023, -76.27503, -84.62167, -84.62167, -122.42005, -95.84501999999999, -94.35887, -84.62167, -83.04791999999999, -89.50409, -123.08854, -87.63241, -73.94888, 18.28471, 16.3688, -73.94888, 23.73641, -4.24251, -122.42005, -118.24531999999999, -93.50243, -74.00712, -100.07715, -83.04791999999999, -2.6797299999999997, -73.9454, -84.39111, -73.24922, 24.49511, -81.54106, -89.50409, -97.32925, -81.69074, -89.87374, -72.09647, -73.85678, -1.97406, -1.2078799999999998, -89.10826999999999, -0.47261000000000003, 6.1427, -86.8115, 7.121230000000001, 10.45415, -74.00712, -118.24531999999999, -79.38533000000001, 2.34121, -84.39111, 5.32986, -74.20991, -87.63241, -4.486219999999999, -86.77835999999999, -73.9454, -92.43659, -73.54223, -118.24531999999999, -74.00712, -118.24531999999999, -76.79731, -71.08868000000001, 6.1427, -71.71818, -110.94695, -77.27348, 21.75627, -1.2323, -88.23546, -89.87374, -86.89775, -1.97406, -0.12714, -0.12714, -74.00712, -0.12714, -83.7336, -118.24531999999999, -117.76505, -72.75753, -0.12714, -87.63241, -90.18049, -1.9086, 22.95775, -94.10158, -95.3756, -74.00712, -74.00712, -1.8153099999999998, -71.08868000000001, -118.24531999999999, -74.00712, -122.42005, -74.00712, -74.00712, 10.45415, -37.42475, -118.24531999999999, -6.24953, -9.401019999999999, -87.90684, -80.23742, 24.49511, -79.38533000000001, -122.39293, -95.36978, 2.29005, -86.30063, -84.39111, -86.28641, -114.99993, -74.72671, -97.52033, -83.04791999999999, -87.63241, 144.96715, -90.60536, 7.28021, -58.373540000000006, -89.26212, 6.6323300000000005, -93.61565999999999, -74.00712, -2.63265, -74.00712, -85.7664, 0.17898, -77.41203, 5.33275, -85.67869, -83.80489, -79.79854, -0.12714, -75.16237, -0.12714, -80.01955, -97.52033, 1.71819, -2.2488099999999998, -93.26493, -73.85678, -97.52033, 10.23522, -119.27023, -71.41199, -122.42005, 2.40955, -73.61689, -123.2079, -96.56183, -80.73486, -1.9086, -90.06146, -77.80679, 145.08084, -75.16237, 13.22305, -92.43659, -119.27023, -76.62118000000001, -85.7664, -0.39535, -84.59431, 8.67425, -77.029, -89.50409, -118.24531999999999, -74.00712, -99.50200000000001, -85.97874, -76.79731, -2.10679, -1.14392, -1.2078799999999998, -91.52382, -85.97874, -111.9307, -0.12714, -74.17418, -87.63241, -118.24531999999999, 10.74998, -96.7954, -2.23001, -82.45926999999999, -80.14356, -0.21345999999999998, -90.04892, 12.66538, -88.7493, -84.36354, 2.40955, -75.16237, -93.26493, -66.10665, 10.45415, -119.27023, 144.96715, -71.56889, -93.26493, 1.14378, 12.66538, -73.94888, -82.66946999999999, -66.58904, -100.07715, -118.24531999999999, 3.72856, -73.94888, -100.07715, 10.45415, 24.49511, -118.24531999999999, -46.65466, -77.27348, 8.4092, 12.57347, -84.75627, -74.00712, -71.01724, -76.79731, 2.34121, -122.44165, -0.12714, -118.24531999999999, -91.56123000000001, -5.93494, -97.74298, -79.38533000000001, 24.6075, -96.92803, -1.5465799999999998, -1.97406, -79.77127, -123.11403, -94.10158, -111.9307, -58.373540000000006, -43.19508, -94.15791, 151.20695, -80.01955, -83.22295, -1.97406, -73.94888, -74.00712, -74.00712, -90.04892, -79.38533000000001, -66.42889, -77.34761999999999, -89.94049, -79.05660999999999, -79.38533000000001, -1.9086, -93.61565999999999, -1.97406, 108.83178000000001, -100.07715, -84.50469, -122.42005, -83.7336, -91.25019, -77.60454, -71.08868000000001, -76.6096, -74.00712, -83.04791999999999, -85.97874, -58.373540000000006, -71.08868000000001, -74.00712, -72.67407, -2.2488099999999998, -90.18049, -87.63241, -3.11499, -122.62568999999999, -91.03786, -123.11403, -105.55096, -118.39157, -77.80679, 17.55142, -117.97091999999999, -155.43413999999999, -95.96653, -66.42889, -122.42005, -77.27348, -97.00189, -100.07715, -119.27023, 3.06281, 2.26934, -111.9307, -91.25019, -96.7954, -85.97874, -74.154, -75.16237, -98.1607, 133.39311, -92.43659, -74.00712, 8.938889999999999, -0.56623, -98.38983, -74.72671, -90.645, -80.23742, -118.24531999999999, -122.27301999999999, -75.16237, -82.38859000000001, -95.15261, -79.77127, -95.93995, -73.94888, -81.69074, -3.7906800000000005, -1.2078799999999998, -76.79731, -122.32943999999999, -118.24531999999999, -89.58828000000001, -71.08868000000001, -117.76505, 1.71819, 18.70249, -77.27348, -118.24531999999999, -83.22295, -88.23546, -90.18049, -2.9676099999999996, -0.12714, -95.27023, -89.38669, 12.56935, -76.79731, -0.12714, -74.00712, -118.24531999999999, -3.11499, -83.22295, -90.07771, -90.07771, -122.27301999999999, -119.09456000000002, -74.04323000000001, 10.45415, -118.24531999999999, -96.0878, -84.39111, -1.6844700000000001, -155.43413999999999, -101.04893, -1.9086, -111.54732, -74.00712, -74.00712, -91.52382, -90.19951, 4.37967, -84.75627, 7.121230000000001, 145.77406000000002, -73.9454, 139.74092, -90.44116, -74.11779, -74.00712, 10.45415, -84.39111, -86.87093, -80.23742, -79.05660999999999, -122.18755, -90.645, -41.9952, -122.42005, -95.93995, -119.27023, 10.45415, -74.00712, -119.27023, -75.16237, -97.00189, 8.22395, -74.00712, -73.9454, -105.27923999999999, -118.49229, -111.9307, -73.93585, -119.09456000000002, -83.04791999999999, -96.92483, -162.4365, -85.67869, -83.04791999999999, -95.93995, -1.9086, -74.72671, -0.12714, 0.17898, -97.74298, -95.84501999999999, 17.55142, 26.83776, -93.26493, -81.69074, -74.72671, -90.18043, -90.18049, -79.77127, -87.63241, -79.38533000000001, -73.94888, -2.2488099999999998, -66.10665, 31.255359999999996, -1.97406, -86.77835999999999, -73.13585, -83.18186, 3.72856, 10.45415, -117.87393999999999, -0.14858, -76.79731, -75.16237, -84.50032, -122.42005, -76.79731, -111.9307, -85.97874, -73.55439, -0.12714, 2.40955, -100.07715, 24.49511, -3.18067, -74.00712, 26.06739, 0.64255, -90.04892, -92.13055, -74.00712, -85.69091, -122.42005, -122.42005, -118.24531999999999, -4.24251, 21.22327, 12.66538, -87.63241, -59.59895, -2.2488099999999998, -81.6558, -70.70719, -74.00712, -121.74476999999999, -77.60454, -96.7954, -89.00018, -1.5465799999999998, -118.24531999999999, -149.10568, -91.03786, -92.26831, -0.37196, -74.00712, -92.66601999999999, -89.77895, -80.83754, -0.12714, 11.96689, -122.42005, -73.85678, -90.5651, -119.27023, -100.07715, -81.54106, -80.99001, -77.60454, -2.2488099999999998, -2.23218, -66.42889, -80.01955, -79.38533000000001, -80.01955, -8.24055, -77.27348, -0.12714, -100.07715, -118.24531999999999, -93.8277, -100.07715, -100.07715, -87.63241, 12.39424, 21.22327, -95.93995, -88.95535, -84.10599, -84.36354, -66.42889, -1.46454, -114.99993, -119.27023, 11.96689, -118.24531999999999, -118.24531999999999, -72.75753, -118.24531999999999, -85.7664, -86.77835999999999, 3.06281, -92.01705, -100.07715, -0.12714, -81.69074, 17.64405, -91.56123000000001, -73.85678, 12.56935, -74.00712, -96.39998, -8.24055, -122.42005, -120.51483999999999, -1.14392, -2.23001, 4.34968, -96.7954, -96.92483, -89.50409, -118.24531999999999, -79.38533000000001, -87.21724, -122.42005, -74.00712, -118.39981, -3.53444, 106.82781999999999, -77.27348, -85.97874, -79.9316, -87.63241, -98.30897, -97.32925, -0.12714, -74.00712, -85.7664, -90.60536, -0.23396, -118.39535, -66.58904, -71.14565999999999, -0.58104, 22.95775, -66.42889, -119.27023, -118.24531999999999, -84.50469, 106.82781999999999, -118.24531999999999, -2.2488099999999998, -110.94695, -122.42005, -80.01955, 8.22395, -74.17418, -80.83754, -0.12714, -93.14939, -85.97874, -97.14305999999999, -84.75627, -74.47995, 6.1427, -107.55405, -80.14356, 9.51695, -80.23742, 7.28021, -82.4167, -74.17418, -84.39111, -2.10679, -100.07715, -81.54106, -83.7336, -117.76505, -73.13585, -2.71939, -89.87374, -3.18067, 0.64255, -89.53175999999999, -3.18067, 13.37698, -75.69189, -73.94888, -87.63241, -0.37196, -73.54223, -0.12714, 144.96715, -118.24531999999999, -149.10568, -90.04892, -94.82807, -98.30897, -81.86674000000001, -92.11789, -75.16237, -121.94345, -73.54223, -83.22295, -122.18755, -122.71242, -73.96644, -118.24531999999999, -74.00712, -85.97874, -90.19951, -118.24802, -74.29504, -0.12714, -112.18628000000001, -86.8115, -95.36978, -74.00712, 37.90395, -74.72671, 22.95775, -4.24251, -7.844810000000001, -118.24531999999999, -122.27301999999999, -84.39111, -92.01705, -77.51329, -92.08238, -122.42005, -90.07771, -79.38533000000001, -118.24531999999999, -1.53179, -72.45165, -73.83168, -0.12714, -90.91386999999999, -37.42475, -93.97961, -122.42005, -93.74727, -93.29156, -118.39535, -72.75753, -2.23001, 0.48883000000000004, -73.9454, -100.07715, 23.73641, -93.26493, -98.1607, -118.24531999999999, -86.77835999999999, -87.63241, -96.63166, 0.051019999999999996, -82.66946999999999, -1.54508, -75.92381, -88.05324, -100.07715, -0.12714, -81.6558, 7.19655, -100.07715, 26.06739, 4.22417, 10.9915, -73.85678, -119.18043999999999, -37.42475, -118.24531999999999, -87.63241, -73.83168, -74.00712, -74.57555, 31.255359999999996, -118.24531999999999, -74.00712, -90.71913, -0.12714, -79.77127, -77.029, -87.63241, -83.22295, -90.05202, -94.73954, -85.97874, -1.97406, -122.42005, -77.80679, -80.01955, -93.286, -81.6558, -85.7664, -83.04791999999999, -74.04323000000001, -82.4167, -95.84501999999999, -0.12714, -84.39111, -84.39111, -119.27023, -93.14939, -0.18703, -73.55439, -88.35068000000001, -87.82828, -95.3756, -2.23218, -81.72239, -89.57334, 22.95775, -73.24922, -102.4102, -97.49553, -118.24531999999999, -7.844810000000001, -1.97406, -73.94888, 4.22417, -75.00236, -1.97406, -94.35887, 3.8952699999999996, -118.24531999999999, -87.63241, 1.71819, 18.06243, -118.24531999999999, -76.29771, 12.49576, -77.51329, -88.05324, -87.21724, -71.6342, 10.9915, -0.14858, -99.50200000000001, -98.49462, 129.2459, -74.00712, -73.55439, -86.8115, -119.27023, -93.61565999999999, -122.32943999999999, -120.51483999999999, 1.31388, -96.39998, -122.42005, -81.24620999999999, -85.97874, -104.59518, -73.80816999999999, -4.24251, 108.83178000000001, -90.10785, -1.9086, -1.9086, -89.87374, -93.61565999999999, 144.96715, -82.4167, -100.07715, -88.8194, -95.84501999999999, -97.74298, -110.96975, -0.12714, -118.39981, -90.9564, -118.24531999999999, 2.40955, -98.70853000000001, 6.6323300000000005, -122.2705, -90.10785, -76.47933, 15.474910000000001, -71.28109, -75.16237, 26.83776, -74.00712, -3.9988300000000003, -83.04791999999999, -71.08868000000001, -79.38533000000001, -94.02978, -119.27023, -98.38983, -87.63241, -74.00712, -92.58685, -91.65700000000001, -95.84501999999999, -77.029, 2.38596, -122.32943999999999, -122.27301999999999, -90.59005, -73.92936999999999, -71.41199, -1.53179, -118.24531999999999, -90.91386999999999, -118.24531999999999, -0.12714, -85.67869, -121.94345, -6.24953, -117.75001999999999, -83.18186, 24.6075, -83.7336, 4.82897, -70.70719, -89.87374, -0.12714, -87.63241, -122.42005, -80.65079, -81.54106, -80.83754, -0.12714, -94.37517, -95.84501999999999, -77.71758, -88.95535, -90.09876, 25.623260000000002, -118.24531999999999, -121.07887, -92.01705, -122.42005, 7.121230000000001, -97.74298, -118.24531999999999, -100.07715, -73.9454, -81.54106, -89.50409, 16.3688, -87.63241, -1.9086, -1.50776, -94.02978, -74.17418, 9.99245, -95.36978, -4.24251, -85.69091, -74.72671, -73.85678, -74.00712, -8.47277, 4.82897, -84.39111, -118.24531999999999, -1.9086, 13.22305, -3.9966699999999995, -88.95535, -98.30897, -77.27348, 17.64405, -122.18755, -76.79731, -71.28109, -2.23218, -79.87162, 22.95775, -86.77835999999999, -84.39111, -87.63241, -105.55096, -2.2488099999999998, -92.08238, -72.75753, -84.10599, -77.029, 21.75627, -98.44126999999999, -122.42005, -122.44165, -74.00712, -114.99993, -96.78175999999999, -0.12714, -74.00712, -79.77127, -66.42889, -75.16237, -119.05505, 31.255359999999996, 28.391309999999997, -72.75753, -1.2078799999999998, -85.97874, -76.79731, -122.42005, -118.39535, -0.56623, -84.50469, -81.72239, -118.24531999999999, -74.00712, -96.63166, -83.7826, -95.36978, -77.80679, 144.96715, 82.79476, -95.99277, -0.12714, -92.72139, -100.07715, -79.7947, -93.22010999999999, -74.00712, -118.24531999999999, -85.97874, -75.16237, 106.82781999999999, 17.55142, -98.70853000000001, -91.52382, -82.50293, -77.24786999999999, -122.42005, -63.58481, -1.54508, -123.11403, -94.37517, 16.3688, 1.71819, -90.49217, -80.07691, -72.92496, -96.78175999999999, -84.39111, -90.07771, -74.00712, 2.38596, -89.50409, -84.98763000000001, -74.00712, -89.99726, -79.38533000000001, -1.97406, -75.16237, -77.27348, -74.00712, -74.00712, -83.04791999999999, -114.99993, -2.63265, -71.08868000000001, 4.22417, -83.74416, -81.54106, -74.00712, -105.55096, -75.16237, -4.24251, -0.12714, -77.60454, 10.45415, 144.96715, -74.007118, -87.46670999999999, -83.04791999999999, -0.37196, -119.27023, 21.22327, 2.34121, -122.42005, -74.57555, -118.24531999999999, 13.49942, -90.71913, -84.39111, -92.08238, -54.38783000000001, -90.59005, -83.92090999999999, -122.44165, -90.19951, -84.75627, -75.16237, -84.62167, -74.17418, -74.00712, -1.97406, 133.39311, 139.83829, -96.0878, -79.79854, -85.97874, -94.58306, -5.93494, -101.04893, -87.1187, -83.04791999999999, -78.24499, -85.97874, -91.25019, -1.8153099999999998, -1.97406, -74.00712, -74.00712, -84.19444, -157.7197, -0.39535, 25.80695, -73.80816999999999, -88.91599000000001, -0.18703, -74.00712, -83.04791999999999, 25.48312, -81.54106, -81.54106, -97.48561, -6.24953, 108.83178000000001, -0.12714, -73.80816999999999, -76.29771, -90.645, -71.28109, -95.84501999999999, -58.373540000000006, -100.07715, -118.4164, -104.59518, -84.75627, -99.13285, -46.65466, -93.13913000000001, -79.7947, -0.12714, -92.27449, -94.365, -122.42005, -122.42005, -94.68121, 13.1876, -121.94345, -0.12714, -81.6558, -119.27023, -74.00712, -93.29156, -86.62021, 17.55142, -84.59334, 26.83776, -84.59431, 26.06739, -1.6844700000000001, -73.94888, -4.13689, -87.46670999999999, -79.64372, -85.97874, -73.94888, -122.42005, -122.32943999999999, -43.19508, -76.79731, 13.1876, -118.24531999999999, 121.02183000000001, -1.2078799999999998, -96.7954, -59.59895, -100.07715, -1.14392, -74.00712, -89.10826999999999, -74.00712, 133.39311, 2.17005, -104.99226000000002, -80.01955, -58.373540000000006, -86.77835999999999, -96.7954, -80.07691, -122.42005, 28.391309999999997, -74.00712, -93.58068, -121.07887, -89.87374, -90.60536, -104.99226000000002, -58.373540000000006, -0.12714, -74.17418, -0.12714, -89.10826999999999, -92.26831, -84.39111, -2.10679, -92.43659, -84.10599, -87.63241, 2.62879, -81.84348, -118.94151000000001, -79.38533000000001, -74.00712, -99.13285, -74.00712, -96.92803, -118.24531999999999, -122.42005, -111.54732, -1.2078799999999998, -73.96644, -74.00712, -2.59143, -77.27348, -92.26831, -83.04791999999999, -121.94345, 12.66538, -90.18043, -85.97567, -119.27023, -90.59005, -83.04791999999999, -75.16237, -73.93585, -75.16237, -96.39998, -58.373540000000006, -94.02978, -2.23001, -84.39111, 0.17898, -93.50243, -95.82333, -111.54732, -73.83168, -119.27023, 9.67464, -122.62568999999999, 12.56935, -92.27449, 35.48527, 133.39311, -0.12714, -73.94888, -80.73486, -81.54106, -89.87374, -90.71913, -77.51329, -73.94888, 17.55142, -122.27301999999999, -75.16237, -118.24531999999999, -123.11403, -91.56123000000001, -87.63241, -74.00712, -71.08868000000001, -71.6342, -80.23742, -118.24531999999999, -93.13913000000001, -1.54508, -90.18043, 121.02183000000001, 6.6323300000000005, -84.15601, -72.45165, -69.46854, -93.29156, -95.36978, -73.94888, -77.60454, -81.6558, -1.97406, -104.99226000000002, -111.54732, -0.56623, -1.14392, -122.42005, 149.12656, -80.73486, -46.65466, -119.27023, -74.00712, -90.9564, -118.24531999999999, -77.91615, -90.05202, -90.5651, -71.08868000000001, -87.90684, -118.24531999999999, -74.00712, -117.75801000000001, -73.83168, -74.00712, -88.94561, 146.32611, -98.38983, -82.50293, -90.04892, -92.72139, -118.24531999999999, 3.72856, -79.99745, -74.20991, -122.2705, 17.55142, -1.54508, -6.24953, -96.63166, -111.9307, 17.55142, -92.01705, -74.00712, -3.18067, -37.42475, -90.19951, -73.80816999999999, -74.00712, -90.19951, -105.55096, 5.33275, -74.00712, -119.69887, 13.1876, -0.12714, -58.373540000000006, -88.05324, -76.79731, -81.33230999999999, -118.24531999999999, -93.13913000000001, -84.10599, -118.24531999999999, -112.18628000000001, -122.42005, -6.24953, -86.77835999999999, -83.74416, -73.9454, -1.2078799999999998, -119.27023, -73.59354, -85.32281, -58.373540000000006, -88.23546, -74.00712, -117.84881000000001, -95.84501999999999, 10.74998, -73.59354, -101.95625, 21.75627, -98.52102, -0.12714, -93.26493, -2.10679, -82.66946999999999, -63.81885, -118.24531999999999, -122.32943999999999, 25.75129, -74.00712, -96.0878, -119.69887, -118.24531999999999, -74.00712, -77.60454, -9.401019999999999, -73.94888, -81.6558, -123.11403, -122.42005, -71.08868000000001, -100.07715, -89.00018, -95.84501999999999, -86.68073000000001, -118.24531999999999, -94.10158, -5.93494, 13.1876, 13.37698, -93.36586, 13.1876, -104.59518, -92.13055, -77.029, 1.71819, 21.22327, 27.920759999999998, -1.46454, -95.84501999999999, -90.04892, -74.00712, 10.74998, -74.00712, -85.97874, -0.12714, -90.64208, -75.66079, 133.39311, 3.8952699999999996, -100.07715, -77.71758, -96.7954, -123.11403, -75.92381, -120.95071000000002, 133.39311, -3.70577, -93.61565999999999, -118.24531999999999, 17.55142, -89.53175999999999, -123.11403, -107.55405, -86.77835999999999, -79.7947, -96.91393000000001, -118.24531999999999, -86.77835999999999, -74.11779, -75.16237, -91.56123000000001, -0.33555999999999997, -118.24531999999999, -118.24531999999999, -74.20991, -117.87393999999999, -3.70577, -77.80679, -77.27348, 28.391309999999997, -2.6797299999999997, -81.24620999999999, -122.42005, -84.39111, -85.67869, -93.29156, -1.5465799999999998, -1.9086, 0.64255, -74.00712, -75.16237, -74.12374, -92.13055, 9.99245, 21.00939, -84.19444, -4.42016, -74.00712, -90.43987, 5.33275, -6.24953, -90.60536, -95.84501999999999, -8.24055, -96.39998, -103.2833, -0.12714, -89.38669, -72.67407, -96.63166, 10.45415, 3.72856, -118.24531999999999, -91.56123000000001, -90.19951, -2.23218, -78.87846, 139.74092, -83.04791999999999, -66.58904, 1.71819, -89.87374, -118.24531999999999, -93.74727, -8.24055, -84.54588000000001, -87.90684, -74.00712, -89.50409, -73.94888, -74.00712, 31.255359999999996, 106.82781999999999, 0.17898, -98.38983, -1.97406, -76.79731, -83.22295, -123.2079, -87.63241, -90.71913, -74.00712, -3.7906800000000005, -2.63265, -74.72671, -85.69091, -84.59431, -79.38533000000001, -74.00712, -77.27348, 2.34121, -93.74727, -85.97874, -84.10599, -122.39293, -74.00712, -4.486219999999999, -77.27348, -73.9454, -82.44537, -0.12714, -90.04892, -1.14392, 22.95775, -83.7826, -75.69189, -118.24531999999999, -74.00712, -63.573919999999994, -95.93995, -2.6797299999999997, -1.54508, 18.70249, -74.00712, -118.24531999999999, -76.45326999999999, -74.72671, -94.35887, -80.23742, -118.24531999999999, -90.19951, -89.8643, -89.99726, -83.04791999999999, -84.59334, -97.32925, 10.9915, -1.97406, 0.47791000000000006, 15.21751, -85.97567, -94.58306, -98.70853000000001, -118.24531999999999, -90.645, -1.61237, -83.04791999999999, -97.32925, -94.365, 10.74998, -72.92496, -118.24531999999999, -96.91393000000001, -80.23742, -99.50200000000001, -93.29156, 20.46414, -0.12714, -89.8643, -73.83168, -80.65079, -74.00712, -74.00712, -73.13585, -92.01705, -74.00712, -90.44116, 10.74998, -83.22295, -58.373540000000006, 13.37698, -86.77835999999999, -81.54106, -78.89601, -74.00712, -84.59334, -46.711729999999996, -75.16237, 2.3584, -122.42005, -82.14039, -96.91393000000001, -84.39111, -77.029, 3.8952699999999996, -2.23218, 4.34968, -92.43659, -77.27348, 24.49511, -1.97406, -111.9307, -118.24531999999999, -90.19951, -118.24531999999999, -74.00712, -88.35068000000001, -0.12714, -102.4102, -77.27348, -2.23218, -82.4167, -100.07715, -121.01914, -86.77835999999999, -77.02659, 133.39311, -1.53179, -96.7954, -94.10158, -118.24531999999999, -101.85587, -8.47277, -2.10679, -93.26493, -0.37196, -74.04323000000001, -79.38533000000001, 14.39059, -97.74298, -73.83301, -86.77835999999999, 2.34121, -83.04791999999999, -94.35887, -74.00712, -100.07715, -93.26493, -6.24953, 2.34121, -80.9474, -74.00712, -98.30897, -2.2488099999999998, -77.029, -66.42889, -74.00712, 144.96715, -92.26831, 21.75627, -83.7336, -0.12714, -77.029, -94.15791, -54.38783000000001, -0.21345999999999998, -122.62568999999999, -93.36586, -1.9086, -118.24531999999999, -80.83754, -118.24531999999999, -4.62141, -1.25949, -118.24531999999999, -82.32547, -118.24531999999999, -118.4164, -118.32673999999999, -85.97874, -85.77449, -93.8277, -82.66946999999999, -73.9454, -72.75753, -75.66079, -122.42005, -77.029, -58.373540000000006, -88.91599000000001, -66.42889, -77.27348, 13.37698, -83.04791999999999, -72.94832, -0.21345999999999998, -59.59895, -100.07715, 16.3688, -91.25019, -89.51876999999999, -71.08868000000001, -101.3878, 146.32611, -73.24922, -78.87846, -71.08868000000001, -77.60454, -1.5465799999999998, 8.80466, -74.00712, -73.94888, -77.029, -86.44105, -90.91386999999999, -83.22295, -122.32943999999999, -80.60688, -119.09456000000002, -100.07715, -8.24055, -58.373540000000006, -99.50200000000001, 31.255359999999996, -74.17418, -84.36354, -1.9086, -90.10785, -74.00712, -87.63241, -79.64372, -74.00712, 133.39311, -89.58776, 2.40955, -6.134869999999999, -46.65466, -75.66079, -90.18049, 144.96715, -58.373540000000006, -91.52382, 144.96715, -79.38533000000001, -0.12714, -0.12714, -119.27023, -0.12714, -100.07715, 7.01815, -86.77835999999999, -73.94888, -74.00712, -86.77835999999999, -117.97091999999999, -74.00712, -78.47753, -93.8277, -87.63241, -83.18186, -89.87374, -81.54106, 10.45415, -0.25969000000000003, -0.12714, -96.7954, -96.91393000000001, -86.77835999999999, 31.255359999999996, -86.8115, -70.70719, -75.92381, -77.80679, -77.27348, -1.50776, -79.64372, 5.37249, -1.9086, 2.38596, -87.63241, -118.24531999999999, -106.48749, -2.63265, -74.00712, -80.25305999999999, -1.5465799999999998, -86.77835999999999, -90.53726999999999, -74.00712, -66.10665, -79.38533000000001, -83.22295, 12.56935, 133.39311, -2.23001, -73.80816999999999, 4.22417, -75.16237, -97.14074000000001, -99.13285, -6.24953, -105.55096, -6.24953, -74.00712, -122.39293, -74.17418, -1.97406, -75.16237, -117.97091999999999, 17.55142, -98.38983, -1.61237, -84.75627, 144.96715, -118.24531999999999, -90.07771, -8.24055, -75.16237, -122.42005, -73.41853, -74.11779, -71.08868000000001, -96.63166, -87.63241, -87.63241, -85.97874, 10.45415, -74.00712, -85.97874, -74.00712, 18.421960000000002, -81.6558, -97.32925, -74.04323000000001, -81.6558, -114.14328, -61.02281, -0.12714, -74.72671, -94.15791, -95.84501999999999, -77.27348, -71.6342, -77.60454, -111.54732, -74.00712, -96.7954, 8.22395, 17.55142, -90.06146, -5.93494, -74.00712, -93.61565999999999, 146.32611, -1.97406, -83.22295, -100.07715, -122.42005, -97.74298, -106.02611999999999, -6.24953, -98.49462, -96.89774, -85.97874, -66.58904, -71.63056, -118.24531999999999, -3.9966699999999995, -0.12714, -118.24802, 7.01815, -100.07715, -83.22295, -68.43114, -74.00712, -82.38859000000001, 1.71819, -84.39111, -75.92381, -82.32547, 1.71819, -118.24531999999999, -94.82807, -118.24531999999999, -86.68073000000001, -77.604538, -73.94888, -83.7336, -83.04791999999999, 4.22417, 23.73641, -86.77835999999999, -3.9988300000000003, 4.47684, 2.34121, -87.63241, 2.38596, -77.029, -119.27023, -93.58068, -0.12714, -122.42005, -85.30946, -85.97874, -0.37196, 13.37698, -0.12714, -85.67869, -74.00712, 1.71819, -1.14392, -92.43659, -98.49462, -77.27348, 8.4092, -73.96644, -73.54223, -90.19951, -73.94888, -87.63241, -122.42005, -97.74298, -84.25274, -83.04791999999999, -90.19951, -1.5465799999999998, -84.39111, -85.97874, -100.07715, -84.59334, -122.44165, -0.12714, -92.13055, -74.17418, -74.00712, 10.45415, -2.97848, -58.373540000000006, -84.10599, -87.90684, -122.42005, -122.2705, -77.029, -66.58904, -80.9474, -1.9086, -74.00712, -82.38859000000001, -80.01955, -8.24055, -100.07715, -149.10568, -72.92496, -76.79731, -87.63241, -88.91599000000001, -122.42005, 1.71819, -74.00712, -107.55405, -85.7664, -71.23605, -76.79731, -122.16078999999999, -1.97406, -119.27023, -0.12714, -83.22295, 28.391309999999997, -95.84501999999999, 2.26934, -118.4164, -75.66079, -92.26831, -75.16237, -74.00712, -120.51483999999999, -90.07771, -0.37196, -122.42005, -74.17418, -89.50409, -73.85678, -89.87374, 2.34121, -111.9307, 10.45415, -91.52382, -77.60454, -122.42005, -118.24531999999999, 10.20452, -94.37517, 145.08084, -77.94599000000001, -80.83754, -3.9966699999999995, -98.1607, 7.01815, -83.04791999999999, -95.36978, 18.95574, -95.84501999999999, -92.27449, -80.73486, -0.12714, -117.76505, -82.38859000000001, -93.36586, -82.5148, -58.373540000000006, -73.9454, -85.69091, -0.12714, -89.50409, -84.39111, 18.48617, -84.19444, 21.75627, -82.44537, -2.13468, -118.24531999999999, -74.00712, -111.54732, 1.71819, -86.77835999999999, -118.24531999999999, -83.04791999999999, -69.46854, -90.07771, -72.45165, -119.27023, -98.1607, -89.87374, -74.00712, -90.59005, -117.76505, -71.6342, 28.187590000000004, -123.11403, -118.24531999999999, 23.73641, -94.15791, 5.33275, -89.53175999999999, -118.24531999999999, -89.8643, -90.45987, -89.58776, 139.74092, -94.10158, -73.80816999999999, -122.42005, -83.22295, -155.43413999999999, -71.08868000000001, -85.97874, -118.24531999999999, -118.24531999999999, -68.77077, -1.50776, -70.70719, -100.07715, -89.87374, 106.82781999999999, -71.71818, -83.22295, -0.12714, -95.36978, -84.39111, -1.6844700000000001, -118.24531999999999, -74.00712, 133.39311, -74.00712, -97.74298, -93.29156, 10.22291, -73.85678, -122.42005, -100.07715, -118.24531999999999, -1.32524, -87.63241, -0.12714, -97.74298, -1.97406, -1.9086, -85.97874, -117.76505, -82.38859000000001, 8.80466, -122.42005, -111.9307, -77.60454, 1.14378, 22.95775, -1.5465799999999998, -90.04892, -85.69091, -98.1607, -118.24531999999999, 8.22395, -84.98763000000001, -81.80045, 16.3688, -87.21724, -58.373540000000006, -118.24531999999999, -84.75627, -74.00712, -81.6558, -91.25276, 0.64255, -122.44165, -118.24531999999999, 2.34121, -122.03095, -89.38669, 4.062119999999999, 7.01815, -93.61565999999999, -74.00712, -111.9307, -97.32925, -118.24531999999999, -0.12714, -82.38859000000001, -74.00712, -96.63166, -75.16237, -77.3819, -54.38783000000001, -83.04791999999999, -74.17418, -84.39111, -1.9086, -118.24531999999999, -122.42005, -74.00712, -3.7906800000000005, -122.42005, 9.99245, -84.50469, -8.24055, -73.9454, -71.08868000000001, 12.66538, -86.77835999999999, -74.00712, -43.19508, -119.27023, -84.36354, -101.69814000000001, 139.83829, -71.08868000000001, -82.66946999999999, -86.68073000000001, -79.7947, -90.19951, -74.72671, -1.9086, -77.60454, -77.27348, -74.00712, -105.55096, 1.71819, 2.34121, -97.52033, -73.80816999999999, -74.00712, -74.47995, -94.15791, 2.38596, -0.12714, -100.07715, 8.22395, -111.9307, -75.55084000000001, 2.34121, -3.9966699999999995, -66.10665, -97.74298, -87.63241, -1.97406, 7.28021, 25.623260000000002, -88.8194, -100.07715, -85.97874, -0.12714, -3.18067, -83.04791999999999, -2.23001, -74.00712, -82.4167, -2.23001, -75.92381, -86.77835999999999, -74.00712, 28.391309999999997, -74.00712, -94.58306, -87.63241, 10.45415, -0.12714, 12.66538, 25.48312, 2.34121, -118.24531999999999, -89.87374, -118.24531999999999, -0.56623, -88.08459, -90.645, -118.24531999999999, -73.13585, -121.94486, -1.2323, -79.7947, -84.25274, -90.19951, -82.32547, -95.93995, -37.42475, 69.86799, -93.70737, -78.89601, -77.27348, -90.18049, -71.14565999999999, -85.97874, -83.22295, 3.8952699999999996, -118.24531999999999, -92.82984, -90.04892, -90.19951, -81.54106, -105.55096, 29.889870000000002, -84.19444, -117.16171999999999, -85.97874, -85.69091, -96.89774, -7.844810000000001, 25.623260000000002], \"marker\": {\"color\": [0.6306300375898077, 0.3600311664643514, 0.6364236449500698, 0.4199431484349393, 0.3941385398458925, 0.4898162689820407, 0.6774204652262298, 0.839962768151037, 0.43541581815506936, 0.4597971288376104, 0.5888271005018058, 0.3964552539172961, 0.7068276713044582, 0.5605579839038146, 0.6408071019636729, 0.5237146369702328, 0.8093237930019529, 0.5278650761586818, 0.6686745328613157, 0.8148296561331122, 0.6610801676039384, 0.7011808736075507, 0.7337989404362274, 0.5040756699303163, 0.6697261875661445, 0.6400483571565447, 0.7510076200369779, 0.548585130198109, 0.6319466659983671, 0.6683706115518646, 0.8457688664485438, 0.44316239759770826, 0.6178701163443497, 0.9057768886660886, 0.6069253585317187, 0.7429631523413633, 0.5854795397495219, 0.6715962698483039, 0.4493236152076617, 0.5164437797727629, 0.4458546313595108, 0.6051097019148579, 0.4161410224693502, 0.4305389074172808, 0.42837541665132417, 0.43888747505017295, 0.5781036297198625, 0.6264363817515622, 0.5438663024727286, 0.5672788711826817, 0.4323864772977878, 0.5138295872991763, 0.4546681904732506, 0.657406765298449, 0.498259309879011, 0.6247237675785525, 0.5559850526989919, 0.7033494404116145, 0.4342720374495127, 0.7337146964873255, 0.6254432620438771, 0.6610013371011454, 0.6048204319182022, 0.4415934415039667, 0.4715772815126282, 0.6695001252208089, 0.5934160487797832, 0.6319466659983671, 0.4880088818032522, 0.8144481104168003, 0.6058740493326593, 0.7864270833791762, 0.38230828283667867, 0.6657283364248289, 0.07512476163907388, 0.31241512329832843, 0.5678142640009771, 0.6987704777958721, 0.5202049113174553, 0.4796956080800962, 0.9057768886660886, 0.3851433510894503, 0.6309286076787999, 0.450852685134409, 0.4973075122753628, 0.5391811881610101, 0.6849948965806557, 0.7613622384458618, 0.3490120021297733, 0.6322428511255029, 0.4580551793630036, 0.465194733342488, 0.6338178816971488, 0.5744007886920006, 0.5604116856288465, 0.4531710070713659, 0.7369919703227188, 0.4229713078848842, 0.69300920358103, 0.7477086693197713, 0.3628001416809383, 0.7375404029001575, 0.6795192077928062, 0.5217122143644578, 0.5667964748327188, 0.6212135105125054, 0.5892596782086101, 0.6264363817515622, 0.3941385398458925, 0.5832316045878672, 0.6987704777958721, 0.44625666654061785, 0.4736267275300054, 0.6553591154261498, 0.30552362799121063, 0.4266838138087468, 0.4217922530276164, 0.6128375038274145, 0.4892801786318906, 0.66229870965635, 0.40982763502826935, 0.44240828957458, 0.3623585585809031, 0.5599914150758433, 0.3208553831968501, 0.6796542390260255, 0.6051396999641143, 0.6855036304318541, 0.8514176288473655, 0.5934960438312681, 0.6375333862984804, 0.5454352386697442, 0.5968458517450551, 0.40743039974998796, 0.018917567226111383, 0.7369919703227188, 0.5317578163092833, 0.5565669727879069, 0.3318741464569221, 0.5756742184810534, 0.7132749723642293, 0.9020629269028732, 0.6028680667446589, 0.4935930236405666, 0.6342271647350888, 0.6051396999641143, 0.7586787151629479, 0.5605579839038146, 0.628886847980118, 0.0, 0.5410779524977934, 0.5641289501467455, 0.5714228015866021, 0.528835697897188, 0.6629454343829292, 0.6811302418484678, 0.5659712672709434, 0.4556797785436178, 0.508731241151298, 0.4580551793630036, 0.6716106398358989, 0.4361554247159955, 0.6954165190418939, 0.6849948965806557, 0.27585436971559085, 0.5818843588912933, 0.5086762010384817, 0.5709001037765814, 0.7560638708428911, 0.5037387899485233, 0.27585436971559085, 0.5166182130206616, 0.7560638708428911, 0.7586787151629479, 0.7183813423833088, 0.7523659740980329, 0.6193668554590288, 0.4945870774232017, 0.5448354309231243, 0.5824605669027118, 0.3676677098868064, 0.5839898424155631, 0.501246444346129, 0.5638459847801999, 0.7396843345988899, 0.4531251786298235, 0.8327574313141051, 0.675766803468786, 0.4629960943720008, 0.8457688664485438, 0.7483207030670265, 0.5158476541694029, 0.73120804716564, 0.5971133628313751, 0.5794403499055678, 0.6867208337716193, 0.521672995280826, 0.6066752783754443, 0.5107838455984353, 0.5760441727172667, 0.6641820579892155, 0.7825556890402131, 0.4193202487520501, 0.5896946052467457, 0.7483207030670265, 0.6415251361910892, 0.5109372583955416, 0.5584758161805727, 0.4964062585661814, 0.4893600464920905, 0.6954165190418939, 0.5158476541694029, 0.6293018056764849, 0.465194733342488, 0.657406765298449, 0.504447582619328, 0.6978878220170739, 0.8078768678891759, 0.7044114066677578, 0.8095522095461632, 0.6143455321197779, 0.5559667894334254, 0.4565995890497143, 0.675003400858032, 0.7394548738996426, 0.5069333357806574, 0.6321309130150968, 0.5995365015445879, 0.5040063402602203, 0.5336501394878035, 0.5379082761316791, 0.6790118688100006, 0.6048204319182022, 0.4227878843722295, 0.5578578500456283, 0.8526389322187791, 0.7476840124550793, 0.5080366162448481, 0.566157341575077, 0.5266460549313882, 0.4390944564741512, 0.5017263332686983, 0.6697261875661445, 0.4503612608774568, 0.38783105227273607, 0.6645599786043399, 0.452983132099596, 0.6423581760346339, 0.6323675939714912, 0.7004466143862085, 0.6578831163450102, 0.7550413499986275, 0.5071108485113439, 0.5873322673749817, 0.34173223003613984, 0.9290302874411605, 0.5934160487797832, 0.4668979601451768, 0.5738431163226819, 0.27443294790503525, 0.6987704777958721, 0.42338584679609104, 0.6795192077928062, 0.5958117467766225, 0.8259623460213872, 0.5188067600066829, 0.4080719105619905, 0.5288658319660646, 0.6155041026415558, 0.4295762228670502, 0.5103679324691051, 0.5101921765848437, 0.6744647047022475, 0.4183818116338261, 0.8048388888270448, 0.38980296682759785, 0.4988349752579382, 0.6375333862984804, 0.4073722805700252, 0.6119429558981506, 0.4371937769385019, 0.7825556890402131, 0.7541808331304262, 0.58400755313893, 0.6251867974682902, 0.5531048329205209, 0.7323938630696031, 0.7613622384458618, 0.5804813479417901, 0.7732718477461717, 0.4689768654395085, 0.5940475040246616, 0.5536370861963962, 0.6061186456969245, 0.8224328293700504, 0.5863048446287447, 0.6098143603684099, 0.5492829074585028, 0.4682509114975055, 0.5743000682773265, 0.5986364339485454, 0.6507269244411518, 0.5419683747338633, 0.5714228015866021, 0.6833885166889893, 0.6487226559769548, 0.5818843588912933, 0.6546449746458465, 0.4420249810973847, 0.3964552539172961, 0.6168845440365633, 0.5107980105115456, 0.6371812839675844, 0.6294632451871911, 0.3606136699677937, 0.763010513430572, 0.5223862469570264, 0.675771369616503, 0.5143733922961689, 0.3825466666239224, 0.6491573882327762, 0.4912903945147976, 0.7323938630696031, 0.8305925064701626, 0.657406765298449, 0.4752317762778703, 0.4808729245840474, 0.6881460514518386, 0.7714921495221693, 0.5991337690974036, 0.5834430235496894, 0.6264363817515622, 0.6044144921616125, 0.6119339564130707, 0.7337989404362274, 0.5557874605581772, 0.4955565651059908, 0.6306300375898077, 0.7068276713044582, 0.4916950712769936, 0.5370882970195974, 0.5692758347457628, 0.620392055892929, 0.6954165190418939, 0.38980296682759785, 0.490303980373673, 0.5582453092722094, 0.9473275066349643, 0.6297490400005165, 0.8661710764267913, 0.5303556678749041, 0.8224328293700504, 0.7127448996498358, 0.5979630872689875, 0.4670541846660594, 0.6168963856681389, 0.4670541846660594, 0.6898005928001073, 0.5103679324691051, 0.5335043143417373, 0.4517844059541925, 0.3899028135612178, 0.6971136627128754, 0.03604361672910314, 0.6058804710656306, 0.5094810273499396, 0.5205537457116164, 0.9178639058476192, 0.479290854130295, 0.6147555886925882, 0.5058461446114895, 0.4080719105619905, 0.8507282658584009, 0.7510401261129247, 0.6155041026415558, 0.5185012731666873, 0.5557649996003, 0.5999446698556915, 0.5670737301896542, 0.4598101627513326, 0.736677413340632, 0.6231304368786019, 0.493486473128519, 0.4752593322596274, 0.5285279585818009, 0.8582706777960948, 0.5870237387492154, 0.6749138576348833, 0.5856831498303938, 0.7385944987679516, 0.448026304493546, 0.7262997133847378, 0.3208553831968501, 0.5991337690974036, 0.6415251361910892, 0.4458586708534961, 0.247485184161284, 0.3623585585809031, 0.5008486917390443, 0.6069757372185262, 0.6726805928835387, 0.6423581760346339, 0.6148875882171886, 0.3911088846318064, 0.6069757372185262, 0.7337146964873255, 0.4340223504706253, 0.5828046937905624, 0.7323938630696031, 0.8586774418483041, 0.4613943598497839, 0.6855028320873736, 0.5174805719265905, 0.5977029042110494, 0.609896793188508, 0.6069757372185262, 0.4753178911770231, 0.5391115605471758, 0.7747989187259712, 0.632592419749175, 0.6238237678518292, 0.6716106398358989, 0.4493236152076617, 0.5042237768811729, 0.6721999444118556, 0.5765687655936937, 0.3208553831968501, 0.5326112801685245, 0.5625972420828771, 0.618692141580311, 0.6487185770307602, 0.5672788711826817, 0.36072920580223455, 0.4973075122753628, 0.5934960438312681, 0.6408601560517279, 0.6058804710656306, 0.507862067492449, 0.38980296682759785, 0.7481046721253537, 0.941896454523691, 0.6455339964734248, 0.6322428511255029, 0.6058804710656306, 0.5037387899485233, 0.6358987101801273, 0.5614646464110922, 0.441586733214394, 0.6117711132155927, 0.73120804716564, 0.4796207472295076, 0.5776331497038921, 0.5412311890070843, 0.5467275539627645, 0.4979421060663372, 0.9290302874411605, 0.5209330793305875, 0.5559850526989919, 0.5809106932332672, 0.5901310518953434, 0.4736241237475465, 0.44625666654061785, 0.8659700063313627, 0.7375404029001575, 0.692655872870637, 0.3983663543325965, 0.6342269633902287, 0.6780088367788917, 0.480355425324063, 0.7326603120176098, 0.9176988844273418, 0.1536055481454315, 0.9473275066349643, 0.7765989678295455, 0.5737198552868119, 0.2946779221221197, 0.6177875891018481, 0.4844855578502837, 0.6999247645104929, 0.4918359590583831, 0.6375210504152117, 0.6548608223430427, 0.5057847627270969, 0.6061186456969245, 0.7964195529258091, 0.5907929571811064, 0.6850804894726431, 0.5625972420828771, 0.4566050599657094, 0.41424422917234577, 0.5824605669027118, 0.5614646464110922, 0.6876196662345889, 0.6646909389368294, 0.38849474840551385, 0.5418887152726299, 0.5777733372917061, 0.5164437797727629, 0.6413540809343606, 0.7825556890402131, 0.366302894628521, 0.5574602197393447, 0.6069757372185262, 0.7042447660376749, 0.7337989404362274, 0.450852685134409, 0.5804813479417901, 0.6780088367788917, 0.3628001416809383, 0.597220852724376, 0.40132798622497184, 0.35313557581669314, 0.5109372583955416, 0.9290302874411605, 0.3462368107029975, 0.5972814779044859, 0.7829842111650066, 0.7740371421614921, 0.6587312783033741, 0.5109930419063133, 0.852699664161011, 0.4265127607348456, 0.6038391696904002, 0.6038391696904002, 0.8148296561331122, 0.6797935559497998, 0.6174214066397045, 0.509512016211504, 0.4757215667306782, 0.5726162458211238, 0.3720519996998456, 0.7102691666979191, 0.3704664642915752, 0.6119339564130707, 0.6918507365964088, 0.5134675221364372, 0.8191322906683809, 0.5602568284528291, 0.6395689982408679, 0.4833885472251881, 0.5192460362738505, 0.4211818692788764, 0.7869212313686974, 0.480806281832134, 0.5903603253945124, 0.37834796858643616, 0.467583201065844, 0.5086762010384817, 0.7326033944243092, 0.5458034330827527, 0.3770340851283985, 0.7225705735101466, 0.5740535883206119, 0.6309286076787999, 0.6686745328613157, 0.5058471105369804, 0.6548608223430427, 0.548585130198109, 0.5854795397495219, 0.5861544178630229, 0.3911088846318064, 0.5885718420568349, 0.6575786211982945, 0.5908187730387471, 0.4304529611441741, 0.6740231561759062, 0.4505621331156311, 0.4882373664134809, 0.8474517132179911, 0.4378895030731797, 0.6364189476344927, 0.4905864018711718, 0.4291271190896086, 0.5057847627270969, 0.7127448996498358, 0.5738431163226819, 0.4128674880374229, 0.5217122143644578, 0.4059239066513581, 0.6411728176207399, 0.5951665849900721, 0.4916950712769936, 0.8405904383361571, 0.5986364339485454, 0.7680042347735891, 0.6038391696904002, 0.3006927093846144, 0.6098078056746834, 0.39854464486824537, 0.6018919753027975, 0.5162738908484137, 0.5410334266884267, 0.5513111166062027, 0.6868116168133814, 0.5190000723734253, 0.547684660288279, 0.4998810748804663, 0.7326611319120517, 0.8389243105071171, 0.4305389074172808, 0.6242003276351012, 0.8095522095461632, 0.6151068464217128, 0.366302894628521, 0.6013057514861917, 0.5828046937905624, 0.5586019196468579, 0.32570077099924793, 0.5271851582563825, 0.6168963856681389, 0.8620997665788256, 0.7863591368360506, 0.6118014714600088, 0.6439825914925877, 0.5237146369702328, 0.5678142640009771, 0.5026099859885671, 0.5070160807186288, 0.4400424448579729, 0.5908187730387471, 0.6182847302514278, 0.9057768886660886, 0.6231542839712871, 0.4258833216131893, 0.8130130889348834, 0.437387027789835, 0.5888271005018058, 0.7549176454508227, 0.8526389322187791, 0.7740371421614921, 0.6334088994955871, 0.6726805928835387, 0.5464602881310222, 0.5400377489797789, 0.5082207110634701, 0.632592419749175, 0.3941385398458925, 0.247485184161284, 0.8405904383361571, 0.4030952595165577, 0.36072920580223455, 0.5344643522287597, 0.6507269244411518, 0.7510076200369779, 0.6079199780130808, 0.6371812839675844, 0.5077968849276677, 0.8424233180669045, 0.605762456471112, 0.8788113434931999, 0.28393322496953244, 0.4183818116338261, 0.8507282658584009, 0.8031054729293065, 0.5451654411381094, 0.632592419749175, 0.6182968439727855, 0.7429631523413633, 0.6013057514861917, 0.7326033944243092, 0.44566129114396935, 0.44922215222583023, 0.69300920358103, 0.5744007886920006, 0.69300920358103, 0.6567597878169679, 0.5638459847801999, 0.8224328293700504, 0.612657823642785, 0.5883794575165332, 0.46499431936808794, 0.5968458517450551, 0.5370882970195974, 0.4219604373109945, 0.5400377489797789, 0.6168845440365633, 0.4187014670153261, 0.5589054138529173, 0.5580077519194866, 0.2395649764687328, 0.5557649996003, 0.5422777098103807, 0.5492829074585028, 0.5914236590704917, 0.401847574658048, 0.5908165135922658, 0.4668979601451768, 0.7394359972769394, 0.489610124681079, 0.5164437797727629, 0.4802826229748322, 0.5422327171052012, 0.5999446698556915, 0.5199396853210472, 0.4989461483987589, 0.5086762010384817, 0.6599449187584954, 0.5834430235496894, 0.4072431195052308, 0.6155041026415558, 0.552021062189785, 0.6285601559358945, 0.666522676566775, 0.8224328293700504, 0.6809412789025515, 0.5336501394878035, 0.5903603253945124, 0.3230089909532323, 0.4206159723883332, 0.6335459987503766, 0.5927973462665315, 0.5127793382989322, 0.508731241151298, 0.6157403530616774, 0.4859212857211152, 0.7113800959726605, 0.3911088846318064, 0.6118014714600088, 0.4492417192447203, 0.561003950198288, 0.5956609047408887, 0.8424233180669045, 0.6051396999641143, 0.6948025197816848, 0.6468152527424009, 0.5724311391250257, 0.3290240396712813, 0.3701911650241908, 0.7102691666979191, 0.6088248054637592, 0.6467714140597289, 0.5045657618752406, 0.40982763502826935, 0.4716128101828272, 0.5202049113174553, 0.8144481104168003, 0.7254029207784949, 0.5892596782086101, 0.6238237678518292, 0.6303468086968372, 0.8251920292669888, 0.3318741464569221, 0.4161840812052443, 0.5794227303571235, 0.4505621331156311, 0.3208553831968501, 0.5559850526989919, 0.4589544162722026, 0.4197553662875338, 0.5314156533692651, 0.6187314246144202, 0.5578751684218033, 0.6051097019148579, 0.5242713554229456, 0.5987268408408515, 0.5955243115852413, 0.6143455321197779, 0.4697127655422778, 0.6971136627128754, 0.66229870965635, 0.46238438181123204, 0.6182847302514278, 0.6657283364248289, 0.4725939820200751, 0.8093237930019529, 0.9289369261885644, 0.5027118587787895, 0.2628502162786072, 0.4295076717702711, 0.3373617127147608, 0.589995161887244, 0.9251919583106312, 0.5948666454751887, 0.6118014714600088, 0.5094732765545044, 0.5412311890070843, 0.446151504890836, 0.620392055892929, 0.7068276713044582, 0.6626702064875899, 0.5783026051343632, 0.4800889046086781, 0.4161410224693502, 0.3208553831968501, 0.4629960943720008, 0.4351050613097062, 0.6811302418484678, 0.5138327810323408, 0.8514176288473655, 0.6098197611515211, 0.6919564731425232, 0.7740371421614921, 0.5458666086016136, 0.5003993096971188, 0.6013057514861917, 0.6098197611515211, 0.35449610815774923, 0.6850804894726431, 0.5830496125438399, 0.758299703809623, 0.5570261643754362, 0.6454264992871335, 0.4962447366055298, 0.5758447565611612, 0.6439825914925877, 0.4169093940337384, 0.5109930419063133, 0.5080586129066689, 0.5196863132705067, 0.4962447366055298, 0.6868116168133814, 0.5344643522287597, 0.3490120021297733, 0.4698953091896986, 0.5343922941001787, 0.8582706777960948, 0.4257399781307055, 0.4782321537543795, 0.556997727619772, 0.6377721594176248, 0.4792180009110565, 0.5672788711826817, 0.78041270983109, 0.5017263332686983, 0.4988349736322038, 0.5902437967911479, 0.4238782844855937, 0.620980305119837, 0.4219604373109945, 0.5034672212029974, 0.3757368868593704, 0.6364236449500698, 0.4670541846660594, 0.7825556890402131, 0.3701911650241908, 0.4908979883911509, 0.6342269633902287, 0.5846337906365346, 0.5129615158228926, 0.8404096621543771, 0.5776126610118469, 0.4798646797866982, 0.5851791212957991, 0.40156680946575457, 0.4716826864392595, 0.8474517132179911, 0.44467787058254815, 0.3462368107029975, 0.6321309130150968, 0.5285279585818009, 0.3230089909532323, 0.8873860805964897, 0.632592419749175, 0.8659700129382968, 0.8627954137489581, 0.8405904383361571, 0.4830746401906156, 0.5760441727172667, 0.6400483571565447, 0.6792921844437226, 0.6193668554590288, 0.5659712672709434, 0.41051125126272064, 0.7864270833791762, 0.3822806895959408, 0.6010690522149722, 0.6455339964734248, 0.5724708877839468, 0.5888271005018058, 0.5136323025791891, 0.3820824048277188, 0.6073269822745797, 0.5966423960408724, 0.6422807694263776, 0.4947711421696343, 0.5580077519194866, 0.6231542839712871, 0.16485330120346647, 0.5856831498303938, 0.4697476242898995, 0.5580077519194866, 0.4869574294169298, 0.4317070357171253, 0.5977948593550263, 0.545348354241224, 0.518479124800566, 0.8457688664485438, 0.6177875891018481, 0.7337146964873255, 0.5356554665104188, 0.3941385398458925, 0.4707539315730727, 0.5791375354749423, 0.6069757372185262, 0.6273614470848322, 0.5639220884860754, 0.8457688664485438, 0.6328520165748289, 0.5209330793305875, 0.7326033944243092, 0.4161410224693502, 0.495009787504105, 0.4955022071031012, 0.8878671463063438, 0.5287500603890649, 0.8992795990782162, 0.6238237678518292, 0.5756742184810534, 0.5582814874044351, 0.6128586541080373, 0.3155796703922896, 0.6165660806589699, 0.41424422917234577, 0.3911088846318064, 0.8305925064701626, 0.44467787058254815, 0.467413843769302, 0.4522499859812351, 0.7830371095483493, 0.6444436096161589, 0.5071108485113439, 0.4837627320098979, 0.8327574313141051, 0.4967946278510438, 0.4662622096456242, 0.4283002673559493, 0.508731241151298, 0.6815813054346181, 0.529379509181369, 0.9057768886660886, 0.9473275066349643, 0.6415251361910892, 0.5963498543267984, 0.5336501394878035, 0.5291866135999482, 0.8514176288473655, 0.5854795397495219, 0.3867161753601155, 0.5818843588912933, 0.736677413340632, 0.6122004289215379, 0.5410779524977934, 0.5090212610591779, 0.5726219435848797, 0.6048204319182022, 0.5190000723734253, 0.7044114702369764, 0.7188102099645777, 0.5991337690974036, 0.5792730416866078, 0.6119339564130707, 0.5335043143417373, 0.4919107714041727, 0.2675763211334449, 0.7728719945919372, 0.452983132099596, 0.5472309377780379, 0.5438663024727286, 0.5995365015445879, 0.4211818692788764, 0.4439571069043457, 0.4858279673478768, 0.7337146964873255, 0.6321309130150968, 0.7004466143862085, 0.6377721594176248, 0.5666616579558601, 0.8514176288473655, 0.6507269244411518, 0.5838738827923154, 0.5666616579558601, 0.5013371622205839, 0.4715772815126282, 0.9178639058476192, 0.6987704777958721, 0.5889595718963023, 0.528835697897188, 0.8305925064701626, 0.6591394768219538, 0.4219604373109945, 0.3825466666239224, 0.4421961405235597, 0.5103679324691051, 0.4585325936100983, 0.5022450227955548, 0.4117890700534452, 0.5109930419063133, 0.5903603253945124, 0.3770340851283985, 0.6411728176207399, 0.6242524993308587, 0.5557649996003, 0.5196863132705067, 0.552021062189785, 0.7680042347735891, 0.6251867974682902, 0.7964200437732492, 0.5724708877839468, 0.4767486481602734, 0.6242524993308587, 0.6422807694263776, 0.5991337690974036, 0.4989916727547925, 0.3489203563494867, 0.6423581760346339, 0.7002085179776782, 0.5888271005018058, 0.8200724177064315, 0.6897930711489744, 0.5187439585798745, 0.36072920580223455, 0.7183813423833088, 0.6932584876312344, 0.5590884691695681, 0.4543015602419648, 0.5410334266884267, 0.6142758429530866, 0.4280400406701058, 0.6334088994955871, 0.5599914150758433, 0.4211818692788764, 0.536546301483389, 0.548585130198109, 0.5179684456721637, 0.6216169217184164, 0.5760441727172667, 0.5934960438312681, 0.8119530400982676, 0.5358226097777689, 0.6174214066397045, 0.4449212499177607, 0.366302894628521, 0.7370012768920197, 0.6313365042114676, 0.42338584679609104, 0.6231542839712871, 0.5144257731669367, 0.7011808736075507, 0.4597971288376104, 0.7890980315056719, 0.7456251877421854, 0.6408601560517279, 0.7052054033286036, 0.4059239066513581, 0.736677413340632, 0.5410334266884267, 0.5371312593111861, 0.612657823642785, 0.5303556678749041, 0.4393252106492709, 0.5536370861963962, 0.6106323381224215, 0.4582043919097577, 0.5466465034851766, 0.6231542839712871, 0.5013371622205839, 0.6072601288303907, 0.4748294068932669, 0.4668979601451768, 0.5986364339485454, 0.4310149634086798, 0.6168845440365633, 0.4068019969695495, 0.5982371324954726, 0.5371605629718418, 0.5558842865109518, 0.5293865344191813, 0.5236534084935914, 0.5700167028852964, 0.4882373664134809, 0.4371937769385019, 0.5447494894552873, 0.3867161753601155, 0.6281213400288287, 0.7613622384458618, 0.8504301034176978, 0.5159893302977827, 0.3622103246354881, 0.4321364774207179, 0.5455990200290305, 0.4420305132891076, 0.6626702064875899, 0.4736241237475465, 0.5205537457116164, 0.5828031912881204, 0.8278537698666787, 0.5080366162448481, 0.4266838138087468, 0.8148296561331122, 0.291433259678306, 0.5253329136601428, 0.586950621729773, 0.5796145596913875, 0.5344643522287597, 0.5458666086016136, 0.758299703809623, 0.6397235861114385, 0.5101921765848437, 0.5574602197393447, 0.5134675221364372, 0.4505594250305155, 0.32570077099924793, 0.5614646464110922, 0.5189128119166423, 0.6231542839712871, 0.46499431936808794, 0.6048204319182022, 0.5978791921376633, 0.6228901803498007, 0.5589162440267129, 0.6354834550741343, 0.5493956187351183, 0.7409688937851947, 0.3628001416809383, 0.5231612936258231, 0.8736271743351188, 0.8768298777499862, 0.5772285027779873, 0.4313930950644988, 0.5419683747338633, 0.5995365015445879, 0.6310812836244424, 0.6578701556233562, 0.7042447660376749, 0.8148296561331122, 0.5896946052467457, 0.5027118587787895, 0.6104277251451776, 0.6657283364248289, 0.6695001252208089, 0.5158476541694029, 0.5578751684218033, 0.4967946278510438, 0.4533504433363325, 0.541122639292241, 0.5374253114214363, 0.47189487551491605, 0.6335459987503766, 0.8992795990782162, 0.6948025197816848, 0.6990357550545981, 0.4283002673559493, 0.4955565651059908, 0.6833410359778677, 0.4828052476468271, 0.6780088367788917, 0.8327574313141051, 0.6495831072184148, 0.4855204954111083, 0.4275912605802422, 0.6212017484050729, 0.4323864772977878, 0.8627954137489581, 0.7560638708428911, 0.8768298777499862, 0.8093237930019529, 0.5818843588912933, 0.6645599786043399, 0.7724713126740976, 0.6301073216146793, 0.5995365015445879, 0.5460293650803792, 0.6933279789975069, 0.5574602197393447, 0.5140642764185136, 0.35204283826895044, 0.6129531542390639, 0.6303468086968372, 0.6212135105125054, 0.7864270833791762, 0.5660139535453025, 0.5044248560333591, 0.7014417589824127, 0.6906262561196315, 0.501801129725174, 0.4153541259748368, 0.5735273126132847, 0.4220193211005218, 0.407849996596646, 0.6918008497694178, 0.5726219435848797, 0.4790234097367525, 0.5893145017348558, 0.4458546313595108, 0.3600311664643514, 0.5027831006782288, 0.6695001252208089, 0.5772285027779873, 0.6205413817053209, 0.6646909389368294, 0.8218442551240023, 0.5492829074585028, 0.4743290196991857, 0.5057847627270969, 0.5832986299963719, 0.6038391696904002, 0.7732718477461717, 0.6051097019148579, 0.6010690522149722, 0.5328453025595845, 0.666522676566775, 0.5693296873667095, 0.4258833216131893, 0.4844091226249884, 0.6375210504152117, 0.8106969830715695, 0.4748294068932669, 0.8582706777960948, 0.401847574658048, 0.5856831498303938, 0.7410404327961191, 0.4506459971150351, 0.3751956643218792, 0.4234013772561962, 0.8327574313141051, 0.8105062052254818, 0.7113800959726605, 0.464807726203793, 0.6744647047022475, 0.4001520968206114, 0.6058804710656306, 0.4637917070302043, 0.5892596782086101, 0.448026304493546, 0.6430161439406239, 0.5005069651416891, 0.7708136516700133, 0.4292353435277252, 0.5086762010384817, 0.6394369488218412, 0.7014417589824127, 0.5086762010384817, 0.5999351719472565, 0.6290898140356321, 0.3643453511681014, 0.3600311664643514, 0.6038391696904002, 0.5660139535453025, 0.4524005818708859, 0.7864270833791762, 0.6038391696904002, 0.6069757372185262, 0.3911088846318064, 0.5343922941001787, 0.8251920292669888, 0.4898162689820407, 0.6645599786043399, 0.5252273355598288, 0.5258694370949799, 0.8457688664485438, 0.5830496125438399, 0.6424529506012729, 0.8218442551240023, 0.4229713078848842, 0.4716826864392595, 0.4662622096456242, 0.6587312783033741, 0.4285161504605869, 0.5756865010660667, 0.4989461483987589, 0.6868116168133814, 0.6740882974878903, 0.7323937065230082, 0.7510401261129247, 0.4719290516914586, 0.6721999444118556, 0.6780088367788917, 0.6495831072184148, 0.5854340097196036, 0.6447333061973751, 0.8327574313141051, 0.612657823642785, 0.3825466666239224, 0.5889595718963023, 0.44625666654061785, 0.6454264992871335, 0.5590884691695681, 0.8768299271821302, 0.7014417589824127, 0.478119091290754, 0.6546449746458465, 0.5017255340097071, 0.4767486481602734, 0.5775327466836254, 0.6118014714600088, 0.7869212313686974, 0.2593749084637633, 0.5902437967911479, 0.7184007690058051, 0.78041270983109, 0.6073269822745797, 0.5379505190876106, 0.7963203781664332, 0.7549176454508227, 0.5447494894552873, 0.5625972420828771, 0.7410404327961191, 0.3292364989297267, 0.6833410359778677, 0.3317821992100117, 0.5710468193879703, 0.6069757372185262, 0.5237146369702328, 0.7113800959726605, 0.5013371622205839, 0.6849948965806557, 0.5120253147594293, 0.5247476085525501, 0.5464602881310222, 0.5896946052467457, 0.6069757372185262, 0.5896946052467457, 0.3628001416809383, 0.5617448040205617, 0.6190077196111018, 0.6695001252208089, 0.4199431484349393, 0.5196863132705067, 0.4207172587460705, 0.7732718477461717, 0.3004990465562955, 0.6757713674141217, 0.6867208337716193, 0.4790234097367525, 0.5037387899485233, 0.4517844059541925, 0.4248494750197992, 0.5816918614031427, 0.6155041026415558, 0.7728719945919372, 0.38980296682759785, 0.4916510524511258, 0.5335043143417373, 0.6238237678518292, 0.4893600464920905, 0.5462530728517105, 0.5735273126132847, 0.3416959130760625, 0.5003899591946774, 0.6413540809343606, 0.5948666454751887, 0.6810906917425594, 0.4238782844855937, 0.5959966284893823, 0.5458666086016136, 0.5391115605471758, 0.6047793026785834, 0.4908979883911509, 0.5901310518953434, 0.8220349621993864, 0.5832986299963719, 0.4458546313595108, 0.6983882645342994, 0.8879204501926365, 0.6833410359778677, 0.6235016600579499, 0.6117711132155927, 0.7337989404362274, 0.7142014472093124, 0.5164437797727629, 0.6423553254367379, 0.6823206111515216, 0.5756922986571801, 0.5570261643754362, 0.3770340851283985, 0.5614646464110922, 0.5524167322191708, 0.4682509114975055, 0.5067763304136886, 0.6010690522149722, 0.5700167028852964, 0.5794227303571235, 0.6231304368786019, 0.6323675939714912, 0.4457727477600304, 0.7370012768920197, 0.6726805928835387, 0.8130130889348834, 0.6742960860783537, 0.760636111943095, 0.36072920580223455, 0.7429631523413633, 0.4675699664299343, 0.5578751684218033, 0.6128586541080373, 0.200729608076517, 0.5008486917390443, 0.6247237675785525, 0.4675699664299343, 0.7541808331304262, 0.4793726629734222, 0.550752434792912, 0.6377721594176248, 0.6285601559358945, 0.3230089909532323, 0.4882373664134809, 0.4905864018711718, 0.6881460514518386, 0.5794241084560094, 0.9115996573812846, 0.775797362701256, 0.4449212499177607, 0.5971133628313751, 0.6321309130150968, 0.5908165135922658, 0.6591394768219538, 0.4581795599988927, 0.7754945075880668, 0.8218442551240023, 0.4973075122753628, 0.566157341575077, 0.8148296561331122, 0.6182847302514278, 0.5199396853210472, 0.5458666086016136, 0.5266460549313882, 0.4998810748804663, 0.4001520968206114, 0.5493956187351183, 0.5199396853210472, 0.6479336219623286, 0.3230089909532323, 0.6525086437067091, 0.6301073216146793, 0.6174214066397045, 0.674288836752463, 0.5045657618752406, 0.4282526542672777, 0.5320695697982138, 0.47189487551491605, 0.6397235861114385, 0.7225705735101466, 0.5285279585818009, 0.6128375038274145, 0.5772285027779873, 0.6634009273844678, 0.656020324257448, 0.5934960438312681, 0.6044144921616125, 0.5057847627270969, 0.5586612322397551, 0.6135980572608721, 0.6301073216146793, 0.6069757372185262, 0.5724708877839468, 0.3230089909532323, 0.6401515444659934, 0.6948025197816848, 0.3867161753601155, 0.8037219349782518, 0.8526389322187791, 0.4887418658569618, 0.6129531542390639, 0.8169981890795497, 0.6439825914925877, 0.5262845426581672, 0.495009787504105, 0.6328520165748289, 0.5116634453722071, 0.5902437967911479, 0.6948025197816848, 0.5856831498303938, 0.38849474840551385, 0.6401515444659934, 0.6247237675785525, 0.6495831072184148, 0.6168845440365633, 0.4234013772561962, 0.4214213026125716, 0.6242524993308587, 0.6548608223430427, 0.6477690631022126, 0.4068019969695495, 0.8586774418483041, 0.5103679324691051, 0.6297490400005165, 0.5430611433753401, 0.7177627022534055, 0.7068276713044582, 0.476606779607061, 0.7864270833791762, 0.6024664761030897, 0.6602256811638825, 0.7014417589824127, 0.6098197611515211, 0.3209746661444103, 0.6999247645104929, 0.5744007886920006, 0.5082188855205949, 0.4503612608774568, 0.6279174684114319, 0.3569906982225354, 0.5303556678749041, 0.4342720374495127, 0.4211436512288945, 0.6634009273844678, 0.9178639058476192, 0.4386446981737605, 0.4580551793630036, 0.5492829074585028, 0.5760441727172667, 0.4962447366055298, 0.6567597878169679, 0.4804019702957005, 0.5818843588912933, 0.6273614470848322, 0.6821012817114168, 0.4736241237475465, 0.4161410224693502, 0.5554956027898659, 0.7825556890402131, 0.09341320290446946, 0.6744647047022475, 0.5963498543267984, 0.4706154005905156, 0.3784085580880031, 0.5336501394878035, 0.775797362701256, 0.5074306290551038, 0.4987584081140403, 0.5834430235496894, 0.9473275066349643, 0.5580077519194866, 0.3600311664643514, 0.5965011880976211, 0.8627954137489581, 0.6334088994955871, 0.6478348400058205, 0.4161410224693502, 0.3949625000942707, 0.6073269822745797, 0.5202049113174553, 0.7964200437732492, 0.73120804716564, 0.675003400858032, 0.1135429332778124, 0.4229713078848842, 0.5454352386697442, 0.5179684456721637, 0.6321309130150968, 0.9178639058476192, 0.5492829074585028, 0.42729829264388397, 0.7765989678295455, 0.4258833216131893, 0.5513111166062027, 0.8119530400982676, 0.6364236449500698, 0.5709001037765814, 0.7732718477461717, 0.6166981923598915, 0.5824316192408382, 0.5400377489797789, 0.7964200437732492, 0.4400424448579729, 0.7963203781664332, 0.7483207030670265, 0.4965930646067649, 0.535712478985484, 0.5869483184078249, 0.5817531364935757, 0.4506459971150351, 0.4193202487520501, 0.6883324837888457, 0.8507899885550886, 0.6683706115518646, 0.5599914150758433, 0.6495831072184148, 0.9089842956402568, 0.5914285519642304, 0.3198683241789517, 0.37834796858643616, 0.42338584679609104, 0.763010513430572, 0.5854795397495219, 0.3872425947084871, 0.6143455321197779, 0.5040063402602203, 0.4651246335882435, 0.1041869865719754, 0.5202049113174553, 0.6242524993308587, 0.4651246335882435, 0.6933279789975069, 0.5830496125438399, 0.4941316521876462, 0.5022450227955548, 0.604282094145912, 0.4858279673478768, 0.4897124364921915, 0.8105062052254818, 0.5370882970195974, 0.6422807694263776, 0.5781036297198625, 0.6022640474274863, 0.6715962698483039, 0.5737198552868119, 0.7483207030670265, 0.4880088818032522, 0.5814752192996689, 0.9339161063701852, 0.7964198043707423, 0.7492177930489549, 0.5174805719265905, 0.5490129517735902, 0.4499245409212633, 0.5756922986571801, 0.5766453163671337, 0.3230089909532323, 0.8211214313364393, 0.7044114066677578, 0.39840082036642216, 0.4217922530276164, 0.4258833216131893, 0.5171862417196517, 0.3208553831968501, 0.4458546313595108, 0.8235482530215249, 0.4697881611224668, 0.4921993313336216, 0.8586774418483041, 0.5086762010384817, 0.6129531542390639, 0.6578262934725394, 0.5908850701591912, 0.6479330840935879, 0.8879204501926365, 0.5513111166062027, 0.5336595943709138, 0.9339161063701852, 0.3911088846318064, 0.34173223003613984, 0.7754945075880668, 0.9349352673982084, 0.5889385097500909, 0.6069757372185262, 0.5559850526989919, 0.3208553831968501, 0.478119091290754, 0.5986364339485454, 0.5856831498303938, 0.5419683747338633, 0.5209330793305875, 0.6176086939874837, 0.3230089909532323, 0.4497592459723694, 0.5694255788316922, 0.8130130889348834, 0.7510076200369779, 0.5473251469716055, 0.6251867974682902, 0.7326033944243092, 0.6104277251451776, 0.8218442551240023, 0.5296806732679338, 0.5896946052467457, 0.757801082321389, 0.5344643522287597, 0.6797935559497998, 0.7728719945919372, 0.5474853014247726, 0.6182968439727855, 0.5473251469716055, 0.5300303136186575, 0.5733867241175619, 0.8259623460213872, 0.8048388888270448, 0.5934960438312681, 0.031013498945186273, 0.6293018056764849, 0.7765989678295455, 0.6334023422021283, 0.4796207472295076, 0.5099846245869376, 0.7510401261129247, 0.3462368107029975, 0.4080719105619905, 0.4859212857211152, 0.5174805719265905, 0.6898005928001073, 0.5103679324691051, 0.5934202959088998, 0.5735273126132847, 0.5705069361959879, 0.37834796858643616, 0.3988463194994709, 0.5893145017348558, 0.6987704777958721, 0.675771369616503, 0.5738431163226819, 0.4068019969695495, 0.7708726497375289, 0.5743000682773265, 0.6168963856681389, 0.7740371421614921, 0.489610124681079, 0.5328453025595845, 0.9289369261885644, 0.44567042145891583, 0.7549176454508227, 0.4234013772561962, 0.3707036035190023, 0.69300920358103, 0.38675340602213376, 0.4647794403925874, 0.8278537698666787, 0.632592419749175, 0.477823317117988, 0.625762202039171, 0.3318281980383094, 0.40743039974998796, 0.6415251361910892, 0.441586733214394, 0.5099813426515611, 0.6821012817114168, 0.4325296591938823, 0.7044114066677578, 0.5582453092722094, 0.4707539315730727, 0.8411364060109523, 0.6768695968686913, 0.5306308092970305, 0.36072920580223455, 0.5876306799560501, 0.6048204319182022, 0.4916950712769936, 0.6347645563707436, 0.6918507365964088, 0.4282526542672777, 0.4962447366055298, 0.5514273069399679, 0.8627954137489581, 0.6752039969673187, 0.4543015602419648, 0.5018901258701728, 0.5244356686431549, 0.4568528460208728, 0.7476840758686324, 0.04284826550368848, 0.5372882980689405, 0.5759827021457528, 0.5053782030752867, 0.7829842111650066, 0.439663710601362, 0.5772285027779873, 0.639396479556684, 0.510577267623518, 0.7759461836753431, 0.4689768654395085, 0.4217922530276164, 0.4193202487520501, 0.6394369488218412, 0.479290854130295, 0.6251867974682902, 0.6166981923598915, 0.7869212313686974, 0.3863629122442042, 0.4804019702957005, 0.7337989404362274, 0.9290302874411605, 0.5164437797727629, 0.4265127607348456, 0.775797362701256, 0.491071814191768, 0.473899746110861, 0.5441619954057879, 0.5641289501467455, 0.36072920580223455, 0.8627954137489581, 0.35449610815774923, 0.4128674880374229, 0.7188102099645777, 0.4242028280284693, 0.6683706115518646, 0.6323675939714912, 0.6091238748175969, 0.6454264992871335, 0.566157341575077, 0.760636111943095, 0.5856101413317212, 0.448026304493546, 0.7483207030670265, 0.4503612608774568, 0.8030873549481594, 0.4676204762159618, 0.5694777572890569, 0.7188102099645777, 0.5174805719265905, 0.6098197611515211, 0.6697261875661445, 0.5154556541589456, 0.6495831072184148, 0.4219604373109945, 0.4942690545534672, 0.8070434798589495, 0.5791375354749423, 0.6069757372185262, 0.6129531542390639, 0.6533406926626858, 0.40743039974998796, 0.9473275066349643, 0.6247237675785525, 0.7613622384458618, 0.5374253096699335, 0.5659712672709434, 0.5816918614031427, 0.6855028320873736, 0.5187439585798745, 0.6088248054637592, 0.4183818116338261, 0.8474517132179911, 0.5237146369702328, 0.6811302418484678, 0.7740371421614921, 0.4280616593723022, 0.7512163478343338, 0.7448443772694037, 0.5901310518953434, 0.6790118688100006, 0.5158476541694029, 0.604282094145912, 0.4342720374495127, 0.4234013772561962, 0.6306300375898077, 0.5667964748327188, 0.9089842956402568, 0.3880961909577584, 0.6032689215608122, 0.6610801676039384, 0.6898005928001073, 0.7978900102192453, 0.4803771527410844, 0.6088248054637592, 0.4517844059541925, 0.1135429332778124, 0.8220349621993864, 0.5130813777205246, 0.7326033944243092, 0.5531048329205209, 0.0, 0.4699919632120788, 0.7113800959726605, 0.7014417589824127, 0.4880088818032522, 0.5751917687532937, 0.5776331497038921, 0.6148875882171886, 0.6069253585317187, 0.5564100130893208, 0.6051097019148579, 0.3701911650241908, 0.6174733248277471, 0.4815952124852683, 0.763010513430572, 0.5438663024727286, 0.502942306735046, 0.4190837765958047, 0.3741029820954381, 0.4962447366055298, 0.640720629480798, 0.8736271743351188, 0.4058059511016805, 0.6281025772725769, 0.9089842956402568, 0.5672788711826817, 0.5044248560333591, 0.13348932953859066, 0.5285096781804877, 0.3872425947084871, 0.5034672212029974, 0.4556797785436178, 0.6811302418484678, 0.5531048329205209, 0.7830371095483493, 0.6394369488218412, 0.450821298261678, 0.4589544162722026, 0.5758447565611612, 0.44316239759770826, 0.3911088846318064, 0.4234013772561962, 0.3490120021297733, 0.7781427230551999, 0.6342269633902287, 0.8095522095461632, 0.4670541846660594, 0.4859212857211152, 0.528835697897188, 0.5236534084935914, 0.8563174271993809, 0.5343922941001787, 0.30552362799121063, 0.4183993103634775, 0.4998810748804663, 0.760636111943095, 0.5466465034851766, 0.4828052476468271, 0.6599449187584954, 0.6111718220586841, 0.8144481104168003, 0.6749188161079736, 0.6013057514861917, 0.4957969321350518, 0.8218442551240023, 0.5574602197393447, 0.6142617638576565, 0.5797145839298071, 0.9473275066349643, 0.4597971288376104, 0.6176086939874837, 0.5344643522287597, 0.5599914150758433, 0.5019211636507392, 0.4070193134633718, 0.5744007886920006, 0.4059239066513581, 0.6294632451871911, 0.612657823642785, 0.618692141580311, 0.8873860805964897, 0.4815952124852683, 0.6790118688100006, 0.5589054138529173, 0.5058471105369804, 0.5236534084935914, 0.620379479284656, 0.6430166662617105, 0.7188102099645777, 0.5972814779044859, 0.450852685134409, 0.7011187444188275, 0.5586792493895179, 0.5958117467766225, 0.5903603253945124, 0.6358987101801273, 0.5968458517450551, 0.5134675221364372, 0.5719267307972329, 0.6320417540294726, 0.4716128101828272, 0.5804813479417901, 0.28140936661502425, 0.8235482530215249, 0.4254172965194867, 0.9339161063701852, 0.5458034330827527, 0.6238237678518292, 0.561003950198288, 0.6135980572608721, 0.4697881611224668, 0.4973075122753628, 0.9514878179609624, 0.4859212857211152, 0.6610801676039384, 0.4152871818587685, 0.4670541846660594, 0.7385944987679516, 0.4738039250123142, 0.4998810748804663, 0.5608298024409907, 0.4399936927978003, 0.7765989678295455, 0.4865626432023736, 0.4892801786318906, 0.4393252106492709, 0.35676303470686155, 0.8070434798589495, 0.9339161063701852, 0.7865294756459085, 0.5764517043575037, 0.6811302418484678, 0.7963203781664332, 0.620379479284656, 0.4598101627513326, 0.5138327810323408, 0.5189128119166423, 0.8278537698666787, 0.4955022071031012, 0.4998810748804663, 0.6918507365964088, 0.40982763502826935, 0.8659700063313627, 0.69300920358103, 0.6883324837888457, 0.6207095414420035, 0.7226104115222189, 0.675003400858032, 0.7127448996498358, 0.9057768886660886, 0.6987704777958721, 0.4400424448579729, 0.5344643522287597, 0.4991251154004301, 0.6174733248277471, 0.5796145596913875, 0.8105062052254818, 0.6051097019148579, 0.4128674880374229, 0.6413540809343606, 0.8360393532787289, 0.7490298749983422, 0.5481087739449281, 0.6548608223430427, 0.467583201065844, 0.4399936927978003, 0.6835250649823107, 0.6469227250825073, 0.6294632451871911, 0.6119339564130707, 0.6825080097605217, 0.450625272163471, 0.5834430235496894, 0.479290854130295, 0.6394369488218412, 0.4390944564741512, 0.7038238898664649, 0.36072920580223455, 0.7483207030670265, 0.5174805719265905, 0.5818843588912933, 0.5473251469716055, 0.6047793026785834, 0.5467275539627645, 0.5107980105115456, 0.4642109832508296, 0.4234013772561962, 0.4506459971150351, 0.6583492153531787, 0.4004543946434404, 0.5994647627472443, 0.5568076547647589, 0.6000915236898566, 0.7429631523413633, 0.8879204501926365, 0.9178639058476192, 0.6770166962147779, 0.4613943598497839, 0.5422327171052012, 0.6906262561196315, 0.6971136627128754, 0.5454352386697442, 0.7046829515331289, 0.5724708877839468, 0.6838450066083304, 0.666522676566775, 0.4283002673559493, 0.5438663024727286, 0.4668979601451768, 0.7318390138424373, 0.4566050599657094, 0.4031036593819146, 0.5794398489780221, 0.8405904383361571, 0.8130130889348834, 0.6236376236400831, 0.8037219349782518, 0.5995365015445879, 0.4031036593819146, 0.8992795990782162, 0.4531710070713659, 0.4719290516914586, 0.5285279585818009, 0.5103948065682661, 0.6821012817114168, 0.4458586708534961, 0.9089842956402568, 0.3825466666239224, 0.6364236449500698, 0.6415251361910892, 0.5971133628313751, 0.5856831498303938, 0.8130130889348834, 0.7483207030670265, 0.35908199343880004, 0.6052783033175688, 0.5694777572890569, 0.38980296682759785, 0.5707044692696098, 0.5074220246144049, 0.6000915236898566, 0.5963498543267984, 0.5824605669027118, 0.6693715019351177, 0.06719852768364347, 0.4964367959139354, 0.5916020057286843, 0.5893145017348558, 0.507862067492449, 0.6822685345511467, 0.6104277251451776, 0.5889385097500909, 0.5296806732679338, 0.5832908241349808, 0.4568528460208728, 0.8457688664485438, 0.5964151206634225, 0.46499431936808794, 0.5262845426581672, 0.6876196662345889, 0.5766453163671337, 0.4871408009458939, 0.6247237675785525, 0.6213619102466308, 0.5003993096971188, 0.4929157764573099, 0.4858555956731805, 0.5971133628313751, 0.450625272163471, 0.5358226097777689, 0.531728128302305, 0.5304210281378959, 0.6411728176207399, 0.7830371095483493, 0.5138327810323408, 0.4792180009110565, 0.8048388888270448, 0.6313365042114676, 0.4371937769385019, 0.3632371224762683, 0.6128586541080373, 0.5524167322191708, 0.548585130198109, 0.4779630135082117, 0.5856831498303938, 0.3676807451512633, 0.5039123733252647, 0.5999351719472565, 0.5493956187351183, 0.5756922986571801, 0.656364988285838, 0.3763772647569161, 0.6716106398358989, 0.5743000682773265, 0.5451654411381094, 0.8169981890795497, 0.448026304493546, 0.4878719324655712, 0.44211120027219936, 0.7728719945919372, 0.9089842956402568, 0.6850804894726431, 0.5889385097500909, 0.8220349621993864, 0.4779630135082117, 0.5765230991158408, 0.6821012817114168, 0.5986364339485454, 0.5781036297198625, 0.6415251361910892, 0.4983370819045986, 0.5303556678749041, 0.8405904383361571, 0.5693599059622848, 0.5017263332686983, 0.32570077099924793, 0.3290240396712813, 0.4942690545534672, 0.839962768151037, 0.3208553831968501, 0.6646909389368294, 0.6919564731425232, 0.5317578163092833, 0.4859212857211152, 0.6168965906885817, 0.5400377489797789, 0.5303556678749041, 0.44791395761023606, 0.6058804710656306, 0.4908979883911509, 0.7011767171287973, 0.5281074677262658, 0.8218442551240023, 0.9115996573812846, 0.5756472206789768, 0.4790234097367525, 0.5818843588912933, 0.6335459987503766, 0.5190000723734253, 0.5818843588912933, 0.5536370861963962, 0.5782235235977704, 0.5283356156961408, 0.5999351719472565, 0.7318222186514295, 0.34173223003613984, 0.4757309775508306, 0.8078768678891759, 0.9473275066349643, 0.4283002673559493, 0.7410404327961191, 0.3867161753601155, 0.5788249361968457, 0.9110441973054524, 0.4421961405235597, 0.6578831163450102, 0.8507282658584009, 0.34173223003613984, 0.7825556890402131, 0.4152871818587685, 0.5678142640009771, 0.7132749723642293, 0.666522676566775, 0.6135980572608721, 0.3745534356821609, 0.6242003276351012, 0.5584758161805727, 0.8507899885550886, 0.5839898424155631, 0.609896793188508, 0.4458546313595108, 0.5934202959088998, 0.4580551793630036, 0.3384487448544034, 0.40982763502826935, 0.7728719945919372, 0.6422807694263776, 0.7225705735101466, 0.73120804716564, 0.475827934504847, 0.6174300275872829, 0.46499431936808794, 0.5344436024147244, 0.3391495064777548, 0.6281213400288287, 0.5589054138529173, 0.5659712672709434, 0.8873860805964897, 0.6948025197816848, 0.33122624064054484, 0.6408071019636729, 0.6309286076787999, 0.4979421060663372, 0.4796207472295076, 0.536546301483389, 0.4265399840633068, 0.5904731942517181, 0.38230828283667867, 0.8169981890795497, 0.5296806732679338, 0.9290302874411605, 0.44625666654061785, 0.8582706777960948, 0.5948666454751887, 0.5882378619955281, 0.35449610815774923, 0.5758447565611612, 0.5692453957724605, 0.6587312783033741, 0.6072601288303907, 0.4988349752579382, 0.4375990718636457, 0.5856101413317212, 0.6010690522149722, 0.5013371622205839, 0.3684363401168633, 0.7483207030670265, 0.7510076200369779, 0.8729337830728209, 0.5806002040207546, 0.5129615158228926, 0.5211435203292369, 0.3809058802724405, 0.5044101146285818, 0.7044114702369764, 0.6706428435139353, 0.4796207472295076, 0.6795192077928062, 0.6072601288303907, 0.4009789636501435, 0.9349352673982084, 0.589995161887244, 0.6211704695060651, 0.4408046141478822, 0.7765989678295455, 0.6279174684114319, 0.6309286076787999, 0.41190497788763103, 0.4898162689820407, 0.9020629269028732, 0.6790118688100006, 0.5885718420568349, 0.3321943831413619, 0.32570077099924793, 0.5158476541694029, 0.031013498945186273, 0.4962447366055298, 0.6415251361910892, 0.5050743033677243, 0.4072431195052308, 0.6716106398358989, 0.8389243105071171, 0.6430166662617105, 0.5400377489797789, 0.6810906917425594, 0.5896946052467457, 0.7011187444188275, 0.4973075122753628, 0.5821292945146708, 0.5017263332686983, 0.8119530400982676, 0.4483187194335348, 0.6061186456969245, 0.5035236667540658, 0.6182968439727855, 0.4458586708534961, 0.5660139535453025, 0.3803411536117872, 0.7728732738402645, 0.7492177930489549, 0.7864270833791762, 0.7323938630696031, 0.6444436096161589, 0.7225705735101466, 0.5158476541694029, 0.6954165190418939, 0.3809058802724405, 0.5860214716577687, 0.8360393532787289, 0.6242524993308587, 0.7714921495221693, 0.5972814779044859, 0.5700167028852964, 0.5574602197393447, 0.03604361672910314, 0.3916936423306652, 0.5927973462665315, 0.61280404427931, 0.5344436024147244, 0.3684363401168633, 0.4386434987422444, 0.5042187563540887, 0.5044101146285818, 0.6469227250825073, 0.5772285027779873, 0.8093237930019529, 0.5791354331078299, 0.6293018056764849, 0.4390944564741512, 0.7108231455280679, 0.5501213259675541, 0.9289369261885644, 0.6726805928835387, 0.366302894628521, 0.7481046721253537, 0.4858555956731805, 0.6162638817010739, 0.4264518445988792, 0.6394369488218412, 0.4382130939787301, 0.7550413499986275, 0.6012954416121729, 0.4517844059541925, 0.5205537457116164, 0.6918507365964088, 0.6796542390260255, 0.3230089909532323, 0.9289369261885644, 0.7708726497375289, 0.5400377489797789, 0.4459262745877275, 0.510288292720926, 0.44106015184555775, 0.6478020298537229, 0.2946779221221197, 0.40743039974998796, 0.5524167322191708, 0.5057847627270969, 0.4179360568274809, 0.36072920580223455, 0.7708136516700133, 0.5328453025595845, 0.7336378248267537, 0.5205537457116164, 0.758299703809623, 0.6774204652262298, 0.5557649996003, 0.518479124800566, 0.675003400858032, 0.7014417589824127, 0.6478348400058205, 0.8389243105071171, 0.3485825975067127, 0.5667964748327188, 0.3941385398458925, 0.4242028280284693, 0.6342269633902287, 0.5907929571811064, 0.5134675221364372, 0.5828046937905624, 0.42837541665132417, 0.5202049113174553, 0.7682236249154689, 0.6168845440365633, 0.8144481104168003, 0.7326611319120517, 0.5794241084560094, 0.7897070489895957, 0.6768695968686913, 0.6948025197816848, 0.8200724177064315, 0.4979421060663372, 0.5013683431967768, 0.456059154614271, 0.8278537698666787, 0.5977948593550263, 0.5227140752907256, 0.4972215761433738, 0.6548608223430427, 0.5964677445995821, 0.7326033944243092, 0.5466486936336079, 0.5422327171052012, 0.4337212895597037, 0.9009676339614728, 0.757801082321389, 0.6281213400288287, 0.449798792381708, 0.6792921844437226, 0.6377721594176248, 0.5391115605471758, 0.7259748663356329, 0.5202049113174553, 0.2334404558154214, 0.5824605669027118, 0.4962541480030983, 0.5116634453722071, 0.4457727477600304, 0.3751956643218792, 0.46499431936808794, 0.4738039250123142, 0.8235482530215249, 0.6231542839712871, 0.736677413340632, 0.7483207030670265, 0.8582706777960948, 0.6792921844437226, 0.5830496125438399, 0.47189487551491605, 0.9020629269028732, 0.6797935559497998, 0.4698953091896986, 0.3941385398458925, 0.5109930419063133, 0.5930160630991372, 0.5934202959088998, 0.6130292907732521, 0.7726707256056151, 0.8095522095461632, 0.6213619102466308, 0.5473251469716055, 0.516323199450715, 0.5466486936336079, 0.6578262934725394, 0.8586774418483041, 0.6918507365964088, 0.6752039969673187, 0.6553591154261498, 0.5824605669027118, 0.5493956187351183, 0.6675090867510377, 0.4871408009458939, 0.4152871818587685, 0.674288836752463, 0.5557649996003, 0.6610013371011454, 0.3820824048277188, 0.7728719945919372, 0.8457688664485438, 0.4087967366784389, 0.6072601288303907, 0.5080586129066689, 0.6821012817114168, 0.5042237768811729, 0.6024664761030897, 0.6693715019351177, 0.5570261643754362, 0.5419683747338633, 0.5141057427638225, 0.4757215667306782, 0.3665351124777029, 0.4921993313336216, 0.5893145017348558, 0.6231304368786019, 0.8148296561331122, 0.6322428511255029, 0.4183818116338261, 0.4964367959139354, 0.44393068162786814, 0.4662622096456242, 0.6413540809343606, 0.27443294790503525, 0.6748541472191385, 0.6599449187584954, 0.6115558337900473, 0.5834430235496894, 0.5070160807186288, 0.8169981890795497, 0.7781427230551999, 0.8220349621993864, 0.5660139535453025, 0.3726755831274244, 0.6380733763602572, 0.4988349752579382, 0.5052693955224341, 0.6142758429530866, 0.508731241151298, 0.7708726497375289, 0.486056616648333, 0.5314156533692651, 0.625762202039171, 0.4079049611147865, 0.5694777572890569, 0.5172745924496447, 0.2911915994831514, 0.4234013772561962, 0.6098197611515211, 0.4207172587460705, 0.44393068162786814, 0.4779630135082117, 0.5090376005544694, 0.7708143665311318, 0.4814450922686157, 0.5914236590704917, 0.6145956027600212, 0.4738039250123142, 0.4682509114975055, 0.6010690522149722, 0.5236444060511708, 0.7259748663356329, 0.4897124364921915, 0.5574602197393447, 0.3489203563494867, 0.5412311890070843, 0.6419635234855021, 0.6231304368786019, 0.5310108259424263, 0.7732718477461717, 0.6906262561196315, 0.6168845440365633, 0.3266997281304141, 0.5071108485113439, 0.5908187730387471, 0.7462138568088962, 0.6364236449500698, 0.5878185933389101, 0.6578831163450102, 0.5037387899485233, 0.618692141580311, 0.7014417589824127, 0.8788113434931999, 0.5893145017348558, 0.7549176454508227, 0.5559850526989919, 0.3809058802724405, 0.5866078184059821, 0.6072224015544772, 0.5908187730387471, 0.5080586129066689, 0.6578831163450102, 0.6012954416121729, 0.496378120336174, 0.2585031945744236, 0.5643338386201754, 0.6683706115518646, 0.3353113415308729, 0.5885807718495031, 0.8390215312246203, 0.7318222186514295, 0.5007893422910681, 0.6000915236898566, 0.6129531542390639, 0.6162638817010739, 0.589995161887244, 0.8586774418483041, 0.452983132099596, 0.6279174684114319, 0.7011187444188275, 0.5042237768811729, 0.6177875891018481, 0.5794241084560094, 0.4962277300143729, 0.6533406926626858, 0.5589162440267129, 0.4752593322596274, 0.3807248481475525, 0.5079967178577153, 0.5303556678749041, 0.5934960438312681, 0.5694255788316922, 0.4965930646067649, 0.547684660288279, 0.450852685134409, 0.477823317117988, 0.4078249888851877, 0.594464632807191, 0.3708488714955479, 0.5903603253945124, 0.4882785086022949, 0.6933279789975069, 0.4530852500988185, 0.5083599025668306, 0.5531048329205209, 0.5733867241175619, 0.5371605629718418, 0.5134675221364372, 0.4743290196991857, 0.620392055892929, 0.4230183445180617, 0.7476840758686324, 0.530412426848088, 0.7550413499986275, 0.4493236152076617, 0.8119530400982676, 0.4983991381411617, 0.6273614470848322, 0.6740231561759062, 0.6823206111515216, 0.6792921844437226, 0.5688048647202345, 0.7510401261129247, 0.4517844059541925, 0.6849948965806557, 0.7550413499986275, 0.4830746401906156, 0.6634009273844678, 0.5557649996003, 0.44106015184555775, 0.5776331497038921, 0.4531710070713659, 0.4524005818708859, 0.4382130939787301, 0.6183183690045203, 0.6978878220170739, 0.6697261875661445, 0.4961288946289526, 0.5172745924496447, 0.612657823642785, 0.5460127843008569, 0.6119429558981506, 0.4406619729005957, 0.4757215667306782, 0.490303980373673, 0.7394548738996426, 0.5977948593550263, 0.8130130889348834, 0.8251920292669888, 0.3872425947084871, 0.3799830825772991, 0.38230828283667867, 0.6914421524846747, 0.7183813423833088, 0.7033494404116145, 0.675003400858032, 0.6038391696904002, 0.6047793026785834, 0.5586792493895179, 0.4211818692788764, 0.44467787058254815, 0.5885807718495031, 0.4980571227641643, 0.504447582619328, 0.8105062052254818, 0.4757215667306782, 0.8063593429927965, 0.3983663543325965, 0.5834430235496894, 0.5220082325065756, 0.7477086693197713, 0.4641019819994702, 0.4217922530276164, 0.6285601559358945, 0.9178639058476192, 0.4803052762758456, 0.5266460549313882, 0.3799830825772991, 0.4258833216131893, 0.4234013772561962, 0.4715367968066421, 0.4250705644168449, 0.852699664161011, 0.3825466666239224, 0.5977029042110494, 0.7369919703227188, 0.7830371095483493, 0.5412311890070843, 0.8037219349782518, 0.27443294790503525, 0.7186723497523851, 0.5756865010660667, 0.3751956643218792, 0.5649794743257729, 0.5743000682773265, 0.852699664161011, 0.6155041026415558, 0.6876196662345889, 0.4748294068932669, 0.5693599059622848, 0.4258833216131893, 0.4668979601451768, 0.37834796858643616, 0.8065804113273366, 0.3911088846318064, 0.6693715019351177, 0.7068276713044582, 0.5959966284893823, 0.5131368174012146, 0.6303468086968372, 0.5667964748327188, 0.5578751684218033, 0.6978878220170739, 0.467413843769302, 0.6855028320873736, 0.5278650761586818, 0.5070160807186288, 0.692655872870637, 0.6599449187584954, 0.7132749723642293, 0.586950621729773, 0.6488501826283618, 0.5856831498303938, 0.4668979601451768, 0.8389243105071171, 0.8507282658584009, 0.6354834550741343, 0.4400424448579729, 0.4967946278510438, 0.4000979923826655, 0.5794241084560094, 0.4285161504605869, 0.25672922849760993, 0.7963203781664332, 0.4892801786318906, 0.4858555956731805, 0.7740371421614921, 0.3941385398458925, 0.9290302874411605, 0.5691817324638477, 0.69300920358103, 0.6715962698483039, 0.6657283364248289, 0.4110451346174999, 0.6408071019636729, 0.6190077196111018, 0.480355425324063, 0.763010513430572, 0.4059239066513581, 0.5460127843008569, 0.6118014714600088, 0.44316239759770826, 0.6251867974682902, 0.4676276869350442, 0.6347645563707436, 0.2984436694139005, 0.3230089909532323, 0.7180752658667929, 0.5344436024147244, 0.6954165190418939, 0.5090376005544694, 0.7326611319120517, 0.4892801786318906, 0.6672295756298092, 0.598332500361939, 0.6247237675785525, 0.5907929571811064, 0.7177627022534055, 0.5451276081549874, 0.7394359972769394, 0.4859212857211152, 0.8048388888270448, 0.4961288946289526, 0.6010690522149722, 0.4400424448579729, 0.4641019819994702, 0.5328453025595845, 0.4492575525269076, 0.5127793382989322, 0.6279707530899492, 0.38230828283667867, 0.6142758429530866, 0.5640295958199582, 0.5242713554229456, 0.521672995280826, 0.8360393532787289, 0.852699664161011, 0.5968458517450551, 0.7781427230551999, 0.531728128302305, 0.5007819858211396, 0.4219175607353159, 0.6347645563707436, 0.5604116856288465, 0.3872425947084871, 0.6135980572608721, 0.5057847627270969, 0.7477086693197713, 0.4041924705529832, 0.5885718420568349, 0.4916510524511258, 0.4117458066489511, 0.596275993745723, 0.4266838138087468, 0.5837154772985029, 0.7586787151629479, 0.6408071019636729, 0.7102691666979191, 0.6781255023273798, 0.6815813054346181, 0.6342269633902287, 0.5914285519642304, 0.7410404327961191, 0.4079049611147865, 0.510098894399033, 0.8030873549481594, 0.5266936694143562, 0.6479330840935879, 0.7336378248267537, 0.5666616579558601, 0.6010690522149722, 0.5639220884860754, 0.4988349752579382, 0.5109372583955416, 0.640720629480798, 0.46499431936808794, 0.5381422113312301, 0.5003517104367703, 0.4796207472295076, 0.42429413010909006, 0.7550413499986275, 0.5460293650803792, 0.42429413010909006, 0.4351050613097062, 0.501246444346129, 0.9392271645908896, 0.6401515444659934, 0.5220082325065756, 0.6212135105125054, 0.7740371421614921, 0.3684363401168633, 0.6069757372185262, 0.7650490976329131, 0.6098197611515211, 0.4961288946289526, 0.6693715019351177, 0.050656773113824986, 0.609896793188508, 0.5781036297198625, 0.5639220884860754, 0.5447494894552873, 0.5866078184059821, 0.8582706777960948, 0.6599449187584954, 0.5821292945146708, 0.4774033169719528, 0.3844239498735387, 0.5776331497038921, 0.6176086939874837, 0.37929222992511785, 0.444541583760065, 0.5144257731669367, 0.4804019702957005, 0.4774033169719528, 0.41464582437751, 0.5419683747338633, 0.4429583683494117, 0.6591394768219538, 0.6091238748175969, 0.8065804113273366, 0.6955933512745225, 0.5005765741833071, 0.6941192467616055, 0.6726805928835387, 0.6525086437067091, 0.6322428511255029, 0.450852685134409, 0.6323196407600796, 0.5674769057616466, 0.7177627022534055, 0.5454352386697442, 0.3462368107029975, 0.4676276869350442, 0.6344962846421434, 0.4524929218164785, 0.6162638817010739, 0.5451276081549874, 0.4959571280148555, 0.5724708877839468, 0.5144257731669367, 0.7680042347735891, 0.9473275066349643, 0.5237146369702328, 0.7613622384458618, 0.7394548738996426, 0.5040756699303163, 0.4923218705874481, 0.5220082325065756, 0.4382130939787301, 0.5336501394878035, 0.5570261643754362, 0.5854795397495219, 0.6000915236898566, 0.4302145965439068, 0.5916020057286843, 0.6810906917425594, 0.7410404327961191, 0.5934960438312681, 0.5474938878431067, 0.7262997133847378, 0.4813975284570603, 0.6309286076787999, 0.4531251786298235, 0.407849996596646, 0.4965930646067649, 0.7714921495221693, 0.4749834582278592, 0.6297490400005165, 0.7830371095483493, 0.8474517132179911, 0.3292364989297267, 0.6098143603684099, 0.514169944562831, 0.4675314419005862, 0.9289369261885644, 0.5889385097500909, 0.4210561646498641, 0.5190000723734253, 0.8474517132179911, 0.6646909389368294, 0.5336595943709138, 0.4905864018711718, 0.5836464346551571, 0.9473275066349643, 0.5336595943709138, 0.5430611433753401, 0.585735487898916, 0.6247237675785525, 0.5252273355598288, 0.6321309130150968, 0.5692453957724605, 0.6479336219623286, 0.6835250649823107, 0.4675314419005862, 0.508731241151298, 0.5870237387492154, 0.27443294790503525, 0.5814752192996689, 0.6364189476344927, 0.6583492153531787, 0.7011187444188275, 0.8278537698666787, 0.38230828283667867, 0.5187439585798745, 0.6220796469013531, 0.5467275539627645, 0.7014417589824127, 0.4589544162722026, 0.66229870965635, 0.5336501394878035, 0.5410334266884267, 0.5837053355322338, 0.620392055892929, 0.5253329136601428, 0.41716442232685497, 0.5299612162162091, 0.4647794403925874, 0.7510401261129247, 0.5743000682773265, 0.4199431484349393, 0.6626702064875899, 0.4858555956731805, 0.7396843345988899, 0.6876196662345889, 0.5139322636770347, 0.5564100130893208, 0.4988349752579382, 0.6334023422021283, 0.8030873549481594, 0.8768298777499862, 0.6247237675785525, 0.42429413010909006, 0.4458586708534961, 0.8424233180669045, 0.4117890700534452, 0.6933279789975069, 0.448026304493546, 0.3949625000942707, 0.4790234097367525, 0.7560638708428911, 0.5904731942517181, 0.5971133608853452, 0.6055382189430346, 0.596275993745723, 0.6128586541080373, 0.3266997281304141, 0.4766571906524515, 0.4566050599657094, 0.6413540809343606, 0.4779630135082117, 0.69300920358103, 0.5987268408408515, 0.4614396500569515, 0.6294632451871911, 0.4301720457570367, 0.6048204319182022, 0.7869212313686974, 0.6279174684114319, 0.5672785922286958, 0.4828052476468271, 0.7549176454508227, 0.6987704777958721, 0.5375333077362084, 0.6038391696904002, 0.6364236449500698, 0.6128586541080373, 0.5037387899485233, 0.6129531542390639, 0.437616284161604, 0.4774670372392138, 0.6693715019351177, 0.5103679324691051, 0.2927380529636244, 0.5513111166062027, 0.5870237387492154, 0.5458666086016136, 0.5887819593694067, 0.7038238898664649, 0.3341676517250151, 0.6833885166889893, 0.7728732738402645, 0.5052693955224341, 0.5192460362738505, 0.6104277251451776, 0.5956609047408887, 0.6567597878169679, 0.7052054033286036, 0.5814752192996689, 0.6010690522149722, 0.6142617638576565, 0.9349352673982084, 0.6795192077928062, 0.4813347481510341, 0.4858832058048417, 0.6242524993308587, 0.4859212857211152, 0.73120804716564, 0.5182916460696715, 0.6117711132155927, 0.7462138568088962, 0.5999446698556915, 0.5140642764185136, 0.4420249810973847, 0.5044101146285818, 0.6155752551777887, 0.4989916727547925, 0.5960115042023844, 0.4967946278510438, 0.4847320154522624, 0.7708143665311318, 0.5966423960408724, 0.3628001416809383, 0.6632296875667867, 0.5999446698556915, 0.6512975404193961, 0.6119429558981506, 0.4804019702957005, 0.8327574313141051, 0.5709001037765814, 0.5836464346551571, 0.4859212857211152, 0.5772285027779873, 0.38230828283667867, 0.6216169217184164, 0.8148296561331122, 0.6117711132155927, 0.5883821219938137, 0.4030952595165577, 0.4566050599657094, 0.5138295872991763, 0.9115996573812846, 0.46499431936808794, 0.9349352673982084, 0.6238237678518292, 0.4804019702957005, 0.7244705001248639, 0.5409710945993634, 0.6645599786043399, 0.5447494894552873, 0.022556500517658076, 0.41424422917234577, 0.7142014472093124, 0.5140642764185136, 0.6926158611299608, 0.5836540990926788, 0.6212017484050729, 0.5130813777205246, 0.58400755313893, 0.5836464346551571, 0.44791395761023606, 0.4420305132891076, 0.7714921495221693, 0.4458586708534961, 0.6411728176207399, 0.3911088846318064, 0.5856831498303938, 0.5174805719265905, 0.5038905014901797, 0.6468808706241459, 0.6941192467616055, 0.3856812791382309, 0.4798646797866982, 0.3305207625085287, 0.6061186456969245, 0.40743039974998796, 0.7864270833791762, 0.5856831498303938, 0.4458586708534961, 0.5400377489797789, 0.5099946875871698, 0.6135724869465727, 0.5336595943709138, 0.6721999444118556, 0.44316239759770826, 0.6948025197816848, 0.6316626720677063, 0.5237146369702328, 0.6104277251451776, 0.6999247645104929, 0.5472309377780379, 0.6058804710656306, 0.6091238748175969, 0.7318222186514295, 0.6430166662617105, 0.5667964748327188, 0.3676677098868064, 0.6883324837888457, 0.39535838469227497, 0.5909590020527186, 0.6129531542390639, 0.6933279789975069, 0.6242524993308587, 0.4580551793630036, 0.4908979883911509, 0.6091238748175969, 0.552742313522791, 0.6174214066397045, 0.07551862406412492, 0.586950621729773, 0.5493956187351183, 0.6821012817114168, 0.5027118587787895, 0.4964367959139354, 0.4921993313336216, 0.8078768678891759, 0.39438398580988143, 0.5419683747338633, 0.7326033944243092, 0.5391115605471758, 0.5111844063880663, 0.291433259678306, 0.4629752876327947, 0.775797362701256, 0.763010513430572, 0.6489257090087353, 0.7978900102192453, 0.5693296873667095, 0.6087016157203143, 0.8586774418483041, 0.6952838245495223, 0.5945365095722287, 0.7560638708428911, 0.5605579839038146, 0.4919107714041727, 0.4524005818708859, 0.6559953454545084, 0.5083599025668306, 0.5079521886392171, 0.6052783033175688, 0.42558468024998697, 0.8582706777960948, 0.4321364774207179, 0.407849996596646, 0.6623740258876866, 0.40132798622497184, 0.7740371421614921, 0.4493236152076617, 0.9089842956402568, 0.4862443470336822, 0.6645599786043399, 0.6273614470848322, 0.7504920750583212, 0.775797362701256, 0.9178639058476192, 0.5285096781804877, 0.47189487551491605, 0.5531048329205209, 0.7011808736075507, 0.4699919632120788, 0.4481115638037412, 0.6815813054346181, 0.7492177930489549, 0.8424233180669045, 0.42729829264388397, 0.5632405474233795, 0.5187439585798745, 0.6018919753027975, 0.474084038183911, 0.8106969830715695, 0.40132798622497184, 0.4266199503825344, 0.4979421060663372, 0.6453679560153077, 0.6726805928835387, 0.49604325182696796, 0.620379479284656, 0.7483207030670265, 0.6846275539188404, 0.7740371421614921, 0.5772285027779873, 0.6413540809343606, 0.4748294068932669, 0.5641289501467455, 0.6797935559497998, 0.5205537457116164, 0.7142014472093124, 0.9020629269028732, 0.4980571227641643, 0.9349352673982084, 0.5384040736922502, 0.4206159723883332, 0.36072920580223455, 0.6058740493326593, 0.5604116856288465, 0.407849996596646, 0.5344643522287597, 0.7708726497375289, 0.6439825914925877, 0.42338584679609104, 0.7708726497375289, 0.4819831133587578, 0.496378120336174, 0.4079249303609997, 0.4242028280284693, 0.6147555886925882, 0.5785174144965888, 0.5714228015866021, 0.7490298749983422, 0.6450226658966598, 0.7042447660376749, 0.5336592211922608, 0.8736271743351188, 0.4449212499177607, 0.4987584081140403, 0.6052783033175688, 0.8879204501926365, 0.6548608223430427, 0.4736241237475465, 0.4945870774232017, 0.6334023422021283, 0.5557874605581772, 0.40743039974998796, 0.7830371095483493, 0.5836464346551571, 0.5447494894552873, 0.6413540809343606, 0.4458546313595108, 0.5422327171052012, 0.6454432714705122, 0.4962447366055298, 0.5154556541589456, 0.4698953091896986, 0.4980571227641643, 0.4571207966015578, 0.6220796469013531, 0.6168845440365633, 0.7869212313686974, 0.8768298777499862, 0.4607019827573922, 0.7549176454508227, 0.9349352673982084, 0.5287500603890649, 0.5187439585798745, 0.5909590020527186, 0.5892596782086101, 0.9349352673982084, 0.4128674880374229, 0.5667964748327188, 0.6453679560153077, 0.5003993096971188, 0.4965930646067649, 0.6059472299047571, 0.7550413499986275, 0.3809058802724405, 0.43910038913978855, 0.3822806895959408, 0.6978878220170739, 0.552742313522791, 0.4190837765958047, 0.552742313522791, 0.5578751684218033, 0.5103679324691051, 0.5303556678749041, 0.5371605629718418, 0.8627954137489581, 0.8736271743351188, 0.4210561646498641, 0.5987268408408515, 0.6632296875667867, 0.4647150834016591, 0.8078768678891759, 0.6104277251451776, 0.5589043919939879, 0.6626702064875899, 0.5141116915064601, 0.018917567226111383, 0.7456251877421854, 0.5430611433753401, 0.8878671286303795, 0.4988349752579382, 0.7068276713044582, 0.7869212313686974, 0.32570077099924793, 0.7188102099645777, 0.5320695697982138, 0.3745534356821609, 0.6293018056764849, 0.5080366162448481, 0.521672995280826, 0.6512975404193961, 0.6430166662617105, 0.521672995280826, 0.5775327466836254, 0.5691315861983045, 0.5854340097196036, 0.5831076361289791, 0.291433259678306, 0.4731459418465026, 0.5856831498303938, 0.5042187563540887, 0.3472355254292599, 0.692655872870637, 0.4921993313336216, 0.6316626720677063, 0.5777733372917061, 0.5177132109829392, 0.4282526542672777, 0.7613622384458618, 0.6380733763602572, 0.9289369261885644, 0.6815813054346181, 0.6088248054637592, 0.7825556890402131, 0.4749834582278592, 0.5672788711826817, 0.6254432620438771, 0.460961292984742, 0.5227140752907256, 0.5760441727172667, 0.6073269822745797, 0.32570077099924793, 0.448026304493546, 0.565624721495558, 0.6666527987413176, 0.5810289831955022, 0.9009676339614728, 0.5584758161805727, 0.5714228015866021, 0.6061573347245109, 0.4597971288376104, 0.5231612936258231, 0.6906262561196315, 0.5343922941001787, 0.5166182130206616, 0.37834796858643616, 0.5013371622205839, 0.5605579839038146, 0.3949625000942707, 0.7863591368360506, 0.3867161753601155, 0.4503612608774568, 0.7680042347735891, 0.4058610383235158, 0.604282094145912, 0.7326033944243092, 0.6933279789975069, 0.3809058802724405, 0.6310812836244424, 0.3569906982225354, 0.6478348400058205, 0.5335043143417373, 0.6174214066397045, 0.9020629269028732, 0.6168845440365633, 0.5570261643754362, 0.6079199780130808, 0.5756865010660667, 0.5839898424155631, 0.5130813777205246, 0.6375210504152117, 0.3745534356821609, 0.7318222186514295, 0.5536370861963962, 0.6487226559769548, 0.8278537698666787, 0.6867208337716193, 0.5166182130206616, 0.6833885166889893, 0.3911088846318064, 0.8093237930019529, 0.6178701163443497, 0.6495831072184148, 0.7132749723642293, 0.34173223003613984, 0.42429413010909006, 0.5765687655936937, 0.6142822624698228, 0.6162638817010739, 0.5890728198040683, 0.5077968849276677, 0.4880088818032522, 0.5589162440267129, 0.6838450066083304, 0.5310108259424263, 0.6394369488218412, 0.5948666454751887, 0.5140642764185136, 0.6533406926626858, 0.8148296561331122, 0.4642109832508296, 0.5303556678749041, 0.6867208337716193, 0.4508580633827698, 0.8404096621543771, 0.7740371421614921, 0.6693715019351177, 0.4080719105619905, 0.6290898140356321, 0.7336378248267537, 0.6001815991684463, 0.448026304493546, 0.07551862406412492, 0.6220796469013531, 0.28765341099352953, 0.5343922941001787, 0.4629960943720008, 0.6626702064875899, 0.5102430890437599, 0.4283002673559493, 0.8327574313141051, 0.510577267623518, 0.8118259818075086, 0.4493236152076617, 0.4757215667306782, 0.5854795397495219, 0.439663710601362, 0.6646909389368294, 0.6716106398358989, 0.5825985412904522, 0.674288836752463, 0.5809106932332672, 0.5371605629718418, 0.541611590603318, 0.5839898424155631, 0.6453679560153077, 0.27443294790503525, 0.6810906917425594, 0.4556797785436178, 0.4524005818708859, 0.407849996596646, 0.3943115386380697, 0.585735487898916, 0.5462530728517105, 0.366302894628521, 0.989938569657492, 0.7318222186514295, 0.4757215667306782, 0.5109930419063133, 0.5053782030752867, 0.7044114702369764, 0.5649794743257729, 0.5908165135922658, 0.6811302418484678, 0.5643338386201754, 0.5586019196468579, 0.5106918719612981, 0.4675699664299343, 0.4457727477600304, 0.4305389074172808, 0.7259748663356329, 0.5514273069399679, 0.7448737192619159, 0.6377721594176248, 0.6553591154261498, 0.5758447565611612, 0.5714228015866021, 0.8389243105071171, 0.6142758429530866, 0.5723384267593626, 0.6810906917425594, 0.5941381543935025, 0.6347645563707436, 0.6309286076787999, 0.7601522926114544, 0.5786954083738762, 0.5354732424642394, 0.4345400925913373, 0.5409710945993634, 0.9339161063701852, 0.5375333077362084, 0.4757309775508306, 0.4792180009110565, 0.4087967366784389, 0.6540393506314532, 0.6833410359778677, 0.5419683747338633, 0.5887819593694067, 0.6802637529978721, 0.6098197611515211, 0.3467445104799772, 0.4110451346174999, 0.3949625000942707, 0.7490298749983422, 0.7863591368360506, 0.4955022071031012, 0.6279707530899492, 0.4378895030731797, 0.33122624064054484, 0.4865626432023736, 0.5758447565611612, 0.3230089909532323, 0.4743290196991857, 0.5794241084560094, 0.7523659740980329, 0.5940475040246616, 0.15960546998398473, 0.598332500361939, 0.8586774418483041, 0.5370882970195974, 0.291433259678306, 0.5173065736688823, 0.5190000723734253, 0.736677413340632, 0.6117711132155927, 0.469671583464309, 0.4206159723883332, 0.4117890700534452, 0.5237146369702328, 0.7550413499986275, 0.4738039250123142, 0.4597971288376104, 0.5958117467766225, 0.6148875882171886, 0.1041869865719754, 0.7560638708428911, 0.6897930711489744, 0.8306423173947309, 0.4698953091896986, 0.5422327171052012, 0.3793711995593641, 0.3230089909532323, 0.4779630135082117, 0.478119091290754, 0.4597971288376104, 0.8659700063313627, 0.5975318646122364, 0.44791395761023606, 0.5586792493895179, 0.4457727477600304, 0.5072582038410642, 0.6990357550545981, 0.7186723497523851, 0.5682104144154498, 0.38230828283667867, 0.6086413306781426, 0.7044114702369764, 0.450625272163471, 0.3770340851283985, 0.5045657618752406, 0.6002749102983043, 0.5022450227955548, 0.6575786211982945, 0.5695471572388667, 0.6088248054637592, 0.6796542390260255, 0.44566129114396935, 0.8002839123724673, 0.5343922941001787, 0.6018919753027975, 0.5007819858211396, 0.518436402575395, 0.3293667099902436, 0.6454264992871335, 0.7728732738402645, 0.5187439585798745, 0.6306300375898077, 0.4506459971150351, 0.5758447565611612, 0.5013683431967768, 0.5777733372917061, 0.5071108485113439, 0.4423347635546177, 0.47189487551491605, 0.4371937769385019, 0.5776331497038921, 0.6795192077928062, 0.5509689161798321, 0.36987695823196864, 0.521672995280826, 0.5515651754684117, 0.6335459987503766, 0.6533406926626858, 0.5259050721449718, 0.6174214066397045, 0.7254029207784949, 0.5744007886920006, 0.5617448040205617, 0.5714228015866021, 0.9289369261885644, 0.7142014472093124, 0.6811302418484678, 0.5756742184810534, 0.22419313842204025, 0.8031054699098253, 0.5343922941001787, 0.5327424427385774, 0.4988349752579382, 0.4589544162722026, 0.941896454523691, 0.5008486917390443, 0.8788113434931999, 0.5303556678749041, 0.37834796858643616, 0.6045860441995654, 0.4808729245840474, 0.5781036297198625, 0.7014417589824127, 0.4828052476468271, 0.8037219349782518, 0.5410334266884267, 0.28219106774534153, 0.5971133628313751, 0.8582706777960948, 0.6148875882171886, 0.566157341575077, 0.5336595926316837, 0.4979321911311493, 0.5492829074585028, 0.644478694650085, 0.5641289501467455, 0.493486473128519, 0.547684660288279, 0.3485825975067127, 0.6955933512745225, 0.7680042347735891, 0.4905864018711718, 0.5182916460696715, 0.40982763502826935, 0.6918507365964088, 0.5379505190876106, 0.6178701163443497, 0.5410779524977934, 0.5080586129066689, 0.5854795397495219, 0.6319790854692059, 0.5582453092722094, 0.7550413499986275, 0.467413843769302, 0.839962768151037, 0.291433259678306, 0.6168845440365633, 0.7004466143862085, 0.5948666454751887, 0.4983370819045986, 0.715418676514618, 0.44538134642831456, 0.6174214066397045, 0.6553591154261498, 0.4128674880374229, 0.6231542839712871, 0.5707044692696098, 0.5831440703154909, 0.6168963856681389, 0.5116634453722071, 0.510288292720926, 0.4908979883911509, 0.44566129114396935, 0.6876196662345889, 0.591940610279424, 0.5738431163226819, 0.4813360480067023, 0.4234013772561962, 0.5400377489797789, 0.9290302874411605, 0.5013371622205839, 0.5447494894552873, 0.3467445104799772, 0.27443294790503525, 0.6615064867481026, 0.594464632807191, 0.2411337534105868, 0.3198683241789517, 0.6849948965806557, 0.566157341575077, 0.6740231561759062, 0.6174214066397045, 0.510098894399033, 0.3230089909532323, 0.8048388888270448, 0.7781427230551999, 0.7696873177723957, 0.3628001416809383, 0.5163803399025109, 0.480806281832134, 0.6128375038274145, 0.5209330793305875, 0.5172745924496447, 0.5077968849276677, 0.4716128101828272, 0.5605579839038146, 0.6447333061973751, 0.4796207472295076, 0.6477690631022126, 0.5666404208397303, 0.41424422917234577, 0.5870237387492154, 0.5344643522287597, 0.4878719324655712, 0.5083599025668306, 0.6453679560153077, 0.7714921495221693, 0.5994647627472443, 0.5422998843903899, 0.5578578500456283, 0.6242003276351012, 0.6792921844437226, 0.5080586129066689, 0.6508959708087062, 0.5820347959534041, 0.5982371324954726, 0.639396479556684, 0.4506459971150351, 0.6073269822745797, 0.7225705735101466, 0.5116634453722071], \"coloraxis\": \"coloraxis\"}, \"mode\": \"markers\", \"name\": \"\", \"showlegend\": false, \"subplot\": \"mapbox\", \"type\": \"scattermapbox\"}],\n",
       "                        {\"coloraxis\": {\"colorbar\": {\"title\": {\"text\": \"artist_familiarity\"}}, \"colorscale\": [[0.0, \"#000000\"], [0.0625, \"#001f4d\"], [0.125, \"#003786\"], [0.1875, \"#0e58a8\"], [0.25, \"#217eb8\"], [0.3125, \"#30a4ca\"], [0.375, \"#54c8df\"], [0.4375, \"#9be4ef\"], [0.5, \"#e1e9d1\"], [0.5625, \"#f3d573\"], [0.625, \"#e7b000\"], [0.6875, \"#da8200\"], [0.75, \"#c65400\"], [0.8125, \"#ac2301\"], [0.875, \"#820000\"], [0.9375, \"#4c0000\"], [1.0, \"#000000\"]]}, \"legend\": {\"tracegroupgap\": 0}, \"mapbox\": {\"center\": {\"lat\": 38, \"lon\": -94}, \"domain\": {\"x\": [0.0, 1.0], \"y\": [0.0, 1.0]}, \"style\": \"carto-positron\", \"zoom\": 1}, \"margin\": {\"t\": 60}, \"template\": {\"data\": {\"bar\": [{\"error_x\": {\"color\": \"#2a3f5f\"}, \"error_y\": {\"color\": \"#2a3f5f\"}, \"marker\": {\"line\": {\"color\": \"#E5ECF6\", \"width\": 0.5}}, \"type\": \"bar\"}], \"barpolar\": [{\"marker\": {\"line\": {\"color\": \"#E5ECF6\", \"width\": 0.5}}, \"type\": \"barpolar\"}], \"carpet\": [{\"aaxis\": {\"endlinecolor\": \"#2a3f5f\", \"gridcolor\": \"white\", \"linecolor\": \"white\", \"minorgridcolor\": \"white\", \"startlinecolor\": \"#2a3f5f\"}, \"baxis\": {\"endlinecolor\": \"#2a3f5f\", \"gridcolor\": \"white\", \"linecolor\": \"white\", \"minorgridcolor\": \"white\", \"startlinecolor\": \"#2a3f5f\"}, \"type\": \"carpet\"}], \"choropleth\": [{\"colorbar\": {\"outlinewidth\": 0, \"ticks\": \"\"}, \"type\": \"choropleth\"}], \"contour\": [{\"colorbar\": {\"outlinewidth\": 0, \"ticks\": \"\"}, \"colorscale\": [[0.0, \"#0d0887\"], [0.1111111111111111, \"#46039f\"], [0.2222222222222222, \"#7201a8\"], [0.3333333333333333, \"#9c179e\"], [0.4444444444444444, \"#bd3786\"], [0.5555555555555556, \"#d8576b\"], [0.6666666666666666, \"#ed7953\"], [0.7777777777777778, \"#fb9f3a\"], [0.8888888888888888, \"#fdca26\"], [1.0, \"#f0f921\"]], \"type\": \"contour\"}], \"contourcarpet\": [{\"colorbar\": {\"outlinewidth\": 0, \"ticks\": \"\"}, \"type\": \"contourcarpet\"}], \"heatmap\": [{\"colorbar\": {\"outlinewidth\": 0, \"ticks\": \"\"}, \"colorscale\": [[0.0, \"#0d0887\"], [0.1111111111111111, \"#46039f\"], [0.2222222222222222, \"#7201a8\"], [0.3333333333333333, \"#9c179e\"], [0.4444444444444444, \"#bd3786\"], [0.5555555555555556, \"#d8576b\"], [0.6666666666666666, \"#ed7953\"], [0.7777777777777778, \"#fb9f3a\"], [0.8888888888888888, \"#fdca26\"], [1.0, \"#f0f921\"]], \"type\": \"heatmap\"}], \"heatmapgl\": [{\"colorbar\": {\"outlinewidth\": 0, \"ticks\": \"\"}, \"colorscale\": [[0.0, \"#0d0887\"], [0.1111111111111111, \"#46039f\"], [0.2222222222222222, \"#7201a8\"], [0.3333333333333333, \"#9c179e\"], [0.4444444444444444, \"#bd3786\"], [0.5555555555555556, \"#d8576b\"], [0.6666666666666666, \"#ed7953\"], [0.7777777777777778, \"#fb9f3a\"], [0.8888888888888888, \"#fdca26\"], [1.0, \"#f0f921\"]], \"type\": \"heatmapgl\"}], \"histogram\": [{\"marker\": {\"colorbar\": {\"outlinewidth\": 0, \"ticks\": \"\"}}, \"type\": \"histogram\"}], \"histogram2d\": [{\"colorbar\": {\"outlinewidth\": 0, \"ticks\": \"\"}, \"colorscale\": [[0.0, \"#0d0887\"], [0.1111111111111111, \"#46039f\"], [0.2222222222222222, \"#7201a8\"], [0.3333333333333333, \"#9c179e\"], [0.4444444444444444, \"#bd3786\"], [0.5555555555555556, \"#d8576b\"], [0.6666666666666666, \"#ed7953\"], [0.7777777777777778, \"#fb9f3a\"], [0.8888888888888888, \"#fdca26\"], [1.0, \"#f0f921\"]], \"type\": \"histogram2d\"}], \"histogram2dcontour\": [{\"colorbar\": {\"outlinewidth\": 0, \"ticks\": \"\"}, \"colorscale\": [[0.0, \"#0d0887\"], [0.1111111111111111, \"#46039f\"], [0.2222222222222222, \"#7201a8\"], [0.3333333333333333, \"#9c179e\"], [0.4444444444444444, \"#bd3786\"], [0.5555555555555556, \"#d8576b\"], [0.6666666666666666, \"#ed7953\"], [0.7777777777777778, \"#fb9f3a\"], [0.8888888888888888, \"#fdca26\"], [1.0, \"#f0f921\"]], \"type\": \"histogram2dcontour\"}], \"mesh3d\": [{\"colorbar\": {\"outlinewidth\": 0, \"ticks\": \"\"}, \"type\": \"mesh3d\"}], \"parcoords\": [{\"line\": {\"colorbar\": {\"outlinewidth\": 0, \"ticks\": \"\"}}, \"type\": \"parcoords\"}], \"pie\": [{\"automargin\": true, \"type\": \"pie\"}], \"scatter\": [{\"marker\": {\"colorbar\": {\"outlinewidth\": 0, \"ticks\": \"\"}}, \"type\": \"scatter\"}], \"scatter3d\": [{\"line\": {\"colorbar\": {\"outlinewidth\": 0, \"ticks\": \"\"}}, \"marker\": {\"colorbar\": {\"outlinewidth\": 0, \"ticks\": \"\"}}, \"type\": \"scatter3d\"}], \"scattercarpet\": [{\"marker\": {\"colorbar\": {\"outlinewidth\": 0, \"ticks\": \"\"}}, \"type\": \"scattercarpet\"}], \"scattergeo\": [{\"marker\": {\"colorbar\": {\"outlinewidth\": 0, \"ticks\": \"\"}}, \"type\": \"scattergeo\"}], \"scattergl\": [{\"marker\": {\"colorbar\": {\"outlinewidth\": 0, \"ticks\": \"\"}}, \"type\": \"scattergl\"}], \"scattermapbox\": [{\"marker\": {\"colorbar\": {\"outlinewidth\": 0, \"ticks\": \"\"}}, \"type\": \"scattermapbox\"}], \"scatterpolar\": [{\"marker\": {\"colorbar\": {\"outlinewidth\": 0, \"ticks\": \"\"}}, \"type\": \"scatterpolar\"}], \"scatterpolargl\": [{\"marker\": {\"colorbar\": {\"outlinewidth\": 0, \"ticks\": \"\"}}, \"type\": \"scatterpolargl\"}], \"scatterternary\": [{\"marker\": {\"colorbar\": {\"outlinewidth\": 0, \"ticks\": \"\"}}, \"type\": \"scatterternary\"}], \"surface\": [{\"colorbar\": {\"outlinewidth\": 0, \"ticks\": \"\"}, \"colorscale\": [[0.0, \"#0d0887\"], [0.1111111111111111, \"#46039f\"], [0.2222222222222222, \"#7201a8\"], [0.3333333333333333, \"#9c179e\"], [0.4444444444444444, \"#bd3786\"], [0.5555555555555556, \"#d8576b\"], [0.6666666666666666, \"#ed7953\"], [0.7777777777777778, \"#fb9f3a\"], [0.8888888888888888, \"#fdca26\"], [1.0, \"#f0f921\"]], \"type\": \"surface\"}], \"table\": [{\"cells\": {\"fill\": {\"color\": \"#EBF0F8\"}, \"line\": {\"color\": \"white\"}}, \"header\": {\"fill\": {\"color\": \"#C8D4E3\"}, \"line\": {\"color\": \"white\"}}, \"type\": \"table\"}]}, \"layout\": {\"annotationdefaults\": {\"arrowcolor\": \"#2a3f5f\", \"arrowhead\": 0, \"arrowwidth\": 1}, \"coloraxis\": {\"colorbar\": {\"outlinewidth\": 0, \"ticks\": \"\"}}, \"colorscale\": {\"diverging\": [[0, \"#8e0152\"], [0.1, \"#c51b7d\"], [0.2, \"#de77ae\"], [0.3, \"#f1b6da\"], [0.4, \"#fde0ef\"], [0.5, \"#f7f7f7\"], [0.6, \"#e6f5d0\"], [0.7, \"#b8e186\"], [0.8, \"#7fbc41\"], [0.9, \"#4d9221\"], [1, \"#276419\"]], \"sequential\": [[0.0, \"#0d0887\"], [0.1111111111111111, \"#46039f\"], [0.2222222222222222, \"#7201a8\"], [0.3333333333333333, \"#9c179e\"], [0.4444444444444444, \"#bd3786\"], [0.5555555555555556, \"#d8576b\"], [0.6666666666666666, \"#ed7953\"], [0.7777777777777778, \"#fb9f3a\"], [0.8888888888888888, \"#fdca26\"], [1.0, \"#f0f921\"]], \"sequentialminus\": [[0.0, \"#0d0887\"], [0.1111111111111111, \"#46039f\"], [0.2222222222222222, \"#7201a8\"], [0.3333333333333333, \"#9c179e\"], [0.4444444444444444, \"#bd3786\"], [0.5555555555555556, \"#d8576b\"], [0.6666666666666666, \"#ed7953\"], [0.7777777777777778, \"#fb9f3a\"], [0.8888888888888888, \"#fdca26\"], [1.0, \"#f0f921\"]]}, \"colorway\": [\"#636efa\", \"#EF553B\", \"#00cc96\", \"#ab63fa\", \"#FFA15A\", \"#19d3f3\", \"#FF6692\", \"#B6E880\", \"#FF97FF\", \"#FECB52\"], \"font\": {\"color\": \"#2a3f5f\"}, \"geo\": {\"bgcolor\": \"white\", \"lakecolor\": \"white\", \"landcolor\": \"#E5ECF6\", \"showlakes\": true, \"showland\": true, \"subunitcolor\": \"white\"}, \"hoverlabel\": {\"align\": \"left\"}, \"hovermode\": \"closest\", \"mapbox\": {\"style\": \"light\"}, \"paper_bgcolor\": \"white\", \"plot_bgcolor\": \"#E5ECF6\", \"polar\": {\"angularaxis\": {\"gridcolor\": \"white\", \"linecolor\": \"white\", \"ticks\": \"\"}, \"bgcolor\": \"#E5ECF6\", \"radialaxis\": {\"gridcolor\": \"white\", \"linecolor\": \"white\", \"ticks\": \"\"}}, \"scene\": {\"xaxis\": {\"backgroundcolor\": \"#E5ECF6\", \"gridcolor\": \"white\", \"gridwidth\": 2, \"linecolor\": \"white\", \"showbackground\": true, \"ticks\": \"\", \"zerolinecolor\": \"white\"}, \"yaxis\": {\"backgroundcolor\": \"#E5ECF6\", \"gridcolor\": \"white\", \"gridwidth\": 2, \"linecolor\": \"white\", \"showbackground\": true, \"ticks\": \"\", \"zerolinecolor\": \"white\"}, \"zaxis\": {\"backgroundcolor\": \"#E5ECF6\", \"gridcolor\": \"white\", \"gridwidth\": 2, \"linecolor\": \"white\", \"showbackground\": true, \"ticks\": \"\", \"zerolinecolor\": \"white\"}}, \"shapedefaults\": {\"line\": {\"color\": \"#2a3f5f\"}}, \"ternary\": {\"aaxis\": {\"gridcolor\": \"white\", \"linecolor\": \"white\", \"ticks\": \"\"}, \"baxis\": {\"gridcolor\": \"white\", \"linecolor\": \"white\", \"ticks\": \"\"}, \"bgcolor\": \"#E5ECF6\", \"caxis\": {\"gridcolor\": \"white\", \"linecolor\": \"white\", \"ticks\": \"\"}}, \"title\": {\"x\": 0.05}, \"xaxis\": {\"automargin\": true, \"gridcolor\": \"white\", \"linecolor\": \"white\", \"ticks\": \"\", \"title\": {\"standoff\": 15}, \"zerolinecolor\": \"white\", \"zerolinewidth\": 2}, \"yaxis\": {\"automargin\": true, \"gridcolor\": \"white\", \"linecolor\": \"white\", \"ticks\": \"\", \"title\": {\"standoff\": 15}, \"zerolinecolor\": \"white\", \"zerolinewidth\": 2}}}},\n",
       "                        {\"responsive\": true}\n",
       "                    ).then(function(){\n",
       "                            \n",
       "var gd = document.getElementById('6a2010ba-0bac-45ce-b04c-7794325456c0');\n",
       "var x = new MutationObserver(function (mutations, observer) {{\n",
       "        var display = window.getComputedStyle(gd).display;\n",
       "        if (!display || display === 'none') {{\n",
       "            console.log([gd, 'removed!']);\n",
       "            Plotly.purge(gd);\n",
       "            observer.disconnect();\n",
       "        }}\n",
       "}});\n",
       "\n",
       "// Listen for the removal of the full notebook cells\n",
       "var notebookContainer = gd.closest('#notebook-container');\n",
       "if (notebookContainer) {{\n",
       "    x.observe(notebookContainer, {childList: true});\n",
       "}}\n",
       "\n",
       "// Listen for the clearing of the current output cell\n",
       "var outputEl = gd.closest('.output');\n",
       "if (outputEl) {{\n",
       "    x.observe(outputEl, {childList: true});\n",
       "}}\n",
       "\n",
       "                        })\n",
       "                };\n",
       "                });\n",
       "            </script>\n",
       "        </div>"
      ]
     },
     "metadata": {},
     "output_type": "display_data"
    }
   ],
   "source": [
    "fig = px.scatter_mapbox(map_df, lat='artist_latitude', lon='artist_longitude', color='artist_familiarity', \n",
    "                        hover_data= ['artist_name', 'artist_location'], color_continuous_scale=px.colors.cyclical.IceFire,\n",
    "                        center=dict(lat=38, lon=-94), zoom=1,\n",
    "                        mapbox_style=\"carto-positron\")\n",
    "fig.show()"
   ]
  },
  {
   "cell_type": "code",
   "execution_count": null,
   "metadata": {},
   "outputs": [],
   "source": []
  }
 ],
 "metadata": {
  "kernelspec": {
   "display_name": "Python 3",
   "language": "python",
   "name": "python3"
  },
  "language_info": {
   "codemirror_mode": {
    "name": "ipython",
    "version": 3
   },
   "file_extension": ".py",
   "mimetype": "text/x-python",
   "name": "python",
   "nbconvert_exporter": "python",
   "pygments_lexer": "ipython3",
   "version": "3.7.4"
  }
 },
 "nbformat": 4,
 "nbformat_minor": 2
}
