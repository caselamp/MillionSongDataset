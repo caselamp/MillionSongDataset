{
 "cells": [
  {
   "cell_type": "markdown",
   "metadata": {},
   "source": [
    "### 1. Start SparkSession"
   ]
  },
  {
   "cell_type": "code",
   "execution_count": 1,
   "metadata": {},
   "outputs": [],
   "source": [
    "import findspark\n",
    "findspark.init()"
   ]
  },
  {
   "cell_type": "code",
   "execution_count": 2,
   "metadata": {},
   "outputs": [],
   "source": [
    "from pyspark.sql import SparkSession\n",
    "spark = SparkSession.builder \\\n",
    "     .appName(\"Test SparkSession\") \\\n",
    "     .getOrCreate()"
   ]
  },
  {
   "cell_type": "code",
   "execution_count": 3,
   "metadata": {},
   "outputs": [
    {
     "data": {
      "text/plain": [
       "'2.4.4'"
      ]
     },
     "execution_count": 3,
     "metadata": {},
     "output_type": "execute_result"
    }
   ],
   "source": [
    "spark.version"
   ]
  },
  {
   "cell_type": "markdown",
   "metadata": {},
   "source": [
    "### 2. Load Data and Convert"
   ]
  },
  {
   "cell_type": "code",
   "execution_count": 4,
   "metadata": {},
   "outputs": [],
   "source": [
    "df_in=spark.read.load(\"s3://lusun-bucket1/cleaned-subset.csv\",format=\"csv\",header=\"true\")"
   ]
  },
  {
   "cell_type": "code",
   "execution_count": 5,
   "metadata": {},
   "outputs": [
    {
     "name": "stdout",
     "output_type": "stream",
     "text": [
      "root\n",
      " |-- _c0: string (nullable = true)\n",
      " |-- analysis_sample_rate: string (nullable = true)\n",
      " |-- artist_7digitalid: string (nullable = true)\n",
      " |-- artist_familiarity: string (nullable = true)\n",
      " |-- artist_hotttnesss: string (nullable = true)\n",
      " |-- artist_id: string (nullable = true)\n",
      " |-- artist_latitude: string (nullable = true)\n",
      " |-- artist_location: string (nullable = true)\n",
      " |-- artist_longitude: string (nullable = true)\n",
      " |-- artist_mbid: string (nullable = true)\n",
      " |-- artist_mbtags: string (nullable = true)\n",
      " |-- artist_mbtags_count: string (nullable = true)\n",
      " |-- artist_name: string (nullable = true)\n",
      " |-- artist_playmeid: string (nullable = true)\n",
      " |-- artist_terms: string (nullable = true)\n",
      " |-- artist_terms_freq: string (nullable = true)\n",
      " |-- artist_terms_weight: string (nullable = true)\n",
      " |-- audio_md5: string (nullable = true)\n",
      " |-- bars_confidence: string (nullable = true)\n",
      " |-- bars_start: string (nullable = true)\n",
      " |-- beats_confidence: string (nullable = true)\n",
      " |-- beats_start: string (nullable = true)\n",
      " |-- danceability: string (nullable = true)\n",
      " |-- duration: string (nullable = true)\n",
      " |-- end_of_fade_in: string (nullable = true)\n",
      " |-- energy: string (nullable = true)\n",
      " |-- key: string (nullable = true)\n",
      " |-- key_confidence: string (nullable = true)\n",
      " |-- loudness: string (nullable = true)\n",
      " |-- mode: string (nullable = true)\n",
      " |-- mode_confidence: string (nullable = true)\n",
      " |-- release: string (nullable = true)\n",
      " |-- release_7digitalid: string (nullable = true)\n",
      " |-- sections_confidence: string (nullable = true)\n",
      " |-- sections_start: string (nullable = true)\n",
      " |-- segments_confidence: string (nullable = true)\n",
      " |-- segments_loudness_max: string (nullable = true)\n",
      " |-- segments_loudness_max_time: string (nullable = true)\n",
      " |-- segments_loudness_start: string (nullable = true)\n",
      " |-- segments_pitches: string (nullable = true)\n",
      " |-- segments_start: string (nullable = true)\n",
      " |-- segments_timbre: string (nullable = true)\n",
      " |-- similar_artists: string (nullable = true)\n",
      " |-- song_hotttnesss: string (nullable = true)\n",
      " |-- song_id: string (nullable = true)\n",
      " |-- start_of_fade_out: string (nullable = true)\n",
      " |-- tatums_confidence: string (nullable = true)\n",
      " |-- tatums_start: string (nullable = true)\n",
      " |-- tempo: string (nullable = true)\n",
      " |-- time_signature: string (nullable = true)\n",
      " |-- time_signature_confidence: string (nullable = true)\n",
      " |-- title: string (nullable = true)\n",
      " |-- track_7digitalid: string (nullable = true)\n",
      " |-- track_id: string (nullable = true)\n",
      " |-- year: string (nullable = true)\n",
      "\n"
     ]
    }
   ],
   "source": [
    "df_in.printSchema()"
   ]
  },
  {
   "cell_type": "code",
   "execution_count": 89,
   "metadata": {},
   "outputs": [],
   "source": [
    "from pyspark.sql.types import FloatType,IntegerType\n",
    "from pyspark.sql.functions import when\n",
    "\n",
    "#convert field type\n",
    "float_list=['duration','tempo','loudness','energy','danceability']\n",
    "\n",
    "for item in float_list:\n",
    "    df_in = df_in.withColumn(item, df_in[item].cast(FloatType()))\n",
    "    \n",
    "df_in = df_in.withColumn(\"year\", df_in[\"year\"].cast(IntegerType()))\n",
    "\n",
    "df_in = df_in.withColumn(\"period\", \\\n",
    "              when(df_in[\"year\"] <1990, 0).otherwise(1))"
   ]
  },
  {
   "cell_type": "markdown",
   "metadata": {},
   "source": [
    "### 3. Simple Task\n",
    "Year Recognition: using features of songs to predict the corresponding year."
   ]
  },
  {
   "cell_type": "code",
   "execution_count": 95,
   "metadata": {},
   "outputs": [
    {
     "name": "stdout",
     "output_type": "stream",
     "text": [
      "+------+\n",
      "|period|\n",
      "+------+\n",
      "|     1|\n",
      "|     0|\n",
      "|     1|\n",
      "|     0|\n",
      "|     1|\n",
      "|     1|\n",
      "|     1|\n",
      "|     1|\n",
      "|     0|\n",
      "|     1|\n",
      "|     1|\n",
      "|     1|\n",
      "|     1|\n",
      "|     1|\n",
      "|     0|\n",
      "|     0|\n",
      "|     1|\n",
      "|     1|\n",
      "|     1|\n",
      "|     1|\n",
      "+------+\n",
      "only showing top 20 rows\n",
      "\n"
     ]
    }
   ],
   "source": [
    "from pyspark.ml.feature import OneHotEncoder, StringIndexer, IndexToString, VectorAssembler,StandardScaler\n",
    "from pyspark.ml import Pipeline\n",
    "\n",
    "df_in.select('period').show()\n",
    "\n",
    "assembler = VectorAssembler(\n",
    "    inputCols=float_list,\n",
    "    outputCol=\"features\")"
   ]
  },
  {
   "cell_type": "code",
   "execution_count": 91,
   "metadata": {},
   "outputs": [],
   "source": [
    "train, test = df_in.randomSplit([0.9, 0.1], seed=20)\n",
    "p1=Pipeline(stages=index_list+[assembler])\n",
    "training_data=p1.fit(train).transform(train)"
   ]
  },
  {
   "cell_type": "code",
   "execution_count": 92,
   "metadata": {},
   "outputs": [],
   "source": [
    "from pyspark.ml.classification import RandomForestClassifier\n",
    "rf = RandomForestClassifier(labelCol=\"period\", featuresCol=\"features\", numTrees=10)\n",
    "pipeline=Pipeline(stages=[rf])\n",
    "model = pipeline.fit(training_data)"
   ]
  },
  {
   "cell_type": "code",
   "execution_count": 93,
   "metadata": {},
   "outputs": [],
   "source": [
    "test_data=p1.fit(test).transform(test)\n",
    "predictions = model.transform(test_data)"
   ]
  },
  {
   "cell_type": "code",
   "execution_count": 94,
   "metadata": {},
   "outputs": [
    {
     "name": "stdout",
     "output_type": "stream",
     "text": [
      "Accuracy:  0.9024630541871921\n"
     ]
    }
   ],
   "source": [
    "from pyspark.ml.evaluation import MulticlassClassificationEvaluator\n",
    "evaluator = MulticlassClassificationEvaluator(\n",
    "    labelCol=\"period\", predictionCol=\"prediction\", metricName=\"accuracy\")\n",
    "accuracy = evaluator.evaluate(predictions)\n",
    "print(\"Accuracy: \",accuracy)"
   ]
  },
  {
   "cell_type": "code",
   "execution_count": null,
   "metadata": {},
   "outputs": [],
   "source": []
  },
  {
   "cell_type": "code",
   "execution_count": null,
   "metadata": {},
   "outputs": [],
   "source": []
  }
 ],
 "metadata": {
  "kernelspec": {
   "display_name": "Python 3",
   "language": "python",
   "name": "python3"
  },
  "language_info": {
   "codemirror_mode": {
    "name": "ipython",
    "version": 3
   },
   "file_extension": ".py",
   "mimetype": "text/x-python",
   "name": "python",
   "nbconvert_exporter": "python",
   "pygments_lexer": "ipython3",
   "version": "3.7.6"
  }
 },
 "nbformat": 4,
 "nbformat_minor": 4
}
