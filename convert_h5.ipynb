{
 "cells": [
  {
   "cell_type": "code",
   "execution_count": 1,
   "metadata": {},
   "outputs": [],
   "source": [
    "import boto3"
   ]
  },
  {
   "cell_type": "code",
   "execution_count": 6,
   "metadata": {},
   "outputs": [],
   "source": [
    "def iterate_bucket(bucket):\n",
    "    client = boto3.client('s3')\n",
    "    paginator = client.get_paginator('list_objects_v2')\n",
    "    page_iterator = paginator.paginate(Bucket=bucket)\n",
    "    \n",
    "    for page in page_iterator:\n",
    "        if page['KeyCount'] > 0:\n",
    "            for item in page['Contents']:\n",
    "                yield item"
   ]
  },
  {
   "cell_type": "code",
   "execution_count": 19,
   "metadata": {},
   "outputs": [],
   "source": [
    "counter=0\n",
    "pathlist=[]\n",
    "for i in iterate_bucket(bucket='millionsongproject'):\n",
    "    if counter<200000:\n",
    "        if i['Key'].endswith('.h5'):\n",
    "            pathlist.append(i['Key'])\n",
    "            counter+=1\n",
    "    else:\n",
    "        break"
   ]
  },
  {
   "cell_type": "code",
   "execution_count": 21,
   "metadata": {},
   "outputs": [],
   "source": [
    "import findspark\n",
    "findspark.init()\n",
    "from pyspark import SparkContext\n",
    "from pyspark.sql import SparkSession\n",
    "sc = SparkContext()\n",
    "ss=SparkSession \\\n",
    ".builder \\\n",
    ".getOrCreate()"
   ]
  },
  {
   "cell_type": "code",
   "execution_count": 22,
   "metadata": {},
   "outputs": [],
   "source": [
    "path_rdd=sc.parallelize(pathlist)"
   ]
  },
  {
   "cell_type": "code",
   "execution_count": 25,
   "metadata": {},
   "outputs": [
    {
     "data": {
      "text/plain": [
       "['A/A/A/TRAAAAK128F9318786.h5',\n",
       " 'A/A/A/TRAAAAV128F421A322.h5',\n",
       " 'A/A/A/TRAAAAW128F429D538.h5',\n",
       " 'A/A/A/TRAAAAY128F42A73F0.h5',\n",
       " 'A/A/A/TRAAABD128F429CF47.h5']"
      ]
     },
     "execution_count": 25,
     "metadata": {},
     "output_type": "execute_result"
    }
   ],
   "source": [
    "path_rdd.take(5)"
   ]
  },
  {
   "cell_type": "code",
   "execution_count": 32,
   "metadata": {},
   "outputs": [],
   "source": [
    "import hdf5_getters\n",
    "import pandas as pd\n",
    "import numpy as np"
   ]
  },
  {
   "cell_type": "code",
   "execution_count": 33,
   "metadata": {},
   "outputs": [
    {
     "name": "stdout",
     "output_type": "stream",
     "text": [
      "no. of attributes =  54\n"
     ]
    }
   ],
   "source": [
    "# get all getters\n",
    "onegetter = ''\n",
    "getters = filter(lambda x: x[:4] == 'get_', hdf5_getters.__dict__.keys())\n",
    "getters = list(getters)\n",
    "getters.remove(\"get_num_songs\") # special case\n",
    "if onegetter == 'num_songs' or onegetter == 'get_num_songs':\n",
    "    getters = []\n",
    "elif onegetter != '':\n",
    "    if onegetter[:4] != 'get_':\n",
    "        onegetter = 'get_' + onegetter\n",
    "    try:\n",
    "        getters.index(onegetter)\n",
    "    except ValueError:\n",
    "        print('ERROR: getter requested:',onegetter,'does not exist.')\n",
    "        sys.exit(0)\n",
    "    getters = [onegetter]\n",
    "getters = np.sort(getters)\n",
    "attribute_list = []\n",
    "#creating the dataframe\n",
    "for getter in getters:\n",
    "    attribute_list.append(getter[4:])\n",
    "print('no. of attributes = ',len(attribute_list))\n",
    "subset_df = pd.DataFrame(columns=attribute_list)"
   ]
  },
  {
   "cell_type": "code",
   "execution_count": 41,
   "metadata": {},
   "outputs": [
    {
     "ename": "FileNotFoundError",
     "evalue": "File s3://millionsongproject/A/A/A/TRAAAAK128F9318786.h5 does not exist",
     "output_type": "error",
     "traceback": [
      "\u001b[0;31m---------------------------------------------------------------------------\u001b[0m",
      "\u001b[0;31mFileNotFoundError\u001b[0m                         Traceback (most recent call last)",
      "\u001b[0;32m<ipython-input-41-68d3a1f5e404>\u001b[0m in \u001b[0;36m<module>\u001b[0;34m\u001b[0m\n\u001b[1;32m      1\u001b[0m \u001b[0;32mfor\u001b[0m \u001b[0mi\u001b[0m \u001b[0;32min\u001b[0m \u001b[0mpath_rdd\u001b[0m\u001b[0;34m.\u001b[0m\u001b[0mtake\u001b[0m\u001b[0;34m(\u001b[0m\u001b[0;36m10\u001b[0m\u001b[0;34m)\u001b[0m\u001b[0;34m:\u001b[0m\u001b[0;34m\u001b[0m\u001b[0;34m\u001b[0m\u001b[0m\n\u001b[1;32m      2\u001b[0m     \u001b[0maddress\u001b[0m \u001b[0;34m=\u001b[0m \u001b[0;34m's3://millionsongproject/'\u001b[0m\u001b[0;34m+\u001b[0m\u001b[0mi\u001b[0m\u001b[0;34m\u001b[0m\u001b[0;34m\u001b[0m\u001b[0m\n\u001b[0;32m----> 3\u001b[0;31m     \u001b[0mh5\u001b[0m \u001b[0;34m=\u001b[0m \u001b[0mpd\u001b[0m\u001b[0;34m.\u001b[0m\u001b[0mread_hdf\u001b[0m\u001b[0;34m(\u001b[0m\u001b[0maddress\u001b[0m\u001b[0;34m)\u001b[0m\u001b[0;34m\u001b[0m\u001b[0;34m\u001b[0m\u001b[0m\n\u001b[0m\u001b[1;32m      4\u001b[0m     \u001b[0mnumSongs\u001b[0m \u001b[0;34m=\u001b[0m \u001b[0mhdf5_getters\u001b[0m\u001b[0;34m.\u001b[0m\u001b[0mget_num_songs\u001b[0m\u001b[0;34m(\u001b[0m\u001b[0mh5\u001b[0m\u001b[0;34m)\u001b[0m\u001b[0;34m\u001b[0m\u001b[0;34m\u001b[0m\u001b[0m\n\u001b[1;32m      5\u001b[0m     \u001b[0;31m# print them\u001b[0m\u001b[0;34m\u001b[0m\u001b[0;34m\u001b[0m\u001b[0;34m\u001b[0m\u001b[0m\n",
      "\u001b[0;32m~/miniconda/lib/python3.7/site-packages/pandas/io/pytables.py\u001b[0m in \u001b[0;36mread_hdf\u001b[0;34m(path_or_buf, key, mode, errors, where, start, stop, columns, iterator, chunksize, **kwargs)\u001b[0m\n\u001b[1;32m    393\u001b[0m \u001b[0;34m\u001b[0m\u001b[0m\n\u001b[1;32m    394\u001b[0m         \u001b[0;32mif\u001b[0m \u001b[0;32mnot\u001b[0m \u001b[0mexists\u001b[0m\u001b[0;34m:\u001b[0m\u001b[0;34m\u001b[0m\u001b[0;34m\u001b[0m\u001b[0m\n\u001b[0;32m--> 395\u001b[0;31m             \u001b[0;32mraise\u001b[0m \u001b[0mFileNotFoundError\u001b[0m\u001b[0;34m(\u001b[0m\u001b[0;34mf\"File {path_or_buf} does not exist\"\u001b[0m\u001b[0;34m)\u001b[0m\u001b[0;34m\u001b[0m\u001b[0;34m\u001b[0m\u001b[0m\n\u001b[0m\u001b[1;32m    396\u001b[0m \u001b[0;34m\u001b[0m\u001b[0m\n\u001b[1;32m    397\u001b[0m         \u001b[0mstore\u001b[0m \u001b[0;34m=\u001b[0m \u001b[0mHDFStore\u001b[0m\u001b[0;34m(\u001b[0m\u001b[0mpath_or_buf\u001b[0m\u001b[0;34m,\u001b[0m \u001b[0mmode\u001b[0m\u001b[0;34m=\u001b[0m\u001b[0mmode\u001b[0m\u001b[0;34m,\u001b[0m \u001b[0merrors\u001b[0m\u001b[0;34m=\u001b[0m\u001b[0merrors\u001b[0m\u001b[0;34m,\u001b[0m \u001b[0;34m**\u001b[0m\u001b[0mkwargs\u001b[0m\u001b[0;34m)\u001b[0m\u001b[0;34m\u001b[0m\u001b[0;34m\u001b[0m\u001b[0m\n",
      "\u001b[0;31mFileNotFoundError\u001b[0m: File s3://millionsongproject/A/A/A/TRAAAAK128F9318786.h5 does not exist"
     ]
    }
   ],
   "source": [
    "for i in path_rdd.take(10):\n",
    "    address = 's3://millionsongproject/'+i\n",
    "    h5 = pd.read_hdf(address)\n",
    "    numSongs = hdf5_getters.get_num_songs(h5)\n",
    "    # print them\n",
    "    for getter in getters:\n",
    "        try:\n",
    "            res = hdf5_getters.__getattribute__(getter)(h5,songidx)\n",
    "        except AttributeError:\n",
    "            if summary:\n",
    "                continue\n",
    "            else:\n",
    "                #print(e)\n",
    "                print('forgot -summary flag? specified wrong getter?')\n",
    "        if res.__class__.__name__ == 'ndarray':\n",
    "            #print(getter[4:]+\": shape =\",res.shape)\n",
    "            subset_df.loc[i,getter[4:]] = res.shape\n",
    "        else:\n",
    "            #print(getter[4:]+\":\",res)\n",
    "            subset_df.loc[i,getter[4:]] = res\n",
    "\n",
    "    # done\n",
    "    #print('DONE, showed song',songidx,'/',numSongs-1,'in file:',hdf5path)\n",
    "    h5.close()"
   ]
  },
  {
   "cell_type": "code",
   "execution_count": null,
   "metadata": {},
   "outputs": [],
   "source": []
  }
 ],
 "metadata": {
  "kernelspec": {
   "display_name": "Python 3",
   "language": "python",
   "name": "python3"
  },
  "language_info": {
   "codemirror_mode": {
    "name": "ipython",
    "version": 3
   },
   "file_extension": ".py",
   "mimetype": "text/x-python",
   "name": "python",
   "nbconvert_exporter": "python",
   "pygments_lexer": "ipython3",
   "version": "3.7.6"
  }
 },
 "nbformat": 4,
 "nbformat_minor": 4
}
