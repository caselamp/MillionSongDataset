{
 "cells": [
  {
   "cell_type": "code",
   "execution_count": 1,
   "metadata": {},
   "outputs": [],
   "source": [
    "import boto3"
   ]
  },
  {
   "cell_type": "code",
   "execution_count": 2,
   "metadata": {},
   "outputs": [],
   "source": [
    "def iterate_bucket(bucket):\n",
    "    client = boto3.client('s3')\n",
    "    paginator = client.get_paginator('list_objects_v2')\n",
    "    page_iterator = paginator.paginate(Bucket=bucket)\n",
    "    \n",
    "    for page in page_iterator:\n",
    "        if page['KeyCount'] > 0:\n",
    "            for item in page['Contents']:\n",
    "                yield item"
   ]
  },
  {
   "cell_type": "code",
   "execution_count": 10,
   "metadata": {},
   "outputs": [],
   "source": [
    "counter=0\n",
    "pathlist=[]\n",
    "#for i in iterate_bucket(bucket='millionsongproject'):\n",
    "for i in iterate_bucket(bucket='cosc502millionsong'):\n",
    "    if counter<200000:\n",
    "        if i['Key'].endswith('.h5') and not i['Key']=='millionsongsubset/MillionSongSubset/AdditionalFiles/subset_msd_summary_file.h5':\n",
    "            pathlist.append(i['Key'])\n",
    "            counter+=1\n",
    "    else:\n",
    "        break"
   ]
  },
  {
   "cell_type": "code",
   "execution_count": 32,
   "metadata": {},
   "outputs": [
    {
     "data": {
      "text/plain": [
       "'millionsongsubset/MillionSongSubset/data/A/A/A/TRAAAAW128F429D538.h5'"
      ]
     },
     "execution_count": 32,
     "metadata": {},
     "output_type": "execute_result"
    }
   ],
   "source": [
    "pathlist[0]"
   ]
  },
  {
   "cell_type": "code",
   "execution_count": 5,
   "metadata": {},
   "outputs": [],
   "source": [
    "import findspark\n",
    "findspark.init()\n",
    "from pyspark import SparkContext\n",
    "from pyspark.sql import SparkSession\n",
    "sc = SparkContext()\n",
    "ss=SparkSession \\\n",
    ".builder \\\n",
    ".getOrCreate()"
   ]
  },
  {
   "cell_type": "code",
   "execution_count": 12,
   "metadata": {},
   "outputs": [],
   "source": [
    "path_rdd=sc.parallelize(pathlist)"
   ]
  },
  {
   "cell_type": "code",
   "execution_count": 25,
   "metadata": {},
   "outputs": [
    {
     "data": {
      "text/plain": [
       "['A/A/A/TRAAAAK128F9318786.h5',\n",
       " 'A/A/A/TRAAAAV128F421A322.h5',\n",
       " 'A/A/A/TRAAAAW128F429D538.h5',\n",
       " 'A/A/A/TRAAAAY128F42A73F0.h5',\n",
       " 'A/A/A/TRAAABD128F429CF47.h5']"
      ]
     },
     "execution_count": 25,
     "metadata": {},
     "output_type": "execute_result"
    }
   ],
   "source": [
    "path_rdd.take(5)"
   ]
  },
  {
   "cell_type": "code",
   "execution_count": 13,
   "metadata": {},
   "outputs": [],
   "source": [
    "import pandas as pd\n",
    "import numpy as np"
   ]
  },
  {
   "cell_type": "code",
   "execution_count": 21,
   "metadata": {},
   "outputs": [],
   "source": [
    "path_iter=path_rdd.toLocalIterator()"
   ]
  },
  {
   "cell_type": "code",
   "execution_count": 22,
   "metadata": {},
   "outputs": [
    {
     "data": {
      "text/plain": [
       "'millionsongsubset/MillionSongSubset/data/A/A/A/TRAAAAW128F429D538.h5'"
      ]
     },
     "execution_count": 22,
     "metadata": {},
     "output_type": "execute_result"
    }
   ],
   "source": [
    "next(path_iter)"
   ]
  },
  {
   "cell_type": "code",
   "execution_count": 16,
   "metadata": {},
   "outputs": [],
   "source": [
    "artist_terms=[]\n",
    "artist_terms_freq=[]\n",
    "artist_terms_weight=[]\n",
    "similar_artists=[]\n",
    "songs = []\n",
    "bars_confidence=[]\n",
    "bars_start=[]\n",
    "beats_confidence=[]\n",
    "beats_start=[]\n",
    "sections_confidence=[]\n",
    "sections_start=[]\n",
    "segments_confidence=[]\n",
    "segments_loudness_max=[]\n",
    "segments_loudness_max_time=[]\n",
    "segments_loudness_start=[]\n",
    "segments_pitches=[]\n",
    "segments_start=[]\n",
    "segments_timbre=[]\n",
    "tatums_confidence=[]\n",
    "tatums_start=[]\n",
    "analysis_songs=[]\n",
    "artist_mbtags=[]\n",
    "artist_mbtags_count=[]\n",
    "musicbrainz_songs=[]"
   ]
  },
  {
   "cell_type": "code",
   "execution_count": 34,
   "metadata": {},
   "outputs": [],
   "source": [
    "import h5py\n",
    "import s3fs\n",
    "s3 = s3fs.S3FileSystem()\n",
    "BUCKET='s3://cosc502millionsong/'\n",
    "for a in path_iter:\n",
    "    if a=='millionsongsubset/MillionSongSubset/data/A/A/A/TRAAAAW128F429D538.h5':\n",
    "        continue\n",
    "    address=BUCKET+a\n",
    "    with h5py.File(s3.open(address, 'rb'), 'r', lib_version='labtest') as f:\n",
    "        \"\"\"\n",
    "        metadata: artist_terms, 'artist_terms_freq', 'artist_terms_weight', 'similar_artists', 'songs'\n",
    "        \"\"\"\n",
    "        data=f['metadata']\n",
    "        artist_terms.append(data['artist_terms'][:])\n",
    "        artist_terms_freq.append(data['artist_terms_freq'][:])\n",
    "        artist_terms_weight.append(data['artist_terms_weight'][:])\n",
    "        similar_artists.append(data['similar_artists'][:])\n",
    "        songs.append(data['songs'][:])\n",
    "        \"\"\"\n",
    "        analysis: 'bars_confidence', 'bars_start', 'beats_confidence', \n",
    "        'beats_start', 'sections_confidence', 'sections_start', \n",
    "        'segments_confidence', 'segments_loudness_max', 'segments_loudness_max_time',\n",
    "        'segments_loudness_start', 'segments_pitches', 'segments_start', \n",
    "        'segments_timbre', 'songs', 'tatums_confidence', 'tatums_start'\n",
    "        \"\"\"\n",
    "        data=f['analysis']\n",
    "        bars_confidence.append(data['bars_confidence'][:])\n",
    "        bars_start.append(data['bars_start'][:])\n",
    "        beats_confidence.append(data['beats_confidence'][:])\n",
    "        beats_start.append(data['beats_start'][:])\n",
    "        analysis_songs.append(data['songs'][:])\n",
    "        sections_confidence.append(data['sections_confidence'][:])\n",
    "        sections_start.append(data['sections_start'][:])\n",
    "        segments_confidence.append(data['segments_confidence'][:])\n",
    "        segments_loudness_max.append(data['segments_loudness_max'][:])\n",
    "        segments_loudness_max_time.append(data['segments_loudness_max_time'][:])\n",
    "        segments_loudness_start.append(data['segments_loudness_start'][:])\n",
    "        segments_pitches.append(data['segments_pitches'][:])\n",
    "        segments_start.append(data['segments_start'][:])\n",
    "        segments_timbre.append(data['segments_timbre'][:])\n",
    "        tatums_confidence.append(data['tatums_confidence'][:])\n",
    "        tatums_start.append(data['tatums_start'][:])\n",
    "        \"\"\"\n",
    "        musicbrainz: 'artist_mbtags', 'artist_mbtags_count', 'songs'\n",
    "        \"\"\"\n",
    "        data=f['musicbrainz']\n",
    "        artist_mbtags.append(data['artist_mbtags'][:])\n",
    "        artist_mbtags_count.append(data['artist_mbtags_count'][:])\n",
    "        musicbrainz_songs.append(data['songs'][:])\n"
   ]
  },
  {
   "cell_type": "code",
   "execution_count": 52,
   "metadata": {},
   "outputs": [
    {
     "data": {
      "text/plain": [
       "numpy.ndarray"
      ]
     },
     "execution_count": 52,
     "metadata": {},
     "output_type": "execute_result"
    }
   ],
   "source": [
    "type(artist_terms[0])"
   ]
  },
  {
   "cell_type": "code",
   "execution_count": 60,
   "metadata": {},
   "outputs": [],
   "source": [
    "df = pd.DataFrame()\n",
    "df['artist_terms']=pd.Series(artist_terms)\n",
    "df['artist_terms_freq']=pd.Series(artist_terms_freq)\n",
    "df['artist_terms_weight']=pd.Series(artist_terms_weight)\n",
    "df['similar_artists']=pd.Series(similar_artists)\n",
    "df['songs']=pd.Series(songs)\n",
    "df['bars_confidence']=pd.Series(bars_confidence)\n",
    "df['bars_start']=pd.Series(bars_start)\n",
    "df['beats_confidence']=pd.Series(beats_confidence)\n",
    "df['beats_start']=pd.Series(beats_start)\n",
    "df['analysis_songs']=pd.Series(analysis_songs)\n",
    "df['sections_confidence']=pd.Series(sections_confidence)\n",
    "df['sections_start']=pd.Series(sections_start)\n",
    "df['segments_confidence']=pd.Series(segments_confidence)\n",
    "df['segments_loudness_max']=pd.Series(segments_loudness_max)\n",
    "df['segments_loudness_max_time']=pd.Series(segments_loudness_max_time)\n",
    "df['segments_loudness_start']=pd.Series(segments_loudness_start)\n",
    "df['segments_pitches']=pd.Series(segments_pitches)\n",
    "df['segments_start']=pd.Series(segments_start)\n",
    "df['segments_timbre']=pd.Series(segments_timbre)\n",
    "df['tatums_confidence']=pd.Series(tatums_confidence)\n",
    "df['tatums_start']=pd.Series(tatums_start)\n",
    "df['artist_mbtags']=pd.Series(artist_mbtags)\n",
    "df['artist_mbtags_count']=pd.Series(artist_mbtags_count)\n",
    "df['musicbrainz_songs']=pd.Series(musicbrainz_songs)"
   ]
  },
  {
   "cell_type": "code",
   "execution_count": 62,
   "metadata": {},
   "outputs": [
    {
     "data": {
      "text/html": [
       "<div>\n",
       "<style scoped>\n",
       "    .dataframe tbody tr th:only-of-type {\n",
       "        vertical-align: middle;\n",
       "    }\n",
       "\n",
       "    .dataframe tbody tr th {\n",
       "        vertical-align: top;\n",
       "    }\n",
       "\n",
       "    .dataframe thead th {\n",
       "        text-align: right;\n",
       "    }\n",
       "</style>\n",
       "<table border=\"1\" class=\"dataframe\">\n",
       "  <thead>\n",
       "    <tr style=\"text-align: right;\">\n",
       "      <th></th>\n",
       "      <th>artist_terms</th>\n",
       "      <th>artist_terms_freq</th>\n",
       "      <th>artist_terms_weight</th>\n",
       "      <th>similar_artists</th>\n",
       "      <th>songs</th>\n",
       "      <th>bars_confidence</th>\n",
       "      <th>bars_start</th>\n",
       "      <th>beats_confidence</th>\n",
       "      <th>beats_start</th>\n",
       "      <th>analysis_songs</th>\n",
       "      <th>...</th>\n",
       "      <th>segments_loudness_max_time</th>\n",
       "      <th>segments_loudness_start</th>\n",
       "      <th>segments_pitches</th>\n",
       "      <th>segments_start</th>\n",
       "      <th>segments_timbre</th>\n",
       "      <th>tatums_confidence</th>\n",
       "      <th>tatums_start</th>\n",
       "      <th>artist_mbtags</th>\n",
       "      <th>artist_mbtags_count</th>\n",
       "      <th>musicbrainz_songs</th>\n",
       "    </tr>\n",
       "  </thead>\n",
       "  <tbody>\n",
       "    <tr>\n",
       "      <th>0</th>\n",
       "      <td>[b'salsa', b'cumbia', b'tejano', b'ranchera', ...</td>\n",
       "      <td>[1.0, 0.9422390717941641, 0.9422390717941641, ...</td>\n",
       "      <td>[1.0, 0.9582578450180738, 0.9582578450180738, ...</td>\n",
       "      <td>[b'ARFSJUG11C8A421AAD', b'AR8SD041187FB36015',...</td>\n",
       "      <td>[[b'', 290021, 0.4873567909281477, 0.343428378...</td>\n",
       "      <td>[0.98, 0.399, 0.185, 0.27, 0.422, 0.0, 0.445, ...</td>\n",
       "      <td>[0.73152, 1.39732, 2.04852, 2.68691, 3.315, 3....</td>\n",
       "      <td>[0.98, 0.399, 0.185, 0.27, 0.422, 0.0, 0.445, ...</td>\n",
       "      <td>[0.73152, 1.39732, 2.04852, 2.68691, 3.315, 3....</td>\n",
       "      <td>[[22050, b'fa329738005ca53715d9f7381a0d1fe3', ...</td>\n",
       "      <td>...</td>\n",
       "      <td>[0.27572, 0.1589, 0.0515, 0.0741, 0.09185, 0.0...</td>\n",
       "      <td>[-60.0, -59.9, -12.744, -12.003, -12.991, -15....</td>\n",
       "      <td>[[1.0, 0.911, 0.18, 0.334, 0.327, 0.344, 0.302...</td>\n",
       "      <td>[0.0, 0.28154, 0.48395, 0.6937, 0.97859, 1.361...</td>\n",
       "      <td>[[0.0, 171.124, 9.459, -28.489, 57.482, -50.06...</td>\n",
       "      <td>[0.482, 0.676, 0.627, 0.549, 0.279, 0.264, 0.2...</td>\n",
       "      <td>[0.42132, 0.73152, 1.06609, 1.39732, 1.72854, ...</td>\n",
       "      <td>[]</td>\n",
       "      <td>[]</td>\n",
       "      <td>[[0, 0]]</td>\n",
       "    </tr>\n",
       "    <tr>\n",
       "      <th>1</th>\n",
       "      <td>[b'pop rock', b'new wave', b'dance rock', b'ro...</td>\n",
       "      <td>[0.9885838625154639, 0.9672504640243684, 0.820...</td>\n",
       "      <td>[1.0, 0.9636972066614938, 0.9267729972686404, ...</td>\n",
       "      <td>[b'AR4R0741187FB39AF2', b'AR0D7K21187B9AD14E',...</td>\n",
       "      <td>[[b'', 19072, 0.6303823341467806, 0.4542311565...</td>\n",
       "      <td>[0.017, 0.05, 0.014, 0.008, 0.114, 0.019, 0.08...</td>\n",
       "      <td>[1.30621, 3.29887, 5.30252, 7.32327, 9.33775, ...</td>\n",
       "      <td>[0.809, 0.616, 0.789, 0.66, 0.439, 0.758, 0.60...</td>\n",
       "      <td>[0.81002, 1.30621, 1.80617, 2.2996, 2.80049, 3...</td>\n",
       "      <td>[[22050, b'43cd1abd45d5a2dda16a3c65b4963bd4', ...</td>\n",
       "      <td>...</td>\n",
       "      <td>[0.34385, 0.07741, 0.04658, 0.07981, 0.04477, ...</td>\n",
       "      <td>[-60.0, -27.665, -21.241, -15.222, -18.915, -1...</td>\n",
       "      <td>[[0.651, 0.592, 0.647, 0.494, 0.683, 0.919, 1....</td>\n",
       "      <td>[0.0, 0.70517, 1.03052, 1.21052, 1.52404, 1.72...</td>\n",
       "      <td>[[24.937, 37.465, 177.22, -216.443, 56.3, 202....</td>\n",
       "      <td>[0.601, 0.556, 0.523, 0.49, 0.466, 0.44, 0.428...</td>\n",
       "      <td>[0.56254, 0.81002, 1.05749, 1.30621, 1.55494, ...</td>\n",
       "      <td>[b'uk', b'british', b'english']</td>\n",
       "      <td>[1, 1, 1]</td>\n",
       "      <td>[[0, 1982]]</td>\n",
       "    </tr>\n",
       "    <tr>\n",
       "      <th>2</th>\n",
       "      <td>[b'pop punk', b'ska punk', b'breakcore', b'alt...</td>\n",
       "      <td>[0.8872883012773332, 0.7902037283563664, 0.790...</td>\n",
       "      <td>[1.0, 0.9609057433767874, 0.9592366232787087, ...</td>\n",
       "      <td>[b'ARUA62A1187B99D9B0', b'ARHJFFY1187B98BA76',...</td>\n",
       "      <td>[[b'', 30973, 0.6510456608317947, 0.4017236855...</td>\n",
       "      <td>[0.175, 0.409, 0.639, 0.067, 0.016, 0.066, 0.0...</td>\n",
       "      <td>[1.06368, 2.91491, 4.76729, 6.61852, 8.46978, ...</td>\n",
       "      <td>[0.883, 0.738, 0.484, 0.609, 0.625, 0.719, 0.4...</td>\n",
       "      <td>[0.13576, 0.59914, 1.06368, 1.52591, 1.99045, ...</td>\n",
       "      <td>[[22050, b'580a8fe08ef0f1c7734b84547d7a8bc7', ...</td>\n",
       "      <td>...</td>\n",
       "      <td>[0.06094, 0.06433, 0.02255, 0.02018, 0.02463, ...</td>\n",
       "      <td>[-60.0, -59.828, -19.551, -32.609, -21.899, -2...</td>\n",
       "      <td>[[1.0, 0.529, 0.407, 0.423, 0.524, 0.509, 0.65...</td>\n",
       "      <td>[0.0, 0.06603, 0.24395, 0.57034, 0.92567, 1.26...</td>\n",
       "      <td>[[0.089, 169.621, 5.435, -30.061, 54.144, -50....</td>\n",
       "      <td>[1.0, 0.98, 0.932, 0.87, 0.82, 0.793, 0.768, 0...</td>\n",
       "      <td>[0.13576, 0.36918, 0.59914, 0.83141, 1.06368, ...</td>\n",
       "      <td>[]</td>\n",
       "      <td>[]</td>\n",
       "      <td>[[0, 2007]]</td>\n",
       "    </tr>\n",
       "    <tr>\n",
       "      <th>3</th>\n",
       "      <td>[b'southern gospel', b'bluegrass', b'gospel', ...</td>\n",
       "      <td>[1.0, 0.8776784423307522, 0.5756383007306756, ...</td>\n",
       "      <td>[1.0, 0.889349058121347, 0.660827892217304, 0....</td>\n",
       "      <td>[b'ARHNMEZ11F50C4706C', b'ARCAWRI1187B98CDA6',...</td>\n",
       "      <td>[[b'', 432935, 0.5352927355118197, 0.385470550...</td>\n",
       "      <td>[0.121, 0.511, 0.356, 0.397, 0.193, 0.262, 0.3...</td>\n",
       "      <td>[1.17118, 2.44699, 3.76552, 5.07403, 6.38454, ...</td>\n",
       "      <td>[0.438, 0.164, 0.143, 0.044, 0.047, 0.22, 0.27...</td>\n",
       "      <td>[0.74856, 1.17118, 1.59278, 2.0154, 2.44699, 2...</td>\n",
       "      <td>[[22050, b'8ee90e90bb8714300574486f379effb5', ...</td>\n",
       "      <td>...</td>\n",
       "      <td>[0.43155, 0.15939, 0.13164, 0.08969, 0.11711, ...</td>\n",
       "      <td>[-60.0, -58.929, -54.569, -48.97, -46.964, -45...</td>\n",
       "      <td>[[0.778, 0.152, 0.101, 0.119, 0.145, 1.0, 0.14...</td>\n",
       "      <td>[0.0, 0.44975, 0.62413, 1.06567, 1.27497, 1.54...</td>\n",
       "      <td>[[0.047, 170.004, 9.863, -29.763, 58.312, -50....</td>\n",
       "      <td>[0.136, 0.127, 0.113, 0.112, 0.104, 0.09, 0.07...</td>\n",
       "      <td>[0.53929, 0.74856, 0.95987, 1.17118, 1.38249, ...</td>\n",
       "      <td>[]</td>\n",
       "      <td>[]</td>\n",
       "      <td>[[0, 0]]</td>\n",
       "    </tr>\n",
       "    <tr>\n",
       "      <th>4</th>\n",
       "      <td>[b'breakbeat', b'dirty south rap', b'hip hop',...</td>\n",
       "      <td>[1.0, 0.8386187613378114, 0.9353130749575775, ...</td>\n",
       "      <td>[1.0, 0.9258286857243918, 0.8650794411328923, ...</td>\n",
       "      <td>[b'ARF93II1187B99F981', b'ART6ONC11C8A421DB9',...</td>\n",
       "      <td>[[b'', 17970, 0.5564956019129572, 0.2619411773...</td>\n",
       "      <td>[0.709, 0.641, 0.531, 0.542, 0.47, 0.049, 0.57...</td>\n",
       "      <td>[0.27253, 0.70535, 1.13191, 1.53913, 1.94418, ...</td>\n",
       "      <td>[0.709, 0.641, 0.531, 0.542, 0.47, 0.049, 0.57...</td>\n",
       "      <td>[0.27253, 0.70535, 1.13191, 1.53913, 1.94418, ...</td>\n",
       "      <td>[[22050, b'0e574964bf7a546a39e039f6e35aa48a', ...</td>\n",
       "      <td>...</td>\n",
       "      <td>[0.07564, 0.05985, 0.03653, 0.07117, 0.07724, ...</td>\n",
       "      <td>[-60.0, -55.786, -55.547, -45.022, -19.357, -3...</td>\n",
       "      <td>[[1.0, 0.869, 0.687, 0.644, 0.774, 0.795, 0.8,...</td>\n",
       "      <td>[0.0, 0.09578, 0.45274, 0.64218, 0.76957, 1.06...</td>\n",
       "      <td>[[2.711, 176.591, 16.855, -58.658, 27.583, -26...</td>\n",
       "      <td>[0.467, 0.474, 0.528, 0.541, 0.507, 0.482, 0.3...</td>\n",
       "      <td>[0.05611, 0.27253, 0.48785, 0.70535, 0.92722, ...</td>\n",
       "      <td>[]</td>\n",
       "      <td>[]</td>\n",
       "      <td>[[0, 0]]</td>\n",
       "    </tr>\n",
       "  </tbody>\n",
       "</table>\n",
       "<p>5 rows × 24 columns</p>\n",
       "</div>"
      ],
      "text/plain": [
       "                                        artist_terms  \\\n",
       "0  [b'salsa', b'cumbia', b'tejano', b'ranchera', ...   \n",
       "1  [b'pop rock', b'new wave', b'dance rock', b'ro...   \n",
       "2  [b'pop punk', b'ska punk', b'breakcore', b'alt...   \n",
       "3  [b'southern gospel', b'bluegrass', b'gospel', ...   \n",
       "4  [b'breakbeat', b'dirty south rap', b'hip hop',...   \n",
       "\n",
       "                                   artist_terms_freq  \\\n",
       "0  [1.0, 0.9422390717941641, 0.9422390717941641, ...   \n",
       "1  [0.9885838625154639, 0.9672504640243684, 0.820...   \n",
       "2  [0.8872883012773332, 0.7902037283563664, 0.790...   \n",
       "3  [1.0, 0.8776784423307522, 0.5756383007306756, ...   \n",
       "4  [1.0, 0.8386187613378114, 0.9353130749575775, ...   \n",
       "\n",
       "                                 artist_terms_weight  \\\n",
       "0  [1.0, 0.9582578450180738, 0.9582578450180738, ...   \n",
       "1  [1.0, 0.9636972066614938, 0.9267729972686404, ...   \n",
       "2  [1.0, 0.9609057433767874, 0.9592366232787087, ...   \n",
       "3  [1.0, 0.889349058121347, 0.660827892217304, 0....   \n",
       "4  [1.0, 0.9258286857243918, 0.8650794411328923, ...   \n",
       "\n",
       "                                     similar_artists  \\\n",
       "0  [b'ARFSJUG11C8A421AAD', b'AR8SD041187FB36015',...   \n",
       "1  [b'AR4R0741187FB39AF2', b'AR0D7K21187B9AD14E',...   \n",
       "2  [b'ARUA62A1187B99D9B0', b'ARHJFFY1187B98BA76',...   \n",
       "3  [b'ARHNMEZ11F50C4706C', b'ARCAWRI1187B98CDA6',...   \n",
       "4  [b'ARF93II1187B99F981', b'ART6ONC11C8A421DB9',...   \n",
       "\n",
       "                                               songs  \\\n",
       "0  [[b'', 290021, 0.4873567909281477, 0.343428378...   \n",
       "1  [[b'', 19072, 0.6303823341467806, 0.4542311565...   \n",
       "2  [[b'', 30973, 0.6510456608317947, 0.4017236855...   \n",
       "3  [[b'', 432935, 0.5352927355118197, 0.385470550...   \n",
       "4  [[b'', 17970, 0.5564956019129572, 0.2619411773...   \n",
       "\n",
       "                                     bars_confidence  \\\n",
       "0  [0.98, 0.399, 0.185, 0.27, 0.422, 0.0, 0.445, ...   \n",
       "1  [0.017, 0.05, 0.014, 0.008, 0.114, 0.019, 0.08...   \n",
       "2  [0.175, 0.409, 0.639, 0.067, 0.016, 0.066, 0.0...   \n",
       "3  [0.121, 0.511, 0.356, 0.397, 0.193, 0.262, 0.3...   \n",
       "4  [0.709, 0.641, 0.531, 0.542, 0.47, 0.049, 0.57...   \n",
       "\n",
       "                                          bars_start  \\\n",
       "0  [0.73152, 1.39732, 2.04852, 2.68691, 3.315, 3....   \n",
       "1  [1.30621, 3.29887, 5.30252, 7.32327, 9.33775, ...   \n",
       "2  [1.06368, 2.91491, 4.76729, 6.61852, 8.46978, ...   \n",
       "3  [1.17118, 2.44699, 3.76552, 5.07403, 6.38454, ...   \n",
       "4  [0.27253, 0.70535, 1.13191, 1.53913, 1.94418, ...   \n",
       "\n",
       "                                    beats_confidence  \\\n",
       "0  [0.98, 0.399, 0.185, 0.27, 0.422, 0.0, 0.445, ...   \n",
       "1  [0.809, 0.616, 0.789, 0.66, 0.439, 0.758, 0.60...   \n",
       "2  [0.883, 0.738, 0.484, 0.609, 0.625, 0.719, 0.4...   \n",
       "3  [0.438, 0.164, 0.143, 0.044, 0.047, 0.22, 0.27...   \n",
       "4  [0.709, 0.641, 0.531, 0.542, 0.47, 0.049, 0.57...   \n",
       "\n",
       "                                         beats_start  \\\n",
       "0  [0.73152, 1.39732, 2.04852, 2.68691, 3.315, 3....   \n",
       "1  [0.81002, 1.30621, 1.80617, 2.2996, 2.80049, 3...   \n",
       "2  [0.13576, 0.59914, 1.06368, 1.52591, 1.99045, ...   \n",
       "3  [0.74856, 1.17118, 1.59278, 2.0154, 2.44699, 2...   \n",
       "4  [0.27253, 0.70535, 1.13191, 1.53913, 1.94418, ...   \n",
       "\n",
       "                                      analysis_songs  ...  \\\n",
       "0  [[22050, b'fa329738005ca53715d9f7381a0d1fe3', ...  ...   \n",
       "1  [[22050, b'43cd1abd45d5a2dda16a3c65b4963bd4', ...  ...   \n",
       "2  [[22050, b'580a8fe08ef0f1c7734b84547d7a8bc7', ...  ...   \n",
       "3  [[22050, b'8ee90e90bb8714300574486f379effb5', ...  ...   \n",
       "4  [[22050, b'0e574964bf7a546a39e039f6e35aa48a', ...  ...   \n",
       "\n",
       "                          segments_loudness_max_time  \\\n",
       "0  [0.27572, 0.1589, 0.0515, 0.0741, 0.09185, 0.0...   \n",
       "1  [0.34385, 0.07741, 0.04658, 0.07981, 0.04477, ...   \n",
       "2  [0.06094, 0.06433, 0.02255, 0.02018, 0.02463, ...   \n",
       "3  [0.43155, 0.15939, 0.13164, 0.08969, 0.11711, ...   \n",
       "4  [0.07564, 0.05985, 0.03653, 0.07117, 0.07724, ...   \n",
       "\n",
       "                             segments_loudness_start  \\\n",
       "0  [-60.0, -59.9, -12.744, -12.003, -12.991, -15....   \n",
       "1  [-60.0, -27.665, -21.241, -15.222, -18.915, -1...   \n",
       "2  [-60.0, -59.828, -19.551, -32.609, -21.899, -2...   \n",
       "3  [-60.0, -58.929, -54.569, -48.97, -46.964, -45...   \n",
       "4  [-60.0, -55.786, -55.547, -45.022, -19.357, -3...   \n",
       "\n",
       "                                    segments_pitches  \\\n",
       "0  [[1.0, 0.911, 0.18, 0.334, 0.327, 0.344, 0.302...   \n",
       "1  [[0.651, 0.592, 0.647, 0.494, 0.683, 0.919, 1....   \n",
       "2  [[1.0, 0.529, 0.407, 0.423, 0.524, 0.509, 0.65...   \n",
       "3  [[0.778, 0.152, 0.101, 0.119, 0.145, 1.0, 0.14...   \n",
       "4  [[1.0, 0.869, 0.687, 0.644, 0.774, 0.795, 0.8,...   \n",
       "\n",
       "                                      segments_start  \\\n",
       "0  [0.0, 0.28154, 0.48395, 0.6937, 0.97859, 1.361...   \n",
       "1  [0.0, 0.70517, 1.03052, 1.21052, 1.52404, 1.72...   \n",
       "2  [0.0, 0.06603, 0.24395, 0.57034, 0.92567, 1.26...   \n",
       "3  [0.0, 0.44975, 0.62413, 1.06567, 1.27497, 1.54...   \n",
       "4  [0.0, 0.09578, 0.45274, 0.64218, 0.76957, 1.06...   \n",
       "\n",
       "                                     segments_timbre  \\\n",
       "0  [[0.0, 171.124, 9.459, -28.489, 57.482, -50.06...   \n",
       "1  [[24.937, 37.465, 177.22, -216.443, 56.3, 202....   \n",
       "2  [[0.089, 169.621, 5.435, -30.061, 54.144, -50....   \n",
       "3  [[0.047, 170.004, 9.863, -29.763, 58.312, -50....   \n",
       "4  [[2.711, 176.591, 16.855, -58.658, 27.583, -26...   \n",
       "\n",
       "                                   tatums_confidence  \\\n",
       "0  [0.482, 0.676, 0.627, 0.549, 0.279, 0.264, 0.2...   \n",
       "1  [0.601, 0.556, 0.523, 0.49, 0.466, 0.44, 0.428...   \n",
       "2  [1.0, 0.98, 0.932, 0.87, 0.82, 0.793, 0.768, 0...   \n",
       "3  [0.136, 0.127, 0.113, 0.112, 0.104, 0.09, 0.07...   \n",
       "4  [0.467, 0.474, 0.528, 0.541, 0.507, 0.482, 0.3...   \n",
       "\n",
       "                                        tatums_start  \\\n",
       "0  [0.42132, 0.73152, 1.06609, 1.39732, 1.72854, ...   \n",
       "1  [0.56254, 0.81002, 1.05749, 1.30621, 1.55494, ...   \n",
       "2  [0.13576, 0.36918, 0.59914, 0.83141, 1.06368, ...   \n",
       "3  [0.53929, 0.74856, 0.95987, 1.17118, 1.38249, ...   \n",
       "4  [0.05611, 0.27253, 0.48785, 0.70535, 0.92722, ...   \n",
       "\n",
       "                     artist_mbtags artist_mbtags_count musicbrainz_songs  \n",
       "0                               []                  []          [[0, 0]]  \n",
       "1  [b'uk', b'british', b'english']           [1, 1, 1]       [[0, 1982]]  \n",
       "2                               []                  []       [[0, 2007]]  \n",
       "3                               []                  []          [[0, 0]]  \n",
       "4                               []                  []          [[0, 0]]  \n",
       "\n",
       "[5 rows x 24 columns]"
      ]
     },
     "execution_count": 62,
     "metadata": {},
     "output_type": "execute_result"
    }
   ],
   "source": [
    "df.head(5)"
   ]
  },
  {
   "cell_type": "code",
   "execution_count": 63,
   "metadata": {},
   "outputs": [
    {
     "data": {
      "text/plain": [
       "{'ResponseMetadata': {'RequestId': '19E1732382C52357',\n",
       "  'HostId': 'Pp2Bu/J4udlt3qdw549FM+BkkyRyADGiiILmkrYm5BJyeOjuQC9plwMrNLlzFyHlRJEg2b1f1Xg=',\n",
       "  'HTTPStatusCode': 200,\n",
       "  'HTTPHeaders': {'x-amz-id-2': 'Pp2Bu/J4udlt3qdw549FM+BkkyRyADGiiILmkrYm5BJyeOjuQC9plwMrNLlzFyHlRJEg2b1f1Xg=',\n",
       "   'x-amz-request-id': '19E1732382C52357',\n",
       "   'date': 'Tue, 21 Apr 2020 18:00:34 GMT',\n",
       "   'etag': '\"49baac1a99e4f8c94f6868dfc29e61f6\"',\n",
       "   'content-length': '0',\n",
       "   'server': 'AmazonS3'},\n",
       "  'RetryAttempts': 0},\n",
       " 'ETag': '\"49baac1a99e4f8c94f6868dfc29e61f6\"'}"
      ]
     },
     "execution_count": 63,
     "metadata": {},
     "output_type": "execute_result"
    }
   ],
   "source": [
    "from io import StringIO\n",
    "\n",
    "csv_buffer = StringIO()\n",
    "df.to_csv(csv_buffer)\n",
    "s3_resource = boto3.resource('s3')\n",
    "s3_resource.Object(\"cosc502millionsong\", 'subset_test.csv').put(Body=csv_buffer.getvalue())"
   ]
  },
  {
   "cell_type": "code",
   "execution_count": 70,
   "metadata": {},
   "outputs": [],
   "source": [
    "bytes_to_write = df.to_csv(None).encode()\n",
    "fs = s3fs.S3FileSystem()\n",
    "with fs.open('s3://cosc502millionsong/test_file.csv', 'wb') as f:\n",
    "    f.write(bytes_to_write)"
   ]
  },
  {
   "cell_type": "code",
   "execution_count": 75,
   "metadata": {},
   "outputs": [],
   "source": [
    "df.to_csv('s3://cosc502millionsong/df_test.csv', index=True)"
   ]
  },
  {
   "cell_type": "code",
   "execution_count": 25,
   "metadata": {},
   "outputs": [
    {
     "ename": "AttributeError",
     "evalue": "'S3File' object has no attribute 'seek'",
     "output_type": "error",
     "traceback": [
      "\u001b[0;31m---------------------------------------------------------------------------\u001b[0m",
      "\u001b[0;31mAttributeError\u001b[0m                            Traceback (most recent call last)",
      "\u001b[0;32m<ipython-input-25-0a657f9af1b7>\u001b[0m in \u001b[0;36m<module>\u001b[0;34m\u001b[0m\n\u001b[1;32m      4\u001b[0m \u001b[0ms3\u001b[0m \u001b[0;34m=\u001b[0m \u001b[0ms3fs\u001b[0m\u001b[0;34m.\u001b[0m\u001b[0mS3FileSystem\u001b[0m\u001b[0;34m(\u001b[0m\u001b[0;34m)\u001b[0m\u001b[0;34m\u001b[0m\u001b[0;34m\u001b[0m\u001b[0m\n\u001b[1;32m      5\u001b[0m \u001b[0;34m\u001b[0m\u001b[0m\n\u001b[0;32m----> 6\u001b[0;31m \u001b[0;32mwith\u001b[0m \u001b[0mh5py\u001b[0m\u001b[0;34m.\u001b[0m\u001b[0mFile\u001b[0m\u001b[0;34m(\u001b[0m\u001b[0ms3\u001b[0m\u001b[0;34m.\u001b[0m\u001b[0mopen\u001b[0m\u001b[0;34m(\u001b[0m\u001b[0;34m's3://millionsongproject/A/A/A/TRAAAAV128F421A322.h5'\u001b[0m\u001b[0;34m,\u001b[0m \u001b[0;34m'rb'\u001b[0m\u001b[0;34m)\u001b[0m\u001b[0;34m,\u001b[0m \u001b[0;34m'r'\u001b[0m\u001b[0;34m,\u001b[0m \u001b[0mlib_version\u001b[0m\u001b[0;34m=\u001b[0m\u001b[0;34m'labtest'\u001b[0m\u001b[0;34m)\u001b[0m \u001b[0;32mas\u001b[0m \u001b[0mf\u001b[0m\u001b[0;34m:\u001b[0m\u001b[0;34m\u001b[0m\u001b[0;34m\u001b[0m\u001b[0m\n\u001b[0m\u001b[1;32m      7\u001b[0m     \u001b[0mfile_keys\u001b[0m \u001b[0;34m=\u001b[0m \u001b[0mlist\u001b[0m\u001b[0;34m(\u001b[0m\u001b[0mf\u001b[0m\u001b[0;34m.\u001b[0m\u001b[0mkeys\u001b[0m\u001b[0;34m(\u001b[0m\u001b[0;34m)\u001b[0m\u001b[0;34m)\u001b[0m\u001b[0;34m\u001b[0m\u001b[0;34m\u001b[0m\u001b[0m\n\u001b[1;32m      8\u001b[0m     \u001b[0mprint\u001b[0m\u001b[0;34m(\u001b[0m\u001b[0mfile_keys\u001b[0m\u001b[0;34m)\u001b[0m\u001b[0;34m\u001b[0m\u001b[0;34m\u001b[0m\u001b[0m\n",
      "\u001b[0;32m~/miniconda/lib/python3.7/site-packages/h5py/_hl/files.py\u001b[0m in \u001b[0;36m__init__\u001b[0;34m(self, name, mode, driver, libver, userblock_size, swmr, rdcc_nslots, rdcc_nbytes, rdcc_w0, track_order, **kwds)\u001b[0m\n\u001b[1;32m    406\u001b[0m                 fid = make_fid(name, mode, userblock_size,\n\u001b[1;32m    407\u001b[0m                                \u001b[0mfapl\u001b[0m\u001b[0;34m,\u001b[0m \u001b[0mfcpl\u001b[0m\u001b[0;34m=\u001b[0m\u001b[0mmake_fcpl\u001b[0m\u001b[0;34m(\u001b[0m\u001b[0mtrack_order\u001b[0m\u001b[0;34m=\u001b[0m\u001b[0mtrack_order\u001b[0m\u001b[0;34m)\u001b[0m\u001b[0;34m,\u001b[0m\u001b[0;34m\u001b[0m\u001b[0;34m\u001b[0m\u001b[0m\n\u001b[0;32m--> 408\u001b[0;31m                                swmr=swmr)\n\u001b[0m\u001b[1;32m    409\u001b[0m \u001b[0;34m\u001b[0m\u001b[0m\n\u001b[1;32m    410\u001b[0m             \u001b[0;32mif\u001b[0m \u001b[0misinstance\u001b[0m\u001b[0;34m(\u001b[0m\u001b[0mlibver\u001b[0m\u001b[0;34m,\u001b[0m \u001b[0mtuple\u001b[0m\u001b[0;34m)\u001b[0m\u001b[0;34m:\u001b[0m\u001b[0;34m\u001b[0m\u001b[0;34m\u001b[0m\u001b[0m\n",
      "\u001b[0;32m~/miniconda/lib/python3.7/site-packages/h5py/_hl/files.py\u001b[0m in \u001b[0;36mmake_fid\u001b[0;34m(name, mode, userblock_size, fapl, fcpl, swmr)\u001b[0m\n\u001b[1;32m    171\u001b[0m         \u001b[0;32mif\u001b[0m \u001b[0mswmr\u001b[0m \u001b[0;32mand\u001b[0m \u001b[0mswmr_support\u001b[0m\u001b[0;34m:\u001b[0m\u001b[0;34m\u001b[0m\u001b[0;34m\u001b[0m\u001b[0m\n\u001b[1;32m    172\u001b[0m             \u001b[0mflags\u001b[0m \u001b[0;34m|=\u001b[0m \u001b[0mh5f\u001b[0m\u001b[0;34m.\u001b[0m\u001b[0mACC_SWMR_READ\u001b[0m\u001b[0;34m\u001b[0m\u001b[0;34m\u001b[0m\u001b[0m\n\u001b[0;32m--> 173\u001b[0;31m         \u001b[0mfid\u001b[0m \u001b[0;34m=\u001b[0m \u001b[0mh5f\u001b[0m\u001b[0;34m.\u001b[0m\u001b[0mopen\u001b[0m\u001b[0;34m(\u001b[0m\u001b[0mname\u001b[0m\u001b[0;34m,\u001b[0m \u001b[0mflags\u001b[0m\u001b[0;34m,\u001b[0m \u001b[0mfapl\u001b[0m\u001b[0;34m=\u001b[0m\u001b[0mfapl\u001b[0m\u001b[0;34m)\u001b[0m\u001b[0;34m\u001b[0m\u001b[0;34m\u001b[0m\u001b[0m\n\u001b[0m\u001b[1;32m    174\u001b[0m     \u001b[0;32melif\u001b[0m \u001b[0mmode\u001b[0m \u001b[0;34m==\u001b[0m \u001b[0;34m'r+'\u001b[0m\u001b[0;34m:\u001b[0m\u001b[0;34m\u001b[0m\u001b[0;34m\u001b[0m\u001b[0m\n\u001b[1;32m    175\u001b[0m         \u001b[0mfid\u001b[0m \u001b[0;34m=\u001b[0m \u001b[0mh5f\u001b[0m\u001b[0;34m.\u001b[0m\u001b[0mopen\u001b[0m\u001b[0;34m(\u001b[0m\u001b[0mname\u001b[0m\u001b[0;34m,\u001b[0m \u001b[0mh5f\u001b[0m\u001b[0;34m.\u001b[0m\u001b[0mACC_RDWR\u001b[0m\u001b[0;34m,\u001b[0m \u001b[0mfapl\u001b[0m\u001b[0;34m=\u001b[0m\u001b[0mfapl\u001b[0m\u001b[0;34m)\u001b[0m\u001b[0;34m\u001b[0m\u001b[0;34m\u001b[0m\u001b[0m\n",
      "\u001b[0;32mh5py/_objects.pyx\u001b[0m in \u001b[0;36mh5py._objects.with_phil.wrapper\u001b[0;34m()\u001b[0m\n",
      "\u001b[0;32mh5py/_objects.pyx\u001b[0m in \u001b[0;36mh5py._objects.with_phil.wrapper\u001b[0;34m()\u001b[0m\n",
      "\u001b[0;32mh5py/h5f.pyx\u001b[0m in \u001b[0;36mh5py.h5f.open\u001b[0;34m()\u001b[0m\n",
      "\u001b[0;32mh5py/defs.pyx\u001b[0m in \u001b[0;36mh5py.defs.H5Fopen\u001b[0;34m()\u001b[0m\n",
      "\u001b[0;32mh5py/h5fd.pyx\u001b[0m in \u001b[0;36mh5py.h5fd.H5FD_fileobj_read\u001b[0;34m()\u001b[0m\n",
      "\u001b[0;31mAttributeError\u001b[0m: 'S3File' object has no attribute 'seek'"
     ]
    }
   ],
   "source": [
    "import h5py\n",
    "import s3fs\n",
    "\n",
    "s3 = s3fs.S3FileSystem()\n",
    "\n",
    "with h5py.File(s3.open('s3://millionsongproject/A/A/A/TRAAAAV128F421A322.h5', 'rb'), 'r', lib_version='labtest') as f:\n",
    "    file_keys = list(f.keys())\n",
    "    print(file_keys)"
   ]
  },
  {
   "cell_type": "code",
   "execution_count": 20,
   "metadata": {},
   "outputs": [
    {
     "name": "stdout",
     "output_type": "stream",
     "text": [
      "['analysis', 'metadata', 'musicbrainz']\n"
     ]
    }
   ],
   "source": [
    "import h5py\n",
    "import s3fs\n",
    "\n",
    "s3 = s3fs.S3FileSystem()\n",
    "\n",
    "with h5py.File(s3.open('s3://cosc502millionsong/millionsongsubset/MillionSongSubset/data/A/A/A/TRAAAAW128F429D538.h5', 'rb'), 'r', lib_version='labtest') as f:\n",
    "    file_keys = list(f.keys())\n",
    "    print(file_keys)"
   ]
  },
  {
   "cell_type": "code",
   "execution_count": 76,
   "metadata": {},
   "outputs": [],
   "source": [
    "test_file = ss.read.csv('s3://cosc502millionsong/df_test.csv')"
   ]
  },
  {
   "cell_type": "code",
   "execution_count": 77,
   "metadata": {},
   "outputs": [
    {
     "data": {
      "text/plain": [
       "StructType(List(StructField(_c0,StringType,true),StructField(_c1,StringType,true),StructField(_c2,StringType,true),StructField(_c3,StringType,true),StructField(_c4,StringType,true),StructField(_c5,StringType,true),StructField(_c6,StringType,true),StructField(_c7,StringType,true),StructField(_c8,StringType,true),StructField(_c9,StringType,true),StructField(_c10,StringType,true),StructField(_c11,StringType,true),StructField(_c12,StringType,true),StructField(_c13,StringType,true),StructField(_c14,StringType,true),StructField(_c15,StringType,true),StructField(_c16,StringType,true),StructField(_c17,StringType,true),StructField(_c18,StringType,true),StructField(_c19,StringType,true),StructField(_c20,StringType,true),StructField(_c21,StringType,true),StructField(_c22,StringType,true),StructField(_c23,StringType,true),StructField(_c24,StringType,true)))"
      ]
     },
     "execution_count": 77,
     "metadata": {},
     "output_type": "execute_result"
    }
   ],
   "source": [
    "test_file.schema"
   ]
  },
  {
   "cell_type": "code",
   "execution_count": 78,
   "metadata": {},
   "outputs": [
    {
     "name": "stdout",
     "output_type": "stream",
     "text": [
      "+----+--------------------+-----------------+-------------------+---------------+-----+---------------+----------+----------------+-----------+--------------+-------------------+--------------+-------------------+--------------------+--------------------+--------------------+----------------+--------------+---------------+-----------------+------------+-------------+-------------------+-----------------+\n",
      "| _c0|                 _c1|              _c2|                _c3|            _c4|  _c5|            _c6|       _c7|             _c8|        _c9|          _c10|               _c11|          _c12|               _c13|                _c14|                _c15|                _c16|            _c17|          _c18|           _c19|             _c20|        _c21|         _c22|               _c23|             _c24|\n",
      "+----+--------------------+-----------------+-------------------+---------------+-----+---------------+----------+----------------+-----------+--------------+-------------------+--------------+-------------------+--------------------+--------------------+--------------------+----------------+--------------+---------------+-----------------+------------+-------------+-------------------+-----------------+\n",
      "|null|        artist_terms|artist_terms_freq|artist_terms_weight|similar_artists|songs|bars_confidence|bars_start|beats_confidence|beats_start|analysis_songs|sections_confidence|sections_start|segments_confidence|segments_loudness...|segments_loudness...|segments_loudness...|segments_pitches|segments_start|segments_timbre|tatums_confidence|tatums_start|artist_mbtags|artist_mbtags_count|musicbrainz_songs|\n",
      "|   0|[b'salsa' b'cumbi...|             null|               null|           null| null|           null|      null|            null|       null|          null|               null|          null|               null|                null|                null|                null|            null|          null|           null|             null|        null|         null|               null|             null|\n",
      "+----+--------------------+-----------------+-------------------+---------------+-----+---------------+----------+----------------+-----------+--------------+-------------------+--------------+-------------------+--------------------+--------------------+--------------------+----------------+--------------+---------------+-----------------+------------+-------------+-------------------+-----------------+\n",
      "only showing top 2 rows\n",
      "\n"
     ]
    }
   ],
   "source": [
    "test_file.show(2)"
   ]
  },
  {
   "cell_type": "code",
   "execution_count": null,
   "metadata": {},
   "outputs": [],
   "source": []
  }
 ],
 "metadata": {
  "kernelspec": {
   "display_name": "Python 3",
   "language": "python",
   "name": "python3"
  },
  "language_info": {
   "codemirror_mode": {
    "name": "ipython",
    "version": 3
   },
   "file_extension": ".py",
   "mimetype": "text/x-python",
   "name": "python",
   "nbconvert_exporter": "python",
   "pygments_lexer": "ipython3",
   "version": "3.7.6"
  }
 },
 "nbformat": 4,
 "nbformat_minor": 4
}
