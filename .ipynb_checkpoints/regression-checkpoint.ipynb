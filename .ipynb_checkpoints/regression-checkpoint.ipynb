{
 "cells": [
  {
   "cell_type": "code",
   "execution_count": 1,
   "metadata": {},
   "outputs": [],
   "source": [
    "#load Spark\n",
    "import findspark\n",
    "findspark.init()\n",
    "\n",
    "from pyspark import SparkContext\n",
    "from pyspark.sql import SparkSession\n",
    "\n",
    "sc = SparkContext()\n",
    "ss = SparkSession.builder.appName(\"project1\").getOrCreate()"
   ]
  },
  {
   "cell_type": "code",
   "execution_count": 163,
   "metadata": {},
   "outputs": [],
   "source": [
    "import pandas as pd\n",
    "import boto3\n",
    "from pyspark.ml.classification import LogisticRegression\n",
    "from pyspark.ml.regression import LinearRegression\n",
    "from pyspark.ml.feature import VectorAssembler\n",
    "from pyspark.sql.functions import col, avg\n",
    "from pyspark.ml.feature import StandardScaler\n",
    "from pyspark.ml.evaluation import RegressionEvaluator\n"
   ]
  },
  {
   "cell_type": "code",
   "execution_count": 152,
   "metadata": {},
   "outputs": [],
   "source": [
    "df1 = pd.read_csv(\"s3://502projectsong/cleaned-subset.csv\")\n",
    "#df1.head(5)"
   ]
  },
  {
   "cell_type": "code",
   "execution_count": 168,
   "metadata": {},
   "outputs": [],
   "source": [
    "df = ss.read.format(\"csv\").option(\"inferSchema\", \n",
    "           True).option(\"header\", True).load(\"s3://502projectsong/cleaned-subset.csv\")"
   ]
  },
  {
   "cell_type": "code",
   "execution_count": 169,
   "metadata": {},
   "outputs": [],
   "source": [
    "lr = LogisticRegression(maxIter=10, regParam=0.3, elasticNetParam=0.8)\n",
    "df = df.drop('_c0', 'analysis_sample_rate', 'artist_id', 'artist_location', 'artist_mbid', 'audio_md5', 'artist_7digitalid', 'release_7digitalid',\n",
    "             'artist_name', 'artist_playmeid', 'track_id', 'title', 'song_id', 'release')"
   ]
  },
  {
   "cell_type": "code",
   "execution_count": 170,
   "metadata": {},
   "outputs": [],
   "source": [
    "#df.show(5)\n",
    "df=df.filter(df.song_hotttnesss.isNotNull())"
   ]
  },
  {
   "cell_type": "code",
   "execution_count": 171,
   "metadata": {},
   "outputs": [],
   "source": [
    "inputs = [i for i in df.schema.names if i != 'song_hotttnesss']\n",
    "# def fill_with_mean(df, exclude=set()): \n",
    "#     stats = df.agg(*(\n",
    "#         avg(c).alias(c) for c in df.columns if c not in exclude\n",
    "#     ))\n",
    "#     return df.na.fill(stats.first().asDict())\n",
    "\n",
    "# df = fill_with_mean(df, inputs)\n",
    "# df.count()"
   ]
  },
  {
   "cell_type": "code",
   "execution_count": 172,
   "metadata": {},
   "outputs": [],
   "source": [
    "df = df.dropna(how='any')"
   ]
  },
  {
   "cell_type": "code",
   "execution_count": 173,
   "metadata": {},
   "outputs": [
    {
     "name": "stdout",
     "output_type": "stream",
     "text": [
      "+--------------------+------------------+\n",
      "|            features|   song_hotttnesss|\n",
      "+--------------------+------------------+\n",
      "|[0.63642364495006...|0.4051157216913865|\n",
      "|[0.83996276815103...|0.6665278462297023|\n",
      "|[0.43541581815506...|0.4952936212921635|\n",
      "+--------------------+------------------+\n",
      "only showing top 3 rows\n",
      "\n"
     ]
    }
   ],
   "source": [
    "vectorAssembler = VectorAssembler(inputCols =inputs, outputCol = 'features')\n",
    "v_df = vectorAssembler.transform(df)\n",
    "v_df = v_df.select(['features', 'song_hotttnesss'])\n",
    "v_df.show(3)"
   ]
  },
  {
   "cell_type": "code",
   "execution_count": 174,
   "metadata": {},
   "outputs": [
    {
     "name": "stdout",
     "output_type": "stream",
     "text": [
      "+--------------------+------------------+--------------------+\n",
      "|            features|   song_hotttnesss|     Scaled_features|\n",
      "+--------------------+------------------+--------------------+\n",
      "|[0.63642364495006...|0.4051157216913865|[5.19269722294872...|\n",
      "|[0.83996276815103...|0.6665278462297023|[6.85341025300907...|\n",
      "|[0.43541581815506...|0.4952936212921635|[3.55263750443960...|\n",
      "+--------------------+------------------+--------------------+\n",
      "only showing top 3 rows\n",
      "\n"
     ]
    }
   ],
   "source": [
    "Scalerizer=StandardScaler().setInputCol(\"features\").setOutputCol(\"Scaled_features\")\n",
    "v_df = Scalerizer.fit(v_df).transform(v_df)\n",
    "v_df.show(3)"
   ]
  },
  {
   "cell_type": "code",
   "execution_count": 175,
   "metadata": {},
   "outputs": [],
   "source": [
    "splits = v_df.randomSplit([0.7, 0.3])\n",
    "train_df = splits[0]\n",
    "test_df = splits[1]"
   ]
  },
  {
   "cell_type": "code",
   "execution_count": 176,
   "metadata": {},
   "outputs": [
    {
     "name": "stdout",
     "output_type": "stream",
     "text": [
      "Coefficients: [0.0,0.0,0.0,0.0,0.0,0.0,0.0,0.0,0.0,0.0,0.0,0.0,0.0,0.0,0.0,0.0,0.0,0.0,0.0,0.0,0.0,0.0,0.0,0.0,0.0,0.0,0.0,0.0,0.0,0.0,0.0,0.0,0.0,0.0,0.0,0.0,0.0,0.0,0.0,0.0]\n",
      "Intercept: 0.4321155394512207\n"
     ]
    }
   ],
   "source": [
    "lr = LinearRegression(featuresCol = 'Scaled_features', labelCol='song_hotttnesss', maxIter=10, regParam=0.3, elasticNetParam=0.8)\n",
    "lr_model = lr.fit(train_df)\n",
    "print(\"Coefficients: \" + str(lr_model.coefficients))\n",
    "print(\"Intercept: \" + str(lr_model.intercept))"
   ]
  },
  {
   "cell_type": "code",
   "execution_count": 177,
   "metadata": {},
   "outputs": [
    {
     "name": "stdout",
     "output_type": "stream",
     "text": [
      "RMSE: 0.217330\n",
      "r2: -0.000000\n"
     ]
    }
   ],
   "source": [
    "trainingSummary = lr_model.summary\n",
    "print(\"RMSE: %f\" % trainingSummary.rootMeanSquaredError)\n",
    "print(\"r2: %f\" % trainingSummary.r2)"
   ]
  },
  {
   "cell_type": "code",
   "execution_count": 178,
   "metadata": {},
   "outputs": [
    {
     "name": "stdout",
     "output_type": "stream",
     "text": [
      "+-------+------------------+\n",
      "|summary|   song_hotttnesss|\n",
      "+-------+------------------+\n",
      "|  count|               850|\n",
      "|   mean|0.4321155394512207|\n",
      "| stddev|0.2174577580108071|\n",
      "|    min|               0.0|\n",
      "|    max|               1.0|\n",
      "+-------+------------------+\n",
      "\n"
     ]
    }
   ],
   "source": [
    "train_df.describe().show()\n"
   ]
  },
  {
   "cell_type": "code",
   "execution_count": 179,
   "metadata": {},
   "outputs": [
    {
     "name": "stdout",
     "output_type": "stream",
     "text": [
      "+------------------+-------------------+--------------------+\n",
      "|        prediction|    song_hotttnesss|     Scaled_features|\n",
      "+------------------+-------------------+--------------------+\n",
      "|0.4321155394512207|0.21204540548371908|[2.18320427077388...|\n",
      "|0.4321155394512207|                0.0|[2.70782201816297...|\n",
      "|0.4321155394512207| 0.2538347361322313|[2.70782201816297...|\n",
      "|0.4321155394512207|                0.0|[3.06129022648031...|\n",
      "|0.4321155394512207|                0.0|[3.25426025899887...|\n",
      "+------------------+-------------------+--------------------+\n",
      "only showing top 5 rows\n",
      "\n",
      "R Squared (R2) on test data = -0.00264938\n"
     ]
    }
   ],
   "source": [
    "lr_predictions = lr_model.transform(test_df)\n",
    "lr_predictions.select(\"prediction\",\"song_hotttnesss\",\"Scaled_features\").show(5)\n",
    "lr_evaluator = RegressionEvaluator(predictionCol=\"prediction\", \\\n",
    "                 labelCol=\"song_hotttnesss\",metricName=\"r2\")\n",
    "print(\"R Squared (R2) on test data = %g\" % lr_evaluator.evaluate(lr_predictions))"
   ]
  },
  {
   "cell_type": "code",
   "execution_count": 180,
   "metadata": {},
   "outputs": [
    {
     "name": "stdout",
     "output_type": "stream",
     "text": [
      "Root Mean Squared Error (RMSE) on test data = 0.224892\n"
     ]
    }
   ],
   "source": [
    "test_result = lr_model.evaluate(test_df)\n",
    "print(\"Root Mean Squared Error (RMSE) on test data = %g\" % test_result.rootMeanSquaredError)"
   ]
  },
  {
   "cell_type": "code",
   "execution_count": 181,
   "metadata": {},
   "outputs": [
    {
     "name": "stdout",
     "output_type": "stream",
     "text": [
      "numIterations: 1\n",
      "objectiveHistory: [0.5000000000000002]\n",
      "+--------------------+\n",
      "|           residuals|\n",
      "+--------------------+\n",
      "| 0.04123100165756688|\n",
      "| 0.13113135982943314|\n",
      "|-0.22007013396750164|\n",
      "|-0.16516035317568223|\n",
      "| -0.1662544902405706|\n",
      "|-0.11254955256835575|\n",
      "|-0.21703522094199276|\n",
      "| -0.4321155394512207|\n",
      "| -0.4321155394512207|\n",
      "| -0.4321155394512207|\n",
      "|-0.11254955256835575|\n",
      "| -0.4321155394512207|\n",
      "|-0.17828080331898943|\n",
      "|-0.22007013396750164|\n",
      "|-0.02699981775983...|\n",
      "| -0.4321155394512207|\n",
      "|  0.1591758339365862|\n",
      "|-0.17177729688379023|\n",
      "| 0.06961054229423691|\n",
      "|  0.0305276431404497|\n",
      "+--------------------+\n",
      "only showing top 20 rows\n",
      "\n"
     ]
    }
   ],
   "source": [
    "print(\"numIterations: %d\" % trainingSummary.totalIterations)\n",
    "print(\"objectiveHistory: %s\" % str(trainingSummary.objectiveHistory))\n",
    "trainingSummary.residuals.show()"
   ]
  },
  {
   "cell_type": "code",
   "execution_count": 183,
   "metadata": {},
   "outputs": [
    {
     "name": "stdout",
     "output_type": "stream",
     "text": [
      "Root Mean Squared Error (RMSE) on test data = 0.214044\n"
     ]
    }
   ],
   "source": [
    "from pyspark.ml.regression import DecisionTreeRegressor\n",
    "dt = DecisionTreeRegressor(featuresCol ='features', labelCol = 'song_hotttnesss')\n",
    "dt_model = dt.fit(train_df)\n",
    "dt_predictions = dt_model.transform(test_df)\n",
    "dt_evaluator = RegressionEvaluator(\n",
    "    labelCol=\"song_hotttnesss\", predictionCol=\"prediction\", metricName=\"rmse\")\n",
    "rmse = dt_evaluator.evaluate(dt_predictions)\n",
    "print(\"Root Mean Squared Error (RMSE) on test data = %g\" % rmse)\n"
   ]
  },
  {
   "cell_type": "code",
   "execution_count": 184,
   "metadata": {},
   "outputs": [
    {
     "data": {
      "text/plain": [
       "SparseVector(40, {0: 0.4537, 1: 0.2062, 2: 0.0138, 3: 0.0648, 4: 0.0195, 6: 0.0505, 11: 0.0101, 15: 0.008, 18: 0.01, 19: 0.0631, 21: 0.0382, 33: 0.0159, 38: 0.0462})"
      ]
     },
     "execution_count": 184,
     "metadata": {},
     "output_type": "execute_result"
    }
   ],
   "source": [
    "dt_model.featureImportances\n"
   ]
  },
  {
   "cell_type": "code",
   "execution_count": null,
   "metadata": {},
   "outputs": [],
   "source": []
  }
 ],
 "metadata": {
  "kernelspec": {
   "display_name": "Python 3",
   "language": "python",
   "name": "python3"
  },
  "language_info": {
   "codemirror_mode": {
    "name": "ipython",
    "version": 3
   },
   "file_extension": ".py",
   "mimetype": "text/x-python",
   "name": "python",
   "nbconvert_exporter": "python",
   "pygments_lexer": "ipython3",
   "version": "3.7.6"
  }
 },
 "nbformat": 4,
 "nbformat_minor": 4
}
