{
 "cells": [
  {
   "cell_type": "code",
   "execution_count": 1,
   "metadata": {},
   "outputs": [],
   "source": [
    "#load Spark\n",
    "import findspark\n",
    "findspark.init()\n",
    "\n",
    "from pyspark import SparkContext\n",
    "from pyspark.sql import SparkSession\n",
    "\n",
    "sc = SparkContext()\n",
    "ss = SparkSession.builder.appName(\"project1\").getOrCreate()"
   ]
  },
  {
   "cell_type": "code",
   "execution_count": 2,
   "metadata": {},
   "outputs": [],
   "source": [
    "import pandas as pd\n",
    "import boto3\n",
    "from pyspark.ml.classification import LogisticRegression\n",
    "from pyspark.ml.regression import LinearRegression\n",
    "from pyspark.ml.feature import VectorAssembler\n",
    "from pyspark.ml.feature import StandardScaler\n",
    "from pyspark.sql.functions import *\n",
    "from pyspark.ml.evaluation import BinaryClassificationEvaluator, RegressionEvaluator\n",
    "from pyspark.ml.feature import Imputer\n"
   ]
  },
  {
   "cell_type": "code",
   "execution_count": 3,
   "metadata": {},
   "outputs": [],
   "source": [
    "#df1 = pd.read_csv(\"s3://502projectsong/cleaned-subset.csv\")\n",
    "#df1.head(5)"
   ]
  },
  {
   "cell_type": "code",
   "execution_count": 30,
   "metadata": {},
   "outputs": [],
   "source": [
    "df=ss.read.load(\"s3://502projectsong/clean_big_subset.csv\",format=\"csv\",header=\"true\")\n",
    "#df.na.drop()"
   ]
  },
  {
   "cell_type": "code",
   "execution_count": 31,
   "metadata": {},
   "outputs": [],
   "source": [
    "from pyspark.sql.types import FloatType,IntegerType\n",
    "from pyspark.sql.functions import when"
   ]
  },
  {
   "cell_type": "code",
   "execution_count": 32,
   "metadata": {},
   "outputs": [],
   "source": [
    "#drop meaning less columns\n",
    "df = df.drop('_c0','analysis_sample_rate' , 'artist_id', 'artist_location', 'artist_name', 'title', 'song_id', 'release')"
   ]
  },
  {
   "cell_type": "code",
   "execution_count": 33,
   "metadata": {},
   "outputs": [
    {
     "name": "stdout",
     "output_type": "stream",
     "text": [
      "+------------------+-----------------+---------------+----------------+------------+-----------------+---------------+-----------+----------------+-----------+------------+--------+--------------+------+---+--------------+--------+----+---------------+-------------------+--------------+-------------------+---------------------+--------------------------+-----------------------+----------------+--------------+---------------+---------------+---------------+-----------------+-----------------+------------+-------+--------------+-------------------------+----+------------------+-----------------+\n",
      "|artist_familiarity|artist_hotttnesss|artist_latitude|artist_longitude|artist_terms|artist_terms_freq|bars_confidence| bars_start|beats_confidence|beats_start|danceability|duration|end_of_fade_in|energy|key|key_confidence|loudness|mode|mode_confidence|sections_confidence|sections_start|segments_confidence|segments_loudness_max|segments_loudness_max_time|segments_loudness_start|segments_pitches|segments_start|segments_timbre|similar_artists|song_hotttnesss|start_of_fade_out|tatums_confidence|tatums_start|  tempo|time_signature|time_signature_confidence|year|segments_pitches_1|segments_timbre_1|\n",
      "+------------------+-----------------+---------------+----------------+------------+-----------------+---------------+-----------+----------------+-----------+------------+--------+--------------+------+---+--------------+--------+----+---------------+-------------------+--------------+-------------------+---------------------+--------------------------+-----------------------+----------------+--------------+---------------+---------------+---------------+-----------------+-----------------+------------+-------+--------------+-------------------------+----+------------------+-----------------+\n",
      "|       0.647933622|      0.482022827|       40.76099|       -74.20991|         564|      0.790175611|    0.098915094|109.3454292|     0.555841121|110.1107134|           0|222.9024|         0.299|     0|  5|         0.762|  -15.28|   1|          0.613|             0.5946|     96.034035|        0.634541543|         -18.31317211|                       674|           -27.02084273|              12|   111.5988821|             12|            100|    0.249065795|          210.396|      0.521029206| 110.2390154|116.866|             4|                    0.981|1985|               674|              674|\n",
      "+------------------+-----------------+---------------+----------------+------------+-----------------+---------------+-----------+----------------+-----------+------------+--------+--------------+------+---+--------------+--------+----+---------------+-------------------+--------------+-------------------+---------------------+--------------------------+-----------------------+----------------+--------------+---------------+---------------+---------------+-----------------+-----------------+------------+-------+--------------+-------------------------+----+------------------+-----------------+\n",
      "only showing top 1 row\n",
      "\n"
     ]
    }
   ],
   "source": [
    "# convert artist terms \n",
    "df = df.withColumn('artist_terms', length(df.artist_terms))\n",
    "\n",
    "#extract value in paranthesis\n",
    "df = df.withColumn(\"segments_loudness_max_time\",regexp_extract(df['segments_loudness_max_time'], '[0-9]+',0))\n",
    "df = df.withColumn(\"similar_artists\",regexp_extract(df['similar_artists'], '[0-9]+',0))\n",
    "split_col = split(df['segments_pitches'], ',')\n",
    "df = df.withColumn('segments_pitches_1', split_col.getItem(0))\n",
    "df = df.withColumn('segments_pitches', split_col.getItem(1))\n",
    "df = df.withColumn(\"segments_pitches_1\",regexp_extract(df['segments_pitches_1'], '[0-9]+',0))\n",
    "df = df.withColumn(\"segments_pitches\", substring_index(df.segments_pitches, ')', 1))\n",
    "\n",
    "split_col = split(df['segments_timbre'], ',')\n",
    "df = df.withColumn('segments_timbre_1', split_col.getItem(0))\n",
    "df = df.withColumn('segments_timbre', split_col.getItem(1))\n",
    "df = df.withColumn(\"segments_timbre_1\",regexp_extract(df['segments_timbre_1'], '[0-9]+',0))\n",
    "df = df.withColumn(\"segments_timbre\", substring_index(df.segments_pitches, ')', 1))\n",
    "\n",
    "df.show(1)"
   ]
  },
  {
   "cell_type": "code",
   "execution_count": 34,
   "metadata": {},
   "outputs": [],
   "source": [
    "#df.show(5)\n",
    "df=df.filter(df.song_hotttnesss.isNotNull())\n",
    "df = df.withColumn('song_hotttnesss',when(df.song_hotttnesss <= 0.5, 0).otherwise(1))\n",
    "\n",
    "#convert field type  df.call_time.cast('float')\n",
    "for item in df.columns:\n",
    "    df = df.withColumn(item, df[item].cast('float'))\n",
    "df = df.dropna(how='any')"
   ]
  },
  {
   "cell_type": "code",
   "execution_count": 35,
   "metadata": {},
   "outputs": [],
   "source": [
    "inputs = [i for i in df.schema.names if i != 'song_hotttnesss']"
   ]
  },
  {
   "cell_type": "code",
   "execution_count": 36,
   "metadata": {},
   "outputs": [
    {
     "name": "stdout",
     "output_type": "stream",
     "text": [
      "+--------------------+---------------+\n",
      "|            features|song_hotttnesss|\n",
      "+--------------------+---------------+\n",
      "|[0.64793360233306...|            0.0|\n",
      "|[0.60753244161605...|            0.0|\n",
      "|[0.62143224477767...|            0.0|\n",
      "+--------------------+---------------+\n",
      "only showing top 3 rows\n",
      "\n"
     ]
    }
   ],
   "source": [
    "vectorAssembler = VectorAssembler(inputCols =inputs, outputCol = 'features')\n",
    "v_df = vectorAssembler.transform(df)\n",
    "v_df = v_df.select(['features', 'song_hotttnesss'])\n",
    "v_df.show(3)"
   ]
  },
  {
   "cell_type": "code",
   "execution_count": 37,
   "metadata": {},
   "outputs": [
    {
     "name": "stdout",
     "output_type": "stream",
     "text": [
      "+--------------------+---------------+--------------------+\n",
      "|            features|song_hotttnesss|     Scaled_features|\n",
      "+--------------------+---------------+--------------------+\n",
      "|[0.64793360233306...|            0.0|[5.46873131801131...|\n",
      "|[0.60753244161605...|            0.0|[5.12773481450917...|\n",
      "|[0.62143224477767...|            0.0|[5.24505283689671...|\n",
      "+--------------------+---------------+--------------------+\n",
      "only showing top 3 rows\n",
      "\n"
     ]
    }
   ],
   "source": [
    "Scalerizer = StandardScaler().setInputCol(\"features\").setOutputCol(\"Scaled_features\")\n",
    "v_df = Scalerizer.fit(v_df).transform(v_df)\n",
    "v_df.show(3)"
   ]
  },
  {
   "cell_type": "code",
   "execution_count": 38,
   "metadata": {},
   "outputs": [],
   "source": [
    "splits = v_df.randomSplit([0.7, 0.3])\n",
    "train_df = splits[0]\n",
    "test_df = splits[1]"
   ]
  },
  {
   "cell_type": "code",
   "execution_count": 39,
   "metadata": {},
   "outputs": [
    {
     "name": "stdout",
     "output_type": "stream",
     "text": [
      "Coefficients: (38,[],[])\n",
      "Intercept: -0.8404071242823876\n"
     ]
    }
   ],
   "source": [
    "#lr = LinearRegression(featuresCol = 'Scaled_features', labelCol='song_hotttnesss', maxIter=10, regParam=0.3, elasticNetParam=0.8)\n",
    "lr = LogisticRegression(featuresCol = 'features', labelCol='song_hotttnesss', maxIter=10, regParam=0.3, elasticNetParam=0.8)\n",
    "\n",
    "lr_model = lr.fit(train_df)\n",
    "print(\"Coefficients: \" + str(lr_model.coefficients))\n",
    "print(\"Intercept: \" + str(lr_model.intercept))"
   ]
  },
  {
   "cell_type": "code",
   "execution_count": 40,
   "metadata": {},
   "outputs": [
    {
     "name": "stdout",
     "output_type": "stream",
     "text": [
      "objectiveHistory:\n",
      "0.6120870807191139\n",
      "+---+---+\n",
      "|FPR|TPR|\n",
      "+---+---+\n",
      "|0.0|0.0|\n",
      "|1.0|1.0|\n",
      "|1.0|1.0|\n",
      "+---+---+\n",
      "\n",
      "areaUnderROC: 0.5\n"
     ]
    }
   ],
   "source": [
    "trainingSummary = lr_model.summary\n",
    "\n",
    "# Obtain the objective per iteration\n",
    "objectiveHistory = trainingSummary.objectiveHistory\n",
    "print(\"objectiveHistory:\")\n",
    "for objective in objectiveHistory:\n",
    "    print(objective)\n",
    "\n",
    "# Obtain the receiver-operating characteristic as a dataframe and areaUnderROC.\n",
    "trainingSummary.roc.show()\n",
    "print(\"areaUnderROC: \" + str(trainingSummary.areaUnderROC))"
   ]
  },
  {
   "cell_type": "code",
   "execution_count": 41,
   "metadata": {},
   "outputs": [
    {
     "name": "stdout",
     "output_type": "stream",
     "text": [
      "Accuracy: 0.6985509541531396\n",
      "FPR: 0.6985509541531396\n",
      "TPR: 0.6985509541531396\n",
      "F-measure: 0.574576151931285\n",
      "Precision: 0.4879734355482618\n",
      "Recall: 0.6985509541531396\n"
     ]
    }
   ],
   "source": [
    "accuracy = trainingSummary.accuracy\n",
    "falsePositiveRate = trainingSummary.weightedFalsePositiveRate\n",
    "truePositiveRate = trainingSummary.weightedTruePositiveRate\n",
    "fMeasure = trainingSummary.weightedFMeasure()\n",
    "precision = trainingSummary.weightedPrecision\n",
    "recall = trainingSummary.weightedRecall\n",
    "print(\"Accuracy: %s\\nFPR: %s\\nTPR: %s\\nF-measure: %s\\nPrecision: %s\\nRecall: %s\"\n",
    "      % (accuracy, falsePositiveRate, truePositiveRate, fMeasure, precision, recall))"
   ]
  },
  {
   "cell_type": "code",
   "execution_count": null,
   "metadata": {},
   "outputs": [],
   "source": []
  },
  {
   "cell_type": "code",
   "execution_count": 42,
   "metadata": {},
   "outputs": [
    {
     "name": "stdout",
     "output_type": "stream",
     "text": [
      "+----------+---------------+--------------------+\n",
      "|prediction|song_hotttnesss|     Scaled_features|\n",
      "+----------+---------------+--------------------+\n",
      "|       0.0|            0.0|[1.16634011027594...|\n",
      "|       0.0|            0.0|[2.45154370162199...|\n",
      "|       0.0|            0.0|[2.63583738566256...|\n",
      "|       0.0|            0.0|[2.74900073014320...|\n",
      "|       0.0|            0.0|[2.86055120335552...|\n",
      "+----------+---------------+--------------------+\n",
      "only showing top 5 rows\n",
      "\n"
     ]
    }
   ],
   "source": [
    "lr_predictions = lr_model.transform(test_df)\n",
    "lr_predictions.select(\"prediction\",\"song_hotttnesss\",\"Scaled_features\").show(5)"
   ]
  },
  {
   "cell_type": "code",
   "execution_count": 43,
   "metadata": {},
   "outputs": [
    {
     "name": "stdout",
     "output_type": "stream",
     "text": [
      "Test Area Under ROC 0.5\n"
     ]
    }
   ],
   "source": [
    "#test_result = lr_model.evaluate(test_df)\n",
    "#print(\"Root Mean Squared Error (RMSE) on test data = %g\" % test_result.rootMeanSquaredError)\n",
    "\n",
    "evaluator = BinaryClassificationEvaluator( labelCol = 'song_hotttnesss')\n",
    "print('Test Area Under ROC', evaluator.evaluate(lr_predictions))\n"
   ]
  },
  {
   "cell_type": "code",
   "execution_count": 44,
   "metadata": {},
   "outputs": [
    {
     "name": "stdout",
     "output_type": "stream",
     "text": [
      "numIterations: 1\n",
      "objectiveHistory: [0.6120870807191139]\n"
     ]
    }
   ],
   "source": [
    "print(\"numIterations: %d\" % trainingSummary.totalIterations)\n",
    "print(\"objectiveHistory: %s\" % str(trainingSummary.objectiveHistory))"
   ]
  },
  {
   "cell_type": "code",
   "execution_count": 53,
   "metadata": {},
   "outputs": [
    {
     "name": "stdout",
     "output_type": "stream",
     "text": [
      "Accuracy:  0.7660748781160887\n"
     ]
    }
   ],
   "source": [
    "from pyspark.ml.classification import RandomForestClassifier,GBTClassifier\n",
    "from pyspark.ml.evaluation import MulticlassClassificationEvaluator\n",
    "\n",
    "rf = RandomForestClassifier(labelCol=\"song_hotttnesss\", featuresCol=\"features\", numTrees=20)\n",
    "model = rf.fit(train_df)\n",
    "predictions = model.transform(test_df)\n",
    "rf_evaluator = MulticlassClassificationEvaluator(\n",
    "    labelCol=\"song_hotttnesss\", predictionCol=\"prediction\", metricName=\"accuracy\")\n",
    "accuracy = rf_evaluator.evaluate(predictions)\n",
    "print(\"Accuracy: \",accuracy)"
   ]
  },
  {
   "cell_type": "code",
   "execution_count": 58,
   "metadata": {},
   "outputs": [
    {
     "data": {
      "text/plain": [
       "SparseVector(38, {0: 0.3704, 1: 0.2377, 2: 0.0088, 3: 0.0042, 4: 0.0122, 5: 0.098, 6: 0.0007, 7: 0.0002, 8: 0.0005, 9: 0.0, 11: 0.0001, 12: 0.0008, 14: 0.0001, 15: 0.0007, 16: 0.0274, 17: 0.0002, 18: 0.0005, 19: 0.0012, 21: 0.0216, 22: 0.0228, 23: 0.0019, 24: 0.0262, 26: 0.0005, 29: 0.0006, 30: 0.001, 31: 0.0017, 32: 0.0001, 33: 0.0006, 35: 0.1525, 36: 0.0042, 37: 0.0027})"
      ]
     },
     "execution_count": 58,
     "metadata": {},
     "output_type": "execute_result"
    }
   ],
   "source": [
    "model.featureImportances"
   ]
  },
  {
   "cell_type": "code",
   "execution_count": 59,
   "metadata": {},
   "outputs": [],
   "source": [
    "def ExtractFeatureImp(featureImp, dataset, featuresCol):\n",
    "    list_extract = []\n",
    "    for i in dataset.schema[featuresCol].metadata[\"ml_attr\"][\"attrs\"]:\n",
    "        list_extract = list_extract + dataset.schema[featuresCol].metadata[\"ml_attr\"][\"attrs\"][i]\n",
    "    varlist = pd.DataFrame(list_extract)\n",
    "    varlist['score'] = varlist['idx'].apply(lambda x: featureImp[x])\n",
    "    return(varlist.sort_values('score', ascending = False))\n"
   ]
  },
  {
   "cell_type": "code",
   "execution_count": 63,
   "metadata": {},
   "outputs": [
    {
     "data": {
      "text/html": [
       "<div>\n",
       "<style scoped>\n",
       "    .dataframe tbody tr th:only-of-type {\n",
       "        vertical-align: middle;\n",
       "    }\n",
       "\n",
       "    .dataframe tbody tr th {\n",
       "        vertical-align: top;\n",
       "    }\n",
       "\n",
       "    .dataframe thead th {\n",
       "        text-align: right;\n",
       "    }\n",
       "</style>\n",
       "<table border=\"1\" class=\"dataframe\">\n",
       "  <thead>\n",
       "    <tr style=\"text-align: right;\">\n",
       "      <th></th>\n",
       "      <th>idx</th>\n",
       "      <th>name</th>\n",
       "      <th>score</th>\n",
       "    </tr>\n",
       "  </thead>\n",
       "  <tbody>\n",
       "    <tr>\n",
       "      <th>0</th>\n",
       "      <td>0</td>\n",
       "      <td>artist_familiarity</td>\n",
       "      <td>0.370370</td>\n",
       "    </tr>\n",
       "    <tr>\n",
       "      <th>1</th>\n",
       "      <td>1</td>\n",
       "      <td>artist_hotttnesss</td>\n",
       "      <td>0.237743</td>\n",
       "    </tr>\n",
       "    <tr>\n",
       "      <th>35</th>\n",
       "      <td>35</td>\n",
       "      <td>year</td>\n",
       "      <td>0.152502</td>\n",
       "    </tr>\n",
       "    <tr>\n",
       "      <th>5</th>\n",
       "      <td>5</td>\n",
       "      <td>artist_terms_freq</td>\n",
       "      <td>0.097953</td>\n",
       "    </tr>\n",
       "    <tr>\n",
       "      <th>16</th>\n",
       "      <td>16</td>\n",
       "      <td>loudness</td>\n",
       "      <td>0.027439</td>\n",
       "    </tr>\n",
       "    <tr>\n",
       "      <th>24</th>\n",
       "      <td>24</td>\n",
       "      <td>segments_loudness_start</td>\n",
       "      <td>0.026197</td>\n",
       "    </tr>\n",
       "    <tr>\n",
       "      <th>22</th>\n",
       "      <td>22</td>\n",
       "      <td>segments_loudness_max</td>\n",
       "      <td>0.022770</td>\n",
       "    </tr>\n",
       "    <tr>\n",
       "      <th>21</th>\n",
       "      <td>21</td>\n",
       "      <td>segments_confidence</td>\n",
       "      <td>0.021577</td>\n",
       "    </tr>\n",
       "    <tr>\n",
       "      <th>4</th>\n",
       "      <td>4</td>\n",
       "      <td>artist_terms</td>\n",
       "      <td>0.012151</td>\n",
       "    </tr>\n",
       "    <tr>\n",
       "      <th>2</th>\n",
       "      <td>2</td>\n",
       "      <td>artist_latitude</td>\n",
       "      <td>0.008826</td>\n",
       "    </tr>\n",
       "    <tr>\n",
       "      <th>36</th>\n",
       "      <td>36</td>\n",
       "      <td>segments_pitches_1</td>\n",
       "      <td>0.004216</td>\n",
       "    </tr>\n",
       "    <tr>\n",
       "      <th>3</th>\n",
       "      <td>3</td>\n",
       "      <td>artist_longitude</td>\n",
       "      <td>0.004195</td>\n",
       "    </tr>\n",
       "    <tr>\n",
       "      <th>37</th>\n",
       "      <td>37</td>\n",
       "      <td>segments_timbre_1</td>\n",
       "      <td>0.002680</td>\n",
       "    </tr>\n",
       "    <tr>\n",
       "      <th>23</th>\n",
       "      <td>23</td>\n",
       "      <td>segments_loudness_max_time</td>\n",
       "      <td>0.001888</td>\n",
       "    </tr>\n",
       "    <tr>\n",
       "      <th>31</th>\n",
       "      <td>31</td>\n",
       "      <td>tatums_start</td>\n",
       "      <td>0.001723</td>\n",
       "    </tr>\n",
       "    <tr>\n",
       "      <th>19</th>\n",
       "      <td>19</td>\n",
       "      <td>sections_confidence</td>\n",
       "      <td>0.001172</td>\n",
       "    </tr>\n",
       "    <tr>\n",
       "      <th>30</th>\n",
       "      <td>30</td>\n",
       "      <td>tatums_confidence</td>\n",
       "      <td>0.001015</td>\n",
       "    </tr>\n",
       "    <tr>\n",
       "      <th>12</th>\n",
       "      <td>12</td>\n",
       "      <td>end_of_fade_in</td>\n",
       "      <td>0.000833</td>\n",
       "    </tr>\n",
       "    <tr>\n",
       "      <th>6</th>\n",
       "      <td>6</td>\n",
       "      <td>bars_confidence</td>\n",
       "      <td>0.000735</td>\n",
       "    </tr>\n",
       "    <tr>\n",
       "      <th>15</th>\n",
       "      <td>15</td>\n",
       "      <td>key_confidence</td>\n",
       "      <td>0.000656</td>\n",
       "    </tr>\n",
       "    <tr>\n",
       "      <th>33</th>\n",
       "      <td>33</td>\n",
       "      <td>time_signature</td>\n",
       "      <td>0.000603</td>\n",
       "    </tr>\n",
       "    <tr>\n",
       "      <th>29</th>\n",
       "      <td>29</td>\n",
       "      <td>start_of_fade_out</td>\n",
       "      <td>0.000560</td>\n",
       "    </tr>\n",
       "    <tr>\n",
       "      <th>8</th>\n",
       "      <td>8</td>\n",
       "      <td>beats_confidence</td>\n",
       "      <td>0.000527</td>\n",
       "    </tr>\n",
       "    <tr>\n",
       "      <th>26</th>\n",
       "      <td>26</td>\n",
       "      <td>segments_start</td>\n",
       "      <td>0.000484</td>\n",
       "    </tr>\n",
       "    <tr>\n",
       "      <th>18</th>\n",
       "      <td>18</td>\n",
       "      <td>mode_confidence</td>\n",
       "      <td>0.000461</td>\n",
       "    </tr>\n",
       "    <tr>\n",
       "      <th>7</th>\n",
       "      <td>7</td>\n",
       "      <td>bars_start</td>\n",
       "      <td>0.000191</td>\n",
       "    </tr>\n",
       "    <tr>\n",
       "      <th>17</th>\n",
       "      <td>17</td>\n",
       "      <td>mode</td>\n",
       "      <td>0.000190</td>\n",
       "    </tr>\n",
       "    <tr>\n",
       "      <th>11</th>\n",
       "      <td>11</td>\n",
       "      <td>duration</td>\n",
       "      <td>0.000115</td>\n",
       "    </tr>\n",
       "    <tr>\n",
       "      <th>32</th>\n",
       "      <td>32</td>\n",
       "      <td>tempo</td>\n",
       "      <td>0.000109</td>\n",
       "    </tr>\n",
       "    <tr>\n",
       "      <th>14</th>\n",
       "      <td>14</td>\n",
       "      <td>key</td>\n",
       "      <td>0.000087</td>\n",
       "    </tr>\n",
       "    <tr>\n",
       "      <th>9</th>\n",
       "      <td>9</td>\n",
       "      <td>beats_start</td>\n",
       "      <td>0.000031</td>\n",
       "    </tr>\n",
       "    <tr>\n",
       "      <th>34</th>\n",
       "      <td>34</td>\n",
       "      <td>time_signature_confidence</td>\n",
       "      <td>0.000000</td>\n",
       "    </tr>\n",
       "    <tr>\n",
       "      <th>13</th>\n",
       "      <td>13</td>\n",
       "      <td>energy</td>\n",
       "      <td>0.000000</td>\n",
       "    </tr>\n",
       "    <tr>\n",
       "      <th>28</th>\n",
       "      <td>28</td>\n",
       "      <td>similar_artists</td>\n",
       "      <td>0.000000</td>\n",
       "    </tr>\n",
       "    <tr>\n",
       "      <th>27</th>\n",
       "      <td>27</td>\n",
       "      <td>segments_timbre</td>\n",
       "      <td>0.000000</td>\n",
       "    </tr>\n",
       "    <tr>\n",
       "      <th>10</th>\n",
       "      <td>10</td>\n",
       "      <td>danceability</td>\n",
       "      <td>0.000000</td>\n",
       "    </tr>\n",
       "    <tr>\n",
       "      <th>20</th>\n",
       "      <td>20</td>\n",
       "      <td>sections_start</td>\n",
       "      <td>0.000000</td>\n",
       "    </tr>\n",
       "    <tr>\n",
       "      <th>25</th>\n",
       "      <td>25</td>\n",
       "      <td>segments_pitches</td>\n",
       "      <td>0.000000</td>\n",
       "    </tr>\n",
       "  </tbody>\n",
       "</table>\n",
       "</div>"
      ],
      "text/plain": [
       "    idx                        name     score\n",
       "0     0          artist_familiarity  0.370370\n",
       "1     1           artist_hotttnesss  0.237743\n",
       "35   35                        year  0.152502\n",
       "5     5           artist_terms_freq  0.097953\n",
       "16   16                    loudness  0.027439\n",
       "24   24     segments_loudness_start  0.026197\n",
       "22   22       segments_loudness_max  0.022770\n",
       "21   21         segments_confidence  0.021577\n",
       "4     4                artist_terms  0.012151\n",
       "2     2             artist_latitude  0.008826\n",
       "36   36          segments_pitches_1  0.004216\n",
       "3     3            artist_longitude  0.004195\n",
       "37   37           segments_timbre_1  0.002680\n",
       "23   23  segments_loudness_max_time  0.001888\n",
       "31   31                tatums_start  0.001723\n",
       "19   19         sections_confidence  0.001172\n",
       "30   30           tatums_confidence  0.001015\n",
       "12   12              end_of_fade_in  0.000833\n",
       "6     6             bars_confidence  0.000735\n",
       "15   15              key_confidence  0.000656\n",
       "33   33              time_signature  0.000603\n",
       "29   29           start_of_fade_out  0.000560\n",
       "8     8            beats_confidence  0.000527\n",
       "26   26              segments_start  0.000484\n",
       "18   18             mode_confidence  0.000461\n",
       "7     7                  bars_start  0.000191\n",
       "17   17                        mode  0.000190\n",
       "11   11                    duration  0.000115\n",
       "32   32                       tempo  0.000109\n",
       "14   14                         key  0.000087\n",
       "9     9                 beats_start  0.000031\n",
       "34   34   time_signature_confidence  0.000000\n",
       "13   13                      energy  0.000000\n",
       "28   28             similar_artists  0.000000\n",
       "27   27             segments_timbre  0.000000\n",
       "10   10                danceability  0.000000\n",
       "20   20              sections_start  0.000000\n",
       "25   25            segments_pitches  0.000000"
      ]
     },
     "execution_count": 63,
     "metadata": {},
     "output_type": "execute_result"
    }
   ],
   "source": [
    "ExtractFeatureImp(model.featureImportances, train_df, \"features\")"
   ]
  },
  {
   "cell_type": "code",
   "execution_count": null,
   "metadata": {},
   "outputs": [],
   "source": []
  }
 ],
 "metadata": {
  "kernelspec": {
   "display_name": "Python 3",
   "language": "python",
   "name": "python3"
  },
  "language_info": {
   "codemirror_mode": {
    "name": "ipython",
    "version": 3
   },
   "file_extension": ".py",
   "mimetype": "text/x-python",
   "name": "python",
   "nbconvert_exporter": "python",
   "pygments_lexer": "ipython3",
   "version": "3.7.6"
  }
 },
 "nbformat": 4,
 "nbformat_minor": 4
}
