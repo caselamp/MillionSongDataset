{
 "cells": [
  {
   "cell_type": "code",
   "execution_count": 1,
   "metadata": {},
   "outputs": [],
   "source": [
    "import findspark\n",
    "findspark.init()\n",
    "from pyspark import SparkContext\n",
    "from pyspark.sql import SparkSession\n",
    "sc = SparkContext()\n",
    "ss=SparkSession \\\n",
    ".builder \\\n",
    ".getOrCreate()"
   ]
  },
  {
   "cell_type": "code",
   "execution_count": 2,
   "metadata": {},
   "outputs": [],
   "source": [
    "df_in=ss.read.load(\"s3://disma-bucket/clean_big_subset.csv\",format=\"csv\",header=\"true\")"
   ]
  },
  {
   "cell_type": "code",
   "execution_count": 3,
   "metadata": {},
   "outputs": [
    {
     "name": "stdout",
     "output_type": "stream",
     "text": [
      "root\n",
      " |-- _c0: string (nullable = true)\n",
      " |-- analysis_sample_rate: string (nullable = true)\n",
      " |-- artist_familiarity: string (nullable = true)\n",
      " |-- artist_hotttnesss: string (nullable = true)\n",
      " |-- artist_id: string (nullable = true)\n",
      " |-- artist_latitude: string (nullable = true)\n",
      " |-- artist_location: string (nullable = true)\n",
      " |-- artist_longitude: string (nullable = true)\n",
      " |-- artist_name: string (nullable = true)\n",
      " |-- artist_terms: string (nullable = true)\n",
      " |-- artist_terms_freq: string (nullable = true)\n",
      " |-- bars_confidence: string (nullable = true)\n",
      " |-- bars_start: string (nullable = true)\n",
      " |-- beats_confidence: string (nullable = true)\n",
      " |-- beats_start: string (nullable = true)\n",
      " |-- danceability: string (nullable = true)\n",
      " |-- duration: string (nullable = true)\n",
      " |-- end_of_fade_in: string (nullable = true)\n",
      " |-- energy: string (nullable = true)\n",
      " |-- key: string (nullable = true)\n",
      " |-- key_confidence: string (nullable = true)\n",
      " |-- loudness: string (nullable = true)\n",
      " |-- mode: string (nullable = true)\n",
      " |-- mode_confidence: string (nullable = true)\n",
      " |-- release: string (nullable = true)\n",
      " |-- sections_confidence: string (nullable = true)\n",
      " |-- sections_start: string (nullable = true)\n",
      " |-- segments_confidence: string (nullable = true)\n",
      " |-- segments_loudness_max: string (nullable = true)\n",
      " |-- segments_loudness_max_time: string (nullable = true)\n",
      " |-- segments_loudness_start: string (nullable = true)\n",
      " |-- segments_pitches: string (nullable = true)\n",
      " |-- segments_start: string (nullable = true)\n",
      " |-- segments_timbre: string (nullable = true)\n",
      " |-- similar_artists: string (nullable = true)\n",
      " |-- song_hotttnesss: string (nullable = true)\n",
      " |-- song_id: string (nullable = true)\n",
      " |-- start_of_fade_out: string (nullable = true)\n",
      " |-- tatums_confidence: string (nullable = true)\n",
      " |-- tatums_start: string (nullable = true)\n",
      " |-- tempo: string (nullable = true)\n",
      " |-- time_signature: string (nullable = true)\n",
      " |-- time_signature_confidence: string (nullable = true)\n",
      " |-- title: string (nullable = true)\n",
      " |-- year: string (nullable = true)\n",
      "\n"
     ]
    }
   ],
   "source": [
    "df_in.printSchema()"
   ]
  },
  {
   "cell_type": "code",
   "execution_count": 4,
   "metadata": {},
   "outputs": [
    {
     "data": {
      "text/plain": [
       "[Row(_c0='0', analysis_sample_rate='22050', artist_familiarity='0.647933622', artist_hotttnesss='0.482022827', artist_id='AR4PQ891187FB5CA9F', artist_latitude='40.76099', artist_location='East Orange, NJ', artist_longitude='-74.20991', artist_name='Dionne Warwick', artist_terms=\"['brill building pop', 'quiet storm', 'ballad', 'easy listening', 'motown', 'disco', 'soul jazz', 'smooth jazz', 'soul', 'jazz', 'soft rock', 'uk garage', 'chill-out', 'german pop', 'salsa', 'r&b', 'chanson', 'rock', 'pop', 'blues-rock', 'vocal jazz', 'funk', 'oldies', 'pop rock', 'downtempo', 'hip hop', 'classic rock', 'united states', 'germany', 'adult contemporary', 'folk rock', 'vocal', 'soundtrack', 'blues', 'female vocalist', 'electronic', 'new wave', 'urban', 'reggae', 'singer-songwriter', 'swing', '60s', 'female', 'american', '80s', '90s', 'ambient']\", artist_terms_freq='0.790175611', bars_confidence='0.098915094', bars_start='109.3454292', beats_confidence='0.555841121', beats_start='110.1107134', danceability='0', duration='222.9024', end_of_fade_in='0.299', energy='0', key='5', key_confidence='0.762', loudness='-15.28', mode='1', mode_confidence='0.613', release='Friends', sections_confidence='0.5946', sections_start='96.034035', segments_confidence='0.634541543', segments_loudness_max='-18.31317211', segments_loudness_max_time='(674,)', segments_loudness_start='-27.02084273', segments_pitches='(674, 12)', segments_start='111.5988821', segments_timbre='(674, 12)', similar_artists='(100,)', song_hotttnesss='0.249065795', song_id='SOWTLUT12A8C13BE83', start_of_fade_out='210.396', tatums_confidence='0.521029206', tatums_start='110.2390154', tempo='116.866', time_signature='4', time_signature_confidence='0.981', title='Remember Your Heart', year='1985'),\n",
       " Row(_c0='1', analysis_sample_rate='22050', artist_familiarity='0.609092646', artist_hotttnesss='0.492579455', artist_id='AR8LHSZ1187B9A1025', artist_latitude=None, artist_location=None, artist_longitude=None, artist_name='Andain', artist_terms=\"['progressive trance', 'progressive house', 'trance', 'hard trance', 'tech house', 'electronic', 'techno', 'chill-out', 'big beat', 'hard house', 'deep house', 'trip hop', 'goa', 'breakbeat', 'club', 'electro', 'dance', 'downtempo', 'house', 'nederland', 'electronica', 'united states', 'ambient', 'female vocalist', 'vocal trance', 'psychedelic trance', 'relax', 'germany', 'rock', 'party music', 'pop', 'lounge', 'american', 'progressive', 'vocal', 'female vocals', 'beautiful', 'belgium', 'ethereal']\", artist_terms_freq='0.670813519', bars_confidence='0.120578348', bars_start='321.2405387', beats_confidence='0.664176972', beats_start='322.155806', danceability='0', duration='644.91057', end_of_fade_in='0.276', energy='0', key='4', key_confidence='0.771', loudness='-8.671', mode='0', mode_confidence='0.486', release='History of Trance Euphoria - Mixed by John 00 Fleming', sections_confidence='0.6946875', sections_start='338.9159631', segments_confidence='0.698529063', segments_loudness_max='-12.50164176', segments_loudness_max_time='(2529,)', segments_loudness_start='-24.03987307', segments_pitches='(2529, 12)', segments_start='312.191134', segments_timbre='(2529, 12)', similar_artists='(100,)', song_hotttnesss=None, song_id='SOHLYMF12AB0189B7B', start_of_fade_out='615.184', tatums_confidence='0.67222167', tatums_start='322.1557634', tempo='130.977', time_signature='4', time_signature_confidence='0', title='Beautiful Things', year='2003')]"
      ]
     },
     "execution_count": 4,
     "metadata": {},
     "output_type": "execute_result"
    }
   ],
   "source": [
    "df_in.take(2)"
   ]
  },
  {
   "cell_type": "code",
   "execution_count": 5,
   "metadata": {},
   "outputs": [
    {
     "name": "stdout",
     "output_type": "stream",
     "text": [
      "+---+--------------------+--------------------+----------------+--------------------+\n",
      "|_c0|               title|             release|     artist_name|        artist_terms|\n",
      "+---+--------------------+--------------------+----------------+--------------------+\n",
      "|  0| Remember Your Heart|             Friends|  Dionne Warwick|['brill building ...|\n",
      "|  1|    Beautiful Things|History of Trance...|          Andain|['progressive tra...|\n",
      "|  2|       Tranquillizer|             Further|          Geneva|['british pop', '...|\n",
      "|  3|            Big City|Take Warning: The...|    My Superhero|['ska punk', 'ska...|\n",
      "|  4|Evil (Re-Recorded...|                Evil|   Mercyful Fate|['heavy metal', '...|\n",
      "|  5|     Esperando Verte|     Esperando Verte|    Niña Pastori|['flamenco', 'bea...|\n",
      "|  6|Telephone Love De...|Rough & Ready - V...|    Shabba Ranks|['dancehall', 're...|\n",
      "|  7|           El Ghatli|              Khaled|          Khaled|['europop', 'trib...|\n",
      "|  8|      Endless Summer|      All Systems Go|      Honeyrider|['indie rock', 'o...|\n",
      "|  9|I Don't Care Who ...|         Koko Taylor|     Koko Taylor|['chicago blues',...|\n",
      "| 10| Love is for skitzos|        Skitzo mania|          Skitzo|['psychobilly', '...|\n",
      "| 11|                Hell|      In Your Honour|    Foo Fighters|['grunge', 'alter...|\n",
      "| 12|              Ataque|           Novedades|       2 Minutos|['skate punk', 's...|\n",
      "| 13|        Storm Shadow|          Chronomega|     Black Cobra|['sludge metal', ...|\n",
      "| 14|Pulsação (Para At...|            Retratos| Francisco Mário|['brazilian pop m...|\n",
      "| 15| We Killed Some Kids|          Changeling|  Clint Eastwood|['roots reggae', ...|\n",
      "| 16|Hey_ Miss Fannie ...|         The Clovers|     The Clovers|['doo-wop', 'beac...|\n",
      "| 17|           My Desire| Strength In Numbers|       24-7 Spyz|['funk metal', 'f...|\n",
      "| 18|   Muddy Water Blues|Now & Live CD 2: ...|    Paul Rodgers|['blues-rock', 'h...|\n",
      "| 19|Some Dispute Over...|Independent Worm ...|Butthole Surfers|['noise rock', 'e...|\n",
      "+---+--------------------+--------------------+----------------+--------------------+\n",
      "only showing top 20 rows\n",
      "\n"
     ]
    }
   ],
   "source": [
    "df_genre = df_in.select(['_c0','title','release','artist_name','artist_terms'])\n",
    "df_genre.show()"
   ]
  },
  {
   "cell_type": "code",
   "execution_count": 6,
   "metadata": {},
   "outputs": [
    {
     "name": "stdout",
     "output_type": "stream",
     "text": [
      "+---+--------------------+--------------------+--------------+--------------------+--------------------+\n",
      "|_c0|               title|             release|   artist_name|        artist_terms|  artist_terms_array|\n",
      "+---+--------------------+--------------------+--------------+--------------------+--------------------+\n",
      "|  0| Remember Your Heart|             Friends|Dionne Warwick|['brill building ...|['brill building ...|\n",
      "|  1|    Beautiful Things|History of Trance...|        Andain|['progressive tra...|['progressive tra...|\n",
      "|  2|       Tranquillizer|             Further|        Geneva|['british pop', '...|['british pop',  ...|\n",
      "|  3|            Big City|Take Warning: The...|  My Superhero|['ska punk', 'ska...|['ska punk',  'sk...|\n",
      "|  4|Evil (Re-Recorded...|                Evil| Mercyful Fate|['heavy metal', '...|['heavy metal',  ...|\n",
      "+---+--------------------+--------------------+--------------+--------------------+--------------------+\n",
      "only showing top 5 rows\n",
      "\n"
     ]
    }
   ],
   "source": [
    "from pyspark.sql.types import StringType, ArrayType\n",
    "from pyspark.sql.functions import udf,array_contains\n",
    "\n",
    "def spliter(x):\n",
    "    if x is not None:\n",
    "        return x[1:-1].split(\",\")\n",
    "    else:\n",
    "        return None\n",
    "c_udf = udf(spliter, ArrayType(StringType()))\n",
    "df_genre = df_genre.withColumn(\"artist_terms_array\", c_udf(\"artist_terms\")) \n",
    "df_genre.show(5)"
   ]
  },
  {
   "cell_type": "markdown",
   "metadata": {},
   "source": [
    "Checking that the string column has been converted to array column without changing the dataframe"
   ]
  },
  {
   "cell_type": "code",
   "execution_count": 7,
   "metadata": {},
   "outputs": [
    {
     "name": "stdout",
     "output_type": "stream",
     "text": [
      "+---+--------------------+--------------------+----------------+--------------------+--------------------+-----+\n",
      "|_c0|               title|             release|     artist_name|        artist_terms|  artist_terms_array|check|\n",
      "+---+--------------------+--------------------+----------------+--------------------+--------------------+-----+\n",
      "|  0| Remember Your Heart|             Friends|  Dionne Warwick|['brill building ...|['brill building ...|false|\n",
      "|  1|    Beautiful Things|History of Trance...|          Andain|['progressive tra...|['progressive tra...|false|\n",
      "|  2|       Tranquillizer|             Further|          Geneva|['british pop', '...|['british pop',  ...|false|\n",
      "|  3|            Big City|Take Warning: The...|    My Superhero|['ska punk', 'ska...|['ska punk',  'sk...| true|\n",
      "|  4|Evil (Re-Recorded...|                Evil|   Mercyful Fate|['heavy metal', '...|['heavy metal',  ...|false|\n",
      "|  5|     Esperando Verte|     Esperando Verte|    Niña Pastori|['flamenco', 'bea...|['flamenco',  'be...|false|\n",
      "|  6|Telephone Love De...|Rough & Ready - V...|    Shabba Ranks|['dancehall', 're...|['dancehall',  'r...|false|\n",
      "|  7|           El Ghatli|              Khaled|          Khaled|['europop', 'trib...|['europop',  'tri...|false|\n",
      "|  8|      Endless Summer|      All Systems Go|      Honeyrider|['indie rock', 'o...|['indie rock',  '...|false|\n",
      "|  9|I Don't Care Who ...|         Koko Taylor|     Koko Taylor|['chicago blues',...|['chicago blues',...|false|\n",
      "| 10| Love is for skitzos|        Skitzo mania|          Skitzo|['psychobilly', '...|['psychobilly',  ...|false|\n",
      "| 11|                Hell|      In Your Honour|    Foo Fighters|['grunge', 'alter...|['grunge',  'alte...|false|\n",
      "| 12|              Ataque|           Novedades|       2 Minutos|['skate punk', 's...|['skate punk',  '...|false|\n",
      "| 13|        Storm Shadow|          Chronomega|     Black Cobra|['sludge metal', ...|['sludge metal', ...|false|\n",
      "| 14|Pulsação (Para At...|            Retratos| Francisco Mário|['brazilian pop m...|['brazilian pop m...|false|\n",
      "| 15| We Killed Some Kids|          Changeling|  Clint Eastwood|['roots reggae', ...|['roots reggae', ...|false|\n",
      "| 16|Hey_ Miss Fannie ...|         The Clovers|     The Clovers|['doo-wop', 'beac...|['doo-wop',  'bea...|false|\n",
      "| 17|           My Desire| Strength In Numbers|       24-7 Spyz|['funk metal', 'f...|['funk metal',  '...|false|\n",
      "| 18|   Muddy Water Blues|Now & Live CD 2: ...|    Paul Rodgers|['blues-rock', 'h...|['blues-rock',  '...|false|\n",
      "| 19|Some Dispute Over...|Independent Worm ...|Butthole Surfers|['noise rock', 'e...|['noise rock',  '...|false|\n",
      "+---+--------------------+--------------------+----------------+--------------------+--------------------+-----+\n",
      "only showing top 20 rows\n",
      "\n"
     ]
    }
   ],
   "source": [
    "df_genre.withColumn(\"check\",array_contains(\"artist_terms_array\",\"'ska punk'\")).show()"
   ]
  },
  {
   "cell_type": "code",
   "execution_count": 8,
   "metadata": {},
   "outputs": [],
   "source": [
    "from pyspark.sql.functions import explode\n",
    "pos_g = df_genre.select(df_genre.title, explode(df_genre.artist_terms_array))"
   ]
  },
  {
   "cell_type": "code",
   "execution_count": 15,
   "metadata": {},
   "outputs": [
    {
     "name": "stdout",
     "output_type": "stream",
     "text": [
      "+---------------+\n",
      "|Distinct Genres|\n",
      "+---------------+\n",
      "|           9163|\n",
      "+---------------+\n",
      "\n"
     ]
    }
   ],
   "source": [
    "from pyspark.sql.functions import countDistinct, avg, stddev,desc\n",
    "pos_g.select(countDistinct('col').alias(\"Distinct Genres\")).show()"
   ]
  },
  {
   "cell_type": "code",
   "execution_count": 28,
   "metadata": {},
   "outputs": [],
   "source": [
    "genres = pos_g.groupBy('col').count()"
   ]
  },
  {
   "cell_type": "code",
   "execution_count": 29,
   "metadata": {},
   "outputs": [
    {
     "name": "stderr",
     "output_type": "stream",
     "text": [
      "/home/hadoop/miniconda/lib/python3.7/site-packages/pyarrow/util.py:39: FutureWarning: pyarrow.open_stream is deprecated as of 0.17.0, please use pyarrow.ipc.open_stream instead\n",
      "  warnings.warn(msg, FutureWarning)\n"
     ]
    }
   ],
   "source": [
    "genres_pan = genres.toPandas()\n",
    "gen_dict = genres_pan.to_dict()"
   ]
  },
  {
   "cell_type": "markdown",
   "metadata": {},
   "source": [
    "please install the wordcloud library for this to work"
   ]
  },
  {
   "cell_type": "code",
   "execution_count": 30,
   "metadata": {},
   "outputs": [
    {
     "ename": "TypeError",
     "evalue": "'<' not supported between instances of 'dict' and 'dict'",
     "output_type": "error",
     "traceback": [
      "\u001b[0;31m---------------------------------------------------------------------------\u001b[0m",
      "\u001b[0;31mTypeError\u001b[0m                                 Traceback (most recent call last)",
      "\u001b[0;32m<ipython-input-30-ad7979cb7ff4>\u001b[0m in \u001b[0;36m<module>\u001b[0;34m\u001b[0m\n\u001b[1;32m      3\u001b[0m \u001b[0;34m\u001b[0m\u001b[0m\n\u001b[1;32m      4\u001b[0m \u001b[0mwordcloud\u001b[0m \u001b[0;34m=\u001b[0m \u001b[0mWordCloud\u001b[0m\u001b[0;34m(\u001b[0m\u001b[0mbackground_color\u001b[0m\u001b[0;34m=\u001b[0m\u001b[0;34m\"white\"\u001b[0m\u001b[0;34m,\u001b[0m \u001b[0mmax_font_size\u001b[0m\u001b[0;34m=\u001b[0m\u001b[0;36m40\u001b[0m\u001b[0;34m)\u001b[0m\u001b[0;34m\u001b[0m\u001b[0;34m\u001b[0m\u001b[0m\n\u001b[0;32m----> 5\u001b[0;31m \u001b[0mwordcloud\u001b[0m\u001b[0;34m.\u001b[0m\u001b[0mfit_words\u001b[0m\u001b[0;34m(\u001b[0m\u001b[0mgen_dict\u001b[0m\u001b[0;34m)\u001b[0m\u001b[0;34m\u001b[0m\u001b[0;34m\u001b[0m\u001b[0m\n\u001b[0m\u001b[1;32m      6\u001b[0m \u001b[0mplt\u001b[0m\u001b[0;34m.\u001b[0m\u001b[0mimshow\u001b[0m\u001b[0;34m(\u001b[0m\u001b[0mwordcloud\u001b[0m\u001b[0;34m)\u001b[0m\u001b[0;34m\u001b[0m\u001b[0;34m\u001b[0m\u001b[0m\n\u001b[1;32m      7\u001b[0m \u001b[0mplt\u001b[0m\u001b[0;34m.\u001b[0m\u001b[0maxis\u001b[0m\u001b[0;34m(\u001b[0m\u001b[0;34m\"off\"\u001b[0m\u001b[0;34m)\u001b[0m\u001b[0;34m\u001b[0m\u001b[0;34m\u001b[0m\u001b[0m\n",
      "\u001b[0;32m~/miniconda/lib/python3.7/site-packages/wordcloud/wordcloud.py\u001b[0m in \u001b[0;36mfit_words\u001b[0;34m(self, frequencies)\u001b[0m\n\u001b[1;32m    367\u001b[0m         \u001b[0mself\u001b[0m\u001b[0;34m\u001b[0m\u001b[0;34m\u001b[0m\u001b[0m\n\u001b[1;32m    368\u001b[0m         \"\"\"\n\u001b[0;32m--> 369\u001b[0;31m         \u001b[0;32mreturn\u001b[0m \u001b[0mself\u001b[0m\u001b[0;34m.\u001b[0m\u001b[0mgenerate_from_frequencies\u001b[0m\u001b[0;34m(\u001b[0m\u001b[0mfrequencies\u001b[0m\u001b[0;34m)\u001b[0m\u001b[0;34m\u001b[0m\u001b[0;34m\u001b[0m\u001b[0m\n\u001b[0m\u001b[1;32m    370\u001b[0m \u001b[0;34m\u001b[0m\u001b[0m\n\u001b[1;32m    371\u001b[0m     \u001b[0;32mdef\u001b[0m \u001b[0mgenerate_from_frequencies\u001b[0m\u001b[0;34m(\u001b[0m\u001b[0mself\u001b[0m\u001b[0;34m,\u001b[0m \u001b[0mfrequencies\u001b[0m\u001b[0;34m,\u001b[0m \u001b[0mmax_font_size\u001b[0m\u001b[0;34m=\u001b[0m\u001b[0;32mNone\u001b[0m\u001b[0;34m)\u001b[0m\u001b[0;34m:\u001b[0m  \u001b[0;31m# noqa: C901\u001b[0m\u001b[0;34m\u001b[0m\u001b[0;34m\u001b[0m\u001b[0m\n",
      "\u001b[0;32m~/miniconda/lib/python3.7/site-packages/wordcloud/wordcloud.py\u001b[0m in \u001b[0;36mgenerate_from_frequencies\u001b[0;34m(self, frequencies, max_font_size)\u001b[0m\n\u001b[1;32m    386\u001b[0m         \"\"\"\n\u001b[1;32m    387\u001b[0m         \u001b[0;31m# make sure frequencies are sorted and normalized\u001b[0m\u001b[0;34m\u001b[0m\u001b[0;34m\u001b[0m\u001b[0;34m\u001b[0m\u001b[0m\n\u001b[0;32m--> 388\u001b[0;31m         \u001b[0mfrequencies\u001b[0m \u001b[0;34m=\u001b[0m \u001b[0msorted\u001b[0m\u001b[0;34m(\u001b[0m\u001b[0mfrequencies\u001b[0m\u001b[0;34m.\u001b[0m\u001b[0mitems\u001b[0m\u001b[0;34m(\u001b[0m\u001b[0;34m)\u001b[0m\u001b[0;34m,\u001b[0m \u001b[0mkey\u001b[0m\u001b[0;34m=\u001b[0m\u001b[0mitemgetter\u001b[0m\u001b[0;34m(\u001b[0m\u001b[0;36m1\u001b[0m\u001b[0;34m)\u001b[0m\u001b[0;34m,\u001b[0m \u001b[0mreverse\u001b[0m\u001b[0;34m=\u001b[0m\u001b[0;32mTrue\u001b[0m\u001b[0;34m)\u001b[0m\u001b[0;34m\u001b[0m\u001b[0;34m\u001b[0m\u001b[0m\n\u001b[0m\u001b[1;32m    389\u001b[0m         \u001b[0;32mif\u001b[0m \u001b[0mlen\u001b[0m\u001b[0;34m(\u001b[0m\u001b[0mfrequencies\u001b[0m\u001b[0;34m)\u001b[0m \u001b[0;34m<=\u001b[0m \u001b[0;36m0\u001b[0m\u001b[0;34m:\u001b[0m\u001b[0;34m\u001b[0m\u001b[0;34m\u001b[0m\u001b[0m\n\u001b[1;32m    390\u001b[0m             raise ValueError(\"We need at least 1 word to plot a word cloud, \"\n",
      "\u001b[0;31mTypeError\u001b[0m: '<' not supported between instances of 'dict' and 'dict'"
     ]
    }
   ],
   "source": [
    "from wordcloud import WordCloud, STOPWORDS\n",
    "import matplotlib.pyplot as plt\n",
    "\n",
    "wordcloud = WordCloud(background_color=\"white\", max_font_size=40)\n",
    "wordcloud.fit_words(gen_dict)\n",
    "plt.imshow(wordcloud)\n",
    "plt.axis(\"off\")\n",
    "plt.show()"
   ]
  },
  {
   "cell_type": "code",
   "execution_count": null,
   "metadata": {},
   "outputs": [],
   "source": []
  }
 ],
 "metadata": {
  "kernelspec": {
   "display_name": "Python 3",
   "language": "python",
   "name": "python3"
  },
  "language_info": {
   "codemirror_mode": {
    "name": "ipython",
    "version": 3
   },
   "file_extension": ".py",
   "mimetype": "text/x-python",
   "name": "python",
   "nbconvert_exporter": "python",
   "pygments_lexer": "ipython3",
   "version": "3.7.6"
  }
 },
 "nbformat": 4,
 "nbformat_minor": 4
}
